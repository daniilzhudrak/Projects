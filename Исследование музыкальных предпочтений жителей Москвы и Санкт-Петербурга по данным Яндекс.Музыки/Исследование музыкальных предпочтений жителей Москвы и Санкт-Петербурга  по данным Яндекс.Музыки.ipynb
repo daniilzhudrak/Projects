{
 "cells": [
  {
   "cell_type": "markdown",
   "metadata": {
    "id": "E0vqbgi9ay0H"
   },
   "source": [
    "# Яндекс.Музыка"
   ]
  },
  {
   "cell_type": "markdown",
   "metadata": {
    "id": "VUC88oWjTJw2"
   },
   "source": [
    "Сравнение Москвы и Петербурга окружено мифами. Например:\n",
    " * Москва — мегаполис, подчинённый жёсткому ритму рабочей недели;\n",
    " * Петербург — культурная столица, со своими вкусами.\n",
    "\n",
    "На данных Яндекс.Музыки вы сравните поведение пользователей двух столиц.\n",
    "\n",
    "**Цель исследования** — проверьте три гипотезы:\n",
    "1. Активность пользователей зависит от дня недели. Причём в Москве и Петербурге это проявляется по-разному.\n",
    "2. В понедельник утром в Москве преобладают одни жанры, а в Петербурге — другие. Так же и вечером пятницы преобладают разные жанры — в зависимости от города. \n",
    "3. Москва и Петербург предпочитают разные жанры музыки. В Москве чаще слушают поп-музыку, в Петербурге — русский рэп.\n",
    "\n",
    "**Ход исследования**\n",
    "\n",
    "Данные о поведении пользователей вы получите из файла `yandex_music_project.csv`. О качестве данных ничего не известно. Поэтому перед проверкой гипотез понадобится обзор данных. \n",
    "\n",
    "Вы проверите данные на ошибки и оцените их влияние на исследование. Затем, на этапе предобработки вы поищете возможность исправить самые критичные ошибки данных.\n",
    " \n",
    "Таким образом, исследование пройдёт в три этапа:\n",
    " 1. Обзор данных.\n",
    " 2. Предобработка данных.\n",
    " 3. Проверка гипотез.\n",
    "\n"
   ]
  },
  {
   "cell_type": "markdown",
   "metadata": {
    "id": "Ml1hmfXC_Zcs"
   },
   "source": [
    "## Обзор данных\n",
    "\n",
    "Составьте первое представление о данных Яндекс.Музыки.\n",
    "\n",
    "\n"
   ]
  },
  {
   "cell_type": "markdown",
   "metadata": {
    "id": "57eAOGIz_Zcs"
   },
   "source": [
    "Основной инструмент аналитика — `pandas`. Импортируйте эту библиотеку."
   ]
  },
  {
   "cell_type": "code",
   "execution_count": 1,
   "metadata": {
    "id": "AXN7PHPN_Zcs"
   },
   "outputs": [],
   "source": [
    "# импорт библиотеки pandas\n",
    "import pandas as pd"
   ]
  },
  {
   "cell_type": "markdown",
   "metadata": {
    "id": "SG23P8tt_Zcs"
   },
   "source": [
    "Прочитайте файл `yandex_music_project.csv` из папки `/datasets` и сохраните его в переменной `df`:"
   ]
  },
  {
   "cell_type": "code",
   "execution_count": 2,
   "metadata": {
    "id": "fFVu7vqh_Zct"
   },
   "outputs": [],
   "source": [
    "# чтение файла с данными и сохранение в df\n",
    "df = pd.read_csv('/datasets/yandex_music_project.csv')"
   ]
  },
  {
   "cell_type": "markdown",
   "metadata": {
    "id": "rDoOMd3uTqnZ"
   },
   "source": [
    "Выведите на экран первые десять строк таблицы:"
   ]
  },
  {
   "cell_type": "code",
   "execution_count": 3,
   "metadata": {
    "id": "oWTVX3gW_Zct"
   },
   "outputs": [
    {
     "data": {
      "text/html": [
       "<div>\n",
       "<style scoped>\n",
       "    .dataframe tbody tr th:only-of-type {\n",
       "        vertical-align: middle;\n",
       "    }\n",
       "\n",
       "    .dataframe tbody tr th {\n",
       "        vertical-align: top;\n",
       "    }\n",
       "\n",
       "    .dataframe thead th {\n",
       "        text-align: right;\n",
       "    }\n",
       "</style>\n",
       "<table border=\"1\" class=\"dataframe\">\n",
       "  <thead>\n",
       "    <tr style=\"text-align: right;\">\n",
       "      <th></th>\n",
       "      <th>userID</th>\n",
       "      <th>Track</th>\n",
       "      <th>artist</th>\n",
       "      <th>genre</th>\n",
       "      <th>City</th>\n",
       "      <th>time</th>\n",
       "      <th>Day</th>\n",
       "    </tr>\n",
       "  </thead>\n",
       "  <tbody>\n",
       "    <tr>\n",
       "      <td>0</td>\n",
       "      <td>FFB692EC</td>\n",
       "      <td>Kamigata To Boots</td>\n",
       "      <td>The Mass Missile</td>\n",
       "      <td>rock</td>\n",
       "      <td>Saint-Petersburg</td>\n",
       "      <td>20:28:33</td>\n",
       "      <td>Wednesday</td>\n",
       "    </tr>\n",
       "    <tr>\n",
       "      <td>1</td>\n",
       "      <td>55204538</td>\n",
       "      <td>Delayed Because of Accident</td>\n",
       "      <td>Andreas Rönnberg</td>\n",
       "      <td>rock</td>\n",
       "      <td>Moscow</td>\n",
       "      <td>14:07:09</td>\n",
       "      <td>Friday</td>\n",
       "    </tr>\n",
       "    <tr>\n",
       "      <td>2</td>\n",
       "      <td>20EC38</td>\n",
       "      <td>Funiculì funiculà</td>\n",
       "      <td>Mario Lanza</td>\n",
       "      <td>pop</td>\n",
       "      <td>Saint-Petersburg</td>\n",
       "      <td>20:58:07</td>\n",
       "      <td>Wednesday</td>\n",
       "    </tr>\n",
       "    <tr>\n",
       "      <td>3</td>\n",
       "      <td>A3DD03C9</td>\n",
       "      <td>Dragons in the Sunset</td>\n",
       "      <td>Fire + Ice</td>\n",
       "      <td>folk</td>\n",
       "      <td>Saint-Petersburg</td>\n",
       "      <td>08:37:09</td>\n",
       "      <td>Monday</td>\n",
       "    </tr>\n",
       "    <tr>\n",
       "      <td>4</td>\n",
       "      <td>E2DC1FAE</td>\n",
       "      <td>Soul People</td>\n",
       "      <td>Space Echo</td>\n",
       "      <td>dance</td>\n",
       "      <td>Moscow</td>\n",
       "      <td>08:34:34</td>\n",
       "      <td>Monday</td>\n",
       "    </tr>\n",
       "    <tr>\n",
       "      <td>5</td>\n",
       "      <td>842029A1</td>\n",
       "      <td>Преданная</td>\n",
       "      <td>IMPERVTOR</td>\n",
       "      <td>rusrap</td>\n",
       "      <td>Saint-Petersburg</td>\n",
       "      <td>13:09:41</td>\n",
       "      <td>Friday</td>\n",
       "    </tr>\n",
       "    <tr>\n",
       "      <td>6</td>\n",
       "      <td>4CB90AA5</td>\n",
       "      <td>True</td>\n",
       "      <td>Roman Messer</td>\n",
       "      <td>dance</td>\n",
       "      <td>Moscow</td>\n",
       "      <td>13:00:07</td>\n",
       "      <td>Wednesday</td>\n",
       "    </tr>\n",
       "    <tr>\n",
       "      <td>7</td>\n",
       "      <td>F03E1C1F</td>\n",
       "      <td>Feeling This Way</td>\n",
       "      <td>Polina Griffith</td>\n",
       "      <td>dance</td>\n",
       "      <td>Moscow</td>\n",
       "      <td>20:47:49</td>\n",
       "      <td>Wednesday</td>\n",
       "    </tr>\n",
       "    <tr>\n",
       "      <td>8</td>\n",
       "      <td>8FA1D3BE</td>\n",
       "      <td>И вновь продолжается бой</td>\n",
       "      <td>NaN</td>\n",
       "      <td>ruspop</td>\n",
       "      <td>Moscow</td>\n",
       "      <td>09:17:40</td>\n",
       "      <td>Friday</td>\n",
       "    </tr>\n",
       "    <tr>\n",
       "      <td>9</td>\n",
       "      <td>E772D5C0</td>\n",
       "      <td>Pessimist</td>\n",
       "      <td>NaN</td>\n",
       "      <td>dance</td>\n",
       "      <td>Saint-Petersburg</td>\n",
       "      <td>21:20:49</td>\n",
       "      <td>Wednesday</td>\n",
       "    </tr>\n",
       "  </tbody>\n",
       "</table>\n",
       "</div>"
      ],
      "text/plain": [
       "     userID                        Track            artist   genre  \\\n",
       "0  FFB692EC            Kamigata To Boots  The Mass Missile    rock   \n",
       "1  55204538  Delayed Because of Accident  Andreas Rönnberg    rock   \n",
       "2    20EC38            Funiculì funiculà       Mario Lanza     pop   \n",
       "3  A3DD03C9        Dragons in the Sunset        Fire + Ice    folk   \n",
       "4  E2DC1FAE                  Soul People        Space Echo   dance   \n",
       "5  842029A1                    Преданная         IMPERVTOR  rusrap   \n",
       "6  4CB90AA5                         True      Roman Messer   dance   \n",
       "7  F03E1C1F             Feeling This Way   Polina Griffith   dance   \n",
       "8  8FA1D3BE     И вновь продолжается бой               NaN  ruspop   \n",
       "9  E772D5C0                    Pessimist               NaN   dance   \n",
       "\n",
       "             City        time        Day  \n",
       "0  Saint-Petersburg  20:28:33  Wednesday  \n",
       "1            Moscow  14:07:09     Friday  \n",
       "2  Saint-Petersburg  20:58:07  Wednesday  \n",
       "3  Saint-Petersburg  08:37:09     Monday  \n",
       "4            Moscow  08:34:34     Monday  \n",
       "5  Saint-Petersburg  13:09:41     Friday  \n",
       "6            Moscow  13:00:07  Wednesday  \n",
       "7            Moscow  20:47:49  Wednesday  \n",
       "8            Moscow  09:17:40     Friday  \n",
       "9  Saint-Petersburg  21:20:49  Wednesday  "
      ]
     },
     "execution_count": 3,
     "metadata": {},
     "output_type": "execute_result"
    }
   ],
   "source": [
    "# получение первых 10 строк таблицы df\n",
    "df.head(10)"
   ]
  },
  {
   "cell_type": "markdown",
   "metadata": {
    "id": "EO73Kwic_Zct"
   },
   "source": [
    "Одной командой получить общую информацию о таблице:"
   ]
  },
  {
   "cell_type": "code",
   "execution_count": 5,
   "metadata": {
    "id": "DSf2kIb-_Zct"
   },
   "outputs": [
    {
     "name": "stdout",
     "output_type": "stream",
     "text": [
      "<class 'pandas.core.frame.DataFrame'>\n",
      "RangeIndex: 65079 entries, 0 to 65078\n",
      "Data columns (total 7 columns):\n",
      "  userID    65079 non-null object\n",
      "Track       63848 non-null object\n",
      "artist      57876 non-null object\n",
      "genre       63881 non-null object\n",
      "  City      65079 non-null object\n",
      "time        65079 non-null object\n",
      "Day         65079 non-null object\n",
      "dtypes: object(7)\n",
      "memory usage: 3.5+ MB\n"
     ]
    }
   ],
   "source": [
    "# получение общей информации о данных в таблице df\n",
    "df.info()"
   ]
  },
  {
   "cell_type": "markdown",
   "metadata": {
    "id": "TaQ2Iwbr_Zct"
   },
   "source": [
    "Итак, в таблице семь столбцов. Тип данных во всех столбцах — `object`.\n",
    "\n",
    "Согласно документации к данным:\n",
    "* `userID` — идентификатор пользователя;\n",
    "* `Track` — название трека;  \n",
    "* `artist` — имя исполнителя;\n",
    "* `genre` — название жанра;\n",
    "* `City` — город пользователя;\n",
    "* `time` — время начала прослушивания;\n",
    "* `Day` — день недели.\n",
    "\n",
    "В названиях колонок видны три нарушения стиля:\n",
    "1. Строчные буквы сочетаются с прописными.\n",
    "2. Встречаются пробелы.\n",
    "3. Найдите ещё одну проблему в названии колонок и опишите её в этом пункте.\n",
    "   Встречается название, которое не соответствует \"змеиному_регистру\".\n",
    "\n",
    "Количество значений в столбцах различается. Значит, в данных есть пропущенные значения."
   ]
  },
  {
   "cell_type": "markdown",
   "metadata": {
    "id": "MCB6-dXG_Zct"
   },
   "source": [
    "**Выводы**\n",
    "\n",
    "В каждой строке таблицы — данные о прослушанном треке. Часть колонок описывает саму композицию: название, исполнителя и жанр. Остальные данные рассказывают о пользователе: из какого он города, когда он слушал музыку. \n",
    "\n",
    "Предварительно можно утверждать, что, данных достаточно для проверки гипотез. Но встречаются пропуски в данных, а в названиях колонок — расхождения с хорошим стилем.\n",
    "\n",
    "Чтобы двигаться дальше, нужно устранить проблемы в данных."
   ]
  },
  {
   "cell_type": "markdown",
   "metadata": {
    "id": "SjYF6Ub9_Zct"
   },
   "source": [
    "## Предобработка данных\n",
    "Исправьте стиль в заголовках столбцов, исключите пропуски. Затем проверьте данные на дубликаты."
   ]
  },
  {
   "cell_type": "markdown",
   "metadata": {
    "id": "dIaKXr29_Zct"
   },
   "source": [
    "### Стиль заголовков\n",
    "Выведите на экран названия столбцов:"
   ]
  },
  {
   "cell_type": "code",
   "execution_count": 6,
   "metadata": {
    "id": "oKOTdF_Q_Zct"
   },
   "outputs": [
    {
     "data": {
      "text/plain": [
       "Index(['  userID', 'Track', 'artist', 'genre', '  City  ', 'time', 'Day'], dtype='object')"
      ]
     },
     "execution_count": 6,
     "metadata": {},
     "output_type": "execute_result"
    }
   ],
   "source": [
    "# перечень названий столбцов таблицы df\n",
    "df.columns"
   ]
  },
  {
   "cell_type": "markdown",
   "metadata": {
    "id": "zj5534cv_Zct"
   },
   "source": [
    "Приведите названия в соответствие с хорошим стилем:\n",
    "* несколько слов в названии запишите в «змеином_регистре»,\n",
    "* все символы сделайте строчными,\n",
    "* устраните пробелы.\n",
    "\n",
    "Для этого переименуйте колонки так:\n",
    "* `'  userID'` → `'user_id'`;\n",
    "* `'Track'` → `'track'`;\n",
    "* `'  City  '` → `'city'`;\n",
    "* `'Day'` → `'day'`."
   ]
  },
  {
   "cell_type": "code",
   "execution_count": 7,
   "metadata": {
    "id": "ISlFqs5y_Zct"
   },
   "outputs": [],
   "source": [
    "# переименование столбцов\n",
    "df = df.rename(columns = {'  userID' : 'user_id', 'Track' : 'track', '  City  ' : 'city', 'Day' : 'day'})"
   ]
  },
  {
   "cell_type": "markdown",
   "metadata": {
    "id": "1dqbh00J_Zct"
   },
   "source": [
    "Проверьте результат. Для этого ещё раз выведите на экран названия столбцов:"
   ]
  },
  {
   "cell_type": "code",
   "execution_count": 8,
   "metadata": {
    "id": "d4NOAmTW_Zct"
   },
   "outputs": [
    {
     "data": {
      "text/plain": [
       "Index(['user_id', 'track', 'artist', 'genre', 'city', 'time', 'day'], dtype='object')"
      ]
     },
     "execution_count": 8,
     "metadata": {},
     "output_type": "execute_result"
    }
   ],
   "source": [
    "# проверка результатов - перечень названий столбцов\n",
    "df.columns"
   ]
  },
  {
   "cell_type": "code",
   "execution_count": 9,
   "metadata": {},
   "outputs": [
    {
     "name": "stdout",
     "output_type": "stream",
     "text": [
      "<class 'pandas.core.frame.DataFrame'>\n",
      "RangeIndex: 65079 entries, 0 to 65078\n",
      "Data columns (total 7 columns):\n",
      "user_id    65079 non-null object\n",
      "track      63848 non-null object\n",
      "artist     57876 non-null object\n",
      "genre      63881 non-null object\n",
      "city       65079 non-null object\n",
      "time       65079 non-null object\n",
      "day        65079 non-null object\n",
      "dtypes: object(7)\n",
      "memory usage: 3.5+ MB\n"
     ]
    }
   ],
   "source": [
    "df.info()"
   ]
  },
  {
   "cell_type": "markdown",
   "metadata": {
    "id": "5ISfbcfY_Zct"
   },
   "source": [
    "### Пропуски значений\n",
    "Сначала посчитайте, сколько в таблице пропущенных значений. Для этого достаточно двух методов `pandas`:"
   ]
  },
  {
   "cell_type": "code",
   "execution_count": 10,
   "metadata": {
    "id": "RskX29qr_Zct",
    "scrolled": true
   },
   "outputs": [
    {
     "data": {
      "text/html": [
       "<div>\n",
       "<style scoped>\n",
       "    .dataframe tbody tr th:only-of-type {\n",
       "        vertical-align: middle;\n",
       "    }\n",
       "\n",
       "    .dataframe tbody tr th {\n",
       "        vertical-align: top;\n",
       "    }\n",
       "\n",
       "    .dataframe thead th {\n",
       "        text-align: right;\n",
       "    }\n",
       "</style>\n",
       "<table border=\"1\" class=\"dataframe\">\n",
       "  <thead>\n",
       "    <tr style=\"text-align: right;\">\n",
       "      <th></th>\n",
       "      <th>0</th>\n",
       "    </tr>\n",
       "  </thead>\n",
       "  <tbody>\n",
       "    <tr>\n",
       "      <td>user_id</td>\n",
       "      <td>0</td>\n",
       "    </tr>\n",
       "    <tr>\n",
       "      <td>track</td>\n",
       "      <td>1231</td>\n",
       "    </tr>\n",
       "    <tr>\n",
       "      <td>artist</td>\n",
       "      <td>7203</td>\n",
       "    </tr>\n",
       "    <tr>\n",
       "      <td>genre</td>\n",
       "      <td>1198</td>\n",
       "    </tr>\n",
       "    <tr>\n",
       "      <td>city</td>\n",
       "      <td>0</td>\n",
       "    </tr>\n",
       "    <tr>\n",
       "      <td>time</td>\n",
       "      <td>0</td>\n",
       "    </tr>\n",
       "    <tr>\n",
       "      <td>day</td>\n",
       "      <td>0</td>\n",
       "    </tr>\n",
       "  </tbody>\n",
       "</table>\n",
       "</div>"
      ],
      "text/plain": [
       "            0\n",
       "user_id     0\n",
       "track    1231\n",
       "artist   7203\n",
       "genre    1198\n",
       "city        0\n",
       "time        0\n",
       "day         0"
      ]
     },
     "execution_count": 10,
     "metadata": {},
     "output_type": "execute_result"
    }
   ],
   "source": [
    "# подсчёт пропусков\n",
    "df.isna().sum().to_frame()"
   ]
  },
  {
   "cell_type": "markdown",
   "metadata": {
    "id": "qubhgnlO_Zct"
   },
   "source": [
    "Не все пропущенные значения влияют на исследование. Так в `track` и `artist` пропуски не важны для вашей работы. Достаточно заменить их явными обозначениями.\n",
    "\n",
    "Но пропуски в `genre` могут помешать сравнению музыкальных вкусов в Москве и Санкт-Петербурге. На практике было бы правильно установить причину пропусков и восстановить данные. Такой возможности нет в учебном проекте. Придётся:\n",
    "* заполнить и эти пропуски явными обозначениями,\n",
    "* оценить, насколько они повредят расчётам. "
   ]
  },
  {
   "cell_type": "markdown",
   "metadata": {
    "id": "fSv2laPA_Zct"
   },
   "source": [
    "Замените пропущенные значения в столбцах `track`, `artist` и `genre` на строку `'unknown'`. Для этого создайте список `columns_to_replace`, переберите его элементы циклом `for` и для каждого столбца выполните замену пропущенных значений:"
   ]
  },
  {
   "cell_type": "code",
   "execution_count": 11,
   "metadata": {
    "id": "KplB5qWs_Zct"
   },
   "outputs": [],
   "source": [
    "# перебор названий столбцов в цикле и замена пропущенных значений на 'unknown'\n",
    "columns_to_replace = ['track', 'artist', 'genre']\n",
    "for column in columns_to_replace:\n",
    "    df[column] = df[column].fillna('unknown')"
   ]
  },
  {
   "cell_type": "markdown",
   "metadata": {
    "id": "Ilsm-MZo_Zct"
   },
   "source": [
    "Убедитесь, что в таблице не осталось пропусков. Для этого ещё раз посчитайте пропущенные значения."
   ]
  },
  {
   "cell_type": "code",
   "execution_count": 12,
   "metadata": {
    "id": "Tq4nYRX4_Zct",
    "scrolled": true
   },
   "outputs": [
    {
     "data": {
      "text/html": [
       "<div>\n",
       "<style scoped>\n",
       "    .dataframe tbody tr th:only-of-type {\n",
       "        vertical-align: middle;\n",
       "    }\n",
       "\n",
       "    .dataframe tbody tr th {\n",
       "        vertical-align: top;\n",
       "    }\n",
       "\n",
       "    .dataframe thead th {\n",
       "        text-align: right;\n",
       "    }\n",
       "</style>\n",
       "<table border=\"1\" class=\"dataframe\">\n",
       "  <thead>\n",
       "    <tr style=\"text-align: right;\">\n",
       "      <th></th>\n",
       "      <th>0</th>\n",
       "    </tr>\n",
       "  </thead>\n",
       "  <tbody>\n",
       "    <tr>\n",
       "      <td>track</td>\n",
       "      <td>0</td>\n",
       "    </tr>\n",
       "    <tr>\n",
       "      <td>artist</td>\n",
       "      <td>0</td>\n",
       "    </tr>\n",
       "    <tr>\n",
       "      <td>genre</td>\n",
       "      <td>0</td>\n",
       "    </tr>\n",
       "  </tbody>\n",
       "</table>\n",
       "</div>"
      ],
      "text/plain": [
       "        0\n",
       "track   0\n",
       "artist  0\n",
       "genre   0"
      ]
     },
     "execution_count": 12,
     "metadata": {},
     "output_type": "execute_result"
    }
   ],
   "source": [
    "# подсчёт пропусков\n",
    "df[['track', 'artist', 'genre']].isna().sum().to_frame()"
   ]
  },
  {
   "cell_type": "markdown",
   "metadata": {
    "id": "BWKRtBJ3_Zct"
   },
   "source": [
    "### Дубликаты\n",
    "Посчитайте явные дубликаты в таблице одной командой:"
   ]
  },
  {
   "cell_type": "code",
   "execution_count": 13,
   "metadata": {
    "id": "36eES_S0_Zct"
   },
   "outputs": [
    {
     "data": {
      "text/plain": [
       "3826"
      ]
     },
     "execution_count": 13,
     "metadata": {},
     "output_type": "execute_result"
    }
   ],
   "source": [
    "# подсчёт явных дубликатов\n",
    "df.duplicated().sum()"
   ]
  },
  {
   "cell_type": "markdown",
   "metadata": {
    "id": "Ot25h6XR_Zct"
   },
   "source": [
    "Вызовите специальный метод `pandas`, чтобы удалить явные дубликаты:"
   ]
  },
  {
   "cell_type": "code",
   "execution_count": 14,
   "metadata": {
    "id": "exFHq6tt_Zct"
   },
   "outputs": [],
   "source": [
    "# удаление явных дубликатов (с удалением старых индексов и формированием новых)\n",
    "df = df.drop_duplicates().reset_index(drop = True)"
   ]
  },
  {
   "cell_type": "markdown",
   "metadata": {
    "id": "Im2YwBEG_Zct"
   },
   "source": [
    "Ещё раз посчитайте явные дубликаты в таблице — убедитесь, что полностью от них избавились:"
   ]
  },
  {
   "cell_type": "code",
   "execution_count": 15,
   "metadata": {
    "id": "-8PuNWQ0_Zct"
   },
   "outputs": [
    {
     "data": {
      "text/plain": [
       "0"
      ]
     },
     "execution_count": 15,
     "metadata": {},
     "output_type": "execute_result"
    }
   ],
   "source": [
    "# проверка на отсутствие дубликатов\n",
    "df.duplicated().sum()"
   ]
  },
  {
   "cell_type": "markdown",
   "metadata": {
    "id": "QlFBsxAr_Zct"
   },
   "source": [
    "Теперь избавьтесь от неявных дубликатов в колонке `genre`. Например, название одного и того же жанра может быть записано немного по-разному. Такие ошибки тоже повлияют на результат исследования."
   ]
  },
  {
   "cell_type": "markdown",
   "metadata": {
    "id": "eSjWwsOh_Zct"
   },
   "source": [
    "Выведите на экран список уникальных названий жанров, отсортированный в алфавитном порядке. Для этого:\n",
    "* извлеките нужный столбец датафрейма, \n",
    "* примените к нему метод сортировки,\n",
    "* для отсортированного столбца вызовите метод, который вернёт уникальные значения из столбца."
   ]
  },
  {
   "cell_type": "code",
   "execution_count": 16,
   "metadata": {
    "id": "JIUcqzZN_Zct"
   },
   "outputs": [
    {
     "data": {
      "text/plain": [
       "array(['acid', 'acoustic', 'action', 'adult', 'africa', 'afrikaans',\n",
       "       'alternative', 'alternativepunk', 'ambient', 'americana',\n",
       "       'animated', 'anime', 'arabesk', 'arabic', 'arena',\n",
       "       'argentinetango', 'art', 'audiobook', 'author', 'avantgarde',\n",
       "       'axé', 'baile', 'balkan', 'beats', 'bigroom', 'black', 'bluegrass',\n",
       "       'blues', 'bollywood', 'bossa', 'brazilian', 'breakbeat', 'breaks',\n",
       "       'broadway', 'cantautori', 'cantopop', 'canzone', 'caribbean',\n",
       "       'caucasian', 'celtic', 'chamber', 'chanson', 'children', 'chill',\n",
       "       'chinese', 'choral', 'christian', 'christmas', 'classical',\n",
       "       'classicmetal', 'club', 'colombian', 'comedy', 'conjazz',\n",
       "       'contemporary', 'country', 'cuban', 'dance', 'dancehall',\n",
       "       'dancepop', 'dark', 'death', 'deep', 'deutschrock', 'deutschspr',\n",
       "       'dirty', 'disco', 'dnb', 'documentary', 'downbeat', 'downtempo',\n",
       "       'drum', 'dub', 'dubstep', 'eastern', 'easy', 'electronic',\n",
       "       'electropop', 'emo', 'entehno', 'epicmetal', 'estrada', 'ethnic',\n",
       "       'eurofolk', 'european', 'experimental', 'extrememetal', 'fado',\n",
       "       'fairytail', 'film', 'fitness', 'flamenco', 'folk', 'folklore',\n",
       "       'folkmetal', 'folkrock', 'folktronica', 'forró', 'frankreich',\n",
       "       'französisch', 'french', 'funk', 'future', 'gangsta', 'garage',\n",
       "       'german', 'ghazal', 'gitarre', 'glitch', 'gospel', 'gothic',\n",
       "       'grime', 'grunge', 'gypsy', 'handsup', \"hard'n'heavy\", 'hardcore',\n",
       "       'hardstyle', 'hardtechno', 'hip', 'hip-hop', 'hiphop',\n",
       "       'historisch', 'holiday', 'hop', 'horror', 'house', 'hymn', 'idm',\n",
       "       'independent', 'indian', 'indie', 'indipop', 'industrial',\n",
       "       'inspirational', 'instrumental', 'international', 'irish', 'jam',\n",
       "       'japanese', 'jazz', 'jewish', 'jpop', 'jungle', 'k-pop',\n",
       "       'karadeniz', 'karaoke', 'kayokyoku', 'korean', 'laiko', 'latin',\n",
       "       'latino', 'leftfield', 'local', 'lounge', 'loungeelectronic',\n",
       "       'lovers', 'malaysian', 'mandopop', 'marschmusik', 'meditative',\n",
       "       'mediterranean', 'melodic', 'metal', 'metalcore', 'mexican',\n",
       "       'middle', 'minimal', 'miscellaneous', 'modern', 'mood', 'mpb',\n",
       "       'muslim', 'native', 'neoklassik', 'neue', 'new', 'newage',\n",
       "       'newwave', 'nu', 'nujazz', 'numetal', 'oceania', 'old', 'opera',\n",
       "       'orchestral', 'other', 'piano', 'podcasts', 'pop', 'popdance',\n",
       "       'popelectronic', 'popeurodance', 'poprussian', 'post',\n",
       "       'posthardcore', 'postrock', 'power', 'progmetal', 'progressive',\n",
       "       'psychedelic', 'punjabi', 'punk', 'quebecois', 'ragga', 'ram',\n",
       "       'rancheras', 'rap', 'rave', 'reggae', 'reggaeton', 'regional',\n",
       "       'relax', 'religious', 'retro', 'rhythm', 'rnb', 'rnr', 'rock',\n",
       "       'rockabilly', 'rockalternative', 'rockindie', 'rockother',\n",
       "       'romance', 'roots', 'ruspop', 'rusrap', 'rusrock', 'russian',\n",
       "       'salsa', 'samba', 'scenic', 'schlager', 'self', 'sertanejo',\n",
       "       'shanson', 'shoegazing', 'showtunes', 'singer', 'ska', 'skarock',\n",
       "       'slow', 'smooth', 'soft', 'soul', 'soulful', 'sound', 'soundtrack',\n",
       "       'southern', 'specialty', 'speech', 'spiritual', 'sport',\n",
       "       'stonerrock', 'surf', 'swing', 'synthpop', 'synthrock',\n",
       "       'sängerportrait', 'tango', 'tanzorchester', 'taraftar', 'tatar',\n",
       "       'tech', 'techno', 'teen', 'thrash', 'top', 'traditional',\n",
       "       'tradjazz', 'trance', 'tribal', 'trip', 'triphop', 'tropical',\n",
       "       'türk', 'türkçe', 'ukrrock', 'unknown', 'urban', 'uzbek',\n",
       "       'variété', 'vi', 'videogame', 'vocal', 'western', 'world',\n",
       "       'worldbeat', 'ïîï', 'электроника'], dtype=object)"
      ]
     },
     "execution_count": 16,
     "metadata": {},
     "output_type": "execute_result"
    }
   ],
   "source": [
    "# Просмотр уникальных названий жанров\n",
    "df['genre'].sort_values().unique()"
   ]
  },
  {
   "cell_type": "markdown",
   "metadata": {
    "id": "qej-Qmuo_Zct"
   },
   "source": [
    "Просмотрите список и найдите неявные дубликаты названия `hiphop`. Это могут быть названия с ошибками или альтернативные названия того же жанра.\n",
    "\n",
    "Вы увидите следующие неявные дубликаты:\n",
    "* *hip*,\n",
    "* *hop*,\n",
    "* *hip-hop*.\n",
    "\n",
    "Также в процессе выполнения анализа, было замечено, что неявным дубликатом явлется жанр `электроника`, который дублирует жанр `electronic`.\n",
    "\n",
    "Чтобы очистить от них таблицу, напишите функцию `replace_wrong_genres()` с двумя параметрами: \n",
    "* `wrong_genres` — список дубликатов,\n",
    "* `correct_genre` — строка с правильным значением.\n",
    "\n",
    "Функция должна исправить колонку `genre` в таблице `df`: заменить каждое значение из списка `wrong_genres` на значение из `correct_genre`."
   ]
  },
  {
   "cell_type": "code",
   "execution_count": 18,
   "metadata": {},
   "outputs": [],
   "source": [
    "# Функция для замены неявных дубликатов\n",
    "def replace_wrong_genres(wrong_genres, correct_genre):\n",
    "    for i in range(len(wrong_genres)):\n",
    "        df['genre'] = df['genre'].replace(wrong_genres[i], correct_genre)"
   ]
  },
  {
   "cell_type": "markdown",
   "metadata": {
    "id": "aDoBJxbA_Zct"
   },
   "source": [
    "Вызовите `replace_wrong_genres()` и передайте ей такие аргументы, чтобы она устранила неявные дубликаты: вместо `hip`, `hop` и `hip-hop` в таблице должно быть значение `hiphop`, также вместо значения `электроника` должно быть `electronic`:"
   ]
  },
  {
   "cell_type": "code",
   "execution_count": 19,
   "metadata": {
    "id": "YN5i2hpmSo09"
   },
   "outputs": [],
   "source": [
    "# Устранение неявных дубликатов для жанра hiphop\n",
    "duplicated_hiphop_geners = ['hip', 'hop', 'hip-hop']\n",
    "corrected_hiphop_genres = 'hiphop'\n",
    "\n",
    "# Устранение неявных дубликатов для жанра electronica\n",
    "duplicated_electronic_geners = ['электроника']\n",
    "corrected_electronic_genres = 'electronic'\n",
    "\n",
    "replace_wrong_genres(duplicated_hiphop_geners, corrected_hiphop_genres)\n",
    "replace_wrong_genres(duplicated_electronic_geners, corrected_electronic_genres)"
   ]
  },
  {
   "cell_type": "markdown",
   "metadata": {
    "id": "zQKF16_RG15m"
   },
   "source": [
    "Проверьте, что заменили неправильные названия:\n",
    "\n",
    "*   hip\n",
    "*   hop\n",
    "*   hip-hop\n",
    "\n",
    "Выведите отсортированный список уникальных значений столбца `genre`:"
   ]
  },
  {
   "cell_type": "code",
   "execution_count": 20,
   "metadata": {
    "id": "wvixALnFG15m"
   },
   "outputs": [
    {
     "data": {
      "text/plain": [
       "array(['acid', 'acoustic', 'action', 'adult', 'africa', 'afrikaans',\n",
       "       'alternative', 'alternativepunk', 'ambient', 'americana',\n",
       "       'animated', 'anime', 'arabesk', 'arabic', 'arena',\n",
       "       'argentinetango', 'art', 'audiobook', 'author', 'avantgarde',\n",
       "       'axé', 'baile', 'balkan', 'beats', 'bigroom', 'black', 'bluegrass',\n",
       "       'blues', 'bollywood', 'bossa', 'brazilian', 'breakbeat', 'breaks',\n",
       "       'broadway', 'cantautori', 'cantopop', 'canzone', 'caribbean',\n",
       "       'caucasian', 'celtic', 'chamber', 'chanson', 'children', 'chill',\n",
       "       'chinese', 'choral', 'christian', 'christmas', 'classical',\n",
       "       'classicmetal', 'club', 'colombian', 'comedy', 'conjazz',\n",
       "       'contemporary', 'country', 'cuban', 'dance', 'dancehall',\n",
       "       'dancepop', 'dark', 'death', 'deep', 'deutschrock', 'deutschspr',\n",
       "       'dirty', 'disco', 'dnb', 'documentary', 'downbeat', 'downtempo',\n",
       "       'drum', 'dub', 'dubstep', 'eastern', 'easy', 'electronic',\n",
       "       'electropop', 'emo', 'entehno', 'epicmetal', 'estrada', 'ethnic',\n",
       "       'eurofolk', 'european', 'experimental', 'extrememetal', 'fado',\n",
       "       'fairytail', 'film', 'fitness', 'flamenco', 'folk', 'folklore',\n",
       "       'folkmetal', 'folkrock', 'folktronica', 'forró', 'frankreich',\n",
       "       'französisch', 'french', 'funk', 'future', 'gangsta', 'garage',\n",
       "       'german', 'ghazal', 'gitarre', 'glitch', 'gospel', 'gothic',\n",
       "       'grime', 'grunge', 'gypsy', 'handsup', \"hard'n'heavy\", 'hardcore',\n",
       "       'hardstyle', 'hardtechno', 'hiphop', 'historisch', 'holiday',\n",
       "       'horror', 'house', 'hymn', 'idm', 'independent', 'indian', 'indie',\n",
       "       'indipop', 'industrial', 'inspirational', 'instrumental',\n",
       "       'international', 'irish', 'jam', 'japanese', 'jazz', 'jewish',\n",
       "       'jpop', 'jungle', 'k-pop', 'karadeniz', 'karaoke', 'kayokyoku',\n",
       "       'korean', 'laiko', 'latin', 'latino', 'leftfield', 'local',\n",
       "       'lounge', 'loungeelectronic', 'lovers', 'malaysian', 'mandopop',\n",
       "       'marschmusik', 'meditative', 'mediterranean', 'melodic', 'metal',\n",
       "       'metalcore', 'mexican', 'middle', 'minimal', 'miscellaneous',\n",
       "       'modern', 'mood', 'mpb', 'muslim', 'native', 'neoklassik', 'neue',\n",
       "       'new', 'newage', 'newwave', 'nu', 'nujazz', 'numetal', 'oceania',\n",
       "       'old', 'opera', 'orchestral', 'other', 'piano', 'podcasts', 'pop',\n",
       "       'popdance', 'popelectronic', 'popeurodance', 'poprussian', 'post',\n",
       "       'posthardcore', 'postrock', 'power', 'progmetal', 'progressive',\n",
       "       'psychedelic', 'punjabi', 'punk', 'quebecois', 'ragga', 'ram',\n",
       "       'rancheras', 'rap', 'rave', 'reggae', 'reggaeton', 'regional',\n",
       "       'relax', 'religious', 'retro', 'rhythm', 'rnb', 'rnr', 'rock',\n",
       "       'rockabilly', 'rockalternative', 'rockindie', 'rockother',\n",
       "       'romance', 'roots', 'ruspop', 'rusrap', 'rusrock', 'russian',\n",
       "       'salsa', 'samba', 'scenic', 'schlager', 'self', 'sertanejo',\n",
       "       'shanson', 'shoegazing', 'showtunes', 'singer', 'ska', 'skarock',\n",
       "       'slow', 'smooth', 'soft', 'soul', 'soulful', 'sound', 'soundtrack',\n",
       "       'southern', 'specialty', 'speech', 'spiritual', 'sport',\n",
       "       'stonerrock', 'surf', 'swing', 'synthpop', 'synthrock',\n",
       "       'sängerportrait', 'tango', 'tanzorchester', 'taraftar', 'tatar',\n",
       "       'tech', 'techno', 'teen', 'thrash', 'top', 'traditional',\n",
       "       'tradjazz', 'trance', 'tribal', 'trip', 'triphop', 'tropical',\n",
       "       'türk', 'türkçe', 'ukrrock', 'unknown', 'urban', 'uzbek',\n",
       "       'variété', 'vi', 'videogame', 'vocal', 'western', 'world',\n",
       "       'worldbeat', 'ïîï'], dtype=object)"
      ]
     },
     "execution_count": 20,
     "metadata": {},
     "output_type": "execute_result"
    }
   ],
   "source": [
    "# Проверка на неявные дубликаты\n",
    "df['genre'].sort_values().unique()"
   ]
  },
  {
   "cell_type": "markdown",
   "metadata": {
    "id": "jz6a9-7HQUDd"
   },
   "source": [
    "**Выводы**\n",
    "\n",
    "Предобработка обнаружила три проблемы в данных:\n",
    "\n",
    "- нарушения в стиле заголовков,\n",
    "- пропущенные значения,\n",
    "- дубликаты — явные и неявные.\n",
    "\n",
    "Вы исправили заголовки, чтобы упростить работу с таблицей. Без дубликатов исследование станет более точным.\n",
    "\n",
    "Пропущенные значения вы заменили на `'unknown'`. Ещё предстоит увидеть, не повредят ли исследованию пропуски в колонке `genre`.\n",
    "\n",
    "Теперь можно перейти к проверке гипотез. "
   ]
  },
  {
   "cell_type": "markdown",
   "metadata": {
    "id": "WttZHXH0SqKk"
   },
   "source": [
    "## Проверка гипотез"
   ]
  },
  {
   "cell_type": "markdown",
   "metadata": {
    "id": "Im936VVi_Zcu"
   },
   "source": [
    "### Сравнение поведения пользователей двух столиц"
   ]
  },
  {
   "cell_type": "markdown",
   "metadata": {
    "id": "nwt_MuaL_Zcu"
   },
   "source": [
    "Первая гипотеза утверждает, что пользователи по-разному слушают музыку в Москве и Санкт-Петербурге. Проверьте это предположение по данным о трёх днях недели — понедельнике, среде и пятнице. Для этого:\n",
    "\n",
    "* Разделите пользователей Москвы и Санкт-Петербурга\n",
    "* Сравните, сколько треков послушала каждая группа пользователей в понедельник, среду и пятницу.\n"
   ]
  },
  {
   "cell_type": "markdown",
   "metadata": {
    "id": "8Dw_YMmT_Zcu"
   },
   "source": [
    "Для тренировки сначала выполните каждый из расчётов по отдельности. \n",
    "\n",
    "Оцените активность пользователей в каждом городе. Сгруппируйте данные по городу и посчитайте прослушивания в каждой группе.\n",
    "\n"
   ]
  },
  {
   "cell_type": "code",
   "execution_count": 21,
   "metadata": {
    "id": "0_Qs96oh_Zcu"
   },
   "outputs": [
    {
     "data": {
      "text/html": [
       "<div>\n",
       "<style scoped>\n",
       "    .dataframe tbody tr th:only-of-type {\n",
       "        vertical-align: middle;\n",
       "    }\n",
       "\n",
       "    .dataframe tbody tr th {\n",
       "        vertical-align: top;\n",
       "    }\n",
       "\n",
       "    .dataframe thead th {\n",
       "        text-align: right;\n",
       "    }\n",
       "</style>\n",
       "<table border=\"1\" class=\"dataframe\">\n",
       "  <thead>\n",
       "    <tr style=\"text-align: right;\">\n",
       "      <th></th>\n",
       "      <th>track</th>\n",
       "    </tr>\n",
       "    <tr>\n",
       "      <th>city</th>\n",
       "      <th></th>\n",
       "    </tr>\n",
       "  </thead>\n",
       "  <tbody>\n",
       "    <tr>\n",
       "      <td>Moscow</td>\n",
       "      <td>42741</td>\n",
       "    </tr>\n",
       "    <tr>\n",
       "      <td>Saint-Petersburg</td>\n",
       "      <td>18512</td>\n",
       "    </tr>\n",
       "  </tbody>\n",
       "</table>\n",
       "</div>"
      ],
      "text/plain": [
       "                  track\n",
       "city                   \n",
       "Moscow            42741\n",
       "Saint-Petersburg  18512"
      ]
     },
     "execution_count": 21,
     "metadata": {},
     "output_type": "execute_result"
    }
   ],
   "source": [
    "# Подсчёт прослушиваний в каждом городе\n",
    "df.groupby('city')[['track']].count()"
   ]
  },
  {
   "cell_type": "markdown",
   "metadata": {
    "id": "dzli3w8o_Zcu"
   },
   "source": [
    "В Москве прослушиваний больше, чем в Петербурге. Из этого не следует, что московские пользователи чаще слушают музыку. Просто самих пользователей в Москве больше.\n",
    "\n",
    "Теперь сгруппируйте данные по дню недели и подсчитайте прослушивания в понедельник, среду и пятницу. Учтите, что в данных есть информация только о прослушиваниях только за эти дни.\n"
   ]
  },
  {
   "cell_type": "code",
   "execution_count": 22,
   "metadata": {
    "id": "uZMKjiJz_Zcu"
   },
   "outputs": [
    {
     "data": {
      "text/html": [
       "<div>\n",
       "<style scoped>\n",
       "    .dataframe tbody tr th:only-of-type {\n",
       "        vertical-align: middle;\n",
       "    }\n",
       "\n",
       "    .dataframe tbody tr th {\n",
       "        vertical-align: top;\n",
       "    }\n",
       "\n",
       "    .dataframe thead th {\n",
       "        text-align: right;\n",
       "    }\n",
       "</style>\n",
       "<table border=\"1\" class=\"dataframe\">\n",
       "  <thead>\n",
       "    <tr style=\"text-align: right;\">\n",
       "      <th></th>\n",
       "      <th>city</th>\n",
       "    </tr>\n",
       "    <tr>\n",
       "      <th>day</th>\n",
       "      <th></th>\n",
       "    </tr>\n",
       "  </thead>\n",
       "  <tbody>\n",
       "    <tr>\n",
       "      <td>Friday</td>\n",
       "      <td>21840</td>\n",
       "    </tr>\n",
       "    <tr>\n",
       "      <td>Monday</td>\n",
       "      <td>21354</td>\n",
       "    </tr>\n",
       "    <tr>\n",
       "      <td>Wednesday</td>\n",
       "      <td>18059</td>\n",
       "    </tr>\n",
       "  </tbody>\n",
       "</table>\n",
       "</div>"
      ],
      "text/plain": [
       "            city\n",
       "day             \n",
       "Friday     21840\n",
       "Monday     21354\n",
       "Wednesday  18059"
      ]
     },
     "execution_count": 22,
     "metadata": {},
     "output_type": "execute_result"
    }
   ],
   "source": [
    "# Подсчёт прослушиваний в каждый из трёх дней\n",
    "df.groupby('day')[['city']].count()"
   ]
  },
  {
   "cell_type": "markdown",
   "metadata": {
    "id": "cC2tNrlL_Zcu"
   },
   "source": [
    "В среднем пользователи из двух городов менее активны по средам. Но картина может измениться, если рассмотреть каждый город в отдельности."
   ]
  },
  {
   "cell_type": "markdown",
   "metadata": {
    "id": "POzs8bGa_Zcu"
   },
   "source": [
    "Вы видели, как работает группировка по городу и по дням недели. Теперь напишите функцию, которая объединит два эти расчёта.\n",
    "\n",
    "Создайте функцию `number_tracks()`, которая посчитает прослушивания для заданного дня и города. Ей понадобятся два параметра:\n",
    "* день недели,\n",
    "* название города.\n",
    "\n",
    "В функции сохраните в переменную строки исходной таблицы, у которых значение:\n",
    "  * в колонке `day` равно параметру `day`,\n",
    "  * в колонке `city` равно параметру `city`.\n",
    "\n",
    "Для этого примените последовательную фильтрацию с логической индексацией.\n",
    "\n",
    "Затем посчитайте значения в столбце `user_id` получившейся таблицы. Результат сохраните в новую переменную. Верните эту переменную из функции."
   ]
  },
  {
   "cell_type": "code",
   "execution_count": 24,
   "metadata": {
    "id": "Nz3GdQB1_Zcu"
   },
   "outputs": [],
   "source": [
    "# <создание функции number_tracks()>\n",
    "# Объявляется функция с двумя параметрами: day, city.\n",
    "def number_tracks(day, city):\n",
    "# В переменной track_list сохраняются те строки таблицы df, для которых \n",
    "# значение в столбце 'day' равно параметру day и одновременно значение\n",
    "# в столбце 'city' равно параметру city (используйте последовательную фильтрацию\n",
    "# с помощью логической индексации).\n",
    "    track_list = []\n",
    "    track_list = df[(df['day'] == day) & (df['city'] == city)]\n",
    "# В переменной track_list_count сохраняется число значений столбца 'user_id',\n",
    "# рассчитанное методом count() для таблицы track_list.\n",
    "    track_list_count = track_list['user_id'].count()\n",
    "# Функция возвращает число - значение track_list_count.\n",
    "    return track_list_count\n",
    "\n",
    "# Функция для подсчёта прослушиваний для конкретного города и дня.\n",
    "# С помощью последовательной фильтрации с логической индексацией она \n",
    "# сначала получит из исходной таблицы строки с нужным днём,\n",
    "# затем из результата отфильтрует строки с нужным городом,\n",
    "# методом count() посчитает количество значений в колонке user_id. \n",
    "# Это количество функция вернёт в качестве результата"
   ]
  },
  {
   "cell_type": "markdown",
   "metadata": {
    "id": "ytf7xFrFJQ2r"
   },
   "source": [
    "Вызовите `number_tracks()` шесть раз, меняя значение параметров — так, чтобы получить данные для каждого города в каждый из трёх дней."
   ]
  },
  {
   "cell_type": "code",
   "execution_count": 25,
   "metadata": {
    "id": "rJcRATNQ_Zcu"
   },
   "outputs": [
    {
     "data": {
      "text/plain": [
       "15740"
      ]
     },
     "execution_count": 25,
     "metadata": {},
     "output_type": "execute_result"
    }
   ],
   "source": [
    "# количество прослушиваний в Москве по понедельникам\n",
    "monday_moscow_track_count = number_tracks('Monday', 'Moscow')\n",
    "monday_moscow_track_count"
   ]
  },
  {
   "cell_type": "code",
   "execution_count": 26,
   "metadata": {
    "id": "hq_ncZ5T_Zcu"
   },
   "outputs": [
    {
     "data": {
      "text/plain": [
       "5614"
      ]
     },
     "execution_count": 26,
     "metadata": {},
     "output_type": "execute_result"
    }
   ],
   "source": [
    "# количество прослушиваний в Санкт-Петербурге по понедельникам\n",
    "monday_petersburg_track_count = number_tracks('Monday', 'Saint-Petersburg')\n",
    "monday_petersburg_track_count"
   ]
  },
  {
   "cell_type": "code",
   "execution_count": 27,
   "metadata": {
    "id": "_NTy2VPU_Zcu"
   },
   "outputs": [
    {
     "data": {
      "text/plain": [
       "11056"
      ]
     },
     "execution_count": 27,
     "metadata": {},
     "output_type": "execute_result"
    }
   ],
   "source": [
    "# количество прослушиваний в Москве по средам\n",
    "wednesday_moscow_track_count = number_tracks('Wednesday', 'Moscow')\n",
    "wednesday_moscow_track_count"
   ]
  },
  {
   "cell_type": "code",
   "execution_count": 28,
   "metadata": {
    "id": "j2y3TAwo_Zcu"
   },
   "outputs": [
    {
     "data": {
      "text/plain": [
       "7003"
      ]
     },
     "execution_count": 28,
     "metadata": {},
     "output_type": "execute_result"
    }
   ],
   "source": [
    "# количество прослушиваний в Санкт-Петербурге по средам\n",
    "wednesday_petersburg_track_count = number_tracks('Wednesday', 'Saint-Petersburg')\n",
    "wednesday_petersburg_track_count"
   ]
  },
  {
   "cell_type": "code",
   "execution_count": 29,
   "metadata": {
    "id": "vYDw5u_K_Zcu"
   },
   "outputs": [
    {
     "data": {
      "text/plain": [
       "15945"
      ]
     },
     "execution_count": 29,
     "metadata": {},
     "output_type": "execute_result"
    }
   ],
   "source": [
    "# количество прослушиваний в Москве по пятницам\n",
    "friday_moscow_track_count = number_tracks('Friday', 'Moscow')\n",
    "friday_moscow_track_count"
   ]
  },
  {
   "cell_type": "code",
   "execution_count": 30,
   "metadata": {
    "id": "8_yzFtW3_Zcu"
   },
   "outputs": [
    {
     "data": {
      "text/plain": [
       "5895"
      ]
     },
     "execution_count": 30,
     "metadata": {},
     "output_type": "execute_result"
    }
   ],
   "source": [
    "# количество прослушиваний в Санкт-Петербурге по пятницам\n",
    "friday_petersburg_track_count = number_tracks('Friday', 'Saint-Petersburg')\n",
    "friday_petersburg_track_count"
   ]
  },
  {
   "cell_type": "markdown",
   "metadata": {
    "id": "7QXffbO-_Zcu"
   },
   "source": [
    "Создайте c помощью конструктора `pd.DataFrame` таблицу, где\n",
    "* названия колонок — `['city', 'monday', 'wednesday', 'friday']`;\n",
    "* данные — результаты, которые вы получили с помощью `number_tracks`."
   ]
  },
  {
   "cell_type": "code",
   "execution_count": 31,
   "metadata": {
    "id": "APAcLpOr_Zcu"
   },
   "outputs": [
    {
     "data": {
      "text/html": [
       "<div>\n",
       "<style scoped>\n",
       "    .dataframe tbody tr th:only-of-type {\n",
       "        vertical-align: middle;\n",
       "    }\n",
       "\n",
       "    .dataframe tbody tr th {\n",
       "        vertical-align: top;\n",
       "    }\n",
       "\n",
       "    .dataframe thead th {\n",
       "        text-align: right;\n",
       "    }\n",
       "</style>\n",
       "<table border=\"1\" class=\"dataframe\">\n",
       "  <thead>\n",
       "    <tr style=\"text-align: right;\">\n",
       "      <th></th>\n",
       "      <th>city</th>\n",
       "      <th>monday</th>\n",
       "      <th>wednesday</th>\n",
       "      <th>friday</th>\n",
       "    </tr>\n",
       "  </thead>\n",
       "  <tbody>\n",
       "    <tr>\n",
       "      <td>0</td>\n",
       "      <td>Moscow</td>\n",
       "      <td>15740</td>\n",
       "      <td>11056</td>\n",
       "      <td>15945</td>\n",
       "    </tr>\n",
       "    <tr>\n",
       "      <td>1</td>\n",
       "      <td>Saint-Petersburg</td>\n",
       "      <td>5614</td>\n",
       "      <td>7003</td>\n",
       "      <td>5895</td>\n",
       "    </tr>\n",
       "  </tbody>\n",
       "</table>\n",
       "</div>"
      ],
      "text/plain": [
       "               city  monday  wednesday  friday\n",
       "0            Moscow   15740      11056   15945\n",
       "1  Saint-Petersburg    5614       7003    5895"
      ]
     },
     "execution_count": 31,
     "metadata": {},
     "output_type": "execute_result"
    }
   ],
   "source": [
    "# Таблица с результатами\n",
    "data = [['Moscow', monday_moscow_track_count, wednesday_moscow_track_count, friday_moscow_track_count],\n",
    "       ['Saint-Petersburg', monday_petersburg_track_count, wednesday_petersburg_track_count, friday_petersburg_track_count]]\n",
    "pd.DataFrame(data = data, columns = ['city', 'monday', 'wednesday', 'friday'])"
   ]
  },
  {
   "cell_type": "markdown",
   "metadata": {
    "id": "-EgPIHYu_Zcu"
   },
   "source": [
    "**Выводы**\n",
    "\n",
    "Данные показывают разницу поведения пользователей:\n",
    "\n",
    "- В Москве пик прослушиваний приходится на понедельник и пятницу, а в среду заметен спад.\n",
    "- В Петербурге, наоборот, больше слушают музыку по средам. Активность в понедельник и пятницу здесь почти в равной мере уступает среде.\n",
    "\n",
    "Значит, данные говорят в пользу первой гипотезы."
   ]
  },
  {
   "cell_type": "markdown",
   "metadata": {
    "id": "atZAxtq4_Zcu"
   },
   "source": [
    "### Музыка в начале и в конце недели"
   ]
  },
  {
   "cell_type": "markdown",
   "metadata": {
    "id": "eXrQqXFH_Zcu"
   },
   "source": [
    "Согласно второй гипотезе, утром в понедельник в Москве преобладают одни жанры, а в Петербурге — другие. Так же и вечером пятницы преобладают разные жанры — в зависимости от города."
   ]
  },
  {
   "cell_type": "markdown",
   "metadata": {
    "id": "S8UcW6Hw_Zcu"
   },
   "source": [
    "Сохраните таблицы с данными в две переменные:\n",
    "* по Москве — в `moscow_general`;\n",
    "* по Санкт-Петербургу — в `spb_general`."
   ]
  },
  {
   "cell_type": "code",
   "execution_count": 32,
   "metadata": {
    "id": "qeaFfM_P_Zcu"
   },
   "outputs": [],
   "source": [
    "# получение таблицы moscow_general из тех строк таблицы df, \n",
    "# для которых значение в столбце 'city' равно 'Moscow'\n",
    "moscow_general = df[df['city'] == 'Moscow']"
   ]
  },
  {
   "cell_type": "code",
   "execution_count": 33,
   "metadata": {
    "id": "ORaVRKto_Zcu"
   },
   "outputs": [],
   "source": [
    "# получение таблицы spb_general из тех строк таблицы df,\n",
    "# для которых значение в столбце 'city' равно 'Saint-Petersburg'\n",
    "spb_general = df[df['city'] == 'Saint-Petersburg']"
   ]
  },
  {
   "cell_type": "markdown",
   "metadata": {
    "id": "MEJV-CX2_Zcu"
   },
   "source": [
    "Создайте функцию `genre_weekday()` с четырьмя параметрами:\n",
    "* таблица (датафрейм) с данными,\n",
    "* день недели,\n",
    "* начальная временная метка в формате 'hh:mm', \n",
    "* последняя временная метка в формате 'hh:mm'.\n",
    "\n",
    "Функция должна вернуть информацию о топ-10 жанров тех треков, которые прослушивали в указанный день, в промежутке между двумя отметками времени."
   ]
  },
  {
   "cell_type": "code",
   "execution_count": 34,
   "metadata": {
    "id": "laJT9BYl_Zcu"
   },
   "outputs": [],
   "source": [
    "# Объявление функции genre_weekday() с параметрами table, day, time1, time2,\n",
    "def genre_weekday(table, day, time1, time2):\n",
    "# которая возвращает информацию о самых популярных жанрах в указанный день в\n",
    "# заданное время:\n",
    "# 1) в переменную genre_df сохраняются те строки переданного датафрейма table, для\n",
    "#    которых одновременно:\n",
    "#    - значение в столбце day равно значению аргумента day\n",
    "#    - значение в столбце time больше значения аргумента time1\n",
    "#    - значение в столбце time меньше значения аргумента time2\n",
    "#    Используйте последовательную фильтрацию с помощью логической индексации.\n",
    "    genre_df = []\n",
    "    genre_df = table[(table['day'] == day) & (table['time'] > time1) & (table['time'] < time2)]\n",
    "# 2) сгруппировать датафрейм genre_df по столбцу genre, взять один из его\n",
    "#    столбцов и посчитать методом count() количество записей для каждого из\n",
    "#    присутствующих жанров, получившийся Series записать в переменную\n",
    "#    genre_df_count\n",
    "    genre_df_count = genre_df.groupby('genre').count()\n",
    "# 3) отсортировать genre_df_count по убыванию встречаемости и сохранить\n",
    "#    в переменную genre_df_sorted\n",
    "    genre_df_sorted = genre_df_count.sort_values(by = 'user_id', ascending = False)\n",
    "# 4) вернуть Series из 10 первых значений genre_df_sorted, это будут топ-10\n",
    "#    популярных жанров (в указанный день, в заданное время)\n",
    "    return genre_df_sorted['user_id'].head(10)"
   ]
  },
  {
   "cell_type": "markdown",
   "metadata": {
    "id": "la2s2_PF_Zcu"
   },
   "source": [
    "Cравните результаты функции `genre_weekday()` для Москвы и Санкт-Петербурга в понедельник утром (с 7:00 до 11:00) и в пятницу вечером (с 17:00 до 23:00):"
   ]
  },
  {
   "cell_type": "code",
   "execution_count": 35,
   "metadata": {
    "id": "yz7itPUQ_Zcu",
    "scrolled": true
   },
   "outputs": [
    {
     "data": {
      "text/html": [
       "<div>\n",
       "<style scoped>\n",
       "    .dataframe tbody tr th:only-of-type {\n",
       "        vertical-align: middle;\n",
       "    }\n",
       "\n",
       "    .dataframe tbody tr th {\n",
       "        vertical-align: top;\n",
       "    }\n",
       "\n",
       "    .dataframe thead th {\n",
       "        text-align: right;\n",
       "    }\n",
       "</style>\n",
       "<table border=\"1\" class=\"dataframe\">\n",
       "  <thead>\n",
       "    <tr style=\"text-align: right;\">\n",
       "      <th></th>\n",
       "      <th>user_id</th>\n",
       "    </tr>\n",
       "    <tr>\n",
       "      <th>genre</th>\n",
       "      <th></th>\n",
       "    </tr>\n",
       "  </thead>\n",
       "  <tbody>\n",
       "    <tr>\n",
       "      <td>pop</td>\n",
       "      <td>781</td>\n",
       "    </tr>\n",
       "    <tr>\n",
       "      <td>dance</td>\n",
       "      <td>549</td>\n",
       "    </tr>\n",
       "    <tr>\n",
       "      <td>electronic</td>\n",
       "      <td>480</td>\n",
       "    </tr>\n",
       "    <tr>\n",
       "      <td>rock</td>\n",
       "      <td>474</td>\n",
       "    </tr>\n",
       "    <tr>\n",
       "      <td>hiphop</td>\n",
       "      <td>286</td>\n",
       "    </tr>\n",
       "    <tr>\n",
       "      <td>ruspop</td>\n",
       "      <td>186</td>\n",
       "    </tr>\n",
       "    <tr>\n",
       "      <td>world</td>\n",
       "      <td>181</td>\n",
       "    </tr>\n",
       "    <tr>\n",
       "      <td>rusrap</td>\n",
       "      <td>175</td>\n",
       "    </tr>\n",
       "    <tr>\n",
       "      <td>alternative</td>\n",
       "      <td>164</td>\n",
       "    </tr>\n",
       "    <tr>\n",
       "      <td>unknown</td>\n",
       "      <td>161</td>\n",
       "    </tr>\n",
       "  </tbody>\n",
       "</table>\n",
       "</div>"
      ],
      "text/plain": [
       "             user_id\n",
       "genre               \n",
       "pop              781\n",
       "dance            549\n",
       "electronic       480\n",
       "rock             474\n",
       "hiphop           286\n",
       "ruspop           186\n",
       "world            181\n",
       "rusrap           175\n",
       "alternative      164\n",
       "unknown          161"
      ]
     },
     "execution_count": 35,
     "metadata": {},
     "output_type": "execute_result"
    }
   ],
   "source": [
    "# вызов функции для утра понедельника в Москве (вместо df — таблица moscow_general)\n",
    "# объекты, хранящие время, являются строками и сравниваются как строки\n",
    "# пример вызова: genre_weekday(moscow_general, 'Monday', '07:00', '11:00')\n",
    "genre_weekday(moscow_general, 'Monday', '07:00', '11:00').to_frame()"
   ]
  },
  {
   "cell_type": "code",
   "execution_count": 36,
   "metadata": {
    "id": "kwUcHPdy_Zcu"
   },
   "outputs": [
    {
     "data": {
      "text/html": [
       "<div>\n",
       "<style scoped>\n",
       "    .dataframe tbody tr th:only-of-type {\n",
       "        vertical-align: middle;\n",
       "    }\n",
       "\n",
       "    .dataframe tbody tr th {\n",
       "        vertical-align: top;\n",
       "    }\n",
       "\n",
       "    .dataframe thead th {\n",
       "        text-align: right;\n",
       "    }\n",
       "</style>\n",
       "<table border=\"1\" class=\"dataframe\">\n",
       "  <thead>\n",
       "    <tr style=\"text-align: right;\">\n",
       "      <th></th>\n",
       "      <th>user_id</th>\n",
       "    </tr>\n",
       "    <tr>\n",
       "      <th>genre</th>\n",
       "      <th></th>\n",
       "    </tr>\n",
       "  </thead>\n",
       "  <tbody>\n",
       "    <tr>\n",
       "      <td>pop</td>\n",
       "      <td>218</td>\n",
       "    </tr>\n",
       "    <tr>\n",
       "      <td>dance</td>\n",
       "      <td>182</td>\n",
       "    </tr>\n",
       "    <tr>\n",
       "      <td>rock</td>\n",
       "      <td>162</td>\n",
       "    </tr>\n",
       "    <tr>\n",
       "      <td>electronic</td>\n",
       "      <td>147</td>\n",
       "    </tr>\n",
       "    <tr>\n",
       "      <td>hiphop</td>\n",
       "      <td>80</td>\n",
       "    </tr>\n",
       "    <tr>\n",
       "      <td>ruspop</td>\n",
       "      <td>64</td>\n",
       "    </tr>\n",
       "    <tr>\n",
       "      <td>alternative</td>\n",
       "      <td>58</td>\n",
       "    </tr>\n",
       "    <tr>\n",
       "      <td>rusrap</td>\n",
       "      <td>55</td>\n",
       "    </tr>\n",
       "    <tr>\n",
       "      <td>jazz</td>\n",
       "      <td>44</td>\n",
       "    </tr>\n",
       "    <tr>\n",
       "      <td>classical</td>\n",
       "      <td>40</td>\n",
       "    </tr>\n",
       "  </tbody>\n",
       "</table>\n",
       "</div>"
      ],
      "text/plain": [
       "             user_id\n",
       "genre               \n",
       "pop              218\n",
       "dance            182\n",
       "rock             162\n",
       "electronic       147\n",
       "hiphop            80\n",
       "ruspop            64\n",
       "alternative       58\n",
       "rusrap            55\n",
       "jazz              44\n",
       "classical         40"
      ]
     },
     "execution_count": 36,
     "metadata": {},
     "output_type": "execute_result"
    }
   ],
   "source": [
    "# вызов функции для утра понедельника в Петербурге (вместо df — таблица spb_general)\n",
    "genre_weekday(spb_general, 'Monday', '07:00', '11:00').to_frame()"
   ]
  },
  {
   "cell_type": "code",
   "execution_count": 37,
   "metadata": {
    "id": "EzXVRE1o_Zcu"
   },
   "outputs": [
    {
     "data": {
      "text/html": [
       "<div>\n",
       "<style scoped>\n",
       "    .dataframe tbody tr th:only-of-type {\n",
       "        vertical-align: middle;\n",
       "    }\n",
       "\n",
       "    .dataframe tbody tr th {\n",
       "        vertical-align: top;\n",
       "    }\n",
       "\n",
       "    .dataframe thead th {\n",
       "        text-align: right;\n",
       "    }\n",
       "</style>\n",
       "<table border=\"1\" class=\"dataframe\">\n",
       "  <thead>\n",
       "    <tr style=\"text-align: right;\">\n",
       "      <th></th>\n",
       "      <th>user_id</th>\n",
       "    </tr>\n",
       "    <tr>\n",
       "      <th>genre</th>\n",
       "      <th></th>\n",
       "    </tr>\n",
       "  </thead>\n",
       "  <tbody>\n",
       "    <tr>\n",
       "      <td>pop</td>\n",
       "      <td>713</td>\n",
       "    </tr>\n",
       "    <tr>\n",
       "      <td>rock</td>\n",
       "      <td>517</td>\n",
       "    </tr>\n",
       "    <tr>\n",
       "      <td>dance</td>\n",
       "      <td>495</td>\n",
       "    </tr>\n",
       "    <tr>\n",
       "      <td>electronic</td>\n",
       "      <td>482</td>\n",
       "    </tr>\n",
       "    <tr>\n",
       "      <td>hiphop</td>\n",
       "      <td>273</td>\n",
       "    </tr>\n",
       "    <tr>\n",
       "      <td>world</td>\n",
       "      <td>208</td>\n",
       "    </tr>\n",
       "    <tr>\n",
       "      <td>ruspop</td>\n",
       "      <td>170</td>\n",
       "    </tr>\n",
       "    <tr>\n",
       "      <td>alternative</td>\n",
       "      <td>163</td>\n",
       "    </tr>\n",
       "    <tr>\n",
       "      <td>classical</td>\n",
       "      <td>163</td>\n",
       "    </tr>\n",
       "    <tr>\n",
       "      <td>rusrap</td>\n",
       "      <td>142</td>\n",
       "    </tr>\n",
       "  </tbody>\n",
       "</table>\n",
       "</div>"
      ],
      "text/plain": [
       "             user_id\n",
       "genre               \n",
       "pop              713\n",
       "rock             517\n",
       "dance            495\n",
       "electronic       482\n",
       "hiphop           273\n",
       "world            208\n",
       "ruspop           170\n",
       "alternative      163\n",
       "classical        163\n",
       "rusrap           142"
      ]
     },
     "execution_count": 37,
     "metadata": {},
     "output_type": "execute_result"
    }
   ],
   "source": [
    "# вызов функции для вечера пятницы в Москве\n",
    "genre_weekday(moscow_general, 'Friday', '17:00', '23:00').to_frame()"
   ]
  },
  {
   "cell_type": "code",
   "execution_count": 38,
   "metadata": {
    "id": "JZaEKu5v_Zcu"
   },
   "outputs": [
    {
     "data": {
      "text/html": [
       "<div>\n",
       "<style scoped>\n",
       "    .dataframe tbody tr th:only-of-type {\n",
       "        vertical-align: middle;\n",
       "    }\n",
       "\n",
       "    .dataframe tbody tr th {\n",
       "        vertical-align: top;\n",
       "    }\n",
       "\n",
       "    .dataframe thead th {\n",
       "        text-align: right;\n",
       "    }\n",
       "</style>\n",
       "<table border=\"1\" class=\"dataframe\">\n",
       "  <thead>\n",
       "    <tr style=\"text-align: right;\">\n",
       "      <th></th>\n",
       "      <th>user_id</th>\n",
       "    </tr>\n",
       "    <tr>\n",
       "      <th>genre</th>\n",
       "      <th></th>\n",
       "    </tr>\n",
       "  </thead>\n",
       "  <tbody>\n",
       "    <tr>\n",
       "      <td>pop</td>\n",
       "      <td>256</td>\n",
       "    </tr>\n",
       "    <tr>\n",
       "      <td>electronic</td>\n",
       "      <td>216</td>\n",
       "    </tr>\n",
       "    <tr>\n",
       "      <td>rock</td>\n",
       "      <td>216</td>\n",
       "    </tr>\n",
       "    <tr>\n",
       "      <td>dance</td>\n",
       "      <td>210</td>\n",
       "    </tr>\n",
       "    <tr>\n",
       "      <td>hiphop</td>\n",
       "      <td>97</td>\n",
       "    </tr>\n",
       "    <tr>\n",
       "      <td>alternative</td>\n",
       "      <td>63</td>\n",
       "    </tr>\n",
       "    <tr>\n",
       "      <td>jazz</td>\n",
       "      <td>61</td>\n",
       "    </tr>\n",
       "    <tr>\n",
       "      <td>classical</td>\n",
       "      <td>60</td>\n",
       "    </tr>\n",
       "    <tr>\n",
       "      <td>rusrap</td>\n",
       "      <td>59</td>\n",
       "    </tr>\n",
       "    <tr>\n",
       "      <td>world</td>\n",
       "      <td>54</td>\n",
       "    </tr>\n",
       "  </tbody>\n",
       "</table>\n",
       "</div>"
      ],
      "text/plain": [
       "             user_id\n",
       "genre               \n",
       "pop              256\n",
       "electronic       216\n",
       "rock             216\n",
       "dance            210\n",
       "hiphop            97\n",
       "alternative       63\n",
       "jazz              61\n",
       "classical         60\n",
       "rusrap            59\n",
       "world             54"
      ]
     },
     "execution_count": 38,
     "metadata": {},
     "output_type": "execute_result"
    }
   ],
   "source": [
    "# вызов функции для вечера пятницы в Петербурге\n",
    "genre_weekday(spb_general, 'Friday', '17:00', '23:00').to_frame()"
   ]
  },
  {
   "cell_type": "markdown",
   "metadata": {
    "id": "wrCe4MNX_Zcu"
   },
   "source": [
    "**Выводы**\n",
    "\n",
    "Если сравнить топ-10 жанров в понедельник утром, можно сделать такие выводы:\n",
    "\n",
    "1. В Москве и Петербурге слушают похожую музыку. Единственное отличие — в московский рейтинг вошёл жанр “world”, а в петербургский — джаз и классика.\n",
    "\n",
    "2. В Москве пропущенных значений оказалось так много, что значение `'unknown'` заняло десятое место среди самых популярных жанров. Значит, пропущенные значения занимают существенную долю в данных и угрожают достоверности исследования.\n",
    "\n",
    "Вечер пятницы не меняет эту картину. Некоторые жанры поднимаются немного выше, другие спускаются, но в целом топ-10 остаётся тем же самым.\n",
    "\n",
    "Таким образом, вторая гипотеза подтвердилась лишь частично:\n",
    "* Пользователи слушают похожую музыку в начале недели и в конце.\n",
    "* Разница между Москвой и Петербургом не слишком выражена. В Москве чаще слушают русскую популярную музыку, в Петербурге — джаз.\n",
    "\n",
    "Однако пропуски в данных ставят под сомнение этот результат. В Москве их так много, что рейтинг топ-10 мог бы выглядеть иначе, если бы не утерянные  данные о жанрах."
   ]
  },
  {
   "cell_type": "markdown",
   "metadata": {
    "id": "JolODAqr_Zcu"
   },
   "source": [
    "### Жанровые предпочтения в Москве и Петербурге\n",
    "\n",
    "Гипотеза: Петербург — столица рэпа, музыку этого жанра там слушают чаще, чем в Москве.  А Москва — город контрастов, в котором, тем не менее, преобладает поп-музыка."
   ]
  },
  {
   "cell_type": "markdown",
   "metadata": {
    "id": "DlegSvaT_Zcu"
   },
   "source": [
    "Сгруппируйте таблицу `moscow_general` по жанру и посчитайте прослушивания треков каждого жанра методом `count()`. Затем отсортируйте результат в порядке убывания и сохраните его в таблице `moscow_genres`."
   ]
  },
  {
   "cell_type": "code",
   "execution_count": 39,
   "metadata": {
    "id": "r19lIPke_Zcu"
   },
   "outputs": [
    {
     "data": {
      "text/html": [
       "<div>\n",
       "<style scoped>\n",
       "    .dataframe tbody tr th:only-of-type {\n",
       "        vertical-align: middle;\n",
       "    }\n",
       "\n",
       "    .dataframe tbody tr th {\n",
       "        vertical-align: top;\n",
       "    }\n",
       "\n",
       "    .dataframe thead th {\n",
       "        text-align: right;\n",
       "    }\n",
       "</style>\n",
       "<table border=\"1\" class=\"dataframe\">\n",
       "  <thead>\n",
       "    <tr style=\"text-align: right;\">\n",
       "      <th></th>\n",
       "      <th>user_id</th>\n",
       "    </tr>\n",
       "    <tr>\n",
       "      <th>genre</th>\n",
       "      <th></th>\n",
       "    </tr>\n",
       "  </thead>\n",
       "  <tbody>\n",
       "    <tr>\n",
       "      <td>pop</td>\n",
       "      <td>5892</td>\n",
       "    </tr>\n",
       "    <tr>\n",
       "      <td>dance</td>\n",
       "      <td>4435</td>\n",
       "    </tr>\n",
       "    <tr>\n",
       "      <td>rock</td>\n",
       "      <td>3965</td>\n",
       "    </tr>\n",
       "    <tr>\n",
       "      <td>electronic</td>\n",
       "      <td>3786</td>\n",
       "    </tr>\n",
       "    <tr>\n",
       "      <td>hiphop</td>\n",
       "      <td>2096</td>\n",
       "    </tr>\n",
       "    <tr>\n",
       "      <td>...</td>\n",
       "      <td>...</td>\n",
       "    </tr>\n",
       "    <tr>\n",
       "      <td>malaysian</td>\n",
       "      <td>1</td>\n",
       "    </tr>\n",
       "    <tr>\n",
       "      <td>marschmusik</td>\n",
       "      <td>1</td>\n",
       "    </tr>\n",
       "    <tr>\n",
       "      <td>metalcore</td>\n",
       "      <td>1</td>\n",
       "    </tr>\n",
       "    <tr>\n",
       "      <td>mood</td>\n",
       "      <td>1</td>\n",
       "    </tr>\n",
       "    <tr>\n",
       "      <td>acid</td>\n",
       "      <td>1</td>\n",
       "    </tr>\n",
       "  </tbody>\n",
       "</table>\n",
       "<p>267 rows × 1 columns</p>\n",
       "</div>"
      ],
      "text/plain": [
       "             user_id\n",
       "genre               \n",
       "pop             5892\n",
       "dance           4435\n",
       "rock            3965\n",
       "electronic      3786\n",
       "hiphop          2096\n",
       "...              ...\n",
       "malaysian          1\n",
       "marschmusik        1\n",
       "metalcore          1\n",
       "mood               1\n",
       "acid               1\n",
       "\n",
       "[267 rows x 1 columns]"
      ]
     },
     "execution_count": 39,
     "metadata": {},
     "output_type": "execute_result"
    }
   ],
   "source": [
    "# одной строкой: группировка таблицы moscow_general по столбцу 'genre',\n",
    "moscow_genres = moscow_general.groupby('genre').count()\n",
    "# подсчёт числа значений 'genre' в этой группировке методом count(),\n",
    "# сортировка получившегося Series в порядке убывания и сохранение в moscow_genres\n",
    "moscow_genres = moscow_genres['user_id'].sort_values(ascending = False)\n",
    "moscow_genres.to_frame()"
   ]
  },
  {
   "cell_type": "markdown",
   "metadata": {
    "id": "6kMuomxTiIr8"
   },
   "source": [
    "Выведите на экран первые десять строк `moscow_genres`:"
   ]
  },
  {
   "cell_type": "code",
   "execution_count": 40,
   "metadata": {
    "id": "WhCSooF8_Zcv"
   },
   "outputs": [
    {
     "data": {
      "text/html": [
       "<div>\n",
       "<style scoped>\n",
       "    .dataframe tbody tr th:only-of-type {\n",
       "        vertical-align: middle;\n",
       "    }\n",
       "\n",
       "    .dataframe tbody tr th {\n",
       "        vertical-align: top;\n",
       "    }\n",
       "\n",
       "    .dataframe thead th {\n",
       "        text-align: right;\n",
       "    }\n",
       "</style>\n",
       "<table border=\"1\" class=\"dataframe\">\n",
       "  <thead>\n",
       "    <tr style=\"text-align: right;\">\n",
       "      <th></th>\n",
       "      <th>user_id</th>\n",
       "    </tr>\n",
       "    <tr>\n",
       "      <th>genre</th>\n",
       "      <th></th>\n",
       "    </tr>\n",
       "  </thead>\n",
       "  <tbody>\n",
       "    <tr>\n",
       "      <td>pop</td>\n",
       "      <td>5892</td>\n",
       "    </tr>\n",
       "    <tr>\n",
       "      <td>dance</td>\n",
       "      <td>4435</td>\n",
       "    </tr>\n",
       "    <tr>\n",
       "      <td>rock</td>\n",
       "      <td>3965</td>\n",
       "    </tr>\n",
       "    <tr>\n",
       "      <td>electronic</td>\n",
       "      <td>3786</td>\n",
       "    </tr>\n",
       "    <tr>\n",
       "      <td>hiphop</td>\n",
       "      <td>2096</td>\n",
       "    </tr>\n",
       "    <tr>\n",
       "      <td>classical</td>\n",
       "      <td>1616</td>\n",
       "    </tr>\n",
       "    <tr>\n",
       "      <td>world</td>\n",
       "      <td>1432</td>\n",
       "    </tr>\n",
       "    <tr>\n",
       "      <td>alternative</td>\n",
       "      <td>1379</td>\n",
       "    </tr>\n",
       "    <tr>\n",
       "      <td>ruspop</td>\n",
       "      <td>1372</td>\n",
       "    </tr>\n",
       "    <tr>\n",
       "      <td>rusrap</td>\n",
       "      <td>1161</td>\n",
       "    </tr>\n",
       "  </tbody>\n",
       "</table>\n",
       "</div>"
      ],
      "text/plain": [
       "             user_id\n",
       "genre               \n",
       "pop             5892\n",
       "dance           4435\n",
       "rock            3965\n",
       "electronic      3786\n",
       "hiphop          2096\n",
       "classical       1616\n",
       "world           1432\n",
       "alternative     1379\n",
       "ruspop          1372\n",
       "rusrap          1161"
      ]
     },
     "execution_count": 40,
     "metadata": {},
     "output_type": "execute_result"
    }
   ],
   "source": [
    "# просмотр первых 10 строк moscow_genres\n",
    "moscow_genres.to_frame().head(10)"
   ]
  },
  {
   "cell_type": "markdown",
   "metadata": {
    "id": "cnPG2vnN_Zcv"
   },
   "source": [
    "Теперь повторите то же и для Петербурга.\n",
    "\n",
    "Сгруппируйте таблицу `spb_general` по жанру. Посчитайте прослушивания треков каждого жанра. Результат отсортируйте в порядке убывания и сохраните в таблице `spb_genres`:\n"
   ]
  },
  {
   "cell_type": "code",
   "execution_count": 42,
   "metadata": {
    "id": "gluLIpE7_Zcv"
   },
   "outputs": [],
   "source": [
    "# одной строкой: группировка таблицы spb_general по столбцу 'genre',\n",
    "spb_genres = spb_general.groupby('genre').count()\n",
    "# подсчёт числа значений 'genre' в этой группировке методом count(),\n",
    "# сортировка получившегося Series в порядке убывания и сохранение в spb_genres\n",
    "spb_genres = spb_genres['user_id'].sort_values(ascending = False)"
   ]
  },
  {
   "cell_type": "markdown",
   "metadata": {
    "id": "5Doha_ODgyQ8"
   },
   "source": [
    "Выведите на экран первые десять строк `spb_genres`:"
   ]
  },
  {
   "cell_type": "code",
   "execution_count": 43,
   "metadata": {
    "id": "uaGJHjVU_Zcv"
   },
   "outputs": [
    {
     "data": {
      "text/html": [
       "<div>\n",
       "<style scoped>\n",
       "    .dataframe tbody tr th:only-of-type {\n",
       "        vertical-align: middle;\n",
       "    }\n",
       "\n",
       "    .dataframe tbody tr th {\n",
       "        vertical-align: top;\n",
       "    }\n",
       "\n",
       "    .dataframe thead th {\n",
       "        text-align: right;\n",
       "    }\n",
       "</style>\n",
       "<table border=\"1\" class=\"dataframe\">\n",
       "  <thead>\n",
       "    <tr style=\"text-align: right;\">\n",
       "      <th></th>\n",
       "      <th>user_id</th>\n",
       "    </tr>\n",
       "    <tr>\n",
       "      <th>genre</th>\n",
       "      <th></th>\n",
       "    </tr>\n",
       "  </thead>\n",
       "  <tbody>\n",
       "    <tr>\n",
       "      <td>pop</td>\n",
       "      <td>2431</td>\n",
       "    </tr>\n",
       "    <tr>\n",
       "      <td>dance</td>\n",
       "      <td>1932</td>\n",
       "    </tr>\n",
       "    <tr>\n",
       "      <td>rock</td>\n",
       "      <td>1879</td>\n",
       "    </tr>\n",
       "    <tr>\n",
       "      <td>electronic</td>\n",
       "      <td>1737</td>\n",
       "    </tr>\n",
       "    <tr>\n",
       "      <td>hiphop</td>\n",
       "      <td>960</td>\n",
       "    </tr>\n",
       "    <tr>\n",
       "      <td>alternative</td>\n",
       "      <td>649</td>\n",
       "    </tr>\n",
       "    <tr>\n",
       "      <td>classical</td>\n",
       "      <td>646</td>\n",
       "    </tr>\n",
       "    <tr>\n",
       "      <td>rusrap</td>\n",
       "      <td>564</td>\n",
       "    </tr>\n",
       "    <tr>\n",
       "      <td>ruspop</td>\n",
       "      <td>538</td>\n",
       "    </tr>\n",
       "    <tr>\n",
       "      <td>world</td>\n",
       "      <td>515</td>\n",
       "    </tr>\n",
       "  </tbody>\n",
       "</table>\n",
       "</div>"
      ],
      "text/plain": [
       "             user_id\n",
       "genre               \n",
       "pop             2431\n",
       "dance           1932\n",
       "rock            1879\n",
       "electronic      1737\n",
       "hiphop           960\n",
       "alternative      649\n",
       "classical        646\n",
       "rusrap           564\n",
       "ruspop           538\n",
       "world            515"
      ]
     },
     "execution_count": 43,
     "metadata": {},
     "output_type": "execute_result"
    }
   ],
   "source": [
    "# просмотр первых 10 строк spb_genres\n",
    "spb_genres.to_frame().head(10)"
   ]
  },
  {
   "cell_type": "markdown",
   "metadata": {
    "id": "RY51YJYu_Zcv"
   },
   "source": [
    "**Выводы**"
   ]
  },
  {
   "cell_type": "markdown",
   "metadata": {
    "id": "nVhnJEm__Zcv"
   },
   "source": [
    "Гипотеза частично подтвердилась:\n",
    "* Поп-музыка — самый популярный жанр в Москве, как и предполагала гипотеза. Более того, в топ-10 жанров встречается близкий жанр — русская популярная музыка.\n",
    "* Вопреки ожиданиям, рэп одинаково популярен в Москве и Петербурге. \n"
   ]
  },
  {
   "cell_type": "markdown",
   "metadata": {
    "id": "ykKQ0N65_Zcv"
   },
   "source": [
    "## Итоги исследования"
   ]
  },
  {
   "cell_type": "markdown",
   "metadata": {
    "id": "tjUwbHb3_Zcv"
   },
   "source": [
    "Вы проверили три гипотезы и установили:\n",
    "\n",
    "1. День недели по-разному влияет на активность пользователей в Москве и Петербурге. \n",
    "\n",
    "Первая гипотеза полностью подтвердилась.\n",
    "\n",
    "2. Музыкальные предпочтения не сильно меняются в течение недели — будь то Москва или Петербург. Небольшие различия заметны в начале недели, по понедельникам:\n",
    "* в Москве слушают музыку жанра “world”,\n",
    "* в Петербурге — джаз и классику.\n",
    "\n",
    "Таким образом, вторая гипотеза подтвердилась лишь отчасти. Этот результат мог оказаться иным, если бы не пропуски в данных.\n",
    "\n",
    "3. Во вкусах пользователей Москвы и Петербурга больше общего чем различий. Вопреки ожиданиям, предпочтения жанров в Петербурге напоминают московские.\n",
    "\n",
    "Третья гипотеза не подтвердилась. Если различия в предпочтениях и существуют, на основной массе пользователей они незаметны.\n",
    "\n",
    "**На практике исследования содержат проверки статистических гипотез.**\n",
    "Из данных одного сервиса не всегда можно сделать вывод о всех жителях города.\n",
    "Проверки статистических гипотез покажут, насколько они достоверны, исходя из имеющихся данных. \n",
    "С методами проверок гипотез вы ещё познакомитесь в следующих темах."
   ]
  }
 ],
 "metadata": {
  "ExecuteTimeLog": [
   {
    "duration": 910,
    "start_time": "2021-08-29T06:29:56.400Z"
   },
   {
    "duration": 4,
    "start_time": "2021-08-29T06:29:59.071Z"
   },
   {
    "duration": 3,
    "start_time": "2021-08-29T06:30:03.349Z"
   },
   {
    "duration": 185,
    "start_time": "2021-08-29T06:30:47.057Z"
   },
   {
    "duration": 27,
    "start_time": "2021-08-29T06:31:08.805Z"
   },
   {
    "duration": 32,
    "start_time": "2021-08-29T06:33:09.934Z"
   },
   {
    "duration": 7,
    "start_time": "2021-08-29T06:48:37.451Z"
   },
   {
    "duration": 5,
    "start_time": "2021-08-29T06:48:47.370Z"
   },
   {
    "duration": 4,
    "start_time": "2021-08-29T06:49:18.818Z"
   },
   {
    "duration": 31,
    "start_time": "2021-08-29T06:54:44.591Z"
   },
   {
    "duration": 334,
    "start_time": "2021-08-29T06:54:57.912Z"
   },
   {
    "duration": 6,
    "start_time": "2021-08-29T06:55:13.204Z"
   },
   {
    "duration": 35,
    "start_time": "2021-08-29T06:56:08.174Z"
   },
   {
    "duration": 30,
    "start_time": "2021-08-29T06:56:18.183Z"
   },
   {
    "duration": 23,
    "start_time": "2021-08-29T07:04:44.598Z"
   },
   {
    "duration": 48,
    "start_time": "2021-08-29T07:06:20.684Z"
   },
   {
    "duration": 26,
    "start_time": "2021-08-29T07:08:00.948Z"
   },
   {
    "duration": 31,
    "start_time": "2021-08-29T07:09:58.071Z"
   },
   {
    "duration": 29,
    "start_time": "2021-08-29T07:10:27.188Z"
   },
   {
    "duration": 28,
    "start_time": "2021-08-29T07:10:32.602Z"
   },
   {
    "duration": 3,
    "start_time": "2021-08-29T07:10:46.642Z"
   },
   {
    "duration": 175,
    "start_time": "2021-08-29T07:10:46.649Z"
   },
   {
    "duration": 15,
    "start_time": "2021-08-29T07:10:46.827Z"
   },
   {
    "duration": 54,
    "start_time": "2021-08-29T07:10:46.844Z"
   },
   {
    "duration": 7,
    "start_time": "2021-08-29T07:10:46.901Z"
   },
   {
    "duration": 34,
    "start_time": "2021-08-29T07:10:46.911Z"
   },
   {
    "duration": 19,
    "start_time": "2021-08-29T07:10:46.947Z"
   },
   {
    "duration": 4,
    "start_time": "2021-08-29T07:10:56.798Z"
   },
   {
    "duration": 195,
    "start_time": "2021-08-29T07:10:56.805Z"
   },
   {
    "duration": 18,
    "start_time": "2021-08-29T07:10:57.004Z"
   },
   {
    "duration": 58,
    "start_time": "2021-08-29T07:10:57.025Z"
   },
   {
    "duration": 6,
    "start_time": "2021-08-29T07:10:57.086Z"
   },
   {
    "duration": 19,
    "start_time": "2021-08-29T07:10:57.094Z"
   },
   {
    "duration": 5,
    "start_time": "2021-08-29T07:10:57.115Z"
   },
   {
    "duration": 30,
    "start_time": "2021-08-29T07:12:15.711Z"
   },
   {
    "duration": 20,
    "start_time": "2021-08-29T07:12:37.606Z"
   },
   {
    "duration": 28,
    "start_time": "2021-08-29T07:12:44.231Z"
   },
   {
    "duration": 12,
    "start_time": "2021-08-29T07:13:34.857Z"
   },
   {
    "duration": 14,
    "start_time": "2021-08-29T07:13:38.860Z"
   },
   {
    "duration": 21,
    "start_time": "2021-08-29T07:13:40.731Z"
   },
   {
    "duration": 22,
    "start_time": "2021-08-29T07:14:48.193Z"
   },
   {
    "duration": 23,
    "start_time": "2021-08-29T07:14:53.437Z"
   },
   {
    "duration": 24,
    "start_time": "2021-08-29T07:15:06.987Z"
   },
   {
    "duration": 35,
    "start_time": "2021-08-29T07:15:07.014Z"
   },
   {
    "duration": 9,
    "start_time": "2021-08-29T07:15:07.053Z"
   },
   {
    "duration": 20,
    "start_time": "2021-08-29T07:15:07.066Z"
   },
   {
    "duration": 13,
    "start_time": "2021-08-29T07:15:07.088Z"
   },
   {
    "duration": 15,
    "start_time": "2021-08-29T07:15:07.103Z"
   },
   {
    "duration": 18,
    "start_time": "2021-08-29T07:15:07.120Z"
   },
   {
    "duration": 10,
    "start_time": "2021-08-29T07:15:07.141Z"
   },
   {
    "duration": 20,
    "start_time": "2021-08-29T07:15:07.155Z"
   },
   {
    "duration": 18,
    "start_time": "2021-08-29T07:15:07.178Z"
   },
   {
    "duration": 11,
    "start_time": "2021-08-29T07:15:07.198Z"
   },
   {
    "duration": 18,
    "start_time": "2021-08-29T07:15:07.211Z"
   },
   {
    "duration": 24,
    "start_time": "2021-08-29T07:15:07.231Z"
   },
   {
    "duration": 15,
    "start_time": "2021-08-29T07:15:07.257Z"
   },
   {
    "duration": 8,
    "start_time": "2021-08-29T07:15:07.274Z"
   },
   {
    "duration": 6,
    "start_time": "2021-08-29T07:15:07.285Z"
   },
   {
    "duration": 6,
    "start_time": "2021-08-29T07:15:07.293Z"
   },
   {
    "duration": 10,
    "start_time": "2021-08-29T07:15:07.301Z"
   },
   {
    "duration": 12,
    "start_time": "2021-08-29T07:15:07.313Z"
   },
   {
    "duration": 9,
    "start_time": "2021-08-29T07:15:07.327Z"
   },
   {
    "duration": 8,
    "start_time": "2021-08-29T07:15:07.338Z"
   },
   {
    "duration": 14,
    "start_time": "2021-08-29T07:15:07.348Z"
   },
   {
    "duration": 4,
    "start_time": "2021-08-29T07:15:07.365Z"
   },
   {
    "duration": 7,
    "start_time": "2021-08-29T07:15:07.372Z"
   },
   {
    "duration": 13,
    "start_time": "2021-08-29T07:15:07.381Z"
   },
   {
    "duration": 7,
    "start_time": "2021-08-29T07:15:07.396Z"
   },
   {
    "duration": 3,
    "start_time": "2021-08-29T07:15:07.409Z"
   },
   {
    "duration": 6,
    "start_time": "2021-08-29T07:15:07.414Z"
   },
   {
    "duration": 7,
    "start_time": "2021-08-29T07:15:07.422Z"
   },
   {
    "duration": 7,
    "start_time": "2021-08-29T07:15:07.431Z"
   },
   {
    "duration": 4,
    "start_time": "2021-08-29T07:15:58.509Z"
   },
   {
    "duration": 188,
    "start_time": "2021-08-29T07:15:58.516Z"
   },
   {
    "duration": 17,
    "start_time": "2021-08-29T07:15:58.708Z"
   },
   {
    "duration": 58,
    "start_time": "2021-08-29T07:15:58.729Z"
   },
   {
    "duration": 9,
    "start_time": "2021-08-29T07:15:58.790Z"
   },
   {
    "duration": 32,
    "start_time": "2021-08-29T07:15:58.802Z"
   },
   {
    "duration": 30,
    "start_time": "2021-08-29T07:15:58.837Z"
   },
   {
    "duration": 3,
    "start_time": "2021-08-29T07:23:33.836Z"
   },
   {
    "duration": 228,
    "start_time": "2021-08-29T07:23:33.842Z"
   },
   {
    "duration": 15,
    "start_time": "2021-08-29T07:23:34.073Z"
   },
   {
    "duration": 38,
    "start_time": "2021-08-29T07:23:34.091Z"
   },
   {
    "duration": 30,
    "start_time": "2021-08-29T07:23:34.132Z"
   },
   {
    "duration": 29,
    "start_time": "2021-08-29T07:23:34.164Z"
   },
   {
    "duration": 5,
    "start_time": "2021-08-29T07:23:34.195Z"
   },
   {
    "duration": 4,
    "start_time": "2021-08-29T07:23:52.925Z"
   },
   {
    "duration": 193,
    "start_time": "2021-08-29T07:23:52.931Z"
   },
   {
    "duration": 18,
    "start_time": "2021-08-29T07:23:53.127Z"
   },
   {
    "duration": 44,
    "start_time": "2021-08-29T07:23:53.149Z"
   },
   {
    "duration": 6,
    "start_time": "2021-08-29T07:23:53.195Z"
   },
   {
    "duration": 58,
    "start_time": "2021-08-29T07:23:53.204Z"
   },
   {
    "duration": 6,
    "start_time": "2021-08-29T07:23:53.265Z"
   },
   {
    "duration": 32,
    "start_time": "2021-08-29T07:23:53.275Z"
   },
   {
    "duration": 4,
    "start_time": "2021-08-29T07:24:07.813Z"
   },
   {
    "duration": 205,
    "start_time": "2021-08-29T07:24:07.820Z"
   },
   {
    "duration": 15,
    "start_time": "2021-08-29T07:24:08.028Z"
   },
   {
    "duration": 56,
    "start_time": "2021-08-29T07:24:08.046Z"
   },
   {
    "duration": 5,
    "start_time": "2021-08-29T07:24:08.105Z"
   },
   {
    "duration": 26,
    "start_time": "2021-08-29T07:24:08.113Z"
   },
   {
    "duration": 5,
    "start_time": "2021-08-29T07:24:08.164Z"
   },
   {
    "duration": 4,
    "start_time": "2021-08-29T07:25:57.956Z"
   },
   {
    "duration": 228,
    "start_time": "2021-08-29T07:25:57.963Z"
   },
   {
    "duration": 14,
    "start_time": "2021-08-29T07:25:58.194Z"
   },
   {
    "duration": 51,
    "start_time": "2021-08-29T07:25:58.211Z"
   },
   {
    "duration": 7,
    "start_time": "2021-08-29T07:25:58.265Z"
   },
   {
    "duration": 29,
    "start_time": "2021-08-29T07:25:58.275Z"
   },
   {
    "duration": 6,
    "start_time": "2021-08-29T07:25:58.306Z"
   },
   {
    "duration": 73,
    "start_time": "2021-08-29T07:25:58.315Z"
   },
   {
    "duration": 23,
    "start_time": "2021-08-29T07:25:58.392Z"
   },
   {
    "duration": 27,
    "start_time": "2021-08-29T07:25:58.418Z"
   },
   {
    "duration": 38,
    "start_time": "2021-08-29T07:25:58.463Z"
   },
   {
    "duration": 3,
    "start_time": "2021-08-29T07:25:58.503Z"
   },
   {
    "duration": 7,
    "start_time": "2021-08-29T07:25:58.508Z"
   },
   {
    "duration": 8,
    "start_time": "2021-08-29T07:25:58.517Z"
   },
   {
    "duration": 36,
    "start_time": "2021-08-29T07:25:58.527Z"
   },
   {
    "duration": 21,
    "start_time": "2021-08-29T07:25:58.566Z"
   },
   {
    "duration": 13,
    "start_time": "2021-08-29T07:25:58.590Z"
   },
   {
    "duration": 10,
    "start_time": "2021-08-29T07:25:58.606Z"
   },
   {
    "duration": 18,
    "start_time": "2021-08-29T07:25:58.618Z"
   },
   {
    "duration": 18,
    "start_time": "2021-08-29T07:25:58.638Z"
   },
   {
    "duration": 14,
    "start_time": "2021-08-29T07:25:58.659Z"
   },
   {
    "duration": 9,
    "start_time": "2021-08-29T07:25:58.675Z"
   },
   {
    "duration": 11,
    "start_time": "2021-08-29T07:25:58.686Z"
   },
   {
    "duration": 10,
    "start_time": "2021-08-29T07:25:58.699Z"
   },
   {
    "duration": 9,
    "start_time": "2021-08-29T07:25:58.711Z"
   },
   {
    "duration": 6,
    "start_time": "2021-08-29T07:25:58.722Z"
   },
   {
    "duration": 12,
    "start_time": "2021-08-29T07:25:58.732Z"
   },
   {
    "duration": 5,
    "start_time": "2021-08-29T07:25:58.747Z"
   },
   {
    "duration": 9,
    "start_time": "2021-08-29T07:25:58.754Z"
   },
   {
    "duration": 11,
    "start_time": "2021-08-29T07:25:58.766Z"
   },
   {
    "duration": 10,
    "start_time": "2021-08-29T07:25:58.779Z"
   },
   {
    "duration": 13,
    "start_time": "2021-08-29T07:25:58.792Z"
   },
   {
    "duration": 6,
    "start_time": "2021-08-29T07:25:58.808Z"
   },
   {
    "duration": 10,
    "start_time": "2021-08-29T07:25:58.816Z"
   },
   {
    "duration": 8,
    "start_time": "2021-08-29T07:25:58.829Z"
   },
   {
    "duration": 7,
    "start_time": "2021-08-29T07:25:58.840Z"
   },
   {
    "duration": 12,
    "start_time": "2021-08-29T07:25:58.850Z"
   },
   {
    "duration": 17,
    "start_time": "2021-08-29T07:25:58.864Z"
   },
   {
    "duration": 10,
    "start_time": "2021-08-29T07:25:58.884Z"
   },
   {
    "duration": 31,
    "start_time": "2021-08-29T07:28:46.598Z"
   },
   {
    "duration": 756,
    "start_time": "2021-08-29T07:29:54.304Z"
   },
   {
    "duration": 214,
    "start_time": "2021-08-29T07:29:55.063Z"
   },
   {
    "duration": 25,
    "start_time": "2021-08-29T07:29:55.280Z"
   },
   {
    "duration": 58,
    "start_time": "2021-08-29T07:29:55.307Z"
   },
   {
    "duration": 6,
    "start_time": "2021-08-29T07:29:55.367Z"
   },
   {
    "duration": 37,
    "start_time": "2021-08-29T07:29:55.376Z"
   },
   {
    "duration": 10,
    "start_time": "2021-08-29T07:29:55.415Z"
   },
   {
    "duration": 71,
    "start_time": "2021-08-29T07:29:55.427Z"
   },
   {
    "duration": 30,
    "start_time": "2021-08-29T07:30:10.211Z"
   },
   {
    "duration": 36,
    "start_time": "2021-08-29T07:30:27.850Z"
   },
   {
    "duration": 35,
    "start_time": "2021-08-29T07:30:41.168Z"
   },
   {
    "duration": 29,
    "start_time": "2021-08-29T07:30:51.920Z"
   },
   {
    "duration": 29,
    "start_time": "2021-08-29T07:31:04.923Z"
   },
   {
    "duration": 31,
    "start_time": "2021-08-29T07:31:09.614Z"
   },
   {
    "duration": 29,
    "start_time": "2021-08-29T07:31:19.609Z"
   },
   {
    "duration": 49,
    "start_time": "2021-08-29T07:31:29.905Z"
   },
   {
    "duration": 24,
    "start_time": "2021-08-29T07:31:35.531Z"
   },
   {
    "duration": 50,
    "start_time": "2021-08-29T07:31:38.857Z"
   },
   {
    "duration": 22,
    "start_time": "2021-08-29T07:31:43.341Z"
   },
   {
    "duration": 22,
    "start_time": "2021-08-29T07:31:45.445Z"
   },
   {
    "duration": 37,
    "start_time": "2021-08-29T07:31:46.953Z"
   },
   {
    "duration": 28,
    "start_time": "2021-08-29T07:32:28.914Z"
   },
   {
    "duration": 31,
    "start_time": "2021-08-29T07:32:58.209Z"
   },
   {
    "duration": 4,
    "start_time": "2021-08-29T07:33:09.411Z"
   },
   {
    "duration": 202,
    "start_time": "2021-08-29T07:33:09.417Z"
   },
   {
    "duration": 16,
    "start_time": "2021-08-29T07:33:09.622Z"
   },
   {
    "duration": 50,
    "start_time": "2021-08-29T07:33:09.640Z"
   },
   {
    "duration": 6,
    "start_time": "2021-08-29T07:33:09.693Z"
   },
   {
    "duration": 31,
    "start_time": "2021-08-29T07:33:09.701Z"
   },
   {
    "duration": 30,
    "start_time": "2021-08-29T07:33:09.734Z"
   },
   {
    "duration": 49,
    "start_time": "2021-08-29T07:33:09.767Z"
   },
   {
    "duration": 37,
    "start_time": "2021-08-29T07:33:14.551Z"
   },
   {
    "duration": 36,
    "start_time": "2021-08-29T07:33:17.547Z"
   },
   {
    "duration": 34,
    "start_time": "2021-08-29T07:33:20.009Z"
   },
   {
    "duration": 24,
    "start_time": "2021-08-29T07:33:25.601Z"
   },
   {
    "duration": 21,
    "start_time": "2021-08-29T07:33:27.709Z"
   },
   {
    "duration": 21,
    "start_time": "2021-08-29T07:33:36.775Z"
   },
   {
    "duration": 85,
    "start_time": "2021-08-29T07:46:22.542Z"
   },
   {
    "duration": 81,
    "start_time": "2021-08-29T07:46:30.092Z"
   },
   {
    "duration": 91,
    "start_time": "2021-08-29T07:48:16.682Z"
   },
   {
    "duration": 72,
    "start_time": "2021-08-29T07:48:34.190Z"
   },
   {
    "duration": 64,
    "start_time": "2021-08-29T07:56:28.219Z"
   },
   {
    "duration": 57,
    "start_time": "2021-08-29T07:58:49.578Z"
   },
   {
    "duration": 57,
    "start_time": "2021-08-29T07:59:02.424Z"
   },
   {
    "duration": 12,
    "start_time": "2021-08-29T08:20:53.154Z"
   },
   {
    "duration": 403,
    "start_time": "2021-08-29T08:27:21.474Z"
   },
   {
    "duration": 3,
    "start_time": "2021-08-29T08:27:38.603Z"
   },
   {
    "duration": 209,
    "start_time": "2021-08-29T08:27:38.609Z"
   },
   {
    "duration": 16,
    "start_time": "2021-08-29T08:27:38.821Z"
   },
   {
    "duration": 58,
    "start_time": "2021-08-29T08:27:38.840Z"
   },
   {
    "duration": 8,
    "start_time": "2021-08-29T08:27:38.900Z"
   },
   {
    "duration": 19,
    "start_time": "2021-08-29T08:27:38.910Z"
   },
   {
    "duration": 36,
    "start_time": "2021-08-29T08:27:38.932Z"
   },
   {
    "duration": 39,
    "start_time": "2021-08-29T08:27:38.971Z"
   },
   {
    "duration": 58,
    "start_time": "2021-08-29T08:27:39.015Z"
   },
   {
    "duration": 29,
    "start_time": "2021-08-29T08:27:39.076Z"
   },
   {
    "duration": 19,
    "start_time": "2021-08-29T08:27:39.108Z"
   },
   {
    "duration": 110,
    "start_time": "2021-08-29T08:27:39.129Z"
   },
   {
    "duration": 107,
    "start_time": "2021-08-29T08:27:39.241Z"
   },
   {
    "duration": 86,
    "start_time": "2021-08-29T08:27:39.350Z"
   },
   {
    "duration": 79,
    "start_time": "2021-08-29T08:27:39.438Z"
   },
   {
    "duration": 4,
    "start_time": "2021-08-29T08:27:39.519Z"
   },
   {
    "duration": 3,
    "start_time": "2021-08-29T08:28:05.546Z"
   },
   {
    "duration": 201,
    "start_time": "2021-08-29T08:28:05.552Z"
   },
   {
    "duration": 22,
    "start_time": "2021-08-29T08:28:05.756Z"
   },
   {
    "duration": 37,
    "start_time": "2021-08-29T08:28:05.781Z"
   },
   {
    "duration": 5,
    "start_time": "2021-08-29T08:28:05.821Z"
   },
   {
    "duration": 53,
    "start_time": "2021-08-29T08:28:05.828Z"
   },
   {
    "duration": 6,
    "start_time": "2021-08-29T08:28:05.883Z"
   },
   {
    "duration": 42,
    "start_time": "2021-08-29T08:28:05.892Z"
   },
   {
    "duration": 56,
    "start_time": "2021-08-29T08:28:05.938Z"
   },
   {
    "duration": 24,
    "start_time": "2021-08-29T08:28:05.998Z"
   },
   {
    "duration": 54,
    "start_time": "2021-08-29T08:28:06.024Z"
   },
   {
    "duration": 96,
    "start_time": "2021-08-29T08:28:06.081Z"
   },
   {
    "duration": 105,
    "start_time": "2021-08-29T08:28:06.180Z"
   },
   {
    "duration": 87,
    "start_time": "2021-08-29T08:28:06.287Z"
   },
   {
    "duration": 55,
    "start_time": "2021-08-29T08:28:06.376Z"
   },
   {
    "duration": 14,
    "start_time": "2021-08-29T08:28:06.433Z"
   },
   {
    "duration": 691,
    "start_time": "2021-08-29T08:28:38.529Z"
   },
   {
    "duration": 611,
    "start_time": "2021-08-29T08:31:45.769Z"
   },
   {
    "duration": 734,
    "start_time": "2021-08-29T08:33:23.700Z"
   },
   {
    "duration": 555,
    "start_time": "2021-08-29T08:33:32.133Z"
   },
   {
    "duration": 34,
    "start_time": "2021-08-29T08:34:45.075Z"
   },
   {
    "duration": 36,
    "start_time": "2021-08-29T08:35:07.229Z"
   },
   {
    "duration": 290,
    "start_time": "2021-08-29T08:36:08.653Z"
   },
   {
    "duration": 64,
    "start_time": "2021-08-29T08:37:00.197Z"
   },
   {
    "duration": 58,
    "start_time": "2021-08-29T08:37:21.317Z"
   },
   {
    "duration": 4,
    "start_time": "2021-08-29T08:37:34.863Z"
   },
   {
    "duration": 25,
    "start_time": "2021-08-29T08:37:37.449Z"
   },
   {
    "duration": 56,
    "start_time": "2021-08-29T08:37:40.684Z"
   },
   {
    "duration": 12,
    "start_time": "2021-08-29T09:16:13.044Z"
   },
   {
    "duration": 11,
    "start_time": "2021-08-29T09:16:35.726Z"
   },
   {
    "duration": 26,
    "start_time": "2021-08-29T09:21:05.440Z"
   },
   {
    "duration": 16,
    "start_time": "2021-08-29T09:21:19.723Z"
   },
   {
    "duration": 17,
    "start_time": "2021-08-29T09:22:13.507Z"
   },
   {
    "duration": 299,
    "start_time": "2021-08-29T09:27:25.331Z"
   },
   {
    "duration": 16,
    "start_time": "2021-08-29T09:27:59.717Z"
   },
   {
    "duration": 13,
    "start_time": "2021-08-29T09:28:08.536Z"
   },
   {
    "duration": 13,
    "start_time": "2021-08-29T09:28:20.523Z"
   },
   {
    "duration": 267,
    "start_time": "2021-08-29T09:50:14.485Z"
   },
   {
    "duration": 4,
    "start_time": "2021-08-29T09:50:38.197Z"
   },
   {
    "duration": 195,
    "start_time": "2021-08-29T09:50:38.204Z"
   },
   {
    "duration": 16,
    "start_time": "2021-08-29T09:50:38.401Z"
   },
   {
    "duration": 57,
    "start_time": "2021-08-29T09:50:38.419Z"
   },
   {
    "duration": 5,
    "start_time": "2021-08-29T09:50:38.478Z"
   },
   {
    "duration": 36,
    "start_time": "2021-08-29T09:50:38.497Z"
   },
   {
    "duration": 29,
    "start_time": "2021-08-29T09:50:38.537Z"
   },
   {
    "duration": 37,
    "start_time": "2021-08-29T09:50:38.570Z"
   },
   {
    "duration": 54,
    "start_time": "2021-08-29T09:50:38.610Z"
   },
   {
    "duration": 25,
    "start_time": "2021-08-29T09:50:38.667Z"
   },
   {
    "duration": 28,
    "start_time": "2021-08-29T09:50:38.694Z"
   },
   {
    "duration": 107,
    "start_time": "2021-08-29T09:50:38.724Z"
   },
   {
    "duration": 116,
    "start_time": "2021-08-29T09:50:38.833Z"
   },
   {
    "duration": 91,
    "start_time": "2021-08-29T09:50:38.951Z"
   },
   {
    "duration": 65,
    "start_time": "2021-08-29T09:50:39.044Z"
   },
   {
    "duration": 14,
    "start_time": "2021-08-29T09:50:39.112Z"
   },
   {
    "duration": 28,
    "start_time": "2021-08-29T09:50:39.129Z"
   },
   {
    "duration": 72,
    "start_time": "2021-08-29T09:50:39.159Z"
   },
   {
    "duration": 26,
    "start_time": "2021-08-29T09:50:39.235Z"
   },
   {
    "duration": 17,
    "start_time": "2021-08-29T09:50:39.264Z"
   },
   {
    "duration": 102,
    "start_time": "2021-08-29T09:50:39.284Z"
   },
   {
    "duration": 4,
    "start_time": "2021-08-29T09:51:15.096Z"
   },
   {
    "duration": 201,
    "start_time": "2021-08-29T09:51:15.102Z"
   },
   {
    "duration": 16,
    "start_time": "2021-08-29T09:51:15.306Z"
   },
   {
    "duration": 60,
    "start_time": "2021-08-29T09:51:15.325Z"
   },
   {
    "duration": 20,
    "start_time": "2021-08-29T09:51:15.387Z"
   },
   {
    "duration": 23,
    "start_time": "2021-08-29T09:51:15.409Z"
   },
   {
    "duration": 6,
    "start_time": "2021-08-29T09:51:15.435Z"
   },
   {
    "duration": 53,
    "start_time": "2021-08-29T09:51:15.444Z"
   },
   {
    "duration": 28,
    "start_time": "2021-08-29T09:51:15.501Z"
   },
   {
    "duration": 51,
    "start_time": "2021-08-29T09:51:15.532Z"
   },
   {
    "duration": 20,
    "start_time": "2021-08-29T09:51:15.586Z"
   },
   {
    "duration": 101,
    "start_time": "2021-08-29T09:51:15.609Z"
   },
   {
    "duration": 105,
    "start_time": "2021-08-29T09:51:15.713Z"
   },
   {
    "duration": 84,
    "start_time": "2021-08-29T09:51:15.820Z"
   },
   {
    "duration": 65,
    "start_time": "2021-08-29T09:51:15.906Z"
   },
   {
    "duration": 4,
    "start_time": "2021-08-29T09:51:15.975Z"
   },
   {
    "duration": 27,
    "start_time": "2021-08-29T09:51:15.982Z"
   },
   {
    "duration": 81,
    "start_time": "2021-08-29T09:51:16.011Z"
   },
   {
    "duration": 17,
    "start_time": "2021-08-29T09:51:16.094Z"
   },
   {
    "duration": 48,
    "start_time": "2021-08-29T09:51:16.113Z"
   },
   {
    "duration": 81,
    "start_time": "2021-08-29T09:51:16.164Z"
   },
   {
    "duration": 4,
    "start_time": "2021-08-29T09:51:38.520Z"
   },
   {
    "duration": 206,
    "start_time": "2021-08-29T09:51:38.526Z"
   },
   {
    "duration": 27,
    "start_time": "2021-08-29T09:51:38.735Z"
   },
   {
    "duration": 35,
    "start_time": "2021-08-29T09:51:38.765Z"
   },
   {
    "duration": 7,
    "start_time": "2021-08-29T09:51:38.802Z"
   },
   {
    "duration": 50,
    "start_time": "2021-08-29T09:51:38.812Z"
   },
   {
    "duration": 6,
    "start_time": "2021-08-29T09:51:38.867Z"
   },
   {
    "duration": 36,
    "start_time": "2021-08-29T09:51:38.877Z"
   },
   {
    "duration": 49,
    "start_time": "2021-08-29T09:51:38.916Z"
   },
   {
    "duration": 30,
    "start_time": "2021-08-29T09:51:38.968Z"
   },
   {
    "duration": 19,
    "start_time": "2021-08-29T09:51:39.000Z"
   },
   {
    "duration": 119,
    "start_time": "2021-08-29T09:51:39.022Z"
   },
   {
    "duration": 106,
    "start_time": "2021-08-29T09:51:39.144Z"
   },
   {
    "duration": 120,
    "start_time": "2021-08-29T09:51:39.253Z"
   },
   {
    "duration": 93,
    "start_time": "2021-08-29T09:51:39.376Z"
   },
   {
    "duration": 5,
    "start_time": "2021-08-29T09:51:39.473Z"
   },
   {
    "duration": 36,
    "start_time": "2021-08-29T09:51:39.481Z"
   },
   {
    "duration": 95,
    "start_time": "2021-08-29T09:51:39.520Z"
   },
   {
    "duration": 16,
    "start_time": "2021-08-29T09:51:39.619Z"
   },
   {
    "duration": 40,
    "start_time": "2021-08-29T09:51:39.637Z"
   },
   {
    "duration": 5,
    "start_time": "2021-08-29T09:51:39.681Z"
   },
   {
    "duration": 4,
    "start_time": "2021-08-29T09:51:53.220Z"
   },
   {
    "duration": 212,
    "start_time": "2021-08-29T09:51:53.226Z"
   },
   {
    "duration": 22,
    "start_time": "2021-08-29T09:51:53.441Z"
   },
   {
    "duration": 48,
    "start_time": "2021-08-29T09:51:53.467Z"
   },
   {
    "duration": 5,
    "start_time": "2021-08-29T09:51:53.517Z"
   },
   {
    "duration": 49,
    "start_time": "2021-08-29T09:51:53.525Z"
   },
   {
    "duration": 6,
    "start_time": "2021-08-29T09:51:53.577Z"
   },
   {
    "duration": 31,
    "start_time": "2021-08-29T09:51:53.586Z"
   },
   {
    "duration": 55,
    "start_time": "2021-08-29T09:51:53.621Z"
   },
   {
    "duration": 24,
    "start_time": "2021-08-29T09:51:53.680Z"
   },
   {
    "duration": 19,
    "start_time": "2021-08-29T09:51:53.706Z"
   },
   {
    "duration": 115,
    "start_time": "2021-08-29T09:51:53.727Z"
   },
   {
    "duration": 106,
    "start_time": "2021-08-29T09:51:53.844Z"
   },
   {
    "duration": 91,
    "start_time": "2021-08-29T09:51:53.952Z"
   },
   {
    "duration": 71,
    "start_time": "2021-08-29T09:51:54.045Z"
   },
   {
    "duration": 4,
    "start_time": "2021-08-29T09:51:54.119Z"
   },
   {
    "duration": 50,
    "start_time": "2021-08-29T09:51:54.125Z"
   },
   {
    "duration": 56,
    "start_time": "2021-08-29T09:51:54.178Z"
   },
   {
    "duration": 34,
    "start_time": "2021-08-29T09:51:54.236Z"
   },
   {
    "duration": 23,
    "start_time": "2021-08-29T09:51:54.273Z"
   },
   {
    "duration": 5,
    "start_time": "2021-08-29T09:51:54.300Z"
   },
   {
    "duration": 30,
    "start_time": "2021-08-29T09:51:54.308Z"
   },
   {
    "duration": 4,
    "start_time": "2021-08-29T09:52:44.526Z"
   },
   {
    "duration": 217,
    "start_time": "2021-08-29T09:52:44.532Z"
   },
   {
    "duration": 15,
    "start_time": "2021-08-29T09:52:44.752Z"
   },
   {
    "duration": 38,
    "start_time": "2021-08-29T09:52:44.770Z"
   },
   {
    "duration": 5,
    "start_time": "2021-08-29T09:52:44.810Z"
   },
   {
    "duration": 65,
    "start_time": "2021-08-29T09:52:44.818Z"
   },
   {
    "duration": 8,
    "start_time": "2021-08-29T09:52:44.885Z"
   },
   {
    "duration": 36,
    "start_time": "2021-08-29T09:52:44.897Z"
   },
   {
    "duration": 54,
    "start_time": "2021-08-29T09:52:44.937Z"
   },
   {
    "duration": 23,
    "start_time": "2021-08-29T09:52:44.994Z"
   },
   {
    "duration": 44,
    "start_time": "2021-08-29T09:52:45.019Z"
   },
   {
    "duration": 96,
    "start_time": "2021-08-29T09:52:45.066Z"
   },
   {
    "duration": 115,
    "start_time": "2021-08-29T09:52:45.166Z"
   },
   {
    "duration": 84,
    "start_time": "2021-08-29T09:52:45.284Z"
   },
   {
    "duration": 61,
    "start_time": "2021-08-29T09:52:45.371Z"
   },
   {
    "duration": 4,
    "start_time": "2021-08-29T09:52:45.435Z"
   },
   {
    "duration": 43,
    "start_time": "2021-08-29T09:52:45.441Z"
   },
   {
    "duration": 52,
    "start_time": "2021-08-29T09:52:45.486Z"
   },
   {
    "duration": 18,
    "start_time": "2021-08-29T09:52:45.563Z"
   },
   {
    "duration": 21,
    "start_time": "2021-08-29T09:52:45.583Z"
   },
   {
    "duration": 5,
    "start_time": "2021-08-29T09:52:45.607Z"
   },
   {
    "duration": 57,
    "start_time": "2021-08-29T09:52:45.615Z"
   },
   {
    "duration": 3,
    "start_time": "2021-08-29T09:53:13.112Z"
   },
   {
    "duration": 189,
    "start_time": "2021-08-29T09:53:13.118Z"
   },
   {
    "duration": 15,
    "start_time": "2021-08-29T09:53:13.310Z"
   },
   {
    "duration": 55,
    "start_time": "2021-08-29T09:53:13.327Z"
   },
   {
    "duration": 5,
    "start_time": "2021-08-29T09:53:13.385Z"
   },
   {
    "duration": 39,
    "start_time": "2021-08-29T09:53:13.392Z"
   },
   {
    "duration": 5,
    "start_time": "2021-08-29T09:53:13.434Z"
   },
   {
    "duration": 55,
    "start_time": "2021-08-29T09:53:13.441Z"
   },
   {
    "duration": 27,
    "start_time": "2021-08-29T09:53:13.501Z"
   },
   {
    "duration": 54,
    "start_time": "2021-08-29T09:53:13.531Z"
   },
   {
    "duration": 20,
    "start_time": "2021-08-29T09:53:13.588Z"
   },
   {
    "duration": 98,
    "start_time": "2021-08-29T09:53:13.611Z"
   },
   {
    "duration": 106,
    "start_time": "2021-08-29T09:53:13.711Z"
   },
   {
    "duration": 83,
    "start_time": "2021-08-29T09:53:13.820Z"
   },
   {
    "duration": 64,
    "start_time": "2021-08-29T09:53:13.906Z"
   },
   {
    "duration": 15,
    "start_time": "2021-08-29T09:53:13.974Z"
   },
   {
    "duration": 28,
    "start_time": "2021-08-29T09:53:13.991Z"
   },
   {
    "duration": 84,
    "start_time": "2021-08-29T09:53:14.021Z"
   },
   {
    "duration": 15,
    "start_time": "2021-08-29T09:53:14.107Z"
   },
   {
    "duration": 48,
    "start_time": "2021-08-29T09:53:14.125Z"
   },
   {
    "duration": 5,
    "start_time": "2021-08-29T09:53:14.176Z"
   },
   {
    "duration": 31,
    "start_time": "2021-08-29T09:53:14.183Z"
   },
   {
    "duration": 4,
    "start_time": "2021-08-29T09:53:40.741Z"
   },
   {
    "duration": 215,
    "start_time": "2021-08-29T09:53:40.747Z"
   },
   {
    "duration": 21,
    "start_time": "2021-08-29T09:53:40.966Z"
   },
   {
    "duration": 35,
    "start_time": "2021-08-29T09:53:40.991Z"
   },
   {
    "duration": 37,
    "start_time": "2021-08-29T09:53:41.030Z"
   },
   {
    "duration": 34,
    "start_time": "2021-08-29T09:53:41.071Z"
   },
   {
    "duration": 12,
    "start_time": "2021-08-29T09:53:41.108Z"
   },
   {
    "duration": 53,
    "start_time": "2021-08-29T09:53:41.124Z"
   },
   {
    "duration": 45,
    "start_time": "2021-08-29T09:53:41.181Z"
   },
   {
    "duration": 54,
    "start_time": "2021-08-29T09:53:41.229Z"
   },
   {
    "duration": 23,
    "start_time": "2021-08-29T09:53:41.287Z"
   },
   {
    "duration": 118,
    "start_time": "2021-08-29T09:53:41.313Z"
   },
   {
    "duration": 118,
    "start_time": "2021-08-29T09:53:41.434Z"
   },
   {
    "duration": 89,
    "start_time": "2021-08-29T09:53:41.554Z"
   },
   {
    "duration": 82,
    "start_time": "2021-08-29T09:53:41.646Z"
   },
   {
    "duration": 4,
    "start_time": "2021-08-29T09:53:41.731Z"
   },
   {
    "duration": 47,
    "start_time": "2021-08-29T09:53:41.737Z"
   },
   {
    "duration": 58,
    "start_time": "2021-08-29T09:53:41.789Z"
   },
   {
    "duration": 32,
    "start_time": "2021-08-29T09:53:41.850Z"
   },
   {
    "duration": 26,
    "start_time": "2021-08-29T09:53:41.886Z"
   },
   {
    "duration": 5,
    "start_time": "2021-08-29T09:53:41.915Z"
   },
   {
    "duration": 60,
    "start_time": "2021-08-29T09:53:41.923Z"
   },
   {
    "duration": 41,
    "start_time": "2021-08-29T09:53:41.989Z"
   },
   {
    "duration": 25,
    "start_time": "2021-08-29T09:54:31.867Z"
   },
   {
    "duration": 38,
    "start_time": "2021-08-29T09:58:57.553Z"
   },
   {
    "duration": 19,
    "start_time": "2021-08-29T10:00:02.731Z"
   },
   {
    "duration": 22,
    "start_time": "2021-08-29T10:00:17.258Z"
   },
   {
    "duration": 23,
    "start_time": "2021-08-29T10:02:12.584Z"
   },
   {
    "duration": 18,
    "start_time": "2021-08-29T10:02:59.632Z"
   },
   {
    "duration": 20,
    "start_time": "2021-08-29T10:04:59.314Z"
   },
   {
    "duration": 18,
    "start_time": "2021-08-29T10:05:32.561Z"
   },
   {
    "duration": 22,
    "start_time": "2021-08-29T10:05:39.268Z"
   },
   {
    "duration": 6,
    "start_time": "2021-08-29T10:14:16.483Z"
   },
   {
    "duration": 13,
    "start_time": "2021-08-29T10:14:49.986Z"
   },
   {
    "duration": 29,
    "start_time": "2021-08-29T10:22:49.213Z"
   },
   {
    "duration": 27,
    "start_time": "2021-08-29T10:23:04.672Z"
   },
   {
    "duration": 14,
    "start_time": "2021-08-29T10:23:32.682Z"
   },
   {
    "duration": 86,
    "start_time": "2021-08-29T10:42:26.189Z"
   },
   {
    "duration": 281,
    "start_time": "2021-08-29T10:42:34.006Z"
   },
   {
    "duration": 91,
    "start_time": "2021-08-29T10:42:45.567Z"
   },
   {
    "duration": 5,
    "start_time": "2021-08-29T10:43:06.406Z"
   },
   {
    "duration": 523,
    "start_time": "2021-08-29T10:43:10.008Z"
   },
   {
    "duration": 6,
    "start_time": "2021-08-29T10:43:34.225Z"
   },
   {
    "duration": 527,
    "start_time": "2021-08-29T10:43:37.174Z"
   },
   {
    "duration": 5,
    "start_time": "2021-08-29T10:43:58.864Z"
   },
   {
    "duration": -146,
    "start_time": "2021-08-29T10:44:08.126Z"
   },
   {
    "duration": 6193,
    "start_time": "2021-08-29T10:44:10.527Z"
   },
   {
    "duration": -80,
    "start_time": "2021-08-29T10:46:38.397Z"
   },
   {
    "duration": -83,
    "start_time": "2021-08-29T10:46:38.402Z"
   },
   {
    "duration": 6,
    "start_time": "2021-08-29T10:46:40.323Z"
   },
   {
    "duration": 39,
    "start_time": "2021-08-29T10:46:43.042Z"
   },
   {
    "duration": 9,
    "start_time": "2021-08-29T10:47:04.898Z"
   },
   {
    "duration": 38,
    "start_time": "2021-08-29T10:47:06.748Z"
   },
   {
    "duration": 6,
    "start_time": "2021-08-29T10:48:00.051Z"
   },
   {
    "duration": 37,
    "start_time": "2021-08-29T10:48:02.886Z"
   },
   {
    "duration": 6,
    "start_time": "2021-08-29T10:48:21.532Z"
   },
   {
    "duration": 30,
    "start_time": "2021-08-29T10:48:31.036Z"
   },
   {
    "duration": 6,
    "start_time": "2021-08-29T10:49:03.356Z"
   },
   {
    "duration": 37,
    "start_time": "2021-08-29T10:49:05.634Z"
   },
   {
    "duration": 10,
    "start_time": "2021-08-29T10:49:49.174Z"
   },
   {
    "duration": 34,
    "start_time": "2021-08-29T10:49:52.155Z"
   },
   {
    "duration": 24,
    "start_time": "2021-08-29T10:50:30.937Z"
   },
   {
    "duration": 83,
    "start_time": "2021-08-29T10:51:11.496Z"
   },
   {
    "duration": 21,
    "start_time": "2021-08-29T10:51:19.205Z"
   },
   {
    "duration": 31,
    "start_time": "2021-08-29T10:51:26.371Z"
   },
   {
    "duration": 20,
    "start_time": "2021-08-29T10:52:13.582Z"
   },
   {
    "duration": 30,
    "start_time": "2021-08-29T10:52:34.915Z"
   },
   {
    "duration": 22,
    "start_time": "2021-08-29T10:52:50.575Z"
   },
   {
    "duration": 320,
    "start_time": "2021-08-29T13:51:25.304Z"
   },
   {
    "duration": 727,
    "start_time": "2021-08-29T13:51:36.048Z"
   },
   {
    "duration": 203,
    "start_time": "2021-08-29T13:51:36.777Z"
   },
   {
    "duration": 24,
    "start_time": "2021-08-29T13:51:36.983Z"
   },
   {
    "duration": 35,
    "start_time": "2021-08-29T13:51:37.010Z"
   },
   {
    "duration": 5,
    "start_time": "2021-08-29T13:51:37.048Z"
   },
   {
    "duration": 30,
    "start_time": "2021-08-29T13:51:37.083Z"
   },
   {
    "duration": 7,
    "start_time": "2021-08-29T13:51:37.116Z"
   },
   {
    "duration": 30,
    "start_time": "2021-08-29T13:51:37.125Z"
   },
   {
    "duration": 27,
    "start_time": "2021-08-29T13:51:37.184Z"
   },
   {
    "duration": 23,
    "start_time": "2021-08-29T13:51:37.214Z"
   },
   {
    "duration": 43,
    "start_time": "2021-08-29T13:51:37.239Z"
   },
   {
    "duration": 79,
    "start_time": "2021-08-29T13:51:37.284Z"
   },
   {
    "duration": 104,
    "start_time": "2021-08-29T13:51:37.367Z"
   },
   {
    "duration": 70,
    "start_time": "2021-08-29T13:51:37.483Z"
   },
   {
    "duration": 76,
    "start_time": "2021-08-29T13:51:37.556Z"
   },
   {
    "duration": 5,
    "start_time": "2021-08-29T13:51:37.634Z"
   },
   {
    "duration": 59,
    "start_time": "2021-08-29T13:51:37.642Z"
   },
   {
    "duration": 82,
    "start_time": "2021-08-29T13:51:37.704Z"
   },
   {
    "duration": 16,
    "start_time": "2021-08-29T13:51:37.789Z"
   },
   {
    "duration": 14,
    "start_time": "2021-08-29T13:51:37.807Z"
   },
   {
    "duration": 4,
    "start_time": "2021-08-29T13:51:37.823Z"
   },
   {
    "duration": 53,
    "start_time": "2021-08-29T13:51:37.829Z"
   },
   {
    "duration": 17,
    "start_time": "2021-08-29T13:51:37.884Z"
   },
   {
    "duration": 19,
    "start_time": "2021-08-29T13:51:37.903Z"
   },
   {
    "duration": 14,
    "start_time": "2021-08-29T13:51:37.925Z"
   },
   {
    "duration": 51,
    "start_time": "2021-08-29T13:51:37.942Z"
   },
   {
    "duration": 16,
    "start_time": "2021-08-29T13:51:37.998Z"
   },
   {
    "duration": 11,
    "start_time": "2021-08-29T13:51:38.017Z"
   },
   {
    "duration": 15,
    "start_time": "2021-08-29T13:51:38.030Z"
   },
   {
    "duration": 12,
    "start_time": "2021-08-29T13:51:38.082Z"
   },
   {
    "duration": 5,
    "start_time": "2021-08-29T13:51:38.096Z"
   },
   {
    "duration": 31,
    "start_time": "2021-08-29T13:51:38.103Z"
   },
   {
    "duration": 16,
    "start_time": "2021-08-29T13:51:38.136Z"
   },
   {
    "duration": 25,
    "start_time": "2021-08-29T13:51:38.183Z"
   },
   {
    "duration": 19,
    "start_time": "2021-08-29T13:51:38.210Z"
   },
   {
    "duration": 10,
    "start_time": "2021-08-29T13:51:48.199Z"
   },
   {
    "duration": 10,
    "start_time": "2021-08-29T13:52:15.581Z"
   },
   {
    "duration": 318,
    "start_time": "2021-08-29T16:51:43.994Z"
   },
   {
    "duration": 778,
    "start_time": "2021-08-29T16:51:52.699Z"
   },
   {
    "duration": 172,
    "start_time": "2021-08-29T16:51:53.482Z"
   },
   {
    "duration": 36,
    "start_time": "2021-08-29T16:51:53.657Z"
   },
   {
    "duration": 34,
    "start_time": "2021-08-29T16:51:53.696Z"
   },
   {
    "duration": 5,
    "start_time": "2021-08-29T16:51:53.733Z"
   },
   {
    "duration": 59,
    "start_time": "2021-08-29T16:51:53.741Z"
   },
   {
    "duration": 5,
    "start_time": "2021-08-29T16:51:53.802Z"
   },
   {
    "duration": 32,
    "start_time": "2021-08-29T16:51:53.810Z"
   },
   {
    "duration": 49,
    "start_time": "2021-08-29T16:51:53.846Z"
   },
   {
    "duration": 23,
    "start_time": "2021-08-29T16:51:53.898Z"
   },
   {
    "duration": 20,
    "start_time": "2021-08-29T16:51:53.923Z"
   },
   {
    "duration": 111,
    "start_time": "2021-08-29T16:51:53.946Z"
   },
   {
    "duration": 109,
    "start_time": "2021-08-29T16:51:54.059Z"
   },
   {
    "duration": 80,
    "start_time": "2021-08-29T16:51:54.170Z"
   },
   {
    "duration": 65,
    "start_time": "2021-08-29T16:51:54.252Z"
   },
   {
    "duration": 3,
    "start_time": "2021-08-29T16:51:54.319Z"
   },
   {
    "duration": 27,
    "start_time": "2021-08-29T16:51:54.325Z"
   },
   {
    "duration": 78,
    "start_time": "2021-08-29T16:51:54.354Z"
   },
   {
    "duration": 16,
    "start_time": "2021-08-29T16:51:54.435Z"
   },
   {
    "duration": 39,
    "start_time": "2021-08-29T16:51:54.454Z"
   },
   {
    "duration": 5,
    "start_time": "2021-08-29T16:51:54.495Z"
   },
   {
    "duration": 24,
    "start_time": "2021-08-29T16:51:54.502Z"
   },
   {
    "duration": 17,
    "start_time": "2021-08-29T16:51:54.528Z"
   },
   {
    "duration": 47,
    "start_time": "2021-08-29T16:51:54.547Z"
   },
   {
    "duration": 17,
    "start_time": "2021-08-29T16:51:54.597Z"
   },
   {
    "duration": 20,
    "start_time": "2021-08-29T16:51:54.616Z"
   },
   {
    "duration": 51,
    "start_time": "2021-08-29T16:51:54.641Z"
   },
   {
    "duration": 11,
    "start_time": "2021-08-29T16:51:54.695Z"
   },
   {
    "duration": 16,
    "start_time": "2021-08-29T16:51:54.708Z"
   },
   {
    "duration": 11,
    "start_time": "2021-08-29T16:51:54.726Z"
   },
   {
    "duration": 6,
    "start_time": "2021-08-29T16:51:54.739Z"
   },
   {
    "duration": 26,
    "start_time": "2021-08-29T16:51:54.783Z"
   },
   {
    "duration": 19,
    "start_time": "2021-08-29T16:51:54.811Z"
   },
   {
    "duration": 56,
    "start_time": "2021-08-29T16:51:54.832Z"
   },
   {
    "duration": 19,
    "start_time": "2021-08-29T16:51:54.891Z"
   },
   {
    "duration": 3,
    "start_time": "2021-08-29T16:52:03.527Z"
   },
   {
    "duration": 287,
    "start_time": "2021-08-29T16:52:16.417Z"
   },
   {
    "duration": 4,
    "start_time": "2021-08-29T16:52:35.500Z"
   },
   {
    "duration": 195,
    "start_time": "2021-08-29T16:52:35.507Z"
   },
   {
    "duration": 14,
    "start_time": "2021-08-29T16:52:35.705Z"
   },
   {
    "duration": 35,
    "start_time": "2021-08-29T16:52:35.722Z"
   },
   {
    "duration": 5,
    "start_time": "2021-08-29T16:52:35.760Z"
   },
   {
    "duration": 42,
    "start_time": "2021-08-29T16:52:35.767Z"
   },
   {
    "duration": 6,
    "start_time": "2021-08-29T16:52:35.811Z"
   },
   {
    "duration": 66,
    "start_time": "2021-08-29T16:52:35.819Z"
   },
   {
    "duration": 27,
    "start_time": "2021-08-29T16:52:35.889Z"
   },
   {
    "duration": 21,
    "start_time": "2021-08-29T16:52:35.920Z"
   },
   {
    "duration": 48,
    "start_time": "2021-08-29T16:52:35.943Z"
   },
   {
    "duration": 92,
    "start_time": "2021-08-29T16:52:35.994Z"
   },
   {
    "duration": 100,
    "start_time": "2021-08-29T16:52:36.089Z"
   },
   {
    "duration": 72,
    "start_time": "2021-08-29T16:52:36.191Z"
   },
   {
    "duration": 67,
    "start_time": "2021-08-29T16:52:36.265Z"
   },
   {
    "duration": 4,
    "start_time": "2021-08-29T16:52:36.335Z"
   },
   {
    "duration": 51,
    "start_time": "2021-08-29T16:52:36.341Z"
   },
   {
    "duration": 52,
    "start_time": "2021-08-29T16:52:36.395Z"
   },
   {
    "duration": 37,
    "start_time": "2021-08-29T16:52:36.449Z"
   },
   {
    "duration": 17,
    "start_time": "2021-08-29T16:52:36.488Z"
   },
   {
    "duration": 5,
    "start_time": "2021-08-29T16:52:36.507Z"
   },
   {
    "duration": 26,
    "start_time": "2021-08-29T16:52:36.514Z"
   },
   {
    "duration": 47,
    "start_time": "2021-08-29T16:52:36.543Z"
   },
   {
    "duration": 20,
    "start_time": "2021-08-29T16:52:36.594Z"
   },
   {
    "duration": 17,
    "start_time": "2021-08-29T16:52:36.617Z"
   },
   {
    "duration": 62,
    "start_time": "2021-08-29T16:52:36.636Z"
   },
   {
    "duration": 19,
    "start_time": "2021-08-29T16:52:36.703Z"
   },
   {
    "duration": 11,
    "start_time": "2021-08-29T16:52:36.725Z"
   },
   {
    "duration": 52,
    "start_time": "2021-08-29T16:52:36.738Z"
   },
   {
    "duration": 14,
    "start_time": "2021-08-29T16:52:36.792Z"
   },
   {
    "duration": 6,
    "start_time": "2021-08-29T16:52:36.808Z"
   },
   {
    "duration": 30,
    "start_time": "2021-08-29T16:52:36.816Z"
   },
   {
    "duration": 44,
    "start_time": "2021-08-29T16:52:36.848Z"
   },
   {
    "duration": 26,
    "start_time": "2021-08-29T16:52:36.895Z"
   },
   {
    "duration": 20,
    "start_time": "2021-08-29T16:52:36.923Z"
   },
   {
    "duration": 36,
    "start_time": "2021-08-29T16:52:36.946Z"
   },
   {
    "duration": 240,
    "start_time": "2021-08-29T16:52:55.594Z"
   },
   {
    "duration": 4,
    "start_time": "2021-08-29T16:53:12.268Z"
   },
   {
    "duration": 7,
    "start_time": "2021-08-29T16:53:16.556Z"
   },
   {
    "duration": 5,
    "start_time": "2021-08-29T16:56:44.049Z"
   },
   {
    "duration": 4,
    "start_time": "2021-08-29T16:58:47.176Z"
   },
   {
    "duration": 202,
    "start_time": "2021-08-29T16:58:47.183Z"
   },
   {
    "duration": 14,
    "start_time": "2021-08-29T16:58:47.388Z"
   },
   {
    "duration": 35,
    "start_time": "2021-08-29T16:58:47.405Z"
   },
   {
    "duration": 7,
    "start_time": "2021-08-29T16:58:47.442Z"
   },
   {
    "duration": 56,
    "start_time": "2021-08-29T16:58:47.451Z"
   },
   {
    "duration": 6,
    "start_time": "2021-08-29T16:58:47.509Z"
   },
   {
    "duration": 39,
    "start_time": "2021-08-29T16:58:47.517Z"
   },
   {
    "duration": 51,
    "start_time": "2021-08-29T16:58:47.560Z"
   },
   {
    "duration": 22,
    "start_time": "2021-08-29T16:58:47.614Z"
   },
   {
    "duration": 18,
    "start_time": "2021-08-29T16:58:47.639Z"
   },
   {
    "duration": 82,
    "start_time": "2021-08-29T16:58:47.684Z"
   },
   {
    "duration": 100,
    "start_time": "2021-08-29T16:58:47.782Z"
   },
   {
    "duration": 74,
    "start_time": "2021-08-29T16:58:47.885Z"
   },
   {
    "duration": 67,
    "start_time": "2021-08-29T16:58:47.961Z"
   },
   {
    "duration": 11,
    "start_time": "2021-08-29T16:58:48.031Z"
   },
   {
    "duration": 38,
    "start_time": "2021-08-29T16:58:48.044Z"
   },
   {
    "duration": 50,
    "start_time": "2021-08-29T16:58:48.085Z"
   },
   {
    "duration": 16,
    "start_time": "2021-08-29T16:58:48.138Z"
   },
   {
    "duration": 44,
    "start_time": "2021-08-29T16:58:48.156Z"
   },
   {
    "duration": 6,
    "start_time": "2021-08-29T16:58:48.202Z"
   },
   {
    "duration": 32,
    "start_time": "2021-08-29T16:58:48.210Z"
   },
   {
    "duration": 16,
    "start_time": "2021-08-29T16:58:48.245Z"
   },
   {
    "duration": 22,
    "start_time": "2021-08-29T16:58:48.283Z"
   },
   {
    "duration": 20,
    "start_time": "2021-08-29T16:58:48.307Z"
   },
   {
    "duration": 23,
    "start_time": "2021-08-29T16:58:48.330Z"
   },
   {
    "duration": 34,
    "start_time": "2021-08-29T16:58:48.358Z"
   },
   {
    "duration": 16,
    "start_time": "2021-08-29T16:58:48.395Z"
   },
   {
    "duration": 25,
    "start_time": "2021-08-29T16:58:48.413Z"
   },
   {
    "duration": 19,
    "start_time": "2021-08-29T16:58:48.441Z"
   },
   {
    "duration": 22,
    "start_time": "2021-08-29T16:58:48.463Z"
   },
   {
    "duration": 38,
    "start_time": "2021-08-29T16:58:48.488Z"
   },
   {
    "duration": 18,
    "start_time": "2021-08-29T16:58:48.529Z"
   },
   {
    "duration": 52,
    "start_time": "2021-08-29T16:58:48.550Z"
   },
   {
    "duration": 19,
    "start_time": "2021-08-29T16:58:48.605Z"
   },
   {
    "duration": 17,
    "start_time": "2021-08-29T16:58:48.627Z"
   },
   {
    "duration": 5,
    "start_time": "2021-08-29T17:01:05.812Z"
   },
   {
    "duration": 223,
    "start_time": "2021-08-29T17:01:07.908Z"
   },
   {
    "duration": 260,
    "start_time": "2021-08-29T17:02:51.506Z"
   },
   {
    "duration": 3,
    "start_time": "2021-08-29T17:03:14.630Z"
   },
   {
    "duration": 188,
    "start_time": "2021-08-29T17:03:14.635Z"
   },
   {
    "duration": 15,
    "start_time": "2021-08-29T17:03:14.826Z"
   },
   {
    "duration": 53,
    "start_time": "2021-08-29T17:03:14.843Z"
   },
   {
    "duration": 4,
    "start_time": "2021-08-29T17:03:14.899Z"
   },
   {
    "duration": 25,
    "start_time": "2021-08-29T17:03:14.906Z"
   },
   {
    "duration": 6,
    "start_time": "2021-08-29T17:03:14.933Z"
   },
   {
    "duration": 66,
    "start_time": "2021-08-29T17:03:14.941Z"
   },
   {
    "duration": 32,
    "start_time": "2021-08-29T17:03:15.011Z"
   },
   {
    "duration": 46,
    "start_time": "2021-08-29T17:03:15.046Z"
   },
   {
    "duration": 18,
    "start_time": "2021-08-29T17:03:15.094Z"
   },
   {
    "duration": 98,
    "start_time": "2021-08-29T17:03:15.115Z"
   },
   {
    "duration": 100,
    "start_time": "2021-08-29T17:03:15.216Z"
   },
   {
    "duration": 83,
    "start_time": "2021-08-29T17:03:15.319Z"
   },
   {
    "duration": 54,
    "start_time": "2021-08-29T17:03:15.405Z"
   },
   {
    "duration": 21,
    "start_time": "2021-08-29T17:03:15.461Z"
   },
   {
    "duration": 26,
    "start_time": "2021-08-29T17:03:15.484Z"
   },
   {
    "duration": 69,
    "start_time": "2021-08-29T17:03:15.513Z"
   },
   {
    "duration": 16,
    "start_time": "2021-08-29T17:03:15.585Z"
   },
   {
    "duration": 16,
    "start_time": "2021-08-29T17:03:15.604Z"
   },
   {
    "duration": 5,
    "start_time": "2021-08-29T17:03:15.623Z"
   },
   {
    "duration": 58,
    "start_time": "2021-08-29T17:03:15.631Z"
   },
   {
    "duration": 17,
    "start_time": "2021-08-29T17:03:15.691Z"
   },
   {
    "duration": 26,
    "start_time": "2021-08-29T17:03:15.710Z"
   },
   {
    "duration": 18,
    "start_time": "2021-08-29T17:03:15.738Z"
   },
   {
    "duration": 19,
    "start_time": "2021-08-29T17:03:15.782Z"
   },
   {
    "duration": 16,
    "start_time": "2021-08-29T17:03:15.806Z"
   },
   {
    "duration": 12,
    "start_time": "2021-08-29T17:03:15.825Z"
   },
   {
    "duration": 53,
    "start_time": "2021-08-29T17:03:15.840Z"
   },
   {
    "duration": 15,
    "start_time": "2021-08-29T17:03:15.895Z"
   },
   {
    "duration": 6,
    "start_time": "2021-08-29T17:03:15.912Z"
   },
   {
    "duration": 43,
    "start_time": "2021-08-29T17:03:15.920Z"
   },
   {
    "duration": 30,
    "start_time": "2021-08-29T17:03:15.966Z"
   },
   {
    "duration": 27,
    "start_time": "2021-08-29T17:03:15.999Z"
   },
   {
    "duration": 19,
    "start_time": "2021-08-29T17:03:16.028Z"
   },
   {
    "duration": 5,
    "start_time": "2021-08-29T17:03:16.082Z"
   },
   {
    "duration": 31,
    "start_time": "2021-08-29T17:04:28.557Z"
   },
   {
    "duration": 20,
    "start_time": "2021-08-29T17:06:57.658Z"
   },
   {
    "duration": 5,
    "start_time": "2021-08-29T17:08:37.981Z"
   },
   {
    "duration": 249,
    "start_time": "2021-08-29T17:09:08.488Z"
   },
   {
    "duration": 276,
    "start_time": "2021-08-29T17:09:13.685Z"
   },
   {
    "duration": 277,
    "start_time": "2021-08-29T17:09:28.566Z"
   },
   {
    "duration": 261,
    "start_time": "2021-08-29T17:09:39.552Z"
   },
   {
    "duration": 3,
    "start_time": "2021-08-29T17:09:47.764Z"
   },
   {
    "duration": 199,
    "start_time": "2021-08-29T17:09:47.770Z"
   },
   {
    "duration": 18,
    "start_time": "2021-08-29T17:09:47.972Z"
   },
   {
    "duration": 34,
    "start_time": "2021-08-29T17:09:47.993Z"
   },
   {
    "duration": 6,
    "start_time": "2021-08-29T17:09:48.030Z"
   },
   {
    "duration": 52,
    "start_time": "2021-08-29T17:09:48.038Z"
   },
   {
    "duration": 5,
    "start_time": "2021-08-29T17:09:48.093Z"
   },
   {
    "duration": 33,
    "start_time": "2021-08-29T17:09:48.101Z"
   },
   {
    "duration": 56,
    "start_time": "2021-08-29T17:09:48.138Z"
   },
   {
    "duration": 23,
    "start_time": "2021-08-29T17:09:48.198Z"
   },
   {
    "duration": 18,
    "start_time": "2021-08-29T17:09:48.224Z"
   },
   {
    "duration": 112,
    "start_time": "2021-08-29T17:09:48.245Z"
   },
   {
    "duration": 96,
    "start_time": "2021-08-29T17:09:48.359Z"
   },
   {
    "duration": 80,
    "start_time": "2021-08-29T17:09:48.457Z"
   },
   {
    "duration": 65,
    "start_time": "2021-08-29T17:09:48.539Z"
   },
   {
    "duration": 5,
    "start_time": "2021-08-29T17:09:48.607Z"
   },
   {
    "duration": 24,
    "start_time": "2021-08-29T17:09:48.615Z"
   },
   {
    "duration": 77,
    "start_time": "2021-08-29T17:09:48.641Z"
   },
   {
    "duration": 33,
    "start_time": "2021-08-29T17:09:48.721Z"
   },
   {
    "duration": 39,
    "start_time": "2021-08-29T17:09:48.757Z"
   },
   {
    "duration": 4,
    "start_time": "2021-08-29T17:09:48.799Z"
   },
   {
    "duration": 23,
    "start_time": "2021-08-29T17:09:48.806Z"
   },
   {
    "duration": 16,
    "start_time": "2021-08-29T17:09:48.832Z"
   },
   {
    "duration": 48,
    "start_time": "2021-08-29T17:09:48.850Z"
   },
   {
    "duration": 16,
    "start_time": "2021-08-29T17:09:48.901Z"
   },
   {
    "duration": 18,
    "start_time": "2021-08-29T17:09:48.919Z"
   },
   {
    "duration": 52,
    "start_time": "2021-08-29T17:09:48.942Z"
   },
   {
    "duration": 11,
    "start_time": "2021-08-29T17:09:48.997Z"
   },
   {
    "duration": 15,
    "start_time": "2021-08-29T17:09:49.011Z"
   },
   {
    "duration": 16,
    "start_time": "2021-08-29T17:09:49.028Z"
   },
   {
    "duration": 37,
    "start_time": "2021-08-29T17:09:49.047Z"
   },
   {
    "duration": 31,
    "start_time": "2021-08-29T17:09:49.087Z"
   },
   {
    "duration": 19,
    "start_time": "2021-08-29T17:09:49.120Z"
   },
   {
    "duration": 54,
    "start_time": "2021-08-29T17:09:49.141Z"
   },
   {
    "duration": 18,
    "start_time": "2021-08-29T17:09:49.197Z"
   },
   {
    "duration": 5,
    "start_time": "2021-08-29T17:09:49.217Z"
   },
   {
    "duration": 5,
    "start_time": "2021-08-29T17:10:03.243Z"
   },
   {
    "duration": 15,
    "start_time": "2021-08-29T17:10:25.569Z"
   },
   {
    "duration": 35,
    "start_time": "2021-08-29T17:13:19.498Z"
   },
   {
    "duration": 14,
    "start_time": "2021-08-29T17:13:47.943Z"
   },
   {
    "duration": 311,
    "start_time": "2021-08-29T17:14:57.699Z"
   },
   {
    "duration": 281,
    "start_time": "2021-08-29T17:15:16.005Z"
   },
   {
    "duration": 13,
    "start_time": "2021-08-29T17:15:35.546Z"
   },
   {
    "duration": 14,
    "start_time": "2021-08-29T17:15:38.970Z"
   },
   {
    "duration": 14,
    "start_time": "2021-08-29T17:15:44.969Z"
   },
   {
    "duration": 293,
    "start_time": "2021-08-29T17:17:24.739Z"
   },
   {
    "duration": 301,
    "start_time": "2021-08-29T17:17:36.963Z"
   },
   {
    "duration": 32,
    "start_time": "2021-08-29T17:17:48.149Z"
   },
   {
    "duration": 37,
    "start_time": "2021-08-29T17:18:54.203Z"
   },
   {
    "duration": 7,
    "start_time": "2021-08-29T17:19:22.164Z"
   },
   {
    "duration": 10,
    "start_time": "2021-08-29T17:19:33.538Z"
   },
   {
    "duration": 6,
    "start_time": "2021-08-29T17:19:56.985Z"
   },
   {
    "duration": 27,
    "start_time": "2021-08-29T17:22:56.188Z"
   },
   {
    "duration": 12,
    "start_time": "2021-08-29T17:24:54.255Z"
   },
   {
    "duration": 50,
    "start_time": "2021-08-29T17:25:23.462Z"
   },
   {
    "duration": 91,
    "start_time": "2021-08-29T17:26:01.401Z"
   },
   {
    "duration": 10,
    "start_time": "2021-08-29T17:27:28.796Z"
   },
   {
    "duration": 7,
    "start_time": "2021-08-29T17:27:51.613Z"
   },
   {
    "duration": 7,
    "start_time": "2021-08-29T17:27:54.515Z"
   },
   {
    "duration": 9,
    "start_time": "2021-08-29T17:33:32.997Z"
   },
   {
    "duration": 7,
    "start_time": "2021-08-29T17:33:39.636Z"
   },
   {
    "duration": 7161,
    "start_time": "2021-08-29T17:33:58.290Z"
   },
   {
    "duration": 49,
    "start_time": "2021-08-29T17:34:05.405Z"
   },
   {
    "duration": -73,
    "start_time": "2021-08-29T17:34:31.203Z"
   },
   {
    "duration": 4,
    "start_time": "2021-08-29T17:34:33.444Z"
   },
   {
    "duration": 183,
    "start_time": "2021-08-29T17:34:33.451Z"
   },
   {
    "duration": 17,
    "start_time": "2021-08-29T17:34:33.637Z"
   },
   {
    "duration": 55,
    "start_time": "2021-08-29T17:34:33.657Z"
   },
   {
    "duration": 5,
    "start_time": "2021-08-29T17:34:33.715Z"
   },
   {
    "duration": 20,
    "start_time": "2021-08-29T17:34:33.722Z"
   },
   {
    "duration": 38,
    "start_time": "2021-08-29T17:34:33.744Z"
   },
   {
    "duration": 39,
    "start_time": "2021-08-29T17:34:33.785Z"
   },
   {
    "duration": 53,
    "start_time": "2021-08-29T17:34:33.830Z"
   },
   {
    "duration": 25,
    "start_time": "2021-08-29T17:34:33.886Z"
   },
   {
    "duration": 20,
    "start_time": "2021-08-29T17:34:33.913Z"
   },
   {
    "duration": 114,
    "start_time": "2021-08-29T17:34:33.936Z"
   },
   {
    "duration": 103,
    "start_time": "2021-08-29T17:34:34.053Z"
   },
   {
    "duration": 84,
    "start_time": "2021-08-29T17:34:34.158Z"
   },
   {
    "duration": 62,
    "start_time": "2021-08-29T17:34:34.244Z"
   },
   {
    "duration": 4,
    "start_time": "2021-08-29T17:34:34.308Z"
   },
   {
    "duration": 25,
    "start_time": "2021-08-29T17:34:34.314Z"
   },
   {
    "duration": 72,
    "start_time": "2021-08-29T17:34:34.341Z"
   },
   {
    "duration": 18,
    "start_time": "2021-08-29T17:34:34.415Z"
   },
   {
    "duration": 52,
    "start_time": "2021-08-29T17:34:34.435Z"
   },
   {
    "duration": 4,
    "start_time": "2021-08-29T17:34:34.490Z"
   },
   {
    "duration": 27,
    "start_time": "2021-08-29T17:34:34.497Z"
   },
   {
    "duration": 17,
    "start_time": "2021-08-29T17:34:34.526Z"
   },
   {
    "duration": 43,
    "start_time": "2021-08-29T17:34:34.545Z"
   },
   {
    "duration": 17,
    "start_time": "2021-08-29T17:34:34.590Z"
   },
   {
    "duration": 19,
    "start_time": "2021-08-29T17:34:34.610Z"
   },
   {
    "duration": 16,
    "start_time": "2021-08-29T17:34:34.634Z"
   },
   {
    "duration": 12,
    "start_time": "2021-08-29T17:34:34.683Z"
   },
   {
    "duration": 23,
    "start_time": "2021-08-29T17:34:34.698Z"
   },
   {
    "duration": 12,
    "start_time": "2021-08-29T17:34:34.723Z"
   },
   {
    "duration": 10,
    "start_time": "2021-08-29T17:34:34.737Z"
   },
   {
    "duration": 56,
    "start_time": "2021-08-29T17:34:34.750Z"
   },
   {
    "duration": 19,
    "start_time": "2021-08-29T17:34:34.808Z"
   },
   {
    "duration": 27,
    "start_time": "2021-08-29T17:34:34.830Z"
   },
   {
    "duration": 19,
    "start_time": "2021-08-29T17:34:34.883Z"
   },
   {
    "duration": 31,
    "start_time": "2021-08-29T17:34:34.904Z"
   },
   {
    "duration": 35,
    "start_time": "2021-08-29T17:36:15.401Z"
   },
   {
    "duration": 30,
    "start_time": "2021-08-29T17:37:00.012Z"
   },
   {
    "duration": 32,
    "start_time": "2021-08-29T17:37:24.110Z"
   },
   {
    "duration": 28,
    "start_time": "2021-08-29T17:37:34.498Z"
   },
   {
    "duration": 23,
    "start_time": "2021-08-29T17:37:54.849Z"
   },
   {
    "duration": 26,
    "start_time": "2021-08-29T17:38:03.294Z"
   },
   {
    "duration": 5,
    "start_time": "2021-08-29T17:39:09.313Z"
   },
   {
    "duration": 6,
    "start_time": "2021-08-29T17:41:43.068Z"
   },
   {
    "duration": 298,
    "start_time": "2021-08-30T03:33:47.385Z"
   },
   {
    "duration": 718,
    "start_time": "2021-08-30T03:33:58.672Z"
   },
   {
    "duration": 212,
    "start_time": "2021-08-30T03:33:59.392Z"
   },
   {
    "duration": 21,
    "start_time": "2021-08-30T03:33:59.606Z"
   },
   {
    "duration": 39,
    "start_time": "2021-08-30T03:33:59.629Z"
   },
   {
    "duration": 23,
    "start_time": "2021-08-30T03:33:59.669Z"
   },
   {
    "duration": 28,
    "start_time": "2021-08-30T03:33:59.694Z"
   },
   {
    "duration": 8,
    "start_time": "2021-08-30T03:33:59.724Z"
   },
   {
    "duration": 39,
    "start_time": "2021-08-30T03:33:59.734Z"
   },
   {
    "duration": 35,
    "start_time": "2021-08-30T03:33:59.793Z"
   },
   {
    "duration": 31,
    "start_time": "2021-08-30T03:33:59.830Z"
   },
   {
    "duration": 33,
    "start_time": "2021-08-30T03:33:59.863Z"
   },
   {
    "duration": 79,
    "start_time": "2021-08-30T03:33:59.897Z"
   },
   {
    "duration": 117,
    "start_time": "2021-08-30T03:33:59.978Z"
   },
   {
    "duration": 71,
    "start_time": "2021-08-30T03:34:00.097Z"
   },
   {
    "duration": 76,
    "start_time": "2021-08-30T03:34:00.170Z"
   },
   {
    "duration": 9,
    "start_time": "2021-08-30T03:34:00.248Z"
   },
   {
    "duration": 44,
    "start_time": "2021-08-30T03:34:00.258Z"
   },
   {
    "duration": 52,
    "start_time": "2021-08-30T03:34:00.304Z"
   },
   {
    "duration": 19,
    "start_time": "2021-08-30T03:34:00.358Z"
   },
   {
    "duration": 2,
    "start_time": "2021-08-30T03:34:18.421Z"
   },
   {
    "duration": 140,
    "start_time": "2021-08-30T03:34:18.426Z"
   },
   {
    "duration": 11,
    "start_time": "2021-08-30T03:34:18.568Z"
   },
   {
    "duration": 29,
    "start_time": "2021-08-30T03:34:18.581Z"
   },
   {
    "duration": 5,
    "start_time": "2021-08-30T03:34:18.611Z"
   },
   {
    "duration": 23,
    "start_time": "2021-08-30T03:34:18.618Z"
   },
   {
    "duration": 5,
    "start_time": "2021-08-30T03:34:18.643Z"
   },
   {
    "duration": 55,
    "start_time": "2021-08-30T03:34:18.650Z"
   },
   {
    "duration": 21,
    "start_time": "2021-08-30T03:34:18.708Z"
   },
   {
    "duration": 18,
    "start_time": "2021-08-30T03:34:18.732Z"
   },
   {
    "duration": 39,
    "start_time": "2021-08-30T03:34:18.752Z"
   },
   {
    "duration": 53,
    "start_time": "2021-08-30T03:34:18.793Z"
   },
   {
    "duration": 79,
    "start_time": "2021-08-30T03:34:18.848Z"
   },
   {
    "duration": 50,
    "start_time": "2021-08-30T03:34:18.929Z"
   },
   {
    "duration": 37,
    "start_time": "2021-08-30T03:34:18.991Z"
   },
   {
    "duration": 4,
    "start_time": "2021-08-30T03:34:19.030Z"
   },
   {
    "duration": 26,
    "start_time": "2021-08-30T03:34:19.036Z"
   },
   {
    "duration": 48,
    "start_time": "2021-08-30T03:34:19.064Z"
   },
   {
    "duration": 28,
    "start_time": "2021-08-30T03:34:19.114Z"
   },
   {
    "duration": 9,
    "start_time": "2021-08-30T03:34:19.144Z"
   },
   {
    "duration": 268,
    "start_time": "2021-08-30T03:48:28.234Z"
   },
   {
    "duration": 2,
    "start_time": "2021-08-30T03:48:34.224Z"
   },
   {
    "duration": 145,
    "start_time": "2021-08-30T03:48:34.228Z"
   },
   {
    "duration": 23,
    "start_time": "2021-08-30T03:48:34.375Z"
   },
   {
    "duration": 24,
    "start_time": "2021-08-30T03:48:34.400Z"
   },
   {
    "duration": 5,
    "start_time": "2021-08-30T03:48:34.426Z"
   },
   {
    "duration": 24,
    "start_time": "2021-08-30T03:48:34.432Z"
   },
   {
    "duration": 33,
    "start_time": "2021-08-30T03:48:34.458Z"
   },
   {
    "duration": 24,
    "start_time": "2021-08-30T03:48:34.493Z"
   },
   {
    "duration": 24,
    "start_time": "2021-08-30T03:48:34.521Z"
   },
   {
    "duration": 17,
    "start_time": "2021-08-30T03:48:34.547Z"
   },
   {
    "duration": 40,
    "start_time": "2021-08-30T03:48:34.566Z"
   },
   {
    "duration": 52,
    "start_time": "2021-08-30T03:48:34.608Z"
   },
   {
    "duration": 79,
    "start_time": "2021-08-30T03:48:34.662Z"
   },
   {
    "duration": 57,
    "start_time": "2021-08-30T03:48:34.743Z"
   },
   {
    "duration": 39,
    "start_time": "2021-08-30T03:48:34.802Z"
   },
   {
    "duration": 3,
    "start_time": "2021-08-30T03:48:34.842Z"
   },
   {
    "duration": 18,
    "start_time": "2021-08-30T03:48:34.847Z"
   },
   {
    "duration": 57,
    "start_time": "2021-08-30T03:48:34.867Z"
   },
   {
    "duration": 10,
    "start_time": "2021-08-30T03:48:34.926Z"
   },
   {
    "duration": 17,
    "start_time": "2021-08-30T03:48:34.937Z"
   },
   {
    "duration": 3,
    "start_time": "2021-08-30T03:48:34.956Z"
   },
   {
    "duration": 45,
    "start_time": "2021-08-30T03:48:34.961Z"
   },
   {
    "duration": 14,
    "start_time": "2021-08-30T03:48:35.007Z"
   },
   {
    "duration": 14,
    "start_time": "2021-08-30T03:48:35.023Z"
   },
   {
    "duration": 13,
    "start_time": "2021-08-30T03:48:35.038Z"
   },
   {
    "duration": 45,
    "start_time": "2021-08-30T03:48:35.053Z"
   },
   {
    "duration": 14,
    "start_time": "2021-08-30T03:48:35.101Z"
   },
   {
    "duration": 8,
    "start_time": "2021-08-30T03:48:35.117Z"
   },
   {
    "duration": 13,
    "start_time": "2021-08-30T03:48:35.127Z"
   },
   {
    "duration": 9,
    "start_time": "2021-08-30T03:48:35.142Z"
   },
   {
    "duration": 39,
    "start_time": "2021-08-30T03:48:35.152Z"
   },
   {
    "duration": 21,
    "start_time": "2021-08-30T03:48:35.193Z"
   },
   {
    "duration": 13,
    "start_time": "2021-08-30T03:48:35.216Z"
   },
   {
    "duration": 18,
    "start_time": "2021-08-30T03:48:35.231Z"
   },
   {
    "duration": 13,
    "start_time": "2021-08-30T03:48:35.251Z"
   },
   {
    "duration": 30,
    "start_time": "2021-08-30T03:48:35.290Z"
   },
   {
    "duration": 4,
    "start_time": "2021-08-30T03:48:35.322Z"
   },
   {
    "duration": 604,
    "start_time": "2021-08-30T14:59:48.274Z"
   },
   {
    "duration": 153,
    "start_time": "2021-08-30T14:59:48.880Z"
   },
   {
    "duration": 18,
    "start_time": "2021-08-30T14:59:49.035Z"
   },
   {
    "duration": 30,
    "start_time": "2021-08-30T14:59:49.055Z"
   },
   {
    "duration": 7,
    "start_time": "2021-08-30T14:59:49.087Z"
   },
   {
    "duration": 39,
    "start_time": "2021-08-30T14:59:49.096Z"
   },
   {
    "duration": 17,
    "start_time": "2021-08-30T14:59:49.137Z"
   },
   {
    "duration": 34,
    "start_time": "2021-08-30T14:59:49.155Z"
   },
   {
    "duration": 44,
    "start_time": "2021-08-30T14:59:49.192Z"
   },
   {
    "duration": 31,
    "start_time": "2021-08-30T14:59:49.238Z"
   },
   {
    "duration": 19,
    "start_time": "2021-08-30T14:59:49.271Z"
   },
   {
    "duration": 69,
    "start_time": "2021-08-30T14:59:49.292Z"
   },
   {
    "duration": 78,
    "start_time": "2021-08-30T14:59:49.363Z"
   },
   {
    "duration": 56,
    "start_time": "2021-08-30T14:59:49.443Z"
   },
   {
    "duration": 59,
    "start_time": "2021-08-30T14:59:49.501Z"
   },
   {
    "duration": 8,
    "start_time": "2021-08-30T14:59:49.562Z"
   },
   {
    "duration": 28,
    "start_time": "2021-08-30T14:59:49.572Z"
   },
   {
    "duration": 56,
    "start_time": "2021-08-30T14:59:49.602Z"
   },
   {
    "duration": 40,
    "start_time": "2021-08-30T14:59:49.660Z"
   },
   {
    "duration": 27,
    "start_time": "2021-08-30T14:59:49.702Z"
   },
   {
    "duration": 9,
    "start_time": "2021-08-30T14:59:49.731Z"
   },
   {
    "duration": 43,
    "start_time": "2021-08-30T14:59:49.742Z"
   },
   {
    "duration": 17,
    "start_time": "2021-08-30T14:59:49.787Z"
   },
   {
    "duration": 34,
    "start_time": "2021-08-30T14:59:49.806Z"
   },
   {
    "duration": 21,
    "start_time": "2021-08-30T14:59:49.842Z"
   },
   {
    "duration": 18,
    "start_time": "2021-08-30T14:59:49.866Z"
   },
   {
    "duration": 17,
    "start_time": "2021-08-30T14:59:49.889Z"
   },
   {
    "duration": 32,
    "start_time": "2021-08-30T14:59:49.909Z"
   },
   {
    "duration": 13,
    "start_time": "2021-08-30T14:59:49.943Z"
   },
   {
    "duration": 25,
    "start_time": "2021-08-30T14:59:49.958Z"
   },
   {
    "duration": 27,
    "start_time": "2021-08-30T14:59:49.986Z"
   },
   {
    "duration": 60,
    "start_time": "2021-08-30T14:59:50.015Z"
   },
   {
    "duration": 28,
    "start_time": "2021-08-30T14:59:50.077Z"
   },
   {
    "duration": 42,
    "start_time": "2021-08-30T14:59:50.107Z"
   },
   {
    "duration": 23,
    "start_time": "2021-08-30T14:59:50.151Z"
   },
   {
    "duration": 37,
    "start_time": "2021-08-30T14:59:50.176Z"
   },
   {
    "duration": 5,
    "start_time": "2021-08-30T14:59:50.215Z"
   },
   {
    "duration": 34,
    "start_time": "2021-08-30T14:59:50.222Z"
   },
   {
    "duration": 15,
    "start_time": "2021-08-30T14:59:50.258Z"
   },
   {
    "duration": 16,
    "start_time": "2021-08-30T15:00:49.701Z"
   },
   {
    "duration": 16,
    "start_time": "2021-08-30T15:11:33.935Z"
   },
   {
    "duration": 8,
    "start_time": "2021-08-30T15:14:29.500Z"
   },
   {
    "duration": 374,
    "start_time": "2021-08-30T15:31:33.567Z"
   },
   {
    "duration": 1018,
    "start_time": "2021-08-30T15:31:46.434Z"
   },
   {
    "duration": 205,
    "start_time": "2021-08-30T15:31:47.455Z"
   },
   {
    "duration": 34,
    "start_time": "2021-08-30T15:31:47.663Z"
   },
   {
    "duration": 15,
    "start_time": "2021-08-30T15:31:47.700Z"
   },
   {
    "duration": 20,
    "start_time": "2021-08-30T15:31:51.255Z"
   },
   {
    "duration": 377,
    "start_time": "2021-08-30T15:32:55.219Z"
   },
   {
    "duration": 4,
    "start_time": "2021-08-30T15:33:07.968Z"
   },
   {
    "duration": 241,
    "start_time": "2021-08-30T15:33:07.976Z"
   },
   {
    "duration": 16,
    "start_time": "2021-08-30T15:33:08.220Z"
   },
   {
    "duration": 37,
    "start_time": "2021-08-30T15:33:08.240Z"
   },
   {
    "duration": 41,
    "start_time": "2021-08-30T15:33:08.280Z"
   },
   {
    "duration": 5,
    "start_time": "2021-08-30T15:33:08.324Z"
   },
   {
    "duration": 57,
    "start_time": "2021-08-30T15:33:08.332Z"
   },
   {
    "duration": 9,
    "start_time": "2021-08-30T15:33:08.391Z"
   },
   {
    "duration": 35,
    "start_time": "2021-08-30T15:33:08.405Z"
   },
   {
    "duration": 62,
    "start_time": "2021-08-30T15:33:08.443Z"
   },
   {
    "duration": 23,
    "start_time": "2021-08-30T15:33:08.508Z"
   },
   {
    "duration": 55,
    "start_time": "2021-08-30T15:33:08.534Z"
   },
   {
    "duration": 108,
    "start_time": "2021-08-30T15:33:08.593Z"
   },
   {
    "duration": 122,
    "start_time": "2021-08-30T15:33:08.703Z"
   },
   {
    "duration": 92,
    "start_time": "2021-08-30T15:33:08.828Z"
   },
   {
    "duration": 82,
    "start_time": "2021-08-30T15:33:08.923Z"
   },
   {
    "duration": 4,
    "start_time": "2021-08-30T15:33:09.008Z"
   },
   {
    "duration": 27,
    "start_time": "2021-08-30T15:33:09.014Z"
   },
   {
    "duration": 64,
    "start_time": "2021-08-30T15:33:09.067Z"
   },
   {
    "duration": 44,
    "start_time": "2021-08-30T15:33:09.133Z"
   },
   {
    "duration": 13,
    "start_time": "2021-08-30T15:33:09.180Z"
   },
   {
    "duration": 28,
    "start_time": "2021-08-30T15:33:09.196Z"
   },
   {
    "duration": 26,
    "start_time": "2021-08-30T15:33:13.362Z"
   },
   {
    "duration": 24,
    "start_time": "2021-08-30T15:45:03.462Z"
   },
   {
    "duration": 24,
    "start_time": "2021-08-30T15:45:07.048Z"
   },
   {
    "duration": 6,
    "start_time": "2021-08-30T15:46:50.656Z"
   },
   {
    "duration": 12,
    "start_time": "2021-08-30T15:46:54.168Z"
   },
   {
    "duration": 3,
    "start_time": "2021-08-30T15:47:05.456Z"
   },
   {
    "duration": 209,
    "start_time": "2021-08-30T15:47:05.463Z"
   },
   {
    "duration": 19,
    "start_time": "2021-08-30T15:47:05.676Z"
   },
   {
    "duration": 14,
    "start_time": "2021-08-30T15:47:05.699Z"
   },
   {
    "duration": 76,
    "start_time": "2021-08-30T15:47:05.716Z"
   },
   {
    "duration": 10,
    "start_time": "2021-08-30T15:47:05.795Z"
   },
   {
    "duration": 42,
    "start_time": "2021-08-30T15:47:05.808Z"
   },
   {
    "duration": 16,
    "start_time": "2021-08-30T15:47:05.853Z"
   },
   {
    "duration": 53,
    "start_time": "2021-08-30T15:47:05.875Z"
   },
   {
    "duration": 44,
    "start_time": "2021-08-30T15:47:05.931Z"
   },
   {
    "duration": 33,
    "start_time": "2021-08-30T15:47:05.979Z"
   },
   {
    "duration": 22,
    "start_time": "2021-08-30T15:47:06.015Z"
   },
   {
    "duration": 131,
    "start_time": "2021-08-30T15:47:06.039Z"
   },
   {
    "duration": 126,
    "start_time": "2021-08-30T15:47:06.173Z"
   },
   {
    "duration": 94,
    "start_time": "2021-08-30T15:47:06.302Z"
   },
   {
    "duration": 72,
    "start_time": "2021-08-30T15:47:06.399Z"
   },
   {
    "duration": 5,
    "start_time": "2021-08-30T15:47:06.474Z"
   },
   {
    "duration": 29,
    "start_time": "2021-08-30T15:47:06.482Z"
   },
   {
    "duration": 84,
    "start_time": "2021-08-30T15:47:06.513Z"
   },
   {
    "duration": 6,
    "start_time": "2021-08-30T15:47:06.600Z"
   },
   {
    "duration": 6,
    "start_time": "2021-08-30T15:47:09.394Z"
   },
   {
    "duration": 4,
    "start_time": "2021-08-30T15:47:21.488Z"
   },
   {
    "duration": 15,
    "start_time": "2021-08-30T15:47:33.151Z"
   },
   {
    "duration": 36,
    "start_time": "2021-08-30T15:49:11.390Z"
   },
   {
    "duration": 35,
    "start_time": "2021-08-30T15:49:18.365Z"
   },
   {
    "duration": 3,
    "start_time": "2021-08-30T15:49:29.917Z"
   },
   {
    "duration": 279,
    "start_time": "2021-08-30T15:49:29.924Z"
   },
   {
    "duration": 23,
    "start_time": "2021-08-30T15:49:30.208Z"
   },
   {
    "duration": 35,
    "start_time": "2021-08-30T15:49:30.234Z"
   },
   {
    "duration": 40,
    "start_time": "2021-08-30T15:49:30.272Z"
   },
   {
    "duration": 18,
    "start_time": "2021-08-30T15:49:30.314Z"
   },
   {
    "duration": 47,
    "start_time": "2021-08-30T15:49:30.334Z"
   },
   {
    "duration": 7,
    "start_time": "2021-08-30T15:49:30.385Z"
   },
   {
    "duration": 36,
    "start_time": "2021-08-30T15:49:30.396Z"
   },
   {
    "duration": 58,
    "start_time": "2021-08-30T15:49:30.435Z"
   },
   {
    "duration": 39,
    "start_time": "2021-08-30T15:49:39.859Z"
   },
   {
    "duration": 24,
    "start_time": "2021-08-30T15:49:52.887Z"
   },
   {
    "duration": 23,
    "start_time": "2021-08-30T15:49:57.327Z"
   },
   {
    "duration": 23,
    "start_time": "2021-08-30T15:49:59.305Z"
   },
   {
    "duration": 90,
    "start_time": "2021-08-30T15:50:09.915Z"
   },
   {
    "duration": 90,
    "start_time": "2021-08-30T15:50:20.075Z"
   },
   {
    "duration": 101,
    "start_time": "2021-08-30T15:50:23.029Z"
   },
   {
    "duration": 87,
    "start_time": "2021-08-30T15:50:24.753Z"
   },
   {
    "duration": 66,
    "start_time": "2021-08-30T15:50:33.166Z"
   },
   {
    "duration": 23,
    "start_time": "2021-08-30T16:03:02.062Z"
   },
   {
    "duration": 62,
    "start_time": "2021-08-30T16:03:12.974Z"
   },
   {
    "duration": 267,
    "start_time": "2021-08-30T16:03:49.321Z"
   },
   {
    "duration": 3,
    "start_time": "2021-08-30T16:03:58.977Z"
   },
   {
    "duration": 226,
    "start_time": "2021-08-30T16:03:58.983Z"
   },
   {
    "duration": 16,
    "start_time": "2021-08-30T16:03:59.212Z"
   },
   {
    "duration": 41,
    "start_time": "2021-08-30T16:03:59.231Z"
   },
   {
    "duration": 36,
    "start_time": "2021-08-30T16:03:59.275Z"
   },
   {
    "duration": 6,
    "start_time": "2021-08-30T16:03:59.314Z"
   },
   {
    "duration": 55,
    "start_time": "2021-08-30T16:03:59.322Z"
   },
   {
    "duration": 9,
    "start_time": "2021-08-30T16:03:59.381Z"
   },
   {
    "duration": 82,
    "start_time": "2021-08-30T16:03:59.397Z"
   },
   {
    "duration": 37,
    "start_time": "2021-08-30T16:03:59.482Z"
   },
   {
    "duration": 46,
    "start_time": "2021-08-30T16:03:59.521Z"
   },
   {
    "duration": 28,
    "start_time": "2021-08-30T16:03:59.571Z"
   },
   {
    "duration": 167,
    "start_time": "2021-08-30T16:03:59.602Z"
   },
   {
    "duration": 172,
    "start_time": "2021-08-30T16:03:59.773Z"
   },
   {
    "duration": 120,
    "start_time": "2021-08-30T16:03:59.948Z"
   },
   {
    "duration": 110,
    "start_time": "2021-08-30T16:04:00.071Z"
   },
   {
    "duration": 6,
    "start_time": "2021-08-30T16:04:00.184Z"
   },
   {
    "duration": 38,
    "start_time": "2021-08-30T16:04:00.194Z"
   },
   {
    "duration": 81,
    "start_time": "2021-08-30T16:04:00.234Z"
   },
   {
    "duration": 23,
    "start_time": "2021-08-30T16:04:00.318Z"
   },
   {
    "duration": 45,
    "start_time": "2021-08-30T16:04:00.343Z"
   },
   {
    "duration": 17,
    "start_time": "2021-08-30T16:04:00.391Z"
   },
   {
    "duration": 10,
    "start_time": "2021-08-30T16:04:00.412Z"
   },
   {
    "duration": 68,
    "start_time": "2021-08-30T16:04:00.425Z"
   },
   {
    "duration": 20,
    "start_time": "2021-08-30T16:04:10.527Z"
   },
   {
    "duration": 19,
    "start_time": "2021-08-30T16:04:19.091Z"
   },
   {
    "duration": 21,
    "start_time": "2021-08-30T16:04:26.520Z"
   },
   {
    "duration": 18,
    "start_time": "2021-08-30T16:04:33.390Z"
   },
   {
    "duration": 29,
    "start_time": "2021-08-30T16:04:39.160Z"
   },
   {
    "duration": 19,
    "start_time": "2021-08-30T16:04:47.126Z"
   },
   {
    "duration": 324,
    "start_time": "2021-08-30T16:05:04.670Z"
   },
   {
    "duration": 3,
    "start_time": "2021-08-30T16:05:12.127Z"
   },
   {
    "duration": 269,
    "start_time": "2021-08-30T16:05:12.134Z"
   },
   {
    "duration": 16,
    "start_time": "2021-08-30T16:05:12.407Z"
   },
   {
    "duration": 22,
    "start_time": "2021-08-30T16:05:12.427Z"
   },
   {
    "duration": 59,
    "start_time": "2021-08-30T16:05:12.451Z"
   },
   {
    "duration": 10,
    "start_time": "2021-08-30T16:05:12.513Z"
   },
   {
    "duration": 50,
    "start_time": "2021-08-30T16:05:12.527Z"
   },
   {
    "duration": 14,
    "start_time": "2021-08-30T16:05:12.581Z"
   },
   {
    "duration": 35,
    "start_time": "2021-08-30T16:05:12.598Z"
   },
   {
    "duration": 64,
    "start_time": "2021-08-30T16:05:12.637Z"
   },
   {
    "duration": 33,
    "start_time": "2021-08-30T16:05:12.705Z"
   },
   {
    "duration": 54,
    "start_time": "2021-08-30T16:05:12.742Z"
   },
   {
    "duration": 118,
    "start_time": "2021-08-30T16:05:12.798Z"
   },
   {
    "duration": 132,
    "start_time": "2021-08-30T16:05:12.918Z"
   },
   {
    "duration": 90,
    "start_time": "2021-08-30T16:05:13.053Z"
   },
   {
    "duration": 86,
    "start_time": "2021-08-30T16:05:13.146Z"
   },
   {
    "duration": 5,
    "start_time": "2021-08-30T16:05:13.234Z"
   },
   {
    "duration": 64,
    "start_time": "2021-08-30T16:05:13.242Z"
   },
   {
    "duration": 83,
    "start_time": "2021-08-30T16:05:13.314Z"
   },
   {
    "duration": 18,
    "start_time": "2021-08-30T16:05:13.401Z"
   },
   {
    "duration": 51,
    "start_time": "2021-08-30T16:05:13.422Z"
   },
   {
    "duration": 25,
    "start_time": "2021-08-30T16:05:13.476Z"
   },
   {
    "duration": 5,
    "start_time": "2021-08-30T16:05:13.504Z"
   },
   {
    "duration": 60,
    "start_time": "2021-08-30T16:05:13.512Z"
   },
   {
    "duration": 25,
    "start_time": "2021-08-30T16:05:13.575Z"
   },
   {
    "duration": 22,
    "start_time": "2021-08-30T16:05:13.602Z"
   },
   {
    "duration": 56,
    "start_time": "2021-08-30T16:05:13.627Z"
   },
   {
    "duration": 23,
    "start_time": "2021-08-30T16:05:13.686Z"
   },
   {
    "duration": 28,
    "start_time": "2021-08-30T16:05:13.712Z"
   },
   {
    "duration": 37,
    "start_time": "2021-08-30T16:05:13.742Z"
   },
   {
    "duration": 20,
    "start_time": "2021-08-30T16:05:13.782Z"
   },
   {
    "duration": 39,
    "start_time": "2021-08-30T16:05:13.805Z"
   },
   {
    "duration": 7,
    "start_time": "2021-08-30T16:05:13.847Z"
   },
   {
    "duration": 40,
    "start_time": "2021-08-30T16:05:13.869Z"
   },
   {
    "duration": 19,
    "start_time": "2021-08-30T16:05:13.912Z"
   },
   {
    "duration": 63,
    "start_time": "2021-08-30T16:05:13.933Z"
   },
   {
    "duration": 22,
    "start_time": "2021-08-30T16:05:13.998Z"
   },
   {
    "duration": 78,
    "start_time": "2021-08-30T16:05:14.022Z"
   },
   {
    "duration": 54,
    "start_time": "2021-08-30T16:05:28.570Z"
   },
   {
    "duration": 7,
    "start_time": "2021-08-30T16:05:33.352Z"
   },
   {
    "duration": 325,
    "start_time": "2021-08-30T16:05:42.937Z"
   },
   {
    "duration": 3,
    "start_time": "2021-08-30T16:05:52.061Z"
   },
   {
    "duration": 247,
    "start_time": "2021-08-30T16:05:52.067Z"
   },
   {
    "duration": 16,
    "start_time": "2021-08-30T16:05:52.317Z"
   },
   {
    "duration": 33,
    "start_time": "2021-08-30T16:05:52.336Z"
   },
   {
    "duration": 40,
    "start_time": "2021-08-30T16:05:52.372Z"
   },
   {
    "duration": 6,
    "start_time": "2021-08-30T16:05:52.414Z"
   },
   {
    "duration": 48,
    "start_time": "2021-08-30T16:05:52.424Z"
   },
   {
    "duration": 8,
    "start_time": "2021-08-30T16:05:52.476Z"
   },
   {
    "duration": 39,
    "start_time": "2021-08-30T16:05:52.486Z"
   },
   {
    "duration": 64,
    "start_time": "2021-08-30T16:05:52.528Z"
   },
   {
    "duration": 23,
    "start_time": "2021-08-30T16:05:52.594Z"
   },
   {
    "duration": 51,
    "start_time": "2021-08-30T16:05:52.619Z"
   },
   {
    "duration": 98,
    "start_time": "2021-08-30T16:05:52.672Z"
   },
   {
    "duration": 116,
    "start_time": "2021-08-30T16:05:52.773Z"
   },
   {
    "duration": 89,
    "start_time": "2021-08-30T16:05:52.892Z"
   },
   {
    "duration": 111,
    "start_time": "2021-08-30T16:05:52.984Z"
   },
   {
    "duration": 4,
    "start_time": "2021-08-30T16:05:53.097Z"
   },
   {
    "duration": 41,
    "start_time": "2021-08-30T16:05:53.103Z"
   },
   {
    "duration": 76,
    "start_time": "2021-08-30T16:05:53.149Z"
   },
   {
    "duration": 15,
    "start_time": "2021-08-30T16:05:53.228Z"
   },
   {
    "duration": 43,
    "start_time": "2021-08-30T16:05:53.246Z"
   },
   {
    "duration": 27,
    "start_time": "2021-08-30T16:05:53.293Z"
   },
   {
    "duration": 6,
    "start_time": "2021-08-30T16:05:53.324Z"
   },
   {
    "duration": 54,
    "start_time": "2021-08-30T16:05:53.333Z"
   },
   {
    "duration": 24,
    "start_time": "2021-08-30T16:05:53.390Z"
   },
   {
    "duration": 54,
    "start_time": "2021-08-30T16:05:53.416Z"
   },
   {
    "duration": 25,
    "start_time": "2021-08-30T16:05:53.473Z"
   },
   {
    "duration": 23,
    "start_time": "2021-08-30T16:05:53.501Z"
   },
   {
    "duration": 63,
    "start_time": "2021-08-30T16:05:53.527Z"
   },
   {
    "duration": 15,
    "start_time": "2021-08-30T16:05:53.593Z"
   },
   {
    "duration": 21,
    "start_time": "2021-08-30T16:05:53.611Z"
   },
   {
    "duration": 18,
    "start_time": "2021-08-30T16:05:53.669Z"
   },
   {
    "duration": 6,
    "start_time": "2021-08-30T16:05:53.690Z"
   },
   {
    "duration": 33,
    "start_time": "2021-08-30T16:05:53.699Z"
   },
   {
    "duration": 52,
    "start_time": "2021-08-30T16:05:53.735Z"
   },
   {
    "duration": 43,
    "start_time": "2021-08-30T16:05:53.790Z"
   },
   {
    "duration": 54,
    "start_time": "2021-08-30T16:05:53.836Z"
   },
   {
    "duration": 34,
    "start_time": "2021-08-30T16:05:53.892Z"
   },
   {
    "duration": 6,
    "start_time": "2021-08-30T16:05:53.928Z"
   },
   {
    "duration": 14,
    "start_time": "2021-08-30T16:05:53.968Z"
   },
   {
    "duration": 22,
    "start_time": "2021-08-30T16:05:53.985Z"
   },
   {
    "duration": 6,
    "start_time": "2021-08-30T16:06:00.507Z"
   },
   {
    "duration": 118,
    "start_time": "2021-08-30T16:31:47.837Z"
   },
   {
    "duration": 4,
    "start_time": "2021-08-30T16:31:58.714Z"
   },
   {
    "duration": 536,
    "start_time": "2021-08-30T16:32:06.909Z"
   },
   {
    "duration": 4,
    "start_time": "2021-08-30T16:32:19.673Z"
   },
   {
    "duration": 18,
    "start_time": "2021-08-30T16:32:21.959Z"
   },
   {
    "duration": 19,
    "start_time": "2021-08-30T16:32:24.461Z"
   },
   {
    "duration": 18,
    "start_time": "2021-08-30T16:33:34.459Z"
   },
   {
    "duration": 18,
    "start_time": "2021-08-30T16:33:43.280Z"
   },
   {
    "duration": 4,
    "start_time": "2021-08-30T16:38:04.695Z"
   },
   {
    "duration": 29,
    "start_time": "2021-08-30T16:38:06.553Z"
   },
   {
    "duration": 4,
    "start_time": "2021-08-30T16:38:28.547Z"
   },
   {
    "duration": 92,
    "start_time": "2021-08-30T16:38:36.252Z"
   },
   {
    "duration": 26,
    "start_time": "2021-08-30T16:38:43.355Z"
   },
   {
    "duration": 68,
    "start_time": "2021-08-30T16:38:48.227Z"
   },
   {
    "duration": 6,
    "start_time": "2021-08-30T16:58:29.874Z"
   },
   {
    "duration": 4,
    "start_time": "2021-08-30T17:05:37.338Z"
   },
   {
    "duration": 317,
    "start_time": "2021-08-30T17:05:37.345Z"
   },
   {
    "duration": 20,
    "start_time": "2021-08-30T17:05:37.666Z"
   },
   {
    "duration": 20,
    "start_time": "2021-08-30T17:05:37.689Z"
   },
   {
    "duration": 57,
    "start_time": "2021-08-30T17:05:37.711Z"
   },
   {
    "duration": 5,
    "start_time": "2021-08-30T17:05:37.770Z"
   },
   {
    "duration": 23,
    "start_time": "2021-08-30T17:05:37.777Z"
   },
   {
    "duration": 5,
    "start_time": "2021-08-30T17:05:37.803Z"
   },
   {
    "duration": 65,
    "start_time": "2021-08-30T17:05:37.812Z"
   },
   {
    "duration": 31,
    "start_time": "2021-08-30T17:05:37.881Z"
   },
   {
    "duration": 26,
    "start_time": "2021-08-30T17:05:37.915Z"
   },
   {
    "duration": 43,
    "start_time": "2021-08-30T17:05:37.944Z"
   },
   {
    "duration": 108,
    "start_time": "2021-08-30T17:05:37.989Z"
   },
   {
    "duration": 108,
    "start_time": "2021-08-30T17:05:38.100Z"
   },
   {
    "duration": 91,
    "start_time": "2021-08-30T17:05:38.210Z"
   },
   {
    "duration": 67,
    "start_time": "2021-08-30T17:05:38.303Z"
   },
   {
    "duration": 3,
    "start_time": "2021-08-30T17:05:38.372Z"
   },
   {
    "duration": 10,
    "start_time": "2021-08-30T17:05:38.377Z"
   },
   {
    "duration": 32,
    "start_time": "2021-08-30T17:05:38.389Z"
   },
   {
    "duration": 71,
    "start_time": "2021-08-30T17:05:38.424Z"
   },
   {
    "duration": 16,
    "start_time": "2021-08-30T17:05:38.497Z"
   },
   {
    "duration": 19,
    "start_time": "2021-08-30T17:05:38.515Z"
   },
   {
    "duration": 47,
    "start_time": "2021-08-30T17:05:38.536Z"
   },
   {
    "duration": 5,
    "start_time": "2021-08-30T17:05:38.585Z"
   },
   {
    "duration": 31,
    "start_time": "2021-08-30T17:05:38.593Z"
   },
   {
    "duration": 43,
    "start_time": "2021-08-30T17:05:38.627Z"
   },
   {
    "duration": 20,
    "start_time": "2021-08-30T17:05:38.675Z"
   },
   {
    "duration": 27,
    "start_time": "2021-08-30T17:05:38.698Z"
   },
   {
    "duration": 46,
    "start_time": "2021-08-30T17:05:38.728Z"
   },
   {
    "duration": 19,
    "start_time": "2021-08-30T17:05:38.777Z"
   },
   {
    "duration": 12,
    "start_time": "2021-08-30T17:05:38.798Z"
   },
   {
    "duration": 29,
    "start_time": "2021-08-30T17:05:38.813Z"
   },
   {
    "duration": 30,
    "start_time": "2021-08-30T17:05:38.844Z"
   },
   {
    "duration": 18,
    "start_time": "2021-08-30T17:05:38.877Z"
   },
   {
    "duration": 44,
    "start_time": "2021-08-30T17:05:38.898Z"
   },
   {
    "duration": 31,
    "start_time": "2021-08-30T17:05:38.946Z"
   },
   {
    "duration": 28,
    "start_time": "2021-08-30T17:05:38.980Z"
   },
   {
    "duration": 20,
    "start_time": "2021-08-30T17:05:39.010Z"
   },
   {
    "duration": 62,
    "start_time": "2021-08-30T17:05:39.033Z"
   },
   {
    "duration": 7,
    "start_time": "2021-08-30T17:05:39.098Z"
   },
   {
    "duration": 15,
    "start_time": "2021-08-30T17:05:39.108Z"
   },
   {
    "duration": 55,
    "start_time": "2021-08-30T17:05:39.126Z"
   },
   {
    "duration": 7,
    "start_time": "2021-08-30T17:05:39.184Z"
   },
   {
    "duration": 6,
    "start_time": "2021-08-30T17:18:33.268Z"
   },
   {
    "duration": 10,
    "start_time": "2021-08-30T17:18:39.088Z"
   },
   {
    "duration": 12,
    "start_time": "2021-08-30T17:18:58.214Z"
   },
   {
    "duration": 10,
    "start_time": "2021-08-30T17:19:08.899Z"
   },
   {
    "duration": 24,
    "start_time": "2021-08-30T17:20:34.451Z"
   },
   {
    "duration": 30,
    "start_time": "2021-08-30T17:20:45.275Z"
   },
   {
    "duration": 22,
    "start_time": "2021-08-30T17:20:50.757Z"
   },
   {
    "duration": 30,
    "start_time": "2021-08-30T17:20:56.807Z"
   },
   {
    "duration": 40,
    "start_time": "2021-08-30T17:21:11.625Z"
   },
   {
    "duration": 18,
    "start_time": "2021-08-30T17:24:43.837Z"
   },
   {
    "duration": 18,
    "start_time": "2021-08-30T17:25:07.671Z"
   },
   {
    "duration": 375,
    "start_time": "2021-08-30T17:34:15.763Z"
   },
   {
    "duration": 309,
    "start_time": "2021-08-30T17:34:29.460Z"
   },
   {
    "duration": 69,
    "start_time": "2021-08-30T17:34:34.530Z"
   },
   {
    "duration": 25,
    "start_time": "2021-08-30T17:34:48.037Z"
   },
   {
    "duration": 33,
    "start_time": "2021-08-30T17:35:00.287Z"
   },
   {
    "duration": 30,
    "start_time": "2021-08-30T17:35:07.101Z"
   },
   {
    "duration": 34,
    "start_time": "2021-08-30T17:35:20.131Z"
   },
   {
    "duration": 4,
    "start_time": "2021-08-30T17:35:26.253Z"
   },
   {
    "duration": 262,
    "start_time": "2021-08-30T17:35:26.261Z"
   },
   {
    "duration": 21,
    "start_time": "2021-08-30T17:35:26.526Z"
   },
   {
    "duration": 17,
    "start_time": "2021-08-30T17:35:26.567Z"
   },
   {
    "duration": 53,
    "start_time": "2021-08-30T17:35:26.588Z"
   },
   {
    "duration": 14,
    "start_time": "2021-08-30T17:35:26.644Z"
   },
   {
    "duration": 27,
    "start_time": "2021-08-30T17:35:26.671Z"
   },
   {
    "duration": 9,
    "start_time": "2021-08-30T17:35:26.701Z"
   },
   {
    "duration": 48,
    "start_time": "2021-08-30T17:35:26.712Z"
   },
   {
    "duration": 44,
    "start_time": "2021-08-30T17:35:26.762Z"
   },
   {
    "duration": 32,
    "start_time": "2021-08-30T17:35:26.808Z"
   },
   {
    "duration": 49,
    "start_time": "2021-08-30T17:35:26.842Z"
   },
   {
    "duration": 91,
    "start_time": "2021-08-30T17:35:26.893Z"
   },
   {
    "duration": 116,
    "start_time": "2021-08-30T17:35:26.987Z"
   },
   {
    "duration": 83,
    "start_time": "2021-08-30T17:35:27.106Z"
   },
   {
    "duration": 59,
    "start_time": "2021-08-30T17:35:27.192Z"
   },
   {
    "duration": 10,
    "start_time": "2021-08-30T17:35:27.269Z"
   },
   {
    "duration": 10,
    "start_time": "2021-08-30T17:35:27.282Z"
   },
   {
    "duration": 30,
    "start_time": "2021-08-30T17:35:27.300Z"
   },
   {
    "duration": 80,
    "start_time": "2021-08-30T17:35:27.334Z"
   },
   {
    "duration": 24,
    "start_time": "2021-08-30T17:35:27.416Z"
   },
   {
    "duration": 34,
    "start_time": "2021-08-30T17:35:27.443Z"
   },
   {
    "duration": 22,
    "start_time": "2021-08-30T17:35:27.481Z"
   },
   {
    "duration": 449,
    "start_time": "2021-08-30T17:35:27.505Z"
   },
   {
    "duration": 161,
    "start_time": "2021-08-30T17:35:27.956Z"
   },
   {
    "duration": 20,
    "start_time": "2021-08-30T17:35:28.120Z"
   },
   {
    "duration": 35,
    "start_time": "2021-08-30T17:35:28.142Z"
   },
   {
    "duration": 18,
    "start_time": "2021-08-30T17:35:28.179Z"
   },
   {
    "duration": 20,
    "start_time": "2021-08-30T17:35:28.199Z"
   },
   {
    "duration": 47,
    "start_time": "2021-08-30T17:35:28.221Z"
   },
   {
    "duration": 18,
    "start_time": "2021-08-30T17:35:28.273Z"
   },
   {
    "duration": 21,
    "start_time": "2021-08-30T17:35:28.293Z"
   },
   {
    "duration": 16,
    "start_time": "2021-08-30T17:35:28.317Z"
   },
   {
    "duration": 35,
    "start_time": "2021-08-30T17:35:28.335Z"
   },
   {
    "duration": 124,
    "start_time": "2021-08-30T17:35:28.377Z"
   },
   {
    "duration": 22,
    "start_time": "2021-08-30T17:35:28.503Z"
   },
   {
    "duration": 53,
    "start_time": "2021-08-30T17:35:28.527Z"
   },
   {
    "duration": 81,
    "start_time": "2021-08-30T17:35:28.584Z"
   },
   {
    "duration": 43,
    "start_time": "2021-08-30T17:35:28.672Z"
   },
   {
    "duration": 10,
    "start_time": "2021-08-30T17:35:28.718Z"
   },
   {
    "duration": 42,
    "start_time": "2021-08-30T17:35:28.731Z"
   },
   {
    "duration": 21,
    "start_time": "2021-08-30T17:35:28.776Z"
   },
   {
    "duration": 12,
    "start_time": "2021-08-30T17:35:28.799Z"
   },
   {
    "duration": 373,
    "start_time": "2021-08-30T17:36:11.126Z"
   },
   {
    "duration": 30,
    "start_time": "2021-08-30T17:36:15.020Z"
   },
   {
    "duration": 3,
    "start_time": "2021-08-30T17:36:35.342Z"
   },
   {
    "duration": 259,
    "start_time": "2021-08-30T17:36:35.349Z"
   },
   {
    "duration": 16,
    "start_time": "2021-08-30T17:36:35.611Z"
   },
   {
    "duration": 21,
    "start_time": "2021-08-30T17:36:35.630Z"
   },
   {
    "duration": 37,
    "start_time": "2021-08-30T17:36:35.676Z"
   },
   {
    "duration": 6,
    "start_time": "2021-08-30T17:36:35.716Z"
   },
   {
    "duration": 61,
    "start_time": "2021-08-30T17:36:35.724Z"
   },
   {
    "duration": 5,
    "start_time": "2021-08-30T17:36:35.788Z"
   },
   {
    "duration": 34,
    "start_time": "2021-08-30T17:36:35.799Z"
   },
   {
    "duration": 57,
    "start_time": "2021-08-30T17:36:35.836Z"
   },
   {
    "duration": 25,
    "start_time": "2021-08-30T17:36:35.895Z"
   },
   {
    "duration": 22,
    "start_time": "2021-08-30T17:36:35.922Z"
   },
   {
    "duration": 97,
    "start_time": "2021-08-30T17:36:35.972Z"
   },
   {
    "duration": 116,
    "start_time": "2021-08-30T17:36:36.072Z"
   },
   {
    "duration": 91,
    "start_time": "2021-08-30T17:36:36.191Z"
   },
   {
    "duration": 60,
    "start_time": "2021-08-30T17:36:36.284Z"
   },
   {
    "duration": 3,
    "start_time": "2021-08-30T17:36:36.346Z"
   },
   {
    "duration": 7,
    "start_time": "2021-08-30T17:36:36.368Z"
   },
   {
    "duration": 24,
    "start_time": "2021-08-30T17:36:36.379Z"
   },
   {
    "duration": 92,
    "start_time": "2021-08-30T17:36:36.406Z"
   },
   {
    "duration": 21,
    "start_time": "2021-08-30T17:36:36.500Z"
   },
   {
    "duration": 49,
    "start_time": "2021-08-30T17:36:36.524Z"
   },
   {
    "duration": 21,
    "start_time": "2021-08-30T17:36:36.576Z"
   },
   {
    "duration": 5,
    "start_time": "2021-08-30T17:36:36.599Z"
   },
   {
    "duration": 36,
    "start_time": "2021-08-30T17:36:36.606Z"
   },
   {
    "duration": 41,
    "start_time": "2021-08-30T17:36:36.645Z"
   },
   {
    "duration": 23,
    "start_time": "2021-08-30T17:36:36.691Z"
   },
   {
    "duration": 19,
    "start_time": "2021-08-30T17:36:36.717Z"
   },
   {
    "duration": 51,
    "start_time": "2021-08-30T17:36:36.738Z"
   },
   {
    "duration": 18,
    "start_time": "2021-08-30T17:36:36.791Z"
   },
   {
    "duration": 12,
    "start_time": "2021-08-30T17:36:36.811Z"
   },
   {
    "duration": 53,
    "start_time": "2021-08-30T17:36:36.826Z"
   },
   {
    "duration": 17,
    "start_time": "2021-08-30T17:36:36.882Z"
   },
   {
    "duration": 7,
    "start_time": "2021-08-30T17:36:36.902Z"
   },
   {
    "duration": 74,
    "start_time": "2021-08-30T17:36:36.912Z"
   },
   {
    "duration": 23,
    "start_time": "2021-08-30T17:36:36.989Z"
   },
   {
    "duration": 30,
    "start_time": "2021-08-30T17:36:37.014Z"
   },
   {
    "duration": 28,
    "start_time": "2021-08-30T17:36:37.070Z"
   },
   {
    "duration": 39,
    "start_time": "2021-08-30T17:36:37.100Z"
   },
   {
    "duration": 41,
    "start_time": "2021-08-30T17:36:37.141Z"
   },
   {
    "duration": 10,
    "start_time": "2021-08-30T17:36:37.185Z"
   },
   {
    "duration": 20,
    "start_time": "2021-08-30T17:36:37.197Z"
   },
   {
    "duration": 9,
    "start_time": "2021-08-30T17:36:37.220Z"
   },
   {
    "duration": 550,
    "start_time": "2021-08-30T19:13:31.126Z"
   },
   {
    "duration": 127,
    "start_time": "2021-08-30T19:13:31.678Z"
   },
   {
    "duration": 15,
    "start_time": "2021-08-30T19:13:31.807Z"
   },
   {
    "duration": 15,
    "start_time": "2021-08-30T19:13:31.824Z"
   },
   {
    "duration": 34,
    "start_time": "2021-08-30T19:13:31.841Z"
   },
   {
    "duration": 8,
    "start_time": "2021-08-30T19:13:31.877Z"
   },
   {
    "duration": 34,
    "start_time": "2021-08-30T19:13:31.886Z"
   },
   {
    "duration": 16,
    "start_time": "2021-08-30T19:13:31.923Z"
   },
   {
    "duration": 36,
    "start_time": "2021-08-30T19:13:31.940Z"
   },
   {
    "duration": 21,
    "start_time": "2021-08-30T19:13:31.978Z"
   },
   {
    "duration": 22,
    "start_time": "2021-08-30T19:13:32.000Z"
   },
   {
    "duration": 27,
    "start_time": "2021-08-30T19:13:32.023Z"
   },
   {
    "duration": 56,
    "start_time": "2021-08-30T19:13:32.052Z"
   },
   {
    "duration": 87,
    "start_time": "2021-08-30T19:13:32.110Z"
   },
   {
    "duration": 49,
    "start_time": "2021-08-30T19:13:32.199Z"
   },
   {
    "duration": 48,
    "start_time": "2021-08-30T19:13:32.250Z"
   },
   {
    "duration": 2,
    "start_time": "2021-08-30T19:13:32.300Z"
   },
   {
    "duration": 11,
    "start_time": "2021-08-30T19:13:32.303Z"
   },
   {
    "duration": 20,
    "start_time": "2021-08-30T19:13:32.315Z"
   },
   {
    "duration": 38,
    "start_time": "2021-08-30T19:13:32.336Z"
   },
   {
    "duration": 26,
    "start_time": "2021-08-30T19:13:32.375Z"
   },
   {
    "duration": 10,
    "start_time": "2021-08-30T19:13:32.402Z"
   },
   {
    "duration": 11,
    "start_time": "2021-08-30T19:13:32.415Z"
   },
   {
    "duration": 3,
    "start_time": "2021-08-30T19:13:32.427Z"
   },
   {
    "duration": 22,
    "start_time": "2021-08-30T19:13:32.431Z"
   },
   {
    "duration": 40,
    "start_time": "2021-08-30T19:13:32.454Z"
   },
   {
    "duration": 14,
    "start_time": "2021-08-30T19:13:32.496Z"
   },
   {
    "duration": 13,
    "start_time": "2021-08-30T19:13:32.512Z"
   },
   {
    "duration": 18,
    "start_time": "2021-08-30T19:13:32.526Z"
   },
   {
    "duration": 14,
    "start_time": "2021-08-30T19:13:32.545Z"
   },
   {
    "duration": 33,
    "start_time": "2021-08-30T19:13:32.560Z"
   },
   {
    "duration": 19,
    "start_time": "2021-08-30T19:13:32.594Z"
   },
   {
    "duration": 9,
    "start_time": "2021-08-30T19:13:32.615Z"
   },
   {
    "duration": 10,
    "start_time": "2021-08-30T19:13:32.625Z"
   },
   {
    "duration": 36,
    "start_time": "2021-08-30T19:13:32.636Z"
   },
   {
    "duration": 15,
    "start_time": "2021-08-30T19:13:32.673Z"
   },
   {
    "duration": 38,
    "start_time": "2021-08-30T19:13:32.690Z"
   },
   {
    "duration": 15,
    "start_time": "2021-08-30T19:13:32.729Z"
   },
   {
    "duration": 33,
    "start_time": "2021-08-30T19:13:32.746Z"
   },
   {
    "duration": 6,
    "start_time": "2021-08-30T19:13:32.780Z"
   },
   {
    "duration": 15,
    "start_time": "2021-08-30T19:13:32.787Z"
   },
   {
    "duration": 24,
    "start_time": "2021-08-30T19:13:32.803Z"
   },
   {
    "duration": 12,
    "start_time": "2021-08-30T19:13:32.828Z"
   }
  ],
  "colab": {
   "collapsed_sections": [
    "E0vqbgi9ay0H",
    "VUC88oWjTJw2"
   ],
   "name": "yandex_music_project_2021.2.ipynb",
   "provenance": []
  },
  "kernelspec": {
   "display_name": "Python 3",
   "language": "python",
   "name": "python3"
  },
  "language_info": {
   "codemirror_mode": {
    "name": "ipython",
    "version": 3
   },
   "file_extension": ".py",
   "mimetype": "text/x-python",
   "name": "python",
   "nbconvert_exporter": "python",
   "pygments_lexer": "ipython3",
   "version": "3.8.8"
  },
  "toc": {
   "base_numbering": 1,
   "nav_menu": {
    "height": "297px",
    "width": "453px"
   },
   "number_sections": true,
   "sideBar": true,
   "skip_h1_title": true,
   "title_cell": "Table of Contents",
   "title_sidebar": "Contents",
   "toc_cell": false,
   "toc_position": {
    "height": "calc(100% - 180px)",
    "left": "10px",
    "top": "150px",
    "width": "216.387px"
   },
   "toc_section_display": true,
   "toc_window_display": true
  }
 },
 "nbformat": 4,
 "nbformat_minor": 1
}
