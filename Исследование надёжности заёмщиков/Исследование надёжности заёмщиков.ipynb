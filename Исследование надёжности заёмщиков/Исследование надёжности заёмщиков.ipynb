{
 "cells": [
  {
   "cell_type": "markdown",
   "metadata": {},
   "source": [
    "# Исследование надёжности заёмщиков\n",
    "\n",
    "Заказчик — кредитный отдел банка. Нужно разобраться, влияет ли семейное положение и количество детей клиента на факт погашения кредита в срок. Входные данные от банка — статистика о платёжеспособности клиентов.\n",
    "\n",
    "Результаты исследования будут учтены при построении модели **кредитного скоринга** — специальной системы, которая оценивает способность потенциального заёмщика вернуть кредит банку."
   ]
  },
  {
   "cell_type": "markdown",
   "metadata": {},
   "source": [
    "**Цель исследования**\n",
    "\n",
    "В результате исследования необходимо ответить на следующие вопросы:\n",
    "\n",
    "- Есть ли зависимость между наличием детей и возвратом кредита в срок?\n",
    "- Есть ли зависимость между семейным положением и возвратом кредита в срок?\n",
    "- Есть ли зависимость между уровнем дохода и возвратом кредита в срок?\n",
    "- Как разные цели кредита влияют на его возврат в срок?\n",
    "\n",
    "**Ход исследования**\n",
    "\n",
    "Данные представлены в файле data.csv. О качестве данных ничего не известно, поэтому исследование будет состоять из трёх этапов:\n",
    "1. Обзор данных.\n",
    "2. Предобрадотка данных.\n",
    "3. Ответы на поставленные вопросы."
   ]
  },
  {
   "cell_type": "markdown",
   "metadata": {},
   "source": [
    "## Шаг 1. Откройте файл с данными и изучите общую информацию"
   ]
  },
  {
   "cell_type": "markdown",
   "metadata": {},
   "source": [
    "Составим первое представление о данных платёжеспособности клиентов."
   ]
  },
  {
   "cell_type": "markdown",
   "metadata": {},
   "source": [
    "Импортруем библиотеку pandas"
   ]
  },
  {
   "cell_type": "code",
   "execution_count": 142,
   "metadata": {},
   "outputs": [],
   "source": [
    "#импортируем библиотеку pandas\n",
    "import pandas as pd"
   ]
  },
  {
   "cell_type": "markdown",
   "metadata": {},
   "source": [
    "Прочитаем файл data.csv из папки /datasets и запишем его в переменную df"
   ]
  },
  {
   "cell_type": "code",
   "execution_count": 143,
   "metadata": {},
   "outputs": [],
   "source": [
    "#чтение из файла data.csv и запись в переменную df\n",
    "df = pd.read_csv('/datasets/data.csv')"
   ]
  },
  {
   "cell_type": "markdown",
   "metadata": {},
   "source": [
    "Выведем первые 10 строк датафрейма data.csv"
   ]
  },
  {
   "cell_type": "code",
   "execution_count": 144,
   "metadata": {},
   "outputs": [
    {
     "data": {
      "text/html": [
       "<div>\n",
       "<style scoped>\n",
       "    .dataframe tbody tr th:only-of-type {\n",
       "        vertical-align: middle;\n",
       "    }\n",
       "\n",
       "    .dataframe tbody tr th {\n",
       "        vertical-align: top;\n",
       "    }\n",
       "\n",
       "    .dataframe thead th {\n",
       "        text-align: right;\n",
       "    }\n",
       "</style>\n",
       "<table border=\"1\" class=\"dataframe\">\n",
       "  <thead>\n",
       "    <tr style=\"text-align: right;\">\n",
       "      <th></th>\n",
       "      <th>children</th>\n",
       "      <th>days_employed</th>\n",
       "      <th>dob_years</th>\n",
       "      <th>education</th>\n",
       "      <th>education_id</th>\n",
       "      <th>family_status</th>\n",
       "      <th>family_status_id</th>\n",
       "      <th>gender</th>\n",
       "      <th>income_type</th>\n",
       "      <th>debt</th>\n",
       "      <th>total_income</th>\n",
       "      <th>purpose</th>\n",
       "    </tr>\n",
       "  </thead>\n",
       "  <tbody>\n",
       "    <tr>\n",
       "      <td>0</td>\n",
       "      <td>1</td>\n",
       "      <td>-8437.673028</td>\n",
       "      <td>42</td>\n",
       "      <td>высшее</td>\n",
       "      <td>0</td>\n",
       "      <td>женат / замужем</td>\n",
       "      <td>0</td>\n",
       "      <td>F</td>\n",
       "      <td>сотрудник</td>\n",
       "      <td>0</td>\n",
       "      <td>253875.639453</td>\n",
       "      <td>покупка жилья</td>\n",
       "    </tr>\n",
       "    <tr>\n",
       "      <td>1</td>\n",
       "      <td>1</td>\n",
       "      <td>-4024.803754</td>\n",
       "      <td>36</td>\n",
       "      <td>среднее</td>\n",
       "      <td>1</td>\n",
       "      <td>женат / замужем</td>\n",
       "      <td>0</td>\n",
       "      <td>F</td>\n",
       "      <td>сотрудник</td>\n",
       "      <td>0</td>\n",
       "      <td>112080.014102</td>\n",
       "      <td>приобретение автомобиля</td>\n",
       "    </tr>\n",
       "    <tr>\n",
       "      <td>2</td>\n",
       "      <td>0</td>\n",
       "      <td>-5623.422610</td>\n",
       "      <td>33</td>\n",
       "      <td>Среднее</td>\n",
       "      <td>1</td>\n",
       "      <td>женат / замужем</td>\n",
       "      <td>0</td>\n",
       "      <td>M</td>\n",
       "      <td>сотрудник</td>\n",
       "      <td>0</td>\n",
       "      <td>145885.952297</td>\n",
       "      <td>покупка жилья</td>\n",
       "    </tr>\n",
       "    <tr>\n",
       "      <td>3</td>\n",
       "      <td>3</td>\n",
       "      <td>-4124.747207</td>\n",
       "      <td>32</td>\n",
       "      <td>среднее</td>\n",
       "      <td>1</td>\n",
       "      <td>женат / замужем</td>\n",
       "      <td>0</td>\n",
       "      <td>M</td>\n",
       "      <td>сотрудник</td>\n",
       "      <td>0</td>\n",
       "      <td>267628.550329</td>\n",
       "      <td>дополнительное образование</td>\n",
       "    </tr>\n",
       "    <tr>\n",
       "      <td>4</td>\n",
       "      <td>0</td>\n",
       "      <td>340266.072047</td>\n",
       "      <td>53</td>\n",
       "      <td>среднее</td>\n",
       "      <td>1</td>\n",
       "      <td>гражданский брак</td>\n",
       "      <td>1</td>\n",
       "      <td>F</td>\n",
       "      <td>пенсионер</td>\n",
       "      <td>0</td>\n",
       "      <td>158616.077870</td>\n",
       "      <td>сыграть свадьбу</td>\n",
       "    </tr>\n",
       "    <tr>\n",
       "      <td>5</td>\n",
       "      <td>0</td>\n",
       "      <td>-926.185831</td>\n",
       "      <td>27</td>\n",
       "      <td>высшее</td>\n",
       "      <td>0</td>\n",
       "      <td>гражданский брак</td>\n",
       "      <td>1</td>\n",
       "      <td>M</td>\n",
       "      <td>компаньон</td>\n",
       "      <td>0</td>\n",
       "      <td>255763.565419</td>\n",
       "      <td>покупка жилья</td>\n",
       "    </tr>\n",
       "    <tr>\n",
       "      <td>6</td>\n",
       "      <td>0</td>\n",
       "      <td>-2879.202052</td>\n",
       "      <td>43</td>\n",
       "      <td>высшее</td>\n",
       "      <td>0</td>\n",
       "      <td>женат / замужем</td>\n",
       "      <td>0</td>\n",
       "      <td>F</td>\n",
       "      <td>компаньон</td>\n",
       "      <td>0</td>\n",
       "      <td>240525.971920</td>\n",
       "      <td>операции с жильем</td>\n",
       "    </tr>\n",
       "    <tr>\n",
       "      <td>7</td>\n",
       "      <td>0</td>\n",
       "      <td>-152.779569</td>\n",
       "      <td>50</td>\n",
       "      <td>СРЕДНЕЕ</td>\n",
       "      <td>1</td>\n",
       "      <td>женат / замужем</td>\n",
       "      <td>0</td>\n",
       "      <td>M</td>\n",
       "      <td>сотрудник</td>\n",
       "      <td>0</td>\n",
       "      <td>135823.934197</td>\n",
       "      <td>образование</td>\n",
       "    </tr>\n",
       "    <tr>\n",
       "      <td>8</td>\n",
       "      <td>2</td>\n",
       "      <td>-6929.865299</td>\n",
       "      <td>35</td>\n",
       "      <td>ВЫСШЕЕ</td>\n",
       "      <td>0</td>\n",
       "      <td>гражданский брак</td>\n",
       "      <td>1</td>\n",
       "      <td>F</td>\n",
       "      <td>сотрудник</td>\n",
       "      <td>0</td>\n",
       "      <td>95856.832424</td>\n",
       "      <td>на проведение свадьбы</td>\n",
       "    </tr>\n",
       "    <tr>\n",
       "      <td>9</td>\n",
       "      <td>0</td>\n",
       "      <td>-2188.756445</td>\n",
       "      <td>41</td>\n",
       "      <td>среднее</td>\n",
       "      <td>1</td>\n",
       "      <td>женат / замужем</td>\n",
       "      <td>0</td>\n",
       "      <td>M</td>\n",
       "      <td>сотрудник</td>\n",
       "      <td>0</td>\n",
       "      <td>144425.938277</td>\n",
       "      <td>покупка жилья для семьи</td>\n",
       "    </tr>\n",
       "  </tbody>\n",
       "</table>\n",
       "</div>"
      ],
      "text/plain": [
       "   children  days_employed  dob_years education  education_id  \\\n",
       "0         1   -8437.673028         42    высшее             0   \n",
       "1         1   -4024.803754         36   среднее             1   \n",
       "2         0   -5623.422610         33   Среднее             1   \n",
       "3         3   -4124.747207         32   среднее             1   \n",
       "4         0  340266.072047         53   среднее             1   \n",
       "5         0    -926.185831         27    высшее             0   \n",
       "6         0   -2879.202052         43    высшее             0   \n",
       "7         0    -152.779569         50   СРЕДНЕЕ             1   \n",
       "8         2   -6929.865299         35    ВЫСШЕЕ             0   \n",
       "9         0   -2188.756445         41   среднее             1   \n",
       "\n",
       "      family_status  family_status_id gender income_type  debt   total_income  \\\n",
       "0   женат / замужем                 0      F   сотрудник     0  253875.639453   \n",
       "1   женат / замужем                 0      F   сотрудник     0  112080.014102   \n",
       "2   женат / замужем                 0      M   сотрудник     0  145885.952297   \n",
       "3   женат / замужем                 0      M   сотрудник     0  267628.550329   \n",
       "4  гражданский брак                 1      F   пенсионер     0  158616.077870   \n",
       "5  гражданский брак                 1      M   компаньон     0  255763.565419   \n",
       "6   женат / замужем                 0      F   компаньон     0  240525.971920   \n",
       "7   женат / замужем                 0      M   сотрудник     0  135823.934197   \n",
       "8  гражданский брак                 1      F   сотрудник     0   95856.832424   \n",
       "9   женат / замужем                 0      M   сотрудник     0  144425.938277   \n",
       "\n",
       "                      purpose  \n",
       "0               покупка жилья  \n",
       "1     приобретение автомобиля  \n",
       "2               покупка жилья  \n",
       "3  дополнительное образование  \n",
       "4             сыграть свадьбу  \n",
       "5               покупка жилья  \n",
       "6           операции с жильем  \n",
       "7                 образование  \n",
       "8       на проведение свадьбы  \n",
       "9     покупка жилья для семьи  "
      ]
     },
     "execution_count": 144,
     "metadata": {},
     "output_type": "execute_result"
    }
   ],
   "source": [
    "#получение первых 10 строк таблицы\n",
    "df.head(10)"
   ]
  },
  {
   "cell_type": "markdown",
   "metadata": {},
   "source": [
    "Получим общую информацию о датафрейме df."
   ]
  },
  {
   "cell_type": "code",
   "execution_count": 145,
   "metadata": {
    "scrolled": true
   },
   "outputs": [
    {
     "name": "stdout",
     "output_type": "stream",
     "text": [
      "<class 'pandas.core.frame.DataFrame'>\n",
      "RangeIndex: 21525 entries, 0 to 21524\n",
      "Data columns (total 12 columns):\n",
      "children            21525 non-null int64\n",
      "days_employed       19351 non-null float64\n",
      "dob_years           21525 non-null int64\n",
      "education           21525 non-null object\n",
      "education_id        21525 non-null int64\n",
      "family_status       21525 non-null object\n",
      "family_status_id    21525 non-null int64\n",
      "gender              21525 non-null object\n",
      "income_type         21525 non-null object\n",
      "debt                21525 non-null int64\n",
      "total_income        19351 non-null float64\n",
      "purpose             21525 non-null object\n",
      "dtypes: float64(2), int64(5), object(5)\n",
      "memory usage: 2.0+ MB\n"
     ]
    }
   ],
   "source": [
    "# Вывод общей информации по датафрейму\n",
    "df.info()"
   ]
  },
  {
   "cell_type": "markdown",
   "metadata": {},
   "source": [
    "Также изучим датафрейм с помощью функции .describe()."
   ]
  },
  {
   "cell_type": "code",
   "execution_count": 146,
   "metadata": {
    "scrolled": true
   },
   "outputs": [
    {
     "data": {
      "text/html": [
       "<div>\n",
       "<style scoped>\n",
       "    .dataframe tbody tr th:only-of-type {\n",
       "        vertical-align: middle;\n",
       "    }\n",
       "\n",
       "    .dataframe tbody tr th {\n",
       "        vertical-align: top;\n",
       "    }\n",
       "\n",
       "    .dataframe thead th {\n",
       "        text-align: right;\n",
       "    }\n",
       "</style>\n",
       "<table border=\"1\" class=\"dataframe\">\n",
       "  <thead>\n",
       "    <tr style=\"text-align: right;\">\n",
       "      <th></th>\n",
       "      <th>children</th>\n",
       "      <th>days_employed</th>\n",
       "      <th>dob_years</th>\n",
       "      <th>education_id</th>\n",
       "      <th>family_status_id</th>\n",
       "      <th>debt</th>\n",
       "      <th>total_income</th>\n",
       "    </tr>\n",
       "  </thead>\n",
       "  <tbody>\n",
       "    <tr>\n",
       "      <td>count</td>\n",
       "      <td>21525.000000</td>\n",
       "      <td>19351.000000</td>\n",
       "      <td>21525.000000</td>\n",
       "      <td>21525.000000</td>\n",
       "      <td>21525.000000</td>\n",
       "      <td>21525.000000</td>\n",
       "      <td>1.935100e+04</td>\n",
       "    </tr>\n",
       "    <tr>\n",
       "      <td>mean</td>\n",
       "      <td>0.538908</td>\n",
       "      <td>63046.497661</td>\n",
       "      <td>43.293380</td>\n",
       "      <td>0.817236</td>\n",
       "      <td>0.972544</td>\n",
       "      <td>0.080883</td>\n",
       "      <td>1.674223e+05</td>\n",
       "    </tr>\n",
       "    <tr>\n",
       "      <td>std</td>\n",
       "      <td>1.381587</td>\n",
       "      <td>140827.311974</td>\n",
       "      <td>12.574584</td>\n",
       "      <td>0.548138</td>\n",
       "      <td>1.420324</td>\n",
       "      <td>0.272661</td>\n",
       "      <td>1.029716e+05</td>\n",
       "    </tr>\n",
       "    <tr>\n",
       "      <td>min</td>\n",
       "      <td>-1.000000</td>\n",
       "      <td>-18388.949901</td>\n",
       "      <td>0.000000</td>\n",
       "      <td>0.000000</td>\n",
       "      <td>0.000000</td>\n",
       "      <td>0.000000</td>\n",
       "      <td>2.066726e+04</td>\n",
       "    </tr>\n",
       "    <tr>\n",
       "      <td>25%</td>\n",
       "      <td>0.000000</td>\n",
       "      <td>-2747.423625</td>\n",
       "      <td>33.000000</td>\n",
       "      <td>1.000000</td>\n",
       "      <td>0.000000</td>\n",
       "      <td>0.000000</td>\n",
       "      <td>1.030532e+05</td>\n",
       "    </tr>\n",
       "    <tr>\n",
       "      <td>50%</td>\n",
       "      <td>0.000000</td>\n",
       "      <td>-1203.369529</td>\n",
       "      <td>42.000000</td>\n",
       "      <td>1.000000</td>\n",
       "      <td>0.000000</td>\n",
       "      <td>0.000000</td>\n",
       "      <td>1.450179e+05</td>\n",
       "    </tr>\n",
       "    <tr>\n",
       "      <td>75%</td>\n",
       "      <td>1.000000</td>\n",
       "      <td>-291.095954</td>\n",
       "      <td>53.000000</td>\n",
       "      <td>1.000000</td>\n",
       "      <td>1.000000</td>\n",
       "      <td>0.000000</td>\n",
       "      <td>2.034351e+05</td>\n",
       "    </tr>\n",
       "    <tr>\n",
       "      <td>max</td>\n",
       "      <td>20.000000</td>\n",
       "      <td>401755.400475</td>\n",
       "      <td>75.000000</td>\n",
       "      <td>4.000000</td>\n",
       "      <td>4.000000</td>\n",
       "      <td>1.000000</td>\n",
       "      <td>2.265604e+06</td>\n",
       "    </tr>\n",
       "  </tbody>\n",
       "</table>\n",
       "</div>"
      ],
      "text/plain": [
       "           children  days_employed     dob_years  education_id  \\\n",
       "count  21525.000000   19351.000000  21525.000000  21525.000000   \n",
       "mean       0.538908   63046.497661     43.293380      0.817236   \n",
       "std        1.381587  140827.311974     12.574584      0.548138   \n",
       "min       -1.000000  -18388.949901      0.000000      0.000000   \n",
       "25%        0.000000   -2747.423625     33.000000      1.000000   \n",
       "50%        0.000000   -1203.369529     42.000000      1.000000   \n",
       "75%        1.000000    -291.095954     53.000000      1.000000   \n",
       "max       20.000000  401755.400475     75.000000      4.000000   \n",
       "\n",
       "       family_status_id          debt  total_income  \n",
       "count      21525.000000  21525.000000  1.935100e+04  \n",
       "mean           0.972544      0.080883  1.674223e+05  \n",
       "std            1.420324      0.272661  1.029716e+05  \n",
       "min            0.000000      0.000000  2.066726e+04  \n",
       "25%            0.000000      0.000000  1.030532e+05  \n",
       "50%            0.000000      0.000000  1.450179e+05  \n",
       "75%            1.000000      0.000000  2.034351e+05  \n",
       "max            4.000000      1.000000  2.265604e+06  "
      ]
     },
     "execution_count": 146,
     "metadata": {},
     "output_type": "execute_result"
    }
   ],
   "source": [
    "df.describe()"
   ]
  },
  {
   "cell_type": "code",
   "execution_count": 147,
   "metadata": {},
   "outputs": [
    {
     "data": {
      "text/plain": [
       "F      14236\n",
       "M       7288\n",
       "XNA        1\n",
       "Name: gender, dtype: int64"
      ]
     },
     "execution_count": 147,
     "metadata": {},
     "output_type": "execute_result"
    }
   ],
   "source": [
    "#выведем уникальные занчения из столбца gender\n",
    "df['gender'].value_counts()"
   ]
  },
  {
   "cell_type": "markdown",
   "metadata": {},
   "source": [
    "**Первичный анализ данных**\n",
    "\n",
    "Датафрейм df состоит из двенадцати столбцов:\n",
    "\n",
    "- children — количество детей в семье\n",
    "- days_employed — общий трудовой стаж в днях\n",
    "- dob_years — возраст клиента в годах\n",
    "- education — уровень образования клиента\n",
    "- education_id — идентификатор уровня образования\n",
    "- family_status — семейное положение\n",
    "- family_status_id — идентификатор семейного положения\n",
    "- gender — пол клиента\n",
    "- income_type — тип занятости\n",
    "- debt — имел ли задолженность по возврату кредитов\n",
    "- total_income — ежемесячный доход\n",
    "- purpose — цель получения кредита\n",
    "\n",
    "В названиях столбцов нет нарушения стиля, поэтому нет необходимости их переименовывать.\n",
    "\n",
    "В датафрейме присутствуют некоторые проблемы, которые осложняют анализ данных:\n",
    "\n",
    "- В столбцах `days_employed` и `total_income` существуют пропуски значений.\n",
    "\n",
    "- В столбце `education` присутствуют неявные дубликаты.\n",
    "\n",
    "- В столбце `days_employed`, `dob_years` и `gender` содержатся подозрительные данные.\n",
    "\n",
    "- Тип float в столбцах `days_employed` и `total_income` усложняет визуальный анализ данных.\n",
    "\n",
    "\n",
    "**Вывод**\n",
    "\n",
    "В каждой строке таблицы — данные платежеспособности клиентов.\n",
    "\n",
    "Предварительно, можно утверждать, что данных достаточно для ответов на поставленные вопросы. Однако, для корректного анализа необходимо выполнить следующую предоработку данных и их категорирование. "
   ]
  },
  {
   "cell_type": "markdown",
   "metadata": {},
   "source": [
    "## Шаг 2. Предобработка данных"
   ]
  },
  {
   "cell_type": "markdown",
   "metadata": {},
   "source": [
    "### Обработка пропусков"
   ]
  },
  {
   "cell_type": "markdown",
   "metadata": {},
   "source": [
    "Во-первых, определим количество пропусков в каждом столбце. Для этого применим метод .isna() в паре с методом sum()."
   ]
  },
  {
   "cell_type": "code",
   "execution_count": 148,
   "metadata": {},
   "outputs": [
    {
     "data": {
      "text/html": [
       "<div>\n",
       "<style scoped>\n",
       "    .dataframe tbody tr th:only-of-type {\n",
       "        vertical-align: middle;\n",
       "    }\n",
       "\n",
       "    .dataframe tbody tr th {\n",
       "        vertical-align: top;\n",
       "    }\n",
       "\n",
       "    .dataframe thead th {\n",
       "        text-align: right;\n",
       "    }\n",
       "</style>\n",
       "<table border=\"1\" class=\"dataframe\">\n",
       "  <thead>\n",
       "    <tr style=\"text-align: right;\">\n",
       "      <th></th>\n",
       "      <th>0</th>\n",
       "    </tr>\n",
       "  </thead>\n",
       "  <tbody>\n",
       "    <tr>\n",
       "      <td>children</td>\n",
       "      <td>0</td>\n",
       "    </tr>\n",
       "    <tr>\n",
       "      <td>days_employed</td>\n",
       "      <td>2174</td>\n",
       "    </tr>\n",
       "    <tr>\n",
       "      <td>dob_years</td>\n",
       "      <td>0</td>\n",
       "    </tr>\n",
       "    <tr>\n",
       "      <td>education</td>\n",
       "      <td>0</td>\n",
       "    </tr>\n",
       "    <tr>\n",
       "      <td>education_id</td>\n",
       "      <td>0</td>\n",
       "    </tr>\n",
       "    <tr>\n",
       "      <td>family_status</td>\n",
       "      <td>0</td>\n",
       "    </tr>\n",
       "    <tr>\n",
       "      <td>family_status_id</td>\n",
       "      <td>0</td>\n",
       "    </tr>\n",
       "    <tr>\n",
       "      <td>gender</td>\n",
       "      <td>0</td>\n",
       "    </tr>\n",
       "    <tr>\n",
       "      <td>income_type</td>\n",
       "      <td>0</td>\n",
       "    </tr>\n",
       "    <tr>\n",
       "      <td>debt</td>\n",
       "      <td>0</td>\n",
       "    </tr>\n",
       "    <tr>\n",
       "      <td>total_income</td>\n",
       "      <td>2174</td>\n",
       "    </tr>\n",
       "    <tr>\n",
       "      <td>purpose</td>\n",
       "      <td>0</td>\n",
       "    </tr>\n",
       "  </tbody>\n",
       "</table>\n",
       "</div>"
      ],
      "text/plain": [
       "                     0\n",
       "children             0\n",
       "days_employed     2174\n",
       "dob_years            0\n",
       "education            0\n",
       "education_id         0\n",
       "family_status        0\n",
       "family_status_id     0\n",
       "gender               0\n",
       "income_type          0\n",
       "debt                 0\n",
       "total_income      2174\n",
       "purpose              0"
      ]
     },
     "execution_count": 148,
     "metadata": {},
     "output_type": "execute_result"
    }
   ],
   "source": [
    "#подсчет количества пропусков и вывод в виде фрейма\n",
    "df.isna().sum().to_frame()"
   ]
  },
  {
   "cell_type": "markdown",
   "metadata": {},
   "source": [
    "Странно, что в столбцах `days_employed` и `total_income` одинаковое количество пропусков (2174). Возможно, пропуски в этих столбцах являются связанными. Необходимо проверить эту гипотезу."
   ]
  },
  {
   "cell_type": "code",
   "execution_count": 149,
   "metadata": {},
   "outputs": [
    {
     "data": {
      "text/html": [
       "<div>\n",
       "<style scoped>\n",
       "    .dataframe tbody tr th:only-of-type {\n",
       "        vertical-align: middle;\n",
       "    }\n",
       "\n",
       "    .dataframe tbody tr th {\n",
       "        vertical-align: top;\n",
       "    }\n",
       "\n",
       "    .dataframe thead th {\n",
       "        text-align: right;\n",
       "    }\n",
       "</style>\n",
       "<table border=\"1\" class=\"dataframe\">\n",
       "  <thead>\n",
       "    <tr style=\"text-align: right;\">\n",
       "      <th></th>\n",
       "      <th>children</th>\n",
       "      <th>days_employed</th>\n",
       "      <th>dob_years</th>\n",
       "      <th>education</th>\n",
       "      <th>education_id</th>\n",
       "      <th>family_status</th>\n",
       "      <th>family_status_id</th>\n",
       "      <th>gender</th>\n",
       "      <th>income_type</th>\n",
       "      <th>debt</th>\n",
       "      <th>total_income</th>\n",
       "      <th>purpose</th>\n",
       "    </tr>\n",
       "  </thead>\n",
       "  <tbody>\n",
       "    <tr>\n",
       "      <td>12</td>\n",
       "      <td>0</td>\n",
       "      <td>NaN</td>\n",
       "      <td>65</td>\n",
       "      <td>среднее</td>\n",
       "      <td>1</td>\n",
       "      <td>гражданский брак</td>\n",
       "      <td>1</td>\n",
       "      <td>M</td>\n",
       "      <td>пенсионер</td>\n",
       "      <td>0</td>\n",
       "      <td>NaN</td>\n",
       "      <td>сыграть свадьбу</td>\n",
       "    </tr>\n",
       "    <tr>\n",
       "      <td>26</td>\n",
       "      <td>0</td>\n",
       "      <td>NaN</td>\n",
       "      <td>41</td>\n",
       "      <td>среднее</td>\n",
       "      <td>1</td>\n",
       "      <td>женат / замужем</td>\n",
       "      <td>0</td>\n",
       "      <td>M</td>\n",
       "      <td>госслужащий</td>\n",
       "      <td>0</td>\n",
       "      <td>NaN</td>\n",
       "      <td>образование</td>\n",
       "    </tr>\n",
       "    <tr>\n",
       "      <td>29</td>\n",
       "      <td>0</td>\n",
       "      <td>NaN</td>\n",
       "      <td>63</td>\n",
       "      <td>среднее</td>\n",
       "      <td>1</td>\n",
       "      <td>Не женат / не замужем</td>\n",
       "      <td>4</td>\n",
       "      <td>F</td>\n",
       "      <td>пенсионер</td>\n",
       "      <td>0</td>\n",
       "      <td>NaN</td>\n",
       "      <td>строительство жилой недвижимости</td>\n",
       "    </tr>\n",
       "    <tr>\n",
       "      <td>41</td>\n",
       "      <td>0</td>\n",
       "      <td>NaN</td>\n",
       "      <td>50</td>\n",
       "      <td>среднее</td>\n",
       "      <td>1</td>\n",
       "      <td>женат / замужем</td>\n",
       "      <td>0</td>\n",
       "      <td>F</td>\n",
       "      <td>госслужащий</td>\n",
       "      <td>0</td>\n",
       "      <td>NaN</td>\n",
       "      <td>сделка с подержанным автомобилем</td>\n",
       "    </tr>\n",
       "    <tr>\n",
       "      <td>55</td>\n",
       "      <td>0</td>\n",
       "      <td>NaN</td>\n",
       "      <td>54</td>\n",
       "      <td>среднее</td>\n",
       "      <td>1</td>\n",
       "      <td>гражданский брак</td>\n",
       "      <td>1</td>\n",
       "      <td>F</td>\n",
       "      <td>пенсионер</td>\n",
       "      <td>1</td>\n",
       "      <td>NaN</td>\n",
       "      <td>сыграть свадьбу</td>\n",
       "    </tr>\n",
       "    <tr>\n",
       "      <td>65</td>\n",
       "      <td>0</td>\n",
       "      <td>NaN</td>\n",
       "      <td>21</td>\n",
       "      <td>среднее</td>\n",
       "      <td>1</td>\n",
       "      <td>Не женат / не замужем</td>\n",
       "      <td>4</td>\n",
       "      <td>M</td>\n",
       "      <td>компаньон</td>\n",
       "      <td>0</td>\n",
       "      <td>NaN</td>\n",
       "      <td>операции с коммерческой недвижимостью</td>\n",
       "    </tr>\n",
       "    <tr>\n",
       "      <td>67</td>\n",
       "      <td>0</td>\n",
       "      <td>NaN</td>\n",
       "      <td>52</td>\n",
       "      <td>высшее</td>\n",
       "      <td>0</td>\n",
       "      <td>женат / замужем</td>\n",
       "      <td>0</td>\n",
       "      <td>F</td>\n",
       "      <td>пенсионер</td>\n",
       "      <td>0</td>\n",
       "      <td>NaN</td>\n",
       "      <td>покупка жилья для семьи</td>\n",
       "    </tr>\n",
       "    <tr>\n",
       "      <td>72</td>\n",
       "      <td>1</td>\n",
       "      <td>NaN</td>\n",
       "      <td>32</td>\n",
       "      <td>высшее</td>\n",
       "      <td>0</td>\n",
       "      <td>женат / замужем</td>\n",
       "      <td>0</td>\n",
       "      <td>M</td>\n",
       "      <td>госслужащий</td>\n",
       "      <td>0</td>\n",
       "      <td>NaN</td>\n",
       "      <td>операции с коммерческой недвижимостью</td>\n",
       "    </tr>\n",
       "    <tr>\n",
       "      <td>82</td>\n",
       "      <td>2</td>\n",
       "      <td>NaN</td>\n",
       "      <td>50</td>\n",
       "      <td>высшее</td>\n",
       "      <td>0</td>\n",
       "      <td>женат / замужем</td>\n",
       "      <td>0</td>\n",
       "      <td>F</td>\n",
       "      <td>сотрудник</td>\n",
       "      <td>0</td>\n",
       "      <td>NaN</td>\n",
       "      <td>жилье</td>\n",
       "    </tr>\n",
       "    <tr>\n",
       "      <td>83</td>\n",
       "      <td>0</td>\n",
       "      <td>NaN</td>\n",
       "      <td>52</td>\n",
       "      <td>среднее</td>\n",
       "      <td>1</td>\n",
       "      <td>женат / замужем</td>\n",
       "      <td>0</td>\n",
       "      <td>M</td>\n",
       "      <td>сотрудник</td>\n",
       "      <td>0</td>\n",
       "      <td>NaN</td>\n",
       "      <td>жилье</td>\n",
       "    </tr>\n",
       "  </tbody>\n",
       "</table>\n",
       "</div>"
      ],
      "text/plain": [
       "    children  days_employed  dob_years education  education_id  \\\n",
       "12         0            NaN         65   среднее             1   \n",
       "26         0            NaN         41   среднее             1   \n",
       "29         0            NaN         63   среднее             1   \n",
       "41         0            NaN         50   среднее             1   \n",
       "55         0            NaN         54   среднее             1   \n",
       "65         0            NaN         21   среднее             1   \n",
       "67         0            NaN         52    высшее             0   \n",
       "72         1            NaN         32    высшее             0   \n",
       "82         2            NaN         50    высшее             0   \n",
       "83         0            NaN         52   среднее             1   \n",
       "\n",
       "            family_status  family_status_id gender  income_type  debt  \\\n",
       "12       гражданский брак                 1      M    пенсионер     0   \n",
       "26        женат / замужем                 0      M  госслужащий     0   \n",
       "29  Не женат / не замужем                 4      F    пенсионер     0   \n",
       "41        женат / замужем                 0      F  госслужащий     0   \n",
       "55       гражданский брак                 1      F    пенсионер     1   \n",
       "65  Не женат / не замужем                 4      M    компаньон     0   \n",
       "67        женат / замужем                 0      F    пенсионер     0   \n",
       "72        женат / замужем                 0      M  госслужащий     0   \n",
       "82        женат / замужем                 0      F    сотрудник     0   \n",
       "83        женат / замужем                 0      M    сотрудник     0   \n",
       "\n",
       "    total_income                                purpose  \n",
       "12           NaN                        сыграть свадьбу  \n",
       "26           NaN                            образование  \n",
       "29           NaN       строительство жилой недвижимости  \n",
       "41           NaN       сделка с подержанным автомобилем  \n",
       "55           NaN                        сыграть свадьбу  \n",
       "65           NaN  операции с коммерческой недвижимостью  \n",
       "67           NaN                покупка жилья для семьи  \n",
       "72           NaN  операции с коммерческой недвижимостью  \n",
       "82           NaN                                  жилье  \n",
       "83           NaN                                  жилье  "
      ]
     },
     "execution_count": 149,
     "metadata": {},
     "output_type": "execute_result"
    }
   ],
   "source": [
    "#вывод первых 10 строк, в которых значение days_employed равно NaN\n",
    "df[df['days_employed'].isna()].head(10)"
   ]
  },
  {
   "cell_type": "markdown",
   "metadata": {},
   "source": [
    "Видно, что в первых 10 строках, в которых значение `days_employed` равно NaN, значение `total_income` также равно NaN, но выводы необходимо делать по всей выборке, а не по первым 10 строкам. Поэтому подсчитаем количество строк, в которых значения в столбцах `days_employed` и `total_income` равны NaN."
   ]
  },
  {
   "cell_type": "code",
   "execution_count": 150,
   "metadata": {},
   "outputs": [
    {
     "data": {
      "text/plain": [
       "2174"
      ]
     },
     "execution_count": 150,
     "metadata": {},
     "output_type": "execute_result"
    }
   ],
   "source": [
    "#вывод количества строк, в которых days_employed и total_income равны NaN\n",
    "len(df[df['days_employed'].isna() & df['total_income'].isna()])"
   ]
  },
  {
   "cell_type": "markdown",
   "metadata": {},
   "source": [
    "Из вычисления выше следует, что пропуски в столбцах `days_employed` и `total_income` являются связанными. При этом связь с другими столбцами не наблюдается. Возможно, люди просто не захотели указывать свой рабочий стаж и размер заработной платы.\n",
    "\n",
    "Количество строк, в которых существуют пропуски, составляет порядка 10% от общего количества строк датафрейма. Это большое количество, поэтому удаление этих строк из общей выборки может сказаться на итоговых результатах исследования, например, для вопросов о зависимости между наличием детей/семейным положением и возвратом кредита в срок. Следовательно, эти строки не стоит удалять из общей выборки.\n",
    "\n",
    "Значения в столбцах `days_employed` и `total_income` являются количественными, поэтому их можно заменить на среднее арифметическое или на медиану. Попробуем произвести оптимальный выбор между средним арифметическим и медианой для каждого проблемного столбца."
   ]
  },
  {
   "cell_type": "code",
   "execution_count": 151,
   "metadata": {
    "scrolled": true
   },
   "outputs": [
    {
     "data": {
      "text/plain": [
       "63046.49766147338"
      ]
     },
     "execution_count": 151,
     "metadata": {},
     "output_type": "execute_result"
    }
   ],
   "source": [
    "#вычисление среднего арифметического для столбца days_employed\n",
    "df['days_employed'].mean()"
   ]
  },
  {
   "cell_type": "code",
   "execution_count": 152,
   "metadata": {
    "scrolled": false
   },
   "outputs": [
    {
     "data": {
      "text/plain": [
       "-1203.369528770489"
      ]
     },
     "execution_count": 152,
     "metadata": {},
     "output_type": "execute_result"
    }
   ],
   "source": [
    "#вычисление медианы для столбца days_employed\n",
    "df['days_employed'].median()"
   ]
  },
  {
   "cell_type": "markdown",
   "metadata": {},
   "source": [
    "Значения среднего арифметического и медианы столбца `days_employed` сильно разнятся. Это значит в данном столбце существуют значения, которые сильно больше многих других. Тем самым они увеличивают значение среднего арифметического.\n",
    "\n",
    "Также странно, что значение медианы является отрицательным. Конечно, это связано с тем, что большинство значений в столбце являются отрицательными. Попробуем вывести только положительные значения столбца `days_employed`."
   ]
  },
  {
   "cell_type": "code",
   "execution_count": 153,
   "metadata": {},
   "outputs": [
    {
     "data": {
      "text/html": [
       "<div>\n",
       "<style scoped>\n",
       "    .dataframe tbody tr th:only-of-type {\n",
       "        vertical-align: middle;\n",
       "    }\n",
       "\n",
       "    .dataframe tbody tr th {\n",
       "        vertical-align: top;\n",
       "    }\n",
       "\n",
       "    .dataframe thead th {\n",
       "        text-align: right;\n",
       "    }\n",
       "</style>\n",
       "<table border=\"1\" class=\"dataframe\">\n",
       "  <thead>\n",
       "    <tr style=\"text-align: right;\">\n",
       "      <th></th>\n",
       "      <th>children</th>\n",
       "      <th>days_employed</th>\n",
       "      <th>dob_years</th>\n",
       "      <th>education</th>\n",
       "      <th>education_id</th>\n",
       "      <th>family_status</th>\n",
       "      <th>family_status_id</th>\n",
       "      <th>gender</th>\n",
       "      <th>income_type</th>\n",
       "      <th>debt</th>\n",
       "      <th>total_income</th>\n",
       "      <th>purpose</th>\n",
       "    </tr>\n",
       "  </thead>\n",
       "  <tbody>\n",
       "    <tr>\n",
       "      <td>4</td>\n",
       "      <td>0</td>\n",
       "      <td>340266.072047</td>\n",
       "      <td>53</td>\n",
       "      <td>среднее</td>\n",
       "      <td>1</td>\n",
       "      <td>гражданский брак</td>\n",
       "      <td>1</td>\n",
       "      <td>F</td>\n",
       "      <td>пенсионер</td>\n",
       "      <td>0</td>\n",
       "      <td>158616.077870</td>\n",
       "      <td>сыграть свадьбу</td>\n",
       "    </tr>\n",
       "    <tr>\n",
       "      <td>18</td>\n",
       "      <td>0</td>\n",
       "      <td>400281.136913</td>\n",
       "      <td>53</td>\n",
       "      <td>среднее</td>\n",
       "      <td>1</td>\n",
       "      <td>вдовец / вдова</td>\n",
       "      <td>2</td>\n",
       "      <td>F</td>\n",
       "      <td>пенсионер</td>\n",
       "      <td>0</td>\n",
       "      <td>56823.777243</td>\n",
       "      <td>на покупку подержанного автомобиля</td>\n",
       "    </tr>\n",
       "    <tr>\n",
       "      <td>24</td>\n",
       "      <td>1</td>\n",
       "      <td>338551.952911</td>\n",
       "      <td>57</td>\n",
       "      <td>среднее</td>\n",
       "      <td>1</td>\n",
       "      <td>Не женат / не замужем</td>\n",
       "      <td>4</td>\n",
       "      <td>F</td>\n",
       "      <td>пенсионер</td>\n",
       "      <td>0</td>\n",
       "      <td>290547.235997</td>\n",
       "      <td>операции с коммерческой недвижимостью</td>\n",
       "    </tr>\n",
       "    <tr>\n",
       "      <td>25</td>\n",
       "      <td>0</td>\n",
       "      <td>363548.489348</td>\n",
       "      <td>67</td>\n",
       "      <td>среднее</td>\n",
       "      <td>1</td>\n",
       "      <td>женат / замужем</td>\n",
       "      <td>0</td>\n",
       "      <td>M</td>\n",
       "      <td>пенсионер</td>\n",
       "      <td>0</td>\n",
       "      <td>55112.757732</td>\n",
       "      <td>покупка недвижимости</td>\n",
       "    </tr>\n",
       "    <tr>\n",
       "      <td>30</td>\n",
       "      <td>1</td>\n",
       "      <td>335581.668515</td>\n",
       "      <td>62</td>\n",
       "      <td>среднее</td>\n",
       "      <td>1</td>\n",
       "      <td>женат / замужем</td>\n",
       "      <td>0</td>\n",
       "      <td>F</td>\n",
       "      <td>пенсионер</td>\n",
       "      <td>0</td>\n",
       "      <td>171456.067993</td>\n",
       "      <td>операции с коммерческой недвижимостью</td>\n",
       "    </tr>\n",
       "    <tr>\n",
       "      <td>35</td>\n",
       "      <td>0</td>\n",
       "      <td>394021.072184</td>\n",
       "      <td>68</td>\n",
       "      <td>среднее</td>\n",
       "      <td>1</td>\n",
       "      <td>гражданский брак</td>\n",
       "      <td>1</td>\n",
       "      <td>M</td>\n",
       "      <td>пенсионер</td>\n",
       "      <td>0</td>\n",
       "      <td>77805.677436</td>\n",
       "      <td>на проведение свадьбы</td>\n",
       "    </tr>\n",
       "    <tr>\n",
       "      <td>50</td>\n",
       "      <td>0</td>\n",
       "      <td>353731.432338</td>\n",
       "      <td>63</td>\n",
       "      <td>среднее</td>\n",
       "      <td>1</td>\n",
       "      <td>женат / замужем</td>\n",
       "      <td>0</td>\n",
       "      <td>F</td>\n",
       "      <td>пенсионер</td>\n",
       "      <td>0</td>\n",
       "      <td>92342.730612</td>\n",
       "      <td>автомобили</td>\n",
       "    </tr>\n",
       "    <tr>\n",
       "      <td>56</td>\n",
       "      <td>0</td>\n",
       "      <td>370145.087237</td>\n",
       "      <td>64</td>\n",
       "      <td>среднее</td>\n",
       "      <td>1</td>\n",
       "      <td>вдовец / вдова</td>\n",
       "      <td>2</td>\n",
       "      <td>F</td>\n",
       "      <td>пенсионер</td>\n",
       "      <td>0</td>\n",
       "      <td>149141.043533</td>\n",
       "      <td>образование</td>\n",
       "    </tr>\n",
       "    <tr>\n",
       "      <td>71</td>\n",
       "      <td>0</td>\n",
       "      <td>338113.529892</td>\n",
       "      <td>62</td>\n",
       "      <td>среднее</td>\n",
       "      <td>1</td>\n",
       "      <td>женат / замужем</td>\n",
       "      <td>0</td>\n",
       "      <td>F</td>\n",
       "      <td>пенсионер</td>\n",
       "      <td>0</td>\n",
       "      <td>43929.696397</td>\n",
       "      <td>автомобили</td>\n",
       "    </tr>\n",
       "    <tr>\n",
       "      <td>78</td>\n",
       "      <td>0</td>\n",
       "      <td>359722.945074</td>\n",
       "      <td>61</td>\n",
       "      <td>высшее</td>\n",
       "      <td>0</td>\n",
       "      <td>женат / замужем</td>\n",
       "      <td>0</td>\n",
       "      <td>M</td>\n",
       "      <td>пенсионер</td>\n",
       "      <td>0</td>\n",
       "      <td>175127.646000</td>\n",
       "      <td>сделка с автомобилем</td>\n",
       "    </tr>\n",
       "  </tbody>\n",
       "</table>\n",
       "</div>"
      ],
      "text/plain": [
       "    children  days_employed  dob_years education  education_id  \\\n",
       "4          0  340266.072047         53   среднее             1   \n",
       "18         0  400281.136913         53   среднее             1   \n",
       "24         1  338551.952911         57   среднее             1   \n",
       "25         0  363548.489348         67   среднее             1   \n",
       "30         1  335581.668515         62   среднее             1   \n",
       "35         0  394021.072184         68   среднее             1   \n",
       "50         0  353731.432338         63   среднее             1   \n",
       "56         0  370145.087237         64   среднее             1   \n",
       "71         0  338113.529892         62   среднее             1   \n",
       "78         0  359722.945074         61    высшее             0   \n",
       "\n",
       "            family_status  family_status_id gender income_type  debt  \\\n",
       "4        гражданский брак                 1      F   пенсионер     0   \n",
       "18         вдовец / вдова                 2      F   пенсионер     0   \n",
       "24  Не женат / не замужем                 4      F   пенсионер     0   \n",
       "25        женат / замужем                 0      M   пенсионер     0   \n",
       "30        женат / замужем                 0      F   пенсионер     0   \n",
       "35       гражданский брак                 1      M   пенсионер     0   \n",
       "50        женат / замужем                 0      F   пенсионер     0   \n",
       "56         вдовец / вдова                 2      F   пенсионер     0   \n",
       "71        женат / замужем                 0      F   пенсионер     0   \n",
       "78        женат / замужем                 0      M   пенсионер     0   \n",
       "\n",
       "     total_income                                purpose  \n",
       "4   158616.077870                        сыграть свадьбу  \n",
       "18   56823.777243     на покупку подержанного автомобиля  \n",
       "24  290547.235997  операции с коммерческой недвижимостью  \n",
       "25   55112.757732                   покупка недвижимости  \n",
       "30  171456.067993  операции с коммерческой недвижимостью  \n",
       "35   77805.677436                  на проведение свадьбы  \n",
       "50   92342.730612                             автомобили  \n",
       "56  149141.043533                            образование  \n",
       "71   43929.696397                             автомобили  \n",
       "78  175127.646000                   сделка с автомобилем  "
      ]
     },
     "execution_count": 153,
     "metadata": {},
     "output_type": "execute_result"
    }
   ],
   "source": [
    "#вывод первых 10 строк, в которых значение столбца days_employed больше нуля\n",
    "df[df['days_employed'] > 0].head(10)"
   ]
  },
  {
   "cell_type": "code",
   "execution_count": 154,
   "metadata": {},
   "outputs": [
    {
     "data": {
      "text/plain": [
       "328728.72060451825"
      ]
     },
     "execution_count": 154,
     "metadata": {},
     "output_type": "execute_result"
    }
   ],
   "source": [
    "#вывод минимального значения days_employed, при условии days_employed > 0\n",
    "df[df['days_employed'] > 0]['days_employed'].min()"
   ]
  },
  {
   "cell_type": "markdown",
   "metadata": {},
   "source": [
    "Уже по минимальному значению в столбце `days_employed` (при условии days_employed > 0) видно, что значения являются аномальными, так как, если `days_employed` выражено в днях, то 328728/365 = 900 лет рабочего стажа. Конечно, такое невозможно, поэтому этот случай надо дополнительно исследовать.\n",
    "\n",
    "В выборке, полученной с помощью кода `df[df['days_employed'] > 0].head(10)`, заметно, что аномальные значения обозначены только у пенсионеров. Проверим эту гипотезу."
   ]
  },
  {
   "cell_type": "code",
   "execution_count": 155,
   "metadata": {},
   "outputs": [
    {
     "data": {
      "text/plain": [
       "пенсионер      3443\n",
       "безработный       2\n",
       "Name: income_type, dtype: int64"
      ]
     },
     "execution_count": 155,
     "metadata": {},
     "output_type": "execute_result"
    }
   ],
   "source": [
    "#вывод количества значений income_type при условии days_employed больше нуля\n",
    "df[df['days_employed'] > 0]['income_type'].value_counts()"
   ]
  },
  {
   "cell_type": "code",
   "execution_count": 156,
   "metadata": {
    "scrolled": true
   },
   "outputs": [
    {
     "data": {
      "text/plain": [
       "413"
      ]
     },
     "execution_count": 156,
     "metadata": {},
     "output_type": "execute_result"
    }
   ],
   "source": [
    "#вывод количества пенсионеров у которых не определен рабочий стаж\n",
    "df[(df['income_type'] == 'пенсионер') & (df['days_employed'].isna())]['income_type'].count()"
   ]
  },
  {
   "cell_type": "code",
   "execution_count": 157,
   "metadata": {},
   "outputs": [
    {
     "data": {
      "text/plain": [
       "3856"
      ]
     },
     "execution_count": 157,
     "metadata": {},
     "output_type": "execute_result"
    }
   ],
   "source": [
    "#вывод общего количества пенсионеров\n",
    "df[df['income_type'] == 'пенсионер']['income_type'].count()"
   ]
  },
  {
   "cell_type": "markdown",
   "metadata": {},
   "source": [
    "Видно, что с данными рабочего стажа явно что-то не так.\n",
    "\n",
    "В них существует 2 проблемы:\n",
    "- Почти все строки имеют отрицательные значения рабочего стажа.\n",
    "- У всех пенсионеров, для которых определены значения рабочего стажа, значения являются положительными, но при этом сильно завышены относительно всех остальных групп пользователей.\n",
    "\n",
    "Возможно, значения для пенсионеров представлены в часах. Чтобы устранить данную аномалию, разделим каждое значение, которое больше 0, на 24, а отрицательные значения возьмем по модулю с помощью метода abs()."
   ]
  },
  {
   "cell_type": "code",
   "execution_count": 158,
   "metadata": {},
   "outputs": [],
   "source": [
    "def result_in_days(hours):\n",
    "    if hours < 0:\n",
    "        return abs(hours)\n",
    "    return hours / 24"
   ]
  },
  {
   "cell_type": "code",
   "execution_count": 159,
   "metadata": {},
   "outputs": [],
   "source": [
    "df['days_employed'] = df['days_employed'].apply(result_in_days)"
   ]
  },
  {
   "cell_type": "code",
   "execution_count": 160,
   "metadata": {
    "scrolled": false
   },
   "outputs": [
    {
     "data": {
      "text/html": [
       "<div>\n",
       "<style scoped>\n",
       "    .dataframe tbody tr th:only-of-type {\n",
       "        vertical-align: middle;\n",
       "    }\n",
       "\n",
       "    .dataframe tbody tr th {\n",
       "        vertical-align: top;\n",
       "    }\n",
       "\n",
       "    .dataframe thead th {\n",
       "        text-align: right;\n",
       "    }\n",
       "</style>\n",
       "<table border=\"1\" class=\"dataframe\">\n",
       "  <thead>\n",
       "    <tr style=\"text-align: right;\">\n",
       "      <th></th>\n",
       "      <th>children</th>\n",
       "      <th>days_employed</th>\n",
       "      <th>dob_years</th>\n",
       "      <th>education</th>\n",
       "      <th>education_id</th>\n",
       "      <th>family_status</th>\n",
       "      <th>family_status_id</th>\n",
       "      <th>gender</th>\n",
       "      <th>income_type</th>\n",
       "      <th>debt</th>\n",
       "      <th>total_income</th>\n",
       "      <th>purpose</th>\n",
       "    </tr>\n",
       "  </thead>\n",
       "  <tbody>\n",
       "    <tr>\n",
       "      <td>0</td>\n",
       "      <td>1</td>\n",
       "      <td>8437.673028</td>\n",
       "      <td>42</td>\n",
       "      <td>высшее</td>\n",
       "      <td>0</td>\n",
       "      <td>женат / замужем</td>\n",
       "      <td>0</td>\n",
       "      <td>F</td>\n",
       "      <td>сотрудник</td>\n",
       "      <td>0</td>\n",
       "      <td>253875.639453</td>\n",
       "      <td>покупка жилья</td>\n",
       "    </tr>\n",
       "    <tr>\n",
       "      <td>1</td>\n",
       "      <td>1</td>\n",
       "      <td>4024.803754</td>\n",
       "      <td>36</td>\n",
       "      <td>среднее</td>\n",
       "      <td>1</td>\n",
       "      <td>женат / замужем</td>\n",
       "      <td>0</td>\n",
       "      <td>F</td>\n",
       "      <td>сотрудник</td>\n",
       "      <td>0</td>\n",
       "      <td>112080.014102</td>\n",
       "      <td>приобретение автомобиля</td>\n",
       "    </tr>\n",
       "    <tr>\n",
       "      <td>2</td>\n",
       "      <td>0</td>\n",
       "      <td>5623.422610</td>\n",
       "      <td>33</td>\n",
       "      <td>Среднее</td>\n",
       "      <td>1</td>\n",
       "      <td>женат / замужем</td>\n",
       "      <td>0</td>\n",
       "      <td>M</td>\n",
       "      <td>сотрудник</td>\n",
       "      <td>0</td>\n",
       "      <td>145885.952297</td>\n",
       "      <td>покупка жилья</td>\n",
       "    </tr>\n",
       "    <tr>\n",
       "      <td>3</td>\n",
       "      <td>3</td>\n",
       "      <td>4124.747207</td>\n",
       "      <td>32</td>\n",
       "      <td>среднее</td>\n",
       "      <td>1</td>\n",
       "      <td>женат / замужем</td>\n",
       "      <td>0</td>\n",
       "      <td>M</td>\n",
       "      <td>сотрудник</td>\n",
       "      <td>0</td>\n",
       "      <td>267628.550329</td>\n",
       "      <td>дополнительное образование</td>\n",
       "    </tr>\n",
       "    <tr>\n",
       "      <td>4</td>\n",
       "      <td>0</td>\n",
       "      <td>14177.753002</td>\n",
       "      <td>53</td>\n",
       "      <td>среднее</td>\n",
       "      <td>1</td>\n",
       "      <td>гражданский брак</td>\n",
       "      <td>1</td>\n",
       "      <td>F</td>\n",
       "      <td>пенсионер</td>\n",
       "      <td>0</td>\n",
       "      <td>158616.077870</td>\n",
       "      <td>сыграть свадьбу</td>\n",
       "    </tr>\n",
       "  </tbody>\n",
       "</table>\n",
       "</div>"
      ],
      "text/plain": [
       "   children  days_employed  dob_years education  education_id  \\\n",
       "0         1    8437.673028         42    высшее             0   \n",
       "1         1    4024.803754         36   среднее             1   \n",
       "2         0    5623.422610         33   Среднее             1   \n",
       "3         3    4124.747207         32   среднее             1   \n",
       "4         0   14177.753002         53   среднее             1   \n",
       "\n",
       "      family_status  family_status_id gender income_type  debt   total_income  \\\n",
       "0   женат / замужем                 0      F   сотрудник     0  253875.639453   \n",
       "1   женат / замужем                 0      F   сотрудник     0  112080.014102   \n",
       "2   женат / замужем                 0      M   сотрудник     0  145885.952297   \n",
       "3   женат / замужем                 0      M   сотрудник     0  267628.550329   \n",
       "4  гражданский брак                 1      F   пенсионер     0  158616.077870   \n",
       "\n",
       "                      purpose  \n",
       "0               покупка жилья  \n",
       "1     приобретение автомобиля  \n",
       "2               покупка жилья  \n",
       "3  дополнительное образование  \n",
       "4             сыграть свадьбу  "
      ]
     },
     "execution_count": 160,
     "metadata": {},
     "output_type": "execute_result"
    }
   ],
   "source": [
    "df.head()"
   ]
  },
  {
   "cell_type": "code",
   "execution_count": 161,
   "metadata": {},
   "outputs": [],
   "source": [
    "#замена пропусков на медиану столбца days_employed\n",
    "df.loc[df['days_employed'].isna(), 'days_employed'] = df['days_employed'].median()"
   ]
  },
  {
   "cell_type": "code",
   "execution_count": 162,
   "metadata": {
    "scrolled": true
   },
   "outputs": [
    {
     "data": {
      "text/plain": [
       "0"
      ]
     },
     "execution_count": 162,
     "metadata": {},
     "output_type": "execute_result"
    }
   ],
   "source": [
    "#вывод количества пропусков в столбце days_employed\n",
    "df['days_employed'].isna().sum()"
   ]
  },
  {
   "cell_type": "markdown",
   "metadata": {},
   "source": [
    "Видно, что мы избавились от пропусков в столбце `days_employed`, теперь очередь столбца `total_income`. Проверим на какое значение лучше производить замену: на медиану или на среднее арифметическое."
   ]
  },
  {
   "cell_type": "code",
   "execution_count": 163,
   "metadata": {},
   "outputs": [
    {
     "data": {
      "text/plain": [
       "167422.30220817294"
      ]
     },
     "execution_count": 163,
     "metadata": {},
     "output_type": "execute_result"
    }
   ],
   "source": [
    "#подсчет среднего арифметического\n",
    "df['total_income'].mean()"
   ]
  },
  {
   "cell_type": "code",
   "execution_count": 164,
   "metadata": {},
   "outputs": [
    {
     "data": {
      "text/plain": [
       "145017.93753253992"
      ]
     },
     "execution_count": 164,
     "metadata": {},
     "output_type": "execute_result"
    }
   ],
   "source": [
    "#подсчет медианы\n",
    "df['total_income'].median()"
   ]
  },
  {
   "cell_type": "markdown",
   "metadata": {},
   "source": [
    "Видно, что медиана и среднее арифметическое не сильно отличаются друг от друга. Это значит, что в столбце `total_income` не содержится значений, которые сильно разнились бы от общей массы или таких значений содержится немного. Поэтому в данном случае корректнее выбрать среднее арифметическое в качестве замены пропусков."
   ]
  },
  {
   "cell_type": "code",
   "execution_count": 165,
   "metadata": {},
   "outputs": [],
   "source": [
    "#замена пропусков на среднее арифметическое\n",
    "df.loc[df['total_income'].isna(), 'total_income'] = df['total_income'].mean()"
   ]
  },
  {
   "cell_type": "code",
   "execution_count": 166,
   "metadata": {},
   "outputs": [
    {
     "data": {
      "text/plain": [
       "0"
      ]
     },
     "execution_count": 166,
     "metadata": {},
     "output_type": "execute_result"
    }
   ],
   "source": [
    "#вывод количества пропусков в столбце total_income\n",
    "df['total_income'].isna().sum()"
   ]
  },
  {
   "cell_type": "markdown",
   "metadata": {},
   "source": [
    "**Вывод**\n",
    "\n",
    "В данном пункте были выполнены следующие действия:\n",
    "1. Определены столбцы, в которых присутствовали пропуски.\n",
    "2. Определена связь между этими пропусками и указана возможная причина их появления.\n",
    "3. Определены возможные аномалии данных в столбце `days_employed`.\n",
    "4. Пропуски в столбце `days_employed` были заменены на значение медианы этого столбца.\n",
    "5. Пропуски в столбце `total_income` были заменены на значение среднего арифметического этого столбца."
   ]
  },
  {
   "cell_type": "markdown",
   "metadata": {},
   "source": [
    "**Исправление аномалий данных в столбце `dob_years`**"
   ]
  },
  {
   "cell_type": "markdown",
   "metadata": {},
   "source": [
    "Ранее мы обнаружили, что в столбце `dob_years` содержатся значения 0. Для исправления этой аномалии предварительно сгруппируем данные по столбцу `family_status` и после этого заменим значения 0 на значения медианы, соответствующей группы."
   ]
  },
  {
   "cell_type": "code",
   "execution_count": 167,
   "metadata": {},
   "outputs": [],
   "source": [
    "#создание новой переменной med_family_status и запись в нее значений медианы для каждой группы\n",
    "med_family_status = df.groupby('family_status')['dob_years'].median()"
   ]
  },
  {
   "cell_type": "code",
   "execution_count": 168,
   "metadata": {
    "scrolled": false
   },
   "outputs": [
    {
     "data": {
      "text/plain": [
       "family_status\n",
       "Не женат / не замужем    36\n",
       "в разводе                46\n",
       "вдовец / вдова           58\n",
       "гражданский брак         41\n",
       "женат / замужем          43\n",
       "Name: dob_years, dtype: int64"
      ]
     },
     "execution_count": 168,
     "metadata": {},
     "output_type": "execute_result"
    }
   ],
   "source": [
    "#вывод созданной переменной для проверки\n",
    "med_family_status"
   ]
  },
  {
   "cell_type": "code",
   "execution_count": 169,
   "metadata": {},
   "outputs": [],
   "source": [
    "#цикл для замены всех значений 0 на значения медианы для каждой группы\n",
    "for i in med_family_status.index:\n",
    "    df.loc[(df['family_status'] == i) & (df['dob_years'] == 0), 'dob_years'] = med_family_status[i]"
   ]
  },
  {
   "cell_type": "code",
   "execution_count": 170,
   "metadata": {
    "scrolled": false
   },
   "outputs": [
    {
     "data": {
      "text/plain": [
       "0"
      ]
     },
     "execution_count": 170,
     "metadata": {},
     "output_type": "execute_result"
    }
   ],
   "source": [
    "#проверка на значения 0 в столбце dob_years\n",
    "df[df['dob_years'] == 0]['dob_years'].count()"
   ]
  },
  {
   "cell_type": "markdown",
   "metadata": {},
   "source": [
    "Исправление аномалий данных в столбце `gender`"
   ]
  },
  {
   "cell_type": "code",
   "execution_count": 171,
   "metadata": {
    "scrolled": true
   },
   "outputs": [
    {
     "data": {
      "text/plain": [
       "F      14236\n",
       "M       7288\n",
       "XNA        1\n",
       "Name: gender, dtype: int64"
      ]
     },
     "execution_count": 171,
     "metadata": {},
     "output_type": "execute_result"
    }
   ],
   "source": [
    "#вывод всех уникальных значений столбца gender\n",
    "df['gender'].value_counts()"
   ]
  },
  {
   "cell_type": "markdown",
   "metadata": {},
   "source": [
    "В столбце `gender` присутствует аномальное значение \"XNA\". Заменим его на самый встречаемый в исходном датафрейме пол, то есть на \"F\"."
   ]
  },
  {
   "cell_type": "code",
   "execution_count": 172,
   "metadata": {},
   "outputs": [],
   "source": [
    "#Замена значения XNA на F\n",
    "df.loc[(df['gender'] == 'XNA'), 'gender'] = 'F'"
   ]
  },
  {
   "cell_type": "code",
   "execution_count": 173,
   "metadata": {
    "scrolled": true
   },
   "outputs": [
    {
     "data": {
      "text/plain": [
       "F    14237\n",
       "M     7288\n",
       "Name: gender, dtype: int64"
      ]
     },
     "execution_count": 173,
     "metadata": {},
     "output_type": "execute_result"
    }
   ],
   "source": [
    "#проверка устранения аномалии в столбце gender\n",
    "df['gender'].value_counts()"
   ]
  },
  {
   "cell_type": "markdown",
   "metadata": {},
   "source": [
    "### Замена типа данных"
   ]
  },
  {
   "cell_type": "markdown",
   "metadata": {},
   "source": [
    "В задании по устранению пропусков было заметно, что данные, содержащиеся в столбцах `days_employed` и `total_income` визуально очень тяжело анализировать, так как они записаны в вещественном виде. Попробуем преобразовать эти значения в int.\n",
    "\n",
    "В pandas существует 2 метода для преобразования значений в число:\n",
    "- to_numeric();  \n",
    "- astype().\n",
    "\n",
    "Особенность метода to_numeric() в том, что при переводе все числа будут иметь тип данных float, поэтому в этой ситуации данный метод нам не подходит. Для перевода в тип данных int необходимо использовать метод .astype('int')."
   ]
  },
  {
   "cell_type": "code",
   "execution_count": 174,
   "metadata": {},
   "outputs": [],
   "source": [
    "#смена типа данных с float на int в столбце days_employed\n",
    "df['days_employed'] = df['days_employed'].astype('int')"
   ]
  },
  {
   "cell_type": "code",
   "execution_count": 175,
   "metadata": {
    "scrolled": true
   },
   "outputs": [
    {
     "data": {
      "text/html": [
       "<div>\n",
       "<style scoped>\n",
       "    .dataframe tbody tr th:only-of-type {\n",
       "        vertical-align: middle;\n",
       "    }\n",
       "\n",
       "    .dataframe tbody tr th {\n",
       "        vertical-align: top;\n",
       "    }\n",
       "\n",
       "    .dataframe thead th {\n",
       "        text-align: right;\n",
       "    }\n",
       "</style>\n",
       "<table border=\"1\" class=\"dataframe\">\n",
       "  <thead>\n",
       "    <tr style=\"text-align: right;\">\n",
       "      <th></th>\n",
       "      <th>children</th>\n",
       "      <th>days_employed</th>\n",
       "      <th>dob_years</th>\n",
       "      <th>education</th>\n",
       "      <th>education_id</th>\n",
       "      <th>family_status</th>\n",
       "      <th>family_status_id</th>\n",
       "      <th>gender</th>\n",
       "      <th>income_type</th>\n",
       "      <th>debt</th>\n",
       "      <th>total_income</th>\n",
       "      <th>purpose</th>\n",
       "    </tr>\n",
       "  </thead>\n",
       "  <tbody>\n",
       "    <tr>\n",
       "      <td>0</td>\n",
       "      <td>1</td>\n",
       "      <td>8437</td>\n",
       "      <td>42</td>\n",
       "      <td>высшее</td>\n",
       "      <td>0</td>\n",
       "      <td>женат / замужем</td>\n",
       "      <td>0</td>\n",
       "      <td>F</td>\n",
       "      <td>сотрудник</td>\n",
       "      <td>0</td>\n",
       "      <td>253875.639453</td>\n",
       "      <td>покупка жилья</td>\n",
       "    </tr>\n",
       "    <tr>\n",
       "      <td>1</td>\n",
       "      <td>1</td>\n",
       "      <td>4024</td>\n",
       "      <td>36</td>\n",
       "      <td>среднее</td>\n",
       "      <td>1</td>\n",
       "      <td>женат / замужем</td>\n",
       "      <td>0</td>\n",
       "      <td>F</td>\n",
       "      <td>сотрудник</td>\n",
       "      <td>0</td>\n",
       "      <td>112080.014102</td>\n",
       "      <td>приобретение автомобиля</td>\n",
       "    </tr>\n",
       "    <tr>\n",
       "      <td>2</td>\n",
       "      <td>0</td>\n",
       "      <td>5623</td>\n",
       "      <td>33</td>\n",
       "      <td>Среднее</td>\n",
       "      <td>1</td>\n",
       "      <td>женат / замужем</td>\n",
       "      <td>0</td>\n",
       "      <td>M</td>\n",
       "      <td>сотрудник</td>\n",
       "      <td>0</td>\n",
       "      <td>145885.952297</td>\n",
       "      <td>покупка жилья</td>\n",
       "    </tr>\n",
       "    <tr>\n",
       "      <td>3</td>\n",
       "      <td>3</td>\n",
       "      <td>4124</td>\n",
       "      <td>32</td>\n",
       "      <td>среднее</td>\n",
       "      <td>1</td>\n",
       "      <td>женат / замужем</td>\n",
       "      <td>0</td>\n",
       "      <td>M</td>\n",
       "      <td>сотрудник</td>\n",
       "      <td>0</td>\n",
       "      <td>267628.550329</td>\n",
       "      <td>дополнительное образование</td>\n",
       "    </tr>\n",
       "    <tr>\n",
       "      <td>4</td>\n",
       "      <td>0</td>\n",
       "      <td>14177</td>\n",
       "      <td>53</td>\n",
       "      <td>среднее</td>\n",
       "      <td>1</td>\n",
       "      <td>гражданский брак</td>\n",
       "      <td>1</td>\n",
       "      <td>F</td>\n",
       "      <td>пенсионер</td>\n",
       "      <td>0</td>\n",
       "      <td>158616.077870</td>\n",
       "      <td>сыграть свадьбу</td>\n",
       "    </tr>\n",
       "  </tbody>\n",
       "</table>\n",
       "</div>"
      ],
      "text/plain": [
       "   children  days_employed  dob_years education  education_id  \\\n",
       "0         1           8437         42    высшее             0   \n",
       "1         1           4024         36   среднее             1   \n",
       "2         0           5623         33   Среднее             1   \n",
       "3         3           4124         32   среднее             1   \n",
       "4         0          14177         53   среднее             1   \n",
       "\n",
       "      family_status  family_status_id gender income_type  debt   total_income  \\\n",
       "0   женат / замужем                 0      F   сотрудник     0  253875.639453   \n",
       "1   женат / замужем                 0      F   сотрудник     0  112080.014102   \n",
       "2   женат / замужем                 0      M   сотрудник     0  145885.952297   \n",
       "3   женат / замужем                 0      M   сотрудник     0  267628.550329   \n",
       "4  гражданский брак                 1      F   пенсионер     0  158616.077870   \n",
       "\n",
       "                      purpose  \n",
       "0               покупка жилья  \n",
       "1     приобретение автомобиля  \n",
       "2               покупка жилья  \n",
       "3  дополнительное образование  \n",
       "4             сыграть свадьбу  "
      ]
     },
     "execution_count": 175,
     "metadata": {},
     "output_type": "execute_result"
    }
   ],
   "source": [
    "#вывод первых 10 строк датафрейма для просмотра измененных данных в столбце days_employed\n",
    "df.head()"
   ]
  },
  {
   "cell_type": "code",
   "execution_count": 176,
   "metadata": {
    "scrolled": false
   },
   "outputs": [
    {
     "name": "stdout",
     "output_type": "stream",
     "text": [
      "<class 'pandas.core.frame.DataFrame'>\n",
      "RangeIndex: 21525 entries, 0 to 21524\n",
      "Data columns (total 12 columns):\n",
      "children            21525 non-null int64\n",
      "days_employed       21525 non-null int64\n",
      "dob_years           21525 non-null int64\n",
      "education           21525 non-null object\n",
      "education_id        21525 non-null int64\n",
      "family_status       21525 non-null object\n",
      "family_status_id    21525 non-null int64\n",
      "gender              21525 non-null object\n",
      "income_type         21525 non-null object\n",
      "debt                21525 non-null int64\n",
      "total_income        21525 non-null float64\n",
      "purpose             21525 non-null object\n",
      "dtypes: float64(1), int64(6), object(5)\n",
      "memory usage: 2.0+ MB\n"
     ]
    }
   ],
   "source": [
    "df.info()"
   ]
  },
  {
   "cell_type": "code",
   "execution_count": 177,
   "metadata": {},
   "outputs": [],
   "source": [
    "df['total_income'] = df['total_income'].astype('int')"
   ]
  },
  {
   "cell_type": "code",
   "execution_count": 178,
   "metadata": {},
   "outputs": [
    {
     "data": {
      "text/html": [
       "<div>\n",
       "<style scoped>\n",
       "    .dataframe tbody tr th:only-of-type {\n",
       "        vertical-align: middle;\n",
       "    }\n",
       "\n",
       "    .dataframe tbody tr th {\n",
       "        vertical-align: top;\n",
       "    }\n",
       "\n",
       "    .dataframe thead th {\n",
       "        text-align: right;\n",
       "    }\n",
       "</style>\n",
       "<table border=\"1\" class=\"dataframe\">\n",
       "  <thead>\n",
       "    <tr style=\"text-align: right;\">\n",
       "      <th></th>\n",
       "      <th>children</th>\n",
       "      <th>days_employed</th>\n",
       "      <th>dob_years</th>\n",
       "      <th>education</th>\n",
       "      <th>education_id</th>\n",
       "      <th>family_status</th>\n",
       "      <th>family_status_id</th>\n",
       "      <th>gender</th>\n",
       "      <th>income_type</th>\n",
       "      <th>debt</th>\n",
       "      <th>total_income</th>\n",
       "      <th>purpose</th>\n",
       "    </tr>\n",
       "  </thead>\n",
       "  <tbody>\n",
       "    <tr>\n",
       "      <td>0</td>\n",
       "      <td>1</td>\n",
       "      <td>8437</td>\n",
       "      <td>42</td>\n",
       "      <td>высшее</td>\n",
       "      <td>0</td>\n",
       "      <td>женат / замужем</td>\n",
       "      <td>0</td>\n",
       "      <td>F</td>\n",
       "      <td>сотрудник</td>\n",
       "      <td>0</td>\n",
       "      <td>253875</td>\n",
       "      <td>покупка жилья</td>\n",
       "    </tr>\n",
       "    <tr>\n",
       "      <td>1</td>\n",
       "      <td>1</td>\n",
       "      <td>4024</td>\n",
       "      <td>36</td>\n",
       "      <td>среднее</td>\n",
       "      <td>1</td>\n",
       "      <td>женат / замужем</td>\n",
       "      <td>0</td>\n",
       "      <td>F</td>\n",
       "      <td>сотрудник</td>\n",
       "      <td>0</td>\n",
       "      <td>112080</td>\n",
       "      <td>приобретение автомобиля</td>\n",
       "    </tr>\n",
       "    <tr>\n",
       "      <td>2</td>\n",
       "      <td>0</td>\n",
       "      <td>5623</td>\n",
       "      <td>33</td>\n",
       "      <td>Среднее</td>\n",
       "      <td>1</td>\n",
       "      <td>женат / замужем</td>\n",
       "      <td>0</td>\n",
       "      <td>M</td>\n",
       "      <td>сотрудник</td>\n",
       "      <td>0</td>\n",
       "      <td>145885</td>\n",
       "      <td>покупка жилья</td>\n",
       "    </tr>\n",
       "    <tr>\n",
       "      <td>3</td>\n",
       "      <td>3</td>\n",
       "      <td>4124</td>\n",
       "      <td>32</td>\n",
       "      <td>среднее</td>\n",
       "      <td>1</td>\n",
       "      <td>женат / замужем</td>\n",
       "      <td>0</td>\n",
       "      <td>M</td>\n",
       "      <td>сотрудник</td>\n",
       "      <td>0</td>\n",
       "      <td>267628</td>\n",
       "      <td>дополнительное образование</td>\n",
       "    </tr>\n",
       "    <tr>\n",
       "      <td>4</td>\n",
       "      <td>0</td>\n",
       "      <td>14177</td>\n",
       "      <td>53</td>\n",
       "      <td>среднее</td>\n",
       "      <td>1</td>\n",
       "      <td>гражданский брак</td>\n",
       "      <td>1</td>\n",
       "      <td>F</td>\n",
       "      <td>пенсионер</td>\n",
       "      <td>0</td>\n",
       "      <td>158616</td>\n",
       "      <td>сыграть свадьбу</td>\n",
       "    </tr>\n",
       "  </tbody>\n",
       "</table>\n",
       "</div>"
      ],
      "text/plain": [
       "   children  days_employed  dob_years education  education_id  \\\n",
       "0         1           8437         42    высшее             0   \n",
       "1         1           4024         36   среднее             1   \n",
       "2         0           5623         33   Среднее             1   \n",
       "3         3           4124         32   среднее             1   \n",
       "4         0          14177         53   среднее             1   \n",
       "\n",
       "      family_status  family_status_id gender income_type  debt  total_income  \\\n",
       "0   женат / замужем                 0      F   сотрудник     0        253875   \n",
       "1   женат / замужем                 0      F   сотрудник     0        112080   \n",
       "2   женат / замужем                 0      M   сотрудник     0        145885   \n",
       "3   женат / замужем                 0      M   сотрудник     0        267628   \n",
       "4  гражданский брак                 1      F   пенсионер     0        158616   \n",
       "\n",
       "                      purpose  \n",
       "0               покупка жилья  \n",
       "1     приобретение автомобиля  \n",
       "2               покупка жилья  \n",
       "3  дополнительное образование  \n",
       "4             сыграть свадьбу  "
      ]
     },
     "execution_count": 178,
     "metadata": {},
     "output_type": "execute_result"
    }
   ],
   "source": [
    "#вывод первых 10 строк датафрейма для просмотра измененных данных в столбце total_income\n",
    "df.head()"
   ]
  },
  {
   "cell_type": "code",
   "execution_count": 179,
   "metadata": {
    "scrolled": true
   },
   "outputs": [
    {
     "name": "stdout",
     "output_type": "stream",
     "text": [
      "<class 'pandas.core.frame.DataFrame'>\n",
      "RangeIndex: 21525 entries, 0 to 21524\n",
      "Data columns (total 12 columns):\n",
      "children            21525 non-null int64\n",
      "days_employed       21525 non-null int64\n",
      "dob_years           21525 non-null int64\n",
      "education           21525 non-null object\n",
      "education_id        21525 non-null int64\n",
      "family_status       21525 non-null object\n",
      "family_status_id    21525 non-null int64\n",
      "gender              21525 non-null object\n",
      "income_type         21525 non-null object\n",
      "debt                21525 non-null int64\n",
      "total_income        21525 non-null int64\n",
      "purpose             21525 non-null object\n",
      "dtypes: int64(7), object(5)\n",
      "memory usage: 2.0+ MB\n"
     ]
    }
   ],
   "source": [
    "#вывод общей информации по датафрейму для просмотра измененных типов данных\n",
    "df.info()"
   ]
  },
  {
   "cell_type": "markdown",
   "metadata": {},
   "source": [
    "Тип данных успешно изменен."
   ]
  },
  {
   "cell_type": "markdown",
   "metadata": {},
   "source": [
    "**Вывод**\n",
    "\n",
    "В данном пункте мы заменили тип данных в столбцах `days_employed` и `total_income` с вещественного на целочисленный с помощью метода .astype('int'). Теперь данные легче визуально анализировать. "
   ]
  },
  {
   "cell_type": "markdown",
   "metadata": {},
   "source": [
    "### Обработка дубликатов"
   ]
  },
  {
   "cell_type": "markdown",
   "metadata": {},
   "source": [
    "При первичном анализе датафрейма было заметно, что в столбце `education` нет единого формата записи уровня образования. Выясним сколько различных интерпретаций уровней образования содержатся в датафрейме. Для это применим метод .value_counts() к столбцу `education`. Этот метод позволяет вывести частоту встречаемости каждого уникального значения столбца."
   ]
  },
  {
   "cell_type": "code",
   "execution_count": 180,
   "metadata": {
    "scrolled": false
   },
   "outputs": [
    {
     "data": {
      "text/plain": [
       "среднее                13750\n",
       "высшее                  4718\n",
       "СРЕДНЕЕ                  772\n",
       "Среднее                  711\n",
       "неоконченное высшее      668\n",
       "ВЫСШЕЕ                   274\n",
       "Высшее                   268\n",
       "начальное                250\n",
       "Неоконченное высшее       47\n",
       "НЕОКОНЧЕННОЕ ВЫСШЕЕ       29\n",
       "НАЧАЛЬНОЕ                 17\n",
       "Начальное                 15\n",
       "ученая степень             4\n",
       "УЧЕНАЯ СТЕПЕНЬ             1\n",
       "Ученая степень             1\n",
       "Name: education, dtype: int64"
      ]
     },
     "execution_count": 180,
     "metadata": {},
     "output_type": "execute_result"
    }
   ],
   "source": [
    "#вывод неявных дубликатов в столбце education\n",
    "df['education'].value_counts()"
   ]
  },
  {
   "cell_type": "markdown",
   "metadata": {},
   "source": [
    "Видно, что для одного и того же уровня образования существует множество вариантов написания, например, среднее, СРЕДНЕЕ, Среднее и т.д. Скорее всего такая проблема возникла из-за того, что в системе ввода данных нет установленного формата для уровня образования, поэтому каждый оператор вводит эту информацию так, как считает нужным. Конечно, такого быть не должно, поэтому необходимо перезаписать значения в столбце `education` в нижнем регистре, тем самым удалив неявные дубликаты."
   ]
  },
  {
   "cell_type": "code",
   "execution_count": 181,
   "metadata": {
    "scrolled": true
   },
   "outputs": [],
   "source": [
    "#перевод значений столбца education в нижний регистр\n",
    "df['education'] = df['education'].str.lower()"
   ]
  },
  {
   "cell_type": "code",
   "execution_count": 182,
   "metadata": {
    "scrolled": true
   },
   "outputs": [
    {
     "data": {
      "text/plain": [
       "среднее                15233\n",
       "высшее                  5260\n",
       "неоконченное высшее      744\n",
       "начальное                282\n",
       "ученая степень             6\n",
       "Name: education, dtype: int64"
      ]
     },
     "execution_count": 182,
     "metadata": {},
     "output_type": "execute_result"
    }
   ],
   "source": [
    "#проверка изменения регистра\n",
    "df['education'].value_counts()"
   ]
  },
  {
   "cell_type": "markdown",
   "metadata": {},
   "source": [
    "Сменив регистр, мы избавились от неявных дубликатов в столбце `education`."
   ]
  },
  {
   "cell_type": "markdown",
   "metadata": {},
   "source": [
    "**Вывод**\n",
    "\n",
    "В столбце `education` были обнаружены неявные дубликаты. Они вызваны тем, что в системе не существует единой формы записи уровня образования и операторы вводят информацию в ручную, в произвольном формате. Их удалось обнаружить благодаря методу .value_counts(). Для устранения таких дубликатов необходимо привести данные к единому формату, то есть преобразовать их к нижнему регистру с помощью метода .str.lower(). "
   ]
  },
  {
   "cell_type": "code",
   "execution_count": 183,
   "metadata": {},
   "outputs": [
    {
     "data": {
      "text/plain": [
       "72"
      ]
     },
     "execution_count": 183,
     "metadata": {},
     "output_type": "execute_result"
    }
   ],
   "source": [
    "#подсчет количества дубликатов\n",
    "df.duplicated().sum()"
   ]
  },
  {
   "cell_type": "code",
   "execution_count": 184,
   "metadata": {},
   "outputs": [],
   "source": [
    "#удаление дубликатов с созданием новых индексов\n",
    "df = df.drop_duplicates().reset_index(drop = True)"
   ]
  },
  {
   "cell_type": "code",
   "execution_count": 185,
   "metadata": {
    "scrolled": false
   },
   "outputs": [
    {
     "data": {
      "text/plain": [
       "0"
      ]
     },
     "execution_count": 185,
     "metadata": {},
     "output_type": "execute_result"
    }
   ],
   "source": [
    "#проверка количества дублей\n",
    "df.duplicated().sum()"
   ]
  },
  {
   "cell_type": "markdown",
   "metadata": {},
   "source": [
    "### Лемматизация"
   ]
  },
  {
   "cell_type": "markdown",
   "metadata": {},
   "source": [
    "Первичный анализ данных показал, что в столбце `purpose` содержится большое количество однообразных целей оформления кредита, интерпретированных по-разному. Например, провести свадьбу и сыграть свадьбу - являются одинаковыми целями кредита, сформулированными разными способами. Нерегламентированная запись одних и тех же целей кредита является очень затрудняющим фактором для проведения анализа.\n",
    "\n",
    "В данном случае необходимо провести процесс лемматизации каждой строки целей оформления кредита, то есть преобразовать каждое слово к его словарной форме. Цели кредита, записанные в словарной форме, значительно легче категорировать и анализировать, отвечая на вопрос о связи между различными целями кредита и его выплат в установленный срок.\n",
    "\n",
    "Для проведения процесса лемматизации, необходимо подключить библиотеку pymestem3  и с помощью метода apply применить функцию lemmatize к каждой строке столбца `purpose`."
   ]
  },
  {
   "cell_type": "code",
   "execution_count": 186,
   "metadata": {},
   "outputs": [],
   "source": [
    "#подключение библиотеки pymystem3\n",
    "from pymystem3 import Mystem\n",
    "m = Mystem()\n",
    "#создадим новый столбец purpose_lemmas и запишем в него леммы столбца purpose \n",
    "df['purpose_lemmas'] = df['purpose'].apply(m.lemmatize)"
   ]
  },
  {
   "cell_type": "code",
   "execution_count": 187,
   "metadata": {
    "scrolled": true
   },
   "outputs": [
    {
     "data": {
      "text/html": [
       "<div>\n",
       "<style scoped>\n",
       "    .dataframe tbody tr th:only-of-type {\n",
       "        vertical-align: middle;\n",
       "    }\n",
       "\n",
       "    .dataframe tbody tr th {\n",
       "        vertical-align: top;\n",
       "    }\n",
       "\n",
       "    .dataframe thead th {\n",
       "        text-align: right;\n",
       "    }\n",
       "</style>\n",
       "<table border=\"1\" class=\"dataframe\">\n",
       "  <thead>\n",
       "    <tr style=\"text-align: right;\">\n",
       "      <th></th>\n",
       "      <th>children</th>\n",
       "      <th>days_employed</th>\n",
       "      <th>dob_years</th>\n",
       "      <th>education</th>\n",
       "      <th>education_id</th>\n",
       "      <th>family_status</th>\n",
       "      <th>family_status_id</th>\n",
       "      <th>gender</th>\n",
       "      <th>income_type</th>\n",
       "      <th>debt</th>\n",
       "      <th>total_income</th>\n",
       "      <th>purpose</th>\n",
       "      <th>purpose_lemmas</th>\n",
       "    </tr>\n",
       "  </thead>\n",
       "  <tbody>\n",
       "    <tr>\n",
       "      <td>0</td>\n",
       "      <td>1</td>\n",
       "      <td>8437</td>\n",
       "      <td>42</td>\n",
       "      <td>высшее</td>\n",
       "      <td>0</td>\n",
       "      <td>женат / замужем</td>\n",
       "      <td>0</td>\n",
       "      <td>F</td>\n",
       "      <td>сотрудник</td>\n",
       "      <td>0</td>\n",
       "      <td>253875</td>\n",
       "      <td>покупка жилья</td>\n",
       "      <td>[покупка,  , жилье, \\n]</td>\n",
       "    </tr>\n",
       "    <tr>\n",
       "      <td>1</td>\n",
       "      <td>1</td>\n",
       "      <td>4024</td>\n",
       "      <td>36</td>\n",
       "      <td>среднее</td>\n",
       "      <td>1</td>\n",
       "      <td>женат / замужем</td>\n",
       "      <td>0</td>\n",
       "      <td>F</td>\n",
       "      <td>сотрудник</td>\n",
       "      <td>0</td>\n",
       "      <td>112080</td>\n",
       "      <td>приобретение автомобиля</td>\n",
       "      <td>[приобретение,  , автомобиль, \\n]</td>\n",
       "    </tr>\n",
       "    <tr>\n",
       "      <td>2</td>\n",
       "      <td>0</td>\n",
       "      <td>5623</td>\n",
       "      <td>33</td>\n",
       "      <td>среднее</td>\n",
       "      <td>1</td>\n",
       "      <td>женат / замужем</td>\n",
       "      <td>0</td>\n",
       "      <td>M</td>\n",
       "      <td>сотрудник</td>\n",
       "      <td>0</td>\n",
       "      <td>145885</td>\n",
       "      <td>покупка жилья</td>\n",
       "      <td>[покупка,  , жилье, \\n]</td>\n",
       "    </tr>\n",
       "    <tr>\n",
       "      <td>3</td>\n",
       "      <td>3</td>\n",
       "      <td>4124</td>\n",
       "      <td>32</td>\n",
       "      <td>среднее</td>\n",
       "      <td>1</td>\n",
       "      <td>женат / замужем</td>\n",
       "      <td>0</td>\n",
       "      <td>M</td>\n",
       "      <td>сотрудник</td>\n",
       "      <td>0</td>\n",
       "      <td>267628</td>\n",
       "      <td>дополнительное образование</td>\n",
       "      <td>[дополнительный,  , образование, \\n]</td>\n",
       "    </tr>\n",
       "    <tr>\n",
       "      <td>4</td>\n",
       "      <td>0</td>\n",
       "      <td>14177</td>\n",
       "      <td>53</td>\n",
       "      <td>среднее</td>\n",
       "      <td>1</td>\n",
       "      <td>гражданский брак</td>\n",
       "      <td>1</td>\n",
       "      <td>F</td>\n",
       "      <td>пенсионер</td>\n",
       "      <td>0</td>\n",
       "      <td>158616</td>\n",
       "      <td>сыграть свадьбу</td>\n",
       "      <td>[сыграть,  , свадьба, \\n]</td>\n",
       "    </tr>\n",
       "  </tbody>\n",
       "</table>\n",
       "</div>"
      ],
      "text/plain": [
       "   children  days_employed  dob_years education  education_id  \\\n",
       "0         1           8437         42    высшее             0   \n",
       "1         1           4024         36   среднее             1   \n",
       "2         0           5623         33   среднее             1   \n",
       "3         3           4124         32   среднее             1   \n",
       "4         0          14177         53   среднее             1   \n",
       "\n",
       "      family_status  family_status_id gender income_type  debt  total_income  \\\n",
       "0   женат / замужем                 0      F   сотрудник     0        253875   \n",
       "1   женат / замужем                 0      F   сотрудник     0        112080   \n",
       "2   женат / замужем                 0      M   сотрудник     0        145885   \n",
       "3   женат / замужем                 0      M   сотрудник     0        267628   \n",
       "4  гражданский брак                 1      F   пенсионер     0        158616   \n",
       "\n",
       "                      purpose                        purpose_lemmas  \n",
       "0               покупка жилья               [покупка,  , жилье, \\n]  \n",
       "1     приобретение автомобиля     [приобретение,  , автомобиль, \\n]  \n",
       "2               покупка жилья               [покупка,  , жилье, \\n]  \n",
       "3  дополнительное образование  [дополнительный,  , образование, \\n]  \n",
       "4             сыграть свадьбу             [сыграть,  , свадьба, \\n]  "
      ]
     },
     "execution_count": 187,
     "metadata": {},
     "output_type": "execute_result"
    }
   ],
   "source": [
    "#вывод первых 10 строк обновленного датафрейма\n",
    "df.head()"
   ]
  },
  {
   "cell_type": "markdown",
   "metadata": {},
   "source": [
    "В датайрейм был добавлен новый столбец `purpose_lemmas`, в котором содержится цель оформления кредита в лемматизированном формате."
   ]
  },
  {
   "cell_type": "markdown",
   "metadata": {},
   "source": [
    "Проверим, существует ли необходимость лемматизировать другие столбцы датафрейма."
   ]
  },
  {
   "cell_type": "code",
   "execution_count": 188,
   "metadata": {
    "scrolled": false
   },
   "outputs": [
    {
     "data": {
      "text/plain": [
       "женат / замужем          12339\n",
       "гражданский брак          4150\n",
       "Не женат / не замужем     2810\n",
       "в разводе                 1195\n",
       "вдовец / вдова             959\n",
       "Name: family_status, dtype: int64"
      ]
     },
     "execution_count": 188,
     "metadata": {},
     "output_type": "execute_result"
    }
   ],
   "source": [
    "#Проверка актуальности лемматизации столбца family_status\n",
    "df['family_status'].value_counts()"
   ]
  },
  {
   "cell_type": "code",
   "execution_count": 189,
   "metadata": {
    "scrolled": true
   },
   "outputs": [
    {
     "data": {
      "text/plain": [
       "сотрудник          11083\n",
       "компаньон           5078\n",
       "пенсионер           3829\n",
       "госслужащий         1457\n",
       "безработный            2\n",
       "предприниматель        2\n",
       "студент                1\n",
       "в декрете              1\n",
       "Name: income_type, dtype: int64"
      ]
     },
     "execution_count": 189,
     "metadata": {},
     "output_type": "execute_result"
    }
   ],
   "source": [
    "#Проверка актуальности проведения лемматизации столбца income_type\n",
    "df['income_type'].value_counts()"
   ]
  },
  {
   "cell_type": "markdown",
   "metadata": {},
   "source": [
    "Столбцы `family_status` и `income_type` нет необходимости лемматизировать, так как данные в них записанны в одинаковом формате."
   ]
  },
  {
   "cell_type": "code",
   "execution_count": 190,
   "metadata": {
    "scrolled": true
   },
   "outputs": [
    {
     "data": {
      "text/html": [
       "<div>\n",
       "<style scoped>\n",
       "    .dataframe tbody tr th:only-of-type {\n",
       "        vertical-align: middle;\n",
       "    }\n",
       "\n",
       "    .dataframe tbody tr th {\n",
       "        vertical-align: top;\n",
       "    }\n",
       "\n",
       "    .dataframe thead th {\n",
       "        text-align: right;\n",
       "    }\n",
       "</style>\n",
       "<table border=\"1\" class=\"dataframe\">\n",
       "  <thead>\n",
       "    <tr style=\"text-align: right;\">\n",
       "      <th></th>\n",
       "      <th>children</th>\n",
       "      <th>days_employed</th>\n",
       "      <th>dob_years</th>\n",
       "      <th>education</th>\n",
       "      <th>education_id</th>\n",
       "      <th>family_status</th>\n",
       "      <th>family_status_id</th>\n",
       "      <th>gender</th>\n",
       "      <th>income_type</th>\n",
       "      <th>debt</th>\n",
       "      <th>total_income</th>\n",
       "      <th>purpose</th>\n",
       "      <th>purpose_lemmas</th>\n",
       "    </tr>\n",
       "  </thead>\n",
       "  <tbody>\n",
       "    <tr>\n",
       "      <td>0</td>\n",
       "      <td>1</td>\n",
       "      <td>8437</td>\n",
       "      <td>42</td>\n",
       "      <td>высшее</td>\n",
       "      <td>0</td>\n",
       "      <td>женат / замужем</td>\n",
       "      <td>0</td>\n",
       "      <td>F</td>\n",
       "      <td>сотрудник</td>\n",
       "      <td>0</td>\n",
       "      <td>253875</td>\n",
       "      <td>покупка жилья</td>\n",
       "      <td>[покупка,  , жилье, \\n]</td>\n",
       "    </tr>\n",
       "    <tr>\n",
       "      <td>1</td>\n",
       "      <td>1</td>\n",
       "      <td>4024</td>\n",
       "      <td>36</td>\n",
       "      <td>среднее</td>\n",
       "      <td>1</td>\n",
       "      <td>женат / замужем</td>\n",
       "      <td>0</td>\n",
       "      <td>F</td>\n",
       "      <td>сотрудник</td>\n",
       "      <td>0</td>\n",
       "      <td>112080</td>\n",
       "      <td>приобретение автомобиля</td>\n",
       "      <td>[приобретение,  , автомобиль, \\n]</td>\n",
       "    </tr>\n",
       "    <tr>\n",
       "      <td>2</td>\n",
       "      <td>0</td>\n",
       "      <td>5623</td>\n",
       "      <td>33</td>\n",
       "      <td>среднее</td>\n",
       "      <td>1</td>\n",
       "      <td>женат / замужем</td>\n",
       "      <td>0</td>\n",
       "      <td>M</td>\n",
       "      <td>сотрудник</td>\n",
       "      <td>0</td>\n",
       "      <td>145885</td>\n",
       "      <td>покупка жилья</td>\n",
       "      <td>[покупка,  , жилье, \\n]</td>\n",
       "    </tr>\n",
       "    <tr>\n",
       "      <td>3</td>\n",
       "      <td>3</td>\n",
       "      <td>4124</td>\n",
       "      <td>32</td>\n",
       "      <td>среднее</td>\n",
       "      <td>1</td>\n",
       "      <td>женат / замужем</td>\n",
       "      <td>0</td>\n",
       "      <td>M</td>\n",
       "      <td>сотрудник</td>\n",
       "      <td>0</td>\n",
       "      <td>267628</td>\n",
       "      <td>дополнительное образование</td>\n",
       "      <td>[дополнительный,  , образование, \\n]</td>\n",
       "    </tr>\n",
       "    <tr>\n",
       "      <td>4</td>\n",
       "      <td>0</td>\n",
       "      <td>14177</td>\n",
       "      <td>53</td>\n",
       "      <td>среднее</td>\n",
       "      <td>1</td>\n",
       "      <td>гражданский брак</td>\n",
       "      <td>1</td>\n",
       "      <td>F</td>\n",
       "      <td>пенсионер</td>\n",
       "      <td>0</td>\n",
       "      <td>158616</td>\n",
       "      <td>сыграть свадьбу</td>\n",
       "      <td>[сыграть,  , свадьба, \\n]</td>\n",
       "    </tr>\n",
       "  </tbody>\n",
       "</table>\n",
       "</div>"
      ],
      "text/plain": [
       "   children  days_employed  dob_years education  education_id  \\\n",
       "0         1           8437         42    высшее             0   \n",
       "1         1           4024         36   среднее             1   \n",
       "2         0           5623         33   среднее             1   \n",
       "3         3           4124         32   среднее             1   \n",
       "4         0          14177         53   среднее             1   \n",
       "\n",
       "      family_status  family_status_id gender income_type  debt  total_income  \\\n",
       "0   женат / замужем                 0      F   сотрудник     0        253875   \n",
       "1   женат / замужем                 0      F   сотрудник     0        112080   \n",
       "2   женат / замужем                 0      M   сотрудник     0        145885   \n",
       "3   женат / замужем                 0      M   сотрудник     0        267628   \n",
       "4  гражданский брак                 1      F   пенсионер     0        158616   \n",
       "\n",
       "                      purpose                        purpose_lemmas  \n",
       "0               покупка жилья               [покупка,  , жилье, \\n]  \n",
       "1     приобретение автомобиля     [приобретение,  , автомобиль, \\n]  \n",
       "2               покупка жилья               [покупка,  , жилье, \\n]  \n",
       "3  дополнительное образование  [дополнительный,  , образование, \\n]  \n",
       "4             сыграть свадьбу             [сыграть,  , свадьба, \\n]  "
      ]
     },
     "execution_count": 190,
     "metadata": {},
     "output_type": "execute_result"
    }
   ],
   "source": [
    "#вывод первых 5 строк датафрейма с целю проверки создания столбца purpose_lemmas\n",
    "df.head()"
   ]
  },
  {
   "cell_type": "markdown",
   "metadata": {},
   "source": [
    "**Вывод**\n",
    "\n",
    "В данном пункте проведена лемматизация столбца `purpose`. Такая процедура необходима для дальнейшего категорирования данных и ответа на вопрос о связи между целью оформления кредита и его выплатой в срок. Лемматизация осуществляется с помощью библиотеки pymystem3 и функции lemmatize."
   ]
  },
  {
   "cell_type": "markdown",
   "metadata": {},
   "source": [
    "### Категоризация данных"
   ]
  },
  {
   "cell_type": "markdown",
   "metadata": {},
   "source": [
    "Для ответа на следующие вопросы:\n",
    "\n",
    "- Есть ли зависимость между уровнем дохода и возвратом кредита в срок?\n",
    "\n",
    "- Как разные цели кредита влияют на его возврат в срок?\n",
    "\n",
    "Необходимо произвести категорирование данных."
   ]
  },
  {
   "cell_type": "markdown",
   "metadata": {},
   "source": [
    "**Есть ли зависимость между уровнем дохода и возвратом кредита в срок?**"
   ]
  },
  {
   "cell_type": "markdown",
   "metadata": {},
   "source": [
    "Для ответа на данный вопрос необходимо категорировать данные по уровню дохода (ниже среднего, средний, выше среднего). В данном случае крайне важно корректно выбрать граничные значения для каждой группы, так как в дальнейшем этот фактор будет непосредственно влиять на результат анализа. Для определения границ каждой группы будем отталкиваться от значений минимального, максимального и среднего арифметического столбца `total_income`."
   ]
  },
  {
   "cell_type": "code",
   "execution_count": 191,
   "metadata": {
    "scrolled": true
   },
   "outputs": [
    {
     "data": {
      "text/plain": [
       "20667"
      ]
     },
     "execution_count": 191,
     "metadata": {},
     "output_type": "execute_result"
    }
   ],
   "source": [
    "#выявление минимального значения столбца total_income\n",
    "df['total_income'].min()"
   ]
  },
  {
   "cell_type": "code",
   "execution_count": 192,
   "metadata": {},
   "outputs": [
    {
     "data": {
      "text/plain": [
       "2265604"
      ]
     },
     "execution_count": 192,
     "metadata": {},
     "output_type": "execute_result"
    }
   ],
   "source": [
    "#выявление максимального значения столбца total_income\n",
    "df['total_income'].max()"
   ]
  },
  {
   "cell_type": "code",
   "execution_count": 193,
   "metadata": {},
   "outputs": [
    {
     "data": {
      "text/plain": [
       "167421.82114389597"
      ]
     },
     "execution_count": 193,
     "metadata": {},
     "output_type": "execute_result"
    }
   ],
   "source": [
    "#выявление среднего арифметического значения столбца total_income\n",
    "df['total_income'].mean()"
   ]
  },
  {
   "cell_type": "markdown",
   "metadata": {},
   "source": [
    "Выполним первичный анализ квартилий столбца `total_income` с помощью функции describe()."
   ]
  },
  {
   "cell_type": "code",
   "execution_count": 194,
   "metadata": {},
   "outputs": [
    {
     "data": {
      "text/plain": [
       "count    2.145300e+04\n",
       "mean     1.674218e+05\n",
       "std      9.779664e+04\n",
       "min      2.066700e+04\n",
       "25%      1.076200e+05\n",
       "50%      1.560410e+05\n",
       "75%      1.958180e+05\n",
       "max      2.265604e+06\n",
       "Name: total_income, dtype: float64"
      ]
     },
     "execution_count": 194,
     "metadata": {},
     "output_type": "execute_result"
    }
   ],
   "source": [
    "df['total_income'].describe()"
   ]
  },
  {
   "cell_type": "markdown",
   "metadata": {},
   "source": [
    "Данные в столбце `total_income` разделяются на следующие квартилии:\n",
    "- от 20 667 до 107 620 (от 0% до 25%);\n",
    "- от 107 620 до 156 041 (от 25% до 50%);\n",
    "- от 156 041 до 195 818 (от 50% до 75%);\n",
    "- от 195 818 до 2265 604 (от 75% до 100%)."
   ]
  },
  {
   "cell_type": "markdown",
   "metadata": {},
   "source": [
    "Запишем диапазоны зарплат в отдельную переменную и в дальнейшем будем обращаться к ней при работе функции."
   ]
  },
  {
   "cell_type": "code",
   "execution_count": 195,
   "metadata": {},
   "outputs": [],
   "source": [
    "#применение функции pd.qcut к столбцу total_income\n",
    "df_qcut = pd.qcut(df['total_income'], q=4)"
   ]
  },
  {
   "cell_type": "code",
   "execution_count": 196,
   "metadata": {
    "scrolled": true
   },
   "outputs": [
    {
     "data": {
      "text/plain": [
       "0        (195818.0, 2265604.0]\n",
       "1         (107620.0, 156041.0]\n",
       "2         (107620.0, 156041.0]\n",
       "3        (195818.0, 2265604.0]\n",
       "4         (156041.0, 195818.0]\n",
       "                 ...          \n",
       "21448    (195818.0, 2265604.0]\n",
       "21449     (107620.0, 156041.0]\n",
       "21450    (20666.999, 107620.0]\n",
       "21451    (195818.0, 2265604.0]\n",
       "21452    (20666.999, 107620.0]\n",
       "Name: total_income, Length: 21453, dtype: category\n",
       "Categories (4, interval[float64]): [(20666.999, 107620.0] < (107620.0, 156041.0] < (156041.0, 195818.0] < (195818.0, 2265604.0]]"
      ]
     },
     "execution_count": 196,
     "metadata": {},
     "output_type": "execute_result"
    }
   ],
   "source": [
    "#вывод созданной переменной\n",
    "df_qcut"
   ]
  },
  {
   "cell_type": "code",
   "execution_count": 197,
   "metadata": {},
   "outputs": [],
   "source": [
    "#удаление повторяющихся значений в переменной df_qcut\n",
    "df_qcut = pd.qcut(df['total_income'], q=4).unique()"
   ]
  },
  {
   "cell_type": "code",
   "execution_count": 198,
   "metadata": {
    "scrolled": true
   },
   "outputs": [
    {
     "data": {
      "text/plain": [
       "[(195818.0, 2265604.0], (107620.0, 156041.0], (156041.0, 195818.0], (20666.999, 107620.0]]\n",
       "Categories (4, interval[float64]): [(20666.999, 107620.0] < (107620.0, 156041.0] < (156041.0, 195818.0] < (195818.0, 2265604.0]]"
      ]
     },
     "execution_count": 198,
     "metadata": {},
     "output_type": "execute_result"
    }
   ],
   "source": [
    "#вывод конечных переменных для работы функции\n",
    "df_qcut"
   ]
  },
  {
   "cell_type": "markdown",
   "metadata": {},
   "source": [
    "Выполним категорирование, основываясь на квартилии:\n",
    "- низкий (от 0% до 25%);\n",
    "- средний (от 25% до 50%);\n",
    "- выше среднего (от 50% до 75%);\n",
    "- высокий (от 75% до 100%)"
   ]
  },
  {
   "cell_type": "code",
   "execution_count": 199,
   "metadata": {},
   "outputs": [],
   "source": [
    "#функция категорирования данных по уровню дохода\n",
    "def salary_category(salary):\n",
    "    for i in range(len(df_qcut)):\n",
    "        if (salary in df_qcut[i]) and (i == 0): #категория дохода от 195 818 до 2 265 604 \n",
    "            return 'высокий'\n",
    "        if (salary in df_qcut[i]) and (i == 1): #категория дохода от 107 620 до 156 041\n",
    "            return 'средний'\n",
    "        if (salary in df_qcut[i]) and (i == 2): #категория дохода от от 156 041 до 195 818\n",
    "            return 'выше среднего'\n",
    "        if (salary in df_qcut[i]) and (i == 3): #категория дохода от 20 667 до 107 620\n",
    "            return 'низкий'"
   ]
  },
  {
   "cell_type": "code",
   "execution_count": 200,
   "metadata": {},
   "outputs": [],
   "source": [
    "df['income_status'] = df['total_income'].apply(salary_category)"
   ]
  },
  {
   "cell_type": "code",
   "execution_count": 201,
   "metadata": {
    "scrolled": false
   },
   "outputs": [
    {
     "data": {
      "text/html": [
       "<div>\n",
       "<style scoped>\n",
       "    .dataframe tbody tr th:only-of-type {\n",
       "        vertical-align: middle;\n",
       "    }\n",
       "\n",
       "    .dataframe tbody tr th {\n",
       "        vertical-align: top;\n",
       "    }\n",
       "\n",
       "    .dataframe thead th {\n",
       "        text-align: right;\n",
       "    }\n",
       "</style>\n",
       "<table border=\"1\" class=\"dataframe\">\n",
       "  <thead>\n",
       "    <tr style=\"text-align: right;\">\n",
       "      <th></th>\n",
       "      <th>children</th>\n",
       "      <th>days_employed</th>\n",
       "      <th>dob_years</th>\n",
       "      <th>education</th>\n",
       "      <th>education_id</th>\n",
       "      <th>family_status</th>\n",
       "      <th>family_status_id</th>\n",
       "      <th>gender</th>\n",
       "      <th>income_type</th>\n",
       "      <th>debt</th>\n",
       "      <th>total_income</th>\n",
       "      <th>purpose</th>\n",
       "      <th>purpose_lemmas</th>\n",
       "      <th>income_status</th>\n",
       "    </tr>\n",
       "  </thead>\n",
       "  <tbody>\n",
       "    <tr>\n",
       "      <td>0</td>\n",
       "      <td>1</td>\n",
       "      <td>8437</td>\n",
       "      <td>42</td>\n",
       "      <td>высшее</td>\n",
       "      <td>0</td>\n",
       "      <td>женат / замужем</td>\n",
       "      <td>0</td>\n",
       "      <td>F</td>\n",
       "      <td>сотрудник</td>\n",
       "      <td>0</td>\n",
       "      <td>253875</td>\n",
       "      <td>покупка жилья</td>\n",
       "      <td>[покупка,  , жилье, \\n]</td>\n",
       "      <td>высокий</td>\n",
       "    </tr>\n",
       "    <tr>\n",
       "      <td>1</td>\n",
       "      <td>1</td>\n",
       "      <td>4024</td>\n",
       "      <td>36</td>\n",
       "      <td>среднее</td>\n",
       "      <td>1</td>\n",
       "      <td>женат / замужем</td>\n",
       "      <td>0</td>\n",
       "      <td>F</td>\n",
       "      <td>сотрудник</td>\n",
       "      <td>0</td>\n",
       "      <td>112080</td>\n",
       "      <td>приобретение автомобиля</td>\n",
       "      <td>[приобретение,  , автомобиль, \\n]</td>\n",
       "      <td>средний</td>\n",
       "    </tr>\n",
       "    <tr>\n",
       "      <td>2</td>\n",
       "      <td>0</td>\n",
       "      <td>5623</td>\n",
       "      <td>33</td>\n",
       "      <td>среднее</td>\n",
       "      <td>1</td>\n",
       "      <td>женат / замужем</td>\n",
       "      <td>0</td>\n",
       "      <td>M</td>\n",
       "      <td>сотрудник</td>\n",
       "      <td>0</td>\n",
       "      <td>145885</td>\n",
       "      <td>покупка жилья</td>\n",
       "      <td>[покупка,  , жилье, \\n]</td>\n",
       "      <td>средний</td>\n",
       "    </tr>\n",
       "    <tr>\n",
       "      <td>3</td>\n",
       "      <td>3</td>\n",
       "      <td>4124</td>\n",
       "      <td>32</td>\n",
       "      <td>среднее</td>\n",
       "      <td>1</td>\n",
       "      <td>женат / замужем</td>\n",
       "      <td>0</td>\n",
       "      <td>M</td>\n",
       "      <td>сотрудник</td>\n",
       "      <td>0</td>\n",
       "      <td>267628</td>\n",
       "      <td>дополнительное образование</td>\n",
       "      <td>[дополнительный,  , образование, \\n]</td>\n",
       "      <td>высокий</td>\n",
       "    </tr>\n",
       "    <tr>\n",
       "      <td>4</td>\n",
       "      <td>0</td>\n",
       "      <td>14177</td>\n",
       "      <td>53</td>\n",
       "      <td>среднее</td>\n",
       "      <td>1</td>\n",
       "      <td>гражданский брак</td>\n",
       "      <td>1</td>\n",
       "      <td>F</td>\n",
       "      <td>пенсионер</td>\n",
       "      <td>0</td>\n",
       "      <td>158616</td>\n",
       "      <td>сыграть свадьбу</td>\n",
       "      <td>[сыграть,  , свадьба, \\n]</td>\n",
       "      <td>выше среднего</td>\n",
       "    </tr>\n",
       "  </tbody>\n",
       "</table>\n",
       "</div>"
      ],
      "text/plain": [
       "   children  days_employed  dob_years education  education_id  \\\n",
       "0         1           8437         42    высшее             0   \n",
       "1         1           4024         36   среднее             1   \n",
       "2         0           5623         33   среднее             1   \n",
       "3         3           4124         32   среднее             1   \n",
       "4         0          14177         53   среднее             1   \n",
       "\n",
       "      family_status  family_status_id gender income_type  debt  total_income  \\\n",
       "0   женат / замужем                 0      F   сотрудник     0        253875   \n",
       "1   женат / замужем                 0      F   сотрудник     0        112080   \n",
       "2   женат / замужем                 0      M   сотрудник     0        145885   \n",
       "3   женат / замужем                 0      M   сотрудник     0        267628   \n",
       "4  гражданский брак                 1      F   пенсионер     0        158616   \n",
       "\n",
       "                      purpose                        purpose_lemmas  \\\n",
       "0               покупка жилья               [покупка,  , жилье, \\n]   \n",
       "1     приобретение автомобиля     [приобретение,  , автомобиль, \\n]   \n",
       "2               покупка жилья               [покупка,  , жилье, \\n]   \n",
       "3  дополнительное образование  [дополнительный,  , образование, \\n]   \n",
       "4             сыграть свадьбу             [сыграть,  , свадьба, \\n]   \n",
       "\n",
       "   income_status  \n",
       "0        высокий  \n",
       "1        средний  \n",
       "2        средний  \n",
       "3        высокий  \n",
       "4  выше среднего  "
      ]
     },
     "execution_count": 201,
     "metadata": {},
     "output_type": "execute_result"
    }
   ],
   "source": [
    "#вывод первых 10 строк датафрейма для проверки функции\n",
    "df.head()"
   ]
  },
  {
   "cell_type": "code",
   "execution_count": 202,
   "metadata": {},
   "outputs": [
    {
     "data": {
      "text/plain": [
       "низкий           5364\n",
       "высокий          5363\n",
       "выше среднего    5363\n",
       "средний          5363\n",
       "Name: income_status, dtype: int64"
      ]
     },
     "execution_count": 202,
     "metadata": {},
     "output_type": "execute_result"
    }
   ],
   "source": [
    "df['income_status'].value_counts()"
   ]
  },
  {
   "cell_type": "markdown",
   "metadata": {},
   "source": [
    "В датафрейме появился новый столбец `income_status` с соответствующей категорией столбца `total_income`."
   ]
  },
  {
   "cell_type": "markdown",
   "metadata": {},
   "source": [
    "**Как разные цели кредита влияют на его возврат в срок?**"
   ]
  },
  {
   "cell_type": "markdown",
   "metadata": {},
   "source": [
    "Для данного категорирования целей кредита необходимы леммы, которые мы выделяли в предыдущем пункте задания. Реализуем категорироание на основе наличия определённых лемм в каждой строчке столбца `purpose_lemmas` и разобьём данные на следующие группы:\n",
    "\n",
    "- Образование (если в ячейке есть лемма \"образование\")\n",
    "- Жилье (если в ячейке есть леммы \"жилье\" или \"недвижимость\")\n",
    "- Свадьба (если в ячейке есть лемма \"свадьба\")\n",
    "- Автомобиль (если в ячейке есть лемма \"автомобиль\")\n",
    "\n",
    "Для этого напишем соответсвующую функцию."
   ]
  },
  {
   "cell_type": "code",
   "execution_count": 203,
   "metadata": {},
   "outputs": [],
   "source": [
    "#функция категорирования цели оформления кредита\n",
    "def purpose_category(purpose_lemma):\n",
    "    if 'автомобиль' in purpose_lemma:\n",
    "        return 'автомобиль'\n",
    "    \n",
    "    if 'свадьба' in purpose_lemma:\n",
    "        return 'свадьба'\n",
    "    \n",
    "    if 'образование' in purpose_lemma:\n",
    "        return 'образование'\n",
    "    \n",
    "    if ('недвижимость' in purpose_lemma) or ('жилье' in purpose_lemma):\n",
    "        return 'недвижимость'"
   ]
  },
  {
   "cell_type": "code",
   "execution_count": 204,
   "metadata": {},
   "outputs": [],
   "source": [
    "#применение функции purpose_category к столбцу purpose_lemmas\n",
    "df['purpose_category'] = df['purpose_lemmas'].apply(purpose_category)"
   ]
  },
  {
   "cell_type": "code",
   "execution_count": 205,
   "metadata": {
    "scrolled": false
   },
   "outputs": [
    {
     "data": {
      "text/html": [
       "<div>\n",
       "<style scoped>\n",
       "    .dataframe tbody tr th:only-of-type {\n",
       "        vertical-align: middle;\n",
       "    }\n",
       "\n",
       "    .dataframe tbody tr th {\n",
       "        vertical-align: top;\n",
       "    }\n",
       "\n",
       "    .dataframe thead th {\n",
       "        text-align: right;\n",
       "    }\n",
       "</style>\n",
       "<table border=\"1\" class=\"dataframe\">\n",
       "  <thead>\n",
       "    <tr style=\"text-align: right;\">\n",
       "      <th></th>\n",
       "      <th>children</th>\n",
       "      <th>days_employed</th>\n",
       "      <th>dob_years</th>\n",
       "      <th>education</th>\n",
       "      <th>education_id</th>\n",
       "      <th>family_status</th>\n",
       "      <th>family_status_id</th>\n",
       "      <th>gender</th>\n",
       "      <th>income_type</th>\n",
       "      <th>debt</th>\n",
       "      <th>total_income</th>\n",
       "      <th>purpose</th>\n",
       "      <th>purpose_lemmas</th>\n",
       "      <th>income_status</th>\n",
       "      <th>purpose_category</th>\n",
       "    </tr>\n",
       "  </thead>\n",
       "  <tbody>\n",
       "    <tr>\n",
       "      <td>0</td>\n",
       "      <td>1</td>\n",
       "      <td>8437</td>\n",
       "      <td>42</td>\n",
       "      <td>высшее</td>\n",
       "      <td>0</td>\n",
       "      <td>женат / замужем</td>\n",
       "      <td>0</td>\n",
       "      <td>F</td>\n",
       "      <td>сотрудник</td>\n",
       "      <td>0</td>\n",
       "      <td>253875</td>\n",
       "      <td>покупка жилья</td>\n",
       "      <td>[покупка,  , жилье, \\n]</td>\n",
       "      <td>высокий</td>\n",
       "      <td>недвижимость</td>\n",
       "    </tr>\n",
       "    <tr>\n",
       "      <td>1</td>\n",
       "      <td>1</td>\n",
       "      <td>4024</td>\n",
       "      <td>36</td>\n",
       "      <td>среднее</td>\n",
       "      <td>1</td>\n",
       "      <td>женат / замужем</td>\n",
       "      <td>0</td>\n",
       "      <td>F</td>\n",
       "      <td>сотрудник</td>\n",
       "      <td>0</td>\n",
       "      <td>112080</td>\n",
       "      <td>приобретение автомобиля</td>\n",
       "      <td>[приобретение,  , автомобиль, \\n]</td>\n",
       "      <td>средний</td>\n",
       "      <td>автомобиль</td>\n",
       "    </tr>\n",
       "    <tr>\n",
       "      <td>2</td>\n",
       "      <td>0</td>\n",
       "      <td>5623</td>\n",
       "      <td>33</td>\n",
       "      <td>среднее</td>\n",
       "      <td>1</td>\n",
       "      <td>женат / замужем</td>\n",
       "      <td>0</td>\n",
       "      <td>M</td>\n",
       "      <td>сотрудник</td>\n",
       "      <td>0</td>\n",
       "      <td>145885</td>\n",
       "      <td>покупка жилья</td>\n",
       "      <td>[покупка,  , жилье, \\n]</td>\n",
       "      <td>средний</td>\n",
       "      <td>недвижимость</td>\n",
       "    </tr>\n",
       "    <tr>\n",
       "      <td>3</td>\n",
       "      <td>3</td>\n",
       "      <td>4124</td>\n",
       "      <td>32</td>\n",
       "      <td>среднее</td>\n",
       "      <td>1</td>\n",
       "      <td>женат / замужем</td>\n",
       "      <td>0</td>\n",
       "      <td>M</td>\n",
       "      <td>сотрудник</td>\n",
       "      <td>0</td>\n",
       "      <td>267628</td>\n",
       "      <td>дополнительное образование</td>\n",
       "      <td>[дополнительный,  , образование, \\n]</td>\n",
       "      <td>высокий</td>\n",
       "      <td>образование</td>\n",
       "    </tr>\n",
       "    <tr>\n",
       "      <td>4</td>\n",
       "      <td>0</td>\n",
       "      <td>14177</td>\n",
       "      <td>53</td>\n",
       "      <td>среднее</td>\n",
       "      <td>1</td>\n",
       "      <td>гражданский брак</td>\n",
       "      <td>1</td>\n",
       "      <td>F</td>\n",
       "      <td>пенсионер</td>\n",
       "      <td>0</td>\n",
       "      <td>158616</td>\n",
       "      <td>сыграть свадьбу</td>\n",
       "      <td>[сыграть,  , свадьба, \\n]</td>\n",
       "      <td>выше среднего</td>\n",
       "      <td>свадьба</td>\n",
       "    </tr>\n",
       "    <tr>\n",
       "      <td>5</td>\n",
       "      <td>0</td>\n",
       "      <td>926</td>\n",
       "      <td>27</td>\n",
       "      <td>высшее</td>\n",
       "      <td>0</td>\n",
       "      <td>гражданский брак</td>\n",
       "      <td>1</td>\n",
       "      <td>M</td>\n",
       "      <td>компаньон</td>\n",
       "      <td>0</td>\n",
       "      <td>255763</td>\n",
       "      <td>покупка жилья</td>\n",
       "      <td>[покупка,  , жилье, \\n]</td>\n",
       "      <td>высокий</td>\n",
       "      <td>недвижимость</td>\n",
       "    </tr>\n",
       "    <tr>\n",
       "      <td>6</td>\n",
       "      <td>0</td>\n",
       "      <td>2879</td>\n",
       "      <td>43</td>\n",
       "      <td>высшее</td>\n",
       "      <td>0</td>\n",
       "      <td>женат / замужем</td>\n",
       "      <td>0</td>\n",
       "      <td>F</td>\n",
       "      <td>компаньон</td>\n",
       "      <td>0</td>\n",
       "      <td>240525</td>\n",
       "      <td>операции с жильем</td>\n",
       "      <td>[операция,  , с,  , жилье, \\n]</td>\n",
       "      <td>высокий</td>\n",
       "      <td>недвижимость</td>\n",
       "    </tr>\n",
       "    <tr>\n",
       "      <td>7</td>\n",
       "      <td>0</td>\n",
       "      <td>152</td>\n",
       "      <td>50</td>\n",
       "      <td>среднее</td>\n",
       "      <td>1</td>\n",
       "      <td>женат / замужем</td>\n",
       "      <td>0</td>\n",
       "      <td>M</td>\n",
       "      <td>сотрудник</td>\n",
       "      <td>0</td>\n",
       "      <td>135823</td>\n",
       "      <td>образование</td>\n",
       "      <td>[образование, \\n]</td>\n",
       "      <td>средний</td>\n",
       "      <td>образование</td>\n",
       "    </tr>\n",
       "    <tr>\n",
       "      <td>8</td>\n",
       "      <td>2</td>\n",
       "      <td>6929</td>\n",
       "      <td>35</td>\n",
       "      <td>высшее</td>\n",
       "      <td>0</td>\n",
       "      <td>гражданский брак</td>\n",
       "      <td>1</td>\n",
       "      <td>F</td>\n",
       "      <td>сотрудник</td>\n",
       "      <td>0</td>\n",
       "      <td>95856</td>\n",
       "      <td>на проведение свадьбы</td>\n",
       "      <td>[на,  , проведение,  , свадьба, \\n]</td>\n",
       "      <td>низкий</td>\n",
       "      <td>свадьба</td>\n",
       "    </tr>\n",
       "    <tr>\n",
       "      <td>9</td>\n",
       "      <td>0</td>\n",
       "      <td>2188</td>\n",
       "      <td>41</td>\n",
       "      <td>среднее</td>\n",
       "      <td>1</td>\n",
       "      <td>женат / замужем</td>\n",
       "      <td>0</td>\n",
       "      <td>M</td>\n",
       "      <td>сотрудник</td>\n",
       "      <td>0</td>\n",
       "      <td>144425</td>\n",
       "      <td>покупка жилья для семьи</td>\n",
       "      <td>[покупка,  , жилье,  , для,  , семья, \\n]</td>\n",
       "      <td>средний</td>\n",
       "      <td>недвижимость</td>\n",
       "    </tr>\n",
       "  </tbody>\n",
       "</table>\n",
       "</div>"
      ],
      "text/plain": [
       "   children  days_employed  dob_years education  education_id  \\\n",
       "0         1           8437         42    высшее             0   \n",
       "1         1           4024         36   среднее             1   \n",
       "2         0           5623         33   среднее             1   \n",
       "3         3           4124         32   среднее             1   \n",
       "4         0          14177         53   среднее             1   \n",
       "5         0            926         27    высшее             0   \n",
       "6         0           2879         43    высшее             0   \n",
       "7         0            152         50   среднее             1   \n",
       "8         2           6929         35    высшее             0   \n",
       "9         0           2188         41   среднее             1   \n",
       "\n",
       "      family_status  family_status_id gender income_type  debt  total_income  \\\n",
       "0   женат / замужем                 0      F   сотрудник     0        253875   \n",
       "1   женат / замужем                 0      F   сотрудник     0        112080   \n",
       "2   женат / замужем                 0      M   сотрудник     0        145885   \n",
       "3   женат / замужем                 0      M   сотрудник     0        267628   \n",
       "4  гражданский брак                 1      F   пенсионер     0        158616   \n",
       "5  гражданский брак                 1      M   компаньон     0        255763   \n",
       "6   женат / замужем                 0      F   компаньон     0        240525   \n",
       "7   женат / замужем                 0      M   сотрудник     0        135823   \n",
       "8  гражданский брак                 1      F   сотрудник     0         95856   \n",
       "9   женат / замужем                 0      M   сотрудник     0        144425   \n",
       "\n",
       "                      purpose                             purpose_lemmas  \\\n",
       "0               покупка жилья                    [покупка,  , жилье, \\n]   \n",
       "1     приобретение автомобиля          [приобретение,  , автомобиль, \\n]   \n",
       "2               покупка жилья                    [покупка,  , жилье, \\n]   \n",
       "3  дополнительное образование       [дополнительный,  , образование, \\n]   \n",
       "4             сыграть свадьбу                  [сыграть,  , свадьба, \\n]   \n",
       "5               покупка жилья                    [покупка,  , жилье, \\n]   \n",
       "6           операции с жильем             [операция,  , с,  , жилье, \\n]   \n",
       "7                 образование                          [образование, \\n]   \n",
       "8       на проведение свадьбы        [на,  , проведение,  , свадьба, \\n]   \n",
       "9     покупка жилья для семьи  [покупка,  , жилье,  , для,  , семья, \\n]   \n",
       "\n",
       "   income_status purpose_category  \n",
       "0        высокий     недвижимость  \n",
       "1        средний       автомобиль  \n",
       "2        средний     недвижимость  \n",
       "3        высокий      образование  \n",
       "4  выше среднего          свадьба  \n",
       "5        высокий     недвижимость  \n",
       "6        высокий     недвижимость  \n",
       "7        средний      образование  \n",
       "8         низкий          свадьба  \n",
       "9        средний     недвижимость  "
      ]
     },
     "execution_count": 205,
     "metadata": {},
     "output_type": "execute_result"
    }
   ],
   "source": [
    "#вывод первых 10 строк измененного датафрейма\n",
    "df.head(10)"
   ]
  },
  {
   "cell_type": "markdown",
   "metadata": {},
   "source": [
    "**Вывод**\n",
    "\n",
    "В датафрейме появился новый столбец `purpose_category` с указанием цели оформления кредита. Теперь, основываясь на данном столбце, намного легче проводить анализ для проверки связи разных целей кредита и его своевременного возврата."
   ]
  },
  {
   "cell_type": "markdown",
   "metadata": {},
   "source": [
    "**Есть ли зависимость между наличием детей и возвратом кредита в срок?**"
   ]
  },
  {
   "cell_type": "markdown",
   "metadata": {},
   "source": [
    "Для ответа на данный вопрос выполним категорирование на две ветки:\n",
    "- Есть дети/нет детей.\n",
    "- Без детей/малодетная семья(кол-во детей < 3)/многодетная семья(кол-во детей >= 3)."
   ]
  },
  {
   "cell_type": "markdown",
   "metadata": {},
   "source": [
    "Но в первую очередь выясним, какие уникальные значения в столбце children существуют. Для этого применим функцию .value_counts()."
   ]
  },
  {
   "cell_type": "code",
   "execution_count": 206,
   "metadata": {},
   "outputs": [
    {
     "data": {
      "text/plain": [
       " 0     14090\n",
       " 1      4808\n",
       " 2      2052\n",
       " 3       330\n",
       " 20       76\n",
       "-1        47\n",
       " 4        41\n",
       " 5         9\n",
       "Name: children, dtype: int64"
      ]
     },
     "execution_count": 206,
     "metadata": {},
     "output_type": "execute_result"
    }
   ],
   "source": [
    "#вывод уникальных значений в столбце children\n",
    "df['children'].value_counts()"
   ]
  },
  {
   "cell_type": "markdown",
   "metadata": {},
   "source": [
    "В глаза сразу бросаются два значения: 20 и -1. Значения 20 детей больше похоже на ошибку системы при записи, чем на реальные данные. А значение -1 выглядит как-будто у пользователей не было желания указывать количество детей. Заменим значение 20 на 2, а -1 на 1."
   ]
  },
  {
   "cell_type": "code",
   "execution_count": 207,
   "metadata": {},
   "outputs": [],
   "source": [
    "#замена значения -1 на 1\n",
    "df.loc[(df['children'] == -1), 'children'] = 1"
   ]
  },
  {
   "cell_type": "code",
   "execution_count": 208,
   "metadata": {},
   "outputs": [],
   "source": [
    "#замена значения 20 на 2\n",
    "df.loc[(df['children'] == 20), 'children'] = 2"
   ]
  },
  {
   "cell_type": "code",
   "execution_count": 209,
   "metadata": {
    "scrolled": false
   },
   "outputs": [
    {
     "data": {
      "text/plain": [
       "0    14090\n",
       "1     4855\n",
       "2     2128\n",
       "3      330\n",
       "4       41\n",
       "5        9\n",
       "Name: children, dtype: int64"
      ]
     },
     "execution_count": 209,
     "metadata": {},
     "output_type": "execute_result"
    }
   ],
   "source": [
    "#итоговый список уникальных зачений в столбце children\n",
    "df['children'].value_counts()"
   ]
  },
  {
   "cell_type": "code",
   "execution_count": 210,
   "metadata": {},
   "outputs": [],
   "source": [
    "#функция категорирования пользователей на группы есть дети/нет детей\n",
    "def family_children_status(children):\n",
    "    if children > 0:\n",
    "        return 'есть дети'\n",
    "    return 'нет детей'"
   ]
  },
  {
   "cell_type": "code",
   "execution_count": 211,
   "metadata": {},
   "outputs": [],
   "source": [
    "#применение функции family_children_status к столбцу children\n",
    "df['family_children_status'] = df['children'].apply(family_children_status)"
   ]
  },
  {
   "cell_type": "code",
   "execution_count": 212,
   "metadata": {
    "scrolled": false
   },
   "outputs": [
    {
     "data": {
      "text/html": [
       "<div>\n",
       "<style scoped>\n",
       "    .dataframe tbody tr th:only-of-type {\n",
       "        vertical-align: middle;\n",
       "    }\n",
       "\n",
       "    .dataframe tbody tr th {\n",
       "        vertical-align: top;\n",
       "    }\n",
       "\n",
       "    .dataframe thead th {\n",
       "        text-align: right;\n",
       "    }\n",
       "</style>\n",
       "<table border=\"1\" class=\"dataframe\">\n",
       "  <thead>\n",
       "    <tr style=\"text-align: right;\">\n",
       "      <th></th>\n",
       "      <th>children</th>\n",
       "      <th>days_employed</th>\n",
       "      <th>dob_years</th>\n",
       "      <th>education</th>\n",
       "      <th>education_id</th>\n",
       "      <th>family_status</th>\n",
       "      <th>family_status_id</th>\n",
       "      <th>gender</th>\n",
       "      <th>income_type</th>\n",
       "      <th>debt</th>\n",
       "      <th>total_income</th>\n",
       "      <th>purpose</th>\n",
       "      <th>purpose_lemmas</th>\n",
       "      <th>income_status</th>\n",
       "      <th>purpose_category</th>\n",
       "      <th>family_children_status</th>\n",
       "    </tr>\n",
       "  </thead>\n",
       "  <tbody>\n",
       "    <tr>\n",
       "      <td>0</td>\n",
       "      <td>1</td>\n",
       "      <td>8437</td>\n",
       "      <td>42</td>\n",
       "      <td>высшее</td>\n",
       "      <td>0</td>\n",
       "      <td>женат / замужем</td>\n",
       "      <td>0</td>\n",
       "      <td>F</td>\n",
       "      <td>сотрудник</td>\n",
       "      <td>0</td>\n",
       "      <td>253875</td>\n",
       "      <td>покупка жилья</td>\n",
       "      <td>[покупка,  , жилье, \\n]</td>\n",
       "      <td>высокий</td>\n",
       "      <td>недвижимость</td>\n",
       "      <td>есть дети</td>\n",
       "    </tr>\n",
       "    <tr>\n",
       "      <td>1</td>\n",
       "      <td>1</td>\n",
       "      <td>4024</td>\n",
       "      <td>36</td>\n",
       "      <td>среднее</td>\n",
       "      <td>1</td>\n",
       "      <td>женат / замужем</td>\n",
       "      <td>0</td>\n",
       "      <td>F</td>\n",
       "      <td>сотрудник</td>\n",
       "      <td>0</td>\n",
       "      <td>112080</td>\n",
       "      <td>приобретение автомобиля</td>\n",
       "      <td>[приобретение,  , автомобиль, \\n]</td>\n",
       "      <td>средний</td>\n",
       "      <td>автомобиль</td>\n",
       "      <td>есть дети</td>\n",
       "    </tr>\n",
       "    <tr>\n",
       "      <td>2</td>\n",
       "      <td>0</td>\n",
       "      <td>5623</td>\n",
       "      <td>33</td>\n",
       "      <td>среднее</td>\n",
       "      <td>1</td>\n",
       "      <td>женат / замужем</td>\n",
       "      <td>0</td>\n",
       "      <td>M</td>\n",
       "      <td>сотрудник</td>\n",
       "      <td>0</td>\n",
       "      <td>145885</td>\n",
       "      <td>покупка жилья</td>\n",
       "      <td>[покупка,  , жилье, \\n]</td>\n",
       "      <td>средний</td>\n",
       "      <td>недвижимость</td>\n",
       "      <td>нет детей</td>\n",
       "    </tr>\n",
       "    <tr>\n",
       "      <td>3</td>\n",
       "      <td>3</td>\n",
       "      <td>4124</td>\n",
       "      <td>32</td>\n",
       "      <td>среднее</td>\n",
       "      <td>1</td>\n",
       "      <td>женат / замужем</td>\n",
       "      <td>0</td>\n",
       "      <td>M</td>\n",
       "      <td>сотрудник</td>\n",
       "      <td>0</td>\n",
       "      <td>267628</td>\n",
       "      <td>дополнительное образование</td>\n",
       "      <td>[дополнительный,  , образование, \\n]</td>\n",
       "      <td>высокий</td>\n",
       "      <td>образование</td>\n",
       "      <td>есть дети</td>\n",
       "    </tr>\n",
       "    <tr>\n",
       "      <td>4</td>\n",
       "      <td>0</td>\n",
       "      <td>14177</td>\n",
       "      <td>53</td>\n",
       "      <td>среднее</td>\n",
       "      <td>1</td>\n",
       "      <td>гражданский брак</td>\n",
       "      <td>1</td>\n",
       "      <td>F</td>\n",
       "      <td>пенсионер</td>\n",
       "      <td>0</td>\n",
       "      <td>158616</td>\n",
       "      <td>сыграть свадьбу</td>\n",
       "      <td>[сыграть,  , свадьба, \\n]</td>\n",
       "      <td>выше среднего</td>\n",
       "      <td>свадьба</td>\n",
       "      <td>нет детей</td>\n",
       "    </tr>\n",
       "  </tbody>\n",
       "</table>\n",
       "</div>"
      ],
      "text/plain": [
       "   children  days_employed  dob_years education  education_id  \\\n",
       "0         1           8437         42    высшее             0   \n",
       "1         1           4024         36   среднее             1   \n",
       "2         0           5623         33   среднее             1   \n",
       "3         3           4124         32   среднее             1   \n",
       "4         0          14177         53   среднее             1   \n",
       "\n",
       "      family_status  family_status_id gender income_type  debt  total_income  \\\n",
       "0   женат / замужем                 0      F   сотрудник     0        253875   \n",
       "1   женат / замужем                 0      F   сотрудник     0        112080   \n",
       "2   женат / замужем                 0      M   сотрудник     0        145885   \n",
       "3   женат / замужем                 0      M   сотрудник     0        267628   \n",
       "4  гражданский брак                 1      F   пенсионер     0        158616   \n",
       "\n",
       "                      purpose                        purpose_lemmas  \\\n",
       "0               покупка жилья               [покупка,  , жилье, \\n]   \n",
       "1     приобретение автомобиля     [приобретение,  , автомобиль, \\n]   \n",
       "2               покупка жилья               [покупка,  , жилье, \\n]   \n",
       "3  дополнительное образование  [дополнительный,  , образование, \\n]   \n",
       "4             сыграть свадьбу             [сыграть,  , свадьба, \\n]   \n",
       "\n",
       "   income_status purpose_category family_children_status  \n",
       "0        высокий     недвижимость              есть дети  \n",
       "1        средний       автомобиль              есть дети  \n",
       "2        средний     недвижимость              нет детей  \n",
       "3        высокий      образование              есть дети  \n",
       "4  выше среднего          свадьба              нет детей  "
      ]
     },
     "execution_count": 212,
     "metadata": {},
     "output_type": "execute_result"
    }
   ],
   "source": [
    "df.head()"
   ]
  },
  {
   "cell_type": "code",
   "execution_count": 213,
   "metadata": {},
   "outputs": [],
   "source": [
    "#функция категорирования пользователей на группы без детей/малодетная семья/многодетная семья\n",
    "def family_childrens_count_status(children):\n",
    "    if children == 0:\n",
    "        return 'без детей'\n",
    "    if (0 < children) and (children <= 2):\n",
    "        return 'малодетная семья'\n",
    "    return 'многодетная семья'"
   ]
  },
  {
   "cell_type": "code",
   "execution_count": 214,
   "metadata": {},
   "outputs": [],
   "source": [
    "#применение функции family_childrens_count_status\n",
    "df['family_childrens_count_status'] = df['children'].apply(family_childrens_count_status)"
   ]
  },
  {
   "cell_type": "code",
   "execution_count": 215,
   "metadata": {
    "scrolled": true
   },
   "outputs": [
    {
     "data": {
      "text/html": [
       "<div>\n",
       "<style scoped>\n",
       "    .dataframe tbody tr th:only-of-type {\n",
       "        vertical-align: middle;\n",
       "    }\n",
       "\n",
       "    .dataframe tbody tr th {\n",
       "        vertical-align: top;\n",
       "    }\n",
       "\n",
       "    .dataframe thead th {\n",
       "        text-align: right;\n",
       "    }\n",
       "</style>\n",
       "<table border=\"1\" class=\"dataframe\">\n",
       "  <thead>\n",
       "    <tr style=\"text-align: right;\">\n",
       "      <th></th>\n",
       "      <th>children</th>\n",
       "      <th>days_employed</th>\n",
       "      <th>dob_years</th>\n",
       "      <th>education</th>\n",
       "      <th>education_id</th>\n",
       "      <th>family_status</th>\n",
       "      <th>family_status_id</th>\n",
       "      <th>gender</th>\n",
       "      <th>income_type</th>\n",
       "      <th>debt</th>\n",
       "      <th>total_income</th>\n",
       "      <th>purpose</th>\n",
       "      <th>purpose_lemmas</th>\n",
       "      <th>income_status</th>\n",
       "      <th>purpose_category</th>\n",
       "      <th>family_children_status</th>\n",
       "      <th>family_childrens_count_status</th>\n",
       "    </tr>\n",
       "  </thead>\n",
       "  <tbody>\n",
       "    <tr>\n",
       "      <td>0</td>\n",
       "      <td>1</td>\n",
       "      <td>8437</td>\n",
       "      <td>42</td>\n",
       "      <td>высшее</td>\n",
       "      <td>0</td>\n",
       "      <td>женат / замужем</td>\n",
       "      <td>0</td>\n",
       "      <td>F</td>\n",
       "      <td>сотрудник</td>\n",
       "      <td>0</td>\n",
       "      <td>253875</td>\n",
       "      <td>покупка жилья</td>\n",
       "      <td>[покупка,  , жилье, \\n]</td>\n",
       "      <td>высокий</td>\n",
       "      <td>недвижимость</td>\n",
       "      <td>есть дети</td>\n",
       "      <td>малодетная семья</td>\n",
       "    </tr>\n",
       "    <tr>\n",
       "      <td>1</td>\n",
       "      <td>1</td>\n",
       "      <td>4024</td>\n",
       "      <td>36</td>\n",
       "      <td>среднее</td>\n",
       "      <td>1</td>\n",
       "      <td>женат / замужем</td>\n",
       "      <td>0</td>\n",
       "      <td>F</td>\n",
       "      <td>сотрудник</td>\n",
       "      <td>0</td>\n",
       "      <td>112080</td>\n",
       "      <td>приобретение автомобиля</td>\n",
       "      <td>[приобретение,  , автомобиль, \\n]</td>\n",
       "      <td>средний</td>\n",
       "      <td>автомобиль</td>\n",
       "      <td>есть дети</td>\n",
       "      <td>малодетная семья</td>\n",
       "    </tr>\n",
       "    <tr>\n",
       "      <td>2</td>\n",
       "      <td>0</td>\n",
       "      <td>5623</td>\n",
       "      <td>33</td>\n",
       "      <td>среднее</td>\n",
       "      <td>1</td>\n",
       "      <td>женат / замужем</td>\n",
       "      <td>0</td>\n",
       "      <td>M</td>\n",
       "      <td>сотрудник</td>\n",
       "      <td>0</td>\n",
       "      <td>145885</td>\n",
       "      <td>покупка жилья</td>\n",
       "      <td>[покупка,  , жилье, \\n]</td>\n",
       "      <td>средний</td>\n",
       "      <td>недвижимость</td>\n",
       "      <td>нет детей</td>\n",
       "      <td>без детей</td>\n",
       "    </tr>\n",
       "    <tr>\n",
       "      <td>3</td>\n",
       "      <td>3</td>\n",
       "      <td>4124</td>\n",
       "      <td>32</td>\n",
       "      <td>среднее</td>\n",
       "      <td>1</td>\n",
       "      <td>женат / замужем</td>\n",
       "      <td>0</td>\n",
       "      <td>M</td>\n",
       "      <td>сотрудник</td>\n",
       "      <td>0</td>\n",
       "      <td>267628</td>\n",
       "      <td>дополнительное образование</td>\n",
       "      <td>[дополнительный,  , образование, \\n]</td>\n",
       "      <td>высокий</td>\n",
       "      <td>образование</td>\n",
       "      <td>есть дети</td>\n",
       "      <td>многодетная семья</td>\n",
       "    </tr>\n",
       "    <tr>\n",
       "      <td>4</td>\n",
       "      <td>0</td>\n",
       "      <td>14177</td>\n",
       "      <td>53</td>\n",
       "      <td>среднее</td>\n",
       "      <td>1</td>\n",
       "      <td>гражданский брак</td>\n",
       "      <td>1</td>\n",
       "      <td>F</td>\n",
       "      <td>пенсионер</td>\n",
       "      <td>0</td>\n",
       "      <td>158616</td>\n",
       "      <td>сыграть свадьбу</td>\n",
       "      <td>[сыграть,  , свадьба, \\n]</td>\n",
       "      <td>выше среднего</td>\n",
       "      <td>свадьба</td>\n",
       "      <td>нет детей</td>\n",
       "      <td>без детей</td>\n",
       "    </tr>\n",
       "  </tbody>\n",
       "</table>\n",
       "</div>"
      ],
      "text/plain": [
       "   children  days_employed  dob_years education  education_id  \\\n",
       "0         1           8437         42    высшее             0   \n",
       "1         1           4024         36   среднее             1   \n",
       "2         0           5623         33   среднее             1   \n",
       "3         3           4124         32   среднее             1   \n",
       "4         0          14177         53   среднее             1   \n",
       "\n",
       "      family_status  family_status_id gender income_type  debt  total_income  \\\n",
       "0   женат / замужем                 0      F   сотрудник     0        253875   \n",
       "1   женат / замужем                 0      F   сотрудник     0        112080   \n",
       "2   женат / замужем                 0      M   сотрудник     0        145885   \n",
       "3   женат / замужем                 0      M   сотрудник     0        267628   \n",
       "4  гражданский брак                 1      F   пенсионер     0        158616   \n",
       "\n",
       "                      purpose                        purpose_lemmas  \\\n",
       "0               покупка жилья               [покупка,  , жилье, \\n]   \n",
       "1     приобретение автомобиля     [приобретение,  , автомобиль, \\n]   \n",
       "2               покупка жилья               [покупка,  , жилье, \\n]   \n",
       "3  дополнительное образование  [дополнительный,  , образование, \\n]   \n",
       "4             сыграть свадьбу             [сыграть,  , свадьба, \\n]   \n",
       "\n",
       "   income_status purpose_category family_children_status  \\\n",
       "0        высокий     недвижимость              есть дети   \n",
       "1        средний       автомобиль              есть дети   \n",
       "2        средний     недвижимость              нет детей   \n",
       "3        высокий      образование              есть дети   \n",
       "4  выше среднего          свадьба              нет детей   \n",
       "\n",
       "  family_childrens_count_status  \n",
       "0              малодетная семья  \n",
       "1              малодетная семья  \n",
       "2                     без детей  \n",
       "3             многодетная семья  \n",
       "4                     без детей  "
      ]
     },
     "execution_count": 215,
     "metadata": {},
     "output_type": "execute_result"
    }
   ],
   "source": [
    "df.head()"
   ]
  },
  {
   "cell_type": "markdown",
   "metadata": {},
   "source": [
    "В данном пункте задания было создано 2 новых столбца `family_children_status` (с категоризацией на группы \"есть дети\"/\"нет детей\") и `family_childrens_count_status` (с категоризацией на группы \"без детей\"/\"малодетная семья\"/\"многодетная семья\")."
   ]
  },
  {
   "cell_type": "markdown",
   "metadata": {},
   "source": [
    "## Шаг 3. Ответьте на вопросы"
   ]
  },
  {
   "cell_type": "markdown",
   "metadata": {},
   "source": [
    "- Есть ли зависимость между наличием детей и возвратом кредита в срок?"
   ]
  },
  {
   "cell_type": "markdown",
   "metadata": {},
   "source": [
    "Для ответа на этот вопрос сгруппируем пользователей по количеству детей и выведем среднее арифметическое задолженности по кредиту для каждой группы."
   ]
  },
  {
   "cell_type": "markdown",
   "metadata": {},
   "source": [
    "Для более комфортного анализа создадим сводную таблицу, в которой будут представлены значения общего количества пользователей, соответствующих той или иной группе (count), суммарное количество должников по каждой группе (sum) и их среднее арифметическое (mean)."
   ]
  },
  {
   "cell_type": "code",
   "execution_count": 217,
   "metadata": {},
   "outputs": [],
   "source": [
    "#создание сводной таблицы df_group_by_children_status\n",
    "#сгруппируем данные по столбцу children\n",
    "#применим к сгруппированным данным методы sum, count и mean\n",
    "df_group_by_children_status = df.groupby('family_children_status').agg({'debt': ['sum', 'count', 'mean']})"
   ]
  },
  {
   "cell_type": "markdown",
   "metadata": {},
   "source": [
    "Выведем новый датафрейм `df_group_by_children` проведем первичный анализ."
   ]
  },
  {
   "cell_type": "code",
   "execution_count": 218,
   "metadata": {
    "scrolled": true
   },
   "outputs": [
    {
     "data": {
      "text/html": [
       "<div>\n",
       "<style scoped>\n",
       "    .dataframe tbody tr th:only-of-type {\n",
       "        vertical-align: middle;\n",
       "    }\n",
       "\n",
       "    .dataframe tbody tr th {\n",
       "        vertical-align: top;\n",
       "    }\n",
       "\n",
       "    .dataframe thead tr th {\n",
       "        text-align: left;\n",
       "    }\n",
       "\n",
       "    .dataframe thead tr:last-of-type th {\n",
       "        text-align: right;\n",
       "    }\n",
       "</style>\n",
       "<table border=\"1\" class=\"dataframe\">\n",
       "  <thead>\n",
       "    <tr>\n",
       "      <th></th>\n",
       "      <th colspan=\"3\" halign=\"left\">debt</th>\n",
       "    </tr>\n",
       "    <tr>\n",
       "      <th></th>\n",
       "      <th>sum</th>\n",
       "      <th>count</th>\n",
       "      <th>mean</th>\n",
       "    </tr>\n",
       "    <tr>\n",
       "      <th>family_children_status</th>\n",
       "      <th></th>\n",
       "      <th></th>\n",
       "      <th></th>\n",
       "    </tr>\n",
       "  </thead>\n",
       "  <tbody>\n",
       "    <tr>\n",
       "      <td>есть дети</td>\n",
       "      <td>678</td>\n",
       "      <td>7363</td>\n",
       "      <td>0.092082</td>\n",
       "    </tr>\n",
       "    <tr>\n",
       "      <td>нет детей</td>\n",
       "      <td>1063</td>\n",
       "      <td>14090</td>\n",
       "      <td>0.075444</td>\n",
       "    </tr>\n",
       "  </tbody>\n",
       "</table>\n",
       "</div>"
      ],
      "text/plain": [
       "                        debt                 \n",
       "                         sum  count      mean\n",
       "family_children_status                       \n",
       "есть дети                678   7363  0.092082\n",
       "нет детей               1063  14090  0.075444"
      ]
     },
     "execution_count": 218,
     "metadata": {},
     "output_type": "execute_result"
    }
   ],
   "source": [
    "#вывод датафрейма df_group_by_children_status\n",
    "df_group_by_children_status"
   ]
  },
  {
   "cell_type": "markdown",
   "metadata": {},
   "source": [
    "Значения столбца `mean` представлены в виде вещественного числа. Для визуального анализа было бы комфортнее, если бы результаты среднего были представлены в процентах. Для этого создадим функцию, которая принимает на вход значение столбца `mean` и умножает его на 100. "
   ]
  },
  {
   "cell_type": "code",
   "execution_count": 219,
   "metadata": {},
   "outputs": [],
   "source": [
    "#функция перевода среднего в проценты\n",
    "def mean_in_percent(mean_value):\n",
    "    return mean_value * 100"
   ]
  },
  {
   "cell_type": "markdown",
   "metadata": {},
   "source": [
    "Далее создадим новый столбец `mean_percent` в датафрейме df_group_by_children и с помощью метода .apply() применим функцию mean_in_percent к столбцу `mean`."
   ]
  },
  {
   "cell_type": "code",
   "execution_count": 220,
   "metadata": {},
   "outputs": [],
   "source": [
    "#применение метода mean_percent\n",
    "df_group_by_children_status['mean_percent'] = df_group_by_children_status['debt']['mean'].apply(mean_in_percent)"
   ]
  },
  {
   "cell_type": "code",
   "execution_count": 221,
   "metadata": {
    "scrolled": true
   },
   "outputs": [
    {
     "data": {
      "text/html": [
       "<div>\n",
       "<style scoped>\n",
       "    .dataframe tbody tr th:only-of-type {\n",
       "        vertical-align: middle;\n",
       "    }\n",
       "\n",
       "    .dataframe tbody tr th {\n",
       "        vertical-align: top;\n",
       "    }\n",
       "\n",
       "    .dataframe thead tr th {\n",
       "        text-align: left;\n",
       "    }\n",
       "\n",
       "    .dataframe thead tr:last-of-type th {\n",
       "        text-align: right;\n",
       "    }\n",
       "</style>\n",
       "<table border=\"1\" class=\"dataframe\">\n",
       "  <thead>\n",
       "    <tr>\n",
       "      <th></th>\n",
       "      <th colspan=\"3\" halign=\"left\">debt</th>\n",
       "      <th>mean_percent</th>\n",
       "    </tr>\n",
       "    <tr>\n",
       "      <th></th>\n",
       "      <th>sum</th>\n",
       "      <th>count</th>\n",
       "      <th>mean</th>\n",
       "      <th></th>\n",
       "    </tr>\n",
       "    <tr>\n",
       "      <th>family_children_status</th>\n",
       "      <th></th>\n",
       "      <th></th>\n",
       "      <th></th>\n",
       "      <th></th>\n",
       "    </tr>\n",
       "  </thead>\n",
       "  <tbody>\n",
       "    <tr>\n",
       "      <td>есть дети</td>\n",
       "      <td>678</td>\n",
       "      <td>7363</td>\n",
       "      <td>0.092082</td>\n",
       "      <td>9.208203</td>\n",
       "    </tr>\n",
       "    <tr>\n",
       "      <td>нет детей</td>\n",
       "      <td>1063</td>\n",
       "      <td>14090</td>\n",
       "      <td>0.075444</td>\n",
       "      <td>7.544358</td>\n",
       "    </tr>\n",
       "  </tbody>\n",
       "</table>\n",
       "</div>"
      ],
      "text/plain": [
       "                        debt                  mean_percent\n",
       "                         sum  count      mean             \n",
       "family_children_status                                    \n",
       "есть дети                678   7363  0.092082     9.208203\n",
       "нет детей               1063  14090  0.075444     7.544358"
      ]
     },
     "execution_count": 221,
     "metadata": {},
     "output_type": "execute_result"
    }
   ],
   "source": [
    "df_group_by_children_status"
   ]
  },
  {
   "cell_type": "markdown",
   "metadata": {},
   "source": [
    "Показатели среднего арифметического датафрейма df_group_by_children_status подтверждают гипотезу о том, что наличие детей действительно влияет на выплату кредита в срок. У клиентов, у которых нет детей, при выборке в 2 раза большей, процент своевременной выплаты кредита значительно лучше относительно клиентов с детьми (**7.5%** и **9.2%** соответственно).\n",
    "\n",
    "Это является вполне ожидаемым, так как с появлением детей у людей появляются значительные траты и выплата кредита может уйти на второй план.\n",
    "\n",
    "Проанализируем относительно групп \"без детей\"/\"малодетная семья\"/\"многодетная семья\" и выявим, какая группа имеет наилучшие показатели выплаты кредита в срок."
   ]
  },
  {
   "cell_type": "code",
   "execution_count": 222,
   "metadata": {},
   "outputs": [],
   "source": [
    "#создание сводной таблицы family_childrens_count_status\n",
    "#сгруппируем данные по столбцу children\n",
    "#применим к сгруппированным данным методы sum, count и mean\n",
    "family_childrens_count_status = df.groupby('family_childrens_count_status').agg({'debt': ['sum', 'count', 'mean']})"
   ]
  },
  {
   "cell_type": "code",
   "execution_count": 223,
   "metadata": {},
   "outputs": [],
   "source": [
    "#применение метода mean_percent\n",
    "family_childrens_count_status['mean_percent'] = family_childrens_count_status['debt']['mean'].apply(mean_in_percent)"
   ]
  },
  {
   "cell_type": "code",
   "execution_count": 224,
   "metadata": {},
   "outputs": [
    {
     "data": {
      "text/html": [
       "<div>\n",
       "<style scoped>\n",
       "    .dataframe tbody tr th:only-of-type {\n",
       "        vertical-align: middle;\n",
       "    }\n",
       "\n",
       "    .dataframe tbody tr th {\n",
       "        vertical-align: top;\n",
       "    }\n",
       "\n",
       "    .dataframe thead tr th {\n",
       "        text-align: left;\n",
       "    }\n",
       "\n",
       "    .dataframe thead tr:last-of-type th {\n",
       "        text-align: right;\n",
       "    }\n",
       "</style>\n",
       "<table border=\"1\" class=\"dataframe\">\n",
       "  <thead>\n",
       "    <tr>\n",
       "      <th></th>\n",
       "      <th colspan=\"3\" halign=\"left\">debt</th>\n",
       "      <th>mean_percent</th>\n",
       "    </tr>\n",
       "    <tr>\n",
       "      <th></th>\n",
       "      <th>sum</th>\n",
       "      <th>count</th>\n",
       "      <th>mean</th>\n",
       "      <th></th>\n",
       "    </tr>\n",
       "    <tr>\n",
       "      <th>family_childrens_count_status</th>\n",
       "      <th></th>\n",
       "      <th></th>\n",
       "      <th></th>\n",
       "      <th></th>\n",
       "    </tr>\n",
       "  </thead>\n",
       "  <tbody>\n",
       "    <tr>\n",
       "      <td>без детей</td>\n",
       "      <td>1063</td>\n",
       "      <td>14090</td>\n",
       "      <td>0.075444</td>\n",
       "      <td>7.544358</td>\n",
       "    </tr>\n",
       "    <tr>\n",
       "      <td>малодетная семья</td>\n",
       "      <td>647</td>\n",
       "      <td>6983</td>\n",
       "      <td>0.092654</td>\n",
       "      <td>9.265359</td>\n",
       "    </tr>\n",
       "    <tr>\n",
       "      <td>многодетная семья</td>\n",
       "      <td>31</td>\n",
       "      <td>380</td>\n",
       "      <td>0.081579</td>\n",
       "      <td>8.157895</td>\n",
       "    </tr>\n",
       "  </tbody>\n",
       "</table>\n",
       "</div>"
      ],
      "text/plain": [
       "                               debt                  mean_percent\n",
       "                                sum  count      mean             \n",
       "family_childrens_count_status                                    \n",
       "без детей                      1063  14090  0.075444     7.544358\n",
       "малодетная семья                647   6983  0.092654     9.265359\n",
       "многодетная семья                31    380  0.081579     8.157895"
      ]
     },
     "execution_count": 224,
     "metadata": {},
     "output_type": "execute_result"
    }
   ],
   "source": [
    "family_childrens_count_status"
   ]
  },
  {
   "cell_type": "markdown",
   "metadata": {},
   "source": [
    "**Вывод**\n",
    "\n",
    "В сводной таблице df_group_by_children_status видно, что наличие детей, безусловно, влияет на своевременность выплаты кредита.\n",
    "\n",
    "Но таблица family_childrens_count_status представляет более интересные результаты. Согласно данной таблице, малодетная семья (кол-во детей <3) имеет худший показатель кредита относительно других групп, хотя факторов, способных повлиять на задолженность по кредиту, у них меньше, чем у многодетных детей.\n",
    "\n",
    "Это может быть связанно с тем, что выборка \"малодетная семья\" более многочисленная, чем \"многодетная семья\".\n",
    "\n",
    "Это также может быть связано с тем, что, возможно, группа \"многодетная семья\" более трезво оценивает свои возможности и тщательнее анализирует все риски не выплаты кредита в срок."
   ]
  },
  {
   "cell_type": "markdown",
   "metadata": {},
   "source": [
    "- Есть ли зависимость между семейным положением и возвратом кредита в срок?"
   ]
  },
  {
   "cell_type": "markdown",
   "metadata": {},
   "source": [
    "Для ответа на вопрос проделаем такие же действия, как и в предыдущем вопросе, то есть сгруппируем данные по столбцу `family_status`, применим функции sum, count и mean и выведем результат."
   ]
  },
  {
   "cell_type": "code",
   "execution_count": 51,
   "metadata": {},
   "outputs": [],
   "source": [
    "#создание сводной таблицы df_group_by_children\n",
    "#сгруппируем данные по столбцу family_status\n",
    "#применим к сгруппированным данным методы sum, count и mean\n",
    "df_group_by_family_status = df.groupby('family_status').agg({'debt': ['sum', 'count', 'mean']})"
   ]
  },
  {
   "cell_type": "code",
   "execution_count": 52,
   "metadata": {},
   "outputs": [
    {
     "data": {
      "text/html": [
       "<div>\n",
       "<style scoped>\n",
       "    .dataframe tbody tr th:only-of-type {\n",
       "        vertical-align: middle;\n",
       "    }\n",
       "\n",
       "    .dataframe tbody tr th {\n",
       "        vertical-align: top;\n",
       "    }\n",
       "\n",
       "    .dataframe thead tr th {\n",
       "        text-align: left;\n",
       "    }\n",
       "\n",
       "    .dataframe thead tr:last-of-type th {\n",
       "        text-align: right;\n",
       "    }\n",
       "</style>\n",
       "<table border=\"1\" class=\"dataframe\">\n",
       "  <thead>\n",
       "    <tr>\n",
       "      <th></th>\n",
       "      <th colspan=\"3\" halign=\"left\">debt</th>\n",
       "    </tr>\n",
       "    <tr>\n",
       "      <th></th>\n",
       "      <th>sum</th>\n",
       "      <th>count</th>\n",
       "      <th>mean</th>\n",
       "    </tr>\n",
       "    <tr>\n",
       "      <th>family_status</th>\n",
       "      <th></th>\n",
       "      <th></th>\n",
       "      <th></th>\n",
       "    </tr>\n",
       "  </thead>\n",
       "  <tbody>\n",
       "    <tr>\n",
       "      <td>Не женат / не замужем</td>\n",
       "      <td>274</td>\n",
       "      <td>2813</td>\n",
       "      <td>0.097405</td>\n",
       "    </tr>\n",
       "    <tr>\n",
       "      <td>в разводе</td>\n",
       "      <td>85</td>\n",
       "      <td>1195</td>\n",
       "      <td>0.071130</td>\n",
       "    </tr>\n",
       "    <tr>\n",
       "      <td>вдовец / вдова</td>\n",
       "      <td>63</td>\n",
       "      <td>960</td>\n",
       "      <td>0.065625</td>\n",
       "    </tr>\n",
       "    <tr>\n",
       "      <td>гражданский брак</td>\n",
       "      <td>388</td>\n",
       "      <td>4177</td>\n",
       "      <td>0.092890</td>\n",
       "    </tr>\n",
       "    <tr>\n",
       "      <td>женат / замужем</td>\n",
       "      <td>931</td>\n",
       "      <td>12380</td>\n",
       "      <td>0.075202</td>\n",
       "    </tr>\n",
       "  </tbody>\n",
       "</table>\n",
       "</div>"
      ],
      "text/plain": [
       "                      debt                 \n",
       "                       sum  count      mean\n",
       "family_status                              \n",
       "Не женат / не замужем  274   2813  0.097405\n",
       "в разводе               85   1195  0.071130\n",
       "вдовец / вдова          63    960  0.065625\n",
       "гражданский брак       388   4177  0.092890\n",
       "женат / замужем        931  12380  0.075202"
      ]
     },
     "execution_count": 52,
     "metadata": {},
     "output_type": "execute_result"
    }
   ],
   "source": [
    "df_group_by_family_status"
   ]
  },
  {
   "cell_type": "code",
   "execution_count": 53,
   "metadata": {},
   "outputs": [],
   "source": [
    "#применение функции перевода среднего арифметического в проценты\n",
    "df_group_by_family_status['mean_percent'] = df_group_by_family_status['debt']['mean'].apply(mean_in_percent)"
   ]
  },
  {
   "cell_type": "code",
   "execution_count": 54,
   "metadata": {
    "scrolled": false
   },
   "outputs": [
    {
     "data": {
      "text/html": [
       "<div>\n",
       "<style scoped>\n",
       "    .dataframe tbody tr th:only-of-type {\n",
       "        vertical-align: middle;\n",
       "    }\n",
       "\n",
       "    .dataframe tbody tr th {\n",
       "        vertical-align: top;\n",
       "    }\n",
       "\n",
       "    .dataframe thead tr th {\n",
       "        text-align: left;\n",
       "    }\n",
       "\n",
       "    .dataframe thead tr:last-of-type th {\n",
       "        text-align: right;\n",
       "    }\n",
       "</style>\n",
       "<table border=\"1\" class=\"dataframe\">\n",
       "  <thead>\n",
       "    <tr>\n",
       "      <th></th>\n",
       "      <th colspan=\"3\" halign=\"left\">debt</th>\n",
       "      <th>mean_percent</th>\n",
       "    </tr>\n",
       "    <tr>\n",
       "      <th></th>\n",
       "      <th>sum</th>\n",
       "      <th>count</th>\n",
       "      <th>mean</th>\n",
       "      <th></th>\n",
       "    </tr>\n",
       "    <tr>\n",
       "      <th>family_status</th>\n",
       "      <th></th>\n",
       "      <th></th>\n",
       "      <th></th>\n",
       "      <th></th>\n",
       "    </tr>\n",
       "  </thead>\n",
       "  <tbody>\n",
       "    <tr>\n",
       "      <td>Не женат / не замужем</td>\n",
       "      <td>274</td>\n",
       "      <td>2813</td>\n",
       "      <td>0.097405</td>\n",
       "      <td>9.740491</td>\n",
       "    </tr>\n",
       "    <tr>\n",
       "      <td>в разводе</td>\n",
       "      <td>85</td>\n",
       "      <td>1195</td>\n",
       "      <td>0.071130</td>\n",
       "      <td>7.112971</td>\n",
       "    </tr>\n",
       "    <tr>\n",
       "      <td>вдовец / вдова</td>\n",
       "      <td>63</td>\n",
       "      <td>960</td>\n",
       "      <td>0.065625</td>\n",
       "      <td>6.562500</td>\n",
       "    </tr>\n",
       "    <tr>\n",
       "      <td>гражданский брак</td>\n",
       "      <td>388</td>\n",
       "      <td>4177</td>\n",
       "      <td>0.092890</td>\n",
       "      <td>9.288963</td>\n",
       "    </tr>\n",
       "    <tr>\n",
       "      <td>женат / замужем</td>\n",
       "      <td>931</td>\n",
       "      <td>12380</td>\n",
       "      <td>0.075202</td>\n",
       "      <td>7.520194</td>\n",
       "    </tr>\n",
       "  </tbody>\n",
       "</table>\n",
       "</div>"
      ],
      "text/plain": [
       "                      debt                  mean_percent\n",
       "                       sum  count      mean             \n",
       "family_status                                           \n",
       "Не женат / не замужем  274   2813  0.097405     9.740491\n",
       "в разводе               85   1195  0.071130     7.112971\n",
       "вдовец / вдова          63    960  0.065625     6.562500\n",
       "гражданский брак       388   4177  0.092890     9.288963\n",
       "женат / замужем        931  12380  0.075202     7.520194"
      ]
     },
     "execution_count": 54,
     "metadata": {},
     "output_type": "execute_result"
    }
   ],
   "source": [
    "df_group_by_family_status"
   ]
  },
  {
   "cell_type": "markdown",
   "metadata": {},
   "source": [
    "**Вывод**\n",
    "\n",
    "У групп \"женат / замужем\" и \"в разводе\" примерно одинаковые показатели (**7.5%** и **7.1%**). При том, что группа \"женат / замужем\" является самой многочисленной (12 380 пользователей, больше половины всей выборки).\n",
    "\n",
    "Максимальные показатели задолженности по кредиту у групп \"Не женат / не замужем\" и \"гражданский брак\" (**9.7%** и **9.2%** соответственно). \n",
    "\n",
    "Самый минимальный показатель задолженности по кредиту у группы \"вдовец / вдова\" (**6.6%**).\n",
    "\n",
    "В данном вопросе можно с уверенностью утверждать, что группа \"женат / замужем\" имеет наилучший показатель платежеспособности по кредиту. Также можно утверждать, что у группы пользователей \"гражданский брак\" плохой процент своевременной выплаты при достаточно большой выборке данных (4177 человек).\n",
    "\n",
    "Насчет других групп тяжело сказать, что связь между семейным положением и выплатой кредита действительно существует, так как группы \"женат / замужем\" и \"гражданский брак\" забирают на себя почти 77% всей выборки."
   ]
  },
  {
   "cell_type": "markdown",
   "metadata": {},
   "source": [
    "- Есть ли зависимость между уровнем дохода и возвратом кредита в срок?"
   ]
  },
  {
   "cell_type": "markdown",
   "metadata": {},
   "source": [
    "Выполним все те же действия, сгруппировав пользователей в сводную таблицу и применив ко всем группа функции sum, count и mean."
   ]
  },
  {
   "cell_type": "code",
   "execution_count": 225,
   "metadata": {},
   "outputs": [],
   "source": [
    "#создание сводной таблицы df_group_by_children\n",
    "#отфильтруем значения с помощью логической индексации (уберем значение группы \"Не определен\" из общей выборки)\n",
    "#сгруппируем данные по столбцу income_status\n",
    "#применим к сгруппированным данным методы sum, count и mean\n",
    "df_group_by_income_status = df.groupby('income_status').agg({'debt': ['sum', 'count', 'mean']})"
   ]
  },
  {
   "cell_type": "code",
   "execution_count": 226,
   "metadata": {},
   "outputs": [],
   "source": [
    "#применим функцию перевода среднего в проценты\n",
    "df_group_by_income_status['mean_percent'] = df_group_by_income_status['debt']['mean'].apply(mean_in_percent)"
   ]
  },
  {
   "cell_type": "code",
   "execution_count": 227,
   "metadata": {
    "scrolled": true
   },
   "outputs": [
    {
     "data": {
      "text/html": [
       "<div>\n",
       "<style scoped>\n",
       "    .dataframe tbody tr th:only-of-type {\n",
       "        vertical-align: middle;\n",
       "    }\n",
       "\n",
       "    .dataframe tbody tr th {\n",
       "        vertical-align: top;\n",
       "    }\n",
       "\n",
       "    .dataframe thead tr th {\n",
       "        text-align: left;\n",
       "    }\n",
       "\n",
       "    .dataframe thead tr:last-of-type th {\n",
       "        text-align: right;\n",
       "    }\n",
       "</style>\n",
       "<table border=\"1\" class=\"dataframe\">\n",
       "  <thead>\n",
       "    <tr>\n",
       "      <th></th>\n",
       "      <th colspan=\"3\" halign=\"left\">debt</th>\n",
       "      <th>mean_percent</th>\n",
       "    </tr>\n",
       "    <tr>\n",
       "      <th></th>\n",
       "      <th>sum</th>\n",
       "      <th>count</th>\n",
       "      <th>mean</th>\n",
       "      <th></th>\n",
       "    </tr>\n",
       "    <tr>\n",
       "      <th>income_status</th>\n",
       "      <th></th>\n",
       "      <th></th>\n",
       "      <th></th>\n",
       "      <th></th>\n",
       "    </tr>\n",
       "  </thead>\n",
       "  <tbody>\n",
       "    <tr>\n",
       "      <td>высокий</td>\n",
       "      <td>383</td>\n",
       "      <td>5363</td>\n",
       "      <td>0.071415</td>\n",
       "      <td>7.141525</td>\n",
       "    </tr>\n",
       "    <tr>\n",
       "      <td>выше среднего</td>\n",
       "      <td>463</td>\n",
       "      <td>5363</td>\n",
       "      <td>0.086332</td>\n",
       "      <td>8.633228</td>\n",
       "    </tr>\n",
       "    <tr>\n",
       "      <td>низкий</td>\n",
       "      <td>427</td>\n",
       "      <td>5364</td>\n",
       "      <td>0.079605</td>\n",
       "      <td>7.960477</td>\n",
       "    </tr>\n",
       "    <tr>\n",
       "      <td>средний</td>\n",
       "      <td>468</td>\n",
       "      <td>5363</td>\n",
       "      <td>0.087265</td>\n",
       "      <td>8.726459</td>\n",
       "    </tr>\n",
       "  </tbody>\n",
       "</table>\n",
       "</div>"
      ],
      "text/plain": [
       "              debt                 mean_percent\n",
       "               sum count      mean             \n",
       "income_status                                  \n",
       "высокий        383  5363  0.071415     7.141525\n",
       "выше среднего  463  5363  0.086332     8.633228\n",
       "низкий         427  5364  0.079605     7.960477\n",
       "средний        468  5363  0.087265     8.726459"
      ]
     },
     "execution_count": 227,
     "metadata": {},
     "output_type": "execute_result"
    }
   ],
   "source": [
    "df_group_by_income_status"
   ]
  },
  {
   "cell_type": "markdown",
   "metadata": {},
   "source": [
    "**Вывод**\n",
    "\n",
    "Результаты таблицы df_group_by_income_status получились противоречивыми. Так как при абсолютно одинаковой по количеству выборке, клиенты с низким уровнем дохода имеют чуть ли не лучший процент выплаты кредита. Выше только у клиентов с высоким уровнем дохода.\n",
    "\n",
    "Возможно, клиенты со средним доходом и выше среднего сильно переоценивают свой финансовый достаток и берут кредит на более крупные суммы, чем клиенты низким доходом, и в процессе выплаты просто не могут потянуть обязательный платеж."
   ]
  },
  {
   "cell_type": "markdown",
   "metadata": {},
   "source": [
    "- Как разные цели кредита влияют на его возврат в срок?"
   ]
  },
  {
   "cell_type": "markdown",
   "metadata": {},
   "source": [
    "Вот мы и дошли до пункта, для которого необходимо было сделать лемматизацию целей оформления кредита и категорирование причин на разные группы.\n",
    "\n",
    "Создадим сводную таблицу с группировкой по столбцу `purpose_category`."
   ]
  },
  {
   "cell_type": "code",
   "execution_count": 59,
   "metadata": {},
   "outputs": [],
   "source": [
    "#созданеи сводной таблицы df_group_by_credit_purpose\n",
    "df_group_by_credit_purpose = df.groupby('purpose_category').agg({'debt': ['sum', 'count', 'mean']})"
   ]
  },
  {
   "cell_type": "code",
   "execution_count": 60,
   "metadata": {},
   "outputs": [],
   "source": [
    "#перевод значений среднего арифметического в проценты\n",
    "df_group_by_credit_purpose['mean_percent'] = df_group_by_credit_purpose['debt']['mean'].apply(mean_in_percent)"
   ]
  },
  {
   "cell_type": "code",
   "execution_count": 61,
   "metadata": {},
   "outputs": [
    {
     "data": {
      "text/html": [
       "<div>\n",
       "<style scoped>\n",
       "    .dataframe tbody tr th:only-of-type {\n",
       "        vertical-align: middle;\n",
       "    }\n",
       "\n",
       "    .dataframe tbody tr th {\n",
       "        vertical-align: top;\n",
       "    }\n",
       "\n",
       "    .dataframe thead tr th {\n",
       "        text-align: left;\n",
       "    }\n",
       "\n",
       "    .dataframe thead tr:last-of-type th {\n",
       "        text-align: right;\n",
       "    }\n",
       "</style>\n",
       "<table border=\"1\" class=\"dataframe\">\n",
       "  <thead>\n",
       "    <tr>\n",
       "      <th></th>\n",
       "      <th colspan=\"3\" halign=\"left\">debt</th>\n",
       "      <th>mean_percent</th>\n",
       "    </tr>\n",
       "    <tr>\n",
       "      <th></th>\n",
       "      <th>sum</th>\n",
       "      <th>count</th>\n",
       "      <th>mean</th>\n",
       "      <th></th>\n",
       "    </tr>\n",
       "    <tr>\n",
       "      <th>purpose_category</th>\n",
       "      <th></th>\n",
       "      <th></th>\n",
       "      <th></th>\n",
       "      <th></th>\n",
       "    </tr>\n",
       "  </thead>\n",
       "  <tbody>\n",
       "    <tr>\n",
       "      <td>автомобиль</td>\n",
       "      <td>403</td>\n",
       "      <td>4315</td>\n",
       "      <td>0.093395</td>\n",
       "      <td>9.339513</td>\n",
       "    </tr>\n",
       "    <tr>\n",
       "      <td>недвижимость</td>\n",
       "      <td>782</td>\n",
       "      <td>10840</td>\n",
       "      <td>0.072140</td>\n",
       "      <td>7.214022</td>\n",
       "    </tr>\n",
       "    <tr>\n",
       "      <td>образование</td>\n",
       "      <td>370</td>\n",
       "      <td>4022</td>\n",
       "      <td>0.091994</td>\n",
       "      <td>9.199403</td>\n",
       "    </tr>\n",
       "    <tr>\n",
       "      <td>свадьба</td>\n",
       "      <td>186</td>\n",
       "      <td>2348</td>\n",
       "      <td>0.079216</td>\n",
       "      <td>7.921635</td>\n",
       "    </tr>\n",
       "  </tbody>\n",
       "</table>\n",
       "</div>"
      ],
      "text/plain": [
       "                 debt                  mean_percent\n",
       "                  sum  count      mean             \n",
       "purpose_category                                   \n",
       "автомобиль        403   4315  0.093395     9.339513\n",
       "недвижимость      782  10840  0.072140     7.214022\n",
       "образование       370   4022  0.091994     9.199403\n",
       "свадьба           186   2348  0.079216     7.921635"
      ]
     },
     "execution_count": 61,
     "metadata": {},
     "output_type": "execute_result"
    }
   ],
   "source": [
    "df_group_by_credit_purpose"
   ]
  },
  {
   "cell_type": "markdown",
   "metadata": {},
   "source": [
    "**Вывод**"
   ]
  },
  {
   "cell_type": "markdown",
   "metadata": {},
   "source": [
    "Наибольший процент задолженности имеют пользователи, которые оформляют кредит для покупки автомобиля или получения образования (**9.3%** и **9.1%** соответственно). В этих группах содержатся относительно одинаковое количество пользователей, поэтому можно утверждать, что клиенты этих групп имеют одинаковую платежеспособность. \n",
    "\n",
    "Лучше ситуация у людей, которые берут кредит с целью проведения свадьбы (**7.9%** задолженности).\n",
    "\n",
    "Несмотря на то, что клиентов, которые оформляют кредит на покупку недвижимости, больше всех относительно других групп, процент задолженности у них самый минимальный **7.2%**."
   ]
  },
  {
   "cell_type": "markdown",
   "metadata": {},
   "source": [
    "## Шаг 4. Общий вывод"
   ]
  },
  {
   "cell_type": "markdown",
   "metadata": {},
   "source": [
    "Из этого исследования можно сделать следующие выводы:\n",
    "\n",
    "**1. Есть ли зависимость между наличием детей и возвратом кредита в срок?**\n",
    "\n",
    "Появление хотя бы одного ребёнка понижает платёжеспособность клиента.\n",
    "\n",
    "**2. Есть ли зависимость между семейным положением и возвратом кредита в срок?**\n",
    "\n",
    "Группа \"женат / замужем\" имеет наилучший показатель выплаты кредитов в срок. Группы \"гражданский брак\" и \"Не женат / не замужем\" имеют относительно плохой процент выплаты кредитов.\n",
    "\n",
    "Про группы \"вдовец / вдова\" и \"в разводе\" нельзя точно утверждать о достоверности результатов, так как численность этих групп относительно небольшая.\n",
    "\n",
    "**3. Есть ли зависимость между уровнем дохода и возвратом кредита в срок?**\n",
    "\n",
    "Доход клиента не является ключевым фактором платежеспособности по кредиту. Это доказывает факт того, что у клиентов со средним уровнем дохода и с доходом выше среднего процент задолженности выше, чем у клиентов с низким уровнем дохода.\n",
    "\n",
    "**4. Есть ли зависимость между уровнем дохода и возвратом кредита в срок?**\n",
    "\n",
    "Статистика показывает, что клиенты, оформляющие кредит с целью получения образования или покупки автомобиля, обладают относительно низкой платежеспособностью.\n",
    "\n",
    "У клиентов, оформлявших кредит для проведения свадьбы, статистика платежеспособности лучше, но и численность этой выборки меньше, чем у всех остальных.\n",
    "\n",
    "Клиенты, оформляющие кредиты с целью каких-либо манипуляций с недвижимостью имеют безусловно лучший показатель платежеспособности."
   ]
  },
  {
   "cell_type": "markdown",
   "metadata": {},
   "source": [
    "## Чек-лист готовности проекта\n",
    "\n",
    "Поставьте 'x' в выполненных пунктах. Далее нажмите Shift+Enter."
   ]
  },
  {
   "cell_type": "markdown",
   "metadata": {},
   "source": [
    "- [x]  открыт файл;\n",
    "- [x]  файл изучен;\n",
    "- [x]  определены пропущенные значения;\n",
    "- [x]  заполнены пропущенные значения;\n",
    "- [x]  есть пояснение, какие пропущенные значения обнаружены;\n",
    "- [x]  описаны возможные причины появления пропусков в данных;\n",
    "- [x]  объяснено, по какому принципу заполнены пропуски;\n",
    "- [x]  заменен вещественный тип данных на целочисленный;\n",
    "- [x]  есть пояснение, какой метод используется для изменения типа данных и почему;\n",
    "- [x]  удалены дубликаты;\n",
    "- [x]  есть пояснение, какой метод используется для поиска и удаления дубликатов;\n",
    "- [x]  описаны возможные причины появления дубликатов в данных;\n",
    "- [x]  выделены леммы в значениях столбца с целями получения кредита;\n",
    "- [x]  описан процесс лемматизации;\n",
    "- [x]  данные категоризированы;\n",
    "- [x]  есть объяснение принципа категоризации данных;\n",
    "- [x]  есть ответ на вопрос: \"Есть ли зависимость между наличием детей и возвратом кредита в срок?\";\n",
    "- [x]  есть ответ на вопрос: \"Есть ли зависимость между семейным положением и возвратом кредита в срок?\";\n",
    "- [x]  есть ответ на вопрос: \"Есть ли зависимость между уровнем дохода и возвратом кредита в срок?\";\n",
    "- [x]  есть ответ на вопрос: \"Как разные цели кредита влияют на его возврат в срок?\";\n",
    "- [x]  в каждом этапе есть выводы;\n",
    "- [x]  есть общий вывод."
   ]
  }
 ],
 "metadata": {
  "ExecuteTimeLog": [
   {
    "duration": 93,
    "start_time": "2021-09-13T03:56:32.737Z"
   },
   {
    "duration": 784,
    "start_time": "2021-09-13T03:58:19.334Z"
   },
   {
    "duration": 72,
    "start_time": "2021-09-13T04:00:33.132Z"
   },
   {
    "duration": 87,
    "start_time": "2021-09-13T04:01:02.906Z"
   },
   {
    "duration": 29,
    "start_time": "2021-09-13T04:01:29.213Z"
   },
   {
    "duration": 16,
    "start_time": "2021-09-13T04:08:42.531Z"
   },
   {
    "duration": 220,
    "start_time": "2021-09-13T16:09:30.060Z"
   },
   {
    "duration": 549,
    "start_time": "2021-09-13T16:09:34.380Z"
   },
   {
    "duration": 52,
    "start_time": "2021-09-13T16:09:36.844Z"
   },
   {
    "duration": 21,
    "start_time": "2021-09-13T16:09:39.770Z"
   },
   {
    "duration": 17,
    "start_time": "2021-09-13T16:11:12.968Z"
   },
   {
    "duration": 20,
    "start_time": "2021-09-13T16:13:25.358Z"
   },
   {
    "duration": 14,
    "start_time": "2021-09-13T16:15:37.144Z"
   },
   {
    "duration": 20,
    "start_time": "2021-09-13T16:17:00.540Z"
   },
   {
    "duration": 23,
    "start_time": "2021-09-13T16:18:40.441Z"
   },
   {
    "duration": 10,
    "start_time": "2021-09-13T16:19:03.244Z"
   },
   {
    "duration": 21,
    "start_time": "2021-09-13T16:19:13.556Z"
   },
   {
    "duration": 105,
    "start_time": "2021-09-13T16:19:41.321Z"
   },
   {
    "duration": 7,
    "start_time": "2021-09-13T16:19:59.988Z"
   },
   {
    "duration": 13,
    "start_time": "2021-09-13T16:20:43.499Z"
   },
   {
    "duration": 22,
    "start_time": "2021-09-13T16:36:18.534Z"
   },
   {
    "duration": 20,
    "start_time": "2021-09-13T16:48:47.035Z"
   },
   {
    "duration": 4,
    "start_time": "2021-09-13T16:49:35.665Z"
   },
   {
    "duration": 230,
    "start_time": "2021-09-13T17:36:33.163Z"
   },
   {
    "duration": 18,
    "start_time": "2021-09-13T17:36:42.665Z"
   },
   {
    "duration": 12,
    "start_time": "2021-09-13T17:36:53.167Z"
   },
   {
    "duration": 185,
    "start_time": "2021-09-13T17:37:00.494Z"
   },
   {
    "duration": 12,
    "start_time": "2021-09-13T17:37:07.763Z"
   },
   {
    "duration": 17,
    "start_time": "2021-09-13T17:37:21.593Z"
   },
   {
    "duration": 10,
    "start_time": "2021-09-13T17:37:23.435Z"
   },
   {
    "duration": 10,
    "start_time": "2021-09-13T17:37:32.089Z"
   },
   {
    "duration": 5,
    "start_time": "2021-09-13T17:38:04.164Z"
   },
   {
    "duration": 20,
    "start_time": "2021-09-13T17:39:18.407Z"
   },
   {
    "duration": 9,
    "start_time": "2021-09-13T17:39:38.057Z"
   },
   {
    "duration": 10,
    "start_time": "2021-09-13T17:41:17.646Z"
   },
   {
    "duration": 28,
    "start_time": "2021-09-13T17:41:28.772Z"
   },
   {
    "duration": 21,
    "start_time": "2021-09-13T17:42:11.338Z"
   },
   {
    "duration": 23,
    "start_time": "2021-09-13T17:42:18.701Z"
   },
   {
    "duration": 8,
    "start_time": "2021-09-13T17:42:22.911Z"
   },
   {
    "duration": 9,
    "start_time": "2021-09-13T17:42:34.565Z"
   },
   {
    "duration": 22,
    "start_time": "2021-09-13T17:42:53.433Z"
   },
   {
    "duration": 8,
    "start_time": "2021-09-13T17:43:24.401Z"
   },
   {
    "duration": 7,
    "start_time": "2021-09-13T17:44:00.149Z"
   },
   {
    "duration": 20,
    "start_time": "2021-09-13T17:51:15.605Z"
   },
   {
    "duration": 10,
    "start_time": "2021-09-13T17:51:21.574Z"
   },
   {
    "duration": 11,
    "start_time": "2021-09-13T17:51:40.954Z"
   },
   {
    "duration": 425,
    "start_time": "2021-09-14T10:18:43.927Z"
   },
   {
    "duration": 789,
    "start_time": "2021-09-14T10:18:50.729Z"
   },
   {
    "duration": 64,
    "start_time": "2021-09-14T10:18:52.438Z"
   },
   {
    "duration": 30,
    "start_time": "2021-09-14T10:18:54.470Z"
   },
   {
    "duration": 392,
    "start_time": "2021-09-14T10:19:00.437Z"
   },
   {
    "duration": 35,
    "start_time": "2021-09-14T10:19:15.561Z"
   },
   {
    "duration": 12,
    "start_time": "2021-09-14T10:19:29.385Z"
   },
   {
    "duration": 524,
    "start_time": "2021-09-14T10:20:33.396Z"
   },
   {
    "duration": 225,
    "start_time": "2021-09-14T10:20:40.676Z"
   },
   {
    "duration": 15,
    "start_time": "2021-09-14T10:20:54.933Z"
   },
   {
    "duration": 18,
    "start_time": "2021-09-14T10:21:01.267Z"
   },
   {
    "duration": 14,
    "start_time": "2021-09-14T10:21:17.648Z"
   },
   {
    "duration": 66,
    "start_time": "2021-09-14T10:21:21.500Z"
   },
   {
    "duration": 12,
    "start_time": "2021-09-14T10:21:26.402Z"
   },
   {
    "duration": 386,
    "start_time": "2021-09-14T10:24:29.017Z"
   },
   {
    "duration": 11,
    "start_time": "2021-09-14T10:24:48.121Z"
   },
   {
    "duration": 11,
    "start_time": "2021-09-14T10:25:56.821Z"
   },
   {
    "duration": 34,
    "start_time": "2021-09-14T10:26:23.548Z"
   },
   {
    "duration": 21,
    "start_time": "2021-09-14T10:26:28.249Z"
   },
   {
    "duration": 16,
    "start_time": "2021-09-14T10:26:42.758Z"
   },
   {
    "duration": 15,
    "start_time": "2021-09-14T10:27:17.401Z"
   },
   {
    "duration": 22,
    "start_time": "2021-09-14T10:31:52.268Z"
   },
   {
    "duration": 20,
    "start_time": "2021-09-14T10:31:58.072Z"
   },
   {
    "duration": 21,
    "start_time": "2021-09-14T10:32:07.533Z"
   },
   {
    "duration": 11,
    "start_time": "2021-09-14T10:32:31.970Z"
   },
   {
    "duration": 14,
    "start_time": "2021-09-14T10:33:53.084Z"
   },
   {
    "duration": 17,
    "start_time": "2021-09-14T10:34:15.311Z"
   },
   {
    "duration": 15,
    "start_time": "2021-09-14T10:34:19.901Z"
   },
   {
    "duration": 13,
    "start_time": "2021-09-14T10:34:29.190Z"
   },
   {
    "duration": 20,
    "start_time": "2021-09-14T10:34:33.810Z"
   },
   {
    "duration": 21,
    "start_time": "2021-09-14T10:36:15.675Z"
   },
   {
    "duration": 6,
    "start_time": "2021-09-14T10:41:33.925Z"
   },
   {
    "duration": 7,
    "start_time": "2021-09-14T10:41:45.380Z"
   },
   {
    "duration": 6,
    "start_time": "2021-09-14T10:41:55.134Z"
   },
   {
    "duration": 400,
    "start_time": "2021-09-14T10:42:06.972Z"
   },
   {
    "duration": 17,
    "start_time": "2021-09-14T10:44:59.138Z"
   },
   {
    "duration": 9,
    "start_time": "2021-09-14T10:49:39.013Z"
   },
   {
    "duration": 6,
    "start_time": "2021-09-14T10:50:06.826Z"
   },
   {
    "duration": 9,
    "start_time": "2021-09-14T10:54:39.135Z"
   },
   {
    "duration": 27,
    "start_time": "2021-09-14T11:01:35.911Z"
   },
   {
    "duration": 21,
    "start_time": "2021-09-14T11:01:42.199Z"
   },
   {
    "duration": 8,
    "start_time": "2021-09-14T11:13:02.180Z"
   },
   {
    "duration": 36,
    "start_time": "2021-09-14T11:13:42.724Z"
   },
   {
    "duration": 10,
    "start_time": "2021-09-14T11:14:56.522Z"
   },
   {
    "duration": 37,
    "start_time": "2021-09-14T11:20:12.447Z"
   },
   {
    "duration": 9,
    "start_time": "2021-09-14T11:28:29.188Z"
   },
   {
    "duration": 36,
    "start_time": "2021-09-14T11:49:38.538Z"
   },
   {
    "duration": 7,
    "start_time": "2021-09-14T12:33:05.844Z"
   },
   {
    "duration": 6,
    "start_time": "2021-09-14T12:33:17.918Z"
   },
   {
    "duration": 7,
    "start_time": "2021-09-14T12:33:49.226Z"
   },
   {
    "duration": 6,
    "start_time": "2021-09-14T12:45:59.507Z"
   },
   {
    "duration": 6,
    "start_time": "2021-09-14T12:48:34.218Z"
   },
   {
    "duration": 33,
    "start_time": "2021-09-14T13:12:45.644Z"
   },
   {
    "duration": 26,
    "start_time": "2021-09-14T13:16:13.867Z"
   },
   {
    "duration": 9,
    "start_time": "2021-09-14T13:16:24.219Z"
   },
   {
    "duration": 14,
    "start_time": "2021-09-14T13:16:39.223Z"
   },
   {
    "duration": 12,
    "start_time": "2021-09-14T13:17:20.462Z"
   },
   {
    "duration": 34,
    "start_time": "2021-09-14T13:17:48.707Z"
   },
   {
    "duration": 10,
    "start_time": "2021-09-14T13:18:14.238Z"
   },
   {
    "duration": 30,
    "start_time": "2021-09-14T13:19:08.550Z"
   },
   {
    "duration": 6,
    "start_time": "2021-09-14T13:19:46.277Z"
   },
   {
    "duration": 9,
    "start_time": "2021-09-14T13:24:19.373Z"
   },
   {
    "duration": 7,
    "start_time": "2021-09-14T13:24:30.852Z"
   },
   {
    "duration": 40,
    "start_time": "2021-09-14T13:28:55.570Z"
   },
   {
    "duration": 11,
    "start_time": "2021-09-14T13:32:21.591Z"
   },
   {
    "duration": 23,
    "start_time": "2021-09-14T13:32:29.469Z"
   },
   {
    "duration": 15,
    "start_time": "2021-09-14T13:34:48.932Z"
   },
   {
    "duration": 8,
    "start_time": "2021-09-14T13:34:57.889Z"
   },
   {
    "duration": 22,
    "start_time": "2021-09-14T13:36:04.757Z"
   },
   {
    "duration": 24,
    "start_time": "2021-09-14T13:39:06.654Z"
   },
   {
    "duration": 12,
    "start_time": "2021-09-14T13:54:40.141Z"
   },
   {
    "duration": 12,
    "start_time": "2021-09-14T13:58:28.118Z"
   },
   {
    "duration": 10,
    "start_time": "2021-09-14T13:58:45.133Z"
   },
   {
    "duration": 17,
    "start_time": "2021-09-14T13:59:24.527Z"
   },
   {
    "duration": 17,
    "start_time": "2021-09-14T13:59:55.448Z"
   },
   {
    "duration": 42,
    "start_time": "2021-09-14T14:00:24.067Z"
   },
   {
    "duration": 15,
    "start_time": "2021-09-14T14:00:33.281Z"
   },
   {
    "duration": 15,
    "start_time": "2021-09-14T14:00:45.611Z"
   },
   {
    "duration": 15,
    "start_time": "2021-09-14T14:00:48.324Z"
   },
   {
    "duration": 15,
    "start_time": "2021-09-14T14:02:53.979Z"
   },
   {
    "duration": 18,
    "start_time": "2021-09-14T14:03:54.854Z"
   },
   {
    "duration": 16,
    "start_time": "2021-09-14T14:04:07.324Z"
   },
   {
    "duration": 21,
    "start_time": "2021-09-14T14:04:12.132Z"
   },
   {
    "duration": 39,
    "start_time": "2021-09-14T14:04:16.114Z"
   },
   {
    "duration": 55,
    "start_time": "2021-09-14T14:04:26.139Z"
   },
   {
    "duration": 36,
    "start_time": "2021-09-14T14:15:38.894Z"
   },
   {
    "duration": 13,
    "start_time": "2021-09-14T14:15:49.738Z"
   },
   {
    "duration": 10,
    "start_time": "2021-09-14T14:18:38.916Z"
   },
   {
    "duration": 294,
    "start_time": "2021-09-14T16:40:26.944Z"
   },
   {
    "duration": 620,
    "start_time": "2021-09-14T16:40:58.662Z"
   },
   {
    "duration": 49,
    "start_time": "2021-09-14T16:40:59.284Z"
   },
   {
    "duration": 18,
    "start_time": "2021-09-14T16:40:59.335Z"
   },
   {
    "duration": 10,
    "start_time": "2021-09-14T16:40:59.355Z"
   },
   {
    "duration": 24,
    "start_time": "2021-09-14T16:40:59.367Z"
   },
   {
    "duration": 13,
    "start_time": "2021-09-14T16:40:59.393Z"
   },
   {
    "duration": 6,
    "start_time": "2021-09-14T16:40:59.408Z"
   },
   {
    "duration": 8,
    "start_time": "2021-09-14T16:40:59.416Z"
   },
   {
    "duration": 9,
    "start_time": "2021-09-14T16:40:59.426Z"
   },
   {
    "duration": 14,
    "start_time": "2021-09-14T16:40:59.436Z"
   },
   {
    "duration": 5,
    "start_time": "2021-09-14T16:40:59.452Z"
   },
   {
    "duration": 34,
    "start_time": "2021-09-14T16:40:59.459Z"
   },
   {
    "duration": 7,
    "start_time": "2021-09-14T16:40:59.495Z"
   },
   {
    "duration": 6,
    "start_time": "2021-09-14T17:13:27.917Z"
   },
   {
    "duration": 6,
    "start_time": "2021-09-14T17:13:59.583Z"
   },
   {
    "duration": 6,
    "start_time": "2021-09-14T17:14:14.639Z"
   },
   {
    "duration": 19,
    "start_time": "2021-09-14T17:14:28.666Z"
   },
   {
    "duration": 4,
    "start_time": "2021-09-14T17:15:07.289Z"
   },
   {
    "duration": 7,
    "start_time": "2021-09-14T17:15:19.663Z"
   },
   {
    "duration": 10,
    "start_time": "2021-09-14T17:15:29.941Z"
   },
   {
    "duration": 6,
    "start_time": "2021-09-14T17:18:31.958Z"
   },
   {
    "duration": 5,
    "start_time": "2021-09-14T17:25:02.306Z"
   },
   {
    "duration": 5,
    "start_time": "2021-09-14T17:25:14.291Z"
   },
   {
    "duration": 6,
    "start_time": "2021-09-14T17:58:41.386Z"
   },
   {
    "duration": 7,
    "start_time": "2021-09-14T17:59:08.668Z"
   },
   {
    "duration": 5,
    "start_time": "2021-09-14T18:00:38.744Z"
   },
   {
    "duration": 329,
    "start_time": "2021-09-15T11:25:57.007Z"
   },
   {
    "duration": 628,
    "start_time": "2021-09-15T11:26:04.650Z"
   },
   {
    "duration": 55,
    "start_time": "2021-09-15T11:26:05.280Z"
   },
   {
    "duration": 26,
    "start_time": "2021-09-15T11:26:05.338Z"
   },
   {
    "duration": 12,
    "start_time": "2021-09-15T11:26:05.367Z"
   },
   {
    "duration": 12,
    "start_time": "2021-09-15T11:26:05.382Z"
   },
   {
    "duration": 47,
    "start_time": "2021-09-15T11:26:05.396Z"
   },
   {
    "duration": 8,
    "start_time": "2021-09-15T11:26:05.445Z"
   },
   {
    "duration": 8,
    "start_time": "2021-09-15T11:26:05.455Z"
   },
   {
    "duration": 15,
    "start_time": "2021-09-15T11:26:05.466Z"
   },
   {
    "duration": 22,
    "start_time": "2021-09-15T11:26:05.483Z"
   },
   {
    "duration": 10,
    "start_time": "2021-09-15T11:26:05.507Z"
   },
   {
    "duration": 23,
    "start_time": "2021-09-15T11:26:05.519Z"
   },
   {
    "duration": 17,
    "start_time": "2021-09-15T11:26:05.545Z"
   },
   {
    "duration": 24,
    "start_time": "2021-09-15T11:26:05.565Z"
   },
   {
    "duration": 28,
    "start_time": "2021-09-15T11:26:05.590Z"
   },
   {
    "duration": 15,
    "start_time": "2021-09-15T11:26:05.620Z"
   },
   {
    "duration": 9,
    "start_time": "2021-09-15T11:26:05.637Z"
   },
   {
    "duration": 6,
    "start_time": "2021-09-15T11:26:05.647Z"
   },
   {
    "duration": 13,
    "start_time": "2021-09-15T11:26:05.655Z"
   },
   {
    "duration": 10,
    "start_time": "2021-09-15T11:26:05.670Z"
   },
   {
    "duration": 12,
    "start_time": "2021-09-15T11:26:09.019Z"
   },
   {
    "duration": 3,
    "start_time": "2021-09-15T11:59:10.362Z"
   },
   {
    "duration": 11,
    "start_time": "2021-09-15T11:59:24.638Z"
   },
   {
    "duration": 3,
    "start_time": "2021-09-15T11:59:51.698Z"
   },
   {
    "duration": 10,
    "start_time": "2021-09-15T12:00:00.100Z"
   },
   {
    "duration": 12,
    "start_time": "2021-09-15T12:04:38.402Z"
   },
   {
    "duration": 8,
    "start_time": "2021-09-15T12:28:22.419Z"
   },
   {
    "duration": 9,
    "start_time": "2021-09-15T12:31:46.285Z"
   },
   {
    "duration": 11,
    "start_time": "2021-09-15T12:32:30.596Z"
   },
   {
    "duration": 7,
    "start_time": "2021-09-15T12:33:28.168Z"
   },
   {
    "duration": 15,
    "start_time": "2021-09-15T13:00:14.859Z"
   },
   {
    "duration": 14,
    "start_time": "2021-09-15T13:00:21.202Z"
   },
   {
    "duration": 14,
    "start_time": "2021-09-15T13:00:38.636Z"
   },
   {
    "duration": 28,
    "start_time": "2021-09-15T13:01:09.130Z"
   },
   {
    "duration": 36,
    "start_time": "2021-09-15T13:01:16.570Z"
   },
   {
    "duration": 17,
    "start_time": "2021-09-15T13:01:57.413Z"
   },
   {
    "duration": 35,
    "start_time": "2021-09-15T13:02:05.433Z"
   },
   {
    "duration": 6,
    "start_time": "2021-09-15T13:08:20.515Z"
   },
   {
    "duration": 7,
    "start_time": "2021-09-15T13:08:56.140Z"
   },
   {
    "duration": 16,
    "start_time": "2021-09-15T13:25:38.253Z"
   },
   {
    "duration": 92,
    "start_time": "2021-09-15T13:32:16.212Z"
   },
   {
    "duration": 10,
    "start_time": "2021-09-15T13:40:43.092Z"
   },
   {
    "duration": 9,
    "start_time": "2021-09-15T13:40:53.673Z"
   },
   {
    "duration": 10,
    "start_time": "2021-09-15T13:40:58.622Z"
   },
   {
    "duration": 10,
    "start_time": "2021-09-15T13:41:23.756Z"
   },
   {
    "duration": 20,
    "start_time": "2021-09-15T13:42:15.889Z"
   },
   {
    "duration": 11,
    "start_time": "2021-09-15T13:42:54.128Z"
   },
   {
    "duration": 492,
    "start_time": "2021-09-15T13:44:01.748Z"
   },
   {
    "duration": 10,
    "start_time": "2021-09-15T13:44:12.871Z"
   },
   {
    "duration": 10,
    "start_time": "2021-09-15T13:44:41.368Z"
   },
   {
    "duration": 8,
    "start_time": "2021-09-15T13:56:08.394Z"
   },
   {
    "duration": 403,
    "start_time": "2021-09-16T08:36:58.590Z"
   },
   {
    "duration": 786,
    "start_time": "2021-09-16T08:37:16.682Z"
   },
   {
    "duration": 62,
    "start_time": "2021-09-16T08:37:17.471Z"
   },
   {
    "duration": 36,
    "start_time": "2021-09-16T08:37:17.536Z"
   },
   {
    "duration": 15,
    "start_time": "2021-09-16T08:37:17.575Z"
   },
   {
    "duration": 18,
    "start_time": "2021-09-16T08:37:17.592Z"
   },
   {
    "duration": 52,
    "start_time": "2021-09-16T08:37:17.613Z"
   },
   {
    "duration": 8,
    "start_time": "2021-09-16T08:37:17.668Z"
   },
   {
    "duration": 6,
    "start_time": "2021-09-16T08:37:17.678Z"
   },
   {
    "duration": 7,
    "start_time": "2021-09-16T08:37:17.689Z"
   },
   {
    "duration": 68,
    "start_time": "2021-09-16T08:37:17.699Z"
   },
   {
    "duration": 8,
    "start_time": "2021-09-16T08:37:17.770Z"
   },
   {
    "duration": 19,
    "start_time": "2021-09-16T08:37:17.781Z"
   },
   {
    "duration": 12,
    "start_time": "2021-09-16T08:37:17.803Z"
   },
   {
    "duration": 11,
    "start_time": "2021-09-16T08:37:17.817Z"
   },
   {
    "duration": 31,
    "start_time": "2021-09-16T08:37:17.830Z"
   },
   {
    "duration": 8,
    "start_time": "2021-09-16T08:37:17.865Z"
   },
   {
    "duration": 7,
    "start_time": "2021-09-16T08:37:17.875Z"
   },
   {
    "duration": 7,
    "start_time": "2021-09-16T08:37:17.884Z"
   },
   {
    "duration": 8,
    "start_time": "2021-09-16T08:37:17.893Z"
   },
   {
    "duration": 53,
    "start_time": "2021-09-16T08:37:17.903Z"
   },
   {
    "duration": 6,
    "start_time": "2021-09-16T08:37:17.958Z"
   },
   {
    "duration": 20,
    "start_time": "2021-09-16T08:37:17.967Z"
   },
   {
    "duration": 8,
    "start_time": "2021-09-16T08:37:17.990Z"
   },
   {
    "duration": 56,
    "start_time": "2021-09-16T08:37:18.000Z"
   },
   {
    "duration": 17,
    "start_time": "2021-09-16T08:37:18.059Z"
   },
   {
    "duration": 9,
    "start_time": "2021-09-16T08:37:18.079Z"
   },
   {
    "duration": 17,
    "start_time": "2021-09-16T08:37:18.092Z"
   },
   {
    "duration": 44,
    "start_time": "2021-09-16T08:37:18.112Z"
   },
   {
    "duration": 27,
    "start_time": "2021-09-16T08:37:24.316Z"
   },
   {
    "duration": 27,
    "start_time": "2021-09-16T08:37:29.939Z"
   },
   {
    "duration": 46,
    "start_time": "2021-09-16T08:39:11.449Z"
   },
   {
    "duration": 11,
    "start_time": "2021-09-16T08:40:13.631Z"
   },
   {
    "duration": 12,
    "start_time": "2021-09-16T08:41:06.970Z"
   },
   {
    "duration": 49,
    "start_time": "2021-09-16T08:41:29.831Z"
   },
   {
    "duration": 49,
    "start_time": "2021-09-16T08:41:41.138Z"
   },
   {
    "duration": 31,
    "start_time": "2021-09-16T08:41:58.515Z"
   },
   {
    "duration": 46,
    "start_time": "2021-09-16T08:42:19.355Z"
   },
   {
    "duration": 30,
    "start_time": "2021-09-16T08:42:43.503Z"
   },
   {
    "duration": 31,
    "start_time": "2021-09-16T08:47:56.419Z"
   },
   {
    "duration": 12,
    "start_time": "2021-09-16T08:48:37.701Z"
   },
   {
    "duration": 12,
    "start_time": "2021-09-16T08:50:02.850Z"
   },
   {
    "duration": 44,
    "start_time": "2021-09-16T08:50:18.709Z"
   },
   {
    "duration": 408,
    "start_time": "2021-09-16T08:50:57.377Z"
   },
   {
    "duration": 30,
    "start_time": "2021-09-16T08:51:09.658Z"
   },
   {
    "duration": 28,
    "start_time": "2021-09-16T08:51:22.065Z"
   },
   {
    "duration": 27,
    "start_time": "2021-09-16T08:51:32.876Z"
   },
   {
    "duration": 28,
    "start_time": "2021-09-16T08:51:42.810Z"
   },
   {
    "duration": 26,
    "start_time": "2021-09-16T08:51:48.680Z"
   },
   {
    "duration": 27,
    "start_time": "2021-09-16T08:54:05.372Z"
   },
   {
    "duration": 44,
    "start_time": "2021-09-16T08:54:29.368Z"
   },
   {
    "duration": 576,
    "start_time": "2021-09-16T14:21:24.805Z"
   },
   {
    "duration": 50,
    "start_time": "2021-09-16T14:21:25.383Z"
   },
   {
    "duration": 18,
    "start_time": "2021-09-16T14:21:25.435Z"
   },
   {
    "duration": 11,
    "start_time": "2021-09-16T14:21:25.455Z"
   },
   {
    "duration": 10,
    "start_time": "2021-09-16T14:21:25.468Z"
   },
   {
    "duration": 13,
    "start_time": "2021-09-16T14:21:25.479Z"
   },
   {
    "duration": 5,
    "start_time": "2021-09-16T14:21:25.493Z"
   },
   {
    "duration": 7,
    "start_time": "2021-09-16T14:21:25.500Z"
   },
   {
    "duration": 5,
    "start_time": "2021-09-16T14:21:25.509Z"
   },
   {
    "duration": 13,
    "start_time": "2021-09-16T14:21:25.550Z"
   },
   {
    "duration": 6,
    "start_time": "2021-09-16T14:21:25.565Z"
   },
   {
    "duration": 13,
    "start_time": "2021-09-16T14:21:25.573Z"
   },
   {
    "duration": 7,
    "start_time": "2021-09-16T14:21:25.587Z"
   },
   {
    "duration": 9,
    "start_time": "2021-09-16T14:21:25.596Z"
   },
   {
    "duration": 9,
    "start_time": "2021-09-16T14:21:25.606Z"
   },
   {
    "duration": 33,
    "start_time": "2021-09-16T14:21:25.616Z"
   },
   {
    "duration": 4,
    "start_time": "2021-09-16T14:21:25.650Z"
   },
   {
    "duration": 11,
    "start_time": "2021-09-16T14:21:25.655Z"
   },
   {
    "duration": 9,
    "start_time": "2021-09-16T14:21:25.667Z"
   },
   {
    "duration": 8,
    "start_time": "2021-09-16T14:21:25.677Z"
   },
   {
    "duration": 11,
    "start_time": "2021-09-16T14:21:25.686Z"
   },
   {
    "duration": 19,
    "start_time": "2021-09-16T14:21:25.698Z"
   },
   {
    "duration": 10,
    "start_time": "2021-09-16T14:21:25.718Z"
   },
   {
    "duration": 14,
    "start_time": "2021-09-16T14:21:25.729Z"
   },
   {
    "duration": 15,
    "start_time": "2021-09-16T14:21:25.745Z"
   },
   {
    "duration": 6,
    "start_time": "2021-09-16T14:21:25.761Z"
   },
   {
    "duration": 16,
    "start_time": "2021-09-16T14:21:25.770Z"
   },
   {
    "duration": 14,
    "start_time": "2021-09-16T14:21:25.787Z"
   },
   {
    "duration": 450,
    "start_time": "2021-09-16T14:21:32.699Z"
   },
   {
    "duration": 316,
    "start_time": "2021-09-16T14:23:17.276Z"
   },
   {
    "duration": 3,
    "start_time": "2021-09-16T14:48:08.549Z"
   },
   {
    "duration": 1217,
    "start_time": "2021-09-16T14:48:32.624Z"
   },
   {
    "duration": 981,
    "start_time": "2021-09-16T14:49:43.684Z"
   },
   {
    "duration": 932,
    "start_time": "2021-09-16T14:49:47.462Z"
   },
   {
    "duration": 973,
    "start_time": "2021-09-16T14:50:49.150Z"
   },
   {
    "duration": 1020,
    "start_time": "2021-09-16T14:50:56.036Z"
   },
   {
    "duration": 4087,
    "start_time": "2021-09-16T14:55:42.488Z"
   },
   {
    "duration": 3824,
    "start_time": "2021-09-16T14:56:14.797Z"
   },
   {
    "duration": 3536,
    "start_time": "2021-09-16T15:13:35.314Z"
   },
   {
    "duration": 3819,
    "start_time": "2021-09-16T15:14:19.379Z"
   },
   {
    "duration": 3560,
    "start_time": "2021-09-16T15:14:42.995Z"
   },
   {
    "duration": 395,
    "start_time": "2021-09-19T07:44:00.799Z"
   },
   {
    "duration": 634,
    "start_time": "2021-09-19T07:44:11.193Z"
   },
   {
    "duration": 53,
    "start_time": "2021-09-19T07:44:11.829Z"
   },
   {
    "duration": 19,
    "start_time": "2021-09-19T07:44:11.884Z"
   },
   {
    "duration": 15,
    "start_time": "2021-09-19T07:44:11.905Z"
   },
   {
    "duration": 13,
    "start_time": "2021-09-19T07:44:11.922Z"
   },
   {
    "duration": 14,
    "start_time": "2021-09-19T07:44:11.937Z"
   },
   {
    "duration": 7,
    "start_time": "2021-09-19T07:44:11.977Z"
   },
   {
    "duration": 6,
    "start_time": "2021-09-19T07:44:11.985Z"
   },
   {
    "duration": 4,
    "start_time": "2021-09-19T07:44:11.993Z"
   },
   {
    "duration": 15,
    "start_time": "2021-09-19T07:44:11.999Z"
   },
   {
    "duration": 5,
    "start_time": "2021-09-19T07:44:12.016Z"
   },
   {
    "duration": 7,
    "start_time": "2021-09-19T07:44:12.023Z"
   },
   {
    "duration": 48,
    "start_time": "2021-09-19T07:44:12.031Z"
   },
   {
    "duration": 7,
    "start_time": "2021-09-19T07:44:12.081Z"
   },
   {
    "duration": 9,
    "start_time": "2021-09-19T07:44:12.089Z"
   },
   {
    "duration": 4,
    "start_time": "2021-09-19T07:44:12.100Z"
   },
   {
    "duration": 6,
    "start_time": "2021-09-19T07:44:12.105Z"
   },
   {
    "duration": 4,
    "start_time": "2021-09-19T07:44:12.113Z"
   },
   {
    "duration": 5,
    "start_time": "2021-09-19T07:44:12.118Z"
   },
   {
    "duration": 4,
    "start_time": "2021-09-19T07:44:12.124Z"
   },
   {
    "duration": 4,
    "start_time": "2021-09-19T07:44:12.130Z"
   },
   {
    "duration": 18,
    "start_time": "2021-09-19T07:44:12.176Z"
   },
   {
    "duration": 5,
    "start_time": "2021-09-19T07:44:12.197Z"
   },
   {
    "duration": 14,
    "start_time": "2021-09-19T07:44:12.204Z"
   },
   {
    "duration": 12,
    "start_time": "2021-09-19T07:44:12.220Z"
   },
   {
    "duration": 7,
    "start_time": "2021-09-19T07:44:12.234Z"
   },
   {
    "duration": 12,
    "start_time": "2021-09-19T07:44:12.278Z"
   },
   {
    "duration": 11,
    "start_time": "2021-09-19T07:44:12.292Z"
   },
   {
    "duration": 3779,
    "start_time": "2021-09-19T07:44:12.305Z"
   },
   {
    "duration": 17,
    "start_time": "2021-09-19T07:44:41.708Z"
   },
   {
    "duration": 4,
    "start_time": "2021-09-19T07:55:57.335Z"
   },
   {
    "duration": 7,
    "start_time": "2021-09-19T08:05:39.855Z"
   },
   {
    "duration": 7,
    "start_time": "2021-09-19T08:07:29.152Z"
   },
   {
    "duration": 7,
    "start_time": "2021-09-19T08:18:05.174Z"
   },
   {
    "duration": 7,
    "start_time": "2021-09-19T09:29:32.461Z"
   },
   {
    "duration": 8,
    "start_time": "2021-09-19T09:29:55.633Z"
   },
   {
    "duration": 487,
    "start_time": "2021-09-19T09:31:23.787Z"
   },
   {
    "duration": 4,
    "start_time": "2021-09-19T09:40:52.809Z"
   },
   {
    "duration": 4,
    "start_time": "2021-09-19T09:41:02.107Z"
   },
   {
    "duration": -15,
    "start_time": "2021-09-19T09:42:01.617Z"
   },
   {
    "duration": 4,
    "start_time": "2021-09-19T09:42:04.831Z"
   },
   {
    "duration": 12,
    "start_time": "2021-09-19T09:45:05.195Z"
   },
   {
    "duration": 11,
    "start_time": "2021-09-19T09:45:16.114Z"
   },
   {
    "duration": 5,
    "start_time": "2021-09-19T09:57:22.198Z"
   },
   {
    "duration": 12,
    "start_time": "2021-09-19T09:58:38.215Z"
   },
   {
    "duration": 21,
    "start_time": "2021-09-19T09:58:49.093Z"
   },
   {
    "duration": 7,
    "start_time": "2021-09-19T09:59:02.952Z"
   },
   {
    "duration": 8,
    "start_time": "2021-09-19T09:59:58.220Z"
   },
   {
    "duration": 7,
    "start_time": "2021-09-19T10:00:06.080Z"
   },
   {
    "duration": 7,
    "start_time": "2021-09-19T10:00:16.300Z"
   },
   {
    "duration": 8,
    "start_time": "2021-09-19T10:00:29.098Z"
   },
   {
    "duration": 9,
    "start_time": "2021-09-19T10:00:41.586Z"
   },
   {
    "duration": 9,
    "start_time": "2021-09-19T10:00:46.196Z"
   },
   {
    "duration": 9,
    "start_time": "2021-09-19T10:01:01.885Z"
   },
   {
    "duration": 9,
    "start_time": "2021-09-19T10:01:11.005Z"
   },
   {
    "duration": 8,
    "start_time": "2021-09-19T10:01:19.733Z"
   },
   {
    "duration": 9,
    "start_time": "2021-09-19T10:06:51.414Z"
   },
   {
    "duration": 14,
    "start_time": "2021-09-19T10:07:08.339Z"
   },
   {
    "duration": 11,
    "start_time": "2021-09-19T10:08:54.138Z"
   },
   {
    "duration": 7,
    "start_time": "2021-09-19T10:11:39.019Z"
   },
   {
    "duration": 12,
    "start_time": "2021-09-19T10:13:55.718Z"
   },
   {
    "duration": 10,
    "start_time": "2021-09-19T10:14:01.621Z"
   },
   {
    "duration": 11,
    "start_time": "2021-09-19T10:14:22.259Z"
   },
   {
    "duration": 10,
    "start_time": "2021-09-19T10:14:45.864Z"
   },
   {
    "duration": 137,
    "start_time": "2021-09-19T10:15:09.504Z"
   },
   {
    "duration": 11,
    "start_time": "2021-09-19T10:15:14.281Z"
   },
   {
    "duration": 9,
    "start_time": "2021-09-19T10:15:26.851Z"
   },
   {
    "duration": 10,
    "start_time": "2021-09-19T10:15:37.270Z"
   },
   {
    "duration": 9,
    "start_time": "2021-09-19T10:15:54.141Z"
   },
   {
    "duration": 14,
    "start_time": "2021-09-19T10:16:22.123Z"
   },
   {
    "duration": 10,
    "start_time": "2021-09-19T10:16:42.017Z"
   },
   {
    "duration": 9,
    "start_time": "2021-09-19T10:16:59.295Z"
   },
   {
    "duration": 9,
    "start_time": "2021-09-19T10:17:20.278Z"
   },
   {
    "duration": 8,
    "start_time": "2021-09-19T10:17:37.183Z"
   },
   {
    "duration": 3,
    "start_time": "2021-09-19T11:16:52.610Z"
   },
   {
    "duration": 7,
    "start_time": "2021-09-19T11:18:11.592Z"
   },
   {
    "duration": 15,
    "start_time": "2021-09-19T11:18:22.809Z"
   },
   {
    "duration": 2,
    "start_time": "2021-09-19T11:18:45.888Z"
   },
   {
    "duration": 52,
    "start_time": "2021-09-19T11:18:45.892Z"
   },
   {
    "duration": 15,
    "start_time": "2021-09-19T11:18:45.947Z"
   },
   {
    "duration": 16,
    "start_time": "2021-09-19T11:18:45.964Z"
   },
   {
    "duration": 12,
    "start_time": "2021-09-19T11:18:45.982Z"
   },
   {
    "duration": 17,
    "start_time": "2021-09-19T11:18:45.996Z"
   },
   {
    "duration": 6,
    "start_time": "2021-09-19T11:18:46.014Z"
   },
   {
    "duration": 6,
    "start_time": "2021-09-19T11:18:46.021Z"
   },
   {
    "duration": 47,
    "start_time": "2021-09-19T11:18:46.030Z"
   },
   {
    "duration": 14,
    "start_time": "2021-09-19T11:18:46.080Z"
   },
   {
    "duration": 7,
    "start_time": "2021-09-19T11:18:46.096Z"
   },
   {
    "duration": 8,
    "start_time": "2021-09-19T11:18:46.106Z"
   },
   {
    "duration": 9,
    "start_time": "2021-09-19T11:18:46.116Z"
   },
   {
    "duration": 8,
    "start_time": "2021-09-19T11:18:46.127Z"
   },
   {
    "duration": 47,
    "start_time": "2021-09-19T11:18:46.136Z"
   },
   {
    "duration": 5,
    "start_time": "2021-09-19T11:18:46.185Z"
   },
   {
    "duration": 5,
    "start_time": "2021-09-19T11:18:46.192Z"
   },
   {
    "duration": 8,
    "start_time": "2021-09-19T11:18:46.199Z"
   },
   {
    "duration": 7,
    "start_time": "2021-09-19T11:18:46.209Z"
   },
   {
    "duration": 7,
    "start_time": "2021-09-19T11:18:46.217Z"
   },
   {
    "duration": 4,
    "start_time": "2021-09-19T11:18:46.225Z"
   },
   {
    "duration": 53,
    "start_time": "2021-09-19T11:18:46.231Z"
   },
   {
    "duration": 7,
    "start_time": "2021-09-19T11:18:46.286Z"
   },
   {
    "duration": 12,
    "start_time": "2021-09-19T11:18:46.294Z"
   },
   {
    "duration": 12,
    "start_time": "2021-09-19T11:18:46.308Z"
   },
   {
    "duration": 7,
    "start_time": "2021-09-19T11:18:46.324Z"
   },
   {
    "duration": 14,
    "start_time": "2021-09-19T11:18:46.333Z"
   },
   {
    "duration": 30,
    "start_time": "2021-09-19T11:18:46.349Z"
   },
   {
    "duration": 3840,
    "start_time": "2021-09-19T11:18:46.381Z"
   },
   {
    "duration": 16,
    "start_time": "2021-09-19T11:18:50.223Z"
   },
   {
    "duration": 16,
    "start_time": "2021-09-19T11:18:50.241Z"
   },
   {
    "duration": 21,
    "start_time": "2021-09-19T11:18:50.259Z"
   },
   {
    "duration": 7,
    "start_time": "2021-09-19T11:18:50.282Z"
   },
   {
    "duration": 3,
    "start_time": "2021-09-19T11:18:50.291Z"
   },
   {
    "duration": 12,
    "start_time": "2021-09-19T11:18:50.296Z"
   },
   {
    "duration": 24,
    "start_time": "2021-09-19T11:19:21.425Z"
   },
   {
    "duration": 12,
    "start_time": "2021-09-19T11:20:22.882Z"
   },
   {
    "duration": 9,
    "start_time": "2021-09-19T11:20:29.553Z"
   },
   {
    "duration": 8,
    "start_time": "2021-09-19T11:20:35.687Z"
   },
   {
    "duration": 10,
    "start_time": "2021-09-19T11:23:33.835Z"
   },
   {
    "duration": 15,
    "start_time": "2021-09-19T11:26:20.553Z"
   },
   {
    "duration": 7,
    "start_time": "2021-09-19T11:50:46.642Z"
   },
   {
    "duration": 9,
    "start_time": "2021-09-19T11:50:58.079Z"
   },
   {
    "duration": 4,
    "start_time": "2021-09-19T11:51:10.060Z"
   },
   {
    "duration": 10,
    "start_time": "2021-09-19T11:52:43.630Z"
   },
   {
    "duration": 16,
    "start_time": "2021-09-19T11:52:53.839Z"
   },
   {
    "duration": 38,
    "start_time": "2021-09-19T11:53:12.161Z"
   },
   {
    "duration": 16,
    "start_time": "2021-09-19T11:53:19.995Z"
   },
   {
    "duration": 25,
    "start_time": "2021-09-19T11:56:39.803Z"
   },
   {
    "duration": 24,
    "start_time": "2021-09-19T11:57:37.949Z"
   },
   {
    "duration": 3,
    "start_time": "2021-09-19T12:04:14.363Z"
   },
   {
    "duration": 14,
    "start_time": "2021-09-19T12:05:01.090Z"
   },
   {
    "duration": 18,
    "start_time": "2021-09-19T12:05:10.273Z"
   },
   {
    "duration": 4,
    "start_time": "2021-09-19T14:01:03.202Z"
   },
   {
    "duration": 8,
    "start_time": "2021-09-19T14:01:05.103Z"
   },
   {
    "duration": 16,
    "start_time": "2021-09-19T14:01:07.571Z"
   },
   {
    "duration": 23,
    "start_time": "2021-09-19T14:01:31.630Z"
   },
   {
    "duration": 33,
    "start_time": "2021-09-19T14:01:42.864Z"
   },
   {
    "duration": 43,
    "start_time": "2021-09-19T14:02:46.331Z"
   },
   {
    "duration": 14,
    "start_time": "2021-09-19T14:04:18.791Z"
   },
   {
    "duration": 7,
    "start_time": "2021-09-19T14:40:49.959Z"
   },
   {
    "duration": 926,
    "start_time": "2021-09-20T08:22:34.730Z"
   },
   {
    "duration": 70,
    "start_time": "2021-09-20T08:22:35.658Z"
   },
   {
    "duration": 46,
    "start_time": "2021-09-20T08:22:35.732Z"
   },
   {
    "duration": 18,
    "start_time": "2021-09-20T08:22:35.782Z"
   },
   {
    "duration": 18,
    "start_time": "2021-09-20T08:22:35.804Z"
   },
   {
    "duration": 26,
    "start_time": "2021-09-20T08:22:35.861Z"
   },
   {
    "duration": 12,
    "start_time": "2021-09-20T08:22:35.890Z"
   },
   {
    "duration": 18,
    "start_time": "2021-09-20T08:22:35.905Z"
   },
   {
    "duration": 44,
    "start_time": "2021-09-20T08:22:35.927Z"
   },
   {
    "duration": 35,
    "start_time": "2021-09-20T08:22:35.975Z"
   },
   {
    "duration": 22,
    "start_time": "2021-09-20T08:22:36.013Z"
   },
   {
    "duration": 26,
    "start_time": "2021-09-20T08:22:36.037Z"
   },
   {
    "duration": 12,
    "start_time": "2021-09-20T08:22:36.066Z"
   },
   {
    "duration": 30,
    "start_time": "2021-09-20T08:22:36.080Z"
   },
   {
    "duration": 15,
    "start_time": "2021-09-20T08:22:36.112Z"
   },
   {
    "duration": 24,
    "start_time": "2021-09-20T08:22:36.129Z"
   },
   {
    "duration": 29,
    "start_time": "2021-09-20T08:22:36.156Z"
   },
   {
    "duration": 14,
    "start_time": "2021-09-20T08:22:36.188Z"
   },
   {
    "duration": 18,
    "start_time": "2021-09-20T08:22:36.205Z"
   },
   {
    "duration": 13,
    "start_time": "2021-09-20T08:22:36.226Z"
   },
   {
    "duration": 25,
    "start_time": "2021-09-20T08:22:36.242Z"
   },
   {
    "duration": 31,
    "start_time": "2021-09-20T08:22:36.270Z"
   },
   {
    "duration": 15,
    "start_time": "2021-09-20T08:22:36.304Z"
   },
   {
    "duration": 21,
    "start_time": "2021-09-20T08:22:36.322Z"
   },
   {
    "duration": 27,
    "start_time": "2021-09-20T08:22:36.345Z"
   },
   {
    "duration": 11,
    "start_time": "2021-09-20T08:22:36.374Z"
   },
   {
    "duration": 19,
    "start_time": "2021-09-20T08:22:36.391Z"
   },
   {
    "duration": 19,
    "start_time": "2021-09-20T08:22:36.413Z"
   },
   {
    "duration": 4652,
    "start_time": "2021-09-20T08:22:36.463Z"
   },
   {
    "duration": 26,
    "start_time": "2021-09-20T08:22:41.118Z"
   },
   {
    "duration": 39,
    "start_time": "2021-09-20T08:22:41.162Z"
   },
   {
    "duration": 28,
    "start_time": "2021-09-20T08:22:41.203Z"
   },
   {
    "duration": 37,
    "start_time": "2021-09-20T08:22:41.234Z"
   },
   {
    "duration": 28,
    "start_time": "2021-09-20T08:22:41.274Z"
   },
   {
    "duration": 43,
    "start_time": "2021-09-20T08:22:41.304Z"
   },
   {
    "duration": 41,
    "start_time": "2021-09-20T08:22:41.350Z"
   },
   {
    "duration": 21,
    "start_time": "2021-09-20T08:22:41.394Z"
   },
   {
    "duration": 36,
    "start_time": "2021-09-20T08:22:41.417Z"
   },
   {
    "duration": 52,
    "start_time": "2021-09-20T08:22:41.456Z"
   },
   {
    "duration": 40,
    "start_time": "2021-09-20T08:22:41.510Z"
   },
   {
    "duration": 54,
    "start_time": "2021-09-20T08:22:41.553Z"
   },
   {
    "duration": 168,
    "start_time": "2021-09-20T08:24:31.763Z"
   },
   {
    "duration": 79,
    "start_time": "2021-09-20T08:28:19.223Z"
   },
   {
    "duration": 24,
    "start_time": "2021-09-20T08:44:22.693Z"
   },
   {
    "duration": 13,
    "start_time": "2021-09-20T08:44:42.322Z"
   },
   {
    "duration": 366,
    "start_time": "2021-09-20T08:48:44.944Z"
   },
   {
    "duration": 266,
    "start_time": "2021-09-20T08:48:51.256Z"
   },
   {
    "duration": 12,
    "start_time": "2021-09-20T08:49:31.448Z"
   },
   {
    "duration": 614,
    "start_time": "2021-09-20T08:50:19.813Z"
   },
   {
    "duration": 12,
    "start_time": "2021-09-20T08:50:42.918Z"
   },
   {
    "duration": 593,
    "start_time": "2021-09-20T15:15:40.659Z"
   },
   {
    "duration": 771,
    "start_time": "2021-09-20T15:15:56.771Z"
   },
   {
    "duration": 77,
    "start_time": "2021-09-20T15:15:57.545Z"
   },
   {
    "duration": 33,
    "start_time": "2021-09-20T15:15:57.626Z"
   },
   {
    "duration": 45,
    "start_time": "2021-09-20T15:15:57.662Z"
   },
   {
    "duration": 27,
    "start_time": "2021-09-20T15:15:57.710Z"
   },
   {
    "duration": 36,
    "start_time": "2021-09-20T15:15:57.740Z"
   },
   {
    "duration": 9,
    "start_time": "2021-09-20T15:15:57.778Z"
   },
   {
    "duration": 22,
    "start_time": "2021-09-20T15:15:57.790Z"
   },
   {
    "duration": 15,
    "start_time": "2021-09-20T15:15:57.816Z"
   },
   {
    "duration": 41,
    "start_time": "2021-09-20T15:15:57.835Z"
   },
   {
    "duration": 11,
    "start_time": "2021-09-20T15:15:57.879Z"
   },
   {
    "duration": 29,
    "start_time": "2021-09-20T15:15:57.893Z"
   },
   {
    "duration": 12,
    "start_time": "2021-09-20T15:15:57.924Z"
   },
   {
    "duration": 19,
    "start_time": "2021-09-20T15:15:57.939Z"
   },
   {
    "duration": 26,
    "start_time": "2021-09-20T15:15:57.960Z"
   },
   {
    "duration": 32,
    "start_time": "2021-09-20T15:15:57.989Z"
   },
   {
    "duration": 7,
    "start_time": "2021-09-20T15:15:58.024Z"
   },
   {
    "duration": 17,
    "start_time": "2021-09-20T15:15:58.033Z"
   },
   {
    "duration": 21,
    "start_time": "2021-09-20T15:15:58.053Z"
   },
   {
    "duration": 22,
    "start_time": "2021-09-20T15:15:58.076Z"
   },
   {
    "duration": 22,
    "start_time": "2021-09-20T15:15:58.101Z"
   },
   {
    "duration": 41,
    "start_time": "2021-09-20T15:15:58.125Z"
   },
   {
    "duration": 9,
    "start_time": "2021-09-20T15:15:58.168Z"
   },
   {
    "duration": 32,
    "start_time": "2021-09-20T15:15:58.179Z"
   },
   {
    "duration": 37,
    "start_time": "2021-09-20T15:15:58.214Z"
   },
   {
    "duration": 9,
    "start_time": "2021-09-20T15:15:58.254Z"
   },
   {
    "duration": 38,
    "start_time": "2021-09-20T15:15:58.268Z"
   },
   {
    "duration": 41,
    "start_time": "2021-09-20T15:15:58.309Z"
   },
   {
    "duration": 4734,
    "start_time": "2021-09-20T15:15:58.352Z"
   },
   {
    "duration": 35,
    "start_time": "2021-09-20T15:16:03.089Z"
   },
   {
    "duration": 31,
    "start_time": "2021-09-20T15:16:03.126Z"
   },
   {
    "duration": 28,
    "start_time": "2021-09-20T15:16:03.160Z"
   },
   {
    "duration": 16,
    "start_time": "2021-09-20T15:16:03.190Z"
   },
   {
    "duration": 14,
    "start_time": "2021-09-20T15:16:03.209Z"
   },
   {
    "duration": 17,
    "start_time": "2021-09-20T15:16:03.225Z"
   },
   {
    "duration": 31,
    "start_time": "2021-09-20T15:16:03.244Z"
   },
   {
    "duration": 18,
    "start_time": "2021-09-20T15:16:03.278Z"
   },
   {
    "duration": 34,
    "start_time": "2021-09-20T15:16:03.299Z"
   },
   {
    "duration": 46,
    "start_time": "2021-09-20T15:16:03.335Z"
   },
   {
    "duration": 23,
    "start_time": "2021-09-20T15:16:03.383Z"
   },
   {
    "duration": 53,
    "start_time": "2021-09-20T15:16:03.408Z"
   },
   {
    "duration": 35,
    "start_time": "2021-09-20T15:16:03.463Z"
   },
   {
    "duration": 297,
    "start_time": "2021-09-20T15:16:17.485Z"
   },
   {
    "duration": 22,
    "start_time": "2021-09-20T15:16:25.667Z"
   },
   {
    "duration": 286,
    "start_time": "2021-09-20T15:16:27.461Z"
   },
   {
    "duration": 288,
    "start_time": "2021-09-20T15:17:08.885Z"
   },
   {
    "duration": 257,
    "start_time": "2021-09-20T15:17:48.546Z"
   },
   {
    "duration": 288,
    "start_time": "2021-09-20T15:18:51.982Z"
   },
   {
    "duration": 266,
    "start_time": "2021-09-20T15:19:06.302Z"
   },
   {
    "duration": 3,
    "start_time": "2021-09-20T15:42:07.927Z"
   },
   {
    "duration": 92,
    "start_time": "2021-09-20T15:42:07.932Z"
   },
   {
    "duration": 19,
    "start_time": "2021-09-20T15:42:08.027Z"
   },
   {
    "duration": 22,
    "start_time": "2021-09-20T15:42:08.048Z"
   },
   {
    "duration": 52,
    "start_time": "2021-09-20T15:42:08.072Z"
   },
   {
    "duration": 21,
    "start_time": "2021-09-20T15:42:08.127Z"
   },
   {
    "duration": 11,
    "start_time": "2021-09-20T15:42:08.151Z"
   },
   {
    "duration": 12,
    "start_time": "2021-09-20T15:42:08.166Z"
   },
   {
    "duration": 45,
    "start_time": "2021-09-20T15:42:08.182Z"
   },
   {
    "duration": 27,
    "start_time": "2021-09-20T15:42:08.229Z"
   },
   {
    "duration": 9,
    "start_time": "2021-09-20T15:42:08.259Z"
   },
   {
    "duration": 13,
    "start_time": "2021-09-20T15:42:08.270Z"
   },
   {
    "duration": 13,
    "start_time": "2021-09-20T15:42:08.321Z"
   },
   {
    "duration": 20,
    "start_time": "2021-09-20T15:42:08.337Z"
   },
   {
    "duration": 22,
    "start_time": "2021-09-20T15:42:08.359Z"
   },
   {
    "duration": 14,
    "start_time": "2021-09-20T15:42:08.383Z"
   },
   {
    "duration": 24,
    "start_time": "2021-09-20T15:42:08.400Z"
   },
   {
    "duration": 20,
    "start_time": "2021-09-20T15:42:08.427Z"
   },
   {
    "duration": 36,
    "start_time": "2021-09-20T15:42:08.449Z"
   },
   {
    "duration": 46,
    "start_time": "2021-09-20T15:42:08.488Z"
   },
   {
    "duration": 25,
    "start_time": "2021-09-20T15:42:08.537Z"
   },
   {
    "duration": 26,
    "start_time": "2021-09-20T15:42:08.565Z"
   },
   {
    "duration": 7,
    "start_time": "2021-09-20T15:42:08.598Z"
   },
   {
    "duration": 20,
    "start_time": "2021-09-20T15:42:08.609Z"
   },
   {
    "duration": 31,
    "start_time": "2021-09-20T15:42:08.633Z"
   },
   {
    "duration": 18,
    "start_time": "2021-09-20T15:42:08.667Z"
   },
   {
    "duration": 28,
    "start_time": "2021-09-20T15:42:08.688Z"
   },
   {
    "duration": 19,
    "start_time": "2021-09-20T15:42:08.719Z"
   },
   {
    "duration": 4600,
    "start_time": "2021-09-20T15:42:08.741Z"
   },
   {
    "duration": 25,
    "start_time": "2021-09-20T15:42:13.344Z"
   },
   {
    "duration": 26,
    "start_time": "2021-09-20T15:42:13.372Z"
   },
   {
    "duration": 34,
    "start_time": "2021-09-20T15:42:13.401Z"
   },
   {
    "duration": 23,
    "start_time": "2021-09-20T15:42:13.438Z"
   },
   {
    "duration": 43,
    "start_time": "2021-09-20T15:42:13.463Z"
   },
   {
    "duration": 30,
    "start_time": "2021-09-20T15:42:13.508Z"
   },
   {
    "duration": 16,
    "start_time": "2021-09-20T15:42:13.541Z"
   },
   {
    "duration": 44,
    "start_time": "2021-09-20T15:42:13.559Z"
   },
   {
    "duration": 25,
    "start_time": "2021-09-20T15:43:49.535Z"
   },
   {
    "duration": 11,
    "start_time": "2021-09-20T15:45:39.986Z"
   },
   {
    "duration": 28,
    "start_time": "2021-09-20T15:47:28.458Z"
   },
   {
    "duration": 19,
    "start_time": "2021-09-20T15:47:36.783Z"
   },
   {
    "duration": 12,
    "start_time": "2021-09-20T15:47:44.295Z"
   },
   {
    "duration": 37,
    "start_time": "2021-09-20T15:49:01.670Z"
   },
   {
    "duration": 17,
    "start_time": "2021-09-20T15:50:37.682Z"
   },
   {
    "duration": 19,
    "start_time": "2021-09-20T15:50:47.312Z"
   },
   {
    "duration": 12,
    "start_time": "2021-09-20T15:50:48.846Z"
   },
   {
    "duration": 13,
    "start_time": "2021-09-20T15:51:04.202Z"
   },
   {
    "duration": 12,
    "start_time": "2021-09-20T15:51:10.520Z"
   },
   {
    "duration": 283,
    "start_time": "2021-09-20T15:51:47.000Z"
   },
   {
    "duration": 287,
    "start_time": "2021-09-20T15:52:07.660Z"
   },
   {
    "duration": 282,
    "start_time": "2021-09-20T15:52:19.822Z"
   },
   {
    "duration": 10,
    "start_time": "2021-09-20T15:52:46.996Z"
   },
   {
    "duration": 9,
    "start_time": "2021-09-20T15:52:54.967Z"
   },
   {
    "duration": 9,
    "start_time": "2021-09-20T15:53:24.750Z"
   },
   {
    "duration": 8,
    "start_time": "2021-09-20T15:54:02.216Z"
   },
   {
    "duration": 14,
    "start_time": "2021-09-20T16:09:41.372Z"
   },
   {
    "duration": 16,
    "start_time": "2021-09-20T16:09:47.768Z"
   },
   {
    "duration": 12,
    "start_time": "2021-09-20T16:10:06.860Z"
   },
   {
    "duration": 14,
    "start_time": "2021-09-20T16:11:51.790Z"
   },
   {
    "duration": 12,
    "start_time": "2021-09-20T16:11:59.302Z"
   },
   {
    "duration": 12,
    "start_time": "2021-09-20T16:13:17.031Z"
   },
   {
    "duration": 11,
    "start_time": "2021-09-20T16:17:36.984Z"
   },
   {
    "duration": 12,
    "start_time": "2021-09-20T16:28:19.176Z"
   },
   {
    "duration": 22,
    "start_time": "2021-09-20T16:29:26.192Z"
   },
   {
    "duration": 12,
    "start_time": "2021-09-20T16:29:27.685Z"
   },
   {
    "duration": 11,
    "start_time": "2021-09-20T16:30:17.961Z"
   },
   {
    "duration": 22,
    "start_time": "2021-09-20T16:42:40.961Z"
   },
   {
    "duration": 23,
    "start_time": "2021-09-20T16:42:50.084Z"
   },
   {
    "duration": 344,
    "start_time": "2021-09-20T16:50:42.834Z"
   },
   {
    "duration": 28,
    "start_time": "2021-09-20T16:51:11.631Z"
   },
   {
    "duration": 17,
    "start_time": "2021-09-20T16:51:47.677Z"
   },
   {
    "duration": 11,
    "start_time": "2021-09-20T16:51:57.084Z"
   },
   {
    "duration": 5,
    "start_time": "2021-09-20T16:55:52.552Z"
   },
   {
    "duration": 8,
    "start_time": "2021-09-20T16:56:13.767Z"
   },
   {
    "duration": 12,
    "start_time": "2021-09-20T16:56:15.871Z"
   },
   {
    "duration": 9,
    "start_time": "2021-09-20T16:56:27.827Z"
   },
   {
    "duration": 12,
    "start_time": "2021-09-20T16:56:32.575Z"
   },
   {
    "duration": 8,
    "start_time": "2021-09-20T16:56:53.199Z"
   },
   {
    "duration": 12,
    "start_time": "2021-09-20T16:56:55.199Z"
   },
   {
    "duration": 699,
    "start_time": "2021-09-21T08:18:16.952Z"
   },
   {
    "duration": 52,
    "start_time": "2021-09-21T08:18:17.653Z"
   },
   {
    "duration": 19,
    "start_time": "2021-09-21T08:18:17.707Z"
   },
   {
    "duration": 12,
    "start_time": "2021-09-21T08:18:17.728Z"
   },
   {
    "duration": 11,
    "start_time": "2021-09-21T08:18:17.742Z"
   },
   {
    "duration": 15,
    "start_time": "2021-09-21T08:18:17.777Z"
   },
   {
    "duration": 6,
    "start_time": "2021-09-21T08:18:17.794Z"
   },
   {
    "duration": 4,
    "start_time": "2021-09-21T08:18:17.802Z"
   },
   {
    "duration": 5,
    "start_time": "2021-09-21T08:18:17.809Z"
   },
   {
    "duration": 13,
    "start_time": "2021-09-21T08:18:17.816Z"
   },
   {
    "duration": 6,
    "start_time": "2021-09-21T08:18:17.831Z"
   },
   {
    "duration": 8,
    "start_time": "2021-09-21T08:18:17.877Z"
   },
   {
    "duration": 9,
    "start_time": "2021-09-21T08:18:17.887Z"
   },
   {
    "duration": 7,
    "start_time": "2021-09-21T08:18:17.898Z"
   },
   {
    "duration": 7,
    "start_time": "2021-09-21T08:18:17.907Z"
   },
   {
    "duration": 6,
    "start_time": "2021-09-21T08:18:17.915Z"
   },
   {
    "duration": 4,
    "start_time": "2021-09-21T08:18:17.923Z"
   },
   {
    "duration": 6,
    "start_time": "2021-09-21T08:18:17.977Z"
   },
   {
    "duration": 6,
    "start_time": "2021-09-21T08:18:17.984Z"
   },
   {
    "duration": 4,
    "start_time": "2021-09-21T08:18:17.992Z"
   },
   {
    "duration": 5,
    "start_time": "2021-09-21T08:18:17.997Z"
   },
   {
    "duration": 14,
    "start_time": "2021-09-21T08:18:18.004Z"
   },
   {
    "duration": 6,
    "start_time": "2021-09-21T08:18:18.019Z"
   },
   {
    "duration": 17,
    "start_time": "2021-09-21T08:18:18.026Z"
   },
   {
    "duration": 46,
    "start_time": "2021-09-21T08:18:18.045Z"
   },
   {
    "duration": 7,
    "start_time": "2021-09-21T08:18:18.092Z"
   },
   {
    "duration": 14,
    "start_time": "2021-09-21T08:18:18.102Z"
   },
   {
    "duration": 9,
    "start_time": "2021-09-21T08:18:18.118Z"
   },
   {
    "duration": 3754,
    "start_time": "2021-09-21T08:18:18.128Z"
   },
   {
    "duration": 13,
    "start_time": "2021-09-21T08:18:21.884Z"
   },
   {
    "duration": 10,
    "start_time": "2021-09-21T08:18:21.899Z"
   },
   {
    "duration": 8,
    "start_time": "2021-09-21T08:18:21.911Z"
   },
   {
    "duration": 5,
    "start_time": "2021-09-21T08:18:21.920Z"
   },
   {
    "duration": 13,
    "start_time": "2021-09-21T08:18:21.926Z"
   },
   {
    "duration": 41,
    "start_time": "2021-09-21T08:18:21.940Z"
   },
   {
    "duration": 3,
    "start_time": "2021-09-21T08:18:21.983Z"
   },
   {
    "duration": 15,
    "start_time": "2021-09-21T08:18:21.988Z"
   },
   {
    "duration": 19,
    "start_time": "2021-09-21T08:18:22.005Z"
   },
   {
    "duration": 7,
    "start_time": "2021-09-21T08:18:22.026Z"
   },
   {
    "duration": 46,
    "start_time": "2021-09-21T08:18:22.034Z"
   },
   {
    "duration": 2,
    "start_time": "2021-09-21T08:18:22.082Z"
   },
   {
    "duration": 9,
    "start_time": "2021-09-21T08:18:22.086Z"
   },
   {
    "duration": 6,
    "start_time": "2021-09-21T08:18:41.429Z"
   },
   {
    "duration": 6,
    "start_time": "2021-09-21T08:18:45.834Z"
   },
   {
    "duration": 5,
    "start_time": "2021-09-21T08:18:59.889Z"
   },
   {
    "duration": 9,
    "start_time": "2021-09-21T08:19:03.353Z"
   },
   {
    "duration": 9,
    "start_time": "2021-09-21T08:57:10.101Z"
   },
   {
    "duration": 3,
    "start_time": "2021-09-21T08:57:29.626Z"
   },
   {
    "duration": 60,
    "start_time": "2021-09-21T08:57:29.631Z"
   },
   {
    "duration": 12,
    "start_time": "2021-09-21T08:57:29.693Z"
   },
   {
    "duration": 19,
    "start_time": "2021-09-21T08:57:29.707Z"
   },
   {
    "duration": 15,
    "start_time": "2021-09-21T08:57:29.728Z"
   },
   {
    "duration": 39,
    "start_time": "2021-09-21T08:57:29.745Z"
   },
   {
    "duration": 6,
    "start_time": "2021-09-21T08:57:29.787Z"
   },
   {
    "duration": 13,
    "start_time": "2021-09-21T08:57:29.795Z"
   },
   {
    "duration": 16,
    "start_time": "2021-09-21T08:57:29.810Z"
   },
   {
    "duration": 20,
    "start_time": "2021-09-21T08:57:29.827Z"
   },
   {
    "duration": 11,
    "start_time": "2021-09-21T08:57:29.849Z"
   },
   {
    "duration": 16,
    "start_time": "2021-09-21T08:57:29.862Z"
   },
   {
    "duration": 12,
    "start_time": "2021-09-21T08:57:29.880Z"
   },
   {
    "duration": 7,
    "start_time": "2021-09-21T08:57:29.894Z"
   },
   {
    "duration": 5,
    "start_time": "2021-09-21T08:57:29.903Z"
   },
   {
    "duration": 5,
    "start_time": "2021-09-21T08:57:29.909Z"
   },
   {
    "duration": 5,
    "start_time": "2021-09-21T08:57:29.915Z"
   },
   {
    "duration": 4,
    "start_time": "2021-09-21T08:57:29.922Z"
   },
   {
    "duration": 4,
    "start_time": "2021-09-21T08:57:29.930Z"
   },
   {
    "duration": 41,
    "start_time": "2021-09-21T08:57:29.936Z"
   },
   {
    "duration": 3,
    "start_time": "2021-09-21T08:57:29.979Z"
   },
   {
    "duration": 17,
    "start_time": "2021-09-21T08:57:29.983Z"
   },
   {
    "duration": 11,
    "start_time": "2021-09-21T08:57:30.002Z"
   },
   {
    "duration": 39,
    "start_time": "2021-09-21T08:57:30.014Z"
   },
   {
    "duration": 25,
    "start_time": "2021-09-21T08:57:30.055Z"
   },
   {
    "duration": 7,
    "start_time": "2021-09-21T08:57:30.082Z"
   },
   {
    "duration": 16,
    "start_time": "2021-09-21T08:57:30.091Z"
   },
   {
    "duration": 24,
    "start_time": "2021-09-21T08:57:30.109Z"
   },
   {
    "duration": 3715,
    "start_time": "2021-09-21T08:57:30.135Z"
   },
   {
    "duration": 25,
    "start_time": "2021-09-21T08:57:33.852Z"
   },
   {
    "duration": 35,
    "start_time": "2021-09-21T08:57:33.879Z"
   },
   {
    "duration": 17,
    "start_time": "2021-09-21T08:57:33.915Z"
   },
   {
    "duration": 17,
    "start_time": "2021-09-21T08:57:33.934Z"
   },
   {
    "duration": 21,
    "start_time": "2021-09-21T08:57:33.953Z"
   },
   {
    "duration": 19,
    "start_time": "2021-09-21T08:57:33.976Z"
   },
   {
    "duration": 17,
    "start_time": "2021-09-21T08:57:33.997Z"
   },
   {
    "duration": 32,
    "start_time": "2021-09-21T08:57:34.016Z"
   },
   {
    "duration": 27,
    "start_time": "2021-09-21T08:57:34.049Z"
   },
   {
    "duration": 26,
    "start_time": "2021-09-21T08:57:34.078Z"
   },
   {
    "duration": 35,
    "start_time": "2021-09-21T08:57:34.105Z"
   },
   {
    "duration": 7,
    "start_time": "2021-09-21T08:57:34.142Z"
   },
   {
    "duration": 27,
    "start_time": "2021-09-21T11:49:33.817Z"
   },
   {
    "duration": 25,
    "start_time": "2021-09-21T11:49:42.988Z"
   },
   {
    "duration": 469,
    "start_time": "2021-09-21T11:50:14.839Z"
   },
   {
    "duration": 10,
    "start_time": "2021-09-21T11:50:29.851Z"
   },
   {
    "duration": 9,
    "start_time": "2021-09-21T11:51:51.861Z"
   },
   {
    "duration": 9,
    "start_time": "2021-09-21T11:54:06.385Z"
   },
   {
    "duration": 12,
    "start_time": "2021-09-21T11:54:18.548Z"
   },
   {
    "duration": 9,
    "start_time": "2021-09-21T11:54:30.519Z"
   },
   {
    "duration": 372,
    "start_time": "2021-09-21T12:43:17.105Z"
   },
   {
    "duration": 2,
    "start_time": "2021-09-21T12:43:28.222Z"
   },
   {
    "duration": 58,
    "start_time": "2021-09-21T12:43:28.226Z"
   },
   {
    "duration": 12,
    "start_time": "2021-09-21T12:43:28.287Z"
   },
   {
    "duration": 16,
    "start_time": "2021-09-21T12:43:28.301Z"
   },
   {
    "duration": 11,
    "start_time": "2021-09-21T12:43:28.319Z"
   },
   {
    "duration": 14,
    "start_time": "2021-09-21T12:43:28.331Z"
   },
   {
    "duration": 6,
    "start_time": "2021-09-21T12:43:28.376Z"
   },
   {
    "duration": 4,
    "start_time": "2021-09-21T12:43:28.384Z"
   },
   {
    "duration": 6,
    "start_time": "2021-09-21T12:43:28.390Z"
   },
   {
    "duration": 14,
    "start_time": "2021-09-21T12:43:28.398Z"
   },
   {
    "duration": 6,
    "start_time": "2021-09-21T12:43:28.414Z"
   },
   {
    "duration": 11,
    "start_time": "2021-09-21T12:43:28.421Z"
   },
   {
    "duration": 48,
    "start_time": "2021-09-21T12:43:28.433Z"
   },
   {
    "duration": 9,
    "start_time": "2021-09-21T12:43:28.483Z"
   },
   {
    "duration": 7,
    "start_time": "2021-09-21T12:43:28.493Z"
   },
   {
    "duration": 4,
    "start_time": "2021-09-21T12:43:28.502Z"
   },
   {
    "duration": 9,
    "start_time": "2021-09-21T12:43:28.508Z"
   },
   {
    "duration": 5,
    "start_time": "2021-09-21T12:43:28.518Z"
   },
   {
    "duration": 4,
    "start_time": "2021-09-21T12:43:28.527Z"
   },
   {
    "duration": 4,
    "start_time": "2021-09-21T12:43:28.534Z"
   },
   {
    "duration": 39,
    "start_time": "2021-09-21T12:43:28.539Z"
   },
   {
    "duration": 11,
    "start_time": "2021-09-21T12:43:28.580Z"
   },
   {
    "duration": 4,
    "start_time": "2021-09-21T12:43:28.593Z"
   },
   {
    "duration": 13,
    "start_time": "2021-09-21T12:43:28.598Z"
   },
   {
    "duration": 10,
    "start_time": "2021-09-21T12:43:28.612Z"
   },
   {
    "duration": 6,
    "start_time": "2021-09-21T12:43:28.624Z"
   },
   {
    "duration": 50,
    "start_time": "2021-09-21T12:43:28.632Z"
   },
   {
    "duration": 14,
    "start_time": "2021-09-21T12:43:28.684Z"
   },
   {
    "duration": 3658,
    "start_time": "2021-09-21T12:43:28.700Z"
   },
   {
    "duration": 28,
    "start_time": "2021-09-21T12:43:32.359Z"
   },
   {
    "duration": 18,
    "start_time": "2021-09-21T12:43:32.389Z"
   },
   {
    "duration": 18,
    "start_time": "2021-09-21T12:43:32.409Z"
   },
   {
    "duration": 17,
    "start_time": "2021-09-21T12:43:32.429Z"
   },
   {
    "duration": 25,
    "start_time": "2021-09-21T12:43:32.448Z"
   },
   {
    "duration": 33,
    "start_time": "2021-09-21T12:43:32.475Z"
   },
   {
    "duration": 22,
    "start_time": "2021-09-21T12:43:32.510Z"
   },
   {
    "duration": 62,
    "start_time": "2021-09-21T12:43:32.534Z"
   },
   {
    "duration": 33,
    "start_time": "2021-09-21T12:43:32.598Z"
   },
   {
    "duration": 34,
    "start_time": "2021-09-21T12:43:32.632Z"
   },
   {
    "duration": 28,
    "start_time": "2021-09-21T12:43:32.667Z"
   },
   {
    "duration": 9,
    "start_time": "2021-09-21T12:43:32.696Z"
   },
   {
    "duration": 5,
    "start_time": "2021-09-21T12:43:32.706Z"
   },
   {
    "duration": 8,
    "start_time": "2021-09-21T12:43:32.713Z"
   },
   {
    "duration": 12,
    "start_time": "2021-09-21T12:43:32.723Z"
   },
   {
    "duration": 11,
    "start_time": "2021-09-21T12:43:32.737Z"
   },
   {
    "duration": 34,
    "start_time": "2021-09-21T12:43:32.750Z"
   },
   {
    "duration": 9,
    "start_time": "2021-09-21T12:43:32.786Z"
   },
   {
    "duration": 7,
    "start_time": "2021-09-21T12:48:06.874Z"
   },
   {
    "duration": 8,
    "start_time": "2021-09-21T12:48:10.748Z"
   },
   {
    "duration": 9,
    "start_time": "2021-09-21T12:48:17.362Z"
   },
   {
    "duration": 371,
    "start_time": "2021-09-21T12:54:28.697Z"
   },
   {
    "duration": 3,
    "start_time": "2021-09-21T12:54:41.547Z"
   },
   {
    "duration": 56,
    "start_time": "2021-09-21T12:54:41.553Z"
   },
   {
    "duration": 13,
    "start_time": "2021-09-21T12:54:41.611Z"
   },
   {
    "duration": 14,
    "start_time": "2021-09-21T12:54:41.626Z"
   },
   {
    "duration": 44,
    "start_time": "2021-09-21T12:54:41.643Z"
   },
   {
    "duration": 20,
    "start_time": "2021-09-21T12:54:41.689Z"
   },
   {
    "duration": 6,
    "start_time": "2021-09-21T12:54:41.711Z"
   },
   {
    "duration": 4,
    "start_time": "2021-09-21T12:54:41.718Z"
   },
   {
    "duration": 5,
    "start_time": "2021-09-21T12:54:41.725Z"
   },
   {
    "duration": 51,
    "start_time": "2021-09-21T12:54:41.732Z"
   },
   {
    "duration": 6,
    "start_time": "2021-09-21T12:54:41.785Z"
   },
   {
    "duration": 11,
    "start_time": "2021-09-21T12:54:41.793Z"
   },
   {
    "duration": 14,
    "start_time": "2021-09-21T12:54:41.806Z"
   },
   {
    "duration": 7,
    "start_time": "2021-09-21T12:54:41.822Z"
   },
   {
    "duration": 9,
    "start_time": "2021-09-21T12:54:41.830Z"
   },
   {
    "duration": 8,
    "start_time": "2021-09-21T12:54:41.841Z"
   },
   {
    "duration": 4,
    "start_time": "2021-09-21T12:54:41.877Z"
   },
   {
    "duration": 10,
    "start_time": "2021-09-21T12:54:41.883Z"
   },
   {
    "duration": 6,
    "start_time": "2021-09-21T12:54:41.894Z"
   },
   {
    "duration": 5,
    "start_time": "2021-09-21T12:54:41.902Z"
   },
   {
    "duration": 6,
    "start_time": "2021-09-21T12:54:41.908Z"
   },
   {
    "duration": 12,
    "start_time": "2021-09-21T12:54:41.915Z"
   },
   {
    "duration": 5,
    "start_time": "2021-09-21T12:54:41.928Z"
   },
   {
    "duration": 45,
    "start_time": "2021-09-21T12:54:41.937Z"
   },
   {
    "duration": 13,
    "start_time": "2021-09-21T12:54:41.984Z"
   },
   {
    "duration": 7,
    "start_time": "2021-09-21T12:54:41.999Z"
   },
   {
    "duration": 13,
    "start_time": "2021-09-21T12:54:42.008Z"
   },
   {
    "duration": 11,
    "start_time": "2021-09-21T12:54:42.023Z"
   },
   {
    "duration": 4065,
    "start_time": "2021-09-21T12:54:42.036Z"
   },
   {
    "duration": 19,
    "start_time": "2021-09-21T12:54:46.104Z"
   },
   {
    "duration": 10,
    "start_time": "2021-09-21T12:54:46.125Z"
   },
   {
    "duration": 13,
    "start_time": "2021-09-21T12:54:46.137Z"
   },
   {
    "duration": 24,
    "start_time": "2021-09-21T12:54:46.152Z"
   },
   {
    "duration": 12,
    "start_time": "2021-09-21T12:54:46.178Z"
   },
   {
    "duration": 17,
    "start_time": "2021-09-21T12:54:46.192Z"
   },
   {
    "duration": 6,
    "start_time": "2021-09-21T12:54:46.211Z"
   },
   {
    "duration": 21,
    "start_time": "2021-09-21T12:54:46.218Z"
   },
   {
    "duration": 18,
    "start_time": "2021-09-21T12:54:46.240Z"
   },
   {
    "duration": 22,
    "start_time": "2021-09-21T12:54:46.260Z"
   },
   {
    "duration": 21,
    "start_time": "2021-09-21T12:54:46.283Z"
   },
   {
    "duration": 7,
    "start_time": "2021-09-21T12:54:46.306Z"
   },
   {
    "duration": 6,
    "start_time": "2021-09-21T12:54:46.315Z"
   },
   {
    "duration": 8,
    "start_time": "2021-09-21T12:54:46.323Z"
   },
   {
    "duration": 10,
    "start_time": "2021-09-21T12:54:46.332Z"
   },
   {
    "duration": 38,
    "start_time": "2021-09-21T12:54:46.344Z"
   },
   {
    "duration": 8,
    "start_time": "2021-09-21T12:54:46.384Z"
   },
   {
    "duration": 7,
    "start_time": "2021-09-21T12:54:46.394Z"
   },
   {
    "duration": 10,
    "start_time": "2021-09-21T12:54:46.403Z"
   },
   {
    "duration": 13,
    "start_time": "2021-09-21T12:54:46.414Z"
   },
   {
    "duration": 43,
    "start_time": "2021-09-21T12:54:46.429Z"
   },
   {
    "duration": 17,
    "start_time": "2021-09-21T12:54:46.474Z"
   },
   {
    "duration": 6,
    "start_time": "2021-09-21T12:54:50.979Z"
   },
   {
    "duration": 9,
    "start_time": "2021-09-21T12:54:58.004Z"
   },
   {
    "duration": 10,
    "start_time": "2021-09-21T12:55:52.936Z"
   },
   {
    "duration": 8,
    "start_time": "2021-09-21T12:55:55.246Z"
   },
   {
    "duration": 6,
    "start_time": "2021-09-21T12:56:37.368Z"
   },
   {
    "duration": 8,
    "start_time": "2021-09-21T12:57:20.844Z"
   },
   {
    "duration": 8,
    "start_time": "2021-09-21T12:57:22.764Z"
   },
   {
    "duration": 6,
    "start_time": "2021-09-21T12:57:58.765Z"
   },
   {
    "duration": 9,
    "start_time": "2021-09-21T12:58:08.150Z"
   },
   {
    "duration": 11,
    "start_time": "2021-09-21T13:48:53.713Z"
   },
   {
    "duration": 9,
    "start_time": "2021-09-21T13:49:03.604Z"
   },
   {
    "duration": 8,
    "start_time": "2021-09-21T13:49:07.228Z"
   },
   {
    "duration": 415,
    "start_time": "2021-09-21T16:05:22.744Z"
   },
   {
    "duration": 626,
    "start_time": "2021-09-21T16:05:30.833Z"
   },
   {
    "duration": 52,
    "start_time": "2021-09-21T16:05:31.461Z"
   },
   {
    "duration": 19,
    "start_time": "2021-09-21T16:05:31.516Z"
   },
   {
    "duration": 15,
    "start_time": "2021-09-21T16:05:31.538Z"
   },
   {
    "duration": 29,
    "start_time": "2021-09-21T16:05:31.555Z"
   },
   {
    "duration": 16,
    "start_time": "2021-09-21T16:05:31.585Z"
   },
   {
    "duration": 7,
    "start_time": "2021-09-21T16:05:31.602Z"
   },
   {
    "duration": 13,
    "start_time": "2021-09-21T16:05:31.610Z"
   },
   {
    "duration": 9,
    "start_time": "2021-09-21T16:05:31.626Z"
   },
   {
    "duration": 44,
    "start_time": "2021-09-21T16:05:31.638Z"
   },
   {
    "duration": 6,
    "start_time": "2021-09-21T16:05:31.684Z"
   },
   {
    "duration": 17,
    "start_time": "2021-09-21T16:05:31.692Z"
   },
   {
    "duration": 8,
    "start_time": "2021-09-21T16:05:31.710Z"
   },
   {
    "duration": 16,
    "start_time": "2021-09-21T16:05:31.720Z"
   },
   {
    "duration": 14,
    "start_time": "2021-09-21T16:05:31.737Z"
   },
   {
    "duration": 24,
    "start_time": "2021-09-21T16:05:31.752Z"
   },
   {
    "duration": 5,
    "start_time": "2021-09-21T16:05:31.778Z"
   },
   {
    "duration": 15,
    "start_time": "2021-09-21T16:05:31.785Z"
   },
   {
    "duration": 6,
    "start_time": "2021-09-21T16:05:31.802Z"
   },
   {
    "duration": 8,
    "start_time": "2021-09-21T16:05:31.810Z"
   },
   {
    "duration": 8,
    "start_time": "2021-09-21T16:05:31.820Z"
   },
   {
    "duration": 21,
    "start_time": "2021-09-21T16:05:31.829Z"
   },
   {
    "duration": 26,
    "start_time": "2021-09-21T16:05:31.852Z"
   },
   {
    "duration": 18,
    "start_time": "2021-09-21T16:05:31.881Z"
   },
   {
    "duration": 23,
    "start_time": "2021-09-21T16:05:31.901Z"
   },
   {
    "duration": 11,
    "start_time": "2021-09-21T16:05:31.926Z"
   },
   {
    "duration": 35,
    "start_time": "2021-09-21T16:05:31.942Z"
   },
   {
    "duration": 12,
    "start_time": "2021-09-21T16:05:31.980Z"
   },
   {
    "duration": 4083,
    "start_time": "2021-09-21T16:05:31.994Z"
   },
   {
    "duration": 14,
    "start_time": "2021-09-21T16:05:36.079Z"
   },
   {
    "duration": 14,
    "start_time": "2021-09-21T16:05:36.095Z"
   },
   {
    "duration": 13,
    "start_time": "2021-09-21T16:05:36.111Z"
   },
   {
    "duration": 11,
    "start_time": "2021-09-21T16:05:36.126Z"
   },
   {
    "duration": 19,
    "start_time": "2021-09-21T16:05:36.139Z"
   },
   {
    "duration": 17,
    "start_time": "2021-09-21T16:05:36.160Z"
   },
   {
    "duration": 4,
    "start_time": "2021-09-21T16:05:36.179Z"
   },
   {
    "duration": 18,
    "start_time": "2021-09-21T16:05:36.184Z"
   },
   {
    "duration": 18,
    "start_time": "2021-09-21T16:05:36.204Z"
   },
   {
    "duration": 10,
    "start_time": "2021-09-21T16:05:36.224Z"
   },
   {
    "duration": 34,
    "start_time": "2021-09-21T16:05:36.236Z"
   },
   {
    "duration": 8,
    "start_time": "2021-09-21T16:05:36.272Z"
   },
   {
    "duration": 4,
    "start_time": "2021-09-21T16:05:36.282Z"
   },
   {
    "duration": 12,
    "start_time": "2021-09-21T16:05:36.288Z"
   },
   {
    "duration": 10,
    "start_time": "2021-09-21T16:05:36.302Z"
   },
   {
    "duration": 12,
    "start_time": "2021-09-21T16:05:36.314Z"
   },
   {
    "duration": 9,
    "start_time": "2021-09-21T16:05:36.329Z"
   },
   {
    "duration": 8,
    "start_time": "2021-09-21T16:05:36.340Z"
   },
   {
    "duration": 7,
    "start_time": "2021-09-21T16:05:36.349Z"
   },
   {
    "duration": 10,
    "start_time": "2021-09-21T16:05:59.462Z"
   },
   {
    "duration": 8,
    "start_time": "2021-09-21T16:21:00.994Z"
   },
   {
    "duration": 12,
    "start_time": "2021-09-21T16:21:07.433Z"
   },
   {
    "duration": 484,
    "start_time": "2021-09-22T16:49:25.172Z"
   },
   {
    "duration": 760,
    "start_time": "2021-09-22T16:49:31.434Z"
   },
   {
    "duration": 66,
    "start_time": "2021-09-22T16:49:32.197Z"
   },
   {
    "duration": 28,
    "start_time": "2021-09-22T16:49:32.266Z"
   },
   {
    "duration": 26,
    "start_time": "2021-09-22T16:49:32.297Z"
   },
   {
    "duration": 15,
    "start_time": "2021-09-22T16:49:32.326Z"
   },
   {
    "duration": 21,
    "start_time": "2021-09-22T16:49:32.343Z"
   },
   {
    "duration": 9,
    "start_time": "2021-09-22T16:49:32.367Z"
   },
   {
    "duration": 7,
    "start_time": "2021-09-22T16:49:32.416Z"
   },
   {
    "duration": 11,
    "start_time": "2021-09-22T16:49:32.427Z"
   },
   {
    "duration": 21,
    "start_time": "2021-09-22T16:49:32.441Z"
   },
   {
    "duration": 9,
    "start_time": "2021-09-22T16:49:32.464Z"
   },
   {
    "duration": 47,
    "start_time": "2021-09-22T16:49:32.476Z"
   },
   {
    "duration": 11,
    "start_time": "2021-09-22T16:49:32.525Z"
   },
   {
    "duration": 15,
    "start_time": "2021-09-22T16:49:32.539Z"
   },
   {
    "duration": 9,
    "start_time": "2021-09-22T16:49:32.556Z"
   },
   {
    "duration": 16,
    "start_time": "2021-09-22T16:49:32.567Z"
   },
   {
    "duration": 32,
    "start_time": "2021-09-22T16:49:32.585Z"
   },
   {
    "duration": 12,
    "start_time": "2021-09-22T16:49:32.619Z"
   },
   {
    "duration": 10,
    "start_time": "2021-09-22T16:49:32.633Z"
   },
   {
    "duration": 8,
    "start_time": "2021-09-22T16:49:32.645Z"
   },
   {
    "duration": 8,
    "start_time": "2021-09-22T16:49:32.655Z"
   },
   {
    "duration": 24,
    "start_time": "2021-09-22T16:49:32.665Z"
   },
   {
    "duration": 10,
    "start_time": "2021-09-22T16:49:32.716Z"
   },
   {
    "duration": 26,
    "start_time": "2021-09-22T16:49:32.728Z"
   },
   {
    "duration": 16,
    "start_time": "2021-09-22T16:49:32.756Z"
   },
   {
    "duration": 10,
    "start_time": "2021-09-22T16:49:32.774Z"
   },
   {
    "duration": 16,
    "start_time": "2021-09-22T16:49:32.817Z"
   },
   {
    "duration": 18,
    "start_time": "2021-09-22T16:49:32.835Z"
   },
   {
    "duration": 4590,
    "start_time": "2021-09-22T16:49:32.855Z"
   },
   {
    "duration": 20,
    "start_time": "2021-09-22T16:49:37.447Z"
   },
   {
    "duration": 15,
    "start_time": "2021-09-22T16:49:37.470Z"
   },
   {
    "duration": 34,
    "start_time": "2021-09-22T16:49:37.488Z"
   },
   {
    "duration": 20,
    "start_time": "2021-09-22T16:49:46.118Z"
   },
   {
    "duration": 7,
    "start_time": "2021-09-22T16:50:38.886Z"
   },
   {
    "duration": 6,
    "start_time": "2021-09-22T16:50:48.584Z"
   },
   {
    "duration": 7,
    "start_time": "2021-09-22T16:50:55.986Z"
   },
   {
    "duration": 10,
    "start_time": "2021-09-22T16:54:13.232Z"
   },
   {
    "duration": 39,
    "start_time": "2021-09-22T16:54:37.669Z"
   },
   {
    "duration": 15,
    "start_time": "2021-09-22T16:54:45.994Z"
   },
   {
    "duration": 16,
    "start_time": "2021-09-22T16:55:04.072Z"
   },
   {
    "duration": 20,
    "start_time": "2021-09-22T16:57:32.516Z"
   },
   {
    "duration": 7,
    "start_time": "2021-09-22T16:58:03.411Z"
   },
   {
    "duration": 29,
    "start_time": "2021-09-22T16:58:09.890Z"
   },
   {
    "duration": 13,
    "start_time": "2021-09-22T16:58:18.812Z"
   },
   {
    "duration": 13,
    "start_time": "2021-09-22T16:59:37.033Z"
   },
   {
    "duration": 16,
    "start_time": "2021-09-22T17:00:19.625Z"
   },
   {
    "duration": 14,
    "start_time": "2021-09-22T17:01:20.155Z"
   },
   {
    "duration": 6,
    "start_time": "2021-09-22T17:01:28.257Z"
   },
   {
    "duration": 13,
    "start_time": "2021-09-22T17:02:04.790Z"
   },
   {
    "duration": 5,
    "start_time": "2021-09-22T17:02:17.365Z"
   },
   {
    "duration": 11,
    "start_time": "2021-09-22T17:08:13.927Z"
   },
   {
    "duration": 14,
    "start_time": "2021-09-22T17:08:13.941Z"
   },
   {
    "duration": 36190,
    "start_time": "2021-09-22T17:08:31.318Z"
   },
   {
    "duration": 11,
    "start_time": "2021-09-22T17:09:34.193Z"
   },
   {
    "duration": 6,
    "start_time": "2021-09-22T17:10:38.604Z"
   },
   {
    "duration": 12,
    "start_time": "2021-09-22T17:10:42.859Z"
   },
   {
    "duration": 6,
    "start_time": "2021-09-22T17:11:04.844Z"
   },
   {
    "duration": 5,
    "start_time": "2021-09-22T17:16:57.685Z"
   },
   {
    "duration": 13,
    "start_time": "2021-09-22T17:17:37.493Z"
   },
   {
    "duration": 15,
    "start_time": "2021-09-22T17:18:11.198Z"
   },
   {
    "duration": 18,
    "start_time": "2021-09-22T17:18:22.366Z"
   },
   {
    "duration": 21,
    "start_time": "2021-09-22T17:18:26.681Z"
   },
   {
    "duration": 16,
    "start_time": "2021-09-22T17:18:33.681Z"
   },
   {
    "duration": 15,
    "start_time": "2021-09-22T17:19:13.427Z"
   },
   {
    "duration": 16,
    "start_time": "2021-09-22T17:19:16.265Z"
   },
   {
    "duration": 16,
    "start_time": "2021-09-22T17:19:21.953Z"
   },
   {
    "duration": 17,
    "start_time": "2021-09-22T17:19:35.789Z"
   },
   {
    "duration": 11,
    "start_time": "2021-09-22T17:19:39.349Z"
   },
   {
    "duration": 16,
    "start_time": "2021-09-22T17:19:46.189Z"
   },
   {
    "duration": 15,
    "start_time": "2021-09-22T17:27:46.295Z"
   },
   {
    "duration": 12,
    "start_time": "2021-09-22T17:28:08.385Z"
   },
   {
    "duration": 12,
    "start_time": "2021-09-22T17:28:17.618Z"
   },
   {
    "duration": 14,
    "start_time": "2021-09-22T17:28:25.513Z"
   },
   {
    "duration": 4,
    "start_time": "2021-09-22T17:30:45.510Z"
   },
   {
    "duration": 13,
    "start_time": "2021-09-22T17:30:49.109Z"
   },
   {
    "duration": 20,
    "start_time": "2021-09-22T17:30:51.301Z"
   },
   {
    "duration": 23,
    "start_time": "2021-09-22T17:31:22.413Z"
   },
   {
    "duration": 391,
    "start_time": "2021-09-22T17:31:23.704Z"
   },
   {
    "duration": 3,
    "start_time": "2021-09-22T17:31:32.784Z"
   },
   {
    "duration": 8,
    "start_time": "2021-09-22T17:31:43.624Z"
   },
   {
    "duration": 14,
    "start_time": "2021-09-22T17:31:45.966Z"
   },
   {
    "duration": 10,
    "start_time": "2021-09-22T17:32:36.965Z"
   },
   {
    "duration": 5,
    "start_time": "2021-09-22T17:35:53.808Z"
   },
   {
    "duration": 12,
    "start_time": "2021-09-22T17:35:57.613Z"
   },
   {
    "duration": 10,
    "start_time": "2021-09-22T17:36:16.981Z"
   },
   {
    "duration": 4,
    "start_time": "2021-09-22T17:36:35.984Z"
   },
   {
    "duration": 5,
    "start_time": "2021-09-22T17:36:40.798Z"
   },
   {
    "duration": 13,
    "start_time": "2021-09-22T17:36:42.124Z"
   },
   {
    "duration": 10,
    "start_time": "2021-09-22T17:36:44.958Z"
   },
   {
    "duration": 5,
    "start_time": "2021-09-22T17:37:03.608Z"
   },
   {
    "duration": 13,
    "start_time": "2021-09-22T17:37:06.994Z"
   },
   {
    "duration": 10,
    "start_time": "2021-09-22T17:37:09.792Z"
   },
   {
    "duration": 20,
    "start_time": "2021-09-22T17:37:28.429Z"
   },
   {
    "duration": 7,
    "start_time": "2021-09-22T17:37:29.914Z"
   },
   {
    "duration": 15,
    "start_time": "2021-09-22T17:37:31.427Z"
   },
   {
    "duration": 5,
    "start_time": "2021-09-22T17:38:21.399Z"
   },
   {
    "duration": 13,
    "start_time": "2021-09-22T17:38:22.715Z"
   },
   {
    "duration": 10,
    "start_time": "2021-09-22T17:38:25.240Z"
   },
   {
    "duration": 4,
    "start_time": "2021-09-22T17:38:44.926Z"
   },
   {
    "duration": 12,
    "start_time": "2021-09-22T17:38:46.522Z"
   },
   {
    "duration": 9,
    "start_time": "2021-09-22T17:38:49.075Z"
   },
   {
    "duration": 12,
    "start_time": "2021-09-22T17:39:10.912Z"
   },
   {
    "duration": 19,
    "start_time": "2021-09-22T17:39:21.076Z"
   },
   {
    "duration": 8,
    "start_time": "2021-09-22T17:39:22.270Z"
   },
   {
    "duration": 12,
    "start_time": "2021-09-22T17:39:22.964Z"
   },
   {
    "duration": 10,
    "start_time": "2021-09-22T18:12:35.673Z"
   },
   {
    "duration": 10,
    "start_time": "2021-09-22T18:12:44.991Z"
   },
   {
    "duration": 6,
    "start_time": "2021-09-22T18:19:12.374Z"
   },
   {
    "duration": 6,
    "start_time": "2021-09-22T18:19:29.413Z"
   },
   {
    "duration": 6,
    "start_time": "2021-09-22T18:19:31.496Z"
   },
   {
    "duration": 9,
    "start_time": "2021-09-22T18:44:55.258Z"
   },
   {
    "duration": 5,
    "start_time": "2021-09-22T18:45:13.559Z"
   },
   {
    "duration": 285,
    "start_time": "2021-09-23T04:50:09.161Z"
   },
   {
    "duration": 596,
    "start_time": "2021-09-23T04:50:15.945Z"
   },
   {
    "duration": 50,
    "start_time": "2021-09-23T04:50:16.542Z"
   },
   {
    "duration": 17,
    "start_time": "2021-09-23T04:50:16.594Z"
   },
   {
    "duration": 15,
    "start_time": "2021-09-23T04:50:16.613Z"
   },
   {
    "duration": 20,
    "start_time": "2021-09-23T04:50:16.630Z"
   },
   {
    "duration": 13,
    "start_time": "2021-09-23T04:50:16.651Z"
   },
   {
    "duration": 6,
    "start_time": "2021-09-23T04:50:16.666Z"
   },
   {
    "duration": 4,
    "start_time": "2021-09-23T04:50:16.673Z"
   },
   {
    "duration": 4,
    "start_time": "2021-09-23T04:50:16.680Z"
   },
   {
    "duration": 13,
    "start_time": "2021-09-23T04:50:16.687Z"
   },
   {
    "duration": 46,
    "start_time": "2021-09-23T04:50:16.702Z"
   },
   {
    "duration": 7,
    "start_time": "2021-09-23T04:50:16.750Z"
   },
   {
    "duration": 9,
    "start_time": "2021-09-23T04:50:16.759Z"
   },
   {
    "duration": 13,
    "start_time": "2021-09-23T04:50:16.770Z"
   },
   {
    "duration": 18,
    "start_time": "2021-09-23T04:50:16.784Z"
   },
   {
    "duration": 10,
    "start_time": "2021-09-23T04:50:16.805Z"
   },
   {
    "duration": 13,
    "start_time": "2021-09-23T04:50:16.817Z"
   },
   {
    "duration": 17,
    "start_time": "2021-09-23T04:50:16.832Z"
   },
   {
    "duration": 7,
    "start_time": "2021-09-23T04:50:16.851Z"
   },
   {
    "duration": 6,
    "start_time": "2021-09-23T04:50:16.859Z"
   },
   {
    "duration": 10,
    "start_time": "2021-09-23T04:50:16.866Z"
   },
   {
    "duration": 18,
    "start_time": "2021-09-23T04:50:16.878Z"
   },
   {
    "duration": 3,
    "start_time": "2021-09-23T04:50:16.898Z"
   },
   {
    "duration": 46,
    "start_time": "2021-09-23T04:50:16.903Z"
   },
   {
    "duration": 15,
    "start_time": "2021-09-23T04:50:16.951Z"
   },
   {
    "duration": 7,
    "start_time": "2021-09-23T04:50:16.967Z"
   },
   {
    "duration": 14,
    "start_time": "2021-09-23T04:50:16.977Z"
   },
   {
    "duration": 15,
    "start_time": "2021-09-23T04:50:16.993Z"
   },
   {
    "duration": 3584,
    "start_time": "2021-09-23T04:50:17.009Z"
   },
   {
    "duration": 14,
    "start_time": "2021-09-23T04:50:20.595Z"
   },
   {
    "duration": 21,
    "start_time": "2021-09-23T04:50:20.611Z"
   },
   {
    "duration": 37,
    "start_time": "2021-09-23T04:50:20.634Z"
   },
   {
    "duration": 40,
    "start_time": "2021-09-23T04:50:20.673Z"
   },
   {
    "duration": 29,
    "start_time": "2021-09-23T04:50:20.715Z"
   },
   {
    "duration": 28,
    "start_time": "2021-09-23T04:50:20.746Z"
   },
   {
    "duration": 31,
    "start_time": "2021-09-23T04:50:20.776Z"
   },
   {
    "duration": 34,
    "start_time": "2021-09-23T04:50:20.809Z"
   },
   {
    "duration": 12,
    "start_time": "2021-09-23T04:50:20.845Z"
   },
   {
    "duration": 34,
    "start_time": "2021-09-23T04:50:20.859Z"
   },
   {
    "duration": 19,
    "start_time": "2021-09-23T04:50:20.895Z"
   },
   {
    "duration": 36,
    "start_time": "2021-09-23T04:50:20.916Z"
   },
   {
    "duration": 24,
    "start_time": "2021-09-23T04:50:20.954Z"
   },
   {
    "duration": 19,
    "start_time": "2021-09-23T04:50:20.980Z"
   },
   {
    "duration": 29,
    "start_time": "2021-09-23T04:50:21.001Z"
   },
   {
    "duration": 9,
    "start_time": "2021-09-23T04:50:21.032Z"
   },
   {
    "duration": 6,
    "start_time": "2021-09-23T04:50:21.043Z"
   },
   {
    "duration": 28,
    "start_time": "2021-09-23T04:50:21.051Z"
   },
   {
    "duration": 14,
    "start_time": "2021-09-23T04:50:21.081Z"
   },
   {
    "duration": 11,
    "start_time": "2021-09-23T04:50:21.097Z"
   },
   {
    "duration": 24,
    "start_time": "2021-09-23T04:50:21.110Z"
   },
   {
    "duration": 8,
    "start_time": "2021-09-23T04:50:21.136Z"
   },
   {
    "duration": 4,
    "start_time": "2021-09-23T04:50:21.146Z"
   },
   {
    "duration": 14,
    "start_time": "2021-09-23T04:50:21.152Z"
   },
   {
    "duration": 16,
    "start_time": "2021-09-23T04:50:21.168Z"
   },
   {
    "duration": 9,
    "start_time": "2021-09-23T04:50:21.185Z"
   },
   {
    "duration": 19,
    "start_time": "2021-09-23T04:50:21.196Z"
   },
   {
    "duration": 33,
    "start_time": "2021-09-23T04:50:21.217Z"
   },
   {
    "duration": 8,
    "start_time": "2021-09-23T04:50:21.251Z"
   },
   {
    "duration": 8,
    "start_time": "2021-09-23T04:50:21.260Z"
   },
   {
    "duration": 14,
    "start_time": "2021-09-23T04:50:21.269Z"
   },
   {
    "duration": 14,
    "start_time": "2021-09-23T04:50:21.285Z"
   },
   {
    "duration": 7,
    "start_time": "2021-09-23T04:50:21.300Z"
   },
   {
    "duration": 5,
    "start_time": "2021-09-23T04:50:21.309Z"
   },
   {
    "duration": 30,
    "start_time": "2021-09-23T04:50:21.316Z"
   },
   {
    "duration": 87,
    "start_time": "2021-09-23T04:50:40.392Z"
   },
   {
    "duration": 8043,
    "start_time": "2021-09-23T04:51:07.049Z"
   },
   {
    "duration": 31,
    "start_time": "2021-09-23T04:51:46.874Z"
   },
   {
    "duration": 2,
    "start_time": "2021-09-23T05:45:02.211Z"
   },
   {
    "duration": 63,
    "start_time": "2021-09-23T05:45:02.215Z"
   },
   {
    "duration": 12,
    "start_time": "2021-09-23T05:45:02.280Z"
   },
   {
    "duration": 27,
    "start_time": "2021-09-23T05:45:02.294Z"
   },
   {
    "duration": 31,
    "start_time": "2021-09-23T05:45:02.323Z"
   },
   {
    "duration": 18,
    "start_time": "2021-09-23T05:45:02.356Z"
   },
   {
    "duration": 26,
    "start_time": "2021-09-23T05:45:02.376Z"
   },
   {
    "duration": 16,
    "start_time": "2021-09-23T05:45:02.405Z"
   },
   {
    "duration": 21,
    "start_time": "2021-09-23T05:45:02.423Z"
   },
   {
    "duration": 17,
    "start_time": "2021-09-23T05:45:02.446Z"
   },
   {
    "duration": 7,
    "start_time": "2021-09-23T05:45:02.464Z"
   },
   {
    "duration": 18,
    "start_time": "2021-09-23T05:45:02.473Z"
   },
   {
    "duration": 13,
    "start_time": "2021-09-23T05:45:02.493Z"
   },
   {
    "duration": 10,
    "start_time": "2021-09-23T05:45:02.508Z"
   },
   {
    "duration": 31,
    "start_time": "2021-09-23T05:45:02.519Z"
   },
   {
    "duration": 17,
    "start_time": "2021-09-23T05:45:02.552Z"
   },
   {
    "duration": 23,
    "start_time": "2021-09-23T05:45:02.571Z"
   },
   {
    "duration": 20,
    "start_time": "2021-09-23T05:45:02.596Z"
   },
   {
    "duration": 19,
    "start_time": "2021-09-23T05:45:02.618Z"
   },
   {
    "duration": 20,
    "start_time": "2021-09-23T05:45:02.640Z"
   },
   {
    "duration": 4,
    "start_time": "2021-09-23T05:45:02.662Z"
   },
   {
    "duration": 18,
    "start_time": "2021-09-23T05:45:02.668Z"
   },
   {
    "duration": 14,
    "start_time": "2021-09-23T05:45:02.691Z"
   },
   {
    "duration": 11,
    "start_time": "2021-09-23T05:45:02.708Z"
   },
   {
    "duration": 19,
    "start_time": "2021-09-23T05:45:02.721Z"
   },
   {
    "duration": 7,
    "start_time": "2021-09-23T05:45:02.742Z"
   },
   {
    "duration": 23,
    "start_time": "2021-09-23T05:45:02.751Z"
   },
   {
    "duration": 24,
    "start_time": "2021-09-23T05:45:02.776Z"
   },
   {
    "duration": 3857,
    "start_time": "2021-09-23T05:45:02.801Z"
   },
   {
    "duration": 13,
    "start_time": "2021-09-23T05:45:06.660Z"
   },
   {
    "duration": 18,
    "start_time": "2021-09-23T05:45:06.675Z"
   },
   {
    "duration": 19,
    "start_time": "2021-09-23T05:45:06.694Z"
   },
   {
    "duration": 13,
    "start_time": "2021-09-23T05:45:06.715Z"
   },
   {
    "duration": 16,
    "start_time": "2021-09-23T05:45:06.730Z"
   },
   {
    "duration": 8,
    "start_time": "2021-09-23T05:45:06.747Z"
   },
   {
    "duration": 16,
    "start_time": "2021-09-23T05:45:06.756Z"
   },
   {
    "duration": 11,
    "start_time": "2021-09-23T05:45:06.774Z"
   },
   {
    "duration": 4,
    "start_time": "2021-09-23T05:45:06.787Z"
   },
   {
    "duration": 12,
    "start_time": "2021-09-23T05:45:06.793Z"
   },
   {
    "duration": 37,
    "start_time": "2021-09-23T05:45:06.807Z"
   },
   {
    "duration": 13,
    "start_time": "2021-09-23T05:45:06.847Z"
   },
   {
    "duration": 24,
    "start_time": "2021-09-23T05:45:06.862Z"
   },
   {
    "duration": 12,
    "start_time": "2021-09-23T05:45:06.888Z"
   },
   {
    "duration": 14,
    "start_time": "2021-09-23T05:45:06.903Z"
   },
   {
    "duration": 28,
    "start_time": "2021-09-23T05:45:06.919Z"
   },
   {
    "duration": 6,
    "start_time": "2021-09-23T05:45:06.950Z"
   },
   {
    "duration": 10,
    "start_time": "2021-09-23T05:45:06.959Z"
   },
   {
    "duration": 7,
    "start_time": "2021-09-23T05:45:06.970Z"
   },
   {
    "duration": 18,
    "start_time": "2021-09-23T05:45:06.979Z"
   },
   {
    "duration": 18,
    "start_time": "2021-09-23T05:45:06.999Z"
   },
   {
    "duration": 26,
    "start_time": "2021-09-23T05:45:07.019Z"
   },
   {
    "duration": 3,
    "start_time": "2021-09-23T05:45:07.047Z"
   },
   {
    "duration": 29,
    "start_time": "2021-09-23T05:45:07.052Z"
   },
   {
    "duration": 22,
    "start_time": "2021-09-23T05:45:07.083Z"
   },
   {
    "duration": 9,
    "start_time": "2021-09-23T05:45:07.107Z"
   },
   {
    "duration": 39,
    "start_time": "2021-09-23T05:45:07.118Z"
   },
   {
    "duration": 10,
    "start_time": "2021-09-23T05:45:07.160Z"
   },
   {
    "duration": 14,
    "start_time": "2021-09-23T05:45:07.172Z"
   },
   {
    "duration": 15,
    "start_time": "2021-09-23T05:45:07.188Z"
   },
   {
    "duration": 28,
    "start_time": "2021-09-23T05:45:07.205Z"
   },
   {
    "duration": 25,
    "start_time": "2021-09-23T05:45:07.235Z"
   },
   {
    "duration": 22,
    "start_time": "2021-09-23T05:45:07.262Z"
   },
   {
    "duration": 22,
    "start_time": "2021-09-23T05:45:07.286Z"
   },
   {
    "duration": 25,
    "start_time": "2021-09-23T05:45:07.310Z"
   },
   {
    "duration": 31,
    "start_time": "2021-09-23T05:45:07.337Z"
   },
   {
    "duration": 8,
    "start_time": "2021-09-23T05:45:07.370Z"
   },
   {
    "duration": 21,
    "start_time": "2021-09-23T05:45:07.380Z"
   },
   {
    "duration": 14,
    "start_time": "2021-09-23T05:45:07.406Z"
   },
   {
    "duration": 13,
    "start_time": "2021-09-23T05:45:07.422Z"
   },
   {
    "duration": 22,
    "start_time": "2021-09-23T05:45:07.437Z"
   },
   {
    "duration": 24,
    "start_time": "2021-09-23T05:45:07.461Z"
   },
   {
    "duration": 405,
    "start_time": "2021-09-23T13:48:37.033Z"
   },
   {
    "duration": 300,
    "start_time": "2021-09-23T17:46:36.461Z"
   },
   {
    "duration": 564,
    "start_time": "2021-09-23T18:31:55.891Z"
   },
   {
    "duration": 51,
    "start_time": "2021-09-23T18:31:56.457Z"
   },
   {
    "duration": 18,
    "start_time": "2021-09-23T18:31:56.511Z"
   },
   {
    "duration": 18,
    "start_time": "2021-09-23T18:31:56.531Z"
   },
   {
    "duration": 11,
    "start_time": "2021-09-23T18:31:56.551Z"
   },
   {
    "duration": 13,
    "start_time": "2021-09-23T18:31:56.564Z"
   },
   {
    "duration": 7,
    "start_time": "2021-09-23T18:31:56.579Z"
   },
   {
    "duration": 4,
    "start_time": "2021-09-23T18:31:56.588Z"
   },
   {
    "duration": 4,
    "start_time": "2021-09-23T18:31:56.595Z"
   },
   {
    "duration": 52,
    "start_time": "2021-09-23T18:31:56.601Z"
   },
   {
    "duration": 6,
    "start_time": "2021-09-23T18:31:56.654Z"
   },
   {
    "duration": 7,
    "start_time": "2021-09-23T18:31:56.662Z"
   },
   {
    "duration": 8,
    "start_time": "2021-09-23T18:31:56.670Z"
   },
   {
    "duration": 10,
    "start_time": "2021-09-23T18:31:56.679Z"
   },
   {
    "duration": 6,
    "start_time": "2021-09-23T18:31:56.690Z"
   },
   {
    "duration": 4,
    "start_time": "2021-09-23T18:31:56.697Z"
   },
   {
    "duration": 42,
    "start_time": "2021-09-23T18:31:56.703Z"
   },
   {
    "duration": 4,
    "start_time": "2021-09-23T18:31:56.747Z"
   },
   {
    "duration": 5,
    "start_time": "2021-09-23T18:31:56.753Z"
   },
   {
    "duration": 4,
    "start_time": "2021-09-23T18:31:56.760Z"
   },
   {
    "duration": 5,
    "start_time": "2021-09-23T18:31:56.766Z"
   },
   {
    "duration": 13,
    "start_time": "2021-09-23T18:31:56.773Z"
   },
   {
    "duration": 4,
    "start_time": "2021-09-23T18:31:56.788Z"
   },
   {
    "duration": 18,
    "start_time": "2021-09-23T18:31:56.793Z"
   },
   {
    "duration": 43,
    "start_time": "2021-09-23T18:31:56.813Z"
   },
   {
    "duration": 7,
    "start_time": "2021-09-23T18:31:56.858Z"
   },
   {
    "duration": 11,
    "start_time": "2021-09-23T18:31:56.869Z"
   },
   {
    "duration": 11,
    "start_time": "2021-09-23T18:31:56.882Z"
   },
   {
    "duration": 3463,
    "start_time": "2021-09-23T18:31:56.895Z"
   },
   {
    "duration": 15,
    "start_time": "2021-09-23T18:32:00.361Z"
   },
   {
    "duration": 12,
    "start_time": "2021-09-23T18:32:00.378Z"
   },
   {
    "duration": 13,
    "start_time": "2021-09-23T18:32:00.393Z"
   },
   {
    "duration": 39,
    "start_time": "2021-09-23T18:32:00.408Z"
   },
   {
    "duration": 8,
    "start_time": "2021-09-23T18:32:00.449Z"
   },
   {
    "duration": 7,
    "start_time": "2021-09-23T18:32:00.459Z"
   },
   {
    "duration": 7,
    "start_time": "2021-09-23T18:32:00.476Z"
   },
   {
    "duration": 10,
    "start_time": "2021-09-23T18:32:00.484Z"
   },
   {
    "duration": 16,
    "start_time": "2021-09-23T18:32:00.496Z"
   },
   {
    "duration": 23,
    "start_time": "2021-09-23T18:32:00.513Z"
   },
   {
    "duration": 25,
    "start_time": "2021-09-23T18:32:00.537Z"
   },
   {
    "duration": 10,
    "start_time": "2021-09-23T18:32:00.564Z"
   },
   {
    "duration": 17,
    "start_time": "2021-09-23T18:32:00.576Z"
   },
   {
    "duration": 22,
    "start_time": "2021-09-23T18:32:00.595Z"
   },
   {
    "duration": 19,
    "start_time": "2021-09-23T18:32:00.619Z"
   },
   {
    "duration": 27,
    "start_time": "2021-09-23T18:32:00.640Z"
   },
   {
    "duration": 10,
    "start_time": "2021-09-23T18:32:00.668Z"
   },
   {
    "duration": 9,
    "start_time": "2021-09-23T18:32:00.680Z"
   },
   {
    "duration": 15,
    "start_time": "2021-09-23T18:32:00.691Z"
   },
   {
    "duration": 17,
    "start_time": "2021-09-23T18:32:00.708Z"
   },
   {
    "duration": 17,
    "start_time": "2021-09-23T18:32:00.727Z"
   },
   {
    "duration": 18,
    "start_time": "2021-09-23T18:32:00.746Z"
   },
   {
    "duration": 8,
    "start_time": "2021-09-23T18:32:00.766Z"
   },
   {
    "duration": 19,
    "start_time": "2021-09-23T18:32:00.775Z"
   },
   {
    "duration": 27,
    "start_time": "2021-09-23T18:32:00.796Z"
   },
   {
    "duration": 7,
    "start_time": "2021-09-23T18:32:00.825Z"
   },
   {
    "duration": 19,
    "start_time": "2021-09-23T18:32:00.834Z"
   },
   {
    "duration": 20,
    "start_time": "2021-09-23T18:32:00.855Z"
   },
   {
    "duration": 12,
    "start_time": "2021-09-23T18:32:00.878Z"
   },
   {
    "duration": 8,
    "start_time": "2021-09-23T18:32:00.892Z"
   },
   {
    "duration": 23,
    "start_time": "2021-09-23T18:32:00.902Z"
   },
   {
    "duration": 6,
    "start_time": "2021-09-23T18:33:09.680Z"
   },
   {
    "duration": 3,
    "start_time": "2021-09-23T18:33:43.938Z"
   },
   {
    "duration": 861,
    "start_time": "2021-09-25T07:13:04.086Z"
   },
   {
    "duration": 66,
    "start_time": "2021-09-25T07:13:07.284Z"
   },
   {
    "duration": 55,
    "start_time": "2021-09-25T07:13:39.181Z"
   },
   {
    "duration": 10,
    "start_time": "2021-09-25T07:29:39.980Z"
   },
   {
    "duration": 344,
    "start_time": "2021-09-25T14:31:15.563Z"
   },
   {
    "duration": 770,
    "start_time": "2021-09-25T14:31:24.578Z"
   },
   {
    "duration": 64,
    "start_time": "2021-09-25T14:31:25.351Z"
   },
   {
    "duration": 29,
    "start_time": "2021-09-25T14:31:25.418Z"
   },
   {
    "duration": 34,
    "start_time": "2021-09-25T14:31:25.450Z"
   },
   {
    "duration": 48,
    "start_time": "2021-09-25T14:31:25.486Z"
   },
   {
    "duration": 7,
    "start_time": "2021-09-25T14:31:37.580Z"
   },
   {
    "duration": 303,
    "start_time": "2021-09-25T14:32:07.497Z"
   },
   {
    "duration": 9,
    "start_time": "2021-09-25T14:32:17.795Z"
   },
   {
    "duration": 10,
    "start_time": "2021-09-25T14:39:02.484Z"
   },
   {
    "duration": 114,
    "start_time": "2021-09-25T14:46:15.552Z"
   },
   {
    "duration": 45,
    "start_time": "2021-09-25T14:52:06.665Z"
   },
   {
    "duration": 97,
    "start_time": "2021-09-25T14:54:25.590Z"
   },
   {
    "duration": 10,
    "start_time": "2021-09-25T15:03:46.584Z"
   },
   {
    "duration": 292,
    "start_time": "2021-09-25T15:14:28.916Z"
   },
   {
    "duration": 12,
    "start_time": "2021-09-25T15:14:33.189Z"
   },
   {
    "duration": 17,
    "start_time": "2021-09-25T15:15:37.842Z"
   },
   {
    "duration": 447,
    "start_time": "2021-09-25T15:21:57.715Z"
   },
   {
    "duration": 321,
    "start_time": "2021-09-25T15:27:17.205Z"
   },
   {
    "duration": 274,
    "start_time": "2021-09-25T15:28:33.104Z"
   },
   {
    "duration": 463,
    "start_time": "2021-09-25T15:33:22.372Z"
   },
   {
    "duration": 265,
    "start_time": "2021-09-25T15:33:32.148Z"
   },
   {
    "duration": 287,
    "start_time": "2021-09-25T15:34:33.327Z"
   },
   {
    "duration": 3,
    "start_time": "2021-09-25T15:34:39.116Z"
   },
   {
    "duration": 562,
    "start_time": "2021-09-25T15:34:41.044Z"
   },
   {
    "duration": 312,
    "start_time": "2021-09-25T15:34:59.110Z"
   },
   {
    "duration": 327,
    "start_time": "2021-09-25T15:35:21.086Z"
   },
   {
    "duration": 289,
    "start_time": "2021-09-25T15:35:49.670Z"
   },
   {
    "duration": 318,
    "start_time": "2021-09-25T15:36:15.922Z"
   },
   {
    "duration": 19,
    "start_time": "2021-09-25T15:36:44.538Z"
   },
   {
    "duration": 14,
    "start_time": "2021-09-25T15:36:48.072Z"
   },
   {
    "duration": 3,
    "start_time": "2021-09-25T15:37:20.517Z"
   },
   {
    "duration": 68,
    "start_time": "2021-09-25T15:37:20.523Z"
   },
   {
    "duration": 19,
    "start_time": "2021-09-25T15:37:20.594Z"
   },
   {
    "duration": 20,
    "start_time": "2021-09-25T15:37:20.616Z"
   },
   {
    "duration": 73,
    "start_time": "2021-09-25T15:37:20.639Z"
   },
   {
    "duration": 11,
    "start_time": "2021-09-25T15:37:20.715Z"
   },
   {
    "duration": 72,
    "start_time": "2021-09-25T15:37:20.729Z"
   },
   {
    "duration": 18,
    "start_time": "2021-09-25T15:37:20.804Z"
   },
   {
    "duration": 21,
    "start_time": "2021-09-25T15:37:20.825Z"
   },
   {
    "duration": 39,
    "start_time": "2021-09-25T15:37:20.849Z"
   },
   {
    "duration": 7,
    "start_time": "2021-09-25T15:37:20.890Z"
   },
   {
    "duration": 12,
    "start_time": "2021-09-25T15:37:20.899Z"
   },
   {
    "duration": 23,
    "start_time": "2021-09-25T15:37:20.914Z"
   },
   {
    "duration": 45,
    "start_time": "2021-09-25T15:37:20.940Z"
   },
   {
    "duration": 11,
    "start_time": "2021-09-25T15:37:20.988Z"
   },
   {
    "duration": 12,
    "start_time": "2021-09-25T15:37:21.001Z"
   },
   {
    "duration": 9,
    "start_time": "2021-09-25T15:37:21.016Z"
   },
   {
    "duration": 6,
    "start_time": "2021-09-25T15:37:21.028Z"
   },
   {
    "duration": 316,
    "start_time": "2021-09-25T15:37:27.226Z"
   },
   {
    "duration": 3,
    "start_time": "2021-09-25T15:37:47.959Z"
   },
   {
    "duration": 66,
    "start_time": "2021-09-25T15:37:47.965Z"
   },
   {
    "duration": 18,
    "start_time": "2021-09-25T15:37:48.034Z"
   },
   {
    "duration": 37,
    "start_time": "2021-09-25T15:37:48.055Z"
   },
   {
    "duration": 45,
    "start_time": "2021-09-25T15:37:48.095Z"
   },
   {
    "duration": 42,
    "start_time": "2021-09-25T15:37:48.143Z"
   },
   {
    "duration": 48,
    "start_time": "2021-09-25T15:37:48.188Z"
   },
   {
    "duration": 14,
    "start_time": "2021-09-25T15:37:48.239Z"
   },
   {
    "duration": 23,
    "start_time": "2021-09-25T15:37:48.283Z"
   },
   {
    "duration": 8,
    "start_time": "2021-09-25T15:37:48.309Z"
   },
   {
    "duration": 6,
    "start_time": "2021-09-25T15:37:48.320Z"
   },
   {
    "duration": 8,
    "start_time": "2021-09-25T15:37:48.329Z"
   },
   {
    "duration": 62,
    "start_time": "2021-09-25T15:37:48.340Z"
   },
   {
    "duration": 8,
    "start_time": "2021-09-25T15:37:48.404Z"
   },
   {
    "duration": 14,
    "start_time": "2021-09-25T15:37:48.414Z"
   },
   {
    "duration": 10,
    "start_time": "2021-09-25T15:37:48.430Z"
   },
   {
    "duration": 49,
    "start_time": "2021-09-25T15:37:48.442Z"
   },
   {
    "duration": 8,
    "start_time": "2021-09-25T15:37:48.493Z"
   },
   {
    "duration": 14,
    "start_time": "2021-09-25T15:37:48.504Z"
   },
   {
    "duration": 6,
    "start_time": "2021-09-25T15:37:48.520Z"
   },
   {
    "duration": 9,
    "start_time": "2021-09-25T15:37:48.528Z"
   },
   {
    "duration": 46,
    "start_time": "2021-09-25T15:37:48.539Z"
   },
   {
    "duration": 10,
    "start_time": "2021-09-25T15:37:48.588Z"
   },
   {
    "duration": 9,
    "start_time": "2021-09-25T15:37:48.601Z"
   },
   {
    "duration": 6,
    "start_time": "2021-09-25T15:37:48.613Z"
   },
   {
    "duration": 62,
    "start_time": "2021-09-25T15:37:48.623Z"
   },
   {
    "duration": 24,
    "start_time": "2021-09-25T15:37:48.692Z"
   },
   {
    "duration": 729,
    "start_time": "2021-09-25T15:38:08.887Z"
   },
   {
    "duration": 1346,
    "start_time": "2021-09-25T15:38:18.950Z"
   },
   {
    "duration": 346,
    "start_time": "2021-09-25T15:39:01.512Z"
   },
   {
    "duration": 342,
    "start_time": "2021-09-25T15:39:23.025Z"
   },
   {
    "duration": 301,
    "start_time": "2021-09-25T15:41:00.355Z"
   },
   {
    "duration": 4,
    "start_time": "2021-09-25T15:41:07.408Z"
   },
   {
    "duration": 607,
    "start_time": "2021-09-25T15:41:13.559Z"
   },
   {
    "duration": 1054,
    "start_time": "2021-09-25T15:48:01.720Z"
   },
   {
    "duration": 291,
    "start_time": "2021-09-25T15:48:35.546Z"
   },
   {
    "duration": 100,
    "start_time": "2021-09-25T15:49:11.797Z"
   },
   {
    "duration": 301,
    "start_time": "2021-09-25T15:49:17.346Z"
   },
   {
    "duration": 3,
    "start_time": "2021-09-25T15:50:07.758Z"
   },
   {
    "duration": 117,
    "start_time": "2021-09-25T15:50:07.765Z"
   },
   {
    "duration": 31,
    "start_time": "2021-09-25T15:50:07.887Z"
   },
   {
    "duration": 23,
    "start_time": "2021-09-25T15:50:07.922Z"
   },
   {
    "duration": 104,
    "start_time": "2021-09-25T15:50:07.949Z"
   },
   {
    "duration": 10,
    "start_time": "2021-09-25T15:50:08.055Z"
   },
   {
    "duration": 48,
    "start_time": "2021-09-25T15:50:08.082Z"
   },
   {
    "duration": 15,
    "start_time": "2021-09-25T15:50:08.132Z"
   },
   {
    "duration": 50,
    "start_time": "2021-09-25T15:50:08.151Z"
   },
   {
    "duration": 12,
    "start_time": "2021-09-25T15:50:08.204Z"
   },
   {
    "duration": 7,
    "start_time": "2021-09-25T15:50:08.219Z"
   },
   {
    "duration": 7,
    "start_time": "2021-09-25T15:50:08.228Z"
   },
   {
    "duration": 62,
    "start_time": "2021-09-25T15:50:08.237Z"
   },
   {
    "duration": 9,
    "start_time": "2021-09-25T15:50:08.301Z"
   },
   {
    "duration": 11,
    "start_time": "2021-09-25T15:50:08.312Z"
   },
   {
    "duration": 57,
    "start_time": "2021-09-25T15:50:08.325Z"
   },
   {
    "duration": 10,
    "start_time": "2021-09-25T15:50:08.385Z"
   },
   {
    "duration": 6,
    "start_time": "2021-09-25T15:50:08.397Z"
   },
   {
    "duration": 9,
    "start_time": "2021-09-25T15:50:08.406Z"
   },
   {
    "duration": 6,
    "start_time": "2021-09-25T15:50:08.417Z"
   },
   {
    "duration": 58,
    "start_time": "2021-09-25T15:50:08.426Z"
   },
   {
    "duration": 8,
    "start_time": "2021-09-25T15:50:08.487Z"
   },
   {
    "duration": 7,
    "start_time": "2021-09-25T15:50:08.497Z"
   },
   {
    "duration": 6,
    "start_time": "2021-09-25T15:50:08.507Z"
   },
   {
    "duration": 8,
    "start_time": "2021-09-25T15:50:08.516Z"
   },
   {
    "duration": 71,
    "start_time": "2021-09-25T15:50:08.526Z"
   },
   {
    "duration": 18,
    "start_time": "2021-09-25T15:50:08.602Z"
   },
   {
    "duration": 33,
    "start_time": "2021-09-25T15:50:31.967Z"
   },
   {
    "duration": 334,
    "start_time": "2021-09-25T15:50:40.363Z"
   },
   {
    "duration": 2105,
    "start_time": "2021-09-25T15:51:48.702Z"
   },
   {
    "duration": 9,
    "start_time": "2021-09-25T15:52:21.026Z"
   },
   {
    "duration": 8,
    "start_time": "2021-09-25T15:52:49.495Z"
   },
   {
    "duration": 319,
    "start_time": "2021-09-25T16:25:17.884Z"
   },
   {
    "duration": 8,
    "start_time": "2021-09-25T16:25:28.270Z"
   },
   {
    "duration": 5,
    "start_time": "2021-09-25T16:25:48.715Z"
   },
   {
    "duration": 23,
    "start_time": "2021-09-25T16:26:00.126Z"
   },
   {
    "duration": 18,
    "start_time": "2021-09-25T16:26:15.719Z"
   },
   {
    "duration": 11,
    "start_time": "2021-09-25T16:26:51.889Z"
   },
   {
    "duration": 3,
    "start_time": "2021-09-25T16:30:39.045Z"
   },
   {
    "duration": 72,
    "start_time": "2021-09-25T16:30:39.051Z"
   },
   {
    "duration": 18,
    "start_time": "2021-09-25T16:30:39.126Z"
   },
   {
    "duration": 39,
    "start_time": "2021-09-25T16:30:39.147Z"
   },
   {
    "duration": 45,
    "start_time": "2021-09-25T16:30:39.188Z"
   },
   {
    "duration": 9,
    "start_time": "2021-09-25T16:30:39.236Z"
   },
   {
    "duration": 45,
    "start_time": "2021-09-25T16:30:39.247Z"
   },
   {
    "duration": 22,
    "start_time": "2021-09-25T16:30:39.295Z"
   },
   {
    "duration": 9,
    "start_time": "2021-09-25T16:30:39.320Z"
   },
   {
    "duration": 11,
    "start_time": "2021-09-25T16:30:39.331Z"
   },
   {
    "duration": 39,
    "start_time": "2021-09-25T16:30:39.345Z"
   },
   {
    "duration": 24,
    "start_time": "2021-09-25T16:30:39.386Z"
   },
   {
    "duration": 9,
    "start_time": "2021-09-25T16:30:39.412Z"
   },
   {
    "duration": 24,
    "start_time": "2021-09-25T16:30:39.423Z"
   },
   {
    "duration": 40,
    "start_time": "2021-09-25T16:30:39.449Z"
   },
   {
    "duration": 32,
    "start_time": "2021-09-25T16:30:39.491Z"
   },
   {
    "duration": 39,
    "start_time": "2021-09-25T16:30:39.525Z"
   },
   {
    "duration": 8,
    "start_time": "2021-09-25T16:30:51.015Z"
   },
   {
    "duration": 18,
    "start_time": "2021-09-25T16:30:58.697Z"
   },
   {
    "duration": 310,
    "start_time": "2021-09-25T16:31:20.820Z"
   },
   {
    "duration": 4,
    "start_time": "2021-09-25T16:36:51.047Z"
   },
   {
    "duration": 69,
    "start_time": "2021-09-25T16:36:51.054Z"
   },
   {
    "duration": 20,
    "start_time": "2021-09-25T16:36:51.126Z"
   },
   {
    "duration": 44,
    "start_time": "2021-09-25T16:36:51.150Z"
   },
   {
    "duration": 49,
    "start_time": "2021-09-25T16:36:51.197Z"
   },
   {
    "duration": 36,
    "start_time": "2021-09-25T16:36:51.248Z"
   },
   {
    "duration": 16,
    "start_time": "2021-09-25T16:36:51.288Z"
   },
   {
    "duration": 24,
    "start_time": "2021-09-25T16:36:51.306Z"
   },
   {
    "duration": 50,
    "start_time": "2021-09-25T16:36:51.334Z"
   },
   {
    "duration": 7,
    "start_time": "2021-09-25T16:36:51.387Z"
   },
   {
    "duration": 10,
    "start_time": "2021-09-25T16:36:51.397Z"
   },
   {
    "duration": 25,
    "start_time": "2021-09-25T16:36:51.409Z"
   },
   {
    "duration": 50,
    "start_time": "2021-09-25T16:36:51.436Z"
   },
   {
    "duration": 11,
    "start_time": "2021-09-25T16:36:51.488Z"
   },
   {
    "duration": 14,
    "start_time": "2021-09-25T16:36:51.501Z"
   },
   {
    "duration": 9,
    "start_time": "2021-09-25T16:36:51.517Z"
   },
   {
    "duration": 9,
    "start_time": "2021-09-25T16:36:57.726Z"
   },
   {
    "duration": 18,
    "start_time": "2021-09-25T16:37:00.638Z"
   },
   {
    "duration": 450,
    "start_time": "2021-09-25T16:39:14.809Z"
   },
   {
    "duration": 17,
    "start_time": "2021-09-25T16:40:25.602Z"
   },
   {
    "duration": 286,
    "start_time": "2021-09-25T16:40:46.341Z"
   },
   {
    "duration": 326,
    "start_time": "2021-09-25T16:42:02.520Z"
   },
   {
    "duration": 13,
    "start_time": "2021-09-25T16:42:06.338Z"
   },
   {
    "duration": 4,
    "start_time": "2021-09-25T16:44:39.603Z"
   },
   {
    "duration": 1471,
    "start_time": "2021-09-25T16:45:12.431Z"
   },
   {
    "duration": 4,
    "start_time": "2021-09-25T16:45:30.530Z"
   },
   {
    "duration": 366,
    "start_time": "2021-09-25T16:46:36.720Z"
   },
   {
    "duration": 76,
    "start_time": "2021-09-25T16:46:37.013Z"
   },
   {
    "duration": 71,
    "start_time": "2021-09-25T16:46:37.019Z"
   },
   {
    "duration": 67,
    "start_time": "2021-09-25T16:46:37.024Z"
   },
   {
    "duration": 763,
    "start_time": "2021-09-25T16:47:13.908Z"
   },
   {
    "duration": 69,
    "start_time": "2021-09-25T16:47:14.674Z"
   },
   {
    "duration": 40,
    "start_time": "2021-09-25T16:47:14.746Z"
   },
   {
    "duration": 15,
    "start_time": "2021-09-25T16:47:14.789Z"
   },
   {
    "duration": 79,
    "start_time": "2021-09-25T16:47:14.808Z"
   },
   {
    "duration": 11,
    "start_time": "2021-09-25T16:47:14.890Z"
   },
   {
    "duration": 19,
    "start_time": "2021-09-25T16:47:14.904Z"
   },
   {
    "duration": 57,
    "start_time": "2021-09-25T16:47:14.926Z"
   },
   {
    "duration": 9,
    "start_time": "2021-09-25T16:47:14.987Z"
   },
   {
    "duration": 8,
    "start_time": "2021-09-25T16:47:15.000Z"
   },
   {
    "duration": 15,
    "start_time": "2021-09-25T16:47:15.011Z"
   },
   {
    "duration": 75,
    "start_time": "2021-09-25T16:47:15.029Z"
   },
   {
    "duration": 12,
    "start_time": "2021-09-25T16:47:15.107Z"
   },
   {
    "duration": 15,
    "start_time": "2021-09-25T16:47:15.122Z"
   },
   {
    "duration": 48,
    "start_time": "2021-09-25T16:47:15.140Z"
   },
   {
    "duration": 25,
    "start_time": "2021-09-25T16:47:15.191Z"
   },
   {
    "duration": 6,
    "start_time": "2021-09-25T16:47:15.219Z"
   },
   {
    "duration": 6,
    "start_time": "2021-09-25T16:48:58.486Z"
   },
   {
    "duration": 388,
    "start_time": "2021-09-25T16:49:02.342Z"
   },
   {
    "duration": 848,
    "start_time": "2021-09-25T16:49:08.371Z"
   },
   {
    "duration": 68,
    "start_time": "2021-09-25T16:49:09.222Z"
   },
   {
    "duration": 31,
    "start_time": "2021-09-25T16:49:09.293Z"
   },
   {
    "duration": 15,
    "start_time": "2021-09-25T16:49:09.328Z"
   },
   {
    "duration": 79,
    "start_time": "2021-09-25T16:49:09.345Z"
   },
   {
    "duration": 15,
    "start_time": "2021-09-25T16:49:09.427Z"
   },
   {
    "duration": 53,
    "start_time": "2021-09-25T16:49:09.445Z"
   },
   {
    "duration": 37,
    "start_time": "2021-09-25T16:49:09.503Z"
   },
   {
    "duration": 13,
    "start_time": "2021-09-25T16:49:09.544Z"
   },
   {
    "duration": 7,
    "start_time": "2021-09-25T16:49:09.582Z"
   },
   {
    "duration": 13,
    "start_time": "2021-09-25T16:49:09.592Z"
   },
   {
    "duration": 22,
    "start_time": "2021-09-25T16:49:09.608Z"
   },
   {
    "duration": 9,
    "start_time": "2021-09-25T16:49:09.633Z"
   },
   {
    "duration": 47,
    "start_time": "2021-09-25T16:49:09.645Z"
   },
   {
    "duration": 10,
    "start_time": "2021-09-25T16:49:09.695Z"
   },
   {
    "duration": 13,
    "start_time": "2021-09-25T16:49:09.707Z"
   },
   {
    "duration": 4,
    "start_time": "2021-09-25T16:49:09.723Z"
   },
   {
    "duration": 93,
    "start_time": "2021-09-25T16:49:09.729Z"
   },
   {
    "duration": 19,
    "start_time": "2021-09-25T16:49:13.728Z"
   },
   {
    "duration": 4,
    "start_time": "2021-09-25T16:50:18.806Z"
   },
   {
    "duration": 5,
    "start_time": "2021-09-25T16:50:32.507Z"
   },
   {
    "duration": 14,
    "start_time": "2021-09-25T16:50:33.954Z"
   },
   {
    "duration": 18,
    "start_time": "2021-09-25T16:50:35.508Z"
   },
   {
    "duration": 4,
    "start_time": "2021-09-25T16:53:01.219Z"
   },
   {
    "duration": 85,
    "start_time": "2021-09-25T16:53:01.225Z"
   },
   {
    "duration": 21,
    "start_time": "2021-09-25T16:53:01.313Z"
   },
   {
    "duration": 42,
    "start_time": "2021-09-25T16:53:01.337Z"
   },
   {
    "duration": 70,
    "start_time": "2021-09-25T16:53:01.381Z"
   },
   {
    "duration": 9,
    "start_time": "2021-09-25T16:53:01.454Z"
   },
   {
    "duration": 24,
    "start_time": "2021-09-25T16:53:01.466Z"
   },
   {
    "duration": 31,
    "start_time": "2021-09-25T16:53:01.492Z"
   },
   {
    "duration": 15,
    "start_time": "2021-09-25T16:53:01.530Z"
   },
   {
    "duration": 25,
    "start_time": "2021-09-25T16:53:01.549Z"
   },
   {
    "duration": 21,
    "start_time": "2021-09-25T16:53:01.577Z"
   },
   {
    "duration": 46,
    "start_time": "2021-09-25T16:53:01.602Z"
   },
   {
    "duration": 21,
    "start_time": "2021-09-25T16:53:01.651Z"
   },
   {
    "duration": 19,
    "start_time": "2021-09-25T16:53:01.674Z"
   },
   {
    "duration": 29,
    "start_time": "2021-09-25T16:53:01.696Z"
   },
   {
    "duration": 25,
    "start_time": "2021-09-25T16:53:01.728Z"
   },
   {
    "duration": 10,
    "start_time": "2021-09-25T16:53:01.756Z"
   },
   {
    "duration": 30,
    "start_time": "2021-09-25T16:53:01.769Z"
   },
   {
    "duration": 20,
    "start_time": "2021-09-25T16:53:05.909Z"
   },
   {
    "duration": 106,
    "start_time": "2021-09-25T16:56:12.957Z"
   },
   {
    "duration": 3,
    "start_time": "2021-09-25T16:56:42.040Z"
   },
   {
    "duration": 73,
    "start_time": "2021-09-25T16:56:42.046Z"
   },
   {
    "duration": 19,
    "start_time": "2021-09-25T16:56:42.122Z"
   },
   {
    "duration": 44,
    "start_time": "2021-09-25T16:56:42.143Z"
   },
   {
    "duration": 44,
    "start_time": "2021-09-25T16:56:42.190Z"
   },
   {
    "duration": 10,
    "start_time": "2021-09-25T16:56:42.237Z"
   },
   {
    "duration": 41,
    "start_time": "2021-09-25T16:56:42.249Z"
   },
   {
    "duration": 20,
    "start_time": "2021-09-25T16:56:42.293Z"
   },
   {
    "duration": 8,
    "start_time": "2021-09-25T16:56:42.317Z"
   },
   {
    "duration": 11,
    "start_time": "2021-09-25T16:56:42.328Z"
   },
   {
    "duration": 40,
    "start_time": "2021-09-25T16:56:42.342Z"
   },
   {
    "duration": 22,
    "start_time": "2021-09-25T16:56:42.385Z"
   },
   {
    "duration": 12,
    "start_time": "2021-09-25T16:56:42.410Z"
   },
   {
    "duration": 11,
    "start_time": "2021-09-25T16:56:42.425Z"
   },
   {
    "duration": 46,
    "start_time": "2021-09-25T16:56:42.438Z"
   },
   {
    "duration": 10,
    "start_time": "2021-09-25T16:56:42.487Z"
   },
   {
    "duration": 4,
    "start_time": "2021-09-25T16:56:42.500Z"
   },
   {
    "duration": 16,
    "start_time": "2021-09-25T16:56:42.506Z"
   },
   {
    "duration": 22,
    "start_time": "2021-09-25T16:56:42.525Z"
   },
   {
    "duration": 41,
    "start_time": "2021-09-25T16:56:42.549Z"
   },
   {
    "duration": 6,
    "start_time": "2021-09-25T16:56:42.592Z"
   },
   {
    "duration": 6,
    "start_time": "2021-09-25T16:56:42.601Z"
   },
   {
    "duration": 6,
    "start_time": "2021-09-25T16:56:42.610Z"
   },
   {
    "duration": 8,
    "start_time": "2021-09-25T16:56:42.619Z"
   },
   {
    "duration": 7,
    "start_time": "2021-09-25T16:56:42.630Z"
   },
   {
    "duration": 10,
    "start_time": "2021-09-25T17:55:00.531Z"
   },
   {
    "duration": 7,
    "start_time": "2021-09-25T17:55:08.099Z"
   },
   {
    "duration": 7,
    "start_time": "2021-09-25T18:04:27.730Z"
   },
   {
    "duration": 6,
    "start_time": "2021-09-25T18:04:43.483Z"
   },
   {
    "duration": 6,
    "start_time": "2021-09-25T18:06:40.029Z"
   },
   {
    "duration": 309,
    "start_time": "2021-09-25T18:06:47.055Z"
   },
   {
    "duration": 349,
    "start_time": "2021-09-25T18:06:52.046Z"
   },
   {
    "duration": 5,
    "start_time": "2021-09-25T18:07:05.487Z"
   },
   {
    "duration": 6,
    "start_time": "2021-09-25T18:07:13.385Z"
   },
   {
    "duration": 8,
    "start_time": "2021-09-25T18:07:22.805Z"
   },
   {
    "duration": 308,
    "start_time": "2021-09-25T18:07:27.596Z"
   },
   {
    "duration": 309,
    "start_time": "2021-09-25T18:07:33.766Z"
   },
   {
    "duration": 9,
    "start_time": "2021-09-25T18:07:59.982Z"
   },
   {
    "duration": 7,
    "start_time": "2021-09-25T18:08:52.127Z"
   },
   {
    "duration": 7,
    "start_time": "2021-09-25T18:09:04.155Z"
   },
   {
    "duration": 6,
    "start_time": "2021-09-25T18:09:24.720Z"
   },
   {
    "duration": 260,
    "start_time": "2021-09-25T18:11:29.693Z"
   },
   {
    "duration": 265,
    "start_time": "2021-09-25T18:12:12.292Z"
   },
   {
    "duration": 291,
    "start_time": "2021-09-25T18:12:19.356Z"
   },
   {
    "duration": 7971,
    "start_time": "2021-09-25T18:12:38.523Z"
   },
   {
    "duration": 488,
    "start_time": "2021-09-25T18:12:54.169Z"
   },
   {
    "duration": 272,
    "start_time": "2021-09-25T18:13:06.213Z"
   },
   {
    "duration": 6,
    "start_time": "2021-09-25T18:13:13.743Z"
   },
   {
    "duration": 5,
    "start_time": "2021-09-25T18:13:24.190Z"
   },
   {
    "duration": 388,
    "start_time": "2021-09-25T18:13:30.028Z"
   },
   {
    "duration": 291,
    "start_time": "2021-09-25T18:14:31.793Z"
   },
   {
    "duration": 282,
    "start_time": "2021-09-25T18:14:37.507Z"
   },
   {
    "duration": 5,
    "start_time": "2021-09-25T18:14:47.417Z"
   },
   {
    "duration": 7,
    "start_time": "2021-09-25T18:14:51.688Z"
   },
   {
    "duration": 27,
    "start_time": "2021-09-25T18:24:33.020Z"
   },
   {
    "duration": 32,
    "start_time": "2021-09-25T18:47:32.318Z"
   },
   {
    "duration": 30,
    "start_time": "2021-09-25T18:47:34.476Z"
   },
   {
    "duration": 8,
    "start_time": "2021-09-25T18:47:56.149Z"
   },
   {
    "duration": 13,
    "start_time": "2021-09-25T18:48:03.250Z"
   },
   {
    "duration": 84,
    "start_time": "2021-09-25T18:49:27.996Z"
   },
   {
    "duration": 10,
    "start_time": "2021-09-25T18:49:32.048Z"
   },
   {
    "duration": 8,
    "start_time": "2021-09-25T18:49:41.726Z"
   },
   {
    "duration": 258,
    "start_time": "2021-09-25T18:50:15.447Z"
   },
   {
    "duration": 11,
    "start_time": "2021-09-25T18:50:18.505Z"
   },
   {
    "duration": 12,
    "start_time": "2021-09-25T18:51:16.632Z"
   },
   {
    "duration": 10,
    "start_time": "2021-09-25T18:51:40.069Z"
   },
   {
    "duration": 11,
    "start_time": "2021-09-25T18:52:05.559Z"
   },
   {
    "duration": 360,
    "start_time": "2021-09-25T18:52:30.784Z"
   },
   {
    "duration": 27,
    "start_time": "2021-09-25T18:52:39.616Z"
   },
   {
    "duration": 24,
    "start_time": "2021-09-25T18:52:46.496Z"
   },
   {
    "duration": 54,
    "start_time": "2021-09-25T18:55:45.672Z"
   },
   {
    "duration": 4,
    "start_time": "2021-09-25T18:56:02.589Z"
   },
   {
    "duration": 68,
    "start_time": "2021-09-25T18:56:02.596Z"
   },
   {
    "duration": 30,
    "start_time": "2021-09-25T18:56:02.667Z"
   },
   {
    "duration": 22,
    "start_time": "2021-09-25T18:56:02.700Z"
   },
   {
    "duration": 102,
    "start_time": "2021-09-25T18:56:02.725Z"
   },
   {
    "duration": 13,
    "start_time": "2021-09-25T18:56:02.830Z"
   },
   {
    "duration": 48,
    "start_time": "2021-09-25T18:56:02.847Z"
   },
   {
    "duration": 24,
    "start_time": "2021-09-25T18:56:02.897Z"
   },
   {
    "duration": 8,
    "start_time": "2021-09-25T18:56:02.926Z"
   },
   {
    "duration": 45,
    "start_time": "2021-09-25T18:56:02.937Z"
   },
   {
    "duration": 6,
    "start_time": "2021-09-25T18:56:02.985Z"
   },
   {
    "duration": 22,
    "start_time": "2021-09-25T18:56:02.994Z"
   },
   {
    "duration": 8,
    "start_time": "2021-09-25T18:56:03.018Z"
   },
   {
    "duration": 16,
    "start_time": "2021-09-25T18:56:03.029Z"
   },
   {
    "duration": 46,
    "start_time": "2021-09-25T18:56:03.047Z"
   },
   {
    "duration": 14,
    "start_time": "2021-09-25T18:56:03.096Z"
   },
   {
    "duration": 5,
    "start_time": "2021-09-25T18:56:03.113Z"
   },
   {
    "duration": 18,
    "start_time": "2021-09-25T18:56:03.120Z"
   },
   {
    "duration": 59,
    "start_time": "2021-09-25T18:56:03.141Z"
   },
   {
    "duration": 10,
    "start_time": "2021-09-25T18:56:03.203Z"
   },
   {
    "duration": 6,
    "start_time": "2021-09-25T18:56:03.216Z"
   },
   {
    "duration": 11,
    "start_time": "2021-09-25T18:56:03.225Z"
   },
   {
    "duration": 48,
    "start_time": "2021-09-25T18:56:03.238Z"
   },
   {
    "duration": 7,
    "start_time": "2021-09-25T18:56:03.289Z"
   },
   {
    "duration": 8,
    "start_time": "2021-09-25T18:56:03.298Z"
   },
   {
    "duration": 12,
    "start_time": "2021-09-25T18:56:03.309Z"
   },
   {
    "duration": 7,
    "start_time": "2021-09-25T18:56:03.326Z"
   },
   {
    "duration": 69,
    "start_time": "2021-09-25T18:56:03.336Z"
   },
   {
    "duration": 8,
    "start_time": "2021-09-25T18:56:03.407Z"
   },
   {
    "duration": 12,
    "start_time": "2021-09-25T18:56:03.417Z"
   },
   {
    "duration": 11,
    "start_time": "2021-09-25T18:56:03.431Z"
   },
   {
    "duration": 40,
    "start_time": "2021-09-25T18:56:03.444Z"
   },
   {
    "duration": 9,
    "start_time": "2021-09-25T18:56:03.487Z"
   },
   {
    "duration": 19,
    "start_time": "2021-09-25T18:56:03.499Z"
   },
   {
    "duration": 17,
    "start_time": "2021-09-25T18:56:03.521Z"
   },
   {
    "duration": 44,
    "start_time": "2021-09-25T18:56:03.541Z"
   },
   {
    "duration": 20,
    "start_time": "2021-09-25T18:56:03.588Z"
   },
   {
    "duration": 21,
    "start_time": "2021-09-25T18:56:03.611Z"
   },
   {
    "duration": 11,
    "start_time": "2021-09-25T18:56:03.635Z"
   },
   {
    "duration": 51,
    "start_time": "2021-09-25T18:56:03.648Z"
   },
   {
    "duration": 17,
    "start_time": "2021-09-25T18:56:03.702Z"
   },
   {
    "duration": 51,
    "start_time": "2021-09-25T18:56:23.881Z"
   },
   {
    "duration": 26,
    "start_time": "2021-09-25T18:56:30.494Z"
   },
   {
    "duration": 34,
    "start_time": "2021-09-25T19:00:28.148Z"
   },
   {
    "duration": 88,
    "start_time": "2021-09-25T19:01:45.316Z"
   },
   {
    "duration": 37,
    "start_time": "2021-09-25T19:02:05.031Z"
   },
   {
    "duration": 18,
    "start_time": "2021-09-25T19:02:52.101Z"
   },
   {
    "duration": 36,
    "start_time": "2021-09-25T19:03:04.105Z"
   },
   {
    "duration": 32,
    "start_time": "2021-09-25T19:03:57.165Z"
   },
   {
    "duration": 293,
    "start_time": "2021-09-25T19:06:13.387Z"
   },
   {
    "duration": 28,
    "start_time": "2021-09-25T19:06:49.361Z"
   },
   {
    "duration": 25,
    "start_time": "2021-09-25T19:06:58.271Z"
   },
   {
    "duration": 285,
    "start_time": "2021-09-26T03:11:26.730Z"
   },
   {
    "duration": 604,
    "start_time": "2021-09-26T03:11:34.785Z"
   },
   {
    "duration": 407,
    "start_time": "2021-09-26T03:11:35.391Z"
   },
   {
    "duration": 21,
    "start_time": "2021-09-26T03:11:35.800Z"
   },
   {
    "duration": 11,
    "start_time": "2021-09-26T03:11:35.823Z"
   },
   {
    "duration": 33,
    "start_time": "2021-09-26T03:11:35.836Z"
   },
   {
    "duration": 8,
    "start_time": "2021-09-26T03:11:35.871Z"
   },
   {
    "duration": 16,
    "start_time": "2021-09-26T03:11:35.881Z"
   },
   {
    "duration": 15,
    "start_time": "2021-09-26T03:11:35.899Z"
   },
   {
    "duration": 7,
    "start_time": "2021-09-26T03:11:35.917Z"
   },
   {
    "duration": 5,
    "start_time": "2021-09-26T03:11:35.951Z"
   },
   {
    "duration": 9,
    "start_time": "2021-09-26T03:11:35.958Z"
   },
   {
    "duration": 16,
    "start_time": "2021-09-26T03:11:35.969Z"
   },
   {
    "duration": 7,
    "start_time": "2021-09-26T03:11:35.987Z"
   },
   {
    "duration": 11,
    "start_time": "2021-09-26T03:11:35.996Z"
   },
   {
    "duration": 43,
    "start_time": "2021-09-26T03:11:36.009Z"
   },
   {
    "duration": 13,
    "start_time": "2021-09-26T03:11:36.054Z"
   },
   {
    "duration": 6,
    "start_time": "2021-09-26T03:11:36.069Z"
   },
   {
    "duration": 12,
    "start_time": "2021-09-26T03:11:36.077Z"
   },
   {
    "duration": 16,
    "start_time": "2021-09-26T03:11:36.091Z"
   },
   {
    "duration": 8,
    "start_time": "2021-09-26T03:11:36.109Z"
   },
   {
    "duration": 8,
    "start_time": "2021-09-26T03:11:36.119Z"
   },
   {
    "duration": 24,
    "start_time": "2021-09-26T03:11:36.129Z"
   },
   {
    "duration": 8,
    "start_time": "2021-09-26T03:11:36.155Z"
   },
   {
    "duration": 14,
    "start_time": "2021-09-26T03:11:36.165Z"
   },
   {
    "duration": 10,
    "start_time": "2021-09-26T03:11:36.181Z"
   },
   {
    "duration": 18,
    "start_time": "2021-09-26T03:11:36.193Z"
   },
   {
    "duration": 4,
    "start_time": "2021-09-26T03:11:36.215Z"
   },
   {
    "duration": 41,
    "start_time": "2021-09-26T03:11:36.221Z"
   },
   {
    "duration": 5,
    "start_time": "2021-09-26T03:11:36.264Z"
   },
   {
    "duration": 11,
    "start_time": "2021-09-26T03:11:36.271Z"
   },
   {
    "duration": 11,
    "start_time": "2021-09-26T03:11:36.284Z"
   },
   {
    "duration": 12,
    "start_time": "2021-09-26T03:11:36.297Z"
   },
   {
    "duration": 7,
    "start_time": "2021-09-26T03:11:36.311Z"
   },
   {
    "duration": 33,
    "start_time": "2021-09-26T03:11:36.320Z"
   },
   {
    "duration": 13,
    "start_time": "2021-09-26T03:11:36.356Z"
   },
   {
    "duration": 4,
    "start_time": "2021-09-26T03:11:36.371Z"
   },
   {
    "duration": 14,
    "start_time": "2021-09-26T03:11:36.377Z"
   },
   {
    "duration": 17,
    "start_time": "2021-09-26T03:11:36.393Z"
   },
   {
    "duration": 42,
    "start_time": "2021-09-26T03:11:36.412Z"
   },
   {
    "duration": 12,
    "start_time": "2021-09-26T03:11:36.456Z"
   },
   {
    "duration": 13,
    "start_time": "2021-09-26T03:11:36.470Z"
   },
   {
    "duration": 21,
    "start_time": "2021-09-26T03:11:36.485Z"
   },
   {
    "duration": 46,
    "start_time": "2021-09-26T03:11:36.508Z"
   },
   {
    "duration": 17,
    "start_time": "2021-09-26T03:11:36.556Z"
   },
   {
    "duration": 4146,
    "start_time": "2021-09-26T03:11:36.575Z"
   },
   {
    "duration": 26,
    "start_time": "2021-09-26T03:11:40.724Z"
   },
   {
    "duration": 8,
    "start_time": "2021-09-26T03:11:40.752Z"
   },
   {
    "duration": 10,
    "start_time": "2021-09-26T03:11:40.761Z"
   },
   {
    "duration": 15,
    "start_time": "2021-09-26T03:11:40.773Z"
   },
   {
    "duration": 6,
    "start_time": "2021-09-26T03:11:40.789Z"
   },
   {
    "duration": 9,
    "start_time": "2021-09-26T03:11:40.796Z"
   },
   {
    "duration": 6,
    "start_time": "2021-09-26T03:11:40.807Z"
   },
   {
    "duration": 36,
    "start_time": "2021-09-26T03:11:40.814Z"
   },
   {
    "duration": 17,
    "start_time": "2021-09-26T03:11:40.852Z"
   },
   {
    "duration": 16,
    "start_time": "2021-09-26T03:11:40.871Z"
   },
   {
    "duration": 10,
    "start_time": "2021-09-26T03:11:40.889Z"
   },
   {
    "duration": 36,
    "start_time": "2021-09-26T03:11:51.028Z"
   },
   {
    "duration": 8,
    "start_time": "2021-09-26T03:12:06.602Z"
   },
   {
    "duration": 17,
    "start_time": "2021-09-26T03:13:17.634Z"
   },
   {
    "duration": 10,
    "start_time": "2021-09-26T03:14:30.868Z"
   },
   {
    "duration": 8,
    "start_time": "2021-09-26T03:14:36.782Z"
   },
   {
    "duration": 9,
    "start_time": "2021-09-26T03:17:22.499Z"
   },
   {
    "duration": 5,
    "start_time": "2021-09-26T03:19:57.949Z"
   },
   {
    "duration": 5,
    "start_time": "2021-09-26T03:20:18.027Z"
   },
   {
    "duration": 5,
    "start_time": "2021-09-26T03:20:22.417Z"
   },
   {
    "duration": 4,
    "start_time": "2021-09-26T03:20:28.612Z"
   },
   {
    "duration": 11,
    "start_time": "2021-09-26T03:20:47.684Z"
   },
   {
    "duration": 5,
    "start_time": "2021-09-26T03:20:52.889Z"
   },
   {
    "duration": 5,
    "start_time": "2021-09-26T03:21:27.305Z"
   },
   {
    "duration": 5,
    "start_time": "2021-09-26T03:21:39.154Z"
   },
   {
    "duration": 5,
    "start_time": "2021-09-26T03:21:57.065Z"
   },
   {
    "duration": 8,
    "start_time": "2021-09-26T03:28:38.740Z"
   },
   {
    "duration": 6,
    "start_time": "2021-09-26T03:28:56.445Z"
   },
   {
    "duration": 276,
    "start_time": "2021-09-26T03:29:52.908Z"
   },
   {
    "duration": 226,
    "start_time": "2021-09-26T03:29:57.977Z"
   },
   {
    "duration": 615,
    "start_time": "2021-09-26T03:30:02.769Z"
   },
   {
    "duration": 5,
    "start_time": "2021-09-26T03:30:06.646Z"
   },
   {
    "duration": 5,
    "start_time": "2021-09-26T03:30:41.635Z"
   },
   {
    "duration": 4,
    "start_time": "2021-09-26T03:30:54.555Z"
   },
   {
    "duration": 4,
    "start_time": "2021-09-26T03:31:00.717Z"
   },
   {
    "duration": 5,
    "start_time": "2021-09-26T03:31:16.856Z"
   },
   {
    "duration": 4,
    "start_time": "2021-09-26T03:31:43.898Z"
   },
   {
    "duration": 4,
    "start_time": "2021-09-26T03:32:58.190Z"
   },
   {
    "duration": 80,
    "start_time": "2021-09-26T03:35:56.469Z"
   },
   {
    "duration": 4,
    "start_time": "2021-09-26T03:36:02.747Z"
   },
   {
    "duration": 5,
    "start_time": "2021-09-26T03:36:24.661Z"
   },
   {
    "duration": 5,
    "start_time": "2021-09-26T03:37:23.458Z"
   },
   {
    "duration": 93,
    "start_time": "2021-09-26T03:38:16.541Z"
   },
   {
    "duration": 5,
    "start_time": "2021-09-26T03:40:09.364Z"
   },
   {
    "duration": 5,
    "start_time": "2021-09-26T03:40:19.235Z"
   },
   {
    "duration": 6,
    "start_time": "2021-09-26T03:41:01.709Z"
   },
   {
    "duration": 5,
    "start_time": "2021-09-26T03:42:04.203Z"
   },
   {
    "duration": 6,
    "start_time": "2021-09-26T03:42:22.032Z"
   },
   {
    "duration": 6208,
    "start_time": "2021-09-26T03:42:51.492Z"
   },
   {
    "duration": 6,
    "start_time": "2021-09-26T03:43:10.633Z"
   },
   {
    "duration": 4,
    "start_time": "2021-09-26T03:43:35.017Z"
   },
   {
    "duration": 1161,
    "start_time": "2021-09-26T03:44:09.535Z"
   },
   {
    "duration": 5,
    "start_time": "2021-09-26T03:44:16.494Z"
   },
   {
    "duration": 5,
    "start_time": "2021-09-26T03:44:35.310Z"
   },
   {
    "duration": 90,
    "start_time": "2021-09-26T04:19:09.705Z"
   },
   {
    "duration": 79,
    "start_time": "2021-09-26T04:25:14.698Z"
   },
   {
    "duration": 9,
    "start_time": "2021-09-26T05:05:32.905Z"
   },
   {
    "duration": 9,
    "start_time": "2021-09-26T05:42:33.822Z"
   },
   {
    "duration": 9,
    "start_time": "2021-09-26T05:42:42.340Z"
   },
   {
    "duration": 5742,
    "start_time": "2021-09-26T05:48:19.940Z"
   },
   {
    "duration": 8,
    "start_time": "2021-09-26T05:48:31.986Z"
   },
   {
    "duration": 11,
    "start_time": "2021-09-26T05:59:03.644Z"
   },
   {
    "duration": 6,
    "start_time": "2021-09-26T05:59:05.546Z"
   },
   {
    "duration": 1126,
    "start_time": "2021-09-26T06:06:33.829Z"
   },
   {
    "duration": 14,
    "start_time": "2021-09-26T06:06:37.894Z"
   },
   {
    "duration": 9,
    "start_time": "2021-09-26T06:06:57.101Z"
   },
   {
    "duration": 91,
    "start_time": "2021-09-26T06:16:23.923Z"
   },
   {
    "duration": 4,
    "start_time": "2021-09-26T06:16:40.680Z"
   },
   {
    "duration": 975,
    "start_time": "2021-09-26T06:16:49.996Z"
   },
   {
    "duration": 15,
    "start_time": "2021-09-26T06:16:54.895Z"
   },
   {
    "duration": 5,
    "start_time": "2021-09-26T06:17:46.145Z"
   },
   {
    "duration": 1161,
    "start_time": "2021-09-26T06:17:48.425Z"
   },
   {
    "duration": 13,
    "start_time": "2021-09-26T06:17:50.795Z"
   },
   {
    "duration": 8,
    "start_time": "2021-09-26T06:18:02.198Z"
   },
   {
    "duration": 267,
    "start_time": "2021-09-26T06:28:39.484Z"
   },
   {
    "duration": 7,
    "start_time": "2021-09-26T07:05:56.881Z"
   },
   {
    "duration": 99,
    "start_time": "2021-09-26T07:06:38.157Z"
   },
   {
    "duration": 18,
    "start_time": "2021-09-26T07:08:02.390Z"
   },
   {
    "duration": 6060,
    "start_time": "2021-09-26T07:08:25.557Z"
   },
   {
    "duration": -44,
    "start_time": "2021-09-26T07:08:58.722Z"
   },
   {
    "duration": 8,
    "start_time": "2021-09-26T07:11:27.114Z"
   },
   {
    "duration": 6,
    "start_time": "2021-09-26T07:11:35.049Z"
   },
   {
    "duration": 6,
    "start_time": "2021-09-26T07:11:40.464Z"
   },
   {
    "duration": 6,
    "start_time": "2021-09-26T07:11:49.750Z"
   },
   {
    "duration": 7,
    "start_time": "2021-09-26T07:12:03.877Z"
   },
   {
    "duration": 7,
    "start_time": "2021-09-26T07:12:16.431Z"
   },
   {
    "duration": 8,
    "start_time": "2021-09-26T07:12:28.080Z"
   },
   {
    "duration": 8,
    "start_time": "2021-09-26T07:12:38.989Z"
   },
   {
    "duration": 934,
    "start_time": "2021-09-26T07:16:59.847Z"
   },
   {
    "duration": 3,
    "start_time": "2021-09-26T07:17:04.574Z"
   },
   {
    "duration": 7,
    "start_time": "2021-09-26T07:17:06.475Z"
   },
   {
    "duration": 16,
    "start_time": "2021-09-26T07:17:18.422Z"
   },
   {
    "duration": 3,
    "start_time": "2021-09-26T07:18:16.733Z"
   },
   {
    "duration": 8,
    "start_time": "2021-09-26T07:18:18.463Z"
   },
   {
    "duration": 15,
    "start_time": "2021-09-26T07:18:19.936Z"
   },
   {
    "duration": 3,
    "start_time": "2021-09-26T07:18:45.893Z"
   },
   {
    "duration": 54,
    "start_time": "2021-09-26T07:18:45.898Z"
   },
   {
    "duration": 12,
    "start_time": "2021-09-26T07:18:45.954Z"
   },
   {
    "duration": 14,
    "start_time": "2021-09-26T07:18:45.968Z"
   },
   {
    "duration": 65,
    "start_time": "2021-09-26T07:18:45.984Z"
   },
   {
    "duration": 8,
    "start_time": "2021-09-26T07:18:46.052Z"
   },
   {
    "duration": 14,
    "start_time": "2021-09-26T07:18:46.062Z"
   },
   {
    "duration": 16,
    "start_time": "2021-09-26T07:18:46.079Z"
   },
   {
    "duration": 9,
    "start_time": "2021-09-26T07:18:46.097Z"
   },
   {
    "duration": 5,
    "start_time": "2021-09-26T07:18:46.148Z"
   },
   {
    "duration": 6,
    "start_time": "2021-09-26T07:18:46.155Z"
   },
   {
    "duration": 16,
    "start_time": "2021-09-26T07:18:46.163Z"
   },
   {
    "duration": 6,
    "start_time": "2021-09-26T07:18:46.181Z"
   },
   {
    "duration": 10,
    "start_time": "2021-09-26T07:18:46.188Z"
   },
   {
    "duration": 7,
    "start_time": "2021-09-26T07:18:46.200Z"
   },
   {
    "duration": 45,
    "start_time": "2021-09-26T07:18:46.209Z"
   },
   {
    "duration": 4,
    "start_time": "2021-09-26T07:18:46.255Z"
   },
   {
    "duration": 13,
    "start_time": "2021-09-26T07:18:46.261Z"
   },
   {
    "duration": 16,
    "start_time": "2021-09-26T07:18:46.275Z"
   },
   {
    "duration": 10,
    "start_time": "2021-09-26T07:18:46.293Z"
   },
   {
    "duration": 11,
    "start_time": "2021-09-26T07:18:46.305Z"
   },
   {
    "duration": 8,
    "start_time": "2021-09-26T07:18:46.318Z"
   },
   {
    "duration": 23,
    "start_time": "2021-09-26T07:18:46.329Z"
   },
   {
    "duration": 6,
    "start_time": "2021-09-26T07:18:46.356Z"
   },
   {
    "duration": 11,
    "start_time": "2021-09-26T07:18:46.364Z"
   },
   {
    "duration": 10,
    "start_time": "2021-09-26T07:18:46.377Z"
   },
   {
    "duration": 10,
    "start_time": "2021-09-26T07:18:46.388Z"
   },
   {
    "duration": 25,
    "start_time": "2021-09-26T07:18:46.400Z"
   },
   {
    "duration": 5,
    "start_time": "2021-09-26T07:18:46.427Z"
   },
   {
    "duration": 7,
    "start_time": "2021-09-26T07:18:46.449Z"
   },
   {
    "duration": 13,
    "start_time": "2021-09-26T07:18:46.458Z"
   },
   {
    "duration": 11,
    "start_time": "2021-09-26T07:18:46.472Z"
   },
   {
    "duration": 11,
    "start_time": "2021-09-26T07:18:46.484Z"
   },
   {
    "duration": 16,
    "start_time": "2021-09-26T07:18:46.497Z"
   },
   {
    "duration": 12,
    "start_time": "2021-09-26T07:18:46.515Z"
   },
   {
    "duration": 22,
    "start_time": "2021-09-26T07:18:46.529Z"
   },
   {
    "duration": 13,
    "start_time": "2021-09-26T07:18:46.553Z"
   },
   {
    "duration": 12,
    "start_time": "2021-09-26T07:18:46.568Z"
   },
   {
    "duration": 7,
    "start_time": "2021-09-26T07:18:46.581Z"
   },
   {
    "duration": 16,
    "start_time": "2021-09-26T07:18:46.590Z"
   },
   {
    "duration": 16,
    "start_time": "2021-09-26T07:18:46.608Z"
   },
   {
    "duration": 36,
    "start_time": "2021-09-26T07:18:46.626Z"
   },
   {
    "duration": 17,
    "start_time": "2021-09-26T07:18:46.664Z"
   },
   {
    "duration": 17,
    "start_time": "2021-09-26T07:18:46.683Z"
   },
   {
    "duration": 3537,
    "start_time": "2021-09-26T07:18:46.701Z"
   },
   {
    "duration": 20,
    "start_time": "2021-09-26T07:18:50.240Z"
   },
   {
    "duration": 8,
    "start_time": "2021-09-26T07:18:50.262Z"
   },
   {
    "duration": 9,
    "start_time": "2021-09-26T07:18:50.272Z"
   },
   {
    "duration": 15,
    "start_time": "2021-09-26T07:18:50.283Z"
   },
   {
    "duration": 6,
    "start_time": "2021-09-26T07:18:50.300Z"
   },
   {
    "duration": 5,
    "start_time": "2021-09-26T07:18:50.308Z"
   },
   {
    "duration": 37,
    "start_time": "2021-09-26T07:18:50.315Z"
   },
   {
    "duration": 11,
    "start_time": "2021-09-26T07:18:50.354Z"
   },
   {
    "duration": 11,
    "start_time": "2021-09-26T07:18:50.367Z"
   },
   {
    "duration": 9,
    "start_time": "2021-09-26T07:18:50.380Z"
   },
   {
    "duration": 16,
    "start_time": "2021-09-26T07:18:50.390Z"
   },
   {
    "duration": 6,
    "start_time": "2021-09-26T07:18:50.407Z"
   },
   {
    "duration": 37,
    "start_time": "2021-09-26T07:18:50.414Z"
   },
   {
    "duration": 1144,
    "start_time": "2021-09-26T07:18:50.453Z"
   },
   {
    "duration": 13,
    "start_time": "2021-09-26T07:18:51.598Z"
   },
   {
    "duration": 9,
    "start_time": "2021-09-26T07:18:51.613Z"
   },
   {
    "duration": 28,
    "start_time": "2021-09-26T07:18:51.624Z"
   },
   {
    "duration": 20,
    "start_time": "2021-09-26T07:18:51.654Z"
   },
   {
    "duration": 17,
    "start_time": "2021-09-26T07:18:51.676Z"
   },
   {
    "duration": 9,
    "start_time": "2021-09-26T07:18:51.695Z"
   },
   {
    "duration": 13,
    "start_time": "2021-09-26T07:18:51.706Z"
   },
   {
    "duration": 32,
    "start_time": "2021-09-26T07:18:51.721Z"
   },
   {
    "duration": 7,
    "start_time": "2021-09-26T07:18:51.758Z"
   },
   {
    "duration": 4,
    "start_time": "2021-09-26T07:18:51.767Z"
   },
   {
    "duration": 9,
    "start_time": "2021-09-26T07:18:51.773Z"
   },
   {
    "duration": 15,
    "start_time": "2021-09-26T07:18:56.985Z"
   },
   {
    "duration": 3,
    "start_time": "2021-09-26T07:23:33.561Z"
   },
   {
    "duration": 7,
    "start_time": "2021-09-26T07:24:13.922Z"
   },
   {
    "duration": 16,
    "start_time": "2021-09-26T07:24:28.022Z"
   },
   {
    "duration": 80,
    "start_time": "2021-09-26T07:36:23.818Z"
   },
   {
    "duration": 15,
    "start_time": "2021-09-26T07:37:59.156Z"
   },
   {
    "duration": 9,
    "start_time": "2021-09-26T07:38:09.854Z"
   },
   {
    "duration": 3,
    "start_time": "2021-09-26T07:38:18.235Z"
   },
   {
    "duration": 7,
    "start_time": "2021-09-26T07:38:41.637Z"
   },
   {
    "duration": 9,
    "start_time": "2021-09-26T07:38:44.439Z"
   },
   {
    "duration": 8,
    "start_time": "2021-09-26T07:39:50.527Z"
   },
   {
    "duration": 6,
    "start_time": "2021-09-26T07:40:37.422Z"
   },
   {
    "duration": 9,
    "start_time": "2021-09-26T07:40:50.699Z"
   },
   {
    "duration": 9,
    "start_time": "2021-09-26T07:58:44.957Z"
   },
   {
    "duration": 6,
    "start_time": "2021-09-26T07:58:48.336Z"
   },
   {
    "duration": 9,
    "start_time": "2021-09-26T07:58:50.282Z"
   },
   {
    "duration": 8,
    "start_time": "2021-09-26T07:59:41.187Z"
   },
   {
    "duration": 81,
    "start_time": "2021-09-26T08:59:06.563Z"
   },
   {
    "duration": 8,
    "start_time": "2021-09-26T09:20:07.744Z"
   },
   {
    "duration": 13,
    "start_time": "2021-09-26T09:21:20.648Z"
   },
   {
    "duration": 10,
    "start_time": "2021-09-26T09:22:12.155Z"
   },
   {
    "duration": 10,
    "start_time": "2021-09-26T09:24:56.439Z"
   },
   {
    "duration": 248,
    "start_time": "2021-09-26T09:56:14.109Z"
   },
   {
    "duration": 79,
    "start_time": "2021-09-26T10:38:35.381Z"
   }
  ],
  "kernelspec": {
   "display_name": "Python 3",
   "language": "python",
   "name": "python3"
  },
  "language_info": {
   "codemirror_mode": {
    "name": "ipython",
    "version": 3
   },
   "file_extension": ".py",
   "mimetype": "text/x-python",
   "name": "python",
   "nbconvert_exporter": "python",
   "pygments_lexer": "ipython3",
   "version": "3.8.8"
  },
  "toc": {
   "base_numbering": 1,
   "nav_menu": {
    "height": "216px",
    "width": "583px"
   },
   "number_sections": true,
   "sideBar": true,
   "skip_h1_title": true,
   "title_cell": "Table of Contents",
   "title_sidebar": "Contents",
   "toc_cell": false,
   "toc_position": {},
   "toc_section_display": true,
   "toc_window_display": true
  }
 },
 "nbformat": 4,
 "nbformat_minor": 2
}
