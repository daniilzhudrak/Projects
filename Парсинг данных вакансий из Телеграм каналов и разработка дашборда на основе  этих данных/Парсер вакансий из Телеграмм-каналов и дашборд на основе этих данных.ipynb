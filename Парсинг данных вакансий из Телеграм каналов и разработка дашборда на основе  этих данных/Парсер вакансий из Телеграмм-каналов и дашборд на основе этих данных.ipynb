{
 "cells": [
  {
   "cell_type": "markdown",
   "id": "b404a28a",
   "metadata": {},
   "source": [
    "# Проект создания дашборда дата-вакансий из Телеграм-каналов"
   ]
  },
  {
   "cell_type": "markdown",
   "id": "5888f61e",
   "metadata": {},
   "source": [
    "В рамках данного проекта необходимо выполнить:\n",
    "\n",
    "1. Парсинг данных из необходимых Телеграм-каналов.\n",
    "\n",
    "2. Обработать данные:\n",
    "\n",
    "    - Выполнить соответствие типа данных.\n",
    "    \n",
    "    - Удалить полные дубликаты.\n",
    "    \n",
    "    - Удалить неявные дубликаты.\n",
    "    \n",
    "    \n",
    "3. Выделить из текста вакансий:\n",
    "\n",
    "    - Позицию вакансии.\n",
    "    \n",
    "    - Грейд.\n",
    "    \n",
    "    - Необходимые hard-skills.\n",
    "    \n",
    "    - Формат работы.\n",
    "    \n",
    "    - Город вакансии.\n",
    "    \n",
    "    \n",
    "4. Сохранить необходимые столбцы в финальный дата-фрейм.\n",
    "\n",
    "5. Создать дашборд вакансий и необходимых hard-skills."
   ]
  },
  {
   "cell_type": "markdown",
   "id": "dfc9bd56",
   "metadata": {},
   "source": [
    "## Парсинг вакансий из Телеграм-каналов"
   ]
  },
  {
   "cell_type": "code",
   "execution_count": 1,
   "id": "ffe411f7",
   "metadata": {},
   "outputs": [],
   "source": [
    "# установка библиотеки pyrogram для взаимодействия с API Телеграма, а также библиотеки tgcrypto (ее рекомендуют в документации к Pyrogram)\n",
    "#!pip3 install pyrogram tgcrypto"
   ]
  },
  {
   "cell_type": "code",
   "execution_count": 2,
   "id": "40b581de",
   "metadata": {
    "scrolled": true
   },
   "outputs": [],
   "source": [
    "# установка библиотеки python-dotenv для хранения ключей в файлах окружения, а не в коде\n",
    "#!pip3 install python-dotenv"
   ]
  },
  {
   "cell_type": "code",
   "execution_count": 3,
   "id": "11a9d163",
   "metadata": {},
   "outputs": [],
   "source": [
    "# импорт необходимых библиотек\n",
    "import pyrogram\n",
    "import requests\n",
    "import numpy as np\n",
    "from bs4 import BeautifulSoup\n",
    "from dotenv import load_dotenv\n",
    "import os\n",
    "from pyrogram import Client\n",
    "import pandas as pd\n",
    "import json\n",
    "from datetime import datetime\n",
    "import re\n",
    "from IPython.core.display import display, HTML, clear_output\n",
    "import ipywidgets as widgets"
   ]
  },
  {
   "cell_type": "code",
   "execution_count": 4,
   "id": "fd738515",
   "metadata": {
    "scrolled": true
   },
   "outputs": [
    {
     "data": {
      "text/plain": [
       "'2.0.26'"
      ]
     },
     "execution_count": 4,
     "metadata": {},
     "output_type": "execute_result"
    }
   ],
   "source": [
    "# проверка версии библиотеки pyrogram\n",
    "pyrogram.__version__"
   ]
  },
  {
   "cell_type": "markdown",
   "id": "b9c52630",
   "metadata": {},
   "source": [
    "Сформируем 2 файла для парсинга факансий:\n",
    "\n",
    "1. Файл авторизации клиента pyrogram (pyro_auth.py).\n",
    "2. Файл парсинга вакансий в `telegram_vacances.csv` (pyro_run.py).\n",
    "\n",
    "Будем парсить вакансии из следующих Телеграм-каналов:\n",
    "\n",
    "- Business Intelligence HeadHunter\n",
    "- Data Analytics Jobs\n",
    "- Data Science Jobs / AI / NN / ML / DL / NLP\n",
    "- Data jobs feed\n",
    "- Data jobs — вакансии по data science, анализу данных, аналитике, искусственному интеллекту\n",
    "- Job for Analysts & Data Scientists\t"
   ]
  },
  {
   "cell_type": "markdown",
   "id": "1c4eba64",
   "metadata": {},
   "source": [
    "Файл авторизации (pyro_auth.py):\n",
    "\n",
    "```\n",
    "#импорт необходимых библиотек\n",
    "from pyrogram import Client\n",
    "import os\n",
    "from dotenv import load_dotenv\n",
    "\n",
    "#формирование пути к системному окружению\n",
    "path = os.path.dirname(os.path.abspath(__file__))\n",
    "\n",
    "\n",
    "#формирование полного пути к файлу dot.env\n",
    "dotenv_path = os.path.join(path + '/dot.env')\n",
    "\n",
    "#проверка наличия файла в системном окружении\n",
    "# в случае наличия файла, выгрузим его\n",
    "if os.path.exists(dotenv_path):\n",
    "\tload_dotenv(dotenv_path)\n",
    "\n",
    "# присвоение API_ID и API_HASH из файла dot.env соответствующим переменным\n",
    "API_ID = os.environ['API_ID']\n",
    "API_HASH = os.environ['API_HASH']\n",
    "\n",
    "#авторизация в API Телеграма с помощью библиотеки класса\n",
    "#в случае успешной авторизации, отправим себе сообщение \"Авторизация прошла успешно\"\n",
    "with Client (\"my_account\", API_ID, API_HASH) as app:\n",
    "\tapp.send_message(\"me\", \"Авторизация прошла успешно\")\n",
    "```"
   ]
  },
  {
   "cell_type": "markdown",
   "id": "0eccd555",
   "metadata": {},
   "source": [
    "Файл парсинга вакансий (pyro_run.py):\n",
    "```\n",
    "#импорт необходимых библиотек\n",
    "from pyrogram import Client\n",
    "import os\n",
    "from dotenv import load_dotenv\n",
    "import datetime\n",
    "import pandas as pd\n",
    "\n",
    "#формирование пути к системному окружению\n",
    "path = os.path.dirname(os.path.abspath(__file__))\n",
    "\n",
    "#формирование полного пути к файлу dot.env\n",
    "dotenv_path = os.path.join(path + '/dot.env')\n",
    "\n",
    "#проверка наличия файла в системном окружении\n",
    "# в случае наличия файла, выгрузим его\n",
    "if os.path.exists(dotenv_path):\n",
    "\tload_dotenv(dotenv_path)\n",
    "\n",
    "# обозначение параметров авторизации\n",
    "API_ID = os.environ['API_ID']\n",
    "API_HASH = os.environ['API_HASH']\n",
    "\n",
    "# обозначение каналов парсинга вакансий\n",
    "targets = ['data_hr', 'biheadhunter', 'datajobschannel', 'datajob', 'foranalysts', 'datasciencejobs']\n",
    "\n",
    "# список для всех вакансий\n",
    "all_messages = []\n",
    "\n",
    "# парсинг всех вакансий из указанных каналов\n",
    "try:\n",
    "\twith Client(\"my_account\", API_ID, API_HASH) as app:\n",
    "\t\tfor target in targets:\n",
    "\t\t\tfor message in app.get_chat_history(target, limit=app.get_chat_history_count(target)):\n",
    "\t\t\t\tall_messages.append([message.sender_chat, message.id, message.date, message.text, message.entities])\n",
    "    \n",
    "    # сохранение вакансий в дата-фрейм\n",
    "\tdf = pd.DataFrame(all_messages)\n",
    "    \n",
    "    # обозначение названий столбцов\n",
    "\tdf.columns = [\"chat\", \"message_id\", \"date\", \"text\", \"entities\"]\n",
    "    \n",
    "    # выгрузка дата-фрейма в csv-файл\n",
    "\tdf.to_csv(path + '/telegram_vacances.csv', index=False)\n",
    "    \n",
    "    # сообщение об успешном парсинге\n",
    "\tprint('Success: ', path + '/telegram_vacances.csv')\n",
    "except Exception as e:\n",
    "    \n",
    "    # в случае ошибки, сообщение об ошибке\n",
    "\tprint('Error: ', e)\n",
    "```"
   ]
  },
  {
   "cell_type": "markdown",
   "id": "cdf9a261",
   "metadata": {},
   "source": [
    "Сохраним параметры авторизации API_ID и API_HASH в файл `dot.env`."
   ]
  },
  {
   "cell_type": "code",
   "execution_count": 5,
   "id": "e2037c03",
   "metadata": {},
   "outputs": [],
   "source": [
    "#формирование пути к файлу dot.env в системном окружении\n",
    "dotenv_path = os.path.join('dot.env')\n",
    "\n",
    "#проверка наличия файла в системном окружении\n",
    "# в случае наличия файла, выгрузим его\n",
    "if os.path.exists(dotenv_path):\n",
    "    load_dotenv(dotenv_path)"
   ]
  },
  {
   "cell_type": "code",
   "execution_count": 6,
   "id": "f7d6c5a6",
   "metadata": {},
   "outputs": [
    {
     "data": {
      "text/plain": [
       "'demo'"
      ]
     },
     "execution_count": 6,
     "metadata": {},
     "output_type": "execute_result"
    }
   ],
   "source": [
    "#проверка корректной выгрузки файла dot.env\n",
    "os.environ['DEMO']"
   ]
  },
  {
   "cell_type": "code",
   "execution_count": 7,
   "id": "2b8e7c02",
   "metadata": {},
   "outputs": [],
   "source": [
    "# API_ID и API_HASH из файла dot.env\n",
    "API_ID = os.environ['API_ID']\n",
    "API_HASH = os.environ['API_HASH']"
   ]
  },
  {
   "cell_type": "markdown",
   "id": "070a34d6",
   "metadata": {},
   "source": [
    "Запустим указанные выше скрипты через Терминал."
   ]
  },
  {
   "cell_type": "markdown",
   "id": "cf6c0e50",
   "metadata": {},
   "source": [
    "## Обработка данных"
   ]
  },
  {
   "cell_type": "markdown",
   "id": "b2bdeb29",
   "metadata": {},
   "source": [
    "После успешного парсинга вакансий считаем файл `telegram_vacances.csv` в переменную `df`."
   ]
  },
  {
   "cell_type": "code",
   "execution_count": 8,
   "id": "d90d12de",
   "metadata": {},
   "outputs": [],
   "source": [
    "# считывание файла telegram_vacances.csv в переменную df\n",
    "df = pd.read_csv('telegram_vacances.csv')"
   ]
  },
  {
   "cell_type": "code",
   "execution_count": 9,
   "id": "7219fe85",
   "metadata": {
    "scrolled": true
   },
   "outputs": [
    {
     "data": {
      "text/html": [
       "<div>\n",
       "<style scoped>\n",
       "    .dataframe tbody tr th:only-of-type {\n",
       "        vertical-align: middle;\n",
       "    }\n",
       "\n",
       "    .dataframe tbody tr th {\n",
       "        vertical-align: top;\n",
       "    }\n",
       "\n",
       "    .dataframe thead th {\n",
       "        text-align: right;\n",
       "    }\n",
       "</style>\n",
       "<table border=\"1\" class=\"dataframe\">\n",
       "  <thead>\n",
       "    <tr style=\"text-align: right;\">\n",
       "      <th></th>\n",
       "      <th>chat</th>\n",
       "      <th>message_id</th>\n",
       "      <th>date</th>\n",
       "      <th>text</th>\n",
       "      <th>entities</th>\n",
       "    </tr>\n",
       "  </thead>\n",
       "  <tbody>\n",
       "    <tr>\n",
       "      <th>0</th>\n",
       "      <td>{\\n    \"_\": \"Chat\",\\n    \"id\": -1001269328727,...</td>\n",
       "      <td>261</td>\n",
       "      <td>2022-06-08 16:44:30</td>\n",
       "      <td>#Moscow #Москва #DataEngineer #ДатаИнженер #DE...</td>\n",
       "      <td>[\\n    {\\n        \"_\": \"MessageEntity\",\\n     ...</td>\n",
       "    </tr>\n",
       "    <tr>\n",
       "      <th>1</th>\n",
       "      <td>{\\n    \"_\": \"Chat\",\\n    \"id\": -1001269328727,...</td>\n",
       "      <td>260</td>\n",
       "      <td>2022-06-07 16:42:25</td>\n",
       "      <td>#вакансия #маркетинговыйаналитик #москва  #гиб...</td>\n",
       "      <td>[\\n    {\\n        \"_\": \"MessageEntity\",\\n     ...</td>\n",
       "    </tr>\n",
       "    <tr>\n",
       "      <th>2</th>\n",
       "      <td>{\\n    \"_\": \"Chat\",\\n    \"id\": -1001269328727,...</td>\n",
       "      <td>259</td>\n",
       "      <td>2022-05-28 19:47:42</td>\n",
       "      <td>NaN</td>\n",
       "      <td>NaN</td>\n",
       "    </tr>\n",
       "    <tr>\n",
       "      <th>3</th>\n",
       "      <td>{\\n    \"_\": \"Chat\",\\n    \"id\": -1001269328727,...</td>\n",
       "      <td>258</td>\n",
       "      <td>2022-05-26 18:23:53</td>\n",
       "      <td>NaN</td>\n",
       "      <td>NaN</td>\n",
       "    </tr>\n",
       "    <tr>\n",
       "      <th>4</th>\n",
       "      <td>{\\n    \"_\": \"Chat\",\\n    \"id\": -1001269328727,...</td>\n",
       "      <td>257</td>\n",
       "      <td>2022-05-21 20:19:17</td>\n",
       "      <td>NaN</td>\n",
       "      <td>NaN</td>\n",
       "    </tr>\n",
       "    <tr>\n",
       "      <th>5</th>\n",
       "      <td>{\\n    \"_\": \"Chat\",\\n    \"id\": -1001269328727,...</td>\n",
       "      <td>256</td>\n",
       "      <td>2022-05-19 19:23:11</td>\n",
       "      <td>#lookfor #russia #outstaff #fulltime \\nВсем пр...</td>\n",
       "      <td>[\\n    {\\n        \"_\": \"MessageEntity\",\\n     ...</td>\n",
       "    </tr>\n",
       "    <tr>\n",
       "      <th>6</th>\n",
       "      <td>{\\n    \"_\": \"Chat\",\\n    \"id\": -1001269328727,...</td>\n",
       "      <td>255</td>\n",
       "      <td>2022-05-19 18:45:30</td>\n",
       "      <td>#vacancy #remote #big_query #hiring\\n\\nBIG QUE...</td>\n",
       "      <td>[\\n    {\\n        \"_\": \"MessageEntity\",\\n     ...</td>\n",
       "    </tr>\n",
       "    <tr>\n",
       "      <th>7</th>\n",
       "      <td>{\\n    \"_\": \"Chat\",\\n    \"id\": -1001269328727,...</td>\n",
       "      <td>254</td>\n",
       "      <td>2022-05-18 22:54:05</td>\n",
       "      <td>Стань дата-инженером с Яндекс Практикумом\\n\\nС...</td>\n",
       "      <td>[\\n    {\\n        \"_\": \"MessageEntity\",\\n     ...</td>\n",
       "    </tr>\n",
       "    <tr>\n",
       "      <th>8</th>\n",
       "      <td>{\\n    \"_\": \"Chat\",\\n    \"id\": -1001269328727,...</td>\n",
       "      <td>253</td>\n",
       "      <td>2022-05-13 15:01:46</td>\n",
       "      <td>Позиция: Marketing Analyst\\nКомпания: CберЗвук...</td>\n",
       "      <td>[\\n    {\\n        \"_\": \"MessageEntity\",\\n     ...</td>\n",
       "    </tr>\n",
       "    <tr>\n",
       "      <th>9</th>\n",
       "      <td>{\\n    \"_\": \"Chat\",\\n    \"id\": -1001269328727,...</td>\n",
       "      <td>252</td>\n",
       "      <td>2022-05-12 22:01:46</td>\n",
       "      <td>В компанию ЦУМ требуется продуктовый аналитик,...</td>\n",
       "      <td>[\\n    {\\n        \"_\": \"MessageEntity\",\\n     ...</td>\n",
       "    </tr>\n",
       "    <tr>\n",
       "      <th>10</th>\n",
       "      <td>{\\n    \"_\": \"Chat\",\\n    \"id\": -1001269328727,...</td>\n",
       "      <td>251</td>\n",
       "      <td>2022-05-12 21:02:13</td>\n",
       "      <td>Всем привет 🙃\\n#вакансия #Senior #Productanaly...</td>\n",
       "      <td>[\\n    {\\n        \"_\": \"MessageEntity\",\\n     ...</td>\n",
       "    </tr>\n",
       "    <tr>\n",
       "      <th>11</th>\n",
       "      <td>{\\n    \"_\": \"Chat\",\\n    \"id\": -1001269328727,...</td>\n",
       "      <td>250</td>\n",
       "      <td>2022-05-12 17:32:56</td>\n",
       "      <td>Всем привет! Звук ищет системного аналитика в ...</td>\n",
       "      <td>[\\n    {\\n        \"_\": \"MessageEntity\",\\n     ...</td>\n",
       "    </tr>\n",
       "    <tr>\n",
       "      <th>12</th>\n",
       "      <td>{\\n    \"_\": \"Chat\",\\n    \"id\": -1001269328727,...</td>\n",
       "      <td>249</td>\n",
       "      <td>2022-05-12 15:48:02</td>\n",
       "      <td>Привет!\\nИщем в Ленту.Онлайн руководителя груп...</td>\n",
       "      <td>[\\n    {\\n        \"_\": \"MessageEntity\",\\n     ...</td>\n",
       "    </tr>\n",
       "    <tr>\n",
       "      <th>13</th>\n",
       "      <td>{\\n    \"_\": \"Chat\",\\n    \"id\": -1001269328727,...</td>\n",
       "      <td>248</td>\n",
       "      <td>2022-05-06 16:32:13</td>\n",
       "      <td>NaN</td>\n",
       "      <td>NaN</td>\n",
       "    </tr>\n",
       "    <tr>\n",
       "      <th>14</th>\n",
       "      <td>{\\n    \"_\": \"Chat\",\\n    \"id\": -1001269328727,...</td>\n",
       "      <td>247</td>\n",
       "      <td>2022-04-28 15:16:54</td>\n",
       "      <td>Стажировка Ozon Camp (продакт, проджект, анали...</td>\n",
       "      <td>[\\n    {\\n        \"_\": \"MessageEntity\",\\n     ...</td>\n",
       "    </tr>\n",
       "    <tr>\n",
       "      <th>15</th>\n",
       "      <td>{\\n    \"_\": \"Chat\",\\n    \"id\": -1001269328727,...</td>\n",
       "      <td>246</td>\n",
       "      <td>2022-04-22 19:10:28</td>\n",
       "      <td>вакансия #аналитик #BigData #МастерДанные #Про...</td>\n",
       "      <td>[\\n    {\\n        \"_\": \"MessageEntity\",\\n     ...</td>\n",
       "    </tr>\n",
       "    <tr>\n",
       "      <th>16</th>\n",
       "      <td>{\\n    \"_\": \"Chat\",\\n    \"id\": -1001269328727,...</td>\n",
       "      <td>245</td>\n",
       "      <td>2022-04-22 16:58:37</td>\n",
       "      <td>#работа #вакансия #job #data #data_scientist #...</td>\n",
       "      <td>[\\n    {\\n        \"_\": \"MessageEntity\",\\n     ...</td>\n",
       "    </tr>\n",
       "    <tr>\n",
       "      <th>17</th>\n",
       "      <td>{\\n    \"_\": \"Chat\",\\n    \"id\": -1001269328727,...</td>\n",
       "      <td>244</td>\n",
       "      <td>2022-04-19 18:55:31</td>\n",
       "      <td>#работа #вакансия #job #fulltime #удаленка #de...</td>\n",
       "      <td>[\\n    {\\n        \"_\": \"MessageEntity\",\\n     ...</td>\n",
       "    </tr>\n",
       "    <tr>\n",
       "      <th>18</th>\n",
       "      <td>{\\n    \"_\": \"Chat\",\\n    \"id\": -1001269328727,...</td>\n",
       "      <td>243</td>\n",
       "      <td>2022-04-18 21:45:51</td>\n",
       "      <td>#вакансия #datascientist #python #fulltime #jo...</td>\n",
       "      <td>[\\n    {\\n        \"_\": \"MessageEntity\",\\n     ...</td>\n",
       "    </tr>\n",
       "    <tr>\n",
       "      <th>19</th>\n",
       "      <td>{\\n    \"_\": \"Chat\",\\n    \"id\": -1001269328727,...</td>\n",
       "      <td>242</td>\n",
       "      <td>2022-04-16 00:25:01</td>\n",
       "      <td>#DE #python #sql #Sweden #удаленка\\n\\nИщу DE, ...</td>\n",
       "      <td>[\\n    {\\n        \"_\": \"MessageEntity\",\\n     ...</td>\n",
       "    </tr>\n",
       "    <tr>\n",
       "      <th>20</th>\n",
       "      <td>{\\n    \"_\": \"Chat\",\\n    \"id\": -1001269328727,...</td>\n",
       "      <td>241</td>\n",
       "      <td>2022-04-12 22:02:11</td>\n",
       "      <td>NaN</td>\n",
       "      <td>NaN</td>\n",
       "    </tr>\n",
       "    <tr>\n",
       "      <th>21</th>\n",
       "      <td>{\\n    \"_\": \"Chat\",\\n    \"id\": -1001269328727,...</td>\n",
       "      <td>240</td>\n",
       "      <td>2022-04-12 22:02:11</td>\n",
       "      <td>Сервис онлайн-обучения цифровым профессиям Янд...</td>\n",
       "      <td>[\\n    {\\n        \"_\": \"MessageEntity\",\\n     ...</td>\n",
       "    </tr>\n",
       "    <tr>\n",
       "      <th>22</th>\n",
       "      <td>{\\n    \"_\": \"Chat\",\\n    \"id\": -1001269328727,...</td>\n",
       "      <td>239</td>\n",
       "      <td>2022-04-12 17:16:57</td>\n",
       "      <td>#работа #вакансия #job #fulltime #удаленка #de...</td>\n",
       "      <td>[\\n    {\\n        \"_\": \"MessageEntity\",\\n     ...</td>\n",
       "    </tr>\n",
       "    <tr>\n",
       "      <th>23</th>\n",
       "      <td>{\\n    \"_\": \"Chat\",\\n    \"id\": -1001269328727,...</td>\n",
       "      <td>238</td>\n",
       "      <td>2022-04-07 14:57:26</td>\n",
       "      <td>Ищем Аналитика в Ozon\\nЛокация - Москва\\n\\nЗад...</td>\n",
       "      <td>[\\n    {\\n        \"_\": \"MessageEntity\",\\n     ...</td>\n",
       "    </tr>\n",
       "    <tr>\n",
       "      <th>24</th>\n",
       "      <td>{\\n    \"_\": \"Chat\",\\n    \"id\": -1001269328727,...</td>\n",
       "      <td>237</td>\n",
       "      <td>2022-04-07 14:56:43</td>\n",
       "      <td>Точка ищет IT-специалистов в штат\\n\\nКого мы о...</td>\n",
       "      <td>[\\n    {\\n        \"_\": \"MessageEntity\",\\n     ...</td>\n",
       "    </tr>\n",
       "    <tr>\n",
       "      <th>25</th>\n",
       "      <td>{\\n    \"_\": \"Chat\",\\n    \"id\": -1001269328727,...</td>\n",
       "      <td>236</td>\n",
       "      <td>2022-04-06 18:13:44</td>\n",
       "      <td>IT-компания Wazzup приглашает в команду кандид...</td>\n",
       "      <td>[\\n    {\\n        \"_\": \"MessageEntity\",\\n     ...</td>\n",
       "    </tr>\n",
       "    <tr>\n",
       "      <th>26</th>\n",
       "      <td>{\\n    \"_\": \"Chat\",\\n    \"id\": -1001269328727,...</td>\n",
       "      <td>235</td>\n",
       "      <td>2022-03-31 23:40:34</td>\n",
       "      <td>#Москва #вакансия #Dataanalyst #SQL #Python #B...</td>\n",
       "      <td>[\\n    {\\n        \"_\": \"MessageEntity\",\\n     ...</td>\n",
       "    </tr>\n",
       "    <tr>\n",
       "      <th>27</th>\n",
       "      <td>{\\n    \"_\": \"Chat\",\\n    \"id\": -1001269328727,...</td>\n",
       "      <td>234</td>\n",
       "      <td>2022-03-31 19:50:56</td>\n",
       "      <td>Jun+(midd) Data Science (engineer) \\n\\nПривет,...</td>\n",
       "      <td>[\\n    {\\n        \"_\": \"MessageEntity\",\\n     ...</td>\n",
       "    </tr>\n",
       "    <tr>\n",
       "      <th>28</th>\n",
       "      <td>{\\n    \"_\": \"Chat\",\\n    \"id\": -1001269328727,...</td>\n",
       "      <td>233</td>\n",
       "      <td>2022-03-29 22:17:18</td>\n",
       "      <td>В международную IT- компанию Akvelon ищем спец...</td>\n",
       "      <td>[\\n    {\\n        \"_\": \"MessageEntity\",\\n     ...</td>\n",
       "    </tr>\n",
       "    <tr>\n",
       "      <th>29</th>\n",
       "      <td>{\\n    \"_\": \"Chat\",\\n    \"id\": -1001269328727,...</td>\n",
       "      <td>232</td>\n",
       "      <td>2022-03-22 21:58:58</td>\n",
       "      <td>В дружную команду оценщиков требуется аналитик...</td>\n",
       "      <td>[\\n    {\\n        \"_\": \"MessageEntity\",\\n     ...</td>\n",
       "    </tr>\n",
       "  </tbody>\n",
       "</table>\n",
       "</div>"
      ],
      "text/plain": [
       "                                                 chat  message_id  \\\n",
       "0   {\\n    \"_\": \"Chat\",\\n    \"id\": -1001269328727,...         261   \n",
       "1   {\\n    \"_\": \"Chat\",\\n    \"id\": -1001269328727,...         260   \n",
       "2   {\\n    \"_\": \"Chat\",\\n    \"id\": -1001269328727,...         259   \n",
       "3   {\\n    \"_\": \"Chat\",\\n    \"id\": -1001269328727,...         258   \n",
       "4   {\\n    \"_\": \"Chat\",\\n    \"id\": -1001269328727,...         257   \n",
       "5   {\\n    \"_\": \"Chat\",\\n    \"id\": -1001269328727,...         256   \n",
       "6   {\\n    \"_\": \"Chat\",\\n    \"id\": -1001269328727,...         255   \n",
       "7   {\\n    \"_\": \"Chat\",\\n    \"id\": -1001269328727,...         254   \n",
       "8   {\\n    \"_\": \"Chat\",\\n    \"id\": -1001269328727,...         253   \n",
       "9   {\\n    \"_\": \"Chat\",\\n    \"id\": -1001269328727,...         252   \n",
       "10  {\\n    \"_\": \"Chat\",\\n    \"id\": -1001269328727,...         251   \n",
       "11  {\\n    \"_\": \"Chat\",\\n    \"id\": -1001269328727,...         250   \n",
       "12  {\\n    \"_\": \"Chat\",\\n    \"id\": -1001269328727,...         249   \n",
       "13  {\\n    \"_\": \"Chat\",\\n    \"id\": -1001269328727,...         248   \n",
       "14  {\\n    \"_\": \"Chat\",\\n    \"id\": -1001269328727,...         247   \n",
       "15  {\\n    \"_\": \"Chat\",\\n    \"id\": -1001269328727,...         246   \n",
       "16  {\\n    \"_\": \"Chat\",\\n    \"id\": -1001269328727,...         245   \n",
       "17  {\\n    \"_\": \"Chat\",\\n    \"id\": -1001269328727,...         244   \n",
       "18  {\\n    \"_\": \"Chat\",\\n    \"id\": -1001269328727,...         243   \n",
       "19  {\\n    \"_\": \"Chat\",\\n    \"id\": -1001269328727,...         242   \n",
       "20  {\\n    \"_\": \"Chat\",\\n    \"id\": -1001269328727,...         241   \n",
       "21  {\\n    \"_\": \"Chat\",\\n    \"id\": -1001269328727,...         240   \n",
       "22  {\\n    \"_\": \"Chat\",\\n    \"id\": -1001269328727,...         239   \n",
       "23  {\\n    \"_\": \"Chat\",\\n    \"id\": -1001269328727,...         238   \n",
       "24  {\\n    \"_\": \"Chat\",\\n    \"id\": -1001269328727,...         237   \n",
       "25  {\\n    \"_\": \"Chat\",\\n    \"id\": -1001269328727,...         236   \n",
       "26  {\\n    \"_\": \"Chat\",\\n    \"id\": -1001269328727,...         235   \n",
       "27  {\\n    \"_\": \"Chat\",\\n    \"id\": -1001269328727,...         234   \n",
       "28  {\\n    \"_\": \"Chat\",\\n    \"id\": -1001269328727,...         233   \n",
       "29  {\\n    \"_\": \"Chat\",\\n    \"id\": -1001269328727,...         232   \n",
       "\n",
       "                   date                                               text  \\\n",
       "0   2022-06-08 16:44:30  #Moscow #Москва #DataEngineer #ДатаИнженер #DE...   \n",
       "1   2022-06-07 16:42:25  #вакансия #маркетинговыйаналитик #москва  #гиб...   \n",
       "2   2022-05-28 19:47:42                                                NaN   \n",
       "3   2022-05-26 18:23:53                                                NaN   \n",
       "4   2022-05-21 20:19:17                                                NaN   \n",
       "5   2022-05-19 19:23:11  #lookfor #russia #outstaff #fulltime \\nВсем пр...   \n",
       "6   2022-05-19 18:45:30  #vacancy #remote #big_query #hiring\\n\\nBIG QUE...   \n",
       "7   2022-05-18 22:54:05  Стань дата-инженером с Яндекс Практикумом\\n\\nС...   \n",
       "8   2022-05-13 15:01:46  Позиция: Marketing Analyst\\nКомпания: CберЗвук...   \n",
       "9   2022-05-12 22:01:46  В компанию ЦУМ требуется продуктовый аналитик,...   \n",
       "10  2022-05-12 21:02:13  Всем привет 🙃\\n#вакансия #Senior #Productanaly...   \n",
       "11  2022-05-12 17:32:56  Всем привет! Звук ищет системного аналитика в ...   \n",
       "12  2022-05-12 15:48:02  Привет!\\nИщем в Ленту.Онлайн руководителя груп...   \n",
       "13  2022-05-06 16:32:13                                                NaN   \n",
       "14  2022-04-28 15:16:54  Стажировка Ozon Camp (продакт, проджект, анали...   \n",
       "15  2022-04-22 19:10:28  вакансия #аналитик #BigData #МастерДанные #Про...   \n",
       "16  2022-04-22 16:58:37  #работа #вакансия #job #data #data_scientist #...   \n",
       "17  2022-04-19 18:55:31  #работа #вакансия #job #fulltime #удаленка #de...   \n",
       "18  2022-04-18 21:45:51  #вакансия #datascientist #python #fulltime #jo...   \n",
       "19  2022-04-16 00:25:01  #DE #python #sql #Sweden #удаленка\\n\\nИщу DE, ...   \n",
       "20  2022-04-12 22:02:11                                                NaN   \n",
       "21  2022-04-12 22:02:11  Сервис онлайн-обучения цифровым профессиям Янд...   \n",
       "22  2022-04-12 17:16:57  #работа #вакансия #job #fulltime #удаленка #de...   \n",
       "23  2022-04-07 14:57:26  Ищем Аналитика в Ozon\\nЛокация - Москва\\n\\nЗад...   \n",
       "24  2022-04-07 14:56:43  Точка ищет IT-специалистов в штат\\n\\nКого мы о...   \n",
       "25  2022-04-06 18:13:44  IT-компания Wazzup приглашает в команду кандид...   \n",
       "26  2022-03-31 23:40:34  #Москва #вакансия #Dataanalyst #SQL #Python #B...   \n",
       "27  2022-03-31 19:50:56  Jun+(midd) Data Science (engineer) \\n\\nПривет,...   \n",
       "28  2022-03-29 22:17:18  В международную IT- компанию Akvelon ищем спец...   \n",
       "29  2022-03-22 21:58:58  В дружную команду оценщиков требуется аналитик...   \n",
       "\n",
       "                                             entities  \n",
       "0   [\\n    {\\n        \"_\": \"MessageEntity\",\\n     ...  \n",
       "1   [\\n    {\\n        \"_\": \"MessageEntity\",\\n     ...  \n",
       "2                                                 NaN  \n",
       "3                                                 NaN  \n",
       "4                                                 NaN  \n",
       "5   [\\n    {\\n        \"_\": \"MessageEntity\",\\n     ...  \n",
       "6   [\\n    {\\n        \"_\": \"MessageEntity\",\\n     ...  \n",
       "7   [\\n    {\\n        \"_\": \"MessageEntity\",\\n     ...  \n",
       "8   [\\n    {\\n        \"_\": \"MessageEntity\",\\n     ...  \n",
       "9   [\\n    {\\n        \"_\": \"MessageEntity\",\\n     ...  \n",
       "10  [\\n    {\\n        \"_\": \"MessageEntity\",\\n     ...  \n",
       "11  [\\n    {\\n        \"_\": \"MessageEntity\",\\n     ...  \n",
       "12  [\\n    {\\n        \"_\": \"MessageEntity\",\\n     ...  \n",
       "13                                                NaN  \n",
       "14  [\\n    {\\n        \"_\": \"MessageEntity\",\\n     ...  \n",
       "15  [\\n    {\\n        \"_\": \"MessageEntity\",\\n     ...  \n",
       "16  [\\n    {\\n        \"_\": \"MessageEntity\",\\n     ...  \n",
       "17  [\\n    {\\n        \"_\": \"MessageEntity\",\\n     ...  \n",
       "18  [\\n    {\\n        \"_\": \"MessageEntity\",\\n     ...  \n",
       "19  [\\n    {\\n        \"_\": \"MessageEntity\",\\n     ...  \n",
       "20                                                NaN  \n",
       "21  [\\n    {\\n        \"_\": \"MessageEntity\",\\n     ...  \n",
       "22  [\\n    {\\n        \"_\": \"MessageEntity\",\\n     ...  \n",
       "23  [\\n    {\\n        \"_\": \"MessageEntity\",\\n     ...  \n",
       "24  [\\n    {\\n        \"_\": \"MessageEntity\",\\n     ...  \n",
       "25  [\\n    {\\n        \"_\": \"MessageEntity\",\\n     ...  \n",
       "26  [\\n    {\\n        \"_\": \"MessageEntity\",\\n     ...  \n",
       "27  [\\n    {\\n        \"_\": \"MessageEntity\",\\n     ...  \n",
       "28  [\\n    {\\n        \"_\": \"MessageEntity\",\\n     ...  \n",
       "29  [\\n    {\\n        \"_\": \"MessageEntity\",\\n     ...  "
      ]
     },
     "execution_count": 9,
     "metadata": {},
     "output_type": "execute_result"
    }
   ],
   "source": [
    "df.head(30)"
   ]
  },
  {
   "cell_type": "code",
   "execution_count": 10,
   "id": "9181bb6d",
   "metadata": {
    "scrolled": true
   },
   "outputs": [
    {
     "name": "stdout",
     "output_type": "stream",
     "text": [
      "<class 'pandas.core.frame.DataFrame'>\n",
      "RangeIndex: 4075 entries, 0 to 4074\n",
      "Data columns (total 5 columns):\n",
      " #   Column      Non-Null Count  Dtype \n",
      "---  ------      --------------  ----- \n",
      " 0   chat        4075 non-null   object\n",
      " 1   message_id  4075 non-null   int64 \n",
      " 2   date        4075 non-null   object\n",
      " 3   text        3719 non-null   object\n",
      " 4   entities    3638 non-null   object\n",
      "dtypes: int64(1), object(4)\n",
      "memory usage: 159.3+ KB\n"
     ]
    }
   ],
   "source": [
    "# информация по дата-фрейму\n",
    "df.info()"
   ]
  },
  {
   "cell_type": "markdown",
   "id": "510aae40",
   "metadata": {},
   "source": [
    "Изменим тип данных поля `date`."
   ]
  },
  {
   "cell_type": "code",
   "execution_count": 11,
   "id": "9a5d6b44",
   "metadata": {},
   "outputs": [],
   "source": [
    "# изменение типа данных поля date с object на datetime\n",
    "df['date'] = pd.to_datetime(df['date'])"
   ]
  },
  {
   "cell_type": "markdown",
   "id": "7d392230",
   "metadata": {},
   "source": [
    "Создадим новый столбец `vac_date`, в котором отбросим время из столбца `date` и оставим только дату."
   ]
  },
  {
   "cell_type": "code",
   "execution_count": 12,
   "id": "76d4415e",
   "metadata": {},
   "outputs": [],
   "source": [
    "# создание столбца vac_date с датой вакансии\n",
    "df['vac_date'] = df['date'].dt.date"
   ]
  },
  {
   "cell_type": "code",
   "execution_count": 13,
   "id": "1f0ea9eb",
   "metadata": {
    "scrolled": false
   },
   "outputs": [
    {
     "name": "stdout",
     "output_type": "stream",
     "text": [
      "<class 'pandas.core.frame.DataFrame'>\n",
      "RangeIndex: 4075 entries, 0 to 4074\n",
      "Data columns (total 6 columns):\n",
      " #   Column      Non-Null Count  Dtype         \n",
      "---  ------      --------------  -----         \n",
      " 0   chat        4075 non-null   object        \n",
      " 1   message_id  4075 non-null   int64         \n",
      " 2   date        4075 non-null   datetime64[ns]\n",
      " 3   text        3719 non-null   object        \n",
      " 4   entities    3638 non-null   object        \n",
      " 5   vac_date    4075 non-null   object        \n",
      "dtypes: datetime64[ns](1), int64(1), object(4)\n",
      "memory usage: 191.1+ KB\n"
     ]
    }
   ],
   "source": [
    "# информация по датафрему\n",
    "df.info()"
   ]
  },
  {
   "cell_type": "markdown",
   "id": "2284b4a9",
   "metadata": {},
   "source": [
    "Теперь удалим строки, в которых нет текста вакансии."
   ]
  },
  {
   "cell_type": "code",
   "execution_count": 14,
   "id": "914c8508",
   "metadata": {},
   "outputs": [],
   "source": [
    "# удаление строк, в которых отсутствует текст вакансии\n",
    "df = df[~(df['text'].isna())]"
   ]
  },
  {
   "cell_type": "code",
   "execution_count": 15,
   "id": "35e5301c",
   "metadata": {
    "scrolled": true
   },
   "outputs": [
    {
     "name": "stdout",
     "output_type": "stream",
     "text": [
      "<class 'pandas.core.frame.DataFrame'>\n",
      "Int64Index: 3719 entries, 0 to 4073\n",
      "Data columns (total 6 columns):\n",
      " #   Column      Non-Null Count  Dtype         \n",
      "---  ------      --------------  -----         \n",
      " 0   chat        3719 non-null   object        \n",
      " 1   message_id  3719 non-null   int64         \n",
      " 2   date        3719 non-null   datetime64[ns]\n",
      " 3   text        3719 non-null   object        \n",
      " 4   entities    3638 non-null   object        \n",
      " 5   vac_date    3719 non-null   object        \n",
      "dtypes: datetime64[ns](1), int64(1), object(4)\n",
      "memory usage: 203.4+ KB\n"
     ]
    }
   ],
   "source": [
    "# информацию по дата-фрейму\n",
    "df.info()"
   ]
  },
  {
   "cell_type": "markdown",
   "id": "0df232b9",
   "metadata": {},
   "source": [
    "Теперь удалим полные дубликаты."
   ]
  },
  {
   "cell_type": "code",
   "execution_count": 16,
   "id": "7e5f5b77",
   "metadata": {
    "scrolled": true
   },
   "outputs": [
    {
     "data": {
      "text/plain": [
       "260"
      ]
     },
     "execution_count": 16,
     "metadata": {},
     "output_type": "execute_result"
    }
   ],
   "source": [
    "# количество полных дубликатов\n",
    "df['text'].duplicated().sum()"
   ]
  },
  {
   "cell_type": "code",
   "execution_count": 17,
   "id": "475f0aa3",
   "metadata": {
    "scrolled": true
   },
   "outputs": [
    {
     "data": {
      "text/html": [
       "<div>\n",
       "<style scoped>\n",
       "    .dataframe tbody tr th:only-of-type {\n",
       "        vertical-align: middle;\n",
       "    }\n",
       "\n",
       "    .dataframe tbody tr th {\n",
       "        vertical-align: top;\n",
       "    }\n",
       "\n",
       "    .dataframe thead th {\n",
       "        text-align: right;\n",
       "    }\n",
       "</style>\n",
       "<table border=\"1\" class=\"dataframe\">\n",
       "  <thead>\n",
       "    <tr style=\"text-align: right;\">\n",
       "      <th></th>\n",
       "      <th>chat</th>\n",
       "      <th>message_id</th>\n",
       "      <th>date</th>\n",
       "      <th>text</th>\n",
       "      <th>entities</th>\n",
       "      <th>vac_date</th>\n",
       "    </tr>\n",
       "  </thead>\n",
       "  <tbody>\n",
       "    <tr>\n",
       "      <th>22</th>\n",
       "      <td>{\\n    \"_\": \"Chat\",\\n    \"id\": -1001269328727,...</td>\n",
       "      <td>239</td>\n",
       "      <td>2022-04-12 17:16:57</td>\n",
       "      <td>#работа #вакансия #job #fulltime #удаленка #de...</td>\n",
       "      <td>[\\n    {\\n        \"_\": \"MessageEntity\",\\n     ...</td>\n",
       "      <td>2022-04-12</td>\n",
       "    </tr>\n",
       "    <tr>\n",
       "      <th>72</th>\n",
       "      <td>{\\n    \"_\": \"Chat\",\\n    \"id\": -1001269328727,...</td>\n",
       "      <td>185</td>\n",
       "      <td>2022-01-14 18:02:22</td>\n",
       "      <td>#москва #вакансия #аналитик #fulltime #office ...</td>\n",
       "      <td>[\\n    {\\n        \"_\": \"MessageEntity\",\\n     ...</td>\n",
       "      <td>2022-01-14</td>\n",
       "    </tr>\n",
       "    <tr>\n",
       "      <th>126</th>\n",
       "      <td>{\\n    \"_\": \"Chat\",\\n    \"id\": -1001269328727,...</td>\n",
       "      <td>131</td>\n",
       "      <td>2021-10-28 20:41:43</td>\n",
       "      <td>Сейчас ищу Продуктового аналитика.\\n\\nОфис – м...</td>\n",
       "      <td>[\\n    {\\n        \"_\": \"MessageEntity\",\\n     ...</td>\n",
       "      <td>2021-10-28</td>\n",
       "    </tr>\n",
       "    <tr>\n",
       "      <th>166</th>\n",
       "      <td>{\\n    \"_\": \"Chat\",\\n    \"id\": -1001269328727,...</td>\n",
       "      <td>91</td>\n",
       "      <td>2021-08-11 14:00:07</td>\n",
       "      <td>#работа #удаленка #офис #геймдев\\nКомпания: Az...</td>\n",
       "      <td>[\\n    {\\n        \"_\": \"MessageEntity\",\\n     ...</td>\n",
       "      <td>2021-08-11</td>\n",
       "    </tr>\n",
       "    <tr>\n",
       "      <th>283</th>\n",
       "      <td>{\\n    \"_\": \"Chat\",\\n    \"id\": -1001291755040,...</td>\n",
       "      <td>583</td>\n",
       "      <td>2021-12-02 21:15:17</td>\n",
       "      <td>#вакансия #tableau #москва #middle #senior #fu...</td>\n",
       "      <td>[\\n    {\\n        \"_\": \"MessageEntity\",\\n     ...</td>\n",
       "      <td>2021-12-02</td>\n",
       "    </tr>\n",
       "    <tr>\n",
       "      <th>...</th>\n",
       "      <td>...</td>\n",
       "      <td>...</td>\n",
       "      <td>...</td>\n",
       "      <td>...</td>\n",
       "      <td>...</td>\n",
       "      <td>...</td>\n",
       "    </tr>\n",
       "    <tr>\n",
       "      <th>3984</th>\n",
       "      <td>{\\n    \"_\": \"Chat\",\\n    \"id\": -1001321264581,...</td>\n",
       "      <td>104</td>\n",
       "      <td>2020-05-19 20:46:44</td>\n",
       "      <td>#вакансия #МТС ИТ #job #Москва #офис #dataengi...</td>\n",
       "      <td>[\\n    {\\n        \"_\": \"MessageEntity\",\\n     ...</td>\n",
       "      <td>2020-05-19</td>\n",
       "    </tr>\n",
       "    <tr>\n",
       "      <th>3990</th>\n",
       "      <td>{\\n    \"_\": \"Chat\",\\n    \"id\": -1001321264581,...</td>\n",
       "      <td>97</td>\n",
       "      <td>2020-04-30 15:07:13</td>\n",
       "      <td>#Вакансия #Офис #Python #BigData #MachineLearn...</td>\n",
       "      <td>[\\n    {\\n        \"_\": \"MessageEntity\",\\n     ...</td>\n",
       "      <td>2020-04-30</td>\n",
       "    </tr>\n",
       "    <tr>\n",
       "      <th>4049</th>\n",
       "      <td>{\\n    \"_\": \"Chat\",\\n    \"id\": -1001321264581,...</td>\n",
       "      <td>34</td>\n",
       "      <td>2020-01-14 20:55:24</td>\n",
       "      <td>#Вакансия #Офис #Python #BigData #MachineLearn...</td>\n",
       "      <td>[\\n    {\\n        \"_\": \"MessageEntity\",\\n     ...</td>\n",
       "      <td>2020-01-14</td>\n",
       "    </tr>\n",
       "    <tr>\n",
       "      <th>4056</th>\n",
       "      <td>{\\n    \"_\": \"Chat\",\\n    \"id\": -1001321264581,...</td>\n",
       "      <td>24</td>\n",
       "      <td>2019-12-11 17:32:23</td>\n",
       "      <td>#Вакансия #Офис #Python #BigData #MachineLearn...</td>\n",
       "      <td>[\\n    {\\n        \"_\": \"MessageEntity\",\\n     ...</td>\n",
       "      <td>2019-12-11</td>\n",
       "    </tr>\n",
       "    <tr>\n",
       "      <th>4062</th>\n",
       "      <td>{\\n    \"_\": \"Chat\",\\n    \"id\": -1001321264581,...</td>\n",
       "      <td>17</td>\n",
       "      <td>2019-12-04 16:31:47</td>\n",
       "      <td>#москва  #fulltime #dataengineer\\n\\nВакансии: ...</td>\n",
       "      <td>[\\n    {\\n        \"_\": \"MessageEntity\",\\n     ...</td>\n",
       "      <td>2019-12-04</td>\n",
       "    </tr>\n",
       "  </tbody>\n",
       "</table>\n",
       "<p>260 rows × 6 columns</p>\n",
       "</div>"
      ],
      "text/plain": [
       "                                                   chat  message_id  \\\n",
       "22    {\\n    \"_\": \"Chat\",\\n    \"id\": -1001269328727,...         239   \n",
       "72    {\\n    \"_\": \"Chat\",\\n    \"id\": -1001269328727,...         185   \n",
       "126   {\\n    \"_\": \"Chat\",\\n    \"id\": -1001269328727,...         131   \n",
       "166   {\\n    \"_\": \"Chat\",\\n    \"id\": -1001269328727,...          91   \n",
       "283   {\\n    \"_\": \"Chat\",\\n    \"id\": -1001291755040,...         583   \n",
       "...                                                 ...         ...   \n",
       "3984  {\\n    \"_\": \"Chat\",\\n    \"id\": -1001321264581,...         104   \n",
       "3990  {\\n    \"_\": \"Chat\",\\n    \"id\": -1001321264581,...          97   \n",
       "4049  {\\n    \"_\": \"Chat\",\\n    \"id\": -1001321264581,...          34   \n",
       "4056  {\\n    \"_\": \"Chat\",\\n    \"id\": -1001321264581,...          24   \n",
       "4062  {\\n    \"_\": \"Chat\",\\n    \"id\": -1001321264581,...          17   \n",
       "\n",
       "                    date                                               text  \\\n",
       "22   2022-04-12 17:16:57  #работа #вакансия #job #fulltime #удаленка #de...   \n",
       "72   2022-01-14 18:02:22  #москва #вакансия #аналитик #fulltime #office ...   \n",
       "126  2021-10-28 20:41:43  Сейчас ищу Продуктового аналитика.\\n\\nОфис – м...   \n",
       "166  2021-08-11 14:00:07  #работа #удаленка #офис #геймдев\\nКомпания: Az...   \n",
       "283  2021-12-02 21:15:17  #вакансия #tableau #москва #middle #senior #fu...   \n",
       "...                  ...                                                ...   \n",
       "3984 2020-05-19 20:46:44  #вакансия #МТС ИТ #job #Москва #офис #dataengi...   \n",
       "3990 2020-04-30 15:07:13  #Вакансия #Офис #Python #BigData #MachineLearn...   \n",
       "4049 2020-01-14 20:55:24  #Вакансия #Офис #Python #BigData #MachineLearn...   \n",
       "4056 2019-12-11 17:32:23  #Вакансия #Офис #Python #BigData #MachineLearn...   \n",
       "4062 2019-12-04 16:31:47  #москва  #fulltime #dataengineer\\n\\nВакансии: ...   \n",
       "\n",
       "                                               entities    vac_date  \n",
       "22    [\\n    {\\n        \"_\": \"MessageEntity\",\\n     ...  2022-04-12  \n",
       "72    [\\n    {\\n        \"_\": \"MessageEntity\",\\n     ...  2022-01-14  \n",
       "126   [\\n    {\\n        \"_\": \"MessageEntity\",\\n     ...  2021-10-28  \n",
       "166   [\\n    {\\n        \"_\": \"MessageEntity\",\\n     ...  2021-08-11  \n",
       "283   [\\n    {\\n        \"_\": \"MessageEntity\",\\n     ...  2021-12-02  \n",
       "...                                                 ...         ...  \n",
       "3984  [\\n    {\\n        \"_\": \"MessageEntity\",\\n     ...  2020-05-19  \n",
       "3990  [\\n    {\\n        \"_\": \"MessageEntity\",\\n     ...  2020-04-30  \n",
       "4049  [\\n    {\\n        \"_\": \"MessageEntity\",\\n     ...  2020-01-14  \n",
       "4056  [\\n    {\\n        \"_\": \"MessageEntity\",\\n     ...  2019-12-11  \n",
       "4062  [\\n    {\\n        \"_\": \"MessageEntity\",\\n     ...  2019-12-04  \n",
       "\n",
       "[260 rows x 6 columns]"
      ]
     },
     "execution_count": 17,
     "metadata": {},
     "output_type": "execute_result"
    }
   ],
   "source": [
    "# полные дубликаты вакансий\n",
    "df[df['text'].duplicated()]"
   ]
  },
  {
   "cell_type": "markdown",
   "id": "7319cd58",
   "metadata": {},
   "source": [
    "Видим, что полные дубликаты возникают из-за того, что hr выкладывают одну и ту же вакансию в разные каналы или выкладывают вакансию несколько раз с небольшим промежутком времени."
   ]
  },
  {
   "cell_type": "code",
   "execution_count": 18,
   "id": "28fa35b6",
   "metadata": {},
   "outputs": [],
   "source": [
    "# удаление полных дубликатов\n",
    "df = df.drop_duplicates(subset = ['text']).reset_index(drop=True)"
   ]
  },
  {
   "cell_type": "code",
   "execution_count": 19,
   "id": "ff874a9a",
   "metadata": {
    "scrolled": true
   },
   "outputs": [
    {
     "data": {
      "text/plain": [
       "0"
      ]
     },
     "execution_count": 19,
     "metadata": {},
     "output_type": "execute_result"
    }
   ],
   "source": [
    "# проверка количества полных дубликатов\n",
    "df['text'].duplicated().sum()"
   ]
  },
  {
   "cell_type": "code",
   "execution_count": 20,
   "id": "9b68a126",
   "metadata": {
    "scrolled": false
   },
   "outputs": [
    {
     "name": "stdout",
     "output_type": "stream",
     "text": [
      "<class 'pandas.core.frame.DataFrame'>\n",
      "RangeIndex: 3459 entries, 0 to 3458\n",
      "Data columns (total 6 columns):\n",
      " #   Column      Non-Null Count  Dtype         \n",
      "---  ------      --------------  -----         \n",
      " 0   chat        3459 non-null   object        \n",
      " 1   message_id  3459 non-null   int64         \n",
      " 2   date        3459 non-null   datetime64[ns]\n",
      " 3   text        3459 non-null   object        \n",
      " 4   entities    3378 non-null   object        \n",
      " 5   vac_date    3459 non-null   object        \n",
      "dtypes: datetime64[ns](1), int64(1), object(4)\n",
      "memory usage: 162.3+ KB\n"
     ]
    }
   ],
   "source": [
    "df.info()"
   ]
  },
  {
   "cell_type": "markdown",
   "id": "d59cdebc",
   "metadata": {},
   "source": [
    "В дата-фрейме присутствуют неявные дубликаты. Давайте посмотрим на такие вакансии."
   ]
  },
  {
   "cell_type": "code",
   "execution_count": 21,
   "id": "529816a7",
   "metadata": {
    "scrolled": true
   },
   "outputs": [
    {
     "data": {
      "text/plain": [
       "'#работа #офис\\nFull-time,Odessa,Ukraine\\nМы сейчас сотрудничаем с US based компанией, инвестором которой является один из фаундеров Softserve. Компания - data driven marketing platform, Wyzoo. Проект заключается в работе с данными для оптимизации маркетинговых кампаний за счет аналитики и предиктивного анализа различных видов рекламы, а также сегментации целевой аудитории. Ребята открывают офис в Одессе, где планируют собрать максимальное количество Data scientists($2,000 - $3,500) и jn.Data Engineers($500 - $1,200),Data Engineers($1,200 - $2,500).Бонус за рекомендацию. \\nНа данный момент открыто несколько вакансий: \\n1.  https://jobs.dna325.com/jobs/wyzoo-country-manager/ \\n2.  https://jobs.dna325.com/jobs/data-scientist-senior-middle/\\n3.  https://jobs.dna325.com/jobs/data-engineers-mid/'"
      ]
     },
     "execution_count": 21,
     "metadata": {},
     "output_type": "execute_result"
    }
   ],
   "source": [
    "# достаем текст вакансии с индексом 29\n",
    "df.loc[1835]['text']"
   ]
  },
  {
   "cell_type": "markdown",
   "id": "e16ecaf1",
   "metadata": {},
   "source": [
    "Далее с помощью метода `str.contains()` найдем вакансии, у которых начало совпадает с началом текста вакансии с индексом 29."
   ]
  },
  {
   "cell_type": "code",
   "execution_count": 22,
   "id": "7a59880e",
   "metadata": {
    "scrolled": false
   },
   "outputs": [
    {
     "data": {
      "text/html": [
       "<div>\n",
       "<style scoped>\n",
       "    .dataframe tbody tr th:only-of-type {\n",
       "        vertical-align: middle;\n",
       "    }\n",
       "\n",
       "    .dataframe tbody tr th {\n",
       "        vertical-align: top;\n",
       "    }\n",
       "\n",
       "    .dataframe thead th {\n",
       "        text-align: right;\n",
       "    }\n",
       "</style>\n",
       "<table border=\"1\" class=\"dataframe\">\n",
       "  <thead>\n",
       "    <tr style=\"text-align: right;\">\n",
       "      <th></th>\n",
       "      <th>chat</th>\n",
       "      <th>message_id</th>\n",
       "      <th>date</th>\n",
       "      <th>text</th>\n",
       "      <th>entities</th>\n",
       "      <th>vac_date</th>\n",
       "    </tr>\n",
       "  </thead>\n",
       "  <tbody>\n",
       "    <tr>\n",
       "      <th>1835</th>\n",
       "      <td>{\\n    \"_\": \"Chat\",\\n    \"id\": -1001269377842,...</td>\n",
       "      <td>46</td>\n",
       "      <td>2019-04-08 21:50:33</td>\n",
       "      <td>#работа #офис\\nFull-time,Odessa,Ukraine\\nМы се...</td>\n",
       "      <td>[\\n    {\\n        \"_\": \"MessageEntity\",\\n     ...</td>\n",
       "      <td>2019-04-08</td>\n",
       "    </tr>\n",
       "    <tr>\n",
       "      <th>1850</th>\n",
       "      <td>{\\n    \"_\": \"Chat\",\\n    \"id\": -1001269377842,...</td>\n",
       "      <td>30</td>\n",
       "      <td>2019-03-20 15:28:09</td>\n",
       "      <td>#вакансия #python #Одесса #офис #fulltime #Dat...</td>\n",
       "      <td>[\\n    {\\n        \"_\": \"MessageEntity\",\\n     ...</td>\n",
       "      <td>2019-03-20</td>\n",
       "    </tr>\n",
       "    <tr>\n",
       "      <th>1853</th>\n",
       "      <td>{\\n    \"_\": \"Chat\",\\n    \"id\": -1001269377842,...</td>\n",
       "      <td>27</td>\n",
       "      <td>2019-03-15 21:20:34</td>\n",
       "      <td>Мы сейчас сотрудничаем с US based компанией, и...</td>\n",
       "      <td>[\\n    {\\n        \"_\": \"MessageEntity\",\\n     ...</td>\n",
       "      <td>2019-03-15</td>\n",
       "    </tr>\n",
       "  </tbody>\n",
       "</table>\n",
       "</div>"
      ],
      "text/plain": [
       "                                                   chat  message_id  \\\n",
       "1835  {\\n    \"_\": \"Chat\",\\n    \"id\": -1001269377842,...          46   \n",
       "1850  {\\n    \"_\": \"Chat\",\\n    \"id\": -1001269377842,...          30   \n",
       "1853  {\\n    \"_\": \"Chat\",\\n    \"id\": -1001269377842,...          27   \n",
       "\n",
       "                    date                                               text  \\\n",
       "1835 2019-04-08 21:50:33  #работа #офис\\nFull-time,Odessa,Ukraine\\nМы се...   \n",
       "1850 2019-03-20 15:28:09  #вакансия #python #Одесса #офис #fulltime #Dat...   \n",
       "1853 2019-03-15 21:20:34  Мы сейчас сотрудничаем с US based компанией, и...   \n",
       "\n",
       "                                               entities    vac_date  \n",
       "1835  [\\n    {\\n        \"_\": \"MessageEntity\",\\n     ...  2019-04-08  \n",
       "1850  [\\n    {\\n        \"_\": \"MessageEntity\",\\n     ...  2019-03-20  \n",
       "1853  [\\n    {\\n        \"_\": \"MessageEntity\",\\n     ...  2019-03-15  "
      ]
     },
     "execution_count": 22,
     "metadata": {},
     "output_type": "execute_result"
    }
   ],
   "source": [
    "# ищем вакансии, \n",
    "df[df['text'].str.contains('Мы сейчас сотрудничаем с US based компанией, инвестором которой является один из фаундеров Softserve. Компания - data driven marketing platform, Wyzoo. Проект заключается в работе с данными для оптимизации маркетинговых кампаний за счет аналитики и предиктивного анализа различных видов рекламы,')]"
   ]
  },
  {
   "cell_type": "code",
   "execution_count": 23,
   "id": "51467df3",
   "metadata": {},
   "outputs": [
    {
     "data": {
      "text/plain": [
       "'#вакансия #python #Одесса #офис #fulltime #DataScientists #DataEngineers\\n\\nМы сейчас сотрудничаем с US based компанией, инвестором которой является один из фаундеров Softserve. Компания - data driven marketing platform, Wyzoo. Проект заключается в работе с данными для оптимизации маркетинговых кампаний за счет аналитики и предиктивного анализа различных видов рекламы, а также сегментации целевой аудитории. Ребята открывают офис в Одессе, где планируют собрать максимальное количество:\\nJnr.Data Scientists $500 - $1,000 \\nData Scientists $2,000 - $3,000\\nJnr.Data Engineers $500 - $1,000\\nData Engineers $1,200 - $2,000\\n1.  https://jobs.dna325.com/jobs/wyzoo-country-manager/ \\n2.  https://jobs.dna325.com/jobs/data-scientist-senior-middle/\\n3.  https://jobs.dna325.com/jobs/data-engineers-mid/\\n4.  https://jobs.dna325.com/jobs/junior-data-scientist/\\nFull-time,Odessa,Ukraine\\n#работа #офис'"
      ]
     },
     "execution_count": 23,
     "metadata": {},
     "output_type": "execute_result"
    }
   ],
   "source": [
    "df.loc[1850]['text']"
   ]
  },
  {
   "cell_type": "code",
   "execution_count": 24,
   "id": "01391208",
   "metadata": {
    "scrolled": true
   },
   "outputs": [
    {
     "data": {
      "text/plain": [
       "'Мы сейчас сотрудничаем с US based компанией, инвестором которой является один из фаундеров Softserve. Компания - data driven marketing platform, Wyzoo. Проект заключается в работе с данными для оптимизации маркетинговых кампаний за счет аналитики и предиктивного анализа различных видов рекламы, а также сегментации целевой аудитории. Ребята открывают офис в Одессе, где планируют собрать максимальное количество Data scientists и Data Engineers. На данный момент открыто несколько вакансий:\\n1.  https://jobs.dna325.com/jobs/wyzoo-country-manager/  2.  https://jobs.dna325.com/jobs/data-scientist-senior-middle/ \\n3.  https://jobs.dna325.com/jobs/data-engineers-mid/'"
      ]
     },
     "execution_count": 24,
     "metadata": {},
     "output_type": "execute_result"
    }
   ],
   "source": [
    "df.loc[1853]['text']"
   ]
  },
  {
   "cell_type": "markdown",
   "id": "65e69dea",
   "metadata": {},
   "source": [
    "Сравним 2 текста с помощью сервиса https://textcompare.ru/app."
   ]
  },
  {
   "attachments": {
    "image.png": {
     "image/png": "[encoded data removed]"
    }
   },
   "cell_type": "markdown",
   "id": "9f2265a3",
   "metadata": {},
   "source": [
    "![image.png](attachment:image.png)"
   ]
  },
  {
   "cell_type": "markdown",
   "id": "6221e3dc",
   "metadata": {},
   "source": [
    "В левую вакансию добавили зарплатную вилку и хэштеги, но, по сути, это дубликат.\n",
    "\n",
    "Кейс выше показал, что нам нужна функция, которая будет определять неявные дубликаты вакансий.\n",
    "\n",
    "Наша функция будет работать следующим образом:\n",
    "\n",
    "1. Брать первые 130 символов вакансии. Как правило, этого количества хватает для идентификации неявных дубликатов.\n",
    "\n",
    "2. Искать эти 130 символов во всех остальных вакансиях.\n",
    "\n",
    "3. В случае совпадения, добавлять индекс вакансии в список дубликатов.\n",
    "\n",
    "4. Брать последние 130 символов вакансии.\n",
    "\n",
    "5. Выполнять п.2.\n",
    "\n",
    "6. В случае совпадения и отсутствия индекса в списке дубликатов, добавлять индекс вакансии в список.\n",
    "\n",
    "Перед написанием функции заменим некоторые символы, которые могут вызвать ошибку в работе метода `str.contains()`, на равнозначные."
   ]
  },
  {
   "cell_type": "code",
   "execution_count": 25,
   "id": "0360539f",
   "metadata": {
    "scrolled": false
   },
   "outputs": [
    {
     "name": "stderr",
     "output_type": "stream",
     "text": [
      "<ipython-input-25-709a0f07fa0d>:2: FutureWarning: The default value of regex will change from True to False in a future version. In addition, single character regular expressions will*not* be treated as literal strings when regex=True.\n",
      "  df['text'] = df['text'].str.replace('(', '\"')\n",
      "<ipython-input-25-709a0f07fa0d>:3: FutureWarning: The default value of regex will change from True to False in a future version. In addition, single character regular expressions will*not* be treated as literal strings when regex=True.\n",
      "  df['text'] = df['text'].str.replace(')', '\"')\n",
      "<ipython-input-25-709a0f07fa0d>:4: FutureWarning: The default value of regex will change from True to False in a future version. In addition, single character regular expressions will*not* be treated as literal strings when regex=True.\n",
      "  df['text'] = df['text'].str.replace('+', 'плюс')\n",
      "<ipython-input-25-709a0f07fa0d>:6: FutureWarning: The default value of regex will change from True to False in a future version. In addition, single character regular expressions will*not* be treated as literal strings when regex=True.\n",
      "  df['text'] = df['text'].str.replace('\\\\', '/')\n",
      "<ipython-input-25-709a0f07fa0d>:7: FutureWarning: The default value of regex will change from True to False in a future version. In addition, single character regular expressions will*not* be treated as literal strings when regex=True.\n",
      "  df['text'] = df['text'].str.replace('*', '#')\n",
      "<ipython-input-25-709a0f07fa0d>:8: FutureWarning: The default value of regex will change from True to False in a future version. In addition, single character regular expressions will*not* be treated as literal strings when regex=True.\n",
      "  df['text'] = df['text'].str.replace('?', ' ')\n"
     ]
    }
   ],
   "source": [
    "# замена символов, которые могут вызвать ошибку в работе метода\n",
    "df['text'] = df['text'].str.replace('(', '\"')\n",
    "df['text'] = df['text'].str.replace(')', '\"')\n",
    "df['text'] = df['text'].str.replace('+', 'плюс')\n",
    "df['text'] = df['text'].str.replace('•', '-')\n",
    "df['text'] = df['text'].str.replace('\\\\', '/')\n",
    "df['text'] = df['text'].str.replace('*', '#')\n",
    "df['text'] = df['text'].str.replace('?', ' ')"
   ]
  },
  {
   "cell_type": "markdown",
   "id": "c208c898",
   "metadata": {},
   "source": [
    "Теперь отсортируем дата-фрейм по столбцу `date`."
   ]
  },
  {
   "cell_type": "code",
   "execution_count": 26,
   "id": "6c644ba4",
   "metadata": {},
   "outputs": [],
   "source": [
    "df = df.sort_values(by='date', ascending=True).reset_index(drop=True)"
   ]
  },
  {
   "cell_type": "code",
   "execution_count": 27,
   "id": "ae28ba5c",
   "metadata": {},
   "outputs": [],
   "source": [
    "# реализация функции dupl_searching\n",
    "def dupl_searching():\n",
    "    dupl_ind_list_start = [] # список для индексов дубликатов первых 130 символов\n",
    "    dupl_ind_list_end = [] # список для индексов дубликатов последних 130 символов\n",
    "    dupl_list_start = [] # список для дубликатов первых 130 символов\n",
    "    dupl_list_end = [] # список для дубликатов последних 130 символов\n",
    "    \n",
    "    for i in range(len(df['text'])):\n",
    "        \n",
    "        # проверка на совпадение первых 130 символов\n",
    "        if len(df[df['text'].str.contains(df.loc[i]['text'][0:130])]) > 1:\n",
    "            \n",
    "            # если совпадение есть, проходит проверка на отсутствие вакансии в списке dupl_list_start\n",
    "            if df.loc[i]['text'][0:130] not in(dupl_list_start):\n",
    "                \n",
    "                # если вакансия отсутствует в dupl_list_start добавляем индекс вакансии в dupl_ind_list_start\n",
    "                # также добавляем вакансию в dupl_list_start для последующих проверок\n",
    "                dupl_list_start.append(df.loc[i]['text'][0:130]) \n",
    "                dupl_ind_list_start.append(i)\n",
    "    \n",
    "    for i in range(len(df['text'])):\n",
    "        \n",
    "        # проверка на совпадение последних 130 символов\n",
    "        if len(df[df['text'].str.contains(df.loc[i]['text'][-130:-1])]) > 1:\n",
    "            \n",
    "            # если совпадение есть, проходит проверка на отсутствие вакансии в списке dupl_list_end и отсутствия индекса в dupl_ind_list_start\n",
    "            # проверка на отсутствие индекса в dupl_ind_list_start необходима, чтобы индексы не дублировались\n",
    "            if df.loc[i]['text'][-130:-1] not in (dupl_list_end) and i not in(dupl_ind_list_start):\n",
    "                \n",
    "                # если вакансия отсутствует в dupl_list_end и ее индекс отсутствует в dupl_ind_list_start, добавляем индекс вакансии в dupl_list_end\n",
    "                # также добавляем вакансию в dupl_list_start для последующих проверок\n",
    "                dupl_list_end.append(df.loc[i]['text'][-130:-1])\n",
    "                dupl_ind_list_end.append(i)\n",
    "                \n",
    "    global dupl_ind_list_com\n",
    "    \n",
    "    # складываем 2 списка индексов дублирующихся вакансий\n",
    "    dupl_ind_list_com = (dupl_ind_list_start + dupl_ind_list_end)\n",
    "    print(dupl_ind_list_com)"
   ]
  },
  {
   "cell_type": "code",
   "execution_count": 28,
   "id": "b8573952",
   "metadata": {
    "scrolled": true
   },
   "outputs": [
    {
     "name": "stdout",
     "output_type": "stream",
     "text": [
      "[8, 20, 29, 55, 61, 63, 64, 83, 94, 98, 100, 119, 124, 189, 194, 197, 224, 236, 237, 246, 259, 285, 300, 319, 334, 369, 370, 387, 420, 434, 443, 455, 543, 666, 681, 699, 724, 741, 748, 767, 783, 785, 820, 821, 825, 832, 855, 879, 885, 934, 960, 969, 993, 1010, 1025, 1041, 1053, 1054, 1067, 1079, 1102, 1130, 1216, 1228, 1279, 1284, 1300, 1307, 1308, 1348, 1352, 1388, 1424, 1448, 1495, 1507, 1510, 1518, 1520, 1528, 1532, 1559, 1570, 1588, 1602, 1605, 1615, 1624, 1653, 1741, 1743, 1746, 1772, 1780, 1784, 1793, 1824, 1840, 1887, 1916, 1944, 1949, 1951, 1953, 1961, 1966, 1990, 1991, 2029, 2052, 2089, 2097, 2109, 2115, 2141, 2147, 2151, 2155, 2171, 2189, 2198, 2201, 2215, 2216, 2223, 2228, 2244, 2249, 2267, 2271, 2310, 2311, 2322, 2340, 2343, 2360, 2372, 2387, 2428, 2440, 2502, 2524, 2537, 2573, 2580, 2605, 2688, 2694, 2774, 2824, 2830, 2831, 2839, 2874, 2887, 2916, 2920, 2942, 3017, 3073, 3082, 3099, 3106, 3117, 3150, 3154, 3160, 3175, 3188, 3189, 3235, 3259, 3265, 3281, 3289, 3309, 3310, 42, 67, 104, 172, 175, 191, 202, 226, 244, 247, 252, 255, 260, 278, 286, 292, 301, 313, 316, 320, 323, 324, 349, 351, 352, 373, 386, 394, 419, 421, 422, 426, 428, 436, 438, 441, 450, 463, 483, 530, 533, 636, 645, 733, 750, 770, 772, 801, 807, 822, 830, 831, 833, 836, 839, 875, 880, 888, 893, 916, 931, 952, 970, 1020, 1028, 1035, 1052, 1061, 1075, 1116, 1119, 1122, 1125, 1128, 1132, 1138, 1153, 1195, 1210, 1218, 1234, 1236, 1237, 1243, 1260, 1268, 1285, 1324, 1325, 1339, 1357, 1367, 1409, 1425, 1428, 1466, 1485, 1488, 1492, 1502, 1508, 1534, 1551, 1563, 1566, 1575, 1581, 1582, 1585, 1593, 1614, 1630, 1637, 1640, 1647, 1655, 1658, 1664, 1676, 1677, 1690, 1698, 1710, 1719, 1724, 1725, 1770, 1797, 1817, 1818, 1827, 1837, 1854, 1857, 1862, 1876, 1890, 1908, 1913, 1932, 1964, 1973, 1975, 1988, 1996, 1997, 2006, 2007, 2012, 2031, 2078, 2085, 2092, 2094, 2105, 2135, 2162, 2169, 2185, 2192, 2196, 2219, 2227, 2240, 2264, 2284, 2295, 2300, 2315, 2323, 2329, 2338, 2341, 2354, 2370, 2391, 2392, 2394, 2402, 2404, 2409, 2412, 2417, 2423, 2445, 2453, 2461, 2465, 2529, 2557, 2558, 2577, 2583, 2602, 2610, 2615, 2659, 2678, 2718, 2721, 2745, 2778, 2784, 2788, 2803, 2858, 2862, 2910, 2927, 2948, 2993, 3005, 3012, 3018, 3076, 3077, 3079, 3100, 3124, 3146, 3178, 3197, 3198, 3211, 3250, 3260, 3326, 3328, 3330, 3336, 3340, 3370, 3410]\n"
     ]
    }
   ],
   "source": [
    "# вызываем функцию\n",
    "dupl_searching()"
   ]
  },
  {
   "cell_type": "code",
   "execution_count": 29,
   "id": "3c5e3471",
   "metadata": {},
   "outputs": [
    {
     "data": {
      "text/plain": [
       "410"
      ]
     },
     "execution_count": 29,
     "metadata": {},
     "output_type": "execute_result"
    }
   ],
   "source": [
    "len(dupl_ind_list_com)"
   ]
  },
  {
   "cell_type": "markdown",
   "id": "9fdf96ac",
   "metadata": {},
   "source": [
    "Видим, что в дата-фрейме 410 неявных дубликатов. Удалим их из дата-фрейма."
   ]
  },
  {
   "cell_type": "code",
   "execution_count": 30,
   "id": "b4f80183",
   "metadata": {},
   "outputs": [],
   "source": [
    "# удаление неявных дубликатов\n",
    "df = df.query('index not in @dupl_ind_list_com').reset_index(drop=True)"
   ]
  },
  {
   "cell_type": "markdown",
   "id": "595d71cc",
   "metadata": {},
   "source": [
    "В дата-фрейме некоторые вакансии могут содержать более 2 дубликатов, поэтому функцию `dupl_searching()` необходимо вызывать несколько раз."
   ]
  },
  {
   "cell_type": "code",
   "execution_count": 31,
   "id": "945abcfe",
   "metadata": {
    "scrolled": false
   },
   "outputs": [
    {
     "name": "stdout",
     "output_type": "stream",
     "text": [
      "[1040, 1367, 1428, 1482, 1705, 1822, 2297, 2475, 183, 303, 306, 343, 413, 820, 1007, 1177, 1182, 1297, 1339, 1771, 1806, 1842, 1896, 1967, 2275, 2301, 2348, 2566, 2683, 2743, 2801, 2821, 2846, 2943, 2970]\n"
     ]
    }
   ],
   "source": [
    "# повторный вызов функции\n",
    "dupl_searching()"
   ]
  },
  {
   "cell_type": "code",
   "execution_count": 32,
   "id": "c33ef251",
   "metadata": {},
   "outputs": [],
   "source": [
    "# удаление неявных дубликатов\n",
    "df = df.query('index not in @dupl_ind_list_com').reset_index(drop=True)"
   ]
  },
  {
   "cell_type": "code",
   "execution_count": 33,
   "id": "15b2bf8d",
   "metadata": {
    "scrolled": true
   },
   "outputs": [
    {
     "name": "stdout",
     "output_type": "stream",
     "text": [
      "[1355, 1534, 2183, 322, 773, 1082, 1464, 1795, 1893, 2817]\n"
     ]
    }
   ],
   "source": [
    "# повторный вызов функции\n",
    "dupl_searching()"
   ]
  },
  {
   "cell_type": "markdown",
   "id": "4f6bdb78",
   "metadata": {},
   "source": [
    "Теперь проанализируем оставшиеся индексы в ручную."
   ]
  },
  {
   "cell_type": "markdown",
   "id": "580769a5",
   "metadata": {},
   "source": [
    "**Анализ вакансии с индексом 1355**"
   ]
  },
  {
   "cell_type": "code",
   "execution_count": 34,
   "id": "0f6998d2",
   "metadata": {},
   "outputs": [
    {
     "data": {
      "text/html": [
       "<div>\n",
       "<style scoped>\n",
       "    .dataframe tbody tr th:only-of-type {\n",
       "        vertical-align: middle;\n",
       "    }\n",
       "\n",
       "    .dataframe tbody tr th {\n",
       "        vertical-align: top;\n",
       "    }\n",
       "\n",
       "    .dataframe thead th {\n",
       "        text-align: right;\n",
       "    }\n",
       "</style>\n",
       "<table border=\"1\" class=\"dataframe\">\n",
       "  <thead>\n",
       "    <tr style=\"text-align: right;\">\n",
       "      <th></th>\n",
       "      <th>chat</th>\n",
       "      <th>message_id</th>\n",
       "      <th>date</th>\n",
       "      <th>text</th>\n",
       "      <th>entities</th>\n",
       "      <th>vac_date</th>\n",
       "    </tr>\n",
       "  </thead>\n",
       "  <tbody>\n",
       "    <tr>\n",
       "      <th>747</th>\n",
       "      <td>{\\n    \"_\": \"Chat\",\\n    \"id\": -1001291755040,...</td>\n",
       "      <td>281</td>\n",
       "      <td>2020-10-28 16:40:39</td>\n",
       "      <td>DBA/Data Engineer\\nот 60 000 до 100 000 руб. н...</td>\n",
       "      <td>[\\n    {\\n        \"_\": \"MessageEntity\",\\n     ...</td>\n",
       "      <td>2020-10-28</td>\n",
       "    </tr>\n",
       "    <tr>\n",
       "      <th>1355</th>\n",
       "      <td>{\\n    \"_\": \"Chat\",\\n    \"id\": -1001291755040,...</td>\n",
       "      <td>460</td>\n",
       "      <td>2021-06-08 20:37:22</td>\n",
       "      <td>Robocash Group - международный fintech-холдинг...</td>\n",
       "      <td>[\\n    {\\n        \"_\": \"MessageEntity\",\\n     ...</td>\n",
       "      <td>2021-06-08</td>\n",
       "    </tr>\n",
       "    <tr>\n",
       "      <th>1447</th>\n",
       "      <td>{\\n    \"_\": \"Chat\",\\n    \"id\": -1001291755040,...</td>\n",
       "      <td>489</td>\n",
       "      <td>2021-07-08 17:07:04</td>\n",
       "      <td>Robocash Group - международный fintech-холдинг...</td>\n",
       "      <td>[\\n    {\\n        \"_\": \"MessageEntity\",\\n     ...</td>\n",
       "      <td>2021-07-08</td>\n",
       "    </tr>\n",
       "  </tbody>\n",
       "</table>\n",
       "</div>"
      ],
      "text/plain": [
       "                                                   chat  message_id  \\\n",
       "747   {\\n    \"_\": \"Chat\",\\n    \"id\": -1001291755040,...         281   \n",
       "1355  {\\n    \"_\": \"Chat\",\\n    \"id\": -1001291755040,...         460   \n",
       "1447  {\\n    \"_\": \"Chat\",\\n    \"id\": -1001291755040,...         489   \n",
       "\n",
       "                    date                                               text  \\\n",
       "747  2020-10-28 16:40:39  DBA/Data Engineer\\nот 60 000 до 100 000 руб. н...   \n",
       "1355 2021-06-08 20:37:22  Robocash Group - международный fintech-холдинг...   \n",
       "1447 2021-07-08 17:07:04  Robocash Group - международный fintech-холдинг...   \n",
       "\n",
       "                                               entities    vac_date  \n",
       "747   [\\n    {\\n        \"_\": \"MessageEntity\",\\n     ...  2020-10-28  \n",
       "1355  [\\n    {\\n        \"_\": \"MessageEntity\",\\n     ...  2021-06-08  \n",
       "1447  [\\n    {\\n        \"_\": \"MessageEntity\",\\n     ...  2021-07-08  "
      ]
     },
     "execution_count": 34,
     "metadata": {},
     "output_type": "execute_result"
    }
   ],
   "source": [
    "df[df['text'].str.contains(df.loc[1355]['text'][0:130])]"
   ]
  },
  {
   "cell_type": "code",
   "execution_count": 35,
   "id": "978947da",
   "metadata": {
    "scrolled": true
   },
   "outputs": [
    {
     "data": {
      "text/plain": [
       "'DBA/Data Engineer\\nот 60 000 до 100 000 руб. на руки\\nОпыт: 1-3 года\\nЛокация: Кемерово\\n\\nО компании:\\nRobocash Group - международный fintech-холдинг, успешно развивающийся в Европе и Азии с 2013 года и специализирующийся на частных инвестициях и потребительском кредитовании \"как в режиме онлайн, так и в автономном режиме\".\\nКомпании нашей группы запущены и успешно работают в 8 странах мира \"Россия, Казахстан, Испания, Латвия, Филиппины, Индонезия, Вьетнам, Индия\". Мы постоянно расширяем географию нашего присутствия, выходим на новые рынки, ставим перед собой новые амбициозные задачи.\\nПолучаешь удовольствие от IaC  Хочешь деплоить сервисы, которые будут работать в условиях географической распределенности на половину Земного шара \\n\\nЗадачи:\\n\\nУчастие в проектировании, организация и контроль потоков данных \"cdc, etl\"\\nРазработка новых и доработка существующих процедур/флоу.\\nАдминистрирование баз данных.\\n\\nТребования:\\n\\nОпыт использования linux-систем от 1 года\\nЭкспертное владение SQL\\n\\nБудет преимуществом:\\n\\nОпыт программирования на хотя бы одном из следующих языков: php, javascript, java, go, python или другие\\nОпыт работы с Apache Kafka/Debezium/Apache Nifi\\nЗнания принципов работы любых БД \"SQL/NoSQL\"\\n\\nИз приятных особенностей условий работы:\\n\\nОпыт работы в международной IT-компании;\\nОфициальное трудоустройство в соответствии с ТК РФ, “белая” заработная плата;\\nКомфортный график \"начало рабочего дня с 08:00 до 11:00\";\\nСоц пакет со всем, что полагается - ДМС, изучение английского, тренажерный зал в офисе\\nВозможность посещать профильные внешние конференции, а также внутренние мероприятия по обмену опытом;\\nИ конечно, чай, кофе, шоколадки, йогурты, фрукты \"\\n\\nКонтактная информация:\\nДаулеткан Динара\\n\\nплюс7 \"912\" 2501351\\nd.dauletkan@robo.finance\\n\\n#DataEngineer #Linux #SQL'"
      ]
     },
     "execution_count": 35,
     "metadata": {},
     "output_type": "execute_result"
    }
   ],
   "source": [
    "df.loc[747]['text']"
   ]
  },
  {
   "cell_type": "code",
   "execution_count": 36,
   "id": "0a7e9b95",
   "metadata": {
    "scrolled": true
   },
   "outputs": [
    {
     "data": {
      "text/plain": [
       "'Robocash Group - международный fintech-холдинг, успешно развивающийся в Европе и Азии с 2013 года и специализирующийся на частных инвестициях и потребительском кредитовании \"как в режиме онлайн, так и в автономном режиме\".\\nКомпании нашей группы запущены и успешно работают в 8 странах мира \"Россия, Казахстан, Испания, Латвия, Филиппины, Индонезия, Вьетнам, Индия\". Мы постоянно расширяем географию нашего присутствия, выходим на новые рынки, ставим перед собой новые амбициозные задачи.\\n\\nВ настоящий момент мы ищем Разработчика DWH.\\n\\nОбязанности:\\n-  Проектирование и разработка структур хранения данных в DWH.\\n-  Проектирование, разработка и поддержка процессов извлечения, преобразования и загрузки данных в DWH.\\n-  Проектирование, разработка и поддержка витрин данных на основе данных DWH.\\n\\nТребования:\\n-  Высшее образование.\\n-  Хорошие знания SQL.\\n-  Опыт работы с реляционными базами данных \"MS SQL, PostgreSQL, т.д.\".\\n-  Опыт работы с ETL/ELT-инструментами \"MS SSIS\".\\n-  Понимание архитектурных принципов построения DWH \"нормализация/денормализация, факты/измерения, star-schema, data vault, т.д.\".\\n-  Опыт работы с Jira, Confluence.\\n-  Английский на уровне чтения технической документации.\\n\\nБудет преимуществом:\\n-  Высшее техническое образование.\\n-  Опыт работы в финансовой сфере.\\n-  Опыт работы на проектах DWH от 2-х лет \"разработка, поддержка\".\\n-  Навыки оптимизации SQL и умение работать с большими объёмами данных.\\n\\nИз условий работы:\\n-  Офис в Москва-Сити\\n-  Конкурентная заработная плата\\n-  Бонусы за выполненные задач\\n-  ДМС \"софинансирование\" и другие бенефиты\\n\\nКонтакты:\\n-  Telegram: @mari_pd'"
      ]
     },
     "execution_count": 36,
     "metadata": {},
     "output_type": "execute_result"
    }
   ],
   "source": [
    "df.loc[1355]['text']"
   ]
  },
  {
   "cell_type": "code",
   "execution_count": 37,
   "id": "67dc80ff",
   "metadata": {
    "scrolled": false
   },
   "outputs": [
    {
     "data": {
      "text/plain": [
       "'Robocash Group - международный fintech-холдинг, успешно развивающийся в Европе и Азии с 2013 года и специализирующийся на частных инвестициях и потребительском кредитовании \"как в режиме онлайн, так и в автономном режиме\".\\nКомпании нашей группы запущены и успешно работают в 8 странах мира \"Россия, Казахстан, Испания, Латвия, Филиппины, Индонезия, Вьетнам, Индия\". Мы постоянно расширяем географию нашего присутствия, выходим на новые рынки, ставим перед собой новые амбициозные задачи.\\n\\nВ настоящий момент мы ищем в команду BI разработчика.\\n\\nКакие задачи предстоит решать:\\n-  Разрабатывать дашборды и отчёты для менеджмента и мониторинга качества существующих бизнес-процессов в компании по направлениям риски / маркетинг / оперейшнс;\\n-  Сбирать и анализировать требования от заказчиков;\\n-  Работать с качеством данных, искать и устранять ошибки;\\n-  Оптимизировать существующие отчеты \"повышать качество визуализации, скорость отработки отчетов, унификацию\";\\n-  Поддерживать пользователей по вопросам работы системы, устранения ошибок, повышения эффективности работы отчетности.\\n\\nМы ждем от кандидата:\\n-  Опыт работы с Power BI от 2-х лет;\\n-  Уверенные знания Power BI, Power Pivot, Power Query, DAX, SQL;\\n-  Интерес к созданию эффективной инфографики / повышению эффективности визуализации данных;\\n-  Опыт в разработке и наполнении хранилищ данных;\\n-  Уверенное знание Excel;\\n-  Отличные аналитические качества.\\n\\nЧто мы предлагаем:\\n-  Работу в комфортном, просторном офисе;\\n-  Уютные рабочие места, современные компьютеры \"как минимум два монитора твои\" и все что ты можешь себе представить:\"\\n-  Молодой, профессионально сильный коллектив и адекватное руководство. Ты развиваешься и растешь вместе с командой;\\n-  Посещение самых интересных профессиональных конференций, тренингов, семинаров как по всей России так и в других странах;\\n-  Совершенствование разговорного английского, взаимодействие с коллегами из других стран;\\n-  Справедливую зарплату по результатам собеседования и твоей квалификации;\\n-  Все белым-бело. Никаких конвертов. Больничные, отпуска, ну в общем все как обычно в серьезных компаниях;\\n-  Гибкое начало рабочего дня \"с 8:00 до 11:00\". В нашей команде есть и “жаворонки” и “совы”. По согласованию с командой можно выбрать удобный график работы;\\n-  Мы уделяем внимание здоровью. У нас действует программа ДМС со стоматологией;\\n-  Вкусняшки в ассортименте: завтраки, соки, фрукты, хороший кофе;\\n-  Помощь с релокацией или удаленную работу.\\n\\nКонтактная информация:\\nМарина\\ntelegram: @mari_pd'"
      ]
     },
     "execution_count": 37,
     "metadata": {},
     "output_type": "execute_result"
    }
   ],
   "source": [
    "df.loc[1447]['text']"
   ]
  },
  {
   "cell_type": "markdown",
   "id": "382ebe62",
   "metadata": {},
   "source": [
    "Видим, что данные вакансии не дублируют друг друга."
   ]
  },
  {
   "cell_type": "markdown",
   "id": "dc58d2a3",
   "metadata": {},
   "source": [
    "**Анализ вакансии с индексом 1534**"
   ]
  },
  {
   "cell_type": "code",
   "execution_count": 38,
   "id": "dd230cef",
   "metadata": {
    "scrolled": true
   },
   "outputs": [
    {
     "data": {
      "text/html": [
       "<div>\n",
       "<style scoped>\n",
       "    .dataframe tbody tr th:only-of-type {\n",
       "        vertical-align: middle;\n",
       "    }\n",
       "\n",
       "    .dataframe tbody tr th {\n",
       "        vertical-align: top;\n",
       "    }\n",
       "\n",
       "    .dataframe thead th {\n",
       "        text-align: right;\n",
       "    }\n",
       "</style>\n",
       "<table border=\"1\" class=\"dataframe\">\n",
       "  <thead>\n",
       "    <tr style=\"text-align: right;\">\n",
       "      <th></th>\n",
       "      <th>chat</th>\n",
       "      <th>message_id</th>\n",
       "      <th>date</th>\n",
       "      <th>text</th>\n",
       "      <th>entities</th>\n",
       "      <th>vac_date</th>\n",
       "    </tr>\n",
       "  </thead>\n",
       "  <tbody>\n",
       "    <tr>\n",
       "      <th>1470</th>\n",
       "      <td>{\\n    \"_\": \"Chat\",\\n    \"id\": -1001321264581,...</td>\n",
       "      <td>574</td>\n",
       "      <td>2021-07-14 23:45:07</td>\n",
       "      <td>#dataengineer #вакансия #работа #job #etl #sql...</td>\n",
       "      <td>[\\n    {\\n        \"_\": \"MessageEntity\",\\n     ...</td>\n",
       "      <td>2021-07-14</td>\n",
       "    </tr>\n",
       "    <tr>\n",
       "      <th>1534</th>\n",
       "      <td>{\\n    \"_\": \"Chat\",\\n    \"id\": -1001321264581,...</td>\n",
       "      <td>601</td>\n",
       "      <td>2021-08-05 13:20:16</td>\n",
       "      <td>Привет! Мы — Вебиум. Нескучная онлайн-школа дл...</td>\n",
       "      <td>[\\n    {\\n        \"_\": \"MessageEntity\",\\n     ...</td>\n",
       "      <td>2021-08-05</td>\n",
       "    </tr>\n",
       "  </tbody>\n",
       "</table>\n",
       "</div>"
      ],
      "text/plain": [
       "                                                   chat  message_id  \\\n",
       "1470  {\\n    \"_\": \"Chat\",\\n    \"id\": -1001321264581,...         574   \n",
       "1534  {\\n    \"_\": \"Chat\",\\n    \"id\": -1001321264581,...         601   \n",
       "\n",
       "                    date                                               text  \\\n",
       "1470 2021-07-14 23:45:07  #dataengineer #вакансия #работа #job #etl #sql...   \n",
       "1534 2021-08-05 13:20:16  Привет! Мы — Вебиум. Нескучная онлайн-школа дл...   \n",
       "\n",
       "                                               entities    vac_date  \n",
       "1470  [\\n    {\\n        \"_\": \"MessageEntity\",\\n     ...  2021-07-14  \n",
       "1534  [\\n    {\\n        \"_\": \"MessageEntity\",\\n     ...  2021-08-05  "
      ]
     },
     "execution_count": 38,
     "metadata": {},
     "output_type": "execute_result"
    }
   ],
   "source": [
    "df[df['text'].str.contains(df.loc[1534]['text'][0:130])]"
   ]
  },
  {
   "cell_type": "code",
   "execution_count": 39,
   "id": "9ef60019",
   "metadata": {},
   "outputs": [
    {
     "data": {
      "text/plain": [
       "'#dataengineer #вакансия #работа #job #etl #sql #clickhouse #Senler #BigQuery #OWOX #python\\n\\nData engineer\\n\\nПривет! Мы — Вебиум. Нескучная онлайн-школа для тех, кто готовится к экзаменам и хочет во всём разобраться.\\n\\nБолее 7 лет помогаем школьникам со всей России готовиться к ЕГЭ. Только в прошлом году с нами занималось более 41,5 тысячи студентов!\\n\\nВ 2021м мы третьи по темпу роста в первом квартале на рынке edtech, седьмые в сегменте школьного образования по итогам первого квартала, двадцатые в рейтинге edtech компаний за первый квартал и мы не собираемся останавливаться! 🙂\\n\\nКого мы ищем \\nМы ищем дата-инженера, готового поддерживать data-driven культуру управления продуктом и маркетингом, обеспечивая всех заинтересованных данными для принятия аргументированных решений.\\n\\nЧто предстоит делать:\\n- Создавать и оптимизировать ETL процессы выгрузки данных \"разовые плюс автоматизация\";\\n- Контролировать качество данных;\\n- Оптимизировать работу с базами данных;\\n- Продумать стратегию развития аналитической инфраструктуры с учетом потребностей бизнеса — выбор технологий и проектирование архитектуры;\\n- Наладить регулярные процессы подготовки и поставки данных для продуктовых, маркетинговых команд и аналитиков.\\n\\nПримеры задач:\\n1\" Мы пользуемся сервисом создания автоворонок Senler, нужно вытащить из него данные по API, загрузить её в наш Clickhouse и настроить стриминг, схему данных и скорость стриминга можно обсудить с нашим аналитиком.\\n2\" У нас сейчас раз в сутки переливаются данные из продакшен базы в Clickhouse, при этом Clickhouse вычищается, а нужно сделать условный стриминг, чтобы это происходило не раз в сутки, а чаще.\\n3\" Сейчас мы берем данные из рекламных кабинетов Facebook и Вконтакте и через коннекторы OWOX складываем их в BigQuery. \\n4\" Хочется выгружать данные о платежах из CloudPayments, PayPal и Сбера напрямую, чтобы проводить сверки с нашим бэкендом.\\n\\nЧто для нас важно:\\n- Опыт развития аналитической инфраструктуры;\\n- Отличное знание SQL;\\n- Понимание принципов работы хранилищ данных;\\n- Навыки проектирования баз данных;\\n- Знание Python;\\n- Опыт работы с Clickhouse;\\n- Опыт построения ETL-процессов;\\n- Знание базовых принципов работы маркетинговой и продуктовой аналитики;\\n- Опыт работы на позиции дата-инженера от двух лет.\\n\\nНаши условия:\\n- Удаленная работа, при этом в историческом центре Питера у нас есть уютный штаб, где можно поработать, отдохнуть и поесть орешки со сгущенкой :\"\\n- Оплата обсуждаема, наша вилка 180 000 - 220 000 руб:\\n- График 5/2, полная занятость с гибкими часами: можешь подстроить его под свой комфортный режим;\\n- Вовлеченная команда, которая заинтересована в создании лучшего продукта в своем сегменте;\\n- Работа в социально-значимым и полезном проекте;\\n- А ещё мы открытая организация с культурой бирюзового управления, гибким подходом и большой верой в то, что мы делаем!\\n\\nОткликнуться:\\n⚡️ @christinch\\n⚡️ @frecklesattack\\n📩 hr@webium.team'"
      ]
     },
     "execution_count": 39,
     "metadata": {},
     "output_type": "execute_result"
    }
   ],
   "source": [
    "df.loc[1470]['text']"
   ]
  },
  {
   "cell_type": "code",
   "execution_count": 40,
   "id": "70ba7293",
   "metadata": {
    "scrolled": false
   },
   "outputs": [
    {
     "data": {
      "text/plain": [
       "'Привет! Мы — Вебиум. Нескучная онлайн-школа для тех, кто готовится к экзаменам и хочет во всём разобраться.\\n\\nБолее 7 лет помогаем школьникам со всей России готовиться к ЕГЭ. Только в прошлом году с нами занималось более 41,5 тысячи студентов!\\n\\nВ 2021м мы третьи по темпу роста в первом квартале на рынке edtech, седьмые в сегменте школьного образования по итогам первого квартала, двадцатые в рейтинге edtech компаний за первый квартал и мы не собираемся останавливаться! 🙂\\n\\nКого мы ищем \\nМы ищем дата-инженера, готового поддерживать data-driven культуру управления продуктом и маркетингом, обеспечивая всех заинтересованных данными для принятия аргументированных решений.\\n\\nЧто предстоит делать\\n- Создавать и оптимизировать ETL процессы выгрузки данных \"разовые плюс автоматизация\";\\n- Контролировать качество данных;\\n- Оптимизировать работу с базами данных;\\n- Продумать стратегию развития аналитической инфраструктуры с учетом потребностей бизнеса — выбор технологий и проектирование архитектуры;\\n- Наладить регулярные процессы подготовки и поставки данных для продуктовых, маркетинговых команд и аналитиков.\\n\\nПримеры задач\\n1. Мы пользуемся сервисом создания автоворонок Senler, нужно вытащить из него данные по API, загрузить её в наш Clickhouse и настроить стриминг, схему данных и скорость стриминга можно обсудить с нашим аналитиком.\\n2. У нас сейчас раз в сутки переливаются данные из продакшен базы в Clickhouse, при этом Clickhouse вычищается, а нужно сделать условный стриминг, чтобы это происходило не раз в сутки, а чаще.\\n3. Сейчас мы берем данные из рекламных кабинетов Facebook и Вконтакте и через коннекторы OWOX складываем их в BigQuery. \\n4. Хочется выгружать данные о платежах из CloudPayments, PayPal и Сбера напрямую, чтобы проводить сверки с нашим бэкендом.\\n\\nЧто для нас важно\\n- Опыт развития аналитической инфраструктуры;\\n- Отличное знание SQL;\\n- Понимание принципов работы хранилищ данных;\\n- Навыки проектирования баз данных;\\n- Знание Python;\\n- Опыт работы с Clickhouse;\\n- Опыт построения ETL-процессов;\\n- Знание базовых принципов работы маркетинговой и продуктовой аналитики;\\n- Опыт работы на позиции дата-инженера от двух лет.\\n\\nНаши условия\\n- Удаленная работа, при этом в историческом центре Питера у нас есть уютный штаб, где можно поработать, отдохнуть и поесть орешки со сгущенкой :\"\\n- Оплата обсуждаема, наша вилка 180 000 - 220 000 руб:\\n- График 5/2, полная занятость с гибкими часами: можешь подстроить его под свой комфортный режим;\\n- Вовлеченная команда, которая заинтересована в создании лучшего продукта в своем сегменте;\\n- Работа в социально-значимом и полезном проекте;\\n- А ещё мы открытая организация с культурой бирюзового управления, гибким подходом и большой верой в то, что мы делаем!\\n\\nКуда писать:\\nhr@webium.team\\n@christinch\\n@frecklesattack'"
      ]
     },
     "execution_count": 40,
     "metadata": {},
     "output_type": "execute_result"
    }
   ],
   "source": [
    "df.loc[1534]['text']"
   ]
  },
  {
   "cell_type": "markdown",
   "id": "c27316fc",
   "metadata": {},
   "source": [
    "Эти вакансии дублируют друг друга."
   ]
  },
  {
   "cell_type": "markdown",
   "id": "e90ff707",
   "metadata": {},
   "source": [
    "**Анализ вакансии с индексом 2183**"
   ]
  },
  {
   "cell_type": "code",
   "execution_count": 41,
   "id": "b8ff3111",
   "metadata": {
    "scrolled": false
   },
   "outputs": [
    {
     "data": {
      "text/html": [
       "<div>\n",
       "<style scoped>\n",
       "    .dataframe tbody tr th:only-of-type {\n",
       "        vertical-align: middle;\n",
       "    }\n",
       "\n",
       "    .dataframe tbody tr th {\n",
       "        vertical-align: top;\n",
       "    }\n",
       "\n",
       "    .dataframe thead th {\n",
       "        text-align: right;\n",
       "    }\n",
       "</style>\n",
       "<table border=\"1\" class=\"dataframe\">\n",
       "  <thead>\n",
       "    <tr style=\"text-align: right;\">\n",
       "      <th></th>\n",
       "      <th>chat</th>\n",
       "      <th>message_id</th>\n",
       "      <th>date</th>\n",
       "      <th>text</th>\n",
       "      <th>entities</th>\n",
       "      <th>vac_date</th>\n",
       "    </tr>\n",
       "  </thead>\n",
       "  <tbody>\n",
       "    <tr>\n",
       "      <th>2183</th>\n",
       "      <td>{\\n    \"_\": \"Chat\",\\n    \"id\": -1001269377842,...</td>\n",
       "      <td>1233</td>\n",
       "      <td>2022-01-26 19:46:41</td>\n",
       "      <td>#вакансия #работа #data_engineer #junior #midd...</td>\n",
       "      <td>[\\n    {\\n        \"_\": \"MessageEntity\",\\n     ...</td>\n",
       "      <td>2022-01-26</td>\n",
       "    </tr>\n",
       "    <tr>\n",
       "      <th>2423</th>\n",
       "      <td>{\\n    \"_\": \"Chat\",\\n    \"id\": -1001269377842,...</td>\n",
       "      <td>1317</td>\n",
       "      <td>2022-03-01 19:27:47</td>\n",
       "      <td>#вакансия #работа #data_engineer #junior #midd...</td>\n",
       "      <td>[\\n    {\\n        \"_\": \"MessageEntity\",\\n     ...</td>\n",
       "      <td>2022-03-01</td>\n",
       "    </tr>\n",
       "    <tr>\n",
       "      <th>2473</th>\n",
       "      <td>{\\n    \"_\": \"Chat\",\\n    \"id\": -1001269377842,...</td>\n",
       "      <td>1332</td>\n",
       "      <td>2022-03-09 21:16:10</td>\n",
       "      <td>#вакансия #работа #data_engineer #junior #midd...</td>\n",
       "      <td>[\\n    {\\n        \"_\": \"MessageEntity\",\\n     ...</td>\n",
       "      <td>2022-03-09</td>\n",
       "    </tr>\n",
       "  </tbody>\n",
       "</table>\n",
       "</div>"
      ],
      "text/plain": [
       "                                                   chat  message_id  \\\n",
       "2183  {\\n    \"_\": \"Chat\",\\n    \"id\": -1001269377842,...        1233   \n",
       "2423  {\\n    \"_\": \"Chat\",\\n    \"id\": -1001269377842,...        1317   \n",
       "2473  {\\n    \"_\": \"Chat\",\\n    \"id\": -1001269377842,...        1332   \n",
       "\n",
       "                    date                                               text  \\\n",
       "2183 2022-01-26 19:46:41  #вакансия #работа #data_engineer #junior #midd...   \n",
       "2423 2022-03-01 19:27:47  #вакансия #работа #data_engineer #junior #midd...   \n",
       "2473 2022-03-09 21:16:10  #вакансия #работа #data_engineer #junior #midd...   \n",
       "\n",
       "                                               entities    vac_date  \n",
       "2183  [\\n    {\\n        \"_\": \"MessageEntity\",\\n     ...  2022-01-26  \n",
       "2423  [\\n    {\\n        \"_\": \"MessageEntity\",\\n     ...  2022-03-01  \n",
       "2473  [\\n    {\\n        \"_\": \"MessageEntity\",\\n     ...  2022-03-09  "
      ]
     },
     "execution_count": 41,
     "metadata": {},
     "output_type": "execute_result"
    }
   ],
   "source": [
    "df[df['text'].str.contains(df.loc[2183]['text'][0:130])]"
   ]
  },
  {
   "cell_type": "code",
   "execution_count": 42,
   "id": "ef483d10",
   "metadata": {},
   "outputs": [
    {
     "data": {
      "text/plain": [
       "'#вакансия #работа #data_engineer #junior #middle  #senior #fulltime \\n\\n🔎 Вакансия: Data engineer \"Middle - Seniorплюс\";\\nЛокация: Москва \"гибридный формат работы\";\\nЗанятость: полная;\\nВилка: от 180к до 300к gross;\\nКонтакт: @olga_chr, тел. плюс7 \"985\" 236-90-31\\nКомпания: PА CSC-HR;\\n\\nВсем привет! \\n\\nВ крупную нефтегазохимическую компанию ищем Data engineer или опытных разработчиков, желающих вырасти в Data engineer. \\n\\n💼\\nСуть проекта\\n — развитие платформы данных как продукта.\\n\\n🍪 Мы предлагаем:\\n— Комфортный рабочий график с гибким началом рабочего дня;\\n— Оформление по ТК РФ;\\n— Возможность удаленной работы;\\n— Современный стек и гибкие методологии разработки, работа в команде высококлассных профессионалов из разных технологических областей;\\n— Интересные и нестандартные задачи, которые требуют креатива и новых подходов, мы работаем в реальном секторе, наши пользователи - реальные люди;\\n— Корпоративные льготы: ДМС, льготное страхование родственников, большой выбор внутренних спортивных секций, скидки на абонементы сети World Class.\\n\\n\\n🧑🏻\\u200d💻 Задачи:\\n— Развитие платформы данных, создание инструментов обработки данных; \\n— Участие в проектах с реальной ценностью для бизнеса компании;\\n— Загрузка данных из систем источников в узел данных и обеспечение их доступности;\\n— Автоматизация аналитических задач; \\n— Разработка и оптимизация алгоритмов операционного анализа данных;\\n— Развитие практик DevSecOps, автомтизация миграций и разработческих пайплайнов;\\n— Взаимодействие с аналитиками данных \"data scientists\", производственными и функциональными экспертами для определения требований к выгрузке, конвертации и представления данных. \\n\\n🧩 Стэк: Python \"Spark\", Kafka, Hadoop, Vertica, Docker, Apache NiFi.\\n\\n\\n💁🏻\\u200d♀️ Наши пожелания:\\n— Знание хотя бы 1 языка программирования \"желательно что-то из Scala, Java, Python, Cплюсплюс/C#\" на хорошем уровне: опыт разработки более года, есть примеры проектов или продуктов;\\n— Знание SQL, опыт работы с реляционными СУБД \"Oracle, MySQL, PostgreSQL и пр.\";\\n— Навыки проектирования и реализации системы сбора и обработки данных;\\n— Опыт работы с #nix системами;\\n— Управление кластером Hadoop как преимущество;\\n— Знание и умение работать с ETL/ELT инструментами, Apache NiFi \"один из компонентов ядра узла данных\" будет дополнительным плюсом.\\n\\n✍🏻 Буду рада ответить на ваши вопросы в tg - @olga_chr, а также по телефону плюс7 \"985\" 236-90-31'"
      ]
     },
     "execution_count": 42,
     "metadata": {},
     "output_type": "execute_result"
    }
   ],
   "source": [
    "df.loc[2183]['text']"
   ]
  },
  {
   "cell_type": "code",
   "execution_count": 43,
   "id": "3db3b951",
   "metadata": {
    "scrolled": false
   },
   "outputs": [
    {
     "data": {
      "text/plain": [
       "'#вакансия #работа #data_engineer #junior #middle  #senior #fulltime \\n\\n🔎 Вакансия: Data engineer \"Middle - Seniorплюс\";\\nЛокация: Москва \"гибридный формат работы\";\\nЗанятость: полная;\\nВилка: от 180к до 300к gross;\\nКонтакт: @olga_chr, тел. плюс7 \"985\" 236-90-31\\nКомпания: PА CSC-HR;\\n\\nВсем привет! \\n\\nВ крупную нефтегазохимическую компанию ищем Data engineer или опытных разработчиков, желающих вырасти в Data engineer. \\n\\n💼\\nСуть проекта\\n — развитие платформы данных как продукта.\\n\\n🍪 Мы предлагаем:\\n— Комфортный рабочий график с гибким началом рабочего дня;\\n— Оформление по ТК РФ;\\n— Возможность удаленной работы;\\n— Современный стек и гибкие методологии разработки, работа в команде высококлассных профессионалов из разных технологических областей;\\n— Интересные и нестандартные задачи, которые требуют креатива и новых подходов, мы работаем в реальном секторе, наши пользователи - реальные люди;\\n— Корпоративные льготы: ДМС, льготное страхование родственников, большой выбор внутренних спортивных секций, скидки на абонементы сети World Class.\\n\\n\\n🧑🏻\\u200d💻 Задачи:\\n— Развитие платформы данных, создание инструментов обработки данных; \\n— Участие в проектах с реальной ценностью для бизнеса компании;\\n— Загрузка данных из систем источников в узел данных и обеспечение их доступности;\\n— Автоматизация аналитических задач; \\n— Разработка и оптимизация алгоритмов операционного анализа данных;\\n— Развитие практик DevSecOps, автомтизация миграций и разработческих пайплайнов;\\n— Взаимодействие с аналитиками данных \"data scientists\", производственными и функциональными экспертами для определения требований к выгрузке, конвертации и представления данных. \\n\\n🧩 Стэк: Python \"Spark\", Kafka, Hadoop, Vertica, Docker, Apache NiFi.\\n\\n\\n💁🏻\\u200d♀️ Наши пожелания:\\n— Знание хотя бы 1 языка программирования \"желательно что-то из Scala, Java, Python, Cплюсплюс/C#\" на хорошем уровне: опыт разработки более года, есть примеры проектов или продуктов;\\n— Знание SQL, опыт работы с реляционными СУБД \"Oracle, MySQL, PostgreSQL и пр.\";\\n— Навыки проектирования и реализации системы сбора и обработки данных;\\n— Опыт работы с #nix системами;\\n— Управление кластером Hadoop как преимущество;\\n— Знание и умение работать с ETL/ELT инструментами, Apache NiFi \"один из компонентов ядра узла данных\" будет дополнительным плюсом;\\n- Коммерческий опыт в аналогичной должности от 1 года.\\n\\n✍🏻 Буду рада ответить на ваши вопросы в tg - @olga_chr, а также по телефону плюс7 \"985\" 236-90-31'"
      ]
     },
     "execution_count": 43,
     "metadata": {},
     "output_type": "execute_result"
    }
   ],
   "source": [
    "df.loc[2423]['text']"
   ]
  },
  {
   "cell_type": "code",
   "execution_count": 44,
   "id": "c8f71c58",
   "metadata": {
    "scrolled": false
   },
   "outputs": [
    {
     "data": {
      "text/plain": [
       "'#вакансия #работа #data_engineer #junior #middle  #senior #fulltime \\n\\n🔎 Вакансия: Data engineer \"Middle - Seniorплюс\";\\nЛокация: Москва \"возможен удаленный формат работы\";\\nЗанятость: полная;\\nВилка: от 180к до 300к gross;\\nКонтакт: @olga_chr, тел. плюс7 \"985\" 236-90-31\\nКомпания: PА CSC-HR;\\n\\nВсем привет! \\n\\nВ крупную нефтегазохимическую компанию ищем Data engineer или опытных разработчиков, желающих вырасти в Data engineer. \\n\\n💼\\nСуть проекта\\n — развитие платформы данных как продукта.\\n\\n🍪 Мы предлагаем:\\n— Комфортный рабочий график с гибким началом рабочего дня;\\n— Оформление по ТК РФ;\\n— Возможность удаленной работы;\\n— Современный стек и гибкие методологии разработки, работа в команде высококлассных профессионалов из разных технологических областей;\\n— Интересные и нестандартные задачи, которые требуют креатива и новых подходов, мы работаем в реальном секторе, наши пользователи - реальные люди;\\n— Корпоративные льготы: ДМС, льготное страхование родственников, большой выбор внутренних спортивных секций, скидки на абонементы сети World Class.\\n\\n\\n🧑🏻\\u200d💻 Задачи:\\n— Развитие платформы данных, создание инструментов обработки данных; \\n— Участие в проектах с реальной ценностью для бизнеса компании;\\n— Загрузка данных из систем источников в узел данных и обеспечение их доступности;\\n— Автоматизация аналитических задач; \\n— Разработка и оптимизация алгоритмов операционного анализа данных;\\n— Развитие практик DevSecOps, автомтизация миграций и разработческих пайплайнов;\\n— Взаимодействие с аналитиками данных \"data scientists\", производственными и функциональными экспертами для определения требований к выгрузке, конвертации и представления данных. \\n\\n🧩 Стэк: Python \"Spark\", Kafka, Hadoop, Vertica, Docker, Apache NiFi.\\n\\n\\n💁🏻\\u200d♀️ Наши пожелания:\\n— Знание хотя бы 1 языка программирования \"желательно что-то из Scala, Java, Python, Cплюсплюс/C#\" на хорошем уровне: опыт разработки более года, есть примеры проектов или продуктов;\\n— Знание SQL, опыт работы с реляционными СУБД \"Oracle, MySQL, PostgreSQL и пр.\";\\n— Навыки проектирования и реализации системы сбора и обработки данных;\\n— Опыт работы с #nix системами;\\n— Управление кластером Hadoop как преимущество;\\n— Знание и умение работать с ETL/ELT инструментами, Apache NiFi \"один из компонентов ядра узла данных\" будет дополнительным плюсо\\nм;\\n- Коммерческий опыт в аналогичной должности от 1 года.'"
      ]
     },
     "execution_count": 44,
     "metadata": {},
     "output_type": "execute_result"
    }
   ],
   "source": [
    "df.loc[2473]['text']"
   ]
  },
  {
   "cell_type": "markdown",
   "id": "631d3f4e",
   "metadata": {},
   "source": [
    "Эти вакансии также являются дубликатами."
   ]
  },
  {
   "cell_type": "markdown",
   "id": "a6075d18",
   "metadata": {},
   "source": [
    "**Анализ вакансии с индексом 322**"
   ]
  },
  {
   "cell_type": "code",
   "execution_count": 45,
   "id": "fac3420f",
   "metadata": {
    "scrolled": false
   },
   "outputs": [
    {
     "data": {
      "text/html": [
       "<div>\n",
       "<style scoped>\n",
       "    .dataframe tbody tr th:only-of-type {\n",
       "        vertical-align: middle;\n",
       "    }\n",
       "\n",
       "    .dataframe tbody tr th {\n",
       "        vertical-align: top;\n",
       "    }\n",
       "\n",
       "    .dataframe thead th {\n",
       "        text-align: right;\n",
       "    }\n",
       "</style>\n",
       "<table border=\"1\" class=\"dataframe\">\n",
       "  <thead>\n",
       "    <tr style=\"text-align: right;\">\n",
       "      <th></th>\n",
       "      <th>chat</th>\n",
       "      <th>message_id</th>\n",
       "      <th>date</th>\n",
       "      <th>text</th>\n",
       "      <th>entities</th>\n",
       "      <th>vac_date</th>\n",
       "    </tr>\n",
       "  </thead>\n",
       "  <tbody>\n",
       "    <tr>\n",
       "      <th>322</th>\n",
       "      <td>{\\n    \"_\": \"Chat\",\\n    \"id\": -1001269377842,...</td>\n",
       "      <td>271</td>\n",
       "      <td>2020-04-21 15:30:24</td>\n",
       "      <td>#Вакансия #DevOps #Москва #Fulltime\\nПривет! К...</td>\n",
       "      <td>[\\n    {\\n        \"_\": \"MessageEntity\",\\n     ...</td>\n",
       "      <td>2020-04-21</td>\n",
       "    </tr>\n",
       "    <tr>\n",
       "      <th>350</th>\n",
       "      <td>{\\n    \"_\": \"Chat\",\\n    \"id\": -1001269377842,...</td>\n",
       "      <td>298</td>\n",
       "      <td>2020-05-27 21:46:15</td>\n",
       "      <td>Добрый день. Просьба разместить вакансию #Вака...</td>\n",
       "      <td>[\\n    {\\n        \"_\": \"MessageEntity\",\\n     ...</td>\n",
       "      <td>2020-05-27</td>\n",
       "    </tr>\n",
       "  </tbody>\n",
       "</table>\n",
       "</div>"
      ],
      "text/plain": [
       "                                                  chat  message_id  \\\n",
       "322  {\\n    \"_\": \"Chat\",\\n    \"id\": -1001269377842,...         271   \n",
       "350  {\\n    \"_\": \"Chat\",\\n    \"id\": -1001269377842,...         298   \n",
       "\n",
       "                   date                                               text  \\\n",
       "322 2020-04-21 15:30:24  #Вакансия #DevOps #Москва #Fulltime\\nПривет! К...   \n",
       "350 2020-05-27 21:46:15  Добрый день. Просьба разместить вакансию #Вака...   \n",
       "\n",
       "                                              entities    vac_date  \n",
       "322  [\\n    {\\n        \"_\": \"MessageEntity\",\\n     ...  2020-04-21  \n",
       "350  [\\n    {\\n        \"_\": \"MessageEntity\",\\n     ...  2020-05-27  "
      ]
     },
     "execution_count": 45,
     "metadata": {},
     "output_type": "execute_result"
    }
   ],
   "source": [
    "df[df['text'].str.contains(df.loc[322]['text'][-130:-1])]"
   ]
  },
  {
   "cell_type": "code",
   "execution_count": 46,
   "id": "cb99e5a5",
   "metadata": {
    "scrolled": true
   },
   "outputs": [
    {
     "data": {
      "text/plain": [
       "'#Вакансия #DevOps #Москва #Fulltime\\nПривет! Крупнейший медиа холдинг ищет крутого инженера DevOps! \\nЛокация: Москва, м. Тульская или Сколково\\nСейчас работаем на удаленке в свази с карантином, после окончание предполагается работа в офисе\\nУсловия: зп от 180 000 до 220 000 на руки\"обсуждается на собеседовании\", комфортабельный офис, ДМС и ВЗР после испытательного срока, дополнительные скидки на услуги партнеров\\nПроект по консолидации данных активов холдинга и созданию DMP для профилирования аудитории\\nОсновные задачи:\\n-  Установка, настройка, обновление программного обеспечения\\n-  Поддержание отказоустойчивости веб сервисов\\n-  Сопровождение процесса разработки, автоматизация релизов и тестирования.\\n-  Управление и поддержка тестового и продуктивного окружения\\n-  Настройка мониторинга и оповещения о событиях\\nНаш стек: Hadoop, Spark, Kafka\\nОжидаем от тебя:\\n-  Опыт работы в качестве Инженера DevOps по сопровождению систем распределенных вычислений на основе стека HadoopплюсKafka.\\n-  Оркестратор процессов – Airflow\\n-  Опыт настройки Nginx для высоконагруженных веб сервисов.\\n-  Опыт работы с Docker и Kubernetes, системами мониторинга GrafanaплюсPrometheus или подобными\\n-  Опыт работы с Gitlab и системами CI/CD\\nКомпания: Национальная медиа группа https://nm-g.ru/holding/\\nГотова рассказать детали, я всегда на связи в telegram @AnnaSafarova\\nТакже буду очень признательна за рекомендации \\nВсем хорошего дня!'"
      ]
     },
     "execution_count": 46,
     "metadata": {},
     "output_type": "execute_result"
    }
   ],
   "source": [
    "df.loc[322]['text']"
   ]
  },
  {
   "cell_type": "code",
   "execution_count": 47,
   "id": "f2fe72d9",
   "metadata": {
    "scrolled": true
   },
   "outputs": [
    {
     "data": {
      "text/plain": [
       "'Добрый день. Просьба разместить вакансию #Вакансия#DevOps#Москва #Fulltime\\nПривет! Крупнейший медиа холдинг ищет крутого инженера DevOps! \\nЛокация: Москва, м. Тульская или Сколково\\nСейчас работаем на удаленке в свази с карантином, после окончание предполагается работа в офисе\\nУсловия: зп от 200 000 до 270 000 gross \"обсуждается на собеседовании\", комфортабельный офис, ДМС и ВЗР после испытательного срока, дополнительные скидки на услуги партнеров\\nПроект по консолидации данных активов холдинга и созданию DMP для профилирования аудитории\\nОсновные задачи:\\n-  Установка, настройка, обновление программного обеспечения\\n-  Поддержание отказоустойчивости веб сервисов\\n-  Сопровождение процесса разработки, автоматизация релизов и тестирования.\\n-  Управление и поддержка тестового и продуктивного окружения\\n-  Настройка мониторинга и оповещения о событиях\\nНаш стек: Hadoop, Spark, Kafka\\nОжидаем от тебя:\\n-  Опыт работы в качестве Инженера DevOps по сопровождению систем распределенных вычислений на основе стека HadoopплюсKafka.\\n-  Оркестратор процессов – Airflow\\n-  Опыт настройки Nginx для высоконагруженных веб сервисов.\\n-  Опыт работы с Docker и Kubernetes, системами мониторинга GrafanaплюсPrometheus или подобными\\n-  Опыт работы с Gitlab и системами CI/CD\\nКомпания: Национальная медиа группа https://nm-g.ru/holding/\\nГотова рассказать детали, я всегда на связи в telegram @AnnaSafarova\\nТакже буду очень признательна за рекомендации \\nВсем хорошего дня!'"
      ]
     },
     "execution_count": 47,
     "metadata": {},
     "output_type": "execute_result"
    }
   ],
   "source": [
    "df.loc[350]['text']"
   ]
  },
  {
   "cell_type": "markdown",
   "id": "799a42b3",
   "metadata": {},
   "source": [
    "Дубль."
   ]
  },
  {
   "cell_type": "markdown",
   "id": "cd232af3",
   "metadata": {},
   "source": [
    "**Анализ вакансии с индексом 773**"
   ]
  },
  {
   "cell_type": "code",
   "execution_count": 48,
   "id": "77ad72bb",
   "metadata": {
    "scrolled": false
   },
   "outputs": [
    {
     "data": {
      "text/html": [
       "<div>\n",
       "<style scoped>\n",
       "    .dataframe tbody tr th:only-of-type {\n",
       "        vertical-align: middle;\n",
       "    }\n",
       "\n",
       "    .dataframe tbody tr th {\n",
       "        vertical-align: top;\n",
       "    }\n",
       "\n",
       "    .dataframe thead th {\n",
       "        text-align: right;\n",
       "    }\n",
       "</style>\n",
       "<table border=\"1\" class=\"dataframe\">\n",
       "  <thead>\n",
       "    <tr style=\"text-align: right;\">\n",
       "      <th></th>\n",
       "      <th>chat</th>\n",
       "      <th>message_id</th>\n",
       "      <th>date</th>\n",
       "      <th>text</th>\n",
       "      <th>entities</th>\n",
       "      <th>vac_date</th>\n",
       "    </tr>\n",
       "  </thead>\n",
       "  <tbody>\n",
       "    <tr>\n",
       "      <th>773</th>\n",
       "      <td>{\\n    \"_\": \"Chat\",\\n    \"id\": -1001321264581,...</td>\n",
       "      <td>283</td>\n",
       "      <td>2020-11-06 23:24:01</td>\n",
       "      <td>#вакансия #СПб #fulltime #удаленка #BigData #s...</td>\n",
       "      <td>[\\n    {\\n        \"_\": \"MessageEntity\",\\n     ...</td>\n",
       "      <td>2020-11-06</td>\n",
       "    </tr>\n",
       "    <tr>\n",
       "      <th>1018</th>\n",
       "      <td>{\\n    \"_\": \"Chat\",\\n    \"id\": -1001321264581,...</td>\n",
       "      <td>404</td>\n",
       "      <td>2021-02-28 15:11:00</td>\n",
       "      <td>#вакансия #СПб #fulltime #удаленка #BigData #s...</td>\n",
       "      <td>[\\n    {\\n        \"_\": \"MessageEntity\",\\n     ...</td>\n",
       "      <td>2021-02-28</td>\n",
       "    </tr>\n",
       "  </tbody>\n",
       "</table>\n",
       "</div>"
      ],
      "text/plain": [
       "                                                   chat  message_id  \\\n",
       "773   {\\n    \"_\": \"Chat\",\\n    \"id\": -1001321264581,...         283   \n",
       "1018  {\\n    \"_\": \"Chat\",\\n    \"id\": -1001321264581,...         404   \n",
       "\n",
       "                    date                                               text  \\\n",
       "773  2020-11-06 23:24:01  #вакансия #СПб #fulltime #удаленка #BigData #s...   \n",
       "1018 2021-02-28 15:11:00  #вакансия #СПб #fulltime #удаленка #BigData #s...   \n",
       "\n",
       "                                               entities    vac_date  \n",
       "773   [\\n    {\\n        \"_\": \"MessageEntity\",\\n     ...  2020-11-06  \n",
       "1018  [\\n    {\\n        \"_\": \"MessageEntity\",\\n     ...  2021-02-28  "
      ]
     },
     "execution_count": 48,
     "metadata": {},
     "output_type": "execute_result"
    }
   ],
   "source": [
    "df[df['text'].str.contains(df.loc[773]['text'][-130:-1])]"
   ]
  },
  {
   "cell_type": "code",
   "execution_count": 49,
   "id": "d74d93a9",
   "metadata": {
    "scrolled": true
   },
   "outputs": [
    {
     "data": {
      "text/plain": [
       "'#вакансия #СПб #fulltime #удаленка #BigData #senior\\n\\nВакансия: Senior Big Data Administrator\\nКомпания: QuadСode\\nФормат работы: удаленно до апреля, потом можно выйти в офис или продолжить работать удаленно\\nЗарплата \"полностью белая\": 160 000 - 250 000 ₽ на руки \"рассмотрим и выше, зависит от твоих скиллов\"\\n\\nЧем предстоит заниматься:\\n-  участвовать в проработке требований к платформе с бизнесом и продуктовой архитектурой;\\n-  проектировать и реализовывать Lambda архитектуру хранения, обработки и анализа больших данных высоконагруженных FinTech продуктов;\\n-  развивать доступность и бесперебойную работу инфраструктуры и сервисов для достижения высоких SLA;\\n-  модернизировать существующие и развертывать современные open-source решения;\\n-  развиваться в технического лидера по мере роста команды.\\n\\nТы нам подходишь если:\\n-  хорошо знаешь, как создавать высоконагруженные и высокодоступные системы;\\n-  имеешь опыт работы с Hadoop экосистемой \"HDFS / Hbase / Hive / Impala / Spark / Flink\";\\n-  работал с реляционными БД и знаешь что происходит под капотом \"Greenplum / PostgreSQL / MySQL\";\\n-  администрировал OS Linux и понимаешь сетевые протоколы \"TCP/UDP, HTTP, ICMP\";\\n-  знаешь про Docker \"podman\" и работал с ним в проде;\\n-  регулярно принимаешь языки программирования для профессиональных задач \"Python / Scala / Java / Golang\";\\n-  профессионально используешь системы управления конфигурациями \"Ansible / Salt / Chef / Puppet\";\\n-  владеешь английским языком на уровне чтения профессиональной литературы.\\n\\nБудет плюсом:\\n-  опыт работы с NoSQL \"Cassandra, Redis, Infinispan\";\\n-  опыт использования брокеров сообщений \"Apache Kafka, Pulsar etc.\".\\n\\nПочему именно мы:\\n- трудоустройство, согласно ТК РФ;\\n- место работы в десяти минутах ходьбы от ст.м. Новочеркасская в офисе класса Аплюс;\\n- питание: компенсация обедов, кухни с едой на каждом этаже;\\n- здоровье: ДМС со стоматологией, массажный кабинет в офисе;\\n- спорт: корпоративный спортзал с личным тренером, спортивные секции \"футбол, баскетбол, волейбол\";\\n- развитие: корпоративные тренинги, обучение английскому языку;\\n- работа в отличном коллективе, множество развлекательных мероприятий и возможность влиять на продукт.\\n\\nДополнительные условия для иногородних и иностранных кандидатов: \\n- предоставление места проживания за счет компании в первый месяц работы;\\n- компенсация переезда;\\n- помощь в оформлении документов \"для иностранных граждан\".\\n\\nПишите и присылайте резюме: \\nTelegram: @gala_kr'"
      ]
     },
     "execution_count": 49,
     "metadata": {},
     "output_type": "execute_result"
    }
   ],
   "source": [
    "df.loc[773]['text']"
   ]
  },
  {
   "cell_type": "code",
   "execution_count": 50,
   "id": "49f8fd5c",
   "metadata": {
    "scrolled": false
   },
   "outputs": [
    {
     "data": {
      "text/plain": [
       "'#вакансия #СПб #fulltime #удаленка #BigData #senior\\n\\nВакансия: Senior Big Data Administrator\\nКомпания: Quadсode\\nФормат работы: удаленно до мая, потом можно выйти в офис или продолжить работать удаленно\\nЗарплата \"полностью белая\": 180 000 - 270 000 ₽ на руки \"рассмотрим и выше, зависит от твоих скиллов\"\\n\\nЧем предстоит заниматься:\\n-  участвовать в проработке требований к платформе с бизнесом и продуктовой архитектурой;\\n-  проектировать и реализовывать Lambda архитектуру хранения, обработки и анализа больших данных высоконагруженных FinTech продуктов;\\n-  развивать доступность и бесперебойную работу инфраструктуры и сервисов для достижения высоких SLA;\\n-  модернизировать существующие и развертывать современные open-source решения;\\n-  развиваться в технического лидера по мере роста команды.\\n\\nТы нам подходишь если:\\n-  хорошо знаешь, как создавать высоконагруженные и высокодоступные системы;\\n-  имеешь опыт работы с Hadoop экосистемой \"с чем-то из этого: HDFS / Hbase / Hive / Impala / Spark / Flink\";\\n-  работал с реляционными БД и знаешь что происходит под капотом \"Greenplum / PostgreSQL / MySQL\";\\n-  администрировал OS Linux и понимаешь сетевые протоколы \"TCP/UDP, HTTP, ICMP\";\\n-  знаешь про Docker \"podman\" и работал с ним в проде;\\n-  регулярно принимаешь языки программирования для профессиональных задач \"Python / Scala / Java / Golang\";\\n-  профессионально используешь системы управления конфигурациями \"Ansible / Salt / Chef / Puppet\";\\n-  владеешь английским языком на уровне чтения профессиональной литературы.\\n\\nБудет плюсом:\\n-  опыт работы с NoSQL \"Cassandra, Redis, Infinispan\";\\n-  опыт использования брокеров сообщений \"Apache Kafka, Pulsar etc.\".\\n\\nПочему именно мы:\\n- трудоустройство, согласно ТК РФ;\\n- место работы в десяти минутах ходьбы от ст.м. Новочеркасская в офисе класса Аплюс;\\n- питание: компенсация обедов, кухни с едой на каждом этаже;\\n- здоровье: ДМС со стоматологией, массажный кабинет в офисе;\\n- спорт: корпоративный спортзал с личным тренером, спортивные секции \"футбол, баскетбол, волейбол\";\\n- развитие: корпоративные тренинги, обучение английскому языку;\\n- работа в отличном коллективе, множество развлекательных мероприятий и возможность влиять на продукт.\\n\\nДополнительные условия для иногородних и иностранных кандидатов: \\n- предоставление места проживания за счет компании в первый месяц работы;\\n- компенсация переезда;\\n- помощь в оформлении документов \"для иностранных граждан\".\\n\\nПишите и присылайте резюме: \\nTelegram: @gala_kr'"
      ]
     },
     "execution_count": 50,
     "metadata": {},
     "output_type": "execute_result"
    }
   ],
   "source": [
    "df.loc[1018]['text']"
   ]
  },
  {
   "cell_type": "markdown",
   "id": "e4880642",
   "metadata": {},
   "source": [
    "Дубль."
   ]
  },
  {
   "cell_type": "markdown",
   "id": "d70edf56",
   "metadata": {},
   "source": [
    "**Анализ вакансии с индексом 1082**"
   ]
  },
  {
   "cell_type": "code",
   "execution_count": 51,
   "id": "9e91b7cd",
   "metadata": {},
   "outputs": [
    {
     "data": {
      "text/html": [
       "<div>\n",
       "<style scoped>\n",
       "    .dataframe tbody tr th:only-of-type {\n",
       "        vertical-align: middle;\n",
       "    }\n",
       "\n",
       "    .dataframe tbody tr th {\n",
       "        vertical-align: top;\n",
       "    }\n",
       "\n",
       "    .dataframe thead th {\n",
       "        text-align: right;\n",
       "    }\n",
       "</style>\n",
       "<table border=\"1\" class=\"dataframe\">\n",
       "  <thead>\n",
       "    <tr style=\"text-align: right;\">\n",
       "      <th></th>\n",
       "      <th>chat</th>\n",
       "      <th>message_id</th>\n",
       "      <th>date</th>\n",
       "      <th>text</th>\n",
       "      <th>entities</th>\n",
       "      <th>vac_date</th>\n",
       "    </tr>\n",
       "  </thead>\n",
       "  <tbody>\n",
       "    <tr>\n",
       "      <th>1082</th>\n",
       "      <td>{\\n    \"_\": \"Chat\",\\n    \"id\": -1001269377842,...</td>\n",
       "      <td>589</td>\n",
       "      <td>2021-03-18 16:17:44</td>\n",
       "      <td>#vacancy  #вакансия #кипр #cyprus #fulltime #r...</td>\n",
       "      <td>[\\n    {\\n        \"_\": \"MessageEntity\",\\n     ...</td>\n",
       "      <td>2021-03-18</td>\n",
       "    </tr>\n",
       "    <tr>\n",
       "      <th>1097</th>\n",
       "      <td>{\\n    \"_\": \"Chat\",\\n    \"id\": -1001269377842,...</td>\n",
       "      <td>598</td>\n",
       "      <td>2021-03-23 17:06:35</td>\n",
       "      <td>Data Integration Team Lead\\n\\n#vacancy  #вакан...</td>\n",
       "      <td>[\\n    {\\n        \"_\": \"MessageEntity\",\\n     ...</td>\n",
       "      <td>2021-03-23</td>\n",
       "    </tr>\n",
       "  </tbody>\n",
       "</table>\n",
       "</div>"
      ],
      "text/plain": [
       "                                                   chat  message_id  \\\n",
       "1082  {\\n    \"_\": \"Chat\",\\n    \"id\": -1001269377842,...         589   \n",
       "1097  {\\n    \"_\": \"Chat\",\\n    \"id\": -1001269377842,...         598   \n",
       "\n",
       "                    date                                               text  \\\n",
       "1082 2021-03-18 16:17:44  #vacancy  #вакансия #кипр #cyprus #fulltime #r...   \n",
       "1097 2021-03-23 17:06:35  Data Integration Team Lead\\n\\n#vacancy  #вакан...   \n",
       "\n",
       "                                               entities    vac_date  \n",
       "1082  [\\n    {\\n        \"_\": \"MessageEntity\",\\n     ...  2021-03-18  \n",
       "1097  [\\n    {\\n        \"_\": \"MessageEntity\",\\n     ...  2021-03-23  "
      ]
     },
     "execution_count": 51,
     "metadata": {},
     "output_type": "execute_result"
    }
   ],
   "source": [
    "df[df['text'].str.contains(df.loc[1082]['text'][-130:-1])]"
   ]
  },
  {
   "cell_type": "code",
   "execution_count": 52,
   "id": "4875bdb4",
   "metadata": {
    "scrolled": true
   },
   "outputs": [
    {
     "data": {
      "text/plain": [
       "'#vacancy  #вакансия #кипр #cyprus #fulltime #remote #relocate #релокация #dataengineer\\n\\nData Engineer/ Architect\\n\\nLocation: Cyprus,  Limassol \"Remote or Relocation\"\\nFulltime/ office\\nSalary: 3400-3800 euro net \"negotiable\" плюс 15-25% bonus\\nCompany: RA Clever Recruiting\\n\\nA leading fintech company is looking for a n experienced Data Engineer/ Architect for:\\n1️⃣Team DWH Technology stack: Spark, Kafka, Python, SQL \"strong\", AWS, Vertica, Apache Flink, PostgreSQL\\nand for \\n2️⃣Team Integration Technology stack: Vertica, BigQuery, ClickHouse, PostgreSQL, Java \"is preferable\", Go.\\xa0 Kafka, Kafka Streams, MongoDB, Hadoop, Spark.\\n\\nResponsibilities: \\n-Develop, construct and maintain the architecture for data management \\n-Build the infrastructure required for optimal extraction, transformation, and loading of data from a wide variety of data sources using batch and stream processing\\n-Work with streaming technologies.\\n\\nRequirements:\\n-Database design with massively parallel processing appliances: Vertica, BigQuery, ClickHouse, PostgreSQL and similar\\n-Expert  SQL knowledge\\n-Build ETLs/ELTs to take data from various streams\\n-Python skills associated with ETL and data processing or Java/GO\\n-English – intermediate level\\n \\nWe offer : Relocation or Remote benefits\\n-Medical insurance for employees and family members\\n-Relocation package \"visa, tickets, corporate flat for 1 month\"\\n-Сompany\\'s fitness center for employees and their spouses\\n-Kindergarten/school compensation program\\n\\nContacts: \\n@Marina_Pelikh   m.chetverikova@clever-recruiting.com'"
      ]
     },
     "execution_count": 52,
     "metadata": {},
     "output_type": "execute_result"
    }
   ],
   "source": [
    "df.loc[1082]['text']"
   ]
  },
  {
   "cell_type": "code",
   "execution_count": 53,
   "id": "62fb601d",
   "metadata": {
    "scrolled": false
   },
   "outputs": [
    {
     "data": {
      "text/plain": [
       "'Data Integration Team Lead\\n\\n#vacancy  #вакансия #кипр #cyprus #fulltime #relocate #релокация #data #teamlead\\n\\nLocation: Cyprus,  Limassol \\nFulltime/ office\\nSalary: 50 000- 80 000  euro net \"negotiable\" \\nCompany: RA Clever Recruiting\\n\\nAt the moment I am looking for a Data Integration Team Lead for a large international fin-tech company, Located in Cyprus, Limassol.\\n\\nTechnology stack: Vertica, BigQuery, ClickHouse, PostgreSQL, Java \"is preferable\", Go.\\xa0 Kafka, Kafka Streams, MongoDB, Hadoop, Spark.\\n\\n\\xa0Responsibility:\\n- Construct the architecture for data integration solutions\\n- Develop new data solutions \"ETLs, pipelines, integration services, batch and stream processing  etc.\";\\n- Maintain current data solutions while building a new data platform.\\n- Build the infrastructure required for optimal data storing, data processing and data provisioning to customers \\n- Lead team members, train and integrate new team member\\n\\nTechnical skills:\\n- Database design with massively parallel processing appliances: Vertica, BigQuery, ClickHouse, PostgreSQL and similar;\\n- Good knowledge of structured query language \"SQL\"\\xa0\\xa0and query optimization;\\n- Expert skills in at least one backend programming language: Java \"is preferable\", Go;\\xa0\\n- Experience with streaming technologies such as Kafka, Kafka Streams and data platform technologies such as ClickHouse, MongoDB, Hadoop, Spark;\\n- Spoken and written English – intermediate level\\n\\nWe offer : \\n-Medical insurance for employees and family members\\n-Relocation package \"visa, tickets, corporate flat for 1 month\"\\n-Сompany\\'s fitness center for employees and their spouses\\n-Kindergarten/school compensation program\\n\\nContacts: \\n@Marina_Pelikh   m.chetverikova@clever-recruiting.com'"
      ]
     },
     "execution_count": 53,
     "metadata": {},
     "output_type": "execute_result"
    }
   ],
   "source": [
    "df.loc[1097]['text']"
   ]
  },
  {
   "cell_type": "markdown",
   "id": "eeb7aa96",
   "metadata": {},
   "source": [
    "Не дубль."
   ]
  },
  {
   "cell_type": "markdown",
   "id": "2686ecdc",
   "metadata": {},
   "source": [
    "**Анализ вакансии с индексом 1464**"
   ]
  },
  {
   "cell_type": "code",
   "execution_count": 54,
   "id": "cff9399c",
   "metadata": {
    "scrolled": true
   },
   "outputs": [
    {
     "data": {
      "text/html": [
       "<div>\n",
       "<style scoped>\n",
       "    .dataframe tbody tr th:only-of-type {\n",
       "        vertical-align: middle;\n",
       "    }\n",
       "\n",
       "    .dataframe tbody tr th {\n",
       "        vertical-align: top;\n",
       "    }\n",
       "\n",
       "    .dataframe thead th {\n",
       "        text-align: right;\n",
       "    }\n",
       "</style>\n",
       "<table border=\"1\" class=\"dataframe\">\n",
       "  <thead>\n",
       "    <tr style=\"text-align: right;\">\n",
       "      <th></th>\n",
       "      <th>chat</th>\n",
       "      <th>message_id</th>\n",
       "      <th>date</th>\n",
       "      <th>text</th>\n",
       "      <th>entities</th>\n",
       "      <th>vac_date</th>\n",
       "    </tr>\n",
       "  </thead>\n",
       "  <tbody>\n",
       "    <tr>\n",
       "      <th>1464</th>\n",
       "      <td>{\\n    \"_\": \"Chat\",\\n    \"id\": -1001269377842,...</td>\n",
       "      <td>803</td>\n",
       "      <td>2021-07-13 19:38:10</td>\n",
       "      <td>#вакансия #mtsbigdata #офис #смежныйграфик #fu...</td>\n",
       "      <td>[\\n    {\\n        \"_\": \"MessageEntity\",\\n     ...</td>\n",
       "      <td>2021-07-13</td>\n",
       "    </tr>\n",
       "    <tr>\n",
       "      <th>1478</th>\n",
       "      <td>{\\n    \"_\": \"Chat\",\\n    \"id\": -1001269377842,...</td>\n",
       "      <td>809</td>\n",
       "      <td>2021-07-19 19:48:54</td>\n",
       "      <td>#вакансия #mtsbigdata #офис #смежныйграфик #fu...</td>\n",
       "      <td>[\\n    {\\n        \"_\": \"MessageEntity\",\\n     ...</td>\n",
       "      <td>2021-07-19</td>\n",
       "    </tr>\n",
       "    <tr>\n",
       "      <th>1513</th>\n",
       "      <td>{\\n    \"_\": \"Chat\",\\n    \"id\": -1001269377842,...</td>\n",
       "      <td>834</td>\n",
       "      <td>2021-07-30 18:07:29</td>\n",
       "      <td>#вакансия #mtsbigdata #удаленкаофис  #fulltime...</td>\n",
       "      <td>[\\n    {\\n        \"_\": \"MessageEntity\",\\n     ...</td>\n",
       "      <td>2021-07-30</td>\n",
       "    </tr>\n",
       "    <tr>\n",
       "      <th>1537</th>\n",
       "      <td>{\\n    \"_\": \"Chat\",\\n    \"id\": -1001269377842,...</td>\n",
       "      <td>846</td>\n",
       "      <td>2021-08-05 19:19:07</td>\n",
       "      <td>#вакансия #mtsbigdata #удаленкаофис  #fulltime...</td>\n",
       "      <td>[\\n    {\\n        \"_\": \"MessageEntity\",\\n     ...</td>\n",
       "      <td>2021-08-05</td>\n",
       "    </tr>\n",
       "  </tbody>\n",
       "</table>\n",
       "</div>"
      ],
      "text/plain": [
       "                                                   chat  message_id  \\\n",
       "1464  {\\n    \"_\": \"Chat\",\\n    \"id\": -1001269377842,...         803   \n",
       "1478  {\\n    \"_\": \"Chat\",\\n    \"id\": -1001269377842,...         809   \n",
       "1513  {\\n    \"_\": \"Chat\",\\n    \"id\": -1001269377842,...         834   \n",
       "1537  {\\n    \"_\": \"Chat\",\\n    \"id\": -1001269377842,...         846   \n",
       "\n",
       "                    date                                               text  \\\n",
       "1464 2021-07-13 19:38:10  #вакансия #mtsbigdata #офис #смежныйграфик #fu...   \n",
       "1478 2021-07-19 19:48:54  #вакансия #mtsbigdata #офис #смежныйграфик #fu...   \n",
       "1513 2021-07-30 18:07:29  #вакансия #mtsbigdata #удаленкаофис  #fulltime...   \n",
       "1537 2021-08-05 19:19:07  #вакансия #mtsbigdata #удаленкаофис  #fulltime...   \n",
       "\n",
       "                                               entities    vac_date  \n",
       "1464  [\\n    {\\n        \"_\": \"MessageEntity\",\\n     ...  2021-07-13  \n",
       "1478  [\\n    {\\n        \"_\": \"MessageEntity\",\\n     ...  2021-07-19  \n",
       "1513  [\\n    {\\n        \"_\": \"MessageEntity\",\\n     ...  2021-07-30  \n",
       "1537  [\\n    {\\n        \"_\": \"MessageEntity\",\\n     ...  2021-08-05  "
      ]
     },
     "execution_count": 54,
     "metadata": {},
     "output_type": "execute_result"
    }
   ],
   "source": [
    "df[df['text'].str.contains(df.loc[1464]['text'][-130:-1])]"
   ]
  },
  {
   "cell_type": "code",
   "execution_count": 55,
   "id": "623aaab9",
   "metadata": {
    "scrolled": true
   },
   "outputs": [
    {
     "data": {
      "text/plain": [
       "'#вакансия #mtsbigdata #офис #смежныйграфик #fulltimejob #dataengineer #класснаякоманда \\n🔆Компания МТС подразделение Big data растет и ищет Data engineers\\n👩\\u200d💻Ищу Data engineers на следующие проекты:\\n🔹️B2C привлечение внешних партнеров\\n🔹️Smart rollout создает инструменты поддержки математических моделей\\n\\n🔸️Формат работы: смежный\\n🔸️Место: Москва, м.Технопарк, 4-5 пешком\\n🔸️Занятость: Full -Time\\n🔸️Уровень: middle\\n🔸️Зарплатная вилка: 200 000 - 230 000 rub\\n🔸️Контакты: @snezhanamts\\n\\n🔹️Требования:\\n🔹️Python от 2 лет\\n🔹️SQL\\n🔹️Postgres\\n🔹️Hadoop/Hive/Spark\\n\\n🔸️От нас:\\n🔆Получение практики работы с Big data \\n💻Опыт работы с обширным стеком технологий\\n📈Влияние на развитие продукта\\n💰Есть как вертикальный карьерный рост так и горизонтальный'"
      ]
     },
     "execution_count": 55,
     "metadata": {},
     "output_type": "execute_result"
    }
   ],
   "source": [
    "df.loc[1464]['text']"
   ]
  },
  {
   "cell_type": "code",
   "execution_count": 56,
   "id": "d60c2e6e",
   "metadata": {
    "scrolled": true
   },
   "outputs": [
    {
     "data": {
      "text/plain": [
       "'#вакансия #mtsbigdata #офис #смежныйграфик #fulltimejob #dataengineer #класснаякоманда\\n\\n🔆Компания МТС подразделение Big data растет и ищет Data engineers на следующие проекты:\\n🔹B2B прогноз оттока и притока абонентов\\n🔹B2C привлечение внешних партнеров\\n🔹Smart rollout создает инструменты поддержки математических моделей\\n\\n🔸Гибкий график: удаленка / офис\\n🔸Место: Москва, м.Технопарк, 4-5 пешком\\n🔸Занятость: Full -Time\\n🔸Уровень: middle\\n🔸Зарплатная вилка: 200 000 - 230 000 rub\\n🔸Контакты: @snezhanamts\\n\\n🔹Требования:\\n🔹Python от 2 лет\\n🔹SQL\\n🔹Postgres\\n🔹Hadoop/Hive/Spark\\n\\n🔸От нас:\\n🔆Получение практики работы с Big data \\n💻Опыт работы с обширным стеком технологий\\n📈Влияние на развитие продукта\\n💰Есть как вертикальный карьерный рост так и горизонтальный'"
      ]
     },
     "execution_count": 56,
     "metadata": {},
     "output_type": "execute_result"
    }
   ],
   "source": [
    "df.loc[1478]['text']"
   ]
  },
  {
   "cell_type": "code",
   "execution_count": 57,
   "id": "76c53a11",
   "metadata": {
    "scrolled": true
   },
   "outputs": [
    {
     "data": {
      "text/plain": [
       "'#вакансия #mtsbigdata #удаленкаофис\\xa0 #fulltimejob #dataengineer #класснаякоманда \\n🔆Компания МТС подразделение Big data растет и ищет Data engineers\\n👩\\u200d💻Ищу Data engineers на следующие продукты: \\n\\n1\" B2C\\xa0 привлечение внешних партнеров😎\\n\\n2\" Smart rollout создает инструменты поддержки математических моделей🦾\\n\\n3\" Выполняет лидогенерацию, аналитику, рекомендации контента внутри digital приложения экосистемы МТС☘ \\n\\n🔸️Формат работы: удаленка плюс офис\\n🔸️Место: Москва, м.Технопарк, 4-5 пешком\\n🔸️Занятость: Full -Time\\n🔸️Уровень: middle\\n🔸️Зарплатная вилка: 200 000 - 230 000 rub\\n🔸️Контакты: @snezhanamts \\n\\n🔹️Требования:\\n🔹️Python от 2 лет\\n🔹️SQL\\n🔹️Postgres\\n🔹️Hadoop/Hive/Spark \\n\\n🔸️От нас:\\n🔆Получение практики работы с Big data \\n💻Опыт работы с обширным стеком технологий\\n📈Влияние на развитие продукта\\n💰Есть как вертикальный карьерный рост так и горизонтальный'"
      ]
     },
     "execution_count": 57,
     "metadata": {},
     "output_type": "execute_result"
    }
   ],
   "source": [
    "df.loc[1513]['text']"
   ]
  },
  {
   "cell_type": "code",
   "execution_count": 58,
   "id": "092f6619",
   "metadata": {
    "scrolled": true
   },
   "outputs": [
    {
     "data": {
      "text/plain": [
       "'#вакансия #mtsbigdata #удаленкаофис\\xa0 #fulltimejob #dataengineer #класснаякоманда \\n🔆Компания МТС подразделение Big data \\n👩\\u200d💻Ищу Data engineers на следующие проекты: \\n\\n1\" B2C\\xa0 привлечение внешних партнеров😎\\n2\" Smart rollout создает инструменты поддержки математических моделей🦾\\n3\" Выполняет лидогенерацию, аналитику, рекомендации контента внутри digital приложения экосистемы МТС☘ \\n\\n🔸️Формат работы: удаленка плюс офис\\n🔸️Место: Москва, м.Технопарк, 4-5 пешком\\n🔸️Занятость: Full -Time\\n🔸️Уровень: middle\\n🔸️Зарплатная вилка: 200 000 - 230 000 rub\\n🔸️Контакты: @snezhanamts \\n\\n🔹️Требования:\\n🔹️Python от 2 лет\\n🔹️SQL\\n🔹️Postgres\\n🔹️Hadoop/Hive/Spark \\n\\n🔸️От нас:\\n🔆Получение практики работы с Big data \\n💻Опыт работы с обширным стеком технологий\\n📈Влияние на развитие продукта\\n💰Есть как вертикальный карьерный рост так и горизонтальный'"
      ]
     },
     "execution_count": 58,
     "metadata": {},
     "output_type": "execute_result"
    }
   ],
   "source": [
    "df.loc[1537]['text']"
   ]
  },
  {
   "cell_type": "markdown",
   "id": "c0f6d7a5",
   "metadata": {},
   "source": [
    "Дубль."
   ]
  },
  {
   "cell_type": "markdown",
   "id": "460b34da",
   "metadata": {},
   "source": [
    "**Анализ вакансии с индексом 1795**"
   ]
  },
  {
   "cell_type": "code",
   "execution_count": 59,
   "id": "ee0aa46b",
   "metadata": {
    "scrolled": false
   },
   "outputs": [
    {
     "data": {
      "text/html": [
       "<div>\n",
       "<style scoped>\n",
       "    .dataframe tbody tr th:only-of-type {\n",
       "        vertical-align: middle;\n",
       "    }\n",
       "\n",
       "    .dataframe tbody tr th {\n",
       "        vertical-align: top;\n",
       "    }\n",
       "\n",
       "    .dataframe thead th {\n",
       "        text-align: right;\n",
       "    }\n",
       "</style>\n",
       "<table border=\"1\" class=\"dataframe\">\n",
       "  <thead>\n",
       "    <tr style=\"text-align: right;\">\n",
       "      <th></th>\n",
       "      <th>chat</th>\n",
       "      <th>message_id</th>\n",
       "      <th>date</th>\n",
       "      <th>text</th>\n",
       "      <th>entities</th>\n",
       "      <th>vac_date</th>\n",
       "    </tr>\n",
       "  </thead>\n",
       "  <tbody>\n",
       "    <tr>\n",
       "      <th>1795</th>\n",
       "      <td>{\\n    \"_\": \"Chat\",\\n    \"id\": -1001269377842,...</td>\n",
       "      <td>1010</td>\n",
       "      <td>2021-10-26 19:16:26</td>\n",
       "      <td>#вакансия #удаленка #частичная\\n\\nПривет!🙋🏻‍♀️...</td>\n",
       "      <td>[\\n    {\\n        \"_\": \"MessageEntity\",\\n     ...</td>\n",
       "      <td>2021-10-26</td>\n",
       "    </tr>\n",
       "    <tr>\n",
       "      <th>2090</th>\n",
       "      <td>{\\n    \"_\": \"Chat\",\\n    \"id\": -1001269377842,...</td>\n",
       "      <td>1208</td>\n",
       "      <td>2022-01-14 19:19:29</td>\n",
       "      <td>#вакансия #удаленка #частичная\\n\\nПривет!🙋🏻‍♀️...</td>\n",
       "      <td>[\\n    {\\n        \"_\": \"MessageEntity\",\\n     ...</td>\n",
       "      <td>2022-01-14</td>\n",
       "    </tr>\n",
       "    <tr>\n",
       "      <th>2108</th>\n",
       "      <td>{\\n    \"_\": \"Chat\",\\n    \"id\": -1001269377842,...</td>\n",
       "      <td>1214</td>\n",
       "      <td>2022-01-18 20:01:25</td>\n",
       "      <td>#вакансия #удаленка #частичная #подработка\\n\\n...</td>\n",
       "      <td>[\\n    {\\n        \"_\": \"MessageEntity\",\\n     ...</td>\n",
       "      <td>2022-01-18</td>\n",
       "    </tr>\n",
       "    <tr>\n",
       "      <th>2419</th>\n",
       "      <td>{\\n    \"_\": \"Chat\",\\n    \"id\": -1001269377842,...</td>\n",
       "      <td>1315</td>\n",
       "      <td>2022-02-28 19:17:37</td>\n",
       "      <td>#вакансия #удаленка #частичная #подработка\\n\\n...</td>\n",
       "      <td>[\\n    {\\n        \"_\": \"MessageEntity\",\\n     ...</td>\n",
       "      <td>2022-02-28</td>\n",
       "    </tr>\n",
       "    <tr>\n",
       "      <th>2513</th>\n",
       "      <td>{\\n    \"_\": \"Chat\",\\n    \"id\": -1001269377842,...</td>\n",
       "      <td>1347</td>\n",
       "      <td>2022-03-14 21:39:37</td>\n",
       "      <td>#вакансия #удаленка #частичная\\n\\nПривет!🙋🏻‍♀️...</td>\n",
       "      <td>[\\n    {\\n        \"_\": \"MessageEntity\",\\n     ...</td>\n",
       "      <td>2022-03-14</td>\n",
       "    </tr>\n",
       "    <tr>\n",
       "      <th>2965</th>\n",
       "      <td>{\\n    \"_\": \"Chat\",\\n    \"id\": -1001269377842,...</td>\n",
       "      <td>1480</td>\n",
       "      <td>2022-06-02 20:14:39</td>\n",
       "      <td>Привет!🙋🏻‍♀️\\n📍Нетология ищет эксперта на пров...</td>\n",
       "      <td>[\\n    {\\n        \"_\": \"MessageEntity\",\\n     ...</td>\n",
       "      <td>2022-06-02</td>\n",
       "    </tr>\n",
       "  </tbody>\n",
       "</table>\n",
       "</div>"
      ],
      "text/plain": [
       "                                                   chat  message_id  \\\n",
       "1795  {\\n    \"_\": \"Chat\",\\n    \"id\": -1001269377842,...        1010   \n",
       "2090  {\\n    \"_\": \"Chat\",\\n    \"id\": -1001269377842,...        1208   \n",
       "2108  {\\n    \"_\": \"Chat\",\\n    \"id\": -1001269377842,...        1214   \n",
       "2419  {\\n    \"_\": \"Chat\",\\n    \"id\": -1001269377842,...        1315   \n",
       "2513  {\\n    \"_\": \"Chat\",\\n    \"id\": -1001269377842,...        1347   \n",
       "2965  {\\n    \"_\": \"Chat\",\\n    \"id\": -1001269377842,...        1480   \n",
       "\n",
       "                    date                                               text  \\\n",
       "1795 2021-10-26 19:16:26  #вакансия #удаленка #частичная\\n\\nПривет!🙋🏻‍♀️...   \n",
       "2090 2022-01-14 19:19:29  #вакансия #удаленка #частичная\\n\\nПривет!🙋🏻‍♀️...   \n",
       "2108 2022-01-18 20:01:25  #вакансия #удаленка #частичная #подработка\\n\\n...   \n",
       "2419 2022-02-28 19:17:37  #вакансия #удаленка #частичная #подработка\\n\\n...   \n",
       "2513 2022-03-14 21:39:37  #вакансия #удаленка #частичная\\n\\nПривет!🙋🏻‍♀️...   \n",
       "2965 2022-06-02 20:14:39  Привет!🙋🏻‍♀️\\n📍Нетология ищет эксперта на пров...   \n",
       "\n",
       "                                               entities    vac_date  \n",
       "1795  [\\n    {\\n        \"_\": \"MessageEntity\",\\n     ...  2021-10-26  \n",
       "2090  [\\n    {\\n        \"_\": \"MessageEntity\",\\n     ...  2022-01-14  \n",
       "2108  [\\n    {\\n        \"_\": \"MessageEntity\",\\n     ...  2022-01-18  \n",
       "2419  [\\n    {\\n        \"_\": \"MessageEntity\",\\n     ...  2022-02-28  \n",
       "2513  [\\n    {\\n        \"_\": \"MessageEntity\",\\n     ...  2022-03-14  \n",
       "2965  [\\n    {\\n        \"_\": \"MessageEntity\",\\n     ...  2022-06-02  "
      ]
     },
     "execution_count": 59,
     "metadata": {},
     "output_type": "execute_result"
    }
   ],
   "source": [
    "df[df['text'].str.contains(df.loc[1795]['text'][-130:-1])]"
   ]
  },
  {
   "cell_type": "code",
   "execution_count": 60,
   "id": "e9965dfb",
   "metadata": {
    "scrolled": true
   },
   "outputs": [
    {
     "data": {
      "text/plain": [
       "'#вакансия #удаленка #частичная\\n\\nПривет!🙋🏻\\u200d♀️\\n📍Нетология ищет эксперта на проверку практических заданий на курсе \"Дата-инженер с нуля до middle\"\\n\\n🎓Темы заданий:\\n1. DWH\\n2. Spark Streaming\\n3. Kafka\\n\\n🕰Важно: наличие свободного времени и желание помогать другим\\n\\n📍Какие есть возможности:\\n▪️Поделиться знаниями и опытом с новичками в дата инжиниринге \\n▪️Работать на part-time удаленно, совмещая преподавание с основной работой \\n▪️Гибкая система заработка, зависящая от объема занятости\\n▪️Стать частью экспертного комьюнити одной из лучших образовательных компаний\\n▪️Возможность бесплатно обучаться на курсах Нетологии через полгода сотрудничества\\n\\n📩За подробностями пишите в телеграмм @heathcliff7 или на почту a.ktsoeva@netology.ru'"
      ]
     },
     "execution_count": 60,
     "metadata": {},
     "output_type": "execute_result"
    }
   ],
   "source": [
    "df.loc[1795]['text']"
   ]
  },
  {
   "cell_type": "code",
   "execution_count": 61,
   "id": "0b7ec140",
   "metadata": {
    "scrolled": true
   },
   "outputs": [
    {
     "data": {
      "text/plain": [
       "'#вакансия #удаленка #частичная\\n\\nПривет!🙋🏻\\u200d♀️\\n📍Нетология ищет эксперта на проверку практических заданий на курсе \"Машинное обучение\"\\n\\n🎓Ищем эксперта для проверки практических заданий на все блоки курса, особенно на блок по NLP и рекомендательным системам. \\n\\n🕰Важно: наличие свободного времени и желание помогать другим\\n\\n📍Какие есть возможности:\\n▪️Поделиться знаниями и опытом с новичками в машинном обучении\\n▪️Кроме проверки практических заданий можно вести лекции, менторить дипломников или участвовать в обновлении контента курса\\n▪️Работать на part-time удаленно, совмещая преподавание с основной работой \\n▪️Гибкая система заработка, зависящая от объема занятости\\n▪️Стать частью экспертного комьюнити одной из лучших образовательных компаний\\n▪️Возможность бесплатно обучаться на курсах Нетологии через полгода сотрудничества\\n\\n📩За подробностями пишите в телеграмм @heathcliff7 или на почту a.ktsoeva@netology.ru'"
      ]
     },
     "execution_count": 61,
     "metadata": {},
     "output_type": "execute_result"
    }
   ],
   "source": [
    "df.loc[2090]['text']"
   ]
  },
  {
   "cell_type": "code",
   "execution_count": 62,
   "id": "5b3d5974",
   "metadata": {
    "scrolled": true
   },
   "outputs": [
    {
     "data": {
      "text/plain": [
       "'#вакансия #удаленка #частичная #подработка\\n\\nПривет!🙋🏻\\u200d♀️\\n📍Нетология ищет эксперта на проведение вебинаров, запись видеолекций и разработку практических материалов на курсе \"Дата-инженер с нуля до middle\"\\n\\n🎓Стек: GCP, Яндекс.Облако,AWS\\n\\n🕰Важно: наличие свободного времени и желание помогать другим\\n\\n📍Какие есть возможности:\\n▪️Поделиться знаниями и опытом с новичками в дата инжиниринге \\n▪️Работать на part-time удаленно, совмещая преподавание с основной работой \\n▪️Гибкая система заработка, зависящая от объема занятости\\n▪️Стать частью экспертного комьюнити одной из лучших образовательных компаний\\n▪️Возможность бесплатно обучаться на курсах Нетологии через полгода сотрудничества\\n\\n📩За подробностями пишите в телеграмм @heathcliff7 или на почту a.ktsoeva@netology.ru'"
      ]
     },
     "execution_count": 62,
     "metadata": {},
     "output_type": "execute_result"
    }
   ],
   "source": [
    "df.loc[2108]['text']"
   ]
  },
  {
   "cell_type": "code",
   "execution_count": 63,
   "id": "d8068c9a",
   "metadata": {
    "scrolled": true
   },
   "outputs": [
    {
     "data": {
      "text/plain": [
       "'#вакансия #удаленка #частичная #подработка\\n\\nПривет!🙋🏻\\u200d♀️\\n📍Нетология ищет эксперта на проверку домашних заданий на курсе \"Дата-инженер с нуля до middle\"\\n\\n🎓Стек: GCP, Яндекс.Облако,AWS\\n\\n🕰Важно: наличие свободного времени и желание помогать другим\\n\\n📍Какие есть возможности:\\n▪️Поделиться знаниями и опытом с новичками в дата инжиниринге \\n▪️Работать на part-time удаленно, совмещая преподавание с основной работой \\n▪️Гибкая система заработка, зависящая от объема занятости\\n▪️Стать частью экспертного комьюнити одной из лучших образовательных компаний\\n▪️Возможность бесплатно обучаться на курсах Нетологии через полгода сотрудничества\\n\\n📩За подробностями пишите в телеграмм @heathcliff7 или на почту a.ktsoeva@netology.ru'"
      ]
     },
     "execution_count": 63,
     "metadata": {},
     "output_type": "execute_result"
    }
   ],
   "source": [
    "df.loc[2419]['text']"
   ]
  },
  {
   "cell_type": "code",
   "execution_count": 64,
   "id": "ab5269b9",
   "metadata": {
    "scrolled": true
   },
   "outputs": [
    {
     "data": {
      "text/plain": [
       "'#вакансия #удаленка #частичная\\n\\nПривет!🙋🏻\\u200d♀️\\n📍Нетология ищет эксперта на проверку практических заданий на курсе \"Deep Learning\"\\n\\n🎓Ищем эксперта для проверки практических заданий на все блоки курса. \\n\\n🕰Важно: наличие свободного времени и желание помогать другим\\n\\n📍Какие есть возможности:\\n▪️Поделиться знаниями и опытом с новичками в машинном обучении\\n▪️Кроме проверки практических заданий можно вести лекции, менторить дипломников или участвовать в обновлении контента курса\\n▪️Работать на part-time удаленно, совмещая преподавание с основной работой \\n▪️Гибкая система заработка, зависящая от объема занятости\\n▪️Стать частью экспертного комьюнити одной из лучших образовательных компаний\\n▪️Возможность бесплатно обучаться на курсах Нетологии через полгода сотрудничества\\n\\n📩За подробностями пишите в телеграмм @heathcliff7 или на почту a.ktsoeva@netology.ru'"
      ]
     },
     "execution_count": 64,
     "metadata": {},
     "output_type": "execute_result"
    }
   ],
   "source": [
    "df.loc[2513]['text']"
   ]
  },
  {
   "cell_type": "code",
   "execution_count": 65,
   "id": "0d102022",
   "metadata": {
    "scrolled": true
   },
   "outputs": [
    {
     "data": {
      "text/plain": [
       "'Привет!🙋🏻\\u200d♀️\\n📍Нетология ищет эксперта на проведение занятий и проверку домашних заданий на курсе \"Дата-инженер с нуля до middle\"\\n\\n🎓Стек: Yandex.Cloud, YC Object Storage, YC ClickHouse\\n\\n🕰Важно: наличие свободного времени и желание помогать другим\\n\\n📍Какие есть возможности:\\n▪️Поделиться знаниями и опытом с новичками в дата инжиниринге \\n▪️Работать на part-time удаленно, совмещая преподавание с основной работой \\n▪️Гибкая система заработка, зависящая от объема занятости\\n▪️Стать частью экспертного комьюнити одной из лучших образовательных компаний\\n▪️Возможность бесплатно обучаться на курсах Нетологии через полгода сотрудничества\\n\\n📩За подробностями пишите в телеграмм @heathcliff7 или на почту a.ktsoeva@netology.ru'"
      ]
     },
     "execution_count": 65,
     "metadata": {},
     "output_type": "execute_result"
    }
   ],
   "source": [
    "df.loc[2965]['text']"
   ]
  },
  {
   "cell_type": "markdown",
   "id": "20385b05",
   "metadata": {},
   "source": [
    "Вакансии 1795, 2108 и 2419 являются дубликатами."
   ]
  },
  {
   "cell_type": "markdown",
   "id": "6fdfeac5",
   "metadata": {},
   "source": [
    "**Анализ вакансии с индексом 1893**"
   ]
  },
  {
   "cell_type": "code",
   "execution_count": 66,
   "id": "3d66bc59",
   "metadata": {
    "scrolled": false
   },
   "outputs": [
    {
     "data": {
      "text/html": [
       "<div>\n",
       "<style scoped>\n",
       "    .dataframe tbody tr th:only-of-type {\n",
       "        vertical-align: middle;\n",
       "    }\n",
       "\n",
       "    .dataframe tbody tr th {\n",
       "        vertical-align: top;\n",
       "    }\n",
       "\n",
       "    .dataframe thead th {\n",
       "        text-align: right;\n",
       "    }\n",
       "</style>\n",
       "<table border=\"1\" class=\"dataframe\">\n",
       "  <thead>\n",
       "    <tr style=\"text-align: right;\">\n",
       "      <th></th>\n",
       "      <th>chat</th>\n",
       "      <th>message_id</th>\n",
       "      <th>date</th>\n",
       "      <th>text</th>\n",
       "      <th>entities</th>\n",
       "      <th>vac_date</th>\n",
       "    </tr>\n",
       "  </thead>\n",
       "  <tbody>\n",
       "    <tr>\n",
       "      <th>1893</th>\n",
       "      <td>{\\n    \"_\": \"Chat\",\\n    \"id\": -1001269328727,...</td>\n",
       "      <td>157</td>\n",
       "      <td>2021-11-18 23:00:58</td>\n",
       "      <td>#Москва #вакансия #fulltime #office #гибрид #у...</td>\n",
       "      <td>[\\n    {\\n        \"_\": \"MessageEntity\",\\n     ...</td>\n",
       "      <td>2021-11-18</td>\n",
       "    </tr>\n",
       "    <tr>\n",
       "      <th>1895</th>\n",
       "      <td>{\\n    \"_\": \"Chat\",\\n    \"id\": -1001269328727,...</td>\n",
       "      <td>158</td>\n",
       "      <td>2021-11-19 15:01:46</td>\n",
       "      <td>Архитектор данных/архитектор DWH\\n\\n#Москва #в...</td>\n",
       "      <td>[\\n    {\\n        \"_\": \"MessageEntity\",\\n     ...</td>\n",
       "      <td>2021-11-19</td>\n",
       "    </tr>\n",
       "    <tr>\n",
       "      <th>1898</th>\n",
       "      <td>{\\n    \"_\": \"Chat\",\\n    \"id\": -1001269328727,...</td>\n",
       "      <td>160</td>\n",
       "      <td>2021-11-20 15:01:30</td>\n",
       "      <td>Специалист по управлению данными\\n\\n#Москва #в...</td>\n",
       "      <td>[\\n    {\\n        \"_\": \"MessageEntity\",\\n     ...</td>\n",
       "      <td>2021-11-20</td>\n",
       "    </tr>\n",
       "    <tr>\n",
       "      <th>1905</th>\n",
       "      <td>{\\n    \"_\": \"Chat\",\\n    \"id\": -1001269328727,...</td>\n",
       "      <td>161</td>\n",
       "      <td>2021-11-21 15:00:54</td>\n",
       "      <td>Разработчик ETL/ELT \"SQL, python, dbt\"\\n\\n#Мос...</td>\n",
       "      <td>[\\n    {\\n        \"_\": \"MessageEntity\",\\n     ...</td>\n",
       "      <td>2021-11-21</td>\n",
       "    </tr>\n",
       "    <tr>\n",
       "      <th>1909</th>\n",
       "      <td>{\\n    \"_\": \"Chat\",\\n    \"id\": -1001269328727,...</td>\n",
       "      <td>162</td>\n",
       "      <td>2021-11-22 15:01:44</td>\n",
       "      <td>Разработчик отчетов и кубов SSAS Tabular, SSRS...</td>\n",
       "      <td>[\\n    {\\n        \"_\": \"MessageEntity\",\\n     ...</td>\n",
       "      <td>2021-11-22</td>\n",
       "    </tr>\n",
       "    <tr>\n",
       "      <th>1912</th>\n",
       "      <td>{\\n    \"_\": \"Chat\",\\n    \"id\": -1001269328727,...</td>\n",
       "      <td>163</td>\n",
       "      <td>2021-11-23 15:00:56</td>\n",
       "      <td>Системный аналитик по системам источникам для ...</td>\n",
       "      <td>[\\n    {\\n        \"_\": \"MessageEntity\",\\n     ...</td>\n",
       "      <td>2021-11-23</td>\n",
       "    </tr>\n",
       "    <tr>\n",
       "      <th>1917</th>\n",
       "      <td>{\\n    \"_\": \"Chat\",\\n    \"id\": -1001269328727,...</td>\n",
       "      <td>164</td>\n",
       "      <td>2021-11-24 15:02:00</td>\n",
       "      <td>Data Engineer\\n\\n#Москва #вакансия #fulltime #...</td>\n",
       "      <td>[\\n    {\\n        \"_\": \"MessageEntity\",\\n     ...</td>\n",
       "      <td>2021-11-24</td>\n",
       "    </tr>\n",
       "  </tbody>\n",
       "</table>\n",
       "</div>"
      ],
      "text/plain": [
       "                                                   chat  message_id  \\\n",
       "1893  {\\n    \"_\": \"Chat\",\\n    \"id\": -1001269328727,...         157   \n",
       "1895  {\\n    \"_\": \"Chat\",\\n    \"id\": -1001269328727,...         158   \n",
       "1898  {\\n    \"_\": \"Chat\",\\n    \"id\": -1001269328727,...         160   \n",
       "1905  {\\n    \"_\": \"Chat\",\\n    \"id\": -1001269328727,...         161   \n",
       "1909  {\\n    \"_\": \"Chat\",\\n    \"id\": -1001269328727,...         162   \n",
       "1912  {\\n    \"_\": \"Chat\",\\n    \"id\": -1001269328727,...         163   \n",
       "1917  {\\n    \"_\": \"Chat\",\\n    \"id\": -1001269328727,...         164   \n",
       "\n",
       "                    date                                               text  \\\n",
       "1893 2021-11-18 23:00:58  #Москва #вакансия #fulltime #office #гибрид #у...   \n",
       "1895 2021-11-19 15:01:46  Архитектор данных/архитектор DWH\\n\\n#Москва #в...   \n",
       "1898 2021-11-20 15:01:30  Специалист по управлению данными\\n\\n#Москва #в...   \n",
       "1905 2021-11-21 15:00:54  Разработчик ETL/ELT \"SQL, python, dbt\"\\n\\n#Мос...   \n",
       "1909 2021-11-22 15:01:44  Разработчик отчетов и кубов SSAS Tabular, SSRS...   \n",
       "1912 2021-11-23 15:00:56  Системный аналитик по системам источникам для ...   \n",
       "1917 2021-11-24 15:02:00  Data Engineer\\n\\n#Москва #вакансия #fulltime #...   \n",
       "\n",
       "                                               entities    vac_date  \n",
       "1893  [\\n    {\\n        \"_\": \"MessageEntity\",\\n     ...  2021-11-18  \n",
       "1895  [\\n    {\\n        \"_\": \"MessageEntity\",\\n     ...  2021-11-19  \n",
       "1898  [\\n    {\\n        \"_\": \"MessageEntity\",\\n     ...  2021-11-20  \n",
       "1905  [\\n    {\\n        \"_\": \"MessageEntity\",\\n     ...  2021-11-21  \n",
       "1909  [\\n    {\\n        \"_\": \"MessageEntity\",\\n     ...  2021-11-22  \n",
       "1912  [\\n    {\\n        \"_\": \"MessageEntity\",\\n     ...  2021-11-23  \n",
       "1917  [\\n    {\\n        \"_\": \"MessageEntity\",\\n     ...  2021-11-24  "
      ]
     },
     "execution_count": 66,
     "metadata": {},
     "output_type": "execute_result"
    }
   ],
   "source": [
    "df[df['text'].str.contains(df.loc[1893]['text'][-130:-1])]"
   ]
  },
  {
   "cell_type": "code",
   "execution_count": 67,
   "id": "65bfaad2",
   "metadata": {},
   "outputs": [
    {
     "data": {
      "text/plain": [
       "'#Москва #вакансия #fulltime #office #гибрид #удаленка #ecom #devops\\n\\nDevOps/DataOps инженер\\n\\nСитилинк, топ 3 федеральный игрок в E-Commerce по версии Data Insight, быстро меняется и растет.\\n\\nМы одновременно расширяем сеть из 500плюс точек в 115плюс городах, ассортимент \"от компьютеров, электроники и бытовой техники до спортивных, детских, авто- товаров, товаров для дома, дачи и хобби, электроинструмента и силовой техники, сантехники и электрики, и др.\" и команду 8000плюс человек.\\n\\nДрайвер этих изменений - команда развития и аналитики также растет.\\n\\nНаш аналитический стек:\\n- Microsoft: PowerBI, SSAS Tabular, SSRS\\n- MPP аналитическое хранилище данных на основе Vertica\\n- Большие данные веб и e-commerce на Google Cloud Platform, Google 360 и BigQuery\\n- бюджетирование на Anaplan\\n- оркестрация на Apache Airflow, инжект на python и kafka\\n- Python\\n\\nГород: Москва/Красногорск\\nЛокация: м. Мякинино, плюсудаленка/гибрид\\nКомпания: Ситилинк\\nРоль: DevOps/DataOps инженер\\nСтек релевантный вакансии: Linux, Airflow, Dbt, DataHUB, Great Expectations, Python, Vertica SQL, MS SQL, Atlassian Jira, Confluence, Bitbucket/Gitlab\\nОпыт работы: от 2 лет\\nвилка 170-290 gross в среднем по году\\n\\nЧто важно:\\n- опыт разработки в зрелом инженерном процессе на python или одном из скриптовых языков\\n- опыт эксплуатации ИТ решений и понимание как устроены процессы эксплуатации\\n- разделение философии DevOps подхода - everything is a code, CALM и т.д. и желание развивать эту культуру\\n\\nЧто делать \\n- Дорабатывать и поддерживать собственные форки open source продуктов, связанных с данными \"python\", например в части новых коннекторов\\n- Разрабатывать интеграционную связку компонентов платформы данных, аналитических и операционных data продуктов между собой\\n- Автоматизацию, развертывание \"CI/CD\", автодокументирование, сквозные конфигурации пайплайнов загрузки и трансформации данных, аналитических продуктов и моделей машинного обучения\\n- Автоматизацию эксплуатационных задач \"бекапирование и восстановление платформы, тесты\"\\n- Доработку фреймворка, шаблонов для пайплайнов загрузки и трансформации данных\\n- Консультировать и помогать другим командам по devops подходам\\n\\nПочему мы \\n- динамика - растем каждый год\\n- разнообразные задачи, возможность прокачиваться и учиться\\n- свежий стек, целимся в строительство современной инженерной культуры, слышим обратную связь, инженерные и архитектурные аргументы\\n- выделяем время на рефакторинг, хаускипинг и прочие внутренние задачи команд\\n- гибкий формат удаленка/офис и гибкое начало рабочего дня\\n- комфортабельный офис недалеко от метро \"при необходимости\"\\n- открытая атмосфера и позитивные коллеги\\n- мы заботимся о сотрудниках: корпоративный соц. пакет, скидки на товары и услуги Ситилинка и компаний-партнеров \"парковка у офиса, фитнес, здоровье и красота, недвижимость, изучение языков, отдых и многое другое\".\\n- ежеквартальные премии\\n\\nTg: @yovchinnikova'"
      ]
     },
     "execution_count": 67,
     "metadata": {},
     "output_type": "execute_result"
    }
   ],
   "source": [
    "df.loc[1893]['text']"
   ]
  },
  {
   "cell_type": "code",
   "execution_count": 68,
   "id": "ab6fc16c",
   "metadata": {},
   "outputs": [
    {
     "data": {
      "text/plain": [
       "'Архитектор данных/архитектор DWH\\n\\n#Москва #вакансия #fulltime #office #гибрид #удаленка #ecom #architecture\\n\\nСитилинк, топ 3 федеральный игрок в E-Commerce по версии Data Insight, быстро меняется и растет.\\n\\nМы одновременно расширяем сеть из 500плюс точек в 115плюс городах, ассортимент \"от компьютеров, электроники и бытовой техники до спортивных, детских, авто- товаров, товаров для дома, дачи и хобби, электроинструмента и силовой техники, сантехники и электрики, и др.\" и команду 8000плюс человек.\\n\\nДрайвер этих изменений - команда развития и аналитики также растет.\\n\\nНаш аналитический стек:\\n- Microsoft: PowerBI, SSAS Tabular, SSRS\\n- MPP аналитическое хранилище данных на основе Vertica\\n- Большие данные веб и e-commerce на Google Cloud Platform, Google 360 и BigQuery\\n- бюджетирование на Anaplan\\n- оркестрация на Apache Airflow\\n- Python\\n\\nГород: Москва/Красногорск\\nЛокация: м. Мякинино, плюсудаленка/гибрид\\nКомпания: Ситилинк\\nРоль: Архитектор данных/архитектор DWH\\nСтек релевантный роли: Dbt, DataHUB, Great Expectations/Soda, Python, Vertica SQL, MS SQL, BigQuery, Atlassian Jira, Confluence, Bitbucket\\nОпыт работы: от 5 лет\\nвилка 200-300 gross в среднем по году\\n\\nЧто важно:\\n- черный пояс по SQL \"MSSQL, в идеале также одной из MPP RDBMS\"\\n- отличное знание принципов проектирования классических аналитических DWH и современных подходов, в частности lakehouse\\n- здорово если есть опыт системного анализа и etl/elt разработки\\n\\nЧто делать \\n- проектировать и адаптировать целевую логическую модель данных\\n- проектировать DWH/lakehouse, курировать разработку хранилища и связанные процессы\\n- проектировать целевые витрины для конечных пользователей и data продуктов\\n\\nПочему мы \\n- динамика - растем каждый год\\n- разнообразные задачи, возможность прокачиваться и учиться\\n- свежий стек, целимся в строительство современной инженерной культуры, слышим обратную связь, инженерные и архитектурные аргументы\\n- выделяем время на рефакторинг, хаускипинг и прочие внутренние задачи команд\\n- гибкий формат удаленка/офис и гибкое начало рабочего дня\\n- комфортабельный офис недалеко от метро \"при необходимости\"\\n- открытая атмосфера и позитивные коллеги\\n- мы заботимся о сотрудниках: корпоративный соц. пакет, скидки на товары и услуги Ситилинка и компаний-партнеров \"парковка у офиса, фитнес, здоровье и красота, недвижимость, изучение языков, отдых и многое другое\".\\n- ежеквартальные премии\\n\\nTg: @yovchinnikova'"
      ]
     },
     "execution_count": 68,
     "metadata": {},
     "output_type": "execute_result"
    }
   ],
   "source": [
    "df.loc[1895]['text']"
   ]
  },
  {
   "cell_type": "code",
   "execution_count": 69,
   "id": "70522930",
   "metadata": {},
   "outputs": [
    {
     "data": {
      "text/plain": [
       "'Специалист по управлению данными\\n\\n#Москва #вакансия #fulltime #office #гибрид #удаленка #ecom #datagov\\n\\nСитилинк, топ 3 федеральный игрок в E-Commerce по версии Data Insight, быстро меняется и растет.\\n\\nМы одновременно расширяем сеть из 500плюс точек в 115плюс городах, ассортимент \"от компьютеров, электроники и бытовой техники до спортивных, детских, авто- товаров, товаров для дома, дачи и хобби, электроинструмента и силовой техники, сантехники и электрики, и др.\" и команду 8000плюс человек.\\n\\nДрайвер этих изменений - команда развития и аналитики также растет.\\n\\nНаш аналитический стек:\\n- Microsoft: PowerBI, SSAS Tabular, SSRS\\n- MPP аналитическое хранилище данных на основе Vertica\\n- Большие данные веб и e-commerce на Google Cloud Platform, Google 360 и BigQuery\\n- бюджетирование на Anaplan\\n- оркестрация на Apache Airflow\\n- Python\\n\\nГород: Москва/Красногорск\\nЛокация: м. Мякинино, плюсудаленка/гибрид\\nКомпания: Ситилинк\\nРоль: Специалист по управлению данными\\nСтек: Dbt, DataHUB, Great Expectations/Soda, Python, Vertica SQL, MS SQL, SSAS, Navision, Atlassian Jira, Confluence, Bitbucket\\nОпыт работы: от 2 лет\\nвилка 120-240 gross в среднем по году в зависимости от опыта и квалификации\\n\\nЧто важно \\nсистемное мышление\\nнавыки структурирования информации и упрощения, викификации знаний\\nразвитые навыки коммуникации и умение выстроить взаимоотношения\\nлюбопытство и желание развиваться в своей профессиональной области\\n\\nЧто делать \\n- управлять внедрением и развитием продуктов в области управления данными - качеством данных, - управлением НСИ, каталогом данных \"играть роль владельца этих продуктов\"\\n- развивать практики управления данными в команде и компании в целом, внедрять и описывать процессы управления данными\\n- организовывать описание данных, метрик, разрезов, фичей и моделей машинного обучения, организовывать документирование и передачу знаний, участвовать в этом своим примером\\n- помогать коллегам с методологическими вопросами ведения справочников, метрик качества, автодокументирования и т.п.\\n- взаимодействовать с коллегами, дорабатывающими продукты и занимающиеся их интеграцией и развитием платформы данных, BI, администрированием НСИ, реализующими пайплайны загрузки данных и др.\\n\\nПочему мы \\n- динамика - растем каждый год\\n- разнообразные задачи, возможность прокачиваться и учиться\\n- свежий стек, целимся в строительство современной инженерной культуры, слышим обратную связь, инженерные и архитектурные аргументы\\n- выделяем время на рефакторинг, хаускипинг и прочие внутренние задачи команд\\n- гибкий формат удаленка/офис и гибкое начало рабочего дня\\n- комфортабельный офис недалеко от метро \"при необходимости\"\\n- открытая атмосфера и позитивные коллеги\\n- мы заботимся о сотрудниках: корпоративный соц. пакет, скидки на товары и услуги Ситилинка и компаний-партнеров \"парковка у офиса, фитнес, здоровье и красота, недвижимость, изучение языков, отдых и многое другое\".\\n- ежеквартальные премии\\n\\nTg: @yovchinnikova'"
      ]
     },
     "execution_count": 69,
     "metadata": {},
     "output_type": "execute_result"
    }
   ],
   "source": [
    "df.loc[1898]['text']"
   ]
  },
  {
   "cell_type": "code",
   "execution_count": 70,
   "id": "976dc92a",
   "metadata": {},
   "outputs": [
    {
     "data": {
      "text/plain": [
       "'Разработчик ETL/ELT \"SQL, python, dbt\"\\n\\n#Москва #вакансия #fulltime #office #гибрид #удаленка #ecom #sql\\n\\nСитилинк, топ 3 федеральный игрок в E-Commerce по версии Data Insight, быстро меняется и растет.\\n\\nМы одновременно расширяем сеть из 500плюс точек в 115плюс городах, ассортимент \"от компьютеров, электроники и бытовой техники до спортивных, детских, авто- товаров, товаров для дома, дачи и хобби, электроинструмента и силовой техники, сантехники и электрики, и др.\" и команду 8000плюс человек.\\n\\nДрайвер этих изменений - команда развития и аналитики также растет.\\n\\nНаш аналитический стек:\\n- Microsoft: PowerBI, SSAS Tabular, SSRS\\n- MPP аналитическое хранилище данных на основе Vertica\\n- Большие данные веб и e-commerce на Google Cloud Platform, Google 360 и BigQuery\\n- бюджетирование на Anaplan\\n- оркестрация на Apache Airflow\\n- Python\\n\\nГород: Москва/Красногорск\\nЛокация: м. Мякинино, плюсудаленка/гибрид\\nКомпания: Ситилинк\\nРоль: Разработчик ETL/ELT \"SQL, python, dbt\"\\nСтек: Dbt, DataHUB, Great Expectations/Soda, Python, Vertica SQL, MS SQL, Atlassian Jira, Confluence, Bitbucket\\nОпыт работы: от 2 лет\\nвилка 120-240 gross в среднем по году\\n\\nЧто делать \\n- развивать и поддерживать DWH/lakehouse\\n- разрабатывать процессы загрузки и трансформы для витрин\\n- иногда включаться в ad-hoc задачи\\n- реагировать на инциденты и чинить баги в обычные бизнес часы\\n- контрибьютить в общий фреймворк загрузки данных, DQ фреймворк, общие шаблоны типовых трансформаций, инструментарий автодокументирования и линеджа\\n- тестировать свой код, рефакторить код и поддерживать читаемость кода и документации\\n\\nПочему мы \\n- динамика - растем каждый год\\n- разнообразные задачи, возможность прокачиваться и учиться\\n- свежий стек, целимся в строительство современной инженерной культуры, слышим обратную связь, инженерные и архитектурные аргументы\\n- выделяем время на рефакторинг, хаускипинг и прочие внутренние задачи команд\\n- гибкий формат удаленка/офис и гибкое начало рабочего дня\\n- комфортабельный офис недалеко от метро \"при необходимости\"\\n- открытая атмосфера и позитивные коллеги\\n- мы заботимся о сотрудниках: корпоративный соц. пакет, скидки на товары и услуги Ситилинка и компаний-партнеров \"парковка у офиса, фитнес, здоровье и красота, недвижимость, изучение языков, отдых и многое другое\".\\n- ежеквартальные премии\\n\\nTg: @yovchinnikova'"
      ]
     },
     "execution_count": 70,
     "metadata": {},
     "output_type": "execute_result"
    }
   ],
   "source": [
    "df.loc[1905]['text']"
   ]
  },
  {
   "cell_type": "code",
   "execution_count": 71,
   "id": "b1ae166d",
   "metadata": {},
   "outputs": [
    {
     "data": {
      "text/plain": [
       "'Разработчик отчетов и кубов SSAS Tabular, SSRS\\n\\n#Москва #вакансия #fulltime #office #гибрид #удаленка #ecom #BI\\n\\nСитилинк, топ 3 федеральный игрок в E-Commerce по версии Data Insight, быстро меняется и растет.\\n\\nМы одновременно расширяем сеть из 500плюс точек в 115плюс городах, ассортимент \"от компьютеров, электроники и бытовой техники до спортивных, детских, авто- товаров, товаров для дома, дачи и хобби, электроинструмента и силовой техники, сантехники и электрики, и др.\" и команду 8000плюс человек.\\n\\nДрайвер этих изменений - команда развития и аналитики также растет.\\n\\nНаш аналитический стек:\\n- Microsoft: PowerBI, SSAS Tabular, SSRS\\n- MPP аналитическое хранилище данных на основе Vertica\\n- Большие данные веб и e-commerce на Google Cloud Platform, Google 360 и BigQuery\\n- бюджетирование на Anaplan\\n- оркестрация на Apache Airflow\\n- Python\\n\\nГород: Москва/Красногорск\\nЛокация: м. Мякинино, плюсудаленка/гибрид\\nКомпания: Ситилинк\\nРоль: Разработчик отчетов и кубов SSAS Tabular, SSRS\\nСтек: MSSQL, SSIS, SSAS, Vertica SQL, Atlassian Jira, Confluence, Bitbucket\\nОпыт работы: от 3 лет\\nвилка 150-250 gross в среднем по году\\n\\nЧто делать \\n- развивать и поддерживать отчеты и кубы на стеке Microsoft \"SSAS Tabular, SSRS, SSIS\"\\n- разрабатывать процессы загрузки и трансформы для витрин\\n- тестировать свой код, рефакторить код и поддерживать читаемость кода и документации\\n- взаимодействовать с коллегами в области управления данными, архитекторами хранилища, системными аналитиками\\n- реагировать на инциденты и чинить баги в обычные бизнес часы\\n- при необходимости контрибьютить в общий фреймворк загрузки данных, DQ фреймворк, общие шаблоны типовых трансформаций, инструментарий автодокументирования и линеджа\\n\\nПочему мы \\n- динамика - растем каждый год\\n- разнообразные задачи, возможность прокачиваться и учиться\\n- свежий стек, целимся в строительство современной инженерной культуры, слышим обратную связь, инженерные и архитектурные аргументы\\n- выделяем время на рефакторинг, хаускипинг и прочие внутренние задачи команд\\n- гибкий формат удаленка/офис и гибкое начало рабочего дня\\n- комфортабельный офис недалеко от метро \"при необходимости\"\\n- открытая атмосфера и позитивные коллеги\\n- мы заботимся о сотрудниках: корпоративный соц. пакет, скидки на товары и услуги Ситилинка и компаний-партнеров \"парковка у офиса, фитнес, здоровье и красота, недвижимость, изучение языков, отдых и многое другое\".\\n- ежеквартальные премии\\n\\nTg: @yovchinnikova'"
      ]
     },
     "execution_count": 71,
     "metadata": {},
     "output_type": "execute_result"
    }
   ],
   "source": [
    "df.loc[1909]['text']"
   ]
  },
  {
   "cell_type": "code",
   "execution_count": 72,
   "id": "0fa34275",
   "metadata": {
    "scrolled": true
   },
   "outputs": [
    {
     "data": {
      "text/plain": [
       "'Системный аналитик по системам источникам для DWH/lakehouse\\n\\n#Москва #вакансия #fulltime #office #гибрид #удаленка #ecom #системныйанализ\\n\\nСитилинк, топ 3 федеральный игрок в E-Commerce по версии Data Insight, быстро меняется и растет.\\n\\nМы одновременно расширяем сеть из 500плюс точек в 115плюс городах, ассортимент \"от компьютеров, электроники и бытовой техники до спортивных, детских, авто- товаров, товаров для дома, дачи и хобби, электроинструмента и силовой техники, сантехники и электрики, и др.\" и команду 8000плюс человек.\\n\\nДрайвер этих изменений - команда развития и аналитики также растет.\\n\\nНаш аналитический стек:\\n- Microsoft: PowerBI, SSAS Tabular, SSRS\\n- MPP аналитическое хранилище данных на основе Vertica\\n- Большие данные веб и e-commerce на Google Cloud Platform, Google 360 и BigQuery\\n- бюджетирование на Anaplan\\n- оркестрация на Apache Airflow\\n- Python\\n\\nГород: Москва/Красногорск\\nЛокация: м. Мякинино, плюсудаленка/гибрид\\nКомпания: Ситилинк\\nРоль: Системный аналитик по системам источникам для DWH/lakehouse\\nСтек: MSSQL, Navision, SSIS, SSAS, Vertica SQL, BigQuery, Atlassian Jira, Confluence, Bitbucket\\nОпыт работы: от 5 лет\\nвилка 170-250 gross в среднем по году\\n\\nВажно:\\n- системное мышление\\n- отличное знание SQL \"в идеале также особенностей MPP систем и аналитических функций\"\\n- высокие навыки коммуникации и выстраивания отношений с владельцами источников\\n- умение четко изложить свою мысль\\n- открытость предлагать изменения и улучшения в процессе и инструментарии и сокращать монотонный труд\\n\\nЧто делать \\n- анализировать системы-источники данных для аналитического хранилища данных, документацию по ним, взаимодействовать с командами внедрения и эксплуатации, иногда вендорами\\n- документировать методики расчета метрик, вести базу знаний\\n- наполнять корпоративный каталог данных, в том числе оптимизировать/автоматизировать этот процесс, участвовать в разработке инструментария для этого\\n- формировать source 2 target документы для пайплайнов загрузки данных \"машиночитаемое и человекочитаемое шаблонизированное ТЗ\"\\n- участвовать в проектировании целевых бизнес витрин\\n- накапливать и распространять в команде экспертизу по всем данным компании\\n- плотно работать совместно с архитекторами хранилища, инженерами данных и специалистами по управлению данными\\n- иногда включаться в ad-hoc аналитические задачи\\n\\nПочему мы \\n- динамика - растем каждый год\\n- разнообразные задачи, возможность прокачиваться и учиться\\n- свежий стек, целимся в строительство современной инженерной культуры, слышим обратную связь, инженерные и архитектурные аргументы\\n- выделяем время на рефакторинг, хаускипинг и прочие внутренние задачи команд\\n- гибкий формат удаленка/офис и гибкое начало рабочего дня\\n- комфортабельный офис недалеко от метро \"при необходимости\"\\n- открытая атмосфера и позитивные коллеги\\n- мы заботимся о сотрудниках: корпоративный соц. пакет, скидки на товары и услуги Ситилинка и компаний-партнеров \"парковка у офиса, фитнес, здоровье и красота, недвижимость, изучение языков, отдых и многое другое\".\\n- ежеквартальные премии\\n\\nTg: @yovchinnikova'"
      ]
     },
     "execution_count": 72,
     "metadata": {},
     "output_type": "execute_result"
    }
   ],
   "source": [
    "df.loc[1912]['text']"
   ]
  },
  {
   "cell_type": "code",
   "execution_count": 73,
   "id": "50e3b738",
   "metadata": {
    "scrolled": true
   },
   "outputs": [
    {
     "data": {
      "text/plain": [
       "'Data Engineer\\n\\n#Москва #вакансия #fulltime #office #гибрид #удаленка #ecom #DE\\n\\nСитилинк, топ 3 федеральный игрок в E-Commerce по версии Data Insight, быстро меняется и растет.\\n\\nМы одновременно расширяем сеть из 500плюс точек в 115плюс городах, ассортимент \"от компьютеров, электроники и бытовой техники до спортивных, детских, авто- товаров, товаров для дома, дачи и хобби, электроинструмента и силовой техники, сантехники и электрики, и др.\" и команду 8000плюс человек.\\n\\nДрайвер этих изменений - команда развития и аналитики также растет.\\n\\nНаш аналитический стек:\\n- Microsoft: PowerBI, SSAS Tabular, SSRS\\n- MPP аналитическое хранилище данных на основе Vertica\\n- Большие данные веб и e-commerce на Google Cloud Platform, Google 360 и BigQuery\\n- бюджетирование на Anaplan\\n- оркестрация на Apache Airflow\\n- Python\\n\\nГород: Москва/Красногорск\\nЛокация: м. Мякинино, плюсудаленка/гибрид\\nКомпания: Ситилинк\\nРоль: Data Engineer\\nСтек: Dbt, DataHUB, Great Expectations/Soda, Python, Vertica SQL, MS SQL, Atlassian Jira, Confluence, Bitbucket/GitLab\\nОпыт работы: от 2 лет\\nвилка 180-270 gross в среднем по году\\n\\nЧто делать \\n- разрабатывать и развивать ETL фреймворк;\\n- разрабатывать CI/CD процессы;\\n- настройка стриминга данных из различных источников в Data Lake/DWH\\n- разработка механики DQ;\\n- участвовать в разработке механизмов автодокументирования и линеджа\\n- реагировать на инциденты и чинить баги в обычные бизнес часы\\n- тестировать свой код, рефакторить код и поддерживать читаемость кода и документации\\n\\nПочему мы \\n- динамика - растем каждый год\\n- разнообразные задачи, возможность прокачиваться и учиться\\n- свежий стек, целимся в строительство современной инженерной культуры, слышим обратную связь, инженерные и архитектурные аргументы\\n- выделяем время на рефакторинг, хаускипинг и прочие внутренние задачи команд\\n- гибкий формат удаленка/офис и гибкое начало рабочего дня\\n- комфортабельный офис недалеко от метро \"при необходимости\"\\n- открытая атмосфера и позитивные коллеги\\n- мы заботимся о сотрудниках: корпоративный соц. пакет, скидки на товары и услуги Ситилинка и компаний-партнеров \"парковка у офиса, фитнес, здоровье и красота, недвижимость, изучение языков, отдых и многое другое\".\\n- ежеквартальные премии\\n\\nTg: @yovchinnikova'"
      ]
     },
     "execution_count": 73,
     "metadata": {},
     "output_type": "execute_result"
    }
   ],
   "source": [
    "df.loc[1917]['text']"
   ]
  },
  {
   "cell_type": "markdown",
   "id": "b451fb9e",
   "metadata": {},
   "source": [
    "**Анализ вакансии с индексом 2817**"
   ]
  },
  {
   "cell_type": "code",
   "execution_count": 74,
   "id": "88ecc098",
   "metadata": {
    "scrolled": true
   },
   "outputs": [
    {
     "data": {
      "text/html": [
       "<div>\n",
       "<style scoped>\n",
       "    .dataframe tbody tr th:only-of-type {\n",
       "        vertical-align: middle;\n",
       "    }\n",
       "\n",
       "    .dataframe tbody tr th {\n",
       "        vertical-align: top;\n",
       "    }\n",
       "\n",
       "    .dataframe thead th {\n",
       "        text-align: right;\n",
       "    }\n",
       "</style>\n",
       "<table border=\"1\" class=\"dataframe\">\n",
       "  <thead>\n",
       "    <tr style=\"text-align: right;\">\n",
       "      <th></th>\n",
       "      <th>chat</th>\n",
       "      <th>message_id</th>\n",
       "      <th>date</th>\n",
       "      <th>text</th>\n",
       "      <th>entities</th>\n",
       "      <th>vac_date</th>\n",
       "    </tr>\n",
       "  </thead>\n",
       "  <tbody>\n",
       "    <tr>\n",
       "      <th>2817</th>\n",
       "      <td>{\\n    \"_\": \"Chat\",\\n    \"id\": -1001269377842,...</td>\n",
       "      <td>1432</td>\n",
       "      <td>2022-05-06 22:34:40</td>\n",
       "      <td>#вакансия #удалённо #job #remote #parttime #пр...</td>\n",
       "      <td>[\\n    {\\n        \"_\": \"MessageEntity\",\\n     ...</td>\n",
       "      <td>2022-05-06</td>\n",
       "    </tr>\n",
       "    <tr>\n",
       "      <th>2970</th>\n",
       "      <td>{\\n    \"_\": \"Chat\",\\n    \"id\": -1001321264581,...</td>\n",
       "      <td>982</td>\n",
       "      <td>2022-06-03 21:03:15</td>\n",
       "      <td>#вакансия #удалённо #job #remote #parttime #пр...</td>\n",
       "      <td>[\\n    {\\n        \"_\": \"MessageEntity\",\\n     ...</td>\n",
       "      <td>2022-06-03</td>\n",
       "    </tr>\n",
       "  </tbody>\n",
       "</table>\n",
       "</div>"
      ],
      "text/plain": [
       "                                                   chat  message_id  \\\n",
       "2817  {\\n    \"_\": \"Chat\",\\n    \"id\": -1001269377842,...        1432   \n",
       "2970  {\\n    \"_\": \"Chat\",\\n    \"id\": -1001321264581,...         982   \n",
       "\n",
       "                    date                                               text  \\\n",
       "2817 2022-05-06 22:34:40  #вакансия #удалённо #job #remote #parttime #пр...   \n",
       "2970 2022-06-03 21:03:15  #вакансия #удалённо #job #remote #parttime #пр...   \n",
       "\n",
       "                                               entities    vac_date  \n",
       "2817  [\\n    {\\n        \"_\": \"MessageEntity\",\\n     ...  2022-05-06  \n",
       "2970  [\\n    {\\n        \"_\": \"MessageEntity\",\\n     ...  2022-06-03  "
      ]
     },
     "execution_count": 74,
     "metadata": {},
     "output_type": "execute_result"
    }
   ],
   "source": [
    "df[df['text'].str.contains(df.loc[2817]['text'][-130:-1])]"
   ]
  },
  {
   "cell_type": "code",
   "execution_count": 75,
   "id": "db92aaab",
   "metadata": {},
   "outputs": [
    {
     "data": {
      "text/plain": [
       "'#вакансия #удалённо #job #remote #parttime #преподаватель #Mlops #DataEngineer #DevOps #DeepLearning\\n\\n🦉OTUS – образовательная платформа🦉\\n\\nOTUS специализируется на курсах для IT-специалистов разного уровня от junior до senior🤘\\nУ нас более 120 авторских курсов😎\\n\\nВакансии:  Преподаватели на курсы: Data Engineer, MLOps, Deep Learning, DevOps;\\n\\n✅Мы подходим к обучению прагматично: программа ориентируется на требования работодателей и последние тренды разработки. \\nКопаем глубоко в практику, чтобы дать то, чего не найти в открытом доступе.\\nВебинары проходят по будням с 20:00 до 21:30 по мск.\\nСтавка за 1 вебинар \"1.5 часа\" – от 4 000 р. до 6000 р.\\nПреподаватель использует презентацию с теорией и практические примеры, чтобы раскрыть тему урока. \\n\\n✅Дополнительно оплачивается:\\nПроверка домашних заданий;\\nПодготовка материалов занятий: лекции, тесты, практические работы, самостоятельные задания;\\nАвторские статьи, заметки, участие в конференциях.\\n\\n🔥Почему именно OTUS \\nОсвоишь лучшие инструменты и практики преподавания с нашими методистами.\\nСистематизируешь свои знания и прокачаешь софт скиллы.\\nУ нас классная команда 650плюс экспертов с уникальными компетенциями из различных компаний. \\nМы учимся друг у друга, советуемся, помогаем, делимся опытом, обсуждаем новости как в преподавании, так и по проектам.\\n\\n✅Что мы предлагаем:\\nМожешь совмещать с основной работой, мы предлагаем удаленное сотрудничество, нагрузку определяешь сам. \\nТы можешь выбрать на какие темы преподавать. Все наши преподаватели — действующие практики.\\nУроки проводятся в онлайн формате в zoom.\\n\\nХочешь делиться знаниями  Откликайся скорее!\\ntelegram: @HR_Nikita\\nwhatsapp: плюс79275715276'"
      ]
     },
     "execution_count": 75,
     "metadata": {},
     "output_type": "execute_result"
    }
   ],
   "source": [
    "df.loc[2817]['text']"
   ]
  },
  {
   "cell_type": "code",
   "execution_count": 76,
   "id": "407a5d58",
   "metadata": {},
   "outputs": [
    {
     "data": {
      "text/plain": [
       "'#вакансия #удалённо #job #remote #parttime #преподаватель #Mlops #DataEngineer\\n\\n🦉OTUS – образовательная платформа🦉\\n\\nOTUS специализируется на курсах для IT-специалистов разного уровня от junior до senior🤘\\nУ нас более 120 авторских курсов😎\\n\\nВакансии:  Преподаватели на курсы: Data Engineer и MLOps\\n\\n✅Мы подходим к обучению прагматично: программа ориентируется на требования работодателей и последние тренды разработки. \\nКопаем глубоко в практику, чтобы дать то, чего не найти в открытом доступе.\\nВебинары проходят по будням с 20:00 до 21:30 по мск.\\nСтавка за 1 вебинар \"1.5 часа\" – от 4 000 р. до 6000 р.\\nПреподаватель использует презентацию с теорией и практические примеры, чтобы раскрыть тему урока. \\n\\n✅Дополнительно оплачивается:\\nПроверка домашних заданий;\\nПодготовка материалов занятий: лекции, тесты, практические работы, самостоятельные задания;\\nАвторские статьи, заметки, участие в конференциях.\\n\\n🔥Почему именно OTUS \\nОсвоишь лучшие инструменты и практики преподавания с нашими методистами.\\nСистематизируешь свои знания и прокачаешь софт скиллы.\\nУ нас классная команда 650плюс экспертов с уникальными компетенциями из различных компаний. \\nМы учимся друг у друга, советуемся, помогаем, делимся опытом, обсуждаем новости как в преподавании, так и по проектам.\\n\\n✅Что мы предлагаем:\\nМожешь совмещать с основной работой, мы предлагаем удаленное сотрудничество, нагрузку определяешь сам. \\nТы можешь выбрать на какие темы преподавать. Все наши преподаватели — действующие практики.\\nУроки проводятся в онлайн формате в zoom.\\n\\nХочешь делиться знаниями  Откликайся скорее!\\ntelegram: @HR_Nikita\\nwhatsapp: плюс79275715276'"
      ]
     },
     "execution_count": 76,
     "metadata": {},
     "output_type": "execute_result"
    }
   ],
   "source": [
    "df.loc[2970]['text']"
   ]
  },
  {
   "cell_type": "markdown",
   "id": "d39c1027",
   "metadata": {},
   "source": [
    "Дубль."
   ]
  },
  {
   "cell_type": "code",
   "execution_count": 77,
   "id": "a1940ca3",
   "metadata": {},
   "outputs": [],
   "source": [
    "# удаление дублей\n",
    "df = df.query('index not in(1470, 2183, 2423, 322, 773, 1464, 1478, 1513, 1795, 2108, 2419, 2817)').reset_index(drop=True)"
   ]
  },
  {
   "cell_type": "markdown",
   "id": "b910f928",
   "metadata": {},
   "source": [
    "## Выделение ценной информации из текстов вакансий"
   ]
  },
  {
   "cell_type": "markdown",
   "id": "c8f67623",
   "metadata": {},
   "source": [
    "Большинство информации из вакансий мы будем выделять с помощью библиотеки `re`, регулярных выражений и метода `search(регулярное выражение, текст вакансии)`."
   ]
  },
  {
   "cell_type": "markdown",
   "id": "806753fc",
   "metadata": {},
   "source": [
    "### Выделение столбца названия Телеграм-канала"
   ]
  },
  {
   "cell_type": "markdown",
   "id": "4e4a47cc",
   "metadata": {},
   "source": [
    "В первую очередь выделим названия чатов в отдельный столбец `chat_name`."
   ]
  },
  {
   "cell_type": "code",
   "execution_count": 78,
   "id": "016ae38e",
   "metadata": {
    "scrolled": true
   },
   "outputs": [
    {
     "data": {
      "text/plain": [
       "'{\\n    \"_\": \"Chat\",\\n    \"id\": -1001269377842,\\n    \"type\": \"ChatType.CHANNEL\",\\n    \"is_verified\": false,\\n    \"is_restricted\": false,\\n    \"is_creator\": false,\\n    \"is_scam\": false,\\n    \"is_fake\": false,\\n    \"title\": \"Data jobs feed\",\\n    \"username\": \"datajobschannel\",\\n    \"photo\": {\\n        \"_\": \"ChatPhoto\",\\n        \"small_file_id\": \"AQADAgADp6gxG0Y-DQARAgADzsSx3xb____au1TK-YWQyAAEHgQ\",\\n        \"small_photo_unique_id\": \"AgADp6gxG0Y-DQAB\",\\n        \"big_file_id\": \"AQADAgADp6gxG0Y-DQARAwADzsSx3xb____au1TK-YWQyAAEHgQ\",\\n        \"big_photo_unique_id\": \"AgADp6gxG0Y-DQAB\"\\n    },\\n    \"dc_id\": 2,\\n    \"has_protected_content\": false\\n}'"
      ]
     },
     "execution_count": 78,
     "metadata": {},
     "output_type": "execute_result"
    }
   ],
   "source": [
    "# посмотрим в каком разделе содержится название чата\n",
    "df.loc[1]['chat']"
   ]
  },
  {
   "cell_type": "markdown",
   "id": "0ae090b3",
   "metadata": {},
   "source": [
    "Видим, что названия чатов содержатся в разделе `title`."
   ]
  },
  {
   "cell_type": "code",
   "execution_count": 79,
   "id": "9256bb7e",
   "metadata": {},
   "outputs": [],
   "source": [
    "# создание нового столбца с выделением названия чата в разделе title\n",
    "df['chat_name'] = df['chat'].apply(lambda x: json.loads(x)['title'])"
   ]
  },
  {
   "cell_type": "markdown",
   "id": "922a6961",
   "metadata": {},
   "source": [
    "### Выделение позиций вакансий"
   ]
  },
  {
   "cell_type": "markdown",
   "id": "133637e9",
   "metadata": {},
   "source": [
    "Выделим позицию вакансии. После долгого анализа дата-фрейма было определено, что в основном существуют следующие позиции:\n",
    "\n",
    "- Веб-аналитик\n",
    "- Продуктовый аналитик\n",
    "- Дата аналитик\n",
    "- Bi аналитик\n",
    "- Bi архитектор\n",
    "- Маркетинговый аналитик\n",
    "- Администратор БД\n",
    "- Дата инженер\n",
    "- Дата сайентисты\n",
    "- ДевОпс\n",
    "- Аналитик-разработчик\n",
    "- Системный аналитик\n",
    "- Бизнес-аналитик\n",
    "- Диджитал аналитик\n",
    "\n",
    "Позицию будем искать с помощью регулярных выражений и библиотеки `re`."
   ]
  },
  {
   "cell_type": "code",
   "execution_count": 80,
   "id": "0cc5b199",
   "metadata": {},
   "outputs": [],
   "source": [
    "# регулярные выражения различных позиций\n",
    "web_analyst = f'web-analyst|webanalyst|web аналитик|#web_analyst|веб-аналитик|веб-аналитик|web-аналитик'\n",
    "product_analyst = f'product analyst|продуктовый аналитик|продуктового аналитика|#product|#продукт|продуктовой аналитики'\n",
    "da = f'data analyst|дата аналитик|датааналитик|dataanalyst|аналитик данных|аналитика данных|аналитиков данных|data analytic|аналитик-исследователь|исследователь данных|исследователя данных|исследователь|аналитика sql|аналитик sql|data quality specialist|аналитик dwh|data-аналитик|data - аналитик|аналитик баз данных'\n",
    "bi_analyst = f'bi analyst|bi analytics|bi аналитик|bi-аналитик|bi-manager|аналитик bi|аналитика bi|биай аналитик|биай аналитика|аналитика power bi|аналитик power bi|business intelligence engineer|cпециалист power bi|cпециалиста power bi|специалиста bi|аналитик pbi|bi менеджер' \n",
    "bi_architect = f'bi архитектор|bi architect|архитектор bi|архитектора bi|bi разработчик|разработчик bi|bi-разработчик|разработчика bi|разработчик qlik sense|bi developer|разработчика qlik sense|qlik sense разработчик|power bi разработчик|разработчик power bi|разработчика power bi|разработчик tableau|разработчика tableau|разработчика qlikview|разработчик qlikview|bi developer|разработчиков qlik|разработчик qlik|qliksense разработчик|data architect|архитектор qlik'\n",
    "marketing_analyst = f'marketing analyst|marketing analytic|маркетинговый аналитик|маркетингового аналитика|#маркетинг|маркетолога аналитика|маркетинговой|маркетолог-аналитик'\n",
    "bd_admin = f'администратор баз данных|администраторбазданных|администратор бд|data base administrator|администратор hadoop|администратора hadoop|big data administrator'\n",
    "de = f'датаинженер|dataengineer|дата инженер|дата - инженер|дата-инженер|data engineer|database engineer|big data engineer|big data enginer| de | de,| de.| де |data - engineer|big data developer|data developer|разработчик data|разработчик big data|etl-разработчик|etl разработчик|разработчик etl|разработчика etl|разработчик dwh|разработчика dwh|dwh developer|биг дата разработчик|scala|hadoop engineer|разработчик hadoop|#dwh|#hadoop|архитектор баз данных|архитектор бд| dba | dba|архитектор dwh|инженера данных|хранилища данных|хранилище данных|разработчик баз данных|разработчик бд|sql разработчик|sql developer|database engine|архитектора dwh|разработчиков ms sql|разработчик ms sql|разработчика ms sql|dwh engineer|big query engineer|bigdata инженера|backend engineer|архитектора баз данных'\n",
    "ds = f'data scien|data-scien|#ds|datascien|датасаинс|датасаентист|machine learning|machine learning engineer|machinelearningengineer|ml-engineer|ml-инженер|deep learning|машинное обучение| ds |машинного обучения| ml | ml,|nlp engineer|nlp| ai | ai|computer vision|ml\\xa0engineer|computer vision engineer|специалиста по компьютерному зрению|специалист по компьютерному зрению|дата-саен|#machinelearning'\n",
    "devops = f'devops|девопс|dataops'\n",
    "analyst_developer = f'аналитик-разработчик|аналитика-разработчика|разработчик-аналитик|разработчика-аналитика|программист-исследователь'\n",
    "systems_analyst = f'systems analyst|systems analyst|system |системный аналитик|системного аналитика|системных аналитиков'\n",
    "business_analyst = f'business analyst|business |бизнес аналитик|бизнес-аналитик|бизнес — аналитик|бизнес\\xa0— аналитик|аналитик бизнес-процессов|аналитика бизнес-процессов'\n",
    "digital_analyst = f'digital analytics|digital analyst|диджитал аналитик|диджитал-аналитик'"
   ]
  },
  {
   "cell_type": "markdown",
   "id": "1bb0d9e7",
   "metadata": {},
   "source": [
    "Теперь создаем свой столбец для каждой позиции."
   ]
  },
  {
   "cell_type": "code",
   "execution_count": 81,
   "id": "7ecb905f",
   "metadata": {},
   "outputs": [],
   "source": [
    "df['ds'] = df['text'].apply(lambda x: 1 if re.search(ds, x[0:350].lower()) else 0)"
   ]
  },
  {
   "cell_type": "code",
   "execution_count": 82,
   "id": "a290c2c0",
   "metadata": {},
   "outputs": [],
   "source": [
    "df['da'] = df['text'].apply(lambda x: 1 if re.search(da, x[0:350].lower()) else 0)"
   ]
  },
  {
   "cell_type": "code",
   "execution_count": 83,
   "id": "e6e1978c",
   "metadata": {},
   "outputs": [],
   "source": [
    "df['de'] = df['text'].apply(lambda x: 1 if re.search(de, x[0:350].lower()) else 0)"
   ]
  },
  {
   "cell_type": "code",
   "execution_count": 84,
   "id": "2a36e1dd",
   "metadata": {},
   "outputs": [],
   "source": [
    "df['product_analyst'] = df['text'].apply(lambda x: 1 if re.search(product_analyst, x[0:350].lower()) else 0)"
   ]
  },
  {
   "cell_type": "code",
   "execution_count": 85,
   "id": "57c44e82",
   "metadata": {},
   "outputs": [],
   "source": [
    "df['web_analyst'] = df['text'].apply(lambda x: 1 if re.search(web_analyst, x[0:350].lower()) else 0)"
   ]
  },
  {
   "cell_type": "code",
   "execution_count": 86,
   "id": "aa327958",
   "metadata": {},
   "outputs": [],
   "source": [
    "df['bd_admin'] = df['text'].apply(lambda x: 1 if re.search(bd_admin, x[0:350].lower()) else 0)"
   ]
  },
  {
   "cell_type": "code",
   "execution_count": 87,
   "id": "bc5078d8",
   "metadata": {},
   "outputs": [],
   "source": [
    "df['devops'] = df['text'].apply(lambda x: 1 if re.search(devops, x[0:350].lower()) else 0)"
   ]
  },
  {
   "cell_type": "code",
   "execution_count": 88,
   "id": "c05be3dd",
   "metadata": {},
   "outputs": [],
   "source": [
    "df['bi_analyst'] = df['text'].apply(lambda x: 1 if re.search(bi_analyst, x[0:350].lower()) else 0)"
   ]
  },
  {
   "cell_type": "code",
   "execution_count": 89,
   "id": "da21572d",
   "metadata": {},
   "outputs": [],
   "source": [
    "df['bi_architect'] = df['text'].apply(lambda x: 1 if re.search(bi_architect, x[0:350].lower()) else 0)"
   ]
  },
  {
   "cell_type": "code",
   "execution_count": 90,
   "id": "5cec6fbc",
   "metadata": {},
   "outputs": [],
   "source": [
    "df['marketing_analyst'] = df['text'].apply(lambda x: 1 if re.search(marketing_analyst, x[0:350].lower()) else 0)"
   ]
  },
  {
   "cell_type": "code",
   "execution_count": 91,
   "id": "f9157134",
   "metadata": {},
   "outputs": [],
   "source": [
    "df['analyst_developer'] = df['text'].apply(lambda x: 1 if re.search(analyst_developer, x[0:350].lower()) else 0)"
   ]
  },
  {
   "cell_type": "code",
   "execution_count": 92,
   "id": "0276bb75",
   "metadata": {},
   "outputs": [],
   "source": [
    "df['systems_analyst'] = df['text'].apply(lambda x: 1 if re.search(systems_analyst, x[0:350].lower()) else 0)"
   ]
  },
  {
   "cell_type": "code",
   "execution_count": 93,
   "id": "b085f708",
   "metadata": {},
   "outputs": [],
   "source": [
    "df['business_analyst'] = df['text'].apply(lambda x: 1 if re.search(business_analyst, x[0:350].lower()) else 0)"
   ]
  },
  {
   "cell_type": "code",
   "execution_count": 94,
   "id": "e1bda552",
   "metadata": {},
   "outputs": [],
   "source": [
    "df['digital_analyst'] = df['text'].apply(lambda x: 1 if re.search(digital_analyst, x[0:350].lower()) else 0)"
   ]
  },
  {
   "cell_type": "code",
   "execution_count": 95,
   "id": "2cd53c51",
   "metadata": {
    "scrolled": true
   },
   "outputs": [],
   "source": [
    "# удаляем те строки, для которых не удалось определить позицию\n",
    "df = df[~((df['da'] == 0) &\n",
    "   (df['ds'] == 0) &\n",
    "   (df['de'] == 0) &\n",
    "   (df['product_analyst'] == 0) &\n",
    "   (df['web_analyst'] == 0) &\n",
    "   (df['bd_admin'] == 0) &\n",
    "   (df['devops'] == 0) &\n",
    "   (df['bi_analyst'] == 0) &\n",
    "   (df['bi_architect'] == 0) &\n",
    "   (df['marketing_analyst'] == 0) &\n",
    "   (df['analyst_developer'] == 0) & \n",
    "   (df['systems_analyst'] == 0) &\n",
    "   (df['business_analyst'] == 0) &\n",
    "   (df['digital_analyst'] == 0))].reset_index(drop=True)"
   ]
  },
  {
   "cell_type": "markdown",
   "id": "821e7ad4",
   "metadata": {},
   "source": [
    "### Выделение грейда"
   ]
  },
  {
   "cell_type": "code",
   "execution_count": 96,
   "id": "9df85a78",
   "metadata": {},
   "outputs": [],
   "source": [
    "# регулярные выражения различных грейда\n",
    "senior = f'senior|сеньор|старший|snr'\n",
    "middle = f'middle|midd|миддл|мидл|mid'\n",
    "junior = f'junior|джун|jun|jur'"
   ]
  },
  {
   "cell_type": "code",
   "execution_count": 97,
   "id": "cd9af98c",
   "metadata": {},
   "outputs": [],
   "source": [
    "# создание столбца для каждого грейда\n",
    "df['senior'] = df['text'].apply(lambda x: 1 if re.search(senior, x.lower()) else 0)\n",
    "df['middle'] = df['text'].apply(lambda x: 1 if re.search(middle, x.lower()) else 0)\n",
    "df['junior'] = df['text'].apply(lambda x: 1 if re.search(junior, x.lower()) else 0)"
   ]
  },
  {
   "cell_type": "markdown",
   "id": "af2c4078",
   "metadata": {},
   "source": [
    "### Выделение hard-skills"
   ]
  },
  {
   "cell_type": "code",
   "execution_count": 98,
   "id": "7de2ccf6",
   "metadata": {},
   "outputs": [],
   "source": [
    "# регулярные выражения для hard-skills\n",
    "sql = f'sql'\n",
    "excel = f'excel'\n",
    "seaborn = f'seaborn'\n",
    "plotly = f'plotly'\n",
    "r = f' r '\n",
    "python = f'python|питон'\n",
    "pandas = f'pandas'\n",
    "nampy = f'numpy'\n",
    "matplotlib = f'matplotlib'\n",
    "math_statistics = f'математическая|математической|математический|мат.стат|статистика|statistics|probability theory'\n",
    "probability_theory = f'теория вероятностей|теории вероятностей|теорию вероятностей|тер.вер|теория'\n",
    "scala = f'scala'\n",
    "java = f'java'\n",
    "docker = f'docker'\n",
    "hadoop = f'hadoop|хадуп'\n",
    "airflow = f'airflow'\n",
    "spark = f'spark'\n",
    "kafka = f'kafka'\n",
    "nifi = f'nifi'\n",
    "flask = f'flask'\n",
    "k8s = f'k8s'\n",
    "ci_cd = f'ci/cd'\n",
    "bigquery = f'bigquery'\n",
    "pytorch = f'pytorch'\n",
    "teradata = f'teradata'\n",
    "oracle = f'oracle|оракл'\n",
    "postgresql = f'postgresql|postgre'\n",
    "vertica = f'vertica'\n",
    "greenplum = f'greenplum'\n",
    "google_cloud = f'google cloud'\n",
    "informatica = f'informatica'\n",
    "nlp = f'nlp'\n",
    "ms_sql = f'ms sql'\n",
    "scipy = f'scipy'\n",
    "scikit_learn = f'scikit-learn'\n",
    "gitlab = f'gitlab|git'\n",
    "jira = f'jira'\n",
    "confluence = f'confluence'\n",
    "mysql = f'mysql'\n",
    "jupyter = f'jupyter'\n",
    "machine_learning = f'machine learning|машинное обучение|машинного обучения| ml | ml'\n",
    "tensorflow = f'tensorflow'\n",
    "deep_learning = f'deep learning|глубокое обучение|глубокого обучения| dp '\n",
    "hive = f'hive'\n",
    "impala = f'impala'\n",
    "artificial_intelligence = f'artificial intelligence| ai | ai|искусственный интеллект|искусственнго интеллекта'\n",
    "clickhouse = f'clickhouse'\n",
    "tableau = f'tableau|табло'\n",
    "power_bi = f'power bi|pbi'\n",
    "qlik_sense_view = f'qlik|qlikview|qlik sense'\n",
    "a_b_testing = f'a/b|а/б'\n",
    "api = f'api'\n",
    "cassandra = f'cassandra'\n",
    "product_metrics = f'продуктовые метрики|продуктовых метрик|ltv|cltv|roi|arpu|arppu|cac|nps|csat|mau|dau|сonversion rate| cr| cr |конверсия|конверсию|сhurn rate| cr| cr |crr|retention rate| rr| rr '\n",
    "english = f'анлийский|английского|english'\n",
    "statsmodels = f'statsmodels'"
   ]
  },
  {
   "cell_type": "code",
   "execution_count": 99,
   "id": "f2fdab78",
   "metadata": {},
   "outputs": [],
   "source": [
    "# создание столбца для каждого hard-skill\n",
    "df['sql'] = df['text'].apply(lambda x: 1 if re.search(sql, x.lower()) else 0)\n",
    "df['python'] = df['text'].apply(lambda x: 1 if re.search(python, x.lower()) else 0)\n",
    "df['excel'] = df['text'].apply(lambda x: 1 if re.search(excel, x.lower()) else 0)\n",
    "df['seaborn'] = df['text'].apply(lambda x: 1 if re.search(seaborn, x.lower()) else 0)\n",
    "df['plotly'] = df['text'].apply(lambda x: 1 if re.search(plotly, x.lower()) else 0)\n",
    "df['r'] = df['text'].apply(lambda x: 1 if re.search(r, x.lower()) else 0)\n",
    "df['pandas'] = df['text'].apply(lambda x: 1 if re.search(pandas, x.lower()) else 0)\n",
    "df['nampy'] = df['text'].apply(lambda x: 1 if re.search(nampy, x.lower()) else 0)\n",
    "df['matplotlib'] = df['text'].apply(lambda x: 1 if re.search(matplotlib, x.lower()) else 0)\n",
    "df['math_statistics'] = df['text'].apply(lambda x: 1 if re.search(math_statistics, x.lower()) else 0)\n",
    "df['probability_theory'] = df['text'].apply(lambda x: 1 if re.search(probability_theory, x.lower()) else 0)\n",
    "df['scala'] = df['text'].apply(lambda x: 1 if re.search(scala, x.lower()) else 0)\n",
    "df['java'] = df['text'].apply(lambda x: 1 if re.search(java, x.lower()) else 0)\n",
    "df['docker'] = df['text'].apply(lambda x: 1 if re.search(docker, x.lower()) else 0)\n",
    "df['hadoop'] = df['text'].apply(lambda x: 1 if re.search(hadoop, x.lower()) else 0)\n",
    "df['airflow'] = df['text'].apply(lambda x: 1 if re.search(airflow, x.lower()) else 0)\n",
    "df['spark'] = df['text'].apply(lambda x: 1 if re.search(spark, x.lower()) else 0)\n",
    "df['kafka'] = df['text'].apply(lambda x: 1 if re.search(kafka, x.lower()) else 0)\n",
    "df['nifi'] = df['text'].apply(lambda x: 1 if re.search(nifi, x.lower()) else 0)\n",
    "df['flask'] = df['text'].apply(lambda x: 1 if re.search(flask, x.lower()) else 0)\n",
    "df['k8s'] = df['text'].apply(lambda x: 1 if re.search(k8s, x.lower()) else 0)\n",
    "df['ci_cd'] = df['text'].apply(lambda x: 1 if re.search(ci_cd, x.lower()) else 0)\n",
    "df['bigquery'] = df['text'].apply(lambda x: 1 if re.search(bigquery, x.lower()) else 0)\n",
    "df['pytorch'] = df['text'].apply(lambda x: 1 if re.search(pytorch, x.lower()) else 0)\n",
    "df['teradata'] = df['text'].apply(lambda x: 1 if re.search(teradata, x.lower()) else 0)\n",
    "df['oracle'] = df['text'].apply(lambda x: 1 if re.search(oracle, x.lower()) else 0)\n",
    "df['postgresql'] = df['text'].apply(lambda x: 1 if re.search(postgresql, x.lower()) else 0)\n",
    "df['vertica'] = df['text'].apply(lambda x: 1 if re.search(vertica, x.lower()) else 0)\n",
    "df['greenplum'] = df['text'].apply(lambda x: 1 if re.search(greenplum, x.lower()) else 0)\n",
    "df['google_cloud'] = df['text'].apply(lambda x: 1 if re.search(google_cloud, x.lower()) else 0)\n",
    "df['informatica'] = df['text'].apply(lambda x: 1 if re.search(informatica, x.lower()) else 0)\n",
    "df['nlp'] = df['text'].apply(lambda x: 1 if re.search(nlp, x.lower()) else 0)\n",
    "df['ms_sql'] = df['text'].apply(lambda x: 1 if re.search(ms_sql, x.lower()) else 0)\n",
    "df['scipy'] = df['text'].apply(lambda x: 1 if re.search(scipy, x.lower()) else 0)\n",
    "df['scikit_learn'] = df['text'].apply(lambda x: 1 if re.search(scikit_learn, x.lower()) else 0)\n",
    "df['gitlab'] = df['text'].apply(lambda x: 1 if re.search(gitlab, x.lower()) else 0)\n",
    "df['jira'] = df['text'].apply(lambda x: 1 if re.search(jira, x.lower()) else 0)\n",
    "df['confluence'] = df['text'].apply(lambda x: 1 if re.search(confluence, x.lower()) else 0)\n",
    "df['mysql'] = df['text'].apply(lambda x: 1 if re.search(mysql, x.lower()) else 0)\n",
    "df['jupyter'] = df['text'].apply(lambda x: 1 if re.search(jupyter, x.lower()) else 0)\n",
    "df['machine_learning'] = df['text'].apply(lambda x: 1 if re.search(machine_learning, x.lower()) else 0)\n",
    "df['tensorflow'] = df['text'].apply(lambda x: 1 if re.search(tensorflow, x.lower()) else 0)\n",
    "df['deep_learning'] = df['text'].apply(lambda x: 1 if re.search(deep_learning, x.lower()) else 0)\n",
    "df['hive'] = df['text'].apply(lambda x: 1 if re.search(hive, x.lower()) else 0)\n",
    "df['impala'] = df['text'].apply(lambda x: 1 if re.search(impala, x.lower()) else 0)\n",
    "df['artificial_intelligence'] = df['text'].apply(lambda x: 1 if re.search(artificial_intelligence, x.lower()) else 0)\n",
    "df['clickhouse'] = df['text'].apply(lambda x: 1 if re.search(clickhouse, x.lower()) else 0)\n",
    "df['tableau'] = df['text'].apply(lambda x: 1 if re.search(tableau, x.lower()) else 0)\n",
    "df['power_bi'] = df['text'].apply(lambda x: 1 if re.search(power_bi, x.lower()) else 0)\n",
    "df['qlik_sense_view'] = df['text'].apply(lambda x: 1 if re.search(qlik_sense_view, x.lower()) else 0)\n",
    "df['a_b_testing'] = df['text'].apply(lambda x: 1 if re.search(a_b_testing, x.lower()) else 0)\n",
    "df['api'] = df['text'].apply(lambda x: 1 if re.search(api, x.lower()) else 0)\n",
    "df['product_metrics'] = df['text'].apply(lambda x: 1 if re.search(product_metrics, x.lower()) else 0)\n",
    "df['cassandra'] = df['text'].apply(lambda x: 1 if re.search(cassandra, x.lower()) else 0)\n",
    "df['english'] = df['text'].apply(lambda x: 1 if re.search(english, x.lower()) else 0)\n",
    "df['statsmodels'] = df['text'].apply(lambda x: 1 if re.search(statsmodels, x.lower()) else 0)"
   ]
  },
  {
   "cell_type": "markdown",
   "id": "4952e957",
   "metadata": {},
   "source": [
    "### Выделение формата работы"
   ]
  },
  {
   "cell_type": "code",
   "execution_count": 100,
   "id": "4811a183",
   "metadata": {},
   "outputs": [],
   "source": [
    "# регулярные выражения для формата работы\n",
    "remote = f'remote|удален'\n",
    "relocate = f'relocat|релокаци'\n",
    "gibrid = f'гибрид'\n",
    "office = f'office|офис'"
   ]
  },
  {
   "cell_type": "code",
   "execution_count": 101,
   "id": "37a23bd3",
   "metadata": {},
   "outputs": [],
   "source": [
    "# создание столбца для каждого формата работы\n",
    "df['remote'] = df['text'].apply(lambda x: 1 if re.search(remote, x.lower()) else 0)\n",
    "df['relocate'] = df['text'].apply(lambda x: 1 if re.search(relocate, x.lower()) else 0)\n",
    "df['gibrid'] = df['text'].apply(lambda x: 1 if re.search(gibrid, x.lower()) else 0)\n",
    "df['office'] = df['text'].apply(lambda x: 1 if re.search(office, x.lower()) else 0)"
   ]
  },
  {
   "cell_type": "markdown",
   "id": "a3a03dd9",
   "metadata": {},
   "source": [
    "### Выделение города"
   ]
  },
  {
   "cell_type": "markdown",
   "id": "90278d92",
   "metadata": {},
   "source": [
    "Для определения регулярных выражений городов вакансий, будем использовать библиотеку `GeoText`. Эта библиотека поможет определить основные крупные города."
   ]
  },
  {
   "cell_type": "code",
   "execution_count": 102,
   "id": "470c4ae7",
   "metadata": {
    "scrolled": true
   },
   "outputs": [],
   "source": [
    "# установка библиотеки\n",
    "#!pip3 install geotext"
   ]
  },
  {
   "cell_type": "code",
   "execution_count": 103,
   "id": "24f9e120",
   "metadata": {
    "scrolled": true
   },
   "outputs": [
    {
     "data": {
      "text/plain": [
       "['Dubai',\n",
       " 'Odessa',\n",
       " 'Mongo',\n",
       " 'Opportunity',\n",
       " 'Helsinki',\n",
       " 'Aleksandrov',\n",
       " 'Nice',\n",
       " 'Golden Gate',\n",
       " 'Voronezh',\n",
       " 'Cambridge',\n",
       " 'Bishkek',\n",
       " 'Moscow',\n",
       " 'Spring',\n",
       " 'Tel Aviv',\n",
       " 'Saint Petersburg',\n",
       " 'Tokyo',\n",
       " 'Podgorica',\n",
       " 'Asia',\n",
       " 'Petersburg',\n",
       " 'Mobile',\n",
       " 'San Francisco',\n",
       " 'San Ramon',\n",
       " 'Kuala Lumpur',\n",
       " 'Marina',\n",
       " 'Jackson',\n",
       " 'London',\n",
       " 'Hays',\n",
       " 'Manage',\n",
       " 'Limassol',\n",
       " 'Anna',\n",
       " 'Tivoli',\n",
       " 'Phoenix',\n",
       " 'Amsterdam',\n",
       " 'Utrecht',\n",
       " 'Tallinn',\n",
       " 'Melle',\n",
       " 'Kharkiv',\n",
       " 'Florida',\n",
       " 'Arcadia',\n",
       " 'Enterprise',\n",
       " 'Mari',\n",
       " 'Kiev',\n",
       " 'Jupiter',\n",
       " 'Tampere',\n",
       " 'Victoria',\n",
       " 'Vera',\n",
       " 'Salt',\n",
       " 'Austin',\n",
       " 'Seattle',\n",
       " 'Hyderabad',\n",
       " 'Krasnodar',\n",
       " 'Madrid',\n",
       " 'Sevilla',\n",
       " 'Valencia',\n",
       " 'Best',\n",
       " 'University',\n",
       " 'Colorado',\n",
       " 'Kari',\n",
       " 'Barcelona',\n",
       " 'Dasha',\n",
       " 'Dublin',\n",
       " 'New York',\n",
       " 'Washington',\n",
       " 'Riga',\n",
       " 'Oslo',\n",
       " 'Stockholm',\n",
       " 'Minsk',\n",
       " 'Bay',\n",
       " 'Astana',\n",
       " 'Vigo',\n",
       " 'Brussels',\n",
       " 'Allen',\n",
       " 'Basel',\n",
       " 'Delta',\n",
       " 'Yara',\n",
       " 'Lido',\n",
       " 'Dax',\n",
       " 'Berlin',\n",
       " 'Mitte',\n",
       " 'Most',\n",
       " 'Abu Dhabi',\n",
       " 'Paris',\n",
       " 'Arnold',\n",
       " 'Ulsan',\n",
       " 'Mountain View',\n",
       " 'Baku']"
      ]
     },
     "execution_count": 103,
     "metadata": {},
     "output_type": "execute_result"
    }
   ],
   "source": [
    "from geotext import GeoText\n",
    "\n",
    "cities = []\n",
    "# циклом проходимся по всем вакансиям и сохраняем попавшиеся города в список cities\n",
    "for i in range(len(df['text'])):\n",
    "    places = GeoText(df.loc[i]['text'])\n",
    "    if places not in cities:\n",
    "        cities += places.cities\n",
    "# удаление дубликатов из списка\n",
    "cities = list(dict.fromkeys(cities))\n",
    "cities"
   ]
  },
  {
   "cell_type": "markdown",
   "id": "acddbaf7",
   "metadata": {},
   "source": [
    "Будем использовать этот список за основу. Плюс добавим российские города."
   ]
  },
  {
   "cell_type": "code",
   "execution_count": 104,
   "id": "585dea31",
   "metadata": {},
   "outputs": [],
   "source": [
    "# регулярные выражения для городов\n",
    "moscow = f'москва|мск|moscow'\n",
    "saint_petersburg = f'saint petersburg|petersburg|saint-petersburg|sbp|санк-петербург|санкт петербург|питер|сбп'\n",
    "london = f'лондон|london'\n",
    "berlin = f'berlin|берлин'\n",
    "yerevan = f'ереван'\n",
    "dubai = f'dubai|дуба'\n",
    "odessa = f'odessa|одесс'\n",
    "helsinki = f'helsinki|хельсинки'\n",
    "amsterdam = f'amsterdam|амстер'\n",
    "tallinn = f'tallinn|таллин'\n",
    "tel_aviv = f'tel aviv|тель-авив|тель авив'\n",
    "kharkiv = f'kharkiv|kharkov|харьков'\n",
    "kiev = f'kiev|киев'\n",
    "minsk = f'minsk|минск'\n",
    "nur_sultan = f'нур султан|нур-султан'\n",
    "astana = f'astana|астана'\n",
    "abu_dhabi = f'abu dhabi|абу-даби'\n",
    "voronezh = f'воронеж|voronezh'\n",
    "kazan = f'kazan|казан'\n",
    "novosibirsk = f'novosibirsk|новосибирск'\n",
    "ekaterinburg = f'ekaterinburg|екатеринбург'\n",
    "sochi = f'сочи|sochi'\n",
    "krasnodar = f'krasnodar|краснодар'\n",
    "kemerovo = f'kemerovo|кемерово'\n",
    "samara = f'samara|самара'\n",
    "nizhny_novgorod = f'nizhny novgorod|нижний новгород'\n",
    "velikiy_novgorod = f'velikiy novgorod|великий новгород'\n",
    "rostov = f'rosto|ростов'\n",
    "ufa = f'ufa|уфа'\n",
    "vladivostok = f'vladivostok|владивосток'\n",
    "tomsk = f'томск|tomsk'\n",
    "chelyabinsk = f'chelyabinsk|челябинск'"
   ]
  },
  {
   "cell_type": "code",
   "execution_count": 105,
   "id": "d293cb47",
   "metadata": {},
   "outputs": [],
   "source": [
    "# создание столбца для каждого города\n",
    "df['moscow'] = df['text'].apply(lambda x: 1 if re.search(moscow, x.lower()) else 0)\n",
    "df['saint_petersburg'] = df['text'].apply(lambda x: 1 if re.search(saint_petersburg, x.lower()) else 0)\n",
    "df['london'] = df['text'].apply(lambda x: 1 if re.search(london, x.lower()) else 0)\n",
    "df['berlin'] = df['text'].apply(lambda x: 1 if re.search(berlin, x.lower()) else 0)\n",
    "df['yerevan'] = df['text'].apply(lambda x: 1 if re.search(yerevan, x.lower()) else 0)\n",
    "df['dubai'] = df['text'].apply(lambda x: 1 if re.search(dubai, x.lower()) else 0)\n",
    "df['odessa'] = df['text'].apply(lambda x: 1 if re.search(odessa, x.lower()) else 0)\n",
    "df['helsinki'] = df['text'].apply(lambda x: 1 if re.search(helsinki, x.lower()) else 0)\n",
    "df['amsterdam'] = df['text'].apply(lambda x: 1 if re.search(amsterdam, x.lower()) else 0)\n",
    "df['tallinn'] = df['text'].apply(lambda x: 1 if re.search(tallinn, x.lower()) else 0)\n",
    "df['tel_aviv'] = df['text'].apply(lambda x: 1 if re.search(tel_aviv, x.lower()) else 0)\n",
    "df['kharkiv'] = df['text'].apply(lambda x: 1 if re.search(kharkiv, x.lower()) else 0)\n",
    "df['kiev'] = df['text'].apply(lambda x: 1 if re.search(kiev, x.lower()) else 0)\n",
    "df['minsk'] = df['text'].apply(lambda x: 1 if re.search(minsk, x.lower()) else 0)\n",
    "df['nur_sultan'] = df['text'].apply(lambda x: 1 if re.search(nur_sultan, x.lower()) else 0)\n",
    "df['astana'] = df['text'].apply(lambda x: 1 if re.search(astana, x.lower()) else 0)\n",
    "df['abu_dhabi'] = df['text'].apply(lambda x: 1 if re.search(abu_dhabi, x.lower()) else 0)\n",
    "df['voronezh'] = df['text'].apply(lambda x: 1 if re.search(voronezh, x.lower()) else 0)\n",
    "df['kazan'] = df['text'].apply(lambda x: 1 if re.search(voronezh, x.lower()) else 0)\n",
    "df['novosibirsk'] = df['text'].apply(lambda x: 1 if re.search(novosibirsk, x.lower()) else 0)\n",
    "df['ekaterinburg'] = df['text'].apply(lambda x: 1 if re.search(ekaterinburg, x.lower()) else 0)\n",
    "df['sochi'] = df['text'].apply(lambda x: 1 if re.search(sochi, x.lower()) else 0)\n",
    "df['krasnodar'] = df['text'].apply(lambda x: 1 if re.search(krasnodar, x.lower()) else 0)\n",
    "df['kemerovo'] = df['text'].apply(lambda x: 1 if re.search(kemerovo, x.lower()) else 0)\n",
    "df['samara'] = df['text'].apply(lambda x: 1 if re.search(samara, x.lower()) else 0)\n",
    "df['nizhny_novgorod'] = df['text'].apply(lambda x: 1 if re.search(nizhny_novgorod, x.lower()) else 0)\n",
    "df['velikiy_novgorod'] = df['text'].apply(lambda x: 1 if re.search(velikiy_novgorod, x.lower()) else 0)\n",
    "df['rostov'] = df['text'].apply(lambda x: 1 if re.search(rostov, x.lower()) else 0)\n",
    "df['ufa'] = df['text'].apply(lambda x: 1 if re.search(ufa, x.lower()) else 0)\n",
    "df['vladivostok'] = df['text'].apply(lambda x: 1 if re.search(vladivostok, x.lower()) else 0)\n",
    "df['tomsk'] = df['text'].apply(lambda x: 1 if re.search(tomsk, x.lower()) else 0)\n",
    "df['chelyabinsk'] = df['text'].apply(lambda x: 1 if re.search(chelyabinsk, x.lower()) else 0)"
   ]
  },
  {
   "cell_type": "markdown",
   "id": "3e6d4042",
   "metadata": {},
   "source": [
    "Теперь сохраним созданные столбцы в переменную `df_final` и в файл `telegram_vacansies_for_tableau.csv`. Файл необходим для создания дашборда."
   ]
  },
  {
   "cell_type": "code",
   "execution_count": 211,
   "id": "8b906bd1",
   "metadata": {},
   "outputs": [],
   "source": [
    "df_final = df[['message_id',\n",
    "               'chat_name',\n",
    "               'vac_date',\n",
    "               'web_analyst',\n",
    "               'product_analyst',\n",
    "               'da',\n",
    "               'bi_analyst',\n",
    "               'bi_architect',\n",
    "               'marketing_analyst',\n",
    "               'bd_admin',\n",
    "               'de',\n",
    "               'ds',\n",
    "               'devops',\n",
    "               'analyst_developer',\n",
    "               'systems_analyst',\n",
    "               'business_analyst',\n",
    "               'digital_analyst',\n",
    "               'sql',\n",
    "               'excel',\n",
    "               'seaborn',\n",
    "               'plotly',\n",
    "               'r',\n",
    "               'python',\n",
    "               'pandas',\n",
    "               'nampy',\n",
    "               'matplotlib',\n",
    "               'math_statistics',\n",
    "               'probability_theory',\n",
    "               'scala',\n",
    "               'java',\n",
    "               'docker',\n",
    "               'hadoop',\n",
    "               'airflow',\n",
    "               'spark',\n",
    "               'kafka',\n",
    "               'nifi',\n",
    "               'flask',\n",
    "               'k8s',\n",
    "               'ci_cd',\n",
    "               'bigquery',\n",
    "               'pytorch',\n",
    "               'teradata',\n",
    "               'oracle',\n",
    "               'postgresql',\n",
    "               'vertica',\n",
    "               'greenplum',\n",
    "               'google_cloud',\n",
    "               'informatica',\n",
    "               'nlp',\n",
    "               'ms_sql',\n",
    "               'scipy',\n",
    "               'scikit_learn',\n",
    "               'gitlab',\n",
    "               'jira',\n",
    "               'confluence',\n",
    "               'mysql',\n",
    "               'jupyter',\n",
    "               'machine_learning',\n",
    "               'tensorflow',\n",
    "               'deep_learning',\n",
    "               'hive',\n",
    "               'impala',\n",
    "               'artificial_intelligence',\n",
    "               'clickhouse',\n",
    "               'tableau',\n",
    "               'power_bi',\n",
    "               'qlik_sense_view',\n",
    "               'a_b_testing',\n",
    "               'api',\n",
    "               'cassandra',\n",
    "               'product_metrics',\n",
    "               'english',\n",
    "               'statsmodels',\n",
    "               'remote',\n",
    "               'relocate',\n",
    "               'gibrid', \n",
    "               'office',\n",
    "               'senior',\n",
    "               'middle',\n",
    "               'junior',\n",
    "               'moscow',\n",
    "               'saint_petersburg',\n",
    "               'london',\n",
    "               'berlin',\n",
    "               'yerevan',\n",
    "               'dubai',\n",
    "               'odessa',\n",
    "               'helsinki',\n",
    "               'amsterdam',\n",
    "               'tallinn',\n",
    "               'tel_aviv',\n",
    "               'kharkiv',\n",
    "               'kiev',\n",
    "               'minsk',\n",
    "               'nur_sultan',\n",
    "               'astana',\n",
    "               'abu_dhabi',\n",
    "               'voronezh',\n",
    "               'kazan',\n",
    "               'novosibirsk',\n",
    "               'ekaterinburg',\n",
    "               'sochi',\n",
    "               'krasnodar',\n",
    "               'kemerovo',\n",
    "               'samara',\n",
    "               'nizhny_novgorod',\n",
    "               'velikiy_novgorod',\n",
    "               'rostov',\n",
    "               'ufa',\n",
    "               'vladivostok',\n",
    "               'tomsk',\n",
    "               'chelyabinsk']].to_csv('telegram_vacansies_for_tableau.csv')"
   ]
  },
  {
   "cell_type": "markdown",
   "id": "4204de2d",
   "metadata": {},
   "source": [
    "## Даборд вакансий в Tableau Public"
   ]
  },
  {
   "cell_type": "markdown",
   "id": "1fc48499",
   "metadata": {},
   "source": [
    "Далее был сделан дашборд в Tableau Public.\n",
    "\n",
    "Ссылка на дашборд: https://public.tableau.com/app/profile/daniil4791/viz/Dashboarddatavacancies/Dashboard1?publish=yes"
   ]
  }
 ],
 "metadata": {
  "kernelspec": {
   "display_name": "Python 3",
   "language": "python",
   "name": "python3"
  },
  "language_info": {
   "codemirror_mode": {
    "name": "ipython",
    "version": 3
   },
   "file_extension": ".py",
   "mimetype": "text/x-python",
   "name": "python",
   "nbconvert_exporter": "python",
   "pygments_lexer": "ipython3",
   "version": "3.8.8"
  },
  "toc": {
   "base_numbering": 1,
   "nav_menu": {},
   "number_sections": true,
   "sideBar": true,
   "skip_h1_title": false,
   "title_cell": "Table of Contents",
   "title_sidebar": "Contents",
   "toc_cell": false,
   "toc_position": {
    "height": "calc(100% - 180px)",
    "left": "10px",
    "top": "150px",
    "width": "297px"
   },
   "toc_section_display": true,
   "toc_window_display": true
  }
 },
 "nbformat": 4,
 "nbformat_minor": 5
}
