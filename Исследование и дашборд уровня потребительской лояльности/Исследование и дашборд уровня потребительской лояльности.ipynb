{
 "cells": [
  {
   "cell_type": "code",
   "execution_count": 1,
   "id": "89a9054d",
   "metadata": {
    "tags": [
     "aa81075c-062f-4de0-b5fe-14c73dc7468e"
    ]
   },
   "outputs": [],
   "source": [
    "import pandas as pd\n",
    "import numpy as np\n",
    "\n",
    "from sqlalchemy import create_engine"
   ]
  },
  {
   "cell_type": "code",
   "execution_count": 2,
   "id": "a7c7b774",
   "metadata": {},
   "outputs": [],
   "source": [
    "path_to_db = '/datasets/telecomm_csi.db'\n",
    "engine = create_engine(f'sqlite:///{path_to_db}', echo = False)"
   ]
  },
  {
   "cell_type": "code",
   "execution_count": 3,
   "id": "0061a326",
   "metadata": {},
   "outputs": [],
   "source": [
    "query = \"\"\"\n",
    "SELECT us.user_id AS user_id,\n",
    "       us.lt_day AS lt_day,\n",
    "       CASE\n",
    "           WHEN us.lt_day <= 365 THEN '1'\n",
    "           ELSE '0'\n",
    "       END AS is_new,\n",
    "       us.age AS age,\n",
    "       CAST(us.gender_segment AS char) AS gender_segment,\n",
    "       us.os_name AS os_name,\n",
    "       us.cpe_type_name AS cpe_type_name,\n",
    "       lc.country AS country,\n",
    "       lc.city AS city,\n",
    "       substr(ag.title, 4) AS age_segment, --применение функции substr\n",
    "       substr(ts.title, 4) AS traffic_segment, --применение функции substr\n",
    "       substr(ls.title, 4) AS lifetime_segment, --применение функции substr\n",
    "       us.nps_score AS nps_score,\n",
    "       CASE\n",
    "           WHEN us.nps_score BETWEEN 9 AND 10 THEN 'cторонник'\n",
    "           WHEN us.nps_score BETWEEN 7 AND 8 THEN 'нейтрал'\n",
    "           WHEN us.nps_score BETWEEN 0 AND 6 THEN 'критики'\n",
    "       END AS nps_group\n",
    "FROM USER AS us\n",
    "LEFT JOIN LOCATION AS lc ON us.location_id = lc.location_id\n",
    "LEFT JOIN age_segment AS ag ON us.age_gr_id = ag.age_gr_id\n",
    "LEFT JOIN traffic_segment AS ts ON us.tr_gr_id = ts.tr_gr_id\n",
    "LEFT JOIN lifetime_segment AS ls ON us.lt_gr_id = ls.lt_gr_id;\n",
    "\"\"\""
   ]
  },
  {
   "cell_type": "markdown",
   "id": "f38dde8f",
   "metadata": {},
   "source": [
    "Применил функцию `LEFT JOIN`, чтобы не потерять часть данных на случай, если в какой-либо правой таблице не окажется какого-либо индекса таблицы `USER`."
   ]
  },
  {
   "cell_type": "code",
   "execution_count": 4,
   "id": "975f3dad",
   "metadata": {
    "scrolled": true
   },
   "outputs": [],
   "source": [
    "df = pd.read_sql(query, engine)"
   ]
  },
  {
   "cell_type": "code",
   "execution_count": 5,
   "id": "0f6b715c",
   "metadata": {
    "scrolled": false
   },
   "outputs": [
    {
     "data": {
      "text/html": [
       "<div>\n",
       "<style scoped>\n",
       "    .dataframe tbody tr th:only-of-type {\n",
       "        vertical-align: middle;\n",
       "    }\n",
       "\n",
       "    .dataframe tbody tr th {\n",
       "        vertical-align: top;\n",
       "    }\n",
       "\n",
       "    .dataframe thead th {\n",
       "        text-align: right;\n",
       "    }\n",
       "</style>\n",
       "<table border=\"1\" class=\"dataframe\">\n",
       "  <thead>\n",
       "    <tr style=\"text-align: right;\">\n",
       "      <th></th>\n",
       "      <th>user_id</th>\n",
       "      <th>lt_day</th>\n",
       "      <th>is_new</th>\n",
       "      <th>age</th>\n",
       "      <th>gender_segment</th>\n",
       "      <th>os_name</th>\n",
       "      <th>cpe_type_name</th>\n",
       "      <th>country</th>\n",
       "      <th>city</th>\n",
       "      <th>age_segment</th>\n",
       "      <th>traffic_segment</th>\n",
       "      <th>lifetime_segment</th>\n",
       "      <th>nps_score</th>\n",
       "      <th>nps_group</th>\n",
       "    </tr>\n",
       "  </thead>\n",
       "  <tbody>\n",
       "    <tr>\n",
       "      <th>0</th>\n",
       "      <td>A001A2</td>\n",
       "      <td>2320</td>\n",
       "      <td>0</td>\n",
       "      <td>45.0</td>\n",
       "      <td>1.0</td>\n",
       "      <td>ANDROID</td>\n",
       "      <td>SMARTPHONE</td>\n",
       "      <td>Россия</td>\n",
       "      <td>Уфа</td>\n",
       "      <td>45-54</td>\n",
       "      <td>1-5</td>\n",
       "      <td>36+</td>\n",
       "      <td>10</td>\n",
       "      <td>cторонник</td>\n",
       "    </tr>\n",
       "    <tr>\n",
       "      <th>1</th>\n",
       "      <td>A001WF</td>\n",
       "      <td>2344</td>\n",
       "      <td>0</td>\n",
       "      <td>53.0</td>\n",
       "      <td>0.0</td>\n",
       "      <td>ANDROID</td>\n",
       "      <td>SMARTPHONE</td>\n",
       "      <td>Россия</td>\n",
       "      <td>Киров</td>\n",
       "      <td>45-54</td>\n",
       "      <td>1-5</td>\n",
       "      <td>36+</td>\n",
       "      <td>10</td>\n",
       "      <td>cторонник</td>\n",
       "    </tr>\n",
       "    <tr>\n",
       "      <th>2</th>\n",
       "      <td>A003Q7</td>\n",
       "      <td>467</td>\n",
       "      <td>0</td>\n",
       "      <td>57.0</td>\n",
       "      <td>0.0</td>\n",
       "      <td>ANDROID</td>\n",
       "      <td>SMARTPHONE</td>\n",
       "      <td>Россия</td>\n",
       "      <td>Москва</td>\n",
       "      <td>55-64</td>\n",
       "      <td>20-25</td>\n",
       "      <td>13-24</td>\n",
       "      <td>10</td>\n",
       "      <td>cторонник</td>\n",
       "    </tr>\n",
       "    <tr>\n",
       "      <th>3</th>\n",
       "      <td>A004TB</td>\n",
       "      <td>4190</td>\n",
       "      <td>0</td>\n",
       "      <td>44.0</td>\n",
       "      <td>1.0</td>\n",
       "      <td>IOS</td>\n",
       "      <td>SMARTPHONE</td>\n",
       "      <td>Россия</td>\n",
       "      <td>РостовнаДону</td>\n",
       "      <td>35-44</td>\n",
       "      <td>0.1-1</td>\n",
       "      <td>36+</td>\n",
       "      <td>10</td>\n",
       "      <td>cторонник</td>\n",
       "    </tr>\n",
       "    <tr>\n",
       "      <th>4</th>\n",
       "      <td>A004XT</td>\n",
       "      <td>1163</td>\n",
       "      <td>0</td>\n",
       "      <td>24.0</td>\n",
       "      <td>0.0</td>\n",
       "      <td>ANDROID</td>\n",
       "      <td>SMARTPHONE</td>\n",
       "      <td>Россия</td>\n",
       "      <td>Рязань</td>\n",
       "      <td>16-24</td>\n",
       "      <td>5-10</td>\n",
       "      <td>36+</td>\n",
       "      <td>10</td>\n",
       "      <td>cторонник</td>\n",
       "    </tr>\n",
       "    <tr>\n",
       "      <th>5</th>\n",
       "      <td>A005O0</td>\n",
       "      <td>5501</td>\n",
       "      <td>0</td>\n",
       "      <td>42.0</td>\n",
       "      <td>1.0</td>\n",
       "      <td>ANDROID</td>\n",
       "      <td>SMARTPHONE</td>\n",
       "      <td>Россия</td>\n",
       "      <td>Омск</td>\n",
       "      <td>35-44</td>\n",
       "      <td>5-10</td>\n",
       "      <td>36+</td>\n",
       "      <td>6</td>\n",
       "      <td>критики</td>\n",
       "    </tr>\n",
       "    <tr>\n",
       "      <th>6</th>\n",
       "      <td>A0061R</td>\n",
       "      <td>1236</td>\n",
       "      <td>0</td>\n",
       "      <td>45.0</td>\n",
       "      <td>0.0</td>\n",
       "      <td>ANDROID</td>\n",
       "      <td>SMARTPHONE</td>\n",
       "      <td>Россия</td>\n",
       "      <td>Уфа</td>\n",
       "      <td>45-54</td>\n",
       "      <td>10-15</td>\n",
       "      <td>36+</td>\n",
       "      <td>10</td>\n",
       "      <td>cторонник</td>\n",
       "    </tr>\n",
       "    <tr>\n",
       "      <th>7</th>\n",
       "      <td>A009KS</td>\n",
       "      <td>313</td>\n",
       "      <td>1</td>\n",
       "      <td>35.0</td>\n",
       "      <td>0.0</td>\n",
       "      <td>ANDROID</td>\n",
       "      <td>SMARTPHONE</td>\n",
       "      <td>Россия</td>\n",
       "      <td>Москва</td>\n",
       "      <td>35-44</td>\n",
       "      <td>45-50</td>\n",
       "      <td>7-12</td>\n",
       "      <td>10</td>\n",
       "      <td>cторонник</td>\n",
       "    </tr>\n",
       "    <tr>\n",
       "      <th>8</th>\n",
       "      <td>A00AES</td>\n",
       "      <td>3238</td>\n",
       "      <td>0</td>\n",
       "      <td>36.0</td>\n",
       "      <td>1.0</td>\n",
       "      <td>ANDROID</td>\n",
       "      <td>SMARTPHONE</td>\n",
       "      <td>Россия</td>\n",
       "      <td>СанктПетербург</td>\n",
       "      <td>35-44</td>\n",
       "      <td>1-5</td>\n",
       "      <td>36+</td>\n",
       "      <td>10</td>\n",
       "      <td>cторонник</td>\n",
       "    </tr>\n",
       "    <tr>\n",
       "      <th>9</th>\n",
       "      <td>A00F70</td>\n",
       "      <td>4479</td>\n",
       "      <td>0</td>\n",
       "      <td>54.0</td>\n",
       "      <td>1.0</td>\n",
       "      <td>ANDROID</td>\n",
       "      <td>SMARTPHONE</td>\n",
       "      <td>Россия</td>\n",
       "      <td>Волгоград</td>\n",
       "      <td>45-54</td>\n",
       "      <td>15-20</td>\n",
       "      <td>36+</td>\n",
       "      <td>9</td>\n",
       "      <td>cторонник</td>\n",
       "    </tr>\n",
       "  </tbody>\n",
       "</table>\n",
       "</div>"
      ],
      "text/plain": [
       "  user_id  lt_day is_new   age gender_segment  os_name cpe_type_name country  \\\n",
       "0  A001A2    2320      0  45.0            1.0  ANDROID    SMARTPHONE  Россия   \n",
       "1  A001WF    2344      0  53.0            0.0  ANDROID    SMARTPHONE  Россия   \n",
       "2  A003Q7     467      0  57.0            0.0  ANDROID    SMARTPHONE  Россия   \n",
       "3  A004TB    4190      0  44.0            1.0      IOS    SMARTPHONE  Россия   \n",
       "4  A004XT    1163      0  24.0            0.0  ANDROID    SMARTPHONE  Россия   \n",
       "5  A005O0    5501      0  42.0            1.0  ANDROID    SMARTPHONE  Россия   \n",
       "6  A0061R    1236      0  45.0            0.0  ANDROID    SMARTPHONE  Россия   \n",
       "7  A009KS     313      1  35.0            0.0  ANDROID    SMARTPHONE  Россия   \n",
       "8  A00AES    3238      0  36.0            1.0  ANDROID    SMARTPHONE  Россия   \n",
       "9  A00F70    4479      0  54.0            1.0  ANDROID    SMARTPHONE  Россия   \n",
       "\n",
       "             city age_segment traffic_segment lifetime_segment  nps_score  \\\n",
       "0             Уфа       45-54             1-5              36+         10   \n",
       "1           Киров       45-54             1-5              36+         10   \n",
       "2          Москва       55-64           20-25            13-24         10   \n",
       "3    РостовнаДону       35-44           0.1-1              36+         10   \n",
       "4          Рязань       16-24            5-10              36+         10   \n",
       "5            Омск       35-44            5-10              36+          6   \n",
       "6             Уфа       45-54           10-15              36+         10   \n",
       "7          Москва       35-44           45-50             7-12         10   \n",
       "8  СанктПетербург       35-44             1-5              36+         10   \n",
       "9       Волгоград       45-54           15-20              36+          9   \n",
       "\n",
       "   nps_group  \n",
       "0  cторонник  \n",
       "1  cторонник  \n",
       "2  cторонник  \n",
       "3  cторонник  \n",
       "4  cторонник  \n",
       "5    критики  \n",
       "6  cторонник  \n",
       "7  cторонник  \n",
       "8  cторонник  \n",
       "9  cторонник  "
      ]
     },
     "execution_count": 5,
     "metadata": {},
     "output_type": "execute_result"
    }
   ],
   "source": [
    "df.head(10)"
   ]
  },
  {
   "cell_type": "code",
   "execution_count": 6,
   "id": "1a97bdc3",
   "metadata": {
    "scrolled": true
   },
   "outputs": [
    {
     "name": "stdout",
     "output_type": "stream",
     "text": [
      "<class 'pandas.core.frame.DataFrame'>\n",
      "RangeIndex: 502493 entries, 0 to 502492\n",
      "Data columns (total 14 columns):\n",
      " #   Column            Non-Null Count   Dtype  \n",
      "---  ------            --------------   -----  \n",
      " 0   user_id           502493 non-null  object \n",
      " 1   lt_day            502493 non-null  int64  \n",
      " 2   is_new            502493 non-null  object \n",
      " 3   age               501939 non-null  float64\n",
      " 4   gender_segment    501192 non-null  object \n",
      " 5   os_name           502493 non-null  object \n",
      " 6   cpe_type_name     502493 non-null  object \n",
      " 7   country           502493 non-null  object \n",
      " 8   city              502493 non-null  object \n",
      " 9   age_segment       502493 non-null  object \n",
      " 10  traffic_segment   502493 non-null  object \n",
      " 11  lifetime_segment  502493 non-null  object \n",
      " 12  nps_score         502493 non-null  int64  \n",
      " 13  nps_group         502493 non-null  object \n",
      "dtypes: float64(1), int64(2), object(11)\n",
      "memory usage: 53.7+ MB\n"
     ]
    }
   ],
   "source": [
    "#Выводим общую информацию по датафрейму df\n",
    "df.info()"
   ]
  },
  {
   "cell_type": "markdown",
   "id": "1cc701f0",
   "metadata": {},
   "source": [
    "Видим, что почти во всех атрибутах содержатся категориальные данные, поэтому и графики на дашбордах в основном будут представлять собой количество пользователей в различных группах, например, в зависимости от возраста, длительности использования сервиса и т.д."
   ]
  },
  {
   "cell_type": "code",
   "execution_count": 7,
   "id": "d2f1cabf",
   "metadata": {},
   "outputs": [],
   "source": [
    "df.to_csv('telecomm_csi_tableau.csv', index=False)"
   ]
  },
  {
   "cell_type": "markdown",
   "id": "01dad72c",
   "metadata": {},
   "source": [
    "### Укажите ссылку на дашборд на сайте Tableau Public:"
   ]
  },
  {
   "cell_type": "markdown",
   "id": "c27e80e0",
   "metadata": {},
   "source": [
    "https://public.tableau.com/app/profile/daniil4791/viz/NPS_16483651084650/NPS_1?publish=yes"
   ]
  },
  {
   "cell_type": "markdown",
   "id": "46f6b044",
   "metadata": {},
   "source": [
    "### Укажите ссылку на pdf-файл с презентацией:"
   ]
  },
  {
   "cell_type": "markdown",
   "id": "41301448",
   "metadata": {},
   "source": [
    "https://drive.google.com/file/d/1q8VxePirauZFF5qKSf9RoB8d4hRIpZrX/view?usp=sharing"
   ]
  }
 ],
 "metadata": {
  "ExecuteTimeLog": [
   {
    "duration": 752,
    "start_time": "2021-10-03T17:40:52.731Z"
   },
   {
    "duration": 20,
    "start_time": "2021-10-03T17:40:53.486Z"
   },
   {
    "duration": 4,
    "start_time": "2021-10-03T17:41:04.638Z"
   },
   {
    "duration": 461,
    "start_time": "2021-10-03T17:41:04.912Z"
   },
   {
    "duration": 284,
    "start_time": "2021-10-03T17:41:05.376Z"
   },
   {
    "duration": 574,
    "start_time": "2021-10-06T07:55:05.029Z"
   },
   {
    "duration": 6,
    "start_time": "2021-10-06T07:55:05.605Z"
   },
   {
    "duration": 3,
    "start_time": "2021-10-06T07:55:14.685Z"
   },
   {
    "duration": 406,
    "start_time": "2021-10-06T07:55:15.522Z"
   },
   {
    "duration": 67,
    "start_time": "2021-10-06T07:55:15.929Z"
   },
   {
    "duration": 840,
    "start_time": "2021-10-07T07:54:04.647Z"
   },
   {
    "duration": 10,
    "start_time": "2021-10-07T07:54:05.490Z"
   },
   {
    "duration": 4,
    "start_time": "2021-10-07T07:54:05.544Z"
   },
   {
    "duration": 391,
    "start_time": "2021-10-07T07:54:06.237Z"
   },
   {
    "duration": 293,
    "start_time": "2021-10-07T07:54:06.654Z"
   },
   {
    "duration": 50,
    "start_time": "2022-03-22T15:57:51.491Z"
   },
   {
    "duration": 539,
    "start_time": "2022-03-22T15:58:01.054Z"
   },
   {
    "duration": 10,
    "start_time": "2022-03-22T15:58:01.595Z"
   },
   {
    "duration": 3,
    "start_time": "2022-03-22T15:58:01.606Z"
   },
   {
    "duration": 546,
    "start_time": "2022-03-22T15:58:01.610Z"
   },
   {
    "duration": 560,
    "start_time": "2022-03-22T15:58:02.159Z"
   },
   {
    "duration": 10,
    "start_time": "2022-03-22T15:58:07.107Z"
   },
   {
    "duration": 10,
    "start_time": "2022-03-22T16:00:12.781Z"
   },
   {
    "duration": 656,
    "start_time": "2022-03-23T02:51:23.769Z"
   },
   {
    "duration": 42,
    "start_time": "2022-03-23T02:51:24.428Z"
   },
   {
    "duration": 4,
    "start_time": "2022-03-23T02:51:24.472Z"
   },
   {
    "duration": 244,
    "start_time": "2022-03-23T02:51:24.479Z"
   },
   {
    "duration": 4,
    "start_time": "2022-03-23T03:43:28.379Z"
   },
   {
    "duration": 4,
    "start_time": "2022-03-23T03:43:29.589Z"
   },
   {
    "duration": 4,
    "start_time": "2022-03-23T03:43:30.825Z"
   },
   {
    "duration": 342,
    "start_time": "2022-03-23T03:43:34.926Z"
   },
   {
    "duration": 4,
    "start_time": "2022-03-23T03:44:06.807Z"
   },
   {
    "duration": 202,
    "start_time": "2022-03-23T03:44:07.319Z"
   },
   {
    "duration": 4,
    "start_time": "2022-03-23T03:53:26.064Z"
   },
   {
    "duration": 296,
    "start_time": "2022-03-23T03:53:26.618Z"
   },
   {
    "duration": 4,
    "start_time": "2022-03-23T03:53:42.223Z"
   },
   {
    "duration": 294,
    "start_time": "2022-03-23T03:53:43.013Z"
   },
   {
    "duration": 5,
    "start_time": "2022-03-23T03:54:37.856Z"
   },
   {
    "duration": 291,
    "start_time": "2022-03-23T03:54:38.609Z"
   },
   {
    "duration": 4,
    "start_time": "2022-03-23T03:55:16.130Z"
   },
   {
    "duration": 299,
    "start_time": "2022-03-23T03:55:16.672Z"
   },
   {
    "duration": 3,
    "start_time": "2022-03-23T04:00:53.212Z"
   },
   {
    "duration": 311,
    "start_time": "2022-03-23T04:00:53.683Z"
   },
   {
    "duration": 4,
    "start_time": "2022-03-23T04:02:03.450Z"
   },
   {
    "duration": 7519,
    "start_time": "2022-03-23T04:02:03.930Z"
   },
   {
    "duration": 5,
    "start_time": "2022-03-23T04:03:39.003Z"
   },
   {
    "duration": 6500,
    "start_time": "2022-03-23T04:03:39.410Z"
   },
   {
    "duration": 30,
    "start_time": "2022-03-23T04:23:00.414Z"
   },
   {
    "duration": 570,
    "start_time": "2022-03-23T04:24:20.481Z"
   },
   {
    "duration": 41,
    "start_time": "2022-03-23T04:25:13.905Z"
   },
   {
    "duration": 92,
    "start_time": "2022-03-23T04:27:50.870Z"
   },
   {
    "duration": 2414,
    "start_time": "2022-03-23T04:49:02.285Z"
   },
   {
    "duration": 690,
    "start_time": "2022-03-23T04:49:16.543Z"
   },
   {
    "duration": 755,
    "start_time": "2022-03-23T04:49:51.933Z"
   },
   {
    "duration": 26,
    "start_time": "2022-03-23T04:49:58.965Z"
   },
   {
    "duration": 55,
    "start_time": "2022-03-23T04:50:04.835Z"
   },
   {
    "duration": 70,
    "start_time": "2022-03-23T04:51:01.778Z"
   },
   {
    "duration": 54,
    "start_time": "2022-03-23T04:51:19.848Z"
   },
   {
    "duration": 54,
    "start_time": "2022-03-23T04:51:28.177Z"
   },
   {
    "duration": 50,
    "start_time": "2022-03-23T04:52:00.986Z"
   },
   {
    "duration": 6657,
    "start_time": "2022-03-23T04:52:13.179Z"
   },
   {
    "duration": 87,
    "start_time": "2022-03-23T04:58:20.922Z"
   },
   {
    "duration": 38,
    "start_time": "2022-03-23T04:58:48.937Z"
   },
   {
    "duration": 90,
    "start_time": "2022-03-23T04:58:57.700Z"
   },
   {
    "duration": 2399,
    "start_time": "2022-03-23T04:59:27.889Z"
   },
   {
    "duration": 6708,
    "start_time": "2022-03-23T04:59:47.926Z"
   },
   {
    "duration": 37,
    "start_time": "2022-03-23T04:59:54.636Z"
   },
   {
    "duration": 539,
    "start_time": "2022-03-23T05:00:03.557Z"
   },
   {
    "duration": 527,
    "start_time": "2022-03-23T05:00:13.629Z"
   },
   {
    "duration": 56,
    "start_time": "2022-03-23T05:00:25.393Z"
   },
   {
    "duration": 529,
    "start_time": "2022-03-23T05:00:31.395Z"
   },
   {
    "duration": 110,
    "start_time": "2022-03-23T05:01:25.083Z"
   },
   {
    "duration": 558,
    "start_time": "2022-03-23T05:01:42.299Z"
   },
   {
    "duration": 92,
    "start_time": "2022-03-23T05:02:23.047Z"
   },
   {
    "duration": 5,
    "start_time": "2022-03-23T05:18:02.721Z"
   },
   {
    "duration": 8,
    "start_time": "2022-03-23T05:18:02.728Z"
   },
   {
    "duration": 6,
    "start_time": "2022-03-23T05:18:02.739Z"
   },
   {
    "duration": 6472,
    "start_time": "2022-03-23T05:18:02.748Z"
   },
   {
    "duration": 25,
    "start_time": "2022-03-23T05:18:09.223Z"
   },
   {
    "duration": 549,
    "start_time": "2022-03-23T05:18:09.250Z"
   },
   {
    "duration": 71,
    "start_time": "2022-03-23T05:43:18.558Z"
   },
   {
    "duration": 628,
    "start_time": "2022-03-23T05:43:27.525Z"
   },
   {
    "duration": 17,
    "start_time": "2022-03-23T05:43:28.156Z"
   },
   {
    "duration": 5,
    "start_time": "2022-03-23T05:43:28.175Z"
   },
   {
    "duration": 6775,
    "start_time": "2022-03-23T05:43:28.182Z"
   },
   {
    "duration": 38,
    "start_time": "2022-03-23T05:43:34.960Z"
   },
   {
    "duration": 156,
    "start_time": "2022-03-23T05:43:35.000Z"
   },
   {
    "duration": 626,
    "start_time": "2022-03-23T05:43:35.159Z"
   },
   {
    "duration": 167,
    "start_time": "2022-03-23T05:43:51.572Z"
   },
   {
    "duration": 144,
    "start_time": "2022-03-23T05:44:15.230Z"
   },
   {
    "duration": 145,
    "start_time": "2022-03-23T05:45:00.330Z"
   },
   {
    "duration": 136,
    "start_time": "2022-03-23T05:46:29.876Z"
   },
   {
    "duration": 639,
    "start_time": "2022-03-24T03:44:56.861Z"
   },
   {
    "duration": 27,
    "start_time": "2022-03-24T03:44:57.503Z"
   },
   {
    "duration": 5,
    "start_time": "2022-03-24T03:44:57.532Z"
   },
   {
    "duration": 9350,
    "start_time": "2022-03-24T03:44:57.539Z"
   },
   {
    "duration": 33,
    "start_time": "2022-03-24T03:45:06.893Z"
   },
   {
    "duration": 153,
    "start_time": "2022-03-24T03:45:06.929Z"
   },
   {
    "duration": 631,
    "start_time": "2022-03-24T03:45:07.084Z"
   },
   {
    "duration": 5366,
    "start_time": "2022-03-24T03:45:58.452Z"
   },
   {
    "duration": 1161,
    "start_time": "2022-03-24T03:55:40.789Z"
   },
   {
    "duration": 701,
    "start_time": "2022-03-24T05:53:41.658Z"
   },
   {
    "duration": 278,
    "start_time": "2022-03-24T05:53:42.362Z"
   },
   {
    "duration": 3,
    "start_time": "2022-03-24T05:53:42.642Z"
   },
   {
    "duration": 5327,
    "start_time": "2022-03-24T05:53:42.647Z"
   },
   {
    "duration": 31,
    "start_time": "2022-03-24T05:53:47.977Z"
   },
   {
    "duration": 542,
    "start_time": "2022-03-24T05:53:48.010Z"
   },
   {
    "duration": 619,
    "start_time": "2022-03-24T05:54:34.413Z"
   },
   {
    "duration": 135,
    "start_time": "2022-03-24T05:55:24.132Z"
   },
   {
    "duration": 681,
    "start_time": "2022-03-24T05:55:27.767Z"
   },
   {
    "duration": 9,
    "start_time": "2022-03-24T05:58:08.867Z"
   },
   {
    "duration": 305,
    "start_time": "2022-03-24T05:59:44.322Z"
   },
   {
    "duration": 7,
    "start_time": "2022-03-24T05:59:59.507Z"
   },
   {
    "duration": 15,
    "start_time": "2022-03-24T06:00:20.446Z"
   },
   {
    "duration": 9,
    "start_time": "2022-03-24T06:01:27.038Z"
   },
   {
    "duration": 9,
    "start_time": "2022-03-24T06:01:44.479Z"
   },
   {
    "duration": 9,
    "start_time": "2022-03-24T06:01:55.724Z"
   },
   {
    "duration": 9,
    "start_time": "2022-03-24T06:01:58.885Z"
   },
   {
    "duration": 512,
    "start_time": "2022-03-25T01:49:55.754Z"
   },
   {
    "duration": 9,
    "start_time": "2022-03-25T01:49:56.268Z"
   },
   {
    "duration": 3,
    "start_time": "2022-03-25T01:49:56.278Z"
   },
   {
    "duration": 4896,
    "start_time": "2022-03-25T01:49:56.283Z"
   },
   {
    "duration": 22,
    "start_time": "2022-03-25T01:50:01.181Z"
   },
   {
    "duration": 540,
    "start_time": "2022-03-25T01:50:01.204Z"
   },
   {
    "duration": 3164,
    "start_time": "2022-03-25T01:50:35.142Z"
   },
   {
    "duration": 653,
    "start_time": "2022-03-26T12:40:25.956Z"
   },
   {
    "duration": 25,
    "start_time": "2022-03-26T12:40:26.611Z"
   },
   {
    "duration": 5,
    "start_time": "2022-03-26T12:40:26.638Z"
   },
   {
    "duration": 11383,
    "start_time": "2022-03-26T12:40:26.646Z"
   },
   {
    "duration": 49,
    "start_time": "2022-03-26T12:40:38.031Z"
   },
   {
    "duration": 600,
    "start_time": "2022-03-26T12:40:38.083Z"
   },
   {
    "duration": 141,
    "start_time": "2022-03-26T12:42:21.428Z"
   },
   {
    "duration": 534,
    "start_time": "2022-03-31T05:33:00.224Z"
   },
   {
    "duration": 8,
    "start_time": "2022-03-31T05:33:00.760Z"
   },
   {
    "duration": 31,
    "start_time": "2022-03-31T05:33:00.770Z"
   },
   {
    "duration": 4680,
    "start_time": "2022-03-31T05:33:00.803Z"
   },
   {
    "duration": 21,
    "start_time": "2022-03-31T05:33:05.485Z"
   },
   {
    "duration": 506,
    "start_time": "2022-03-31T05:33:05.508Z"
   },
   {
    "duration": 3164,
    "start_time": "2022-03-31T05:33:06.015Z"
   },
   {
    "duration": 467,
    "start_time": "2022-03-31T15:48:52.190Z"
   },
   {
    "duration": 9,
    "start_time": "2022-03-31T15:48:52.659Z"
   },
   {
    "duration": 4,
    "start_time": "2022-03-31T15:48:52.669Z"
   },
   {
    "duration": 4994,
    "start_time": "2022-03-31T15:48:52.674Z"
   },
   {
    "duration": 22,
    "start_time": "2022-03-31T15:48:57.670Z"
   },
   {
    "duration": 3,
    "start_time": "2022-03-31T16:04:35.388Z"
   },
   {
    "duration": 4762,
    "start_time": "2022-03-31T16:04:37.368Z"
   },
   {
    "duration": 19,
    "start_time": "2022-03-31T16:04:45.006Z"
   },
   {
    "duration": 675,
    "start_time": "2022-04-01T03:55:34.666Z"
   },
   {
    "duration": 13,
    "start_time": "2022-04-01T03:55:35.343Z"
   },
   {
    "duration": 4,
    "start_time": "2022-04-01T03:55:35.358Z"
   },
   {
    "duration": 6611,
    "start_time": "2022-04-01T03:55:35.375Z"
   },
   {
    "duration": 35,
    "start_time": "2022-04-01T03:55:41.988Z"
   },
   {
    "duration": 650,
    "start_time": "2022-04-01T03:55:42.025Z"
   },
   {
    "duration": 5079,
    "start_time": "2022-04-01T03:55:42.677Z"
   },
   {
    "duration": 512,
    "start_time": "2022-04-01T04:23:52.669Z"
   },
   {
    "duration": 9,
    "start_time": "2022-04-01T04:23:53.183Z"
   },
   {
    "duration": 3,
    "start_time": "2022-04-01T04:23:53.194Z"
   },
   {
    "duration": 5172,
    "start_time": "2022-04-01T04:23:53.199Z"
   },
   {
    "duration": 24,
    "start_time": "2022-04-01T04:23:58.373Z"
   },
   {
    "duration": 596,
    "start_time": "2022-04-01T04:24:09.838Z"
   },
   {
    "duration": 4,
    "start_time": "2022-04-01T04:25:06.161Z"
   },
   {
    "duration": 132,
    "start_time": "2022-04-01T04:25:10.463Z"
   },
   {
    "duration": 60,
    "start_time": "2022-04-01T04:25:26.355Z"
   }
  ],
  "kernelspec": {
   "display_name": "Python 3",
   "language": "python",
   "name": "python3"
  },
  "language_info": {
   "codemirror_mode": {
    "name": "ipython",
    "version": 3
   },
   "file_extension": ".py",
   "mimetype": "text/x-python",
   "name": "python",
   "nbconvert_exporter": "python",
   "pygments_lexer": "ipython3",
   "version": "3.8.8"
  },
  "toc": {
   "base_numbering": 1,
   "nav_menu": {},
   "number_sections": true,
   "sideBar": true,
   "skip_h1_title": true,
   "title_cell": "Table of Contents",
   "title_sidebar": "Contents",
   "toc_cell": false,
   "toc_position": {},
   "toc_section_display": true,
   "toc_window_display": false
  }
 },
 "nbformat": 4,
 "nbformat_minor": 5
}
