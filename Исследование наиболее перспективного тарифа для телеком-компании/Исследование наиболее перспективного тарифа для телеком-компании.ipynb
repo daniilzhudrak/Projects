{
 "cells": [
  {
   "cell_type": "markdown",
   "id": "f4b26488",
   "metadata": {},
   "source": [
    "# Определение перспективного тарифа для телеком-компании"
   ]
  },
  {
   "cell_type": "markdown",
   "id": "896807ee",
   "metadata": {},
   "source": [
    "## Цель исследования"
   ]
  },
  {
   "cell_type": "markdown",
   "id": "ea99a1d1",
   "metadata": {},
   "source": [
    "В компании \"Мегалайн\" существует 2 тарифа:\n",
    "\n",
    "Тариф «Смарт»:\n",
    "\n",
    "- Ежемесячная плата: 550 рублей\n",
    "\n",
    "- Включено 500 минут разговора, 50 сообщений и 15 Гб интернет-трафика\n",
    "\n",
    "Стоимость услуг сверх тарифного пакета:\n",
    "\n",
    "- минута разговора: 3 рубля\n",
    "\n",
    "- сообщение: 3 рубля\n",
    "\n",
    "- 1 Гб интернет-трафика: 200 рублей\n",
    "\n",
    "Тариф «Ультра»\n",
    "\n",
    "- Ежемесячная плата: 1950 рублей\n",
    "\n",
    "- Включено 3000 минут разговора, 1000 сообщений и 30 Гб интернет-трафика\n",
    "\n",
    "Стоимость услуг сверх тарифного пакета:\n",
    "\n",
    "- минута разговора: 1 рубль\n",
    "\n",
    "- сообщение: 1 рубль\n",
    "\n",
    "- 1 Гб интернет-трафика: 150 рублей\n",
    "\n",
    "Главная цель исследования - определить, какой из тарифов приносит больше выручки с пользователей, чтобы выгодно перераспределить рекламный бюджет.\n",
    "\n",
    "Данное исследование будет состоять из следующих этапов:\n",
    "\n",
    "1. Обработка данных в датафреймах.\n",
    "\n",
    "2. Подготовка данных для каждого пользователя за каждый месяц: количество потраченных минут, количество отправленных, количество потраченного интернет-трафика.\n",
    "\n",
    "3. Подсчет выручки за каждого пользователя за каждый месяц.\n",
    "\n",
    "4. Анализ статистик каждой услуги (звонки, сообщения, интернет).\n",
    "\n",
    "5. Проверка гипотез.\n",
    "\n",
    "6. Вывод."
   ]
  },
  {
   "cell_type": "markdown",
   "id": "47ac8732",
   "metadata": {},
   "source": [
    "## Обработка данных в датафреймах"
   ]
  },
  {
   "cell_type": "markdown",
   "id": "717f94e6",
   "metadata": {},
   "source": [
    "Импортируем необходимые библиотеки."
   ]
  },
  {
   "cell_type": "code",
   "execution_count": 1,
   "id": "586fbbf0",
   "metadata": {},
   "outputs": [],
   "source": [
    "# Импорт необходимых библиотек\n",
    "import pandas as pd\n",
    "import numpy as np\n",
    "import math\n",
    "from datetime import datetime\n",
    "from matplotlib import pyplot as plt\n",
    "from scipy import stats as st"
   ]
  },
  {
   "cell_type": "markdown",
   "id": "ff7083f6",
   "metadata": {},
   "source": [
    "Откроем датафреймы с помощью метода `read_csv('')` и запишем их в переменные."
   ]
  },
  {
   "cell_type": "code",
   "execution_count": 2,
   "id": "e7beab08",
   "metadata": {},
   "outputs": [],
   "source": [
    "try:\n",
    "    calls = pd.read_csv('calls.csv')\n",
    "    internet = pd.read_csv('internet.csv')\n",
    "    messages = pd.read_csv('messages.csv')\n",
    "    tariffs = pd.read_csv('tariffs.csv')\n",
    "    users = pd.read_csv('users.csv')\n",
    "except:\n",
    "    calls = pd.read_csv('/datasets/calls.csv')\n",
    "    internet = pd.read_csv('/datasets/internet.csv')\n",
    "    messages = pd.read_csv('/datasets/messages.csv')\n",
    "    tariffs = pd.read_csv('/datasets/tariffs.csv')\n",
    "    users = pd.read_csv('/datasets/users.csv')"
   ]
  },
  {
   "cell_type": "markdown",
   "id": "2b5120d4",
   "metadata": {},
   "source": [
    "В данном пункте исследования выполним следующие действия:\n",
    "\n",
    "- Перечислим описание атрибутов из вводных данных к проекту.\n",
    "\n",
    "- Откроем датафрейм с помощью метода `head()` и сравним атрибуты с описанием к проекту.\n",
    "\n",
    "- Проанализируем датафрейм с помощью метода `info()` на предмет соответствия типов данных и наличия пропусков."
   ]
  },
  {
   "cell_type": "markdown",
   "id": "1f1bca1c",
   "metadata": {},
   "source": [
    "### Обработка данных в датафрейме calls"
   ]
  },
  {
   "cell_type": "markdown",
   "id": "0472210c",
   "metadata": {},
   "source": [
    "Таблица `calls` (информация о звонках) содержит:\n",
    "\n",
    "- `id` - уникальный номер звонка\n",
    "\n",
    "- `call_date` - дата звонка\n",
    "\n",
    "- `duration` - длительность звонка в минутах\n",
    "\n",
    "- `user_id` - идентификатор пользователя, сделавшего звонок"
   ]
  },
  {
   "cell_type": "code",
   "execution_count": 3,
   "id": "e3c34401",
   "metadata": {
    "scrolled": true
   },
   "outputs": [
    {
     "data": {
      "text/html": [
       "<div>\n",
       "<style scoped>\n",
       "    .dataframe tbody tr th:only-of-type {\n",
       "        vertical-align: middle;\n",
       "    }\n",
       "\n",
       "    .dataframe tbody tr th {\n",
       "        vertical-align: top;\n",
       "    }\n",
       "\n",
       "    .dataframe thead th {\n",
       "        text-align: right;\n",
       "    }\n",
       "</style>\n",
       "<table border=\"1\" class=\"dataframe\">\n",
       "  <thead>\n",
       "    <tr style=\"text-align: right;\">\n",
       "      <th></th>\n",
       "      <th>id</th>\n",
       "      <th>call_date</th>\n",
       "      <th>duration</th>\n",
       "      <th>user_id</th>\n",
       "    </tr>\n",
       "  </thead>\n",
       "  <tbody>\n",
       "    <tr>\n",
       "      <th>0</th>\n",
       "      <td>1000_0</td>\n",
       "      <td>2018-07-25</td>\n",
       "      <td>0.00</td>\n",
       "      <td>1000</td>\n",
       "    </tr>\n",
       "    <tr>\n",
       "      <th>1</th>\n",
       "      <td>1000_1</td>\n",
       "      <td>2018-08-17</td>\n",
       "      <td>0.00</td>\n",
       "      <td>1000</td>\n",
       "    </tr>\n",
       "    <tr>\n",
       "      <th>2</th>\n",
       "      <td>1000_2</td>\n",
       "      <td>2018-06-11</td>\n",
       "      <td>2.85</td>\n",
       "      <td>1000</td>\n",
       "    </tr>\n",
       "    <tr>\n",
       "      <th>3</th>\n",
       "      <td>1000_3</td>\n",
       "      <td>2018-09-21</td>\n",
       "      <td>13.80</td>\n",
       "      <td>1000</td>\n",
       "    </tr>\n",
       "    <tr>\n",
       "      <th>4</th>\n",
       "      <td>1000_4</td>\n",
       "      <td>2018-12-15</td>\n",
       "      <td>5.18</td>\n",
       "      <td>1000</td>\n",
       "    </tr>\n",
       "  </tbody>\n",
       "</table>\n",
       "</div>"
      ],
      "text/plain": [
       "       id   call_date  duration  user_id\n",
       "0  1000_0  2018-07-25      0.00     1000\n",
       "1  1000_1  2018-08-17      0.00     1000\n",
       "2  1000_2  2018-06-11      2.85     1000\n",
       "3  1000_3  2018-09-21     13.80     1000\n",
       "4  1000_4  2018-12-15      5.18     1000"
      ]
     },
     "execution_count": 3,
     "metadata": {},
     "output_type": "execute_result"
    }
   ],
   "source": [
    "#  Первые 5 строк датафрейма calls\n",
    "calls.head()"
   ]
  },
  {
   "cell_type": "markdown",
   "id": "51a6875d",
   "metadata": {},
   "source": [
    "В столбце `duration` длительность звонка указана вплоть до секунд. В описании к заданию сказано, что «Мегалайн» всегда округляет секунды до минут. Поэтому исправим этот нюанс в столбце `duration`, округлив значения до минут в большую сторону."
   ]
  },
  {
   "cell_type": "code",
   "execution_count": 4,
   "id": "813fb513",
   "metadata": {},
   "outputs": [],
   "source": [
    "# Округление секунд до минут\n",
    "calls['duration'] = np.ceil(calls['duration'])"
   ]
  },
  {
   "cell_type": "code",
   "execution_count": 5,
   "id": "e0bbd878",
   "metadata": {
    "scrolled": false
   },
   "outputs": [
    {
     "name": "stdout",
     "output_type": "stream",
     "text": [
      "<class 'pandas.core.frame.DataFrame'>\n",
      "RangeIndex: 202607 entries, 0 to 202606\n",
      "Data columns (total 4 columns):\n",
      " #   Column     Non-Null Count   Dtype  \n",
      "---  ------     --------------   -----  \n",
      " 0   id         202607 non-null  object \n",
      " 1   call_date  202607 non-null  object \n",
      " 2   duration   202607 non-null  float64\n",
      " 3   user_id    202607 non-null  int64  \n",
      "dtypes: float64(1), int64(1), object(2)\n",
      "memory usage: 6.2+ MB\n"
     ]
    }
   ],
   "source": [
    "# Вывод информациии по датафрейму calls\n",
    "calls.info()"
   ]
  },
  {
   "cell_type": "markdown",
   "id": "bb5d044e",
   "metadata": {},
   "source": [
    "Изменим тип данных столбца `call_date` с `object` на `datetime`."
   ]
  },
  {
   "cell_type": "code",
   "execution_count": 6,
   "id": "8d9147cd",
   "metadata": {},
   "outputs": [],
   "source": [
    "# Изменение типа данных на datetime\n",
    "calls['call_date'] = pd.to_datetime(calls['call_date'])"
   ]
  },
  {
   "cell_type": "markdown",
   "id": "3f5a1218",
   "metadata": {},
   "source": [
    "Пропусков в датафрейме `calls` нет. Проверим датафрейм на дубликаты."
   ]
  },
  {
   "cell_type": "code",
   "execution_count": 7,
   "id": "7642292a",
   "metadata": {},
   "outputs": [
    {
     "data": {
      "text/plain": [
       "0"
      ]
     },
     "execution_count": 7,
     "metadata": {},
     "output_type": "execute_result"
    }
   ],
   "source": [
    "# Проверка на дубликаты\n",
    "calls.duplicated().sum()"
   ]
  },
  {
   "cell_type": "markdown",
   "id": "0867d532",
   "metadata": {},
   "source": [
    "### Обработка данных в датафрейме internet"
   ]
  },
  {
   "cell_type": "markdown",
   "id": "4204d42f",
   "metadata": {},
   "source": [
    "Таблица `internet` (информация об интернет-сессиях) содержит:\n",
    "\n",
    "- `id` - уникальный номер сессии\n",
    "\n",
    "- `md_used` - объем потраченного за сессию интернет-трафика (в мегабайтах)\n",
    "\n",
    "- `session_date` - дата интернет-сессии\n",
    "\n",
    "- `user_id` - идентификатор пользователя"
   ]
  },
  {
   "cell_type": "code",
   "execution_count": 8,
   "id": "26ff51e8",
   "metadata": {
    "scrolled": false
   },
   "outputs": [
    {
     "data": {
      "text/html": [
       "<div>\n",
       "<style scoped>\n",
       "    .dataframe tbody tr th:only-of-type {\n",
       "        vertical-align: middle;\n",
       "    }\n",
       "\n",
       "    .dataframe tbody tr th {\n",
       "        vertical-align: top;\n",
       "    }\n",
       "\n",
       "    .dataframe thead th {\n",
       "        text-align: right;\n",
       "    }\n",
       "</style>\n",
       "<table border=\"1\" class=\"dataframe\">\n",
       "  <thead>\n",
       "    <tr style=\"text-align: right;\">\n",
       "      <th></th>\n",
       "      <th>Unnamed: 0</th>\n",
       "      <th>id</th>\n",
       "      <th>mb_used</th>\n",
       "      <th>session_date</th>\n",
       "      <th>user_id</th>\n",
       "    </tr>\n",
       "  </thead>\n",
       "  <tbody>\n",
       "    <tr>\n",
       "      <th>0</th>\n",
       "      <td>0</td>\n",
       "      <td>1000_0</td>\n",
       "      <td>112.95</td>\n",
       "      <td>2018-11-25</td>\n",
       "      <td>1000</td>\n",
       "    </tr>\n",
       "    <tr>\n",
       "      <th>1</th>\n",
       "      <td>1</td>\n",
       "      <td>1000_1</td>\n",
       "      <td>1052.81</td>\n",
       "      <td>2018-09-07</td>\n",
       "      <td>1000</td>\n",
       "    </tr>\n",
       "    <tr>\n",
       "      <th>2</th>\n",
       "      <td>2</td>\n",
       "      <td>1000_2</td>\n",
       "      <td>1197.26</td>\n",
       "      <td>2018-06-25</td>\n",
       "      <td>1000</td>\n",
       "    </tr>\n",
       "    <tr>\n",
       "      <th>3</th>\n",
       "      <td>3</td>\n",
       "      <td>1000_3</td>\n",
       "      <td>550.27</td>\n",
       "      <td>2018-08-22</td>\n",
       "      <td>1000</td>\n",
       "    </tr>\n",
       "    <tr>\n",
       "      <th>4</th>\n",
       "      <td>4</td>\n",
       "      <td>1000_4</td>\n",
       "      <td>302.56</td>\n",
       "      <td>2018-09-24</td>\n",
       "      <td>1000</td>\n",
       "    </tr>\n",
       "  </tbody>\n",
       "</table>\n",
       "</div>"
      ],
      "text/plain": [
       "   Unnamed: 0      id  mb_used session_date  user_id\n",
       "0           0  1000_0   112.95   2018-11-25     1000\n",
       "1           1  1000_1  1052.81   2018-09-07     1000\n",
       "2           2  1000_2  1197.26   2018-06-25     1000\n",
       "3           3  1000_3   550.27   2018-08-22     1000\n",
       "4           4  1000_4   302.56   2018-09-24     1000"
      ]
     },
     "execution_count": 8,
     "metadata": {},
     "output_type": "execute_result"
    }
   ],
   "source": [
    "# Первые 5 строк датафрейма internet\n",
    "internet.head()"
   ]
  },
  {
   "cell_type": "markdown",
   "id": "aefcff7c",
   "metadata": {},
   "source": [
    "В датафрейме есть лишний столбец `Unnamed: 0`. Этот атрибут является дублем индекса, поэтому уберем его из датафрейма."
   ]
  },
  {
   "cell_type": "code",
   "execution_count": 9,
   "id": "4d0279c5",
   "metadata": {},
   "outputs": [],
   "source": [
    "# Оставляем только нужные атрибуты\n",
    "internet = internet[['id', 'mb_used', 'session_date', 'user_id']]"
   ]
  },
  {
   "cell_type": "code",
   "execution_count": 10,
   "id": "e746d109",
   "metadata": {
    "scrolled": false
   },
   "outputs": [
    {
     "data": {
      "text/html": [
       "<div>\n",
       "<style scoped>\n",
       "    .dataframe tbody tr th:only-of-type {\n",
       "        vertical-align: middle;\n",
       "    }\n",
       "\n",
       "    .dataframe tbody tr th {\n",
       "        vertical-align: top;\n",
       "    }\n",
       "\n",
       "    .dataframe thead th {\n",
       "        text-align: right;\n",
       "    }\n",
       "</style>\n",
       "<table border=\"1\" class=\"dataframe\">\n",
       "  <thead>\n",
       "    <tr style=\"text-align: right;\">\n",
       "      <th></th>\n",
       "      <th>id</th>\n",
       "      <th>mb_used</th>\n",
       "      <th>session_date</th>\n",
       "      <th>user_id</th>\n",
       "    </tr>\n",
       "  </thead>\n",
       "  <tbody>\n",
       "    <tr>\n",
       "      <th>0</th>\n",
       "      <td>1000_0</td>\n",
       "      <td>112.95</td>\n",
       "      <td>2018-11-25</td>\n",
       "      <td>1000</td>\n",
       "    </tr>\n",
       "    <tr>\n",
       "      <th>1</th>\n",
       "      <td>1000_1</td>\n",
       "      <td>1052.81</td>\n",
       "      <td>2018-09-07</td>\n",
       "      <td>1000</td>\n",
       "    </tr>\n",
       "    <tr>\n",
       "      <th>2</th>\n",
       "      <td>1000_2</td>\n",
       "      <td>1197.26</td>\n",
       "      <td>2018-06-25</td>\n",
       "      <td>1000</td>\n",
       "    </tr>\n",
       "    <tr>\n",
       "      <th>3</th>\n",
       "      <td>1000_3</td>\n",
       "      <td>550.27</td>\n",
       "      <td>2018-08-22</td>\n",
       "      <td>1000</td>\n",
       "    </tr>\n",
       "    <tr>\n",
       "      <th>4</th>\n",
       "      <td>1000_4</td>\n",
       "      <td>302.56</td>\n",
       "      <td>2018-09-24</td>\n",
       "      <td>1000</td>\n",
       "    </tr>\n",
       "  </tbody>\n",
       "</table>\n",
       "</div>"
      ],
      "text/plain": [
       "       id  mb_used session_date  user_id\n",
       "0  1000_0   112.95   2018-11-25     1000\n",
       "1  1000_1  1052.81   2018-09-07     1000\n",
       "2  1000_2  1197.26   2018-06-25     1000\n",
       "3  1000_3   550.27   2018-08-22     1000\n",
       "4  1000_4   302.56   2018-09-24     1000"
      ]
     },
     "execution_count": 10,
     "metadata": {},
     "output_type": "execute_result"
    }
   ],
   "source": [
    "# Первые 5 строк датафрейма internet\n",
    "internet.head()"
   ]
  },
  {
   "cell_type": "code",
   "execution_count": 11,
   "id": "c64971bc",
   "metadata": {
    "scrolled": true
   },
   "outputs": [
    {
     "name": "stdout",
     "output_type": "stream",
     "text": [
      "<class 'pandas.core.frame.DataFrame'>\n",
      "RangeIndex: 149396 entries, 0 to 149395\n",
      "Data columns (total 4 columns):\n",
      " #   Column        Non-Null Count   Dtype  \n",
      "---  ------        --------------   -----  \n",
      " 0   id            149396 non-null  object \n",
      " 1   mb_used       149396 non-null  float64\n",
      " 2   session_date  149396 non-null  object \n",
      " 3   user_id       149396 non-null  int64  \n",
      "dtypes: float64(1), int64(1), object(2)\n",
      "memory usage: 4.6+ MB\n"
     ]
    }
   ],
   "source": [
    "# Вывод информации по датафрейму internet\n",
    "internet.info()"
   ]
  },
  {
   "cell_type": "markdown",
   "id": "1da1dda5",
   "metadata": {},
   "source": [
    "Изменим тип данных атрибута `session_date` с `object` на `datetime`."
   ]
  },
  {
   "cell_type": "code",
   "execution_count": 12,
   "id": "4f20d76e",
   "metadata": {},
   "outputs": [],
   "source": [
    "# Изменение типа данных на datetime\n",
    "internet['session_date'] = pd.to_datetime(internet['session_date'])"
   ]
  },
  {
   "cell_type": "code",
   "execution_count": 13,
   "id": "1397f4db",
   "metadata": {},
   "outputs": [
    {
     "data": {
      "text/plain": [
       "0"
      ]
     },
     "execution_count": 13,
     "metadata": {},
     "output_type": "execute_result"
    }
   ],
   "source": [
    "# Проверка на дубликаты\n",
    "internet.duplicated().sum()"
   ]
  },
  {
   "cell_type": "markdown",
   "id": "07ad346d",
   "metadata": {},
   "source": [
    "### Обработка данных в датафрейме messages"
   ]
  },
  {
   "cell_type": "markdown",
   "id": "707f43fd",
   "metadata": {},
   "source": [
    "Таблица `messages` (информация о сообщениях) содержит:\n",
    "\n",
    "- id - никальный номер сообщения\n",
    "\n",
    "- message_date - дата сообщения\n",
    "\n",
    "- user_id - идентификатор пользователя, отправившего сообщение"
   ]
  },
  {
   "cell_type": "code",
   "execution_count": 14,
   "id": "133dd566",
   "metadata": {
    "scrolled": true
   },
   "outputs": [
    {
     "data": {
      "text/html": [
       "<div>\n",
       "<style scoped>\n",
       "    .dataframe tbody tr th:only-of-type {\n",
       "        vertical-align: middle;\n",
       "    }\n",
       "\n",
       "    .dataframe tbody tr th {\n",
       "        vertical-align: top;\n",
       "    }\n",
       "\n",
       "    .dataframe thead th {\n",
       "        text-align: right;\n",
       "    }\n",
       "</style>\n",
       "<table border=\"1\" class=\"dataframe\">\n",
       "  <thead>\n",
       "    <tr style=\"text-align: right;\">\n",
       "      <th></th>\n",
       "      <th>id</th>\n",
       "      <th>message_date</th>\n",
       "      <th>user_id</th>\n",
       "    </tr>\n",
       "  </thead>\n",
       "  <tbody>\n",
       "    <tr>\n",
       "      <th>0</th>\n",
       "      <td>1000_0</td>\n",
       "      <td>2018-06-27</td>\n",
       "      <td>1000</td>\n",
       "    </tr>\n",
       "    <tr>\n",
       "      <th>1</th>\n",
       "      <td>1000_1</td>\n",
       "      <td>2018-10-08</td>\n",
       "      <td>1000</td>\n",
       "    </tr>\n",
       "    <tr>\n",
       "      <th>2</th>\n",
       "      <td>1000_2</td>\n",
       "      <td>2018-08-04</td>\n",
       "      <td>1000</td>\n",
       "    </tr>\n",
       "    <tr>\n",
       "      <th>3</th>\n",
       "      <td>1000_3</td>\n",
       "      <td>2018-06-16</td>\n",
       "      <td>1000</td>\n",
       "    </tr>\n",
       "    <tr>\n",
       "      <th>4</th>\n",
       "      <td>1000_4</td>\n",
       "      <td>2018-12-05</td>\n",
       "      <td>1000</td>\n",
       "    </tr>\n",
       "  </tbody>\n",
       "</table>\n",
       "</div>"
      ],
      "text/plain": [
       "       id message_date  user_id\n",
       "0  1000_0   2018-06-27     1000\n",
       "1  1000_1   2018-10-08     1000\n",
       "2  1000_2   2018-08-04     1000\n",
       "3  1000_3   2018-06-16     1000\n",
       "4  1000_4   2018-12-05     1000"
      ]
     },
     "execution_count": 14,
     "metadata": {},
     "output_type": "execute_result"
    }
   ],
   "source": [
    "# Первые 5 строк датафрейма messages\n",
    "messages.head()"
   ]
  },
  {
   "cell_type": "code",
   "execution_count": 15,
   "id": "b5bb7672",
   "metadata": {
    "scrolled": false
   },
   "outputs": [
    {
     "name": "stdout",
     "output_type": "stream",
     "text": [
      "<class 'pandas.core.frame.DataFrame'>\n",
      "RangeIndex: 123036 entries, 0 to 123035\n",
      "Data columns (total 3 columns):\n",
      " #   Column        Non-Null Count   Dtype \n",
      "---  ------        --------------   ----- \n",
      " 0   id            123036 non-null  object\n",
      " 1   message_date  123036 non-null  object\n",
      " 2   user_id       123036 non-null  int64 \n",
      "dtypes: int64(1), object(2)\n",
      "memory usage: 2.8+ MB\n"
     ]
    }
   ],
   "source": [
    "# Вывод информации по датафрейму messages\n",
    "messages.info()"
   ]
  },
  {
   "cell_type": "code",
   "execution_count": 16,
   "id": "57698d20",
   "metadata": {},
   "outputs": [],
   "source": [
    "# Изменение типа данных на datetime\n",
    "messages['message_date'] = pd.to_datetime(messages['message_date'])"
   ]
  },
  {
   "cell_type": "code",
   "execution_count": 17,
   "id": "cca39dda",
   "metadata": {},
   "outputs": [
    {
     "data": {
      "text/plain": [
       "0"
      ]
     },
     "execution_count": 17,
     "metadata": {},
     "output_type": "execute_result"
    }
   ],
   "source": [
    "# Проверка на дубликаты\n",
    "messages.duplicated().sum()"
   ]
  },
  {
   "cell_type": "markdown",
   "id": "a8da2f4a",
   "metadata": {},
   "source": [
    "### Обработка данных в датафрейме tariffs"
   ]
  },
  {
   "cell_type": "markdown",
   "id": "c2b786d0",
   "metadata": {},
   "source": [
    "Таблица `tariffs` (информация о тарифах) содержит:\n",
    "\n",
    "- `tariff_name` - название тарифа\n",
    "\n",
    "- `rub_monthly_fee` - ежемесячная абонентская плата в рублях\n",
    "\n",
    "- `minutes_included` - количество минут разговора в месяц, включенных в абонентскую плату\n",
    "\n",
    "- `messages_included` - количество сообщений в месяц, включенных в абонентскую плату\n",
    "\n",
    "- `mb_per_month_included` -  объем интернет-трафика, включенного в абонентскую плату\n",
    "\n",
    "- `rub_per_minute` - стоимость минуты разговора сверх тарифного пакета\n",
    "\n",
    "- `rub_per_message` - стоимость отправки сообщения сверх тарифного пакета\n",
    "\n",
    "- `rub_per_gb` - стоимость дополнительного гигабайта интернет-трафика сверх тарифного пакета"
   ]
  },
  {
   "cell_type": "code",
   "execution_count": 18,
   "id": "b9239adb",
   "metadata": {
    "scrolled": false
   },
   "outputs": [
    {
     "data": {
      "text/html": [
       "<div>\n",
       "<style scoped>\n",
       "    .dataframe tbody tr th:only-of-type {\n",
       "        vertical-align: middle;\n",
       "    }\n",
       "\n",
       "    .dataframe tbody tr th {\n",
       "        vertical-align: top;\n",
       "    }\n",
       "\n",
       "    .dataframe thead th {\n",
       "        text-align: right;\n",
       "    }\n",
       "</style>\n",
       "<table border=\"1\" class=\"dataframe\">\n",
       "  <thead>\n",
       "    <tr style=\"text-align: right;\">\n",
       "      <th></th>\n",
       "      <th>messages_included</th>\n",
       "      <th>mb_per_month_included</th>\n",
       "      <th>minutes_included</th>\n",
       "      <th>rub_monthly_fee</th>\n",
       "      <th>rub_per_gb</th>\n",
       "      <th>rub_per_message</th>\n",
       "      <th>rub_per_minute</th>\n",
       "      <th>tariff_name</th>\n",
       "    </tr>\n",
       "  </thead>\n",
       "  <tbody>\n",
       "    <tr>\n",
       "      <th>0</th>\n",
       "      <td>50</td>\n",
       "      <td>15360</td>\n",
       "      <td>500</td>\n",
       "      <td>550</td>\n",
       "      <td>200</td>\n",
       "      <td>3</td>\n",
       "      <td>3</td>\n",
       "      <td>smart</td>\n",
       "    </tr>\n",
       "    <tr>\n",
       "      <th>1</th>\n",
       "      <td>1000</td>\n",
       "      <td>30720</td>\n",
       "      <td>3000</td>\n",
       "      <td>1950</td>\n",
       "      <td>150</td>\n",
       "      <td>1</td>\n",
       "      <td>1</td>\n",
       "      <td>ultra</td>\n",
       "    </tr>\n",
       "  </tbody>\n",
       "</table>\n",
       "</div>"
      ],
      "text/plain": [
       "   messages_included  mb_per_month_included  minutes_included  \\\n",
       "0                 50                  15360               500   \n",
       "1               1000                  30720              3000   \n",
       "\n",
       "   rub_monthly_fee  rub_per_gb  rub_per_message  rub_per_minute tariff_name  \n",
       "0              550         200                3               3       smart  \n",
       "1             1950         150                1               1       ultra  "
      ]
     },
     "execution_count": 18,
     "metadata": {},
     "output_type": "execute_result"
    }
   ],
   "source": [
    "# Первые 5 строк датафрейма tariffs\n",
    "tariffs.head()"
   ]
  },
  {
   "cell_type": "code",
   "execution_count": 19,
   "id": "cf7ef4b7",
   "metadata": {
    "scrolled": false
   },
   "outputs": [
    {
     "name": "stdout",
     "output_type": "stream",
     "text": [
      "<class 'pandas.core.frame.DataFrame'>\n",
      "RangeIndex: 2 entries, 0 to 1\n",
      "Data columns (total 8 columns):\n",
      " #   Column                 Non-Null Count  Dtype \n",
      "---  ------                 --------------  ----- \n",
      " 0   messages_included      2 non-null      int64 \n",
      " 1   mb_per_month_included  2 non-null      int64 \n",
      " 2   minutes_included       2 non-null      int64 \n",
      " 3   rub_monthly_fee        2 non-null      int64 \n",
      " 4   rub_per_gb             2 non-null      int64 \n",
      " 5   rub_per_message        2 non-null      int64 \n",
      " 6   rub_per_minute         2 non-null      int64 \n",
      " 7   tariff_name            2 non-null      object\n",
      "dtypes: int64(7), object(1)\n",
      "memory usage: 256.0+ bytes\n"
     ]
    }
   ],
   "source": [
    "# Вывод информации по датафрейму tariffs\n",
    "tariffs.info()"
   ]
  },
  {
   "cell_type": "markdown",
   "id": "c1d9cf27",
   "metadata": {},
   "source": [
    "### Обработка данных в датафрейме users"
   ]
  },
  {
   "cell_type": "markdown",
   "id": "e36e277f",
   "metadata": {},
   "source": [
    "Таблица `users` (информация о пользователях) содержит:\n",
    "\n",
    "- `user_id` - уникальный идентификатор пользователя\n",
    "\n",
    "- `first_name` - имя пользовтеля\n",
    "\n",
    "- `last_name` - фамилия пользователя\n",
    "\n",
    "- `age` - возраст пользователя(годы)\n",
    "\n",
    "- `reg_date` - дата подключения тарифа (день, месяц, год)\n",
    "\n",
    "- `churn_date` - дата прекращения пользования тарифом (если значение пропущено, то тариф еще действовал на момент выгрузки данных)\n",
    "\n",
    "- `city` - город проживания пользователя\n",
    "\n",
    "- `tariff` - название тарифного плана"
   ]
  },
  {
   "cell_type": "code",
   "execution_count": 20,
   "id": "fa693cde",
   "metadata": {
    "scrolled": false
   },
   "outputs": [
    {
     "data": {
      "text/html": [
       "<div>\n",
       "<style scoped>\n",
       "    .dataframe tbody tr th:only-of-type {\n",
       "        vertical-align: middle;\n",
       "    }\n",
       "\n",
       "    .dataframe tbody tr th {\n",
       "        vertical-align: top;\n",
       "    }\n",
       "\n",
       "    .dataframe thead th {\n",
       "        text-align: right;\n",
       "    }\n",
       "</style>\n",
       "<table border=\"1\" class=\"dataframe\">\n",
       "  <thead>\n",
       "    <tr style=\"text-align: right;\">\n",
       "      <th></th>\n",
       "      <th>user_id</th>\n",
       "      <th>age</th>\n",
       "      <th>churn_date</th>\n",
       "      <th>city</th>\n",
       "      <th>first_name</th>\n",
       "      <th>last_name</th>\n",
       "      <th>reg_date</th>\n",
       "      <th>tariff</th>\n",
       "    </tr>\n",
       "  </thead>\n",
       "  <tbody>\n",
       "    <tr>\n",
       "      <th>0</th>\n",
       "      <td>1000</td>\n",
       "      <td>52</td>\n",
       "      <td>NaN</td>\n",
       "      <td>Краснодар</td>\n",
       "      <td>Рафаил</td>\n",
       "      <td>Верещагин</td>\n",
       "      <td>2018-05-25</td>\n",
       "      <td>ultra</td>\n",
       "    </tr>\n",
       "    <tr>\n",
       "      <th>1</th>\n",
       "      <td>1001</td>\n",
       "      <td>41</td>\n",
       "      <td>NaN</td>\n",
       "      <td>Москва</td>\n",
       "      <td>Иван</td>\n",
       "      <td>Ежов</td>\n",
       "      <td>2018-11-01</td>\n",
       "      <td>smart</td>\n",
       "    </tr>\n",
       "    <tr>\n",
       "      <th>2</th>\n",
       "      <td>1002</td>\n",
       "      <td>59</td>\n",
       "      <td>NaN</td>\n",
       "      <td>Стерлитамак</td>\n",
       "      <td>Евгений</td>\n",
       "      <td>Абрамович</td>\n",
       "      <td>2018-06-17</td>\n",
       "      <td>smart</td>\n",
       "    </tr>\n",
       "    <tr>\n",
       "      <th>3</th>\n",
       "      <td>1003</td>\n",
       "      <td>23</td>\n",
       "      <td>NaN</td>\n",
       "      <td>Москва</td>\n",
       "      <td>Белла</td>\n",
       "      <td>Белякова</td>\n",
       "      <td>2018-08-17</td>\n",
       "      <td>ultra</td>\n",
       "    </tr>\n",
       "    <tr>\n",
       "      <th>4</th>\n",
       "      <td>1004</td>\n",
       "      <td>68</td>\n",
       "      <td>NaN</td>\n",
       "      <td>Новокузнецк</td>\n",
       "      <td>Татьяна</td>\n",
       "      <td>Авдеенко</td>\n",
       "      <td>2018-05-14</td>\n",
       "      <td>ultra</td>\n",
       "    </tr>\n",
       "  </tbody>\n",
       "</table>\n",
       "</div>"
      ],
      "text/plain": [
       "   user_id  age churn_date         city first_name  last_name    reg_date  \\\n",
       "0     1000   52        NaN    Краснодар     Рафаил  Верещагин  2018-05-25   \n",
       "1     1001   41        NaN       Москва       Иван       Ежов  2018-11-01   \n",
       "2     1002   59        NaN  Стерлитамак    Евгений  Абрамович  2018-06-17   \n",
       "3     1003   23        NaN       Москва      Белла   Белякова  2018-08-17   \n",
       "4     1004   68        NaN  Новокузнецк    Татьяна   Авдеенко  2018-05-14   \n",
       "\n",
       "  tariff  \n",
       "0  ultra  \n",
       "1  smart  \n",
       "2  smart  \n",
       "3  ultra  \n",
       "4  ultra  "
      ]
     },
     "execution_count": 20,
     "metadata": {},
     "output_type": "execute_result"
    }
   ],
   "source": [
    "# Первые 5 строк датафрейма users\n",
    "users.head()"
   ]
  },
  {
   "cell_type": "code",
   "execution_count": 21,
   "id": "fe589e27",
   "metadata": {
    "scrolled": true
   },
   "outputs": [
    {
     "name": "stdout",
     "output_type": "stream",
     "text": [
      "<class 'pandas.core.frame.DataFrame'>\n",
      "RangeIndex: 500 entries, 0 to 499\n",
      "Data columns (total 8 columns):\n",
      " #   Column      Non-Null Count  Dtype \n",
      "---  ------      --------------  ----- \n",
      " 0   user_id     500 non-null    int64 \n",
      " 1   age         500 non-null    int64 \n",
      " 2   churn_date  38 non-null     object\n",
      " 3   city        500 non-null    object\n",
      " 4   first_name  500 non-null    object\n",
      " 5   last_name   500 non-null    object\n",
      " 6   reg_date    500 non-null    object\n",
      " 7   tariff      500 non-null    object\n",
      "dtypes: int64(2), object(6)\n",
      "memory usage: 31.4+ KB\n"
     ]
    }
   ],
   "source": [
    "# Вывод информациии по датафрейму tariffs\n",
    "users.info()"
   ]
  },
  {
   "cell_type": "code",
   "execution_count": 22,
   "id": "a72285de",
   "metadata": {},
   "outputs": [],
   "source": [
    "# Изменение типа данных на datetime\n",
    "users['reg_date'] = pd.to_datetime(users['reg_date'])"
   ]
  },
  {
   "cell_type": "code",
   "execution_count": 23,
   "id": "3e06638d",
   "metadata": {
    "scrolled": true
   },
   "outputs": [
    {
     "data": {
      "text/plain": [
       "0"
      ]
     },
     "execution_count": 23,
     "metadata": {},
     "output_type": "execute_result"
    }
   ],
   "source": [
    "# Проверка на дубликаты\n",
    "users.duplicated().sum()"
   ]
  },
  {
   "cell_type": "markdown",
   "id": "61a7851b",
   "metadata": {},
   "source": [
    "## Подготовка данных по каждому пользователю за каждый месяц"
   ]
  },
  {
   "cell_type": "markdown",
   "id": "878a9796",
   "metadata": {},
   "source": [
    "В данном пункте исследования посчитаем следующие метрики для каждого пользователя:\n",
    "\n",
    "- Количество израсходованных минут разговора за каждый месяц.\n",
    "\n",
    "- Количество сделанных звонков за каждый месяц.\n",
    "\n",
    "- Количество отправленных сообщений за каждый месяц.\n",
    "\n",
    "- Объем израсходованного интернет-трафика за каждый месяц.\n",
    "\n",
    "- Выручку за каждый месяц.\n",
    "\n",
    "Количественные метрики будем считать с помощью сводных таблиц, в которых в качестве индексов будем использовать идентификаторы пользователей, а в качестве столбцов номер месяца. Данные во всех датафреймах представлены только за 2018 год, поэтому путаница с номерами месяцев за разные года не возникнет.\n",
    "\n",
    "Помесячную выручку посчитаем следующим образом:\n",
    "\n",
    "1. Вычтем бесплатный лимит из суммарного количества звонков, сообщений и интернет-трафика. Так мы найдем перелимит.\n",
    "\n",
    "2. Этот перелимит умножим на соответствующую оплату за дополнительные минуту разговора, сообщения или 1 Гб интернет-трафика.\n",
    "\n",
    "3. Прибавим абонентскую плату, соответствующую тарифному плану пользователя."
   ]
  },
  {
   "cell_type": "markdown",
   "id": "e634df60",
   "metadata": {},
   "source": [
    "### Количество израсходованных минут разговора для каждого пользователя за каждый месяц"
   ]
  },
  {
   "cell_type": "markdown",
   "id": "c091c5c7",
   "metadata": {},
   "source": [
    "Выделим номер месяца из атрибута `call_date` с помощью метода `month` из модуля `dt`."
   ]
  },
  {
   "cell_type": "code",
   "execution_count": 24,
   "id": "b10645e5",
   "metadata": {},
   "outputs": [],
   "source": [
    "# Номер месяца из атрибута call_date\n",
    "calls['call_month'] = calls['call_date'].dt.month"
   ]
  },
  {
   "cell_type": "code",
   "execution_count": 25,
   "id": "895ab7a0",
   "metadata": {},
   "outputs": [
    {
     "data": {
      "text/html": [
       "<div>\n",
       "<style scoped>\n",
       "    .dataframe tbody tr th:only-of-type {\n",
       "        vertical-align: middle;\n",
       "    }\n",
       "\n",
       "    .dataframe tbody tr th {\n",
       "        vertical-align: top;\n",
       "    }\n",
       "\n",
       "    .dataframe thead th {\n",
       "        text-align: right;\n",
       "    }\n",
       "</style>\n",
       "<table border=\"1\" class=\"dataframe\">\n",
       "  <thead>\n",
       "    <tr style=\"text-align: right;\">\n",
       "      <th></th>\n",
       "      <th>id</th>\n",
       "      <th>call_date</th>\n",
       "      <th>duration</th>\n",
       "      <th>user_id</th>\n",
       "      <th>call_month</th>\n",
       "    </tr>\n",
       "  </thead>\n",
       "  <tbody>\n",
       "    <tr>\n",
       "      <th>0</th>\n",
       "      <td>1000_0</td>\n",
       "      <td>2018-07-25</td>\n",
       "      <td>0.0</td>\n",
       "      <td>1000</td>\n",
       "      <td>7</td>\n",
       "    </tr>\n",
       "    <tr>\n",
       "      <th>1</th>\n",
       "      <td>1000_1</td>\n",
       "      <td>2018-08-17</td>\n",
       "      <td>0.0</td>\n",
       "      <td>1000</td>\n",
       "      <td>8</td>\n",
       "    </tr>\n",
       "    <tr>\n",
       "      <th>2</th>\n",
       "      <td>1000_2</td>\n",
       "      <td>2018-06-11</td>\n",
       "      <td>3.0</td>\n",
       "      <td>1000</td>\n",
       "      <td>6</td>\n",
       "    </tr>\n",
       "    <tr>\n",
       "      <th>3</th>\n",
       "      <td>1000_3</td>\n",
       "      <td>2018-09-21</td>\n",
       "      <td>14.0</td>\n",
       "      <td>1000</td>\n",
       "      <td>9</td>\n",
       "    </tr>\n",
       "    <tr>\n",
       "      <th>4</th>\n",
       "      <td>1000_4</td>\n",
       "      <td>2018-12-15</td>\n",
       "      <td>6.0</td>\n",
       "      <td>1000</td>\n",
       "      <td>12</td>\n",
       "    </tr>\n",
       "  </tbody>\n",
       "</table>\n",
       "</div>"
      ],
      "text/plain": [
       "       id  call_date  duration  user_id  call_month\n",
       "0  1000_0 2018-07-25       0.0     1000           7\n",
       "1  1000_1 2018-08-17       0.0     1000           8\n",
       "2  1000_2 2018-06-11       3.0     1000           6\n",
       "3  1000_3 2018-09-21      14.0     1000           9\n",
       "4  1000_4 2018-12-15       6.0     1000          12"
      ]
     },
     "execution_count": 25,
     "metadata": {},
     "output_type": "execute_result"
    }
   ],
   "source": [
    "# Проверим корректность создания столбца call_month\n",
    "calls.head()"
   ]
  },
  {
   "cell_type": "code",
   "execution_count": 26,
   "id": "efc30c98",
   "metadata": {
    "scrolled": true
   },
   "outputs": [],
   "source": [
    "# Создание сводной таблицы длительности звонков для каждого пользователя помесячно\n",
    "calls_duration_by_users = calls.pivot_table(index = 'user_id',\n",
    "                                            columns = 'call_month',\n",
    "                                            values = 'duration',\n",
    "                                            aggfunc = 'sum')"
   ]
  },
  {
   "cell_type": "code",
   "execution_count": 27,
   "id": "05974b50",
   "metadata": {
    "scrolled": false
   },
   "outputs": [
    {
     "data": {
      "text/html": [
       "<div>\n",
       "<style scoped>\n",
       "    .dataframe tbody tr th:only-of-type {\n",
       "        vertical-align: middle;\n",
       "    }\n",
       "\n",
       "    .dataframe tbody tr th {\n",
       "        vertical-align: top;\n",
       "    }\n",
       "\n",
       "    .dataframe thead th {\n",
       "        text-align: right;\n",
       "    }\n",
       "</style>\n",
       "<table border=\"1\" class=\"dataframe\">\n",
       "  <thead>\n",
       "    <tr style=\"text-align: right;\">\n",
       "      <th>call_month</th>\n",
       "      <th>1</th>\n",
       "      <th>2</th>\n",
       "      <th>3</th>\n",
       "      <th>4</th>\n",
       "      <th>5</th>\n",
       "      <th>6</th>\n",
       "      <th>7</th>\n",
       "      <th>8</th>\n",
       "      <th>9</th>\n",
       "      <th>10</th>\n",
       "      <th>11</th>\n",
       "      <th>12</th>\n",
       "    </tr>\n",
       "    <tr>\n",
       "      <th>user_id</th>\n",
       "      <th></th>\n",
       "      <th></th>\n",
       "      <th></th>\n",
       "      <th></th>\n",
       "      <th></th>\n",
       "      <th></th>\n",
       "      <th></th>\n",
       "      <th></th>\n",
       "      <th></th>\n",
       "      <th></th>\n",
       "      <th></th>\n",
       "      <th></th>\n",
       "    </tr>\n",
       "  </thead>\n",
       "  <tbody>\n",
       "    <tr>\n",
       "      <th>1000</th>\n",
       "      <td>NaN</td>\n",
       "      <td>NaN</td>\n",
       "      <td>NaN</td>\n",
       "      <td>NaN</td>\n",
       "      <td>159.0</td>\n",
       "      <td>172.0</td>\n",
       "      <td>340.0</td>\n",
       "      <td>408.0</td>\n",
       "      <td>466.0</td>\n",
       "      <td>350.0</td>\n",
       "      <td>338.0</td>\n",
       "      <td>333.0</td>\n",
       "    </tr>\n",
       "    <tr>\n",
       "      <th>1001</th>\n",
       "      <td>NaN</td>\n",
       "      <td>NaN</td>\n",
       "      <td>NaN</td>\n",
       "      <td>NaN</td>\n",
       "      <td>NaN</td>\n",
       "      <td>NaN</td>\n",
       "      <td>NaN</td>\n",
       "      <td>NaN</td>\n",
       "      <td>NaN</td>\n",
       "      <td>NaN</td>\n",
       "      <td>430.0</td>\n",
       "      <td>414.0</td>\n",
       "    </tr>\n",
       "    <tr>\n",
       "      <th>1002</th>\n",
       "      <td>NaN</td>\n",
       "      <td>NaN</td>\n",
       "      <td>NaN</td>\n",
       "      <td>NaN</td>\n",
       "      <td>NaN</td>\n",
       "      <td>117.0</td>\n",
       "      <td>214.0</td>\n",
       "      <td>289.0</td>\n",
       "      <td>206.0</td>\n",
       "      <td>212.0</td>\n",
       "      <td>243.0</td>\n",
       "      <td>236.0</td>\n",
       "    </tr>\n",
       "    <tr>\n",
       "      <th>1003</th>\n",
       "      <td>NaN</td>\n",
       "      <td>NaN</td>\n",
       "      <td>NaN</td>\n",
       "      <td>NaN</td>\n",
       "      <td>NaN</td>\n",
       "      <td>NaN</td>\n",
       "      <td>NaN</td>\n",
       "      <td>380.0</td>\n",
       "      <td>961.0</td>\n",
       "      <td>855.0</td>\n",
       "      <td>824.0</td>\n",
       "      <td>802.0</td>\n",
       "    </tr>\n",
       "    <tr>\n",
       "      <th>1004</th>\n",
       "      <td>NaN</td>\n",
       "      <td>NaN</td>\n",
       "      <td>NaN</td>\n",
       "      <td>NaN</td>\n",
       "      <td>35.0</td>\n",
       "      <td>171.0</td>\n",
       "      <td>135.0</td>\n",
       "      <td>137.0</td>\n",
       "      <td>117.0</td>\n",
       "      <td>145.0</td>\n",
       "      <td>117.0</td>\n",
       "      <td>130.0</td>\n",
       "    </tr>\n",
       "    <tr>\n",
       "      <th>...</th>\n",
       "      <td>...</td>\n",
       "      <td>...</td>\n",
       "      <td>...</td>\n",
       "      <td>...</td>\n",
       "      <td>...</td>\n",
       "      <td>...</td>\n",
       "      <td>...</td>\n",
       "      <td>...</td>\n",
       "      <td>...</td>\n",
       "      <td>...</td>\n",
       "      <td>...</td>\n",
       "      <td>...</td>\n",
       "    </tr>\n",
       "    <tr>\n",
       "      <th>1495</th>\n",
       "      <td>NaN</td>\n",
       "      <td>NaN</td>\n",
       "      <td>NaN</td>\n",
       "      <td>NaN</td>\n",
       "      <td>NaN</td>\n",
       "      <td>NaN</td>\n",
       "      <td>NaN</td>\n",
       "      <td>92.0</td>\n",
       "      <td>813.0</td>\n",
       "      <td>1030.0</td>\n",
       "      <td>954.0</td>\n",
       "      <td>1031.0</td>\n",
       "    </tr>\n",
       "    <tr>\n",
       "      <th>1496</th>\n",
       "      <td>48.0</td>\n",
       "      <td>594.0</td>\n",
       "      <td>557.0</td>\n",
       "      <td>521.0</td>\n",
       "      <td>484.0</td>\n",
       "      <td>555.0</td>\n",
       "      <td>582.0</td>\n",
       "      <td>527.0</td>\n",
       "      <td>486.0</td>\n",
       "      <td>450.0</td>\n",
       "      <td>662.0</td>\n",
       "      <td>518.0</td>\n",
       "    </tr>\n",
       "    <tr>\n",
       "      <th>1497</th>\n",
       "      <td>NaN</td>\n",
       "      <td>NaN</td>\n",
       "      <td>NaN</td>\n",
       "      <td>NaN</td>\n",
       "      <td>NaN</td>\n",
       "      <td>NaN</td>\n",
       "      <td>NaN</td>\n",
       "      <td>NaN</td>\n",
       "      <td>NaN</td>\n",
       "      <td>490.0</td>\n",
       "      <td>371.0</td>\n",
       "      <td>545.0</td>\n",
       "    </tr>\n",
       "    <tr>\n",
       "      <th>1498</th>\n",
       "      <td>NaN</td>\n",
       "      <td>NaN</td>\n",
       "      <td>NaN</td>\n",
       "      <td>NaN</td>\n",
       "      <td>NaN</td>\n",
       "      <td>NaN</td>\n",
       "      <td>175.0</td>\n",
       "      <td>400.0</td>\n",
       "      <td>471.0</td>\n",
       "      <td>247.0</td>\n",
       "      <td>NaN</td>\n",
       "      <td>NaN</td>\n",
       "    </tr>\n",
       "    <tr>\n",
       "      <th>1499</th>\n",
       "      <td>NaN</td>\n",
       "      <td>NaN</td>\n",
       "      <td>NaN</td>\n",
       "      <td>NaN</td>\n",
       "      <td>NaN</td>\n",
       "      <td>NaN</td>\n",
       "      <td>NaN</td>\n",
       "      <td>NaN</td>\n",
       "      <td>70.0</td>\n",
       "      <td>449.0</td>\n",
       "      <td>612.0</td>\n",
       "      <td>492.0</td>\n",
       "    </tr>\n",
       "  </tbody>\n",
       "</table>\n",
       "<p>492 rows × 12 columns</p>\n",
       "</div>"
      ],
      "text/plain": [
       "call_month    1      2      3      4      5      6      7      8      9   \\\n",
       "user_id                                                                    \n",
       "1000         NaN    NaN    NaN    NaN  159.0  172.0  340.0  408.0  466.0   \n",
       "1001         NaN    NaN    NaN    NaN    NaN    NaN    NaN    NaN    NaN   \n",
       "1002         NaN    NaN    NaN    NaN    NaN  117.0  214.0  289.0  206.0   \n",
       "1003         NaN    NaN    NaN    NaN    NaN    NaN    NaN  380.0  961.0   \n",
       "1004         NaN    NaN    NaN    NaN   35.0  171.0  135.0  137.0  117.0   \n",
       "...          ...    ...    ...    ...    ...    ...    ...    ...    ...   \n",
       "1495         NaN    NaN    NaN    NaN    NaN    NaN    NaN   92.0  813.0   \n",
       "1496        48.0  594.0  557.0  521.0  484.0  555.0  582.0  527.0  486.0   \n",
       "1497         NaN    NaN    NaN    NaN    NaN    NaN    NaN    NaN    NaN   \n",
       "1498         NaN    NaN    NaN    NaN    NaN    NaN  175.0  400.0  471.0   \n",
       "1499         NaN    NaN    NaN    NaN    NaN    NaN    NaN    NaN   70.0   \n",
       "\n",
       "call_month      10     11      12  \n",
       "user_id                            \n",
       "1000         350.0  338.0   333.0  \n",
       "1001           NaN  430.0   414.0  \n",
       "1002         212.0  243.0   236.0  \n",
       "1003         855.0  824.0   802.0  \n",
       "1004         145.0  117.0   130.0  \n",
       "...            ...    ...     ...  \n",
       "1495        1030.0  954.0  1031.0  \n",
       "1496         450.0  662.0   518.0  \n",
       "1497         490.0  371.0   545.0  \n",
       "1498         247.0    NaN     NaN  \n",
       "1499         449.0  612.0   492.0  \n",
       "\n",
       "[492 rows x 12 columns]"
      ]
     },
     "execution_count": 27,
     "metadata": {},
     "output_type": "execute_result"
    }
   ],
   "source": [
    "# Проверка создания таблицы\n",
    "calls_duration_by_users"
   ]
  },
  {
   "cell_type": "markdown",
   "id": "7e6f2266",
   "metadata": {},
   "source": [
    "Для дальнейшего удобства работы с данными сбросим индекс."
   ]
  },
  {
   "cell_type": "code",
   "execution_count": 28,
   "id": "39f6aa01",
   "metadata": {
    "scrolled": false
   },
   "outputs": [],
   "source": [
    "# Сбросим индекс\n",
    "calls_duration_by_users = calls_duration_by_users.reset_index()"
   ]
  },
  {
   "cell_type": "code",
   "execution_count": 29,
   "id": "a6d3b46c",
   "metadata": {
    "scrolled": true
   },
   "outputs": [
    {
     "data": {
      "text/html": [
       "<div>\n",
       "<style scoped>\n",
       "    .dataframe tbody tr th:only-of-type {\n",
       "        vertical-align: middle;\n",
       "    }\n",
       "\n",
       "    .dataframe tbody tr th {\n",
       "        vertical-align: top;\n",
       "    }\n",
       "\n",
       "    .dataframe thead th {\n",
       "        text-align: right;\n",
       "    }\n",
       "</style>\n",
       "<table border=\"1\" class=\"dataframe\">\n",
       "  <thead>\n",
       "    <tr style=\"text-align: right;\">\n",
       "      <th>call_month</th>\n",
       "      <th>user_id</th>\n",
       "      <th>1</th>\n",
       "      <th>2</th>\n",
       "      <th>3</th>\n",
       "      <th>4</th>\n",
       "      <th>5</th>\n",
       "      <th>6</th>\n",
       "      <th>7</th>\n",
       "      <th>8</th>\n",
       "      <th>9</th>\n",
       "      <th>10</th>\n",
       "      <th>11</th>\n",
       "      <th>12</th>\n",
       "    </tr>\n",
       "  </thead>\n",
       "  <tbody>\n",
       "    <tr>\n",
       "      <th>0</th>\n",
       "      <td>1000</td>\n",
       "      <td>NaN</td>\n",
       "      <td>NaN</td>\n",
       "      <td>NaN</td>\n",
       "      <td>NaN</td>\n",
       "      <td>159.0</td>\n",
       "      <td>172.0</td>\n",
       "      <td>340.0</td>\n",
       "      <td>408.0</td>\n",
       "      <td>466.0</td>\n",
       "      <td>350.0</td>\n",
       "      <td>338.0</td>\n",
       "      <td>333.0</td>\n",
       "    </tr>\n",
       "    <tr>\n",
       "      <th>1</th>\n",
       "      <td>1001</td>\n",
       "      <td>NaN</td>\n",
       "      <td>NaN</td>\n",
       "      <td>NaN</td>\n",
       "      <td>NaN</td>\n",
       "      <td>NaN</td>\n",
       "      <td>NaN</td>\n",
       "      <td>NaN</td>\n",
       "      <td>NaN</td>\n",
       "      <td>NaN</td>\n",
       "      <td>NaN</td>\n",
       "      <td>430.0</td>\n",
       "      <td>414.0</td>\n",
       "    </tr>\n",
       "    <tr>\n",
       "      <th>2</th>\n",
       "      <td>1002</td>\n",
       "      <td>NaN</td>\n",
       "      <td>NaN</td>\n",
       "      <td>NaN</td>\n",
       "      <td>NaN</td>\n",
       "      <td>NaN</td>\n",
       "      <td>117.0</td>\n",
       "      <td>214.0</td>\n",
       "      <td>289.0</td>\n",
       "      <td>206.0</td>\n",
       "      <td>212.0</td>\n",
       "      <td>243.0</td>\n",
       "      <td>236.0</td>\n",
       "    </tr>\n",
       "    <tr>\n",
       "      <th>3</th>\n",
       "      <td>1003</td>\n",
       "      <td>NaN</td>\n",
       "      <td>NaN</td>\n",
       "      <td>NaN</td>\n",
       "      <td>NaN</td>\n",
       "      <td>NaN</td>\n",
       "      <td>NaN</td>\n",
       "      <td>NaN</td>\n",
       "      <td>380.0</td>\n",
       "      <td>961.0</td>\n",
       "      <td>855.0</td>\n",
       "      <td>824.0</td>\n",
       "      <td>802.0</td>\n",
       "    </tr>\n",
       "    <tr>\n",
       "      <th>4</th>\n",
       "      <td>1004</td>\n",
       "      <td>NaN</td>\n",
       "      <td>NaN</td>\n",
       "      <td>NaN</td>\n",
       "      <td>NaN</td>\n",
       "      <td>35.0</td>\n",
       "      <td>171.0</td>\n",
       "      <td>135.0</td>\n",
       "      <td>137.0</td>\n",
       "      <td>117.0</td>\n",
       "      <td>145.0</td>\n",
       "      <td>117.0</td>\n",
       "      <td>130.0</td>\n",
       "    </tr>\n",
       "    <tr>\n",
       "      <th>...</th>\n",
       "      <td>...</td>\n",
       "      <td>...</td>\n",
       "      <td>...</td>\n",
       "      <td>...</td>\n",
       "      <td>...</td>\n",
       "      <td>...</td>\n",
       "      <td>...</td>\n",
       "      <td>...</td>\n",
       "      <td>...</td>\n",
       "      <td>...</td>\n",
       "      <td>...</td>\n",
       "      <td>...</td>\n",
       "      <td>...</td>\n",
       "    </tr>\n",
       "    <tr>\n",
       "      <th>487</th>\n",
       "      <td>1495</td>\n",
       "      <td>NaN</td>\n",
       "      <td>NaN</td>\n",
       "      <td>NaN</td>\n",
       "      <td>NaN</td>\n",
       "      <td>NaN</td>\n",
       "      <td>NaN</td>\n",
       "      <td>NaN</td>\n",
       "      <td>92.0</td>\n",
       "      <td>813.0</td>\n",
       "      <td>1030.0</td>\n",
       "      <td>954.0</td>\n",
       "      <td>1031.0</td>\n",
       "    </tr>\n",
       "    <tr>\n",
       "      <th>488</th>\n",
       "      <td>1496</td>\n",
       "      <td>48.0</td>\n",
       "      <td>594.0</td>\n",
       "      <td>557.0</td>\n",
       "      <td>521.0</td>\n",
       "      <td>484.0</td>\n",
       "      <td>555.0</td>\n",
       "      <td>582.0</td>\n",
       "      <td>527.0</td>\n",
       "      <td>486.0</td>\n",
       "      <td>450.0</td>\n",
       "      <td>662.0</td>\n",
       "      <td>518.0</td>\n",
       "    </tr>\n",
       "    <tr>\n",
       "      <th>489</th>\n",
       "      <td>1497</td>\n",
       "      <td>NaN</td>\n",
       "      <td>NaN</td>\n",
       "      <td>NaN</td>\n",
       "      <td>NaN</td>\n",
       "      <td>NaN</td>\n",
       "      <td>NaN</td>\n",
       "      <td>NaN</td>\n",
       "      <td>NaN</td>\n",
       "      <td>NaN</td>\n",
       "      <td>490.0</td>\n",
       "      <td>371.0</td>\n",
       "      <td>545.0</td>\n",
       "    </tr>\n",
       "    <tr>\n",
       "      <th>490</th>\n",
       "      <td>1498</td>\n",
       "      <td>NaN</td>\n",
       "      <td>NaN</td>\n",
       "      <td>NaN</td>\n",
       "      <td>NaN</td>\n",
       "      <td>NaN</td>\n",
       "      <td>NaN</td>\n",
       "      <td>175.0</td>\n",
       "      <td>400.0</td>\n",
       "      <td>471.0</td>\n",
       "      <td>247.0</td>\n",
       "      <td>NaN</td>\n",
       "      <td>NaN</td>\n",
       "    </tr>\n",
       "    <tr>\n",
       "      <th>491</th>\n",
       "      <td>1499</td>\n",
       "      <td>NaN</td>\n",
       "      <td>NaN</td>\n",
       "      <td>NaN</td>\n",
       "      <td>NaN</td>\n",
       "      <td>NaN</td>\n",
       "      <td>NaN</td>\n",
       "      <td>NaN</td>\n",
       "      <td>NaN</td>\n",
       "      <td>70.0</td>\n",
       "      <td>449.0</td>\n",
       "      <td>612.0</td>\n",
       "      <td>492.0</td>\n",
       "    </tr>\n",
       "  </tbody>\n",
       "</table>\n",
       "<p>492 rows × 13 columns</p>\n",
       "</div>"
      ],
      "text/plain": [
       "call_month  user_id     1      2      3      4      5      6      7      8  \\\n",
       "0              1000   NaN    NaN    NaN    NaN  159.0  172.0  340.0  408.0   \n",
       "1              1001   NaN    NaN    NaN    NaN    NaN    NaN    NaN    NaN   \n",
       "2              1002   NaN    NaN    NaN    NaN    NaN  117.0  214.0  289.0   \n",
       "3              1003   NaN    NaN    NaN    NaN    NaN    NaN    NaN  380.0   \n",
       "4              1004   NaN    NaN    NaN    NaN   35.0  171.0  135.0  137.0   \n",
       "..              ...   ...    ...    ...    ...    ...    ...    ...    ...   \n",
       "487            1495   NaN    NaN    NaN    NaN    NaN    NaN    NaN   92.0   \n",
       "488            1496  48.0  594.0  557.0  521.0  484.0  555.0  582.0  527.0   \n",
       "489            1497   NaN    NaN    NaN    NaN    NaN    NaN    NaN    NaN   \n",
       "490            1498   NaN    NaN    NaN    NaN    NaN    NaN  175.0  400.0   \n",
       "491            1499   NaN    NaN    NaN    NaN    NaN    NaN    NaN    NaN   \n",
       "\n",
       "call_month      9      10     11      12  \n",
       "0           466.0   350.0  338.0   333.0  \n",
       "1             NaN     NaN  430.0   414.0  \n",
       "2           206.0   212.0  243.0   236.0  \n",
       "3           961.0   855.0  824.0   802.0  \n",
       "4           117.0   145.0  117.0   130.0  \n",
       "..            ...     ...    ...     ...  \n",
       "487         813.0  1030.0  954.0  1031.0  \n",
       "488         486.0   450.0  662.0   518.0  \n",
       "489           NaN   490.0  371.0   545.0  \n",
       "490         471.0   247.0    NaN     NaN  \n",
       "491          70.0   449.0  612.0   492.0  \n",
       "\n",
       "[492 rows x 13 columns]"
      ]
     },
     "execution_count": 29,
     "metadata": {},
     "output_type": "execute_result"
    }
   ],
   "source": [
    "calls_duration_by_users"
   ]
  },
  {
   "cell_type": "markdown",
   "id": "9160cbbf",
   "metadata": {},
   "source": [
    "Теперь переименуем столбцы сводной таблицы. Это необходимо, чтобы в дальнейшем при подсчете помесячной выручки столбцы имели уникальные названия. "
   ]
  },
  {
   "cell_type": "code",
   "execution_count": 30,
   "id": "d1a604a0",
   "metadata": {},
   "outputs": [],
   "source": [
    "# Переименование столбцов таблицы calls_duration_by_users\n",
    "calls_duration_by_users = calls_duration_by_users.rename(columns = {1: '1_call_duration',\n",
    "                                                                    2: '2_call_duration',\n",
    "                                                                    3: '3_call_duration',\n",
    "                                                                    4: '4_call_duration',\n",
    "                                                                    5: '5_call_duration',\n",
    "                                                                    6: '6_call_duration',\n",
    "                                                                    7: '7_call_duration',\n",
    "                                                                    8: '8_call_duration',\n",
    "                                                                    9: '9_call_duration',\n",
    "                                                                    10: '10_call_duration',\n",
    "                                                                    11: '11_call_duration',\n",
    "                                                                    12: '12_call_duration'})"
   ]
  },
  {
   "cell_type": "code",
   "execution_count": 31,
   "id": "f39c3ac7",
   "metadata": {
    "scrolled": true
   },
   "outputs": [
    {
     "data": {
      "text/html": [
       "<div>\n",
       "<style scoped>\n",
       "    .dataframe tbody tr th:only-of-type {\n",
       "        vertical-align: middle;\n",
       "    }\n",
       "\n",
       "    .dataframe tbody tr th {\n",
       "        vertical-align: top;\n",
       "    }\n",
       "\n",
       "    .dataframe thead th {\n",
       "        text-align: right;\n",
       "    }\n",
       "</style>\n",
       "<table border=\"1\" class=\"dataframe\">\n",
       "  <thead>\n",
       "    <tr style=\"text-align: right;\">\n",
       "      <th>call_month</th>\n",
       "      <th>user_id</th>\n",
       "      <th>1_call_duration</th>\n",
       "      <th>2_call_duration</th>\n",
       "      <th>3_call_duration</th>\n",
       "      <th>4_call_duration</th>\n",
       "      <th>5_call_duration</th>\n",
       "      <th>6_call_duration</th>\n",
       "      <th>7_call_duration</th>\n",
       "      <th>8_call_duration</th>\n",
       "      <th>9_call_duration</th>\n",
       "      <th>10_call_duration</th>\n",
       "      <th>11_call_duration</th>\n",
       "      <th>12_call_duration</th>\n",
       "    </tr>\n",
       "  </thead>\n",
       "  <tbody>\n",
       "    <tr>\n",
       "      <th>0</th>\n",
       "      <td>1000</td>\n",
       "      <td>NaN</td>\n",
       "      <td>NaN</td>\n",
       "      <td>NaN</td>\n",
       "      <td>NaN</td>\n",
       "      <td>159.0</td>\n",
       "      <td>172.0</td>\n",
       "      <td>340.0</td>\n",
       "      <td>408.0</td>\n",
       "      <td>466.0</td>\n",
       "      <td>350.0</td>\n",
       "      <td>338.0</td>\n",
       "      <td>333.0</td>\n",
       "    </tr>\n",
       "    <tr>\n",
       "      <th>1</th>\n",
       "      <td>1001</td>\n",
       "      <td>NaN</td>\n",
       "      <td>NaN</td>\n",
       "      <td>NaN</td>\n",
       "      <td>NaN</td>\n",
       "      <td>NaN</td>\n",
       "      <td>NaN</td>\n",
       "      <td>NaN</td>\n",
       "      <td>NaN</td>\n",
       "      <td>NaN</td>\n",
       "      <td>NaN</td>\n",
       "      <td>430.0</td>\n",
       "      <td>414.0</td>\n",
       "    </tr>\n",
       "    <tr>\n",
       "      <th>2</th>\n",
       "      <td>1002</td>\n",
       "      <td>NaN</td>\n",
       "      <td>NaN</td>\n",
       "      <td>NaN</td>\n",
       "      <td>NaN</td>\n",
       "      <td>NaN</td>\n",
       "      <td>117.0</td>\n",
       "      <td>214.0</td>\n",
       "      <td>289.0</td>\n",
       "      <td>206.0</td>\n",
       "      <td>212.0</td>\n",
       "      <td>243.0</td>\n",
       "      <td>236.0</td>\n",
       "    </tr>\n",
       "    <tr>\n",
       "      <th>3</th>\n",
       "      <td>1003</td>\n",
       "      <td>NaN</td>\n",
       "      <td>NaN</td>\n",
       "      <td>NaN</td>\n",
       "      <td>NaN</td>\n",
       "      <td>NaN</td>\n",
       "      <td>NaN</td>\n",
       "      <td>NaN</td>\n",
       "      <td>380.0</td>\n",
       "      <td>961.0</td>\n",
       "      <td>855.0</td>\n",
       "      <td>824.0</td>\n",
       "      <td>802.0</td>\n",
       "    </tr>\n",
       "    <tr>\n",
       "      <th>4</th>\n",
       "      <td>1004</td>\n",
       "      <td>NaN</td>\n",
       "      <td>NaN</td>\n",
       "      <td>NaN</td>\n",
       "      <td>NaN</td>\n",
       "      <td>35.0</td>\n",
       "      <td>171.0</td>\n",
       "      <td>135.0</td>\n",
       "      <td>137.0</td>\n",
       "      <td>117.0</td>\n",
       "      <td>145.0</td>\n",
       "      <td>117.0</td>\n",
       "      <td>130.0</td>\n",
       "    </tr>\n",
       "    <tr>\n",
       "      <th>...</th>\n",
       "      <td>...</td>\n",
       "      <td>...</td>\n",
       "      <td>...</td>\n",
       "      <td>...</td>\n",
       "      <td>...</td>\n",
       "      <td>...</td>\n",
       "      <td>...</td>\n",
       "      <td>...</td>\n",
       "      <td>...</td>\n",
       "      <td>...</td>\n",
       "      <td>...</td>\n",
       "      <td>...</td>\n",
       "      <td>...</td>\n",
       "    </tr>\n",
       "    <tr>\n",
       "      <th>487</th>\n",
       "      <td>1495</td>\n",
       "      <td>NaN</td>\n",
       "      <td>NaN</td>\n",
       "      <td>NaN</td>\n",
       "      <td>NaN</td>\n",
       "      <td>NaN</td>\n",
       "      <td>NaN</td>\n",
       "      <td>NaN</td>\n",
       "      <td>92.0</td>\n",
       "      <td>813.0</td>\n",
       "      <td>1030.0</td>\n",
       "      <td>954.0</td>\n",
       "      <td>1031.0</td>\n",
       "    </tr>\n",
       "    <tr>\n",
       "      <th>488</th>\n",
       "      <td>1496</td>\n",
       "      <td>48.0</td>\n",
       "      <td>594.0</td>\n",
       "      <td>557.0</td>\n",
       "      <td>521.0</td>\n",
       "      <td>484.0</td>\n",
       "      <td>555.0</td>\n",
       "      <td>582.0</td>\n",
       "      <td>527.0</td>\n",
       "      <td>486.0</td>\n",
       "      <td>450.0</td>\n",
       "      <td>662.0</td>\n",
       "      <td>518.0</td>\n",
       "    </tr>\n",
       "    <tr>\n",
       "      <th>489</th>\n",
       "      <td>1497</td>\n",
       "      <td>NaN</td>\n",
       "      <td>NaN</td>\n",
       "      <td>NaN</td>\n",
       "      <td>NaN</td>\n",
       "      <td>NaN</td>\n",
       "      <td>NaN</td>\n",
       "      <td>NaN</td>\n",
       "      <td>NaN</td>\n",
       "      <td>NaN</td>\n",
       "      <td>490.0</td>\n",
       "      <td>371.0</td>\n",
       "      <td>545.0</td>\n",
       "    </tr>\n",
       "    <tr>\n",
       "      <th>490</th>\n",
       "      <td>1498</td>\n",
       "      <td>NaN</td>\n",
       "      <td>NaN</td>\n",
       "      <td>NaN</td>\n",
       "      <td>NaN</td>\n",
       "      <td>NaN</td>\n",
       "      <td>NaN</td>\n",
       "      <td>175.0</td>\n",
       "      <td>400.0</td>\n",
       "      <td>471.0</td>\n",
       "      <td>247.0</td>\n",
       "      <td>NaN</td>\n",
       "      <td>NaN</td>\n",
       "    </tr>\n",
       "    <tr>\n",
       "      <th>491</th>\n",
       "      <td>1499</td>\n",
       "      <td>NaN</td>\n",
       "      <td>NaN</td>\n",
       "      <td>NaN</td>\n",
       "      <td>NaN</td>\n",
       "      <td>NaN</td>\n",
       "      <td>NaN</td>\n",
       "      <td>NaN</td>\n",
       "      <td>NaN</td>\n",
       "      <td>70.0</td>\n",
       "      <td>449.0</td>\n",
       "      <td>612.0</td>\n",
       "      <td>492.0</td>\n",
       "    </tr>\n",
       "  </tbody>\n",
       "</table>\n",
       "<p>492 rows × 13 columns</p>\n",
       "</div>"
      ],
      "text/plain": [
       "call_month  user_id  1_call_duration  2_call_duration  3_call_duration  \\\n",
       "0              1000              NaN              NaN              NaN   \n",
       "1              1001              NaN              NaN              NaN   \n",
       "2              1002              NaN              NaN              NaN   \n",
       "3              1003              NaN              NaN              NaN   \n",
       "4              1004              NaN              NaN              NaN   \n",
       "..              ...              ...              ...              ...   \n",
       "487            1495              NaN              NaN              NaN   \n",
       "488            1496             48.0            594.0            557.0   \n",
       "489            1497              NaN              NaN              NaN   \n",
       "490            1498              NaN              NaN              NaN   \n",
       "491            1499              NaN              NaN              NaN   \n",
       "\n",
       "call_month  4_call_duration  5_call_duration  6_call_duration  \\\n",
       "0                       NaN            159.0            172.0   \n",
       "1                       NaN              NaN              NaN   \n",
       "2                       NaN              NaN            117.0   \n",
       "3                       NaN              NaN              NaN   \n",
       "4                       NaN             35.0            171.0   \n",
       "..                      ...              ...              ...   \n",
       "487                     NaN              NaN              NaN   \n",
       "488                   521.0            484.0            555.0   \n",
       "489                     NaN              NaN              NaN   \n",
       "490                     NaN              NaN              NaN   \n",
       "491                     NaN              NaN              NaN   \n",
       "\n",
       "call_month  7_call_duration  8_call_duration  9_call_duration  \\\n",
       "0                     340.0            408.0            466.0   \n",
       "1                       NaN              NaN              NaN   \n",
       "2                     214.0            289.0            206.0   \n",
       "3                       NaN            380.0            961.0   \n",
       "4                     135.0            137.0            117.0   \n",
       "..                      ...              ...              ...   \n",
       "487                     NaN             92.0            813.0   \n",
       "488                   582.0            527.0            486.0   \n",
       "489                     NaN              NaN              NaN   \n",
       "490                   175.0            400.0            471.0   \n",
       "491                     NaN              NaN             70.0   \n",
       "\n",
       "call_month  10_call_duration  11_call_duration  12_call_duration  \n",
       "0                      350.0             338.0             333.0  \n",
       "1                        NaN             430.0             414.0  \n",
       "2                      212.0             243.0             236.0  \n",
       "3                      855.0             824.0             802.0  \n",
       "4                      145.0             117.0             130.0  \n",
       "..                       ...               ...               ...  \n",
       "487                   1030.0             954.0            1031.0  \n",
       "488                    450.0             662.0             518.0  \n",
       "489                    490.0             371.0             545.0  \n",
       "490                    247.0               NaN               NaN  \n",
       "491                    449.0             612.0             492.0  \n",
       "\n",
       "[492 rows x 13 columns]"
      ]
     },
     "execution_count": 31,
     "metadata": {},
     "output_type": "execute_result"
    }
   ],
   "source": [
    "calls_duration_by_users"
   ]
  },
  {
   "cell_type": "markdown",
   "id": "c9e0a464",
   "metadata": {},
   "source": [
    "Сделаем такие же действия для всех остальных пунктов задания."
   ]
  },
  {
   "cell_type": "markdown",
   "id": "2a1da65a",
   "metadata": {},
   "source": [
    "### Количество отправленных сообщений для каждого пользователя за каждый месяц"
   ]
  },
  {
   "cell_type": "code",
   "execution_count": 32,
   "id": "398b4334",
   "metadata": {},
   "outputs": [],
   "source": [
    "# Номер месяца из атрибута message_date\n",
    "messages['message_month'] = messages['message_date'].dt.month"
   ]
  },
  {
   "cell_type": "code",
   "execution_count": 33,
   "id": "213c5fca",
   "metadata": {},
   "outputs": [],
   "source": [
    "# Создание сводной таблицы количества отправленных сообщений для каждого пользователя за каждый месяц\n",
    "messages_count_by_users = (\n",
    "    messages\n",
    "    .pivot_table(index = 'user_id',\n",
    "                      columns = 'message_month',\n",
    "                      values = 'id',\n",
    "                      aggfunc = 'count')\n",
    "    .reset_index()\n",
    ")"
   ]
  },
  {
   "cell_type": "code",
   "execution_count": 34,
   "id": "093e76f4",
   "metadata": {},
   "outputs": [
    {
     "data": {
      "text/html": [
       "<div>\n",
       "<style scoped>\n",
       "    .dataframe tbody tr th:only-of-type {\n",
       "        vertical-align: middle;\n",
       "    }\n",
       "\n",
       "    .dataframe tbody tr th {\n",
       "        vertical-align: top;\n",
       "    }\n",
       "\n",
       "    .dataframe thead th {\n",
       "        text-align: right;\n",
       "    }\n",
       "</style>\n",
       "<table border=\"1\" class=\"dataframe\">\n",
       "  <thead>\n",
       "    <tr style=\"text-align: right;\">\n",
       "      <th>message_month</th>\n",
       "      <th>user_id</th>\n",
       "      <th>1</th>\n",
       "      <th>2</th>\n",
       "      <th>3</th>\n",
       "      <th>4</th>\n",
       "      <th>5</th>\n",
       "      <th>6</th>\n",
       "      <th>7</th>\n",
       "      <th>8</th>\n",
       "      <th>9</th>\n",
       "      <th>10</th>\n",
       "      <th>11</th>\n",
       "      <th>12</th>\n",
       "    </tr>\n",
       "  </thead>\n",
       "  <tbody>\n",
       "    <tr>\n",
       "      <th>0</th>\n",
       "      <td>1000</td>\n",
       "      <td>NaN</td>\n",
       "      <td>NaN</td>\n",
       "      <td>NaN</td>\n",
       "      <td>NaN</td>\n",
       "      <td>22.0</td>\n",
       "      <td>60.0</td>\n",
       "      <td>75.0</td>\n",
       "      <td>81.0</td>\n",
       "      <td>57.0</td>\n",
       "      <td>73.0</td>\n",
       "      <td>58.0</td>\n",
       "      <td>70.0</td>\n",
       "    </tr>\n",
       "    <tr>\n",
       "      <th>1</th>\n",
       "      <td>1002</td>\n",
       "      <td>NaN</td>\n",
       "      <td>NaN</td>\n",
       "      <td>NaN</td>\n",
       "      <td>NaN</td>\n",
       "      <td>NaN</td>\n",
       "      <td>4.0</td>\n",
       "      <td>11.0</td>\n",
       "      <td>13.0</td>\n",
       "      <td>4.0</td>\n",
       "      <td>10.0</td>\n",
       "      <td>16.0</td>\n",
       "      <td>12.0</td>\n",
       "    </tr>\n",
       "    <tr>\n",
       "      <th>2</th>\n",
       "      <td>1003</td>\n",
       "      <td>NaN</td>\n",
       "      <td>NaN</td>\n",
       "      <td>NaN</td>\n",
       "      <td>NaN</td>\n",
       "      <td>NaN</td>\n",
       "      <td>NaN</td>\n",
       "      <td>NaN</td>\n",
       "      <td>37.0</td>\n",
       "      <td>91.0</td>\n",
       "      <td>83.0</td>\n",
       "      <td>94.0</td>\n",
       "      <td>75.0</td>\n",
       "    </tr>\n",
       "    <tr>\n",
       "      <th>3</th>\n",
       "      <td>1004</td>\n",
       "      <td>NaN</td>\n",
       "      <td>NaN</td>\n",
       "      <td>NaN</td>\n",
       "      <td>NaN</td>\n",
       "      <td>95.0</td>\n",
       "      <td>134.0</td>\n",
       "      <td>181.0</td>\n",
       "      <td>151.0</td>\n",
       "      <td>146.0</td>\n",
       "      <td>165.0</td>\n",
       "      <td>158.0</td>\n",
       "      <td>162.0</td>\n",
       "    </tr>\n",
       "    <tr>\n",
       "      <th>4</th>\n",
       "      <td>1005</td>\n",
       "      <td>7.0</td>\n",
       "      <td>38.0</td>\n",
       "      <td>56.0</td>\n",
       "      <td>41.0</td>\n",
       "      <td>42.0</td>\n",
       "      <td>47.0</td>\n",
       "      <td>56.0</td>\n",
       "      <td>64.0</td>\n",
       "      <td>52.0</td>\n",
       "      <td>44.0</td>\n",
       "      <td>51.0</td>\n",
       "      <td>54.0</td>\n",
       "    </tr>\n",
       "    <tr>\n",
       "      <th>...</th>\n",
       "      <td>...</td>\n",
       "      <td>...</td>\n",
       "      <td>...</td>\n",
       "      <td>...</td>\n",
       "      <td>...</td>\n",
       "      <td>...</td>\n",
       "      <td>...</td>\n",
       "      <td>...</td>\n",
       "      <td>...</td>\n",
       "      <td>...</td>\n",
       "      <td>...</td>\n",
       "      <td>...</td>\n",
       "      <td>...</td>\n",
       "    </tr>\n",
       "    <tr>\n",
       "      <th>421</th>\n",
       "      <td>1495</td>\n",
       "      <td>NaN</td>\n",
       "      <td>NaN</td>\n",
       "      <td>NaN</td>\n",
       "      <td>NaN</td>\n",
       "      <td>NaN</td>\n",
       "      <td>NaN</td>\n",
       "      <td>NaN</td>\n",
       "      <td>13.0</td>\n",
       "      <td>82.0</td>\n",
       "      <td>82.0</td>\n",
       "      <td>79.0</td>\n",
       "      <td>84.0</td>\n",
       "    </tr>\n",
       "    <tr>\n",
       "      <th>422</th>\n",
       "      <td>1496</td>\n",
       "      <td>9.0</td>\n",
       "      <td>45.0</td>\n",
       "      <td>46.0</td>\n",
       "      <td>49.0</td>\n",
       "      <td>40.0</td>\n",
       "      <td>35.0</td>\n",
       "      <td>42.0</td>\n",
       "      <td>41.0</td>\n",
       "      <td>29.0</td>\n",
       "      <td>35.0</td>\n",
       "      <td>46.0</td>\n",
       "      <td>51.0</td>\n",
       "    </tr>\n",
       "    <tr>\n",
       "      <th>423</th>\n",
       "      <td>1497</td>\n",
       "      <td>NaN</td>\n",
       "      <td>NaN</td>\n",
       "      <td>NaN</td>\n",
       "      <td>NaN</td>\n",
       "      <td>NaN</td>\n",
       "      <td>NaN</td>\n",
       "      <td>NaN</td>\n",
       "      <td>NaN</td>\n",
       "      <td>NaN</td>\n",
       "      <td>20.0</td>\n",
       "      <td>14.0</td>\n",
       "      <td>17.0</td>\n",
       "    </tr>\n",
       "    <tr>\n",
       "      <th>424</th>\n",
       "      <td>1498</td>\n",
       "      <td>NaN</td>\n",
       "      <td>NaN</td>\n",
       "      <td>NaN</td>\n",
       "      <td>NaN</td>\n",
       "      <td>NaN</td>\n",
       "      <td>NaN</td>\n",
       "      <td>20.0</td>\n",
       "      <td>62.0</td>\n",
       "      <td>44.0</td>\n",
       "      <td>42.0</td>\n",
       "      <td>NaN</td>\n",
       "      <td>NaN</td>\n",
       "    </tr>\n",
       "    <tr>\n",
       "      <th>425</th>\n",
       "      <td>1499</td>\n",
       "      <td>NaN</td>\n",
       "      <td>NaN</td>\n",
       "      <td>NaN</td>\n",
       "      <td>NaN</td>\n",
       "      <td>NaN</td>\n",
       "      <td>NaN</td>\n",
       "      <td>NaN</td>\n",
       "      <td>NaN</td>\n",
       "      <td>11.0</td>\n",
       "      <td>48.0</td>\n",
       "      <td>59.0</td>\n",
       "      <td>66.0</td>\n",
       "    </tr>\n",
       "  </tbody>\n",
       "</table>\n",
       "<p>426 rows × 13 columns</p>\n",
       "</div>"
      ],
      "text/plain": [
       "message_month  user_id    1     2     3     4     5      6      7      8  \\\n",
       "0                 1000  NaN   NaN   NaN   NaN  22.0   60.0   75.0   81.0   \n",
       "1                 1002  NaN   NaN   NaN   NaN   NaN    4.0   11.0   13.0   \n",
       "2                 1003  NaN   NaN   NaN   NaN   NaN    NaN    NaN   37.0   \n",
       "3                 1004  NaN   NaN   NaN   NaN  95.0  134.0  181.0  151.0   \n",
       "4                 1005  7.0  38.0  56.0  41.0  42.0   47.0   56.0   64.0   \n",
       "..                 ...  ...   ...   ...   ...   ...    ...    ...    ...   \n",
       "421               1495  NaN   NaN   NaN   NaN   NaN    NaN    NaN   13.0   \n",
       "422               1496  9.0  45.0  46.0  49.0  40.0   35.0   42.0   41.0   \n",
       "423               1497  NaN   NaN   NaN   NaN   NaN    NaN    NaN    NaN   \n",
       "424               1498  NaN   NaN   NaN   NaN   NaN    NaN   20.0   62.0   \n",
       "425               1499  NaN   NaN   NaN   NaN   NaN    NaN    NaN    NaN   \n",
       "\n",
       "message_month      9     10     11     12  \n",
       "0               57.0   73.0   58.0   70.0  \n",
       "1                4.0   10.0   16.0   12.0  \n",
       "2               91.0   83.0   94.0   75.0  \n",
       "3              146.0  165.0  158.0  162.0  \n",
       "4               52.0   44.0   51.0   54.0  \n",
       "..               ...    ...    ...    ...  \n",
       "421             82.0   82.0   79.0   84.0  \n",
       "422             29.0   35.0   46.0   51.0  \n",
       "423              NaN   20.0   14.0   17.0  \n",
       "424             44.0   42.0    NaN    NaN  \n",
       "425             11.0   48.0   59.0   66.0  \n",
       "\n",
       "[426 rows x 13 columns]"
      ]
     },
     "execution_count": 34,
     "metadata": {},
     "output_type": "execute_result"
    }
   ],
   "source": [
    "messages_count_by_users"
   ]
  },
  {
   "cell_type": "code",
   "execution_count": 35,
   "id": "05548712",
   "metadata": {},
   "outputs": [],
   "source": [
    "# Переименование столбцов таблицы messages_count_by_users\n",
    "messages_count_by_users = messages_count_by_users.rename(columns = {1: '1_messages_count',\n",
    "                                                                    2: '2_messages_count',\n",
    "                                                                    3: '3_messages_count',\n",
    "                                                                    4: '4_messages_count',\n",
    "                                                                    5: '5_messages_count',\n",
    "                                                                    6: '6_messages_count',\n",
    "                                                                    7: '7_messages_count',\n",
    "                                                                    8: '8_messages_count',\n",
    "                                                                    9: '9_messages_count',\n",
    "                                                                    10: '10_messages_count',\n",
    "                                                                    11: '11_messages_count',\n",
    "                                                                    12: '12_messages_count'})"
   ]
  },
  {
   "cell_type": "code",
   "execution_count": 36,
   "id": "d315292c",
   "metadata": {},
   "outputs": [
    {
     "data": {
      "text/html": [
       "<div>\n",
       "<style scoped>\n",
       "    .dataframe tbody tr th:only-of-type {\n",
       "        vertical-align: middle;\n",
       "    }\n",
       "\n",
       "    .dataframe tbody tr th {\n",
       "        vertical-align: top;\n",
       "    }\n",
       "\n",
       "    .dataframe thead th {\n",
       "        text-align: right;\n",
       "    }\n",
       "</style>\n",
       "<table border=\"1\" class=\"dataframe\">\n",
       "  <thead>\n",
       "    <tr style=\"text-align: right;\">\n",
       "      <th>message_month</th>\n",
       "      <th>user_id</th>\n",
       "      <th>1_messages_count</th>\n",
       "      <th>2_messages_count</th>\n",
       "      <th>3_messages_count</th>\n",
       "      <th>4_messages_count</th>\n",
       "      <th>5_messages_count</th>\n",
       "      <th>6_messages_count</th>\n",
       "      <th>7_messages_count</th>\n",
       "      <th>8_messages_count</th>\n",
       "      <th>9_messages_count</th>\n",
       "      <th>10_messages_count</th>\n",
       "      <th>11_messages_count</th>\n",
       "      <th>12_messages_count</th>\n",
       "    </tr>\n",
       "  </thead>\n",
       "  <tbody>\n",
       "    <tr>\n",
       "      <th>0</th>\n",
       "      <td>1000</td>\n",
       "      <td>NaN</td>\n",
       "      <td>NaN</td>\n",
       "      <td>NaN</td>\n",
       "      <td>NaN</td>\n",
       "      <td>22.0</td>\n",
       "      <td>60.0</td>\n",
       "      <td>75.0</td>\n",
       "      <td>81.0</td>\n",
       "      <td>57.0</td>\n",
       "      <td>73.0</td>\n",
       "      <td>58.0</td>\n",
       "      <td>70.0</td>\n",
       "    </tr>\n",
       "    <tr>\n",
       "      <th>1</th>\n",
       "      <td>1002</td>\n",
       "      <td>NaN</td>\n",
       "      <td>NaN</td>\n",
       "      <td>NaN</td>\n",
       "      <td>NaN</td>\n",
       "      <td>NaN</td>\n",
       "      <td>4.0</td>\n",
       "      <td>11.0</td>\n",
       "      <td>13.0</td>\n",
       "      <td>4.0</td>\n",
       "      <td>10.0</td>\n",
       "      <td>16.0</td>\n",
       "      <td>12.0</td>\n",
       "    </tr>\n",
       "    <tr>\n",
       "      <th>2</th>\n",
       "      <td>1003</td>\n",
       "      <td>NaN</td>\n",
       "      <td>NaN</td>\n",
       "      <td>NaN</td>\n",
       "      <td>NaN</td>\n",
       "      <td>NaN</td>\n",
       "      <td>NaN</td>\n",
       "      <td>NaN</td>\n",
       "      <td>37.0</td>\n",
       "      <td>91.0</td>\n",
       "      <td>83.0</td>\n",
       "      <td>94.0</td>\n",
       "      <td>75.0</td>\n",
       "    </tr>\n",
       "    <tr>\n",
       "      <th>3</th>\n",
       "      <td>1004</td>\n",
       "      <td>NaN</td>\n",
       "      <td>NaN</td>\n",
       "      <td>NaN</td>\n",
       "      <td>NaN</td>\n",
       "      <td>95.0</td>\n",
       "      <td>134.0</td>\n",
       "      <td>181.0</td>\n",
       "      <td>151.0</td>\n",
       "      <td>146.0</td>\n",
       "      <td>165.0</td>\n",
       "      <td>158.0</td>\n",
       "      <td>162.0</td>\n",
       "    </tr>\n",
       "    <tr>\n",
       "      <th>4</th>\n",
       "      <td>1005</td>\n",
       "      <td>7.0</td>\n",
       "      <td>38.0</td>\n",
       "      <td>56.0</td>\n",
       "      <td>41.0</td>\n",
       "      <td>42.0</td>\n",
       "      <td>47.0</td>\n",
       "      <td>56.0</td>\n",
       "      <td>64.0</td>\n",
       "      <td>52.0</td>\n",
       "      <td>44.0</td>\n",
       "      <td>51.0</td>\n",
       "      <td>54.0</td>\n",
       "    </tr>\n",
       "    <tr>\n",
       "      <th>...</th>\n",
       "      <td>...</td>\n",
       "      <td>...</td>\n",
       "      <td>...</td>\n",
       "      <td>...</td>\n",
       "      <td>...</td>\n",
       "      <td>...</td>\n",
       "      <td>...</td>\n",
       "      <td>...</td>\n",
       "      <td>...</td>\n",
       "      <td>...</td>\n",
       "      <td>...</td>\n",
       "      <td>...</td>\n",
       "      <td>...</td>\n",
       "    </tr>\n",
       "    <tr>\n",
       "      <th>421</th>\n",
       "      <td>1495</td>\n",
       "      <td>NaN</td>\n",
       "      <td>NaN</td>\n",
       "      <td>NaN</td>\n",
       "      <td>NaN</td>\n",
       "      <td>NaN</td>\n",
       "      <td>NaN</td>\n",
       "      <td>NaN</td>\n",
       "      <td>13.0</td>\n",
       "      <td>82.0</td>\n",
       "      <td>82.0</td>\n",
       "      <td>79.0</td>\n",
       "      <td>84.0</td>\n",
       "    </tr>\n",
       "    <tr>\n",
       "      <th>422</th>\n",
       "      <td>1496</td>\n",
       "      <td>9.0</td>\n",
       "      <td>45.0</td>\n",
       "      <td>46.0</td>\n",
       "      <td>49.0</td>\n",
       "      <td>40.0</td>\n",
       "      <td>35.0</td>\n",
       "      <td>42.0</td>\n",
       "      <td>41.0</td>\n",
       "      <td>29.0</td>\n",
       "      <td>35.0</td>\n",
       "      <td>46.0</td>\n",
       "      <td>51.0</td>\n",
       "    </tr>\n",
       "    <tr>\n",
       "      <th>423</th>\n",
       "      <td>1497</td>\n",
       "      <td>NaN</td>\n",
       "      <td>NaN</td>\n",
       "      <td>NaN</td>\n",
       "      <td>NaN</td>\n",
       "      <td>NaN</td>\n",
       "      <td>NaN</td>\n",
       "      <td>NaN</td>\n",
       "      <td>NaN</td>\n",
       "      <td>NaN</td>\n",
       "      <td>20.0</td>\n",
       "      <td>14.0</td>\n",
       "      <td>17.0</td>\n",
       "    </tr>\n",
       "    <tr>\n",
       "      <th>424</th>\n",
       "      <td>1498</td>\n",
       "      <td>NaN</td>\n",
       "      <td>NaN</td>\n",
       "      <td>NaN</td>\n",
       "      <td>NaN</td>\n",
       "      <td>NaN</td>\n",
       "      <td>NaN</td>\n",
       "      <td>20.0</td>\n",
       "      <td>62.0</td>\n",
       "      <td>44.0</td>\n",
       "      <td>42.0</td>\n",
       "      <td>NaN</td>\n",
       "      <td>NaN</td>\n",
       "    </tr>\n",
       "    <tr>\n",
       "      <th>425</th>\n",
       "      <td>1499</td>\n",
       "      <td>NaN</td>\n",
       "      <td>NaN</td>\n",
       "      <td>NaN</td>\n",
       "      <td>NaN</td>\n",
       "      <td>NaN</td>\n",
       "      <td>NaN</td>\n",
       "      <td>NaN</td>\n",
       "      <td>NaN</td>\n",
       "      <td>11.0</td>\n",
       "      <td>48.0</td>\n",
       "      <td>59.0</td>\n",
       "      <td>66.0</td>\n",
       "    </tr>\n",
       "  </tbody>\n",
       "</table>\n",
       "<p>426 rows × 13 columns</p>\n",
       "</div>"
      ],
      "text/plain": [
       "message_month  user_id  1_messages_count  2_messages_count  3_messages_count  \\\n",
       "0                 1000               NaN               NaN               NaN   \n",
       "1                 1002               NaN               NaN               NaN   \n",
       "2                 1003               NaN               NaN               NaN   \n",
       "3                 1004               NaN               NaN               NaN   \n",
       "4                 1005               7.0              38.0              56.0   \n",
       "..                 ...               ...               ...               ...   \n",
       "421               1495               NaN               NaN               NaN   \n",
       "422               1496               9.0              45.0              46.0   \n",
       "423               1497               NaN               NaN               NaN   \n",
       "424               1498               NaN               NaN               NaN   \n",
       "425               1499               NaN               NaN               NaN   \n",
       "\n",
       "message_month  4_messages_count  5_messages_count  6_messages_count  \\\n",
       "0                           NaN              22.0              60.0   \n",
       "1                           NaN               NaN               4.0   \n",
       "2                           NaN               NaN               NaN   \n",
       "3                           NaN              95.0             134.0   \n",
       "4                          41.0              42.0              47.0   \n",
       "..                          ...               ...               ...   \n",
       "421                         NaN               NaN               NaN   \n",
       "422                        49.0              40.0              35.0   \n",
       "423                         NaN               NaN               NaN   \n",
       "424                         NaN               NaN               NaN   \n",
       "425                         NaN               NaN               NaN   \n",
       "\n",
       "message_month  7_messages_count  8_messages_count  9_messages_count  \\\n",
       "0                          75.0              81.0              57.0   \n",
       "1                          11.0              13.0               4.0   \n",
       "2                           NaN              37.0              91.0   \n",
       "3                         181.0             151.0             146.0   \n",
       "4                          56.0              64.0              52.0   \n",
       "..                          ...               ...               ...   \n",
       "421                         NaN              13.0              82.0   \n",
       "422                        42.0              41.0              29.0   \n",
       "423                         NaN               NaN               NaN   \n",
       "424                        20.0              62.0              44.0   \n",
       "425                         NaN               NaN              11.0   \n",
       "\n",
       "message_month  10_messages_count  11_messages_count  12_messages_count  \n",
       "0                           73.0               58.0               70.0  \n",
       "1                           10.0               16.0               12.0  \n",
       "2                           83.0               94.0               75.0  \n",
       "3                          165.0              158.0              162.0  \n",
       "4                           44.0               51.0               54.0  \n",
       "..                           ...                ...                ...  \n",
       "421                         82.0               79.0               84.0  \n",
       "422                         35.0               46.0               51.0  \n",
       "423                         20.0               14.0               17.0  \n",
       "424                         42.0                NaN                NaN  \n",
       "425                         48.0               59.0               66.0  \n",
       "\n",
       "[426 rows x 13 columns]"
      ]
     },
     "execution_count": 36,
     "metadata": {},
     "output_type": "execute_result"
    }
   ],
   "source": [
    "messages_count_by_users"
   ]
  },
  {
   "cell_type": "markdown",
   "id": "beb28454",
   "metadata": {},
   "source": [
    "### Объем израсходованного интернет-трафика для каждого пользователя за каждый месяц"
   ]
  },
  {
   "cell_type": "code",
   "execution_count": 37,
   "id": "654c46eb",
   "metadata": {},
   "outputs": [],
   "source": [
    "# Номер месяца из атрибута session_date\n",
    "internet['session_month'] = internet['session_date'].dt.month"
   ]
  },
  {
   "cell_type": "code",
   "execution_count": 38,
   "id": "c0e19149",
   "metadata": {},
   "outputs": [],
   "source": [
    "# Создание сводной таблицы объема израсходованного интернет-трафика для каждого пользователя за каждый месяц\n",
    "internet_by_users = (\n",
    "    internet\n",
    "    .pivot_table(index = 'user_id',\n",
    "                      columns = 'session_month',\n",
    "                      values = 'mb_used',\n",
    "                      aggfunc = 'sum')\n",
    "    .reset_index()\n",
    ")"
   ]
  },
  {
   "cell_type": "code",
   "execution_count": 39,
   "id": "7ddc9d90",
   "metadata": {
    "scrolled": false
   },
   "outputs": [
    {
     "data": {
      "text/html": [
       "<div>\n",
       "<style scoped>\n",
       "    .dataframe tbody tr th:only-of-type {\n",
       "        vertical-align: middle;\n",
       "    }\n",
       "\n",
       "    .dataframe tbody tr th {\n",
       "        vertical-align: top;\n",
       "    }\n",
       "\n",
       "    .dataframe thead th {\n",
       "        text-align: right;\n",
       "    }\n",
       "</style>\n",
       "<table border=\"1\" class=\"dataframe\">\n",
       "  <thead>\n",
       "    <tr style=\"text-align: right;\">\n",
       "      <th>session_month</th>\n",
       "      <th>user_id</th>\n",
       "      <th>1</th>\n",
       "      <th>2</th>\n",
       "      <th>3</th>\n",
       "      <th>4</th>\n",
       "      <th>5</th>\n",
       "      <th>6</th>\n",
       "      <th>7</th>\n",
       "      <th>8</th>\n",
       "      <th>9</th>\n",
       "      <th>10</th>\n",
       "      <th>11</th>\n",
       "      <th>12</th>\n",
       "    </tr>\n",
       "  </thead>\n",
       "  <tbody>\n",
       "    <tr>\n",
       "      <th>0</th>\n",
       "      <td>1000</td>\n",
       "      <td>NaN</td>\n",
       "      <td>NaN</td>\n",
       "      <td>NaN</td>\n",
       "      <td>NaN</td>\n",
       "      <td>2253.49</td>\n",
       "      <td>23233.77</td>\n",
       "      <td>14003.64</td>\n",
       "      <td>14055.93</td>\n",
       "      <td>14568.91</td>\n",
       "      <td>14702.49</td>\n",
       "      <td>14756.47</td>\n",
       "      <td>9817.61</td>\n",
       "    </tr>\n",
       "    <tr>\n",
       "      <th>1</th>\n",
       "      <td>1001</td>\n",
       "      <td>NaN</td>\n",
       "      <td>NaN</td>\n",
       "      <td>NaN</td>\n",
       "      <td>NaN</td>\n",
       "      <td>NaN</td>\n",
       "      <td>NaN</td>\n",
       "      <td>NaN</td>\n",
       "      <td>NaN</td>\n",
       "      <td>NaN</td>\n",
       "      <td>NaN</td>\n",
       "      <td>18429.34</td>\n",
       "      <td>14036.66</td>\n",
       "    </tr>\n",
       "    <tr>\n",
       "      <th>2</th>\n",
       "      <td>1002</td>\n",
       "      <td>NaN</td>\n",
       "      <td>NaN</td>\n",
       "      <td>NaN</td>\n",
       "      <td>NaN</td>\n",
       "      <td>NaN</td>\n",
       "      <td>10856.82</td>\n",
       "      <td>17580.10</td>\n",
       "      <td>20319.26</td>\n",
       "      <td>16691.08</td>\n",
       "      <td>13888.25</td>\n",
       "      <td>18587.28</td>\n",
       "      <td>18113.73</td>\n",
       "    </tr>\n",
       "    <tr>\n",
       "      <th>3</th>\n",
       "      <td>1003</td>\n",
       "      <td>NaN</td>\n",
       "      <td>NaN</td>\n",
       "      <td>NaN</td>\n",
       "      <td>NaN</td>\n",
       "      <td>NaN</td>\n",
       "      <td>NaN</td>\n",
       "      <td>NaN</td>\n",
       "      <td>8565.21</td>\n",
       "      <td>12468.87</td>\n",
       "      <td>14768.14</td>\n",
       "      <td>11356.89</td>\n",
       "      <td>10121.53</td>\n",
       "    </tr>\n",
       "    <tr>\n",
       "      <th>4</th>\n",
       "      <td>1004</td>\n",
       "      <td>NaN</td>\n",
       "      <td>NaN</td>\n",
       "      <td>NaN</td>\n",
       "      <td>NaN</td>\n",
       "      <td>13403.98</td>\n",
       "      <td>17600.02</td>\n",
       "      <td>22229.58</td>\n",
       "      <td>28584.37</td>\n",
       "      <td>15109.03</td>\n",
       "      <td>18475.44</td>\n",
       "      <td>15616.02</td>\n",
       "      <td>18021.04</td>\n",
       "    </tr>\n",
       "    <tr>\n",
       "      <th>...</th>\n",
       "      <td>...</td>\n",
       "      <td>...</td>\n",
       "      <td>...</td>\n",
       "      <td>...</td>\n",
       "      <td>...</td>\n",
       "      <td>...</td>\n",
       "      <td>...</td>\n",
       "      <td>...</td>\n",
       "      <td>...</td>\n",
       "      <td>...</td>\n",
       "      <td>...</td>\n",
       "      <td>...</td>\n",
       "      <td>...</td>\n",
       "    </tr>\n",
       "    <tr>\n",
       "      <th>492</th>\n",
       "      <td>1495</td>\n",
       "      <td>NaN</td>\n",
       "      <td>NaN</td>\n",
       "      <td>NaN</td>\n",
       "      <td>NaN</td>\n",
       "      <td>NaN</td>\n",
       "      <td>NaN</td>\n",
       "      <td>NaN</td>\n",
       "      <td>2614.07</td>\n",
       "      <td>33067.62</td>\n",
       "      <td>29363.00</td>\n",
       "      <td>38939.11</td>\n",
       "      <td>23426.76</td>\n",
       "    </tr>\n",
       "    <tr>\n",
       "      <th>493</th>\n",
       "      <td>1496</td>\n",
       "      <td>3762.73</td>\n",
       "      <td>28489.67</td>\n",
       "      <td>24959.0</td>\n",
       "      <td>21074.67</td>\n",
       "      <td>23709.75</td>\n",
       "      <td>20134.31</td>\n",
       "      <td>24364.76</td>\n",
       "      <td>23530.03</td>\n",
       "      <td>26934.65</td>\n",
       "      <td>28183.17</td>\n",
       "      <td>25063.40</td>\n",
       "      <td>20736.15</td>\n",
       "    </tr>\n",
       "    <tr>\n",
       "      <th>494</th>\n",
       "      <td>1497</td>\n",
       "      <td>NaN</td>\n",
       "      <td>NaN</td>\n",
       "      <td>NaN</td>\n",
       "      <td>NaN</td>\n",
       "      <td>NaN</td>\n",
       "      <td>NaN</td>\n",
       "      <td>NaN</td>\n",
       "      <td>NaN</td>\n",
       "      <td>NaN</td>\n",
       "      <td>11500.29</td>\n",
       "      <td>14156.08</td>\n",
       "      <td>19918.60</td>\n",
       "    </tr>\n",
       "    <tr>\n",
       "      <th>495</th>\n",
       "      <td>1498</td>\n",
       "      <td>NaN</td>\n",
       "      <td>NaN</td>\n",
       "      <td>NaN</td>\n",
       "      <td>NaN</td>\n",
       "      <td>NaN</td>\n",
       "      <td>NaN</td>\n",
       "      <td>7476.24</td>\n",
       "      <td>24235.21</td>\n",
       "      <td>22134.41</td>\n",
       "      <td>20579.36</td>\n",
       "      <td>NaN</td>\n",
       "      <td>NaN</td>\n",
       "    </tr>\n",
       "    <tr>\n",
       "      <th>496</th>\n",
       "      <td>1499</td>\n",
       "      <td>NaN</td>\n",
       "      <td>NaN</td>\n",
       "      <td>NaN</td>\n",
       "      <td>NaN</td>\n",
       "      <td>NaN</td>\n",
       "      <td>NaN</td>\n",
       "      <td>NaN</td>\n",
       "      <td>NaN</td>\n",
       "      <td>1845.75</td>\n",
       "      <td>17788.51</td>\n",
       "      <td>17963.31</td>\n",
       "      <td>13055.58</td>\n",
       "    </tr>\n",
       "  </tbody>\n",
       "</table>\n",
       "<p>497 rows × 13 columns</p>\n",
       "</div>"
      ],
      "text/plain": [
       "session_month  user_id        1         2        3         4         5  \\\n",
       "0                 1000      NaN       NaN      NaN       NaN   2253.49   \n",
       "1                 1001      NaN       NaN      NaN       NaN       NaN   \n",
       "2                 1002      NaN       NaN      NaN       NaN       NaN   \n",
       "3                 1003      NaN       NaN      NaN       NaN       NaN   \n",
       "4                 1004      NaN       NaN      NaN       NaN  13403.98   \n",
       "..                 ...      ...       ...      ...       ...       ...   \n",
       "492               1495      NaN       NaN      NaN       NaN       NaN   \n",
       "493               1496  3762.73  28489.67  24959.0  21074.67  23709.75   \n",
       "494               1497      NaN       NaN      NaN       NaN       NaN   \n",
       "495               1498      NaN       NaN      NaN       NaN       NaN   \n",
       "496               1499      NaN       NaN      NaN       NaN       NaN   \n",
       "\n",
       "session_month         6         7         8         9        10        11  \\\n",
       "0              23233.77  14003.64  14055.93  14568.91  14702.49  14756.47   \n",
       "1                   NaN       NaN       NaN       NaN       NaN  18429.34   \n",
       "2              10856.82  17580.10  20319.26  16691.08  13888.25  18587.28   \n",
       "3                   NaN       NaN   8565.21  12468.87  14768.14  11356.89   \n",
       "4              17600.02  22229.58  28584.37  15109.03  18475.44  15616.02   \n",
       "..                  ...       ...       ...       ...       ...       ...   \n",
       "492                 NaN       NaN   2614.07  33067.62  29363.00  38939.11   \n",
       "493            20134.31  24364.76  23530.03  26934.65  28183.17  25063.40   \n",
       "494                 NaN       NaN       NaN       NaN  11500.29  14156.08   \n",
       "495                 NaN   7476.24  24235.21  22134.41  20579.36       NaN   \n",
       "496                 NaN       NaN       NaN   1845.75  17788.51  17963.31   \n",
       "\n",
       "session_month        12  \n",
       "0               9817.61  \n",
       "1              14036.66  \n",
       "2              18113.73  \n",
       "3              10121.53  \n",
       "4              18021.04  \n",
       "..                  ...  \n",
       "492            23426.76  \n",
       "493            20736.15  \n",
       "494            19918.60  \n",
       "495                 NaN  \n",
       "496            13055.58  \n",
       "\n",
       "[497 rows x 13 columns]"
      ]
     },
     "execution_count": 39,
     "metadata": {},
     "output_type": "execute_result"
    }
   ],
   "source": [
    "internet_by_users"
   ]
  },
  {
   "cell_type": "code",
   "execution_count": 40,
   "id": "bac7dd2f",
   "metadata": {},
   "outputs": [],
   "source": [
    "# Переименование столбцов таблицы internet_by_users\n",
    "internet_by_users = internet_by_users.rename(columns = {1: '1_mb_sum',\n",
    "                                                        2: '2_mb_sum',\n",
    "                                                        3: '3_mb_sum',\n",
    "                                                        4: '4_mb_sum',\n",
    "                                                        5: '5_mb_sum',\n",
    "                                                        6: '6_mb_sum',\n",
    "                                                        7: '7_mb_sum',\n",
    "                                                        8: '8_mb_sum',\n",
    "                                                        9: '9_mb_sum',\n",
    "                                                        10: '10_mb_sum',\n",
    "                                                        11: '11_mb_sum',\n",
    "                                                        12: '12_mb_sum'})"
   ]
  },
  {
   "cell_type": "code",
   "execution_count": 41,
   "id": "f50c704f",
   "metadata": {
    "scrolled": false
   },
   "outputs": [
    {
     "data": {
      "text/html": [
       "<div>\n",
       "<style scoped>\n",
       "    .dataframe tbody tr th:only-of-type {\n",
       "        vertical-align: middle;\n",
       "    }\n",
       "\n",
       "    .dataframe tbody tr th {\n",
       "        vertical-align: top;\n",
       "    }\n",
       "\n",
       "    .dataframe thead th {\n",
       "        text-align: right;\n",
       "    }\n",
       "</style>\n",
       "<table border=\"1\" class=\"dataframe\">\n",
       "  <thead>\n",
       "    <tr style=\"text-align: right;\">\n",
       "      <th>session_month</th>\n",
       "      <th>user_id</th>\n",
       "      <th>1_mb_sum</th>\n",
       "      <th>2_mb_sum</th>\n",
       "      <th>3_mb_sum</th>\n",
       "      <th>4_mb_sum</th>\n",
       "      <th>5_mb_sum</th>\n",
       "      <th>6_mb_sum</th>\n",
       "      <th>7_mb_sum</th>\n",
       "      <th>8_mb_sum</th>\n",
       "      <th>9_mb_sum</th>\n",
       "      <th>10_mb_sum</th>\n",
       "      <th>11_mb_sum</th>\n",
       "      <th>12_mb_sum</th>\n",
       "    </tr>\n",
       "  </thead>\n",
       "  <tbody>\n",
       "    <tr>\n",
       "      <th>0</th>\n",
       "      <td>1000</td>\n",
       "      <td>NaN</td>\n",
       "      <td>NaN</td>\n",
       "      <td>NaN</td>\n",
       "      <td>NaN</td>\n",
       "      <td>2253.49</td>\n",
       "      <td>23233.77</td>\n",
       "      <td>14003.64</td>\n",
       "      <td>14055.93</td>\n",
       "      <td>14568.91</td>\n",
       "      <td>14702.49</td>\n",
       "      <td>14756.47</td>\n",
       "      <td>9817.61</td>\n",
       "    </tr>\n",
       "    <tr>\n",
       "      <th>1</th>\n",
       "      <td>1001</td>\n",
       "      <td>NaN</td>\n",
       "      <td>NaN</td>\n",
       "      <td>NaN</td>\n",
       "      <td>NaN</td>\n",
       "      <td>NaN</td>\n",
       "      <td>NaN</td>\n",
       "      <td>NaN</td>\n",
       "      <td>NaN</td>\n",
       "      <td>NaN</td>\n",
       "      <td>NaN</td>\n",
       "      <td>18429.34</td>\n",
       "      <td>14036.66</td>\n",
       "    </tr>\n",
       "    <tr>\n",
       "      <th>2</th>\n",
       "      <td>1002</td>\n",
       "      <td>NaN</td>\n",
       "      <td>NaN</td>\n",
       "      <td>NaN</td>\n",
       "      <td>NaN</td>\n",
       "      <td>NaN</td>\n",
       "      <td>10856.82</td>\n",
       "      <td>17580.10</td>\n",
       "      <td>20319.26</td>\n",
       "      <td>16691.08</td>\n",
       "      <td>13888.25</td>\n",
       "      <td>18587.28</td>\n",
       "      <td>18113.73</td>\n",
       "    </tr>\n",
       "    <tr>\n",
       "      <th>3</th>\n",
       "      <td>1003</td>\n",
       "      <td>NaN</td>\n",
       "      <td>NaN</td>\n",
       "      <td>NaN</td>\n",
       "      <td>NaN</td>\n",
       "      <td>NaN</td>\n",
       "      <td>NaN</td>\n",
       "      <td>NaN</td>\n",
       "      <td>8565.21</td>\n",
       "      <td>12468.87</td>\n",
       "      <td>14768.14</td>\n",
       "      <td>11356.89</td>\n",
       "      <td>10121.53</td>\n",
       "    </tr>\n",
       "    <tr>\n",
       "      <th>4</th>\n",
       "      <td>1004</td>\n",
       "      <td>NaN</td>\n",
       "      <td>NaN</td>\n",
       "      <td>NaN</td>\n",
       "      <td>NaN</td>\n",
       "      <td>13403.98</td>\n",
       "      <td>17600.02</td>\n",
       "      <td>22229.58</td>\n",
       "      <td>28584.37</td>\n",
       "      <td>15109.03</td>\n",
       "      <td>18475.44</td>\n",
       "      <td>15616.02</td>\n",
       "      <td>18021.04</td>\n",
       "    </tr>\n",
       "    <tr>\n",
       "      <th>...</th>\n",
       "      <td>...</td>\n",
       "      <td>...</td>\n",
       "      <td>...</td>\n",
       "      <td>...</td>\n",
       "      <td>...</td>\n",
       "      <td>...</td>\n",
       "      <td>...</td>\n",
       "      <td>...</td>\n",
       "      <td>...</td>\n",
       "      <td>...</td>\n",
       "      <td>...</td>\n",
       "      <td>...</td>\n",
       "      <td>...</td>\n",
       "    </tr>\n",
       "    <tr>\n",
       "      <th>492</th>\n",
       "      <td>1495</td>\n",
       "      <td>NaN</td>\n",
       "      <td>NaN</td>\n",
       "      <td>NaN</td>\n",
       "      <td>NaN</td>\n",
       "      <td>NaN</td>\n",
       "      <td>NaN</td>\n",
       "      <td>NaN</td>\n",
       "      <td>2614.07</td>\n",
       "      <td>33067.62</td>\n",
       "      <td>29363.00</td>\n",
       "      <td>38939.11</td>\n",
       "      <td>23426.76</td>\n",
       "    </tr>\n",
       "    <tr>\n",
       "      <th>493</th>\n",
       "      <td>1496</td>\n",
       "      <td>3762.73</td>\n",
       "      <td>28489.67</td>\n",
       "      <td>24959.0</td>\n",
       "      <td>21074.67</td>\n",
       "      <td>23709.75</td>\n",
       "      <td>20134.31</td>\n",
       "      <td>24364.76</td>\n",
       "      <td>23530.03</td>\n",
       "      <td>26934.65</td>\n",
       "      <td>28183.17</td>\n",
       "      <td>25063.40</td>\n",
       "      <td>20736.15</td>\n",
       "    </tr>\n",
       "    <tr>\n",
       "      <th>494</th>\n",
       "      <td>1497</td>\n",
       "      <td>NaN</td>\n",
       "      <td>NaN</td>\n",
       "      <td>NaN</td>\n",
       "      <td>NaN</td>\n",
       "      <td>NaN</td>\n",
       "      <td>NaN</td>\n",
       "      <td>NaN</td>\n",
       "      <td>NaN</td>\n",
       "      <td>NaN</td>\n",
       "      <td>11500.29</td>\n",
       "      <td>14156.08</td>\n",
       "      <td>19918.60</td>\n",
       "    </tr>\n",
       "    <tr>\n",
       "      <th>495</th>\n",
       "      <td>1498</td>\n",
       "      <td>NaN</td>\n",
       "      <td>NaN</td>\n",
       "      <td>NaN</td>\n",
       "      <td>NaN</td>\n",
       "      <td>NaN</td>\n",
       "      <td>NaN</td>\n",
       "      <td>7476.24</td>\n",
       "      <td>24235.21</td>\n",
       "      <td>22134.41</td>\n",
       "      <td>20579.36</td>\n",
       "      <td>NaN</td>\n",
       "      <td>NaN</td>\n",
       "    </tr>\n",
       "    <tr>\n",
       "      <th>496</th>\n",
       "      <td>1499</td>\n",
       "      <td>NaN</td>\n",
       "      <td>NaN</td>\n",
       "      <td>NaN</td>\n",
       "      <td>NaN</td>\n",
       "      <td>NaN</td>\n",
       "      <td>NaN</td>\n",
       "      <td>NaN</td>\n",
       "      <td>NaN</td>\n",
       "      <td>1845.75</td>\n",
       "      <td>17788.51</td>\n",
       "      <td>17963.31</td>\n",
       "      <td>13055.58</td>\n",
       "    </tr>\n",
       "  </tbody>\n",
       "</table>\n",
       "<p>497 rows × 13 columns</p>\n",
       "</div>"
      ],
      "text/plain": [
       "session_month  user_id  1_mb_sum  2_mb_sum  3_mb_sum  4_mb_sum  5_mb_sum  \\\n",
       "0                 1000       NaN       NaN       NaN       NaN   2253.49   \n",
       "1                 1001       NaN       NaN       NaN       NaN       NaN   \n",
       "2                 1002       NaN       NaN       NaN       NaN       NaN   \n",
       "3                 1003       NaN       NaN       NaN       NaN       NaN   \n",
       "4                 1004       NaN       NaN       NaN       NaN  13403.98   \n",
       "..                 ...       ...       ...       ...       ...       ...   \n",
       "492               1495       NaN       NaN       NaN       NaN       NaN   \n",
       "493               1496   3762.73  28489.67   24959.0  21074.67  23709.75   \n",
       "494               1497       NaN       NaN       NaN       NaN       NaN   \n",
       "495               1498       NaN       NaN       NaN       NaN       NaN   \n",
       "496               1499       NaN       NaN       NaN       NaN       NaN   \n",
       "\n",
       "session_month  6_mb_sum  7_mb_sum  8_mb_sum  9_mb_sum  10_mb_sum  11_mb_sum  \\\n",
       "0              23233.77  14003.64  14055.93  14568.91   14702.49   14756.47   \n",
       "1                   NaN       NaN       NaN       NaN        NaN   18429.34   \n",
       "2              10856.82  17580.10  20319.26  16691.08   13888.25   18587.28   \n",
       "3                   NaN       NaN   8565.21  12468.87   14768.14   11356.89   \n",
       "4              17600.02  22229.58  28584.37  15109.03   18475.44   15616.02   \n",
       "..                  ...       ...       ...       ...        ...        ...   \n",
       "492                 NaN       NaN   2614.07  33067.62   29363.00   38939.11   \n",
       "493            20134.31  24364.76  23530.03  26934.65   28183.17   25063.40   \n",
       "494                 NaN       NaN       NaN       NaN   11500.29   14156.08   \n",
       "495                 NaN   7476.24  24235.21  22134.41   20579.36        NaN   \n",
       "496                 NaN       NaN       NaN   1845.75   17788.51   17963.31   \n",
       "\n",
       "session_month  12_mb_sum  \n",
       "0                9817.61  \n",
       "1               14036.66  \n",
       "2               18113.73  \n",
       "3               10121.53  \n",
       "4               18021.04  \n",
       "..                   ...  \n",
       "492             23426.76  \n",
       "493             20736.15  \n",
       "494             19918.60  \n",
       "495                  NaN  \n",
       "496             13055.58  \n",
       "\n",
       "[497 rows x 13 columns]"
      ]
     },
     "execution_count": 41,
     "metadata": {},
     "output_type": "execute_result"
    }
   ],
   "source": [
    "internet_by_users"
   ]
  },
  {
   "cell_type": "markdown",
   "id": "fb05b8b8",
   "metadata": {},
   "source": [
    "### Выручка с каждого пользователя за каждый месяц"
   ]
  },
  {
   "cell_type": "markdown",
   "id": "7055b0a5",
   "metadata": {},
   "source": [
    "Для подсчета помесячной выручки с каждого пользователя объеденим все сводные таблицы `calls_duration_by_users`, `messages_count_by_users` и `internet_by_users` в один датафрейм `user_info` с помощью метода `merge`. В качестве способа присоединения выберем `left`, чтобы не потерять часть данных."
   ]
  },
  {
   "cell_type": "code",
   "execution_count": 42,
   "id": "28363bfe",
   "metadata": {},
   "outputs": [],
   "source": [
    "# Присоединение таблицы calls_duration_by_users и messages_count_by_users\n",
    "user_info = calls_duration_by_users[['user_id',\n",
    "                                     '1_call_duration',\n",
    "                                     '2_call_duration',\n",
    "                                     '3_call_duration',\n",
    "                                     '4_call_duration',\n",
    "                                     '5_call_duration',\n",
    "                                     '6_call_duration',\n",
    "                                     '7_call_duration',\n",
    "                                     '8_call_duration',\n",
    "                                     '9_call_duration',\n",
    "                                     '10_call_duration',\n",
    "                                     '11_call_duration',\n",
    "                                     '12_call_duration']].merge(messages_count_by_users[['user_id',\n",
    "                                                                                         '1_messages_count',\n",
    "                                                                                         '2_messages_count',\n",
    "                                                                                         '3_messages_count',\n",
    "                                                                                         '4_messages_count',\n",
    "                                                                                         '5_messages_count',\n",
    "                                                                                         '6_messages_count',\n",
    "                                                                                         '7_messages_count',\n",
    "                                                                                         '8_messages_count',\n",
    "                                                                                         '9_messages_count',\n",
    "                                                                                         '10_messages_count',\n",
    "                                                                                         '11_messages_count',\n",
    "                                                                                         '12_messages_count']],\n",
    "                                                                how = 'outer',\n",
    "                                                                on = 'user_id')"
   ]
  },
  {
   "cell_type": "code",
   "execution_count": 43,
   "id": "c678f63f",
   "metadata": {},
   "outputs": [],
   "source": [
    "# Присоединение таблицы internet_by_users\n",
    "user_info = user_info.merge(internet_by_users[['user_id',\n",
    "                                               '1_mb_sum',\n",
    "                                               '2_mb_sum',\n",
    "                                               '3_mb_sum',\n",
    "                                               '4_mb_sum',\n",
    "                                               '5_mb_sum',\n",
    "                                               '6_mb_sum',\n",
    "                                               '7_mb_sum',\n",
    "                                               '8_mb_sum',\n",
    "                                               '9_mb_sum',\n",
    "                                               '10_mb_sum',\n",
    "                                               '11_mb_sum',\n",
    "                                               '12_mb_sum']],\n",
    "                            how = 'outer',\n",
    "                            on = 'user_id')"
   ]
  },
  {
   "cell_type": "code",
   "execution_count": 44,
   "id": "016d8b93",
   "metadata": {
    "scrolled": true
   },
   "outputs": [
    {
     "name": "stdout",
     "output_type": "stream",
     "text": [
      "<class 'pandas.core.frame.DataFrame'>\n",
      "Int64Index: 498 entries, 0 to 497\n",
      "Data columns (total 37 columns):\n",
      " #   Column             Non-Null Count  Dtype  \n",
      "---  ------             --------------  -----  \n",
      " 0   user_id            498 non-null    int64  \n",
      " 1   1_call_duration    43 non-null     float64\n",
      " 2   2_call_duration    82 non-null     float64\n",
      " 3   3_call_duration    114 non-null    float64\n",
      " 4   4_call_duration    165 non-null    float64\n",
      " 5   5_call_duration    205 non-null    float64\n",
      " 6   6_call_duration    244 non-null    float64\n",
      " 7   7_call_duration    289 non-null    float64\n",
      " 8   8_call_duration    337 non-null    float64\n",
      " 9   9_call_duration    370 non-null    float64\n",
      " 10  10_call_duration   411 non-null    float64\n",
      " 11  11_call_duration   444 non-null    float64\n",
      " 12  12_call_duration   470 non-null    float64\n",
      " 13  1_messages_count   38 non-null     float64\n",
      " 14  2_messages_count   66 non-null     float64\n",
      " 15  3_messages_count   94 non-null     float64\n",
      " 16  4_messages_count   135 non-null    float64\n",
      " 17  5_messages_count   174 non-null    float64\n",
      " 18  6_messages_count   209 non-null    float64\n",
      " 19  7_messages_count   247 non-null    float64\n",
      " 20  8_messages_count   292 non-null    float64\n",
      " 21  9_messages_count   318 non-null    float64\n",
      " 22  10_messages_count  357 non-null    float64\n",
      " 23  11_messages_count  383 non-null    float64\n",
      " 24  12_messages_count  404 non-null    float64\n",
      " 25  1_mb_sum           43 non-null     float64\n",
      " 26  2_mb_sum           80 non-null     float64\n",
      " 27  3_mb_sum           114 non-null    float64\n",
      " 28  4_mb_sum           167 non-null    float64\n",
      " 29  5_mb_sum           207 non-null    float64\n",
      " 30  6_mb_sum           247 non-null    float64\n",
      " 31  7_mb_sum           291 non-null    float64\n",
      " 32  8_mb_sum           340 non-null    float64\n",
      " 33  9_mb_sum           374 non-null    float64\n",
      " 34  10_mb_sum          416 non-null    float64\n",
      " 35  11_mb_sum          449 non-null    float64\n",
      " 36  12_mb_sum          475 non-null    float64\n",
      "dtypes: float64(36), int64(1)\n",
      "memory usage: 147.8 KB\n"
     ]
    }
   ],
   "source": [
    "# Выведим информацию по итоговой таблице\n",
    "user_info.info()"
   ]
  },
  {
   "cell_type": "markdown",
   "id": "8bfb0216",
   "metadata": {},
   "source": [
    "Также присоединим к итоговой таблице `user_info` столбец тарифов пользователей из датафрейма `users`. \n",
    "\n",
    "Отсутствие дублей по ФИО в датафрейме `users` показывает, что никто из пользователей не менял тарифы со Smart на Ultra или наоборот. Поэтому присоединение столбца `tariff` к датафрейму `user_info` не породит возникновение дублей.\n",
    "\n",
    "Столбец `tariff` необходим, чтобы корректно рассчитать итоговую выручку с пользователя в зависимости от расценок тарифов."
   ]
  },
  {
   "cell_type": "code",
   "execution_count": 45,
   "id": "49f7dc9b",
   "metadata": {},
   "outputs": [],
   "source": [
    "# Присоединение столбца tariff\n",
    "user_info = user_info.merge(users[['user_id','tariff']], how = 'left', on = 'user_id')"
   ]
  },
  {
   "cell_type": "code",
   "execution_count": 46,
   "id": "ff014bc7",
   "metadata": {
    "scrolled": true
   },
   "outputs": [
    {
     "name": "stdout",
     "output_type": "stream",
     "text": [
      "<class 'pandas.core.frame.DataFrame'>\n",
      "Int64Index: 498 entries, 0 to 497\n",
      "Data columns (total 38 columns):\n",
      " #   Column             Non-Null Count  Dtype  \n",
      "---  ------             --------------  -----  \n",
      " 0   user_id            498 non-null    int64  \n",
      " 1   1_call_duration    43 non-null     float64\n",
      " 2   2_call_duration    82 non-null     float64\n",
      " 3   3_call_duration    114 non-null    float64\n",
      " 4   4_call_duration    165 non-null    float64\n",
      " 5   5_call_duration    205 non-null    float64\n",
      " 6   6_call_duration    244 non-null    float64\n",
      " 7   7_call_duration    289 non-null    float64\n",
      " 8   8_call_duration    337 non-null    float64\n",
      " 9   9_call_duration    370 non-null    float64\n",
      " 10  10_call_duration   411 non-null    float64\n",
      " 11  11_call_duration   444 non-null    float64\n",
      " 12  12_call_duration   470 non-null    float64\n",
      " 13  1_messages_count   38 non-null     float64\n",
      " 14  2_messages_count   66 non-null     float64\n",
      " 15  3_messages_count   94 non-null     float64\n",
      " 16  4_messages_count   135 non-null    float64\n",
      " 17  5_messages_count   174 non-null    float64\n",
      " 18  6_messages_count   209 non-null    float64\n",
      " 19  7_messages_count   247 non-null    float64\n",
      " 20  8_messages_count   292 non-null    float64\n",
      " 21  9_messages_count   318 non-null    float64\n",
      " 22  10_messages_count  357 non-null    float64\n",
      " 23  11_messages_count  383 non-null    float64\n",
      " 24  12_messages_count  404 non-null    float64\n",
      " 25  1_mb_sum           43 non-null     float64\n",
      " 26  2_mb_sum           80 non-null     float64\n",
      " 27  3_mb_sum           114 non-null    float64\n",
      " 28  4_mb_sum           167 non-null    float64\n",
      " 29  5_mb_sum           207 non-null    float64\n",
      " 30  6_mb_sum           247 non-null    float64\n",
      " 31  7_mb_sum           291 non-null    float64\n",
      " 32  8_mb_sum           340 non-null    float64\n",
      " 33  9_mb_sum           374 non-null    float64\n",
      " 34  10_mb_sum          416 non-null    float64\n",
      " 35  11_mb_sum          449 non-null    float64\n",
      " 36  12_mb_sum          475 non-null    float64\n",
      " 37  tariff             498 non-null    object \n",
      "dtypes: float64(36), int64(1), object(1)\n",
      "memory usage: 151.7+ KB\n"
     ]
    }
   ],
   "source": [
    "user_info.info()"
   ]
  },
  {
   "cell_type": "markdown",
   "id": "96e3e4b0",
   "metadata": {},
   "source": [
    "Теперь все готово к расчету ежемесячной выручки с каждого пользователя. Для этого создадим функцию `revenue_calculation`, которая будет принимать на вход строку таблицы `user_info` и номер месяца расчета выручки."
   ]
  },
  {
   "cell_type": "code",
   "execution_count": 47,
   "id": "53db0960",
   "metadata": {},
   "outputs": [],
   "source": [
    "def revenue_calculation(row, month_number):\n",
    "    # Блок для тарифа Smart\n",
    "    # Условие проверки тарифа пользователя и есть ли данные за указанный месяц\n",
    "        if (row[37] == 'smart' and\n",
    "            ((pd.notna(row[month_number])) or\n",
    "             (pd.notna(row[month_number + 12])) or\n",
    "             (pd.notna(row[month_number + 24])))):\n",
    "            \n",
    "            # Устанавливаем изначальную стоимость тарифа Smart\n",
    "            revenue = 550\n",
    "            \n",
    "            # Если количество проговоренных минут превышает 500, то\n",
    "            # прибавим к изначальной стоимости цену перелимита\n",
    "            if row[month_number] > 500:\n",
    "                revenue += math.ceil(row[month_number] - 500) * 3\n",
    "                \n",
    "            # Если количество отправленных СМС превышает 50, то\n",
    "            # прибавим к изначальной стоимости цену перелимита\n",
    "            if row[month_number + 12] > 50:\n",
    "                revenue += (row[month_number + 12] - 50) * 3\n",
    "                \n",
    "            # Если количество потраченного интернет-трафика превышает 15360 Гб, то\n",
    "            # прибавим к изначальной стоимости цену перелимита\n",
    "            if row[month_number + 24] > 15360:\n",
    "                revenue += math.ceil((row[month_number + 24] - 15360) / 1024) * 200\n",
    "            return revenue\n",
    "            \n",
    "        # Блок для тарифа Ultra\n",
    "        # Условие проверки тарифа пользователя и есть ли данные за указанный месяц\n",
    "        elif (row[37] == 'ultra' and\n",
    "              ((pd.notna(row[month_number])) or\n",
    "               (pd.notna(row[month_number + 12])) or\n",
    "               (pd.notna(row[month_number + 24])))):\n",
    "        \n",
    "            # Устанавливаем изначальную стоимость тарифа Ultra\n",
    "            revenue = 1950\n",
    "            \n",
    "            # Если количество проговоренных минут превышает 3000, то\n",
    "            # прибавим к изначальной стоимости цену перелимита\n",
    "            if row[month_number] > 3000:\n",
    "                revenue += math.ceil(row[month_number] - 3000) * 1\n",
    "            \n",
    "            # Если количество отправленных СМС превышает 1000, то\n",
    "            # прибавим к изначальной стоимости цену перелимита\n",
    "            if row[month_number + 12] > 1000:\n",
    "                revenue += (row[month_number + 12] - 1000) * 1\n",
    "            \n",
    "            # Если количество потраченного интернет-трафика превышает 30720 Гб, то\n",
    "            # прибавим к изначальной стоимости цену перелимита\n",
    "            if row[month_number + 24] > 30720:\n",
    "                revenue += math.ceil((row[month_number + 24] - 30720) / 1024) * 150\n",
    "    \n",
    "            return revenue\n",
    "        \n",
    "        # Если проверяемое значение является Null, то вернем None\n",
    "        return None"
   ]
  },
  {
   "cell_type": "code",
   "execution_count": 48,
   "id": "fa28e402",
   "metadata": {
    "scrolled": true
   },
   "outputs": [],
   "source": [
    "# Создание столбцов помесячной выручки\n",
    "user_info['1_revenue'] = user_info.apply(revenue_calculation, month_number = 1,  axis = 1)\n",
    "user_info['2_revenue'] = user_info.apply(revenue_calculation, month_number = 2,  axis = 1)\n",
    "user_info['3_revenue'] = user_info.apply(revenue_calculation, month_number = 3,  axis = 1)\n",
    "user_info['4_revenue'] = user_info.apply(revenue_calculation, month_number = 4,  axis = 1)\n",
    "user_info['5_revenue'] = user_info.apply(revenue_calculation, month_number = 5,  axis = 1)\n",
    "user_info['6_revenue'] = user_info.apply(revenue_calculation, month_number = 6,  axis = 1)\n",
    "user_info['7_revenue'] = user_info.apply(revenue_calculation, month_number = 7,  axis = 1)\n",
    "user_info['8_revenue'] = user_info.apply(revenue_calculation, month_number = 8,  axis = 1)\n",
    "user_info['9_revenue'] = user_info.apply(revenue_calculation, month_number = 9,  axis = 1)\n",
    "user_info['10_revenue'] = user_info.apply(revenue_calculation, month_number = 10,  axis = 1)\n",
    "user_info['11_revenue'] = user_info.apply(revenue_calculation, month_number = 11,  axis = 1)\n",
    "user_info['12_revenue'] = user_info.apply(revenue_calculation, month_number = 12,  axis = 1)"
   ]
  },
  {
   "cell_type": "code",
   "execution_count": 49,
   "id": "ec1b85fc",
   "metadata": {},
   "outputs": [
    {
     "data": {
      "text/html": [
       "<div>\n",
       "<style scoped>\n",
       "    .dataframe tbody tr th:only-of-type {\n",
       "        vertical-align: middle;\n",
       "    }\n",
       "\n",
       "    .dataframe tbody tr th {\n",
       "        vertical-align: top;\n",
       "    }\n",
       "\n",
       "    .dataframe thead th {\n",
       "        text-align: right;\n",
       "    }\n",
       "</style>\n",
       "<table border=\"1\" class=\"dataframe\">\n",
       "  <thead>\n",
       "    <tr style=\"text-align: right;\">\n",
       "      <th></th>\n",
       "      <th>user_id</th>\n",
       "      <th>1_call_duration</th>\n",
       "      <th>2_call_duration</th>\n",
       "      <th>3_call_duration</th>\n",
       "      <th>4_call_duration</th>\n",
       "      <th>5_call_duration</th>\n",
       "      <th>6_call_duration</th>\n",
       "      <th>7_call_duration</th>\n",
       "      <th>8_call_duration</th>\n",
       "      <th>9_call_duration</th>\n",
       "      <th>...</th>\n",
       "      <th>3_revenue</th>\n",
       "      <th>4_revenue</th>\n",
       "      <th>5_revenue</th>\n",
       "      <th>6_revenue</th>\n",
       "      <th>7_revenue</th>\n",
       "      <th>8_revenue</th>\n",
       "      <th>9_revenue</th>\n",
       "      <th>10_revenue</th>\n",
       "      <th>11_revenue</th>\n",
       "      <th>12_revenue</th>\n",
       "    </tr>\n",
       "  </thead>\n",
       "  <tbody>\n",
       "    <tr>\n",
       "      <th>0</th>\n",
       "      <td>1000</td>\n",
       "      <td>NaN</td>\n",
       "      <td>NaN</td>\n",
       "      <td>NaN</td>\n",
       "      <td>NaN</td>\n",
       "      <td>159.0</td>\n",
       "      <td>172.0</td>\n",
       "      <td>340.0</td>\n",
       "      <td>408.0</td>\n",
       "      <td>466.0</td>\n",
       "      <td>...</td>\n",
       "      <td>NaN</td>\n",
       "      <td>NaN</td>\n",
       "      <td>1950.0</td>\n",
       "      <td>1950.0</td>\n",
       "      <td>1950.0</td>\n",
       "      <td>1950.0</td>\n",
       "      <td>1950.0</td>\n",
       "      <td>1950.0</td>\n",
       "      <td>1950.0</td>\n",
       "      <td>1950.0</td>\n",
       "    </tr>\n",
       "    <tr>\n",
       "      <th>1</th>\n",
       "      <td>1001</td>\n",
       "      <td>NaN</td>\n",
       "      <td>NaN</td>\n",
       "      <td>NaN</td>\n",
       "      <td>NaN</td>\n",
       "      <td>NaN</td>\n",
       "      <td>NaN</td>\n",
       "      <td>NaN</td>\n",
       "      <td>NaN</td>\n",
       "      <td>NaN</td>\n",
       "      <td>...</td>\n",
       "      <td>NaN</td>\n",
       "      <td>NaN</td>\n",
       "      <td>NaN</td>\n",
       "      <td>NaN</td>\n",
       "      <td>NaN</td>\n",
       "      <td>NaN</td>\n",
       "      <td>NaN</td>\n",
       "      <td>NaN</td>\n",
       "      <td>1150.0</td>\n",
       "      <td>550.0</td>\n",
       "    </tr>\n",
       "    <tr>\n",
       "      <th>2</th>\n",
       "      <td>1002</td>\n",
       "      <td>NaN</td>\n",
       "      <td>NaN</td>\n",
       "      <td>NaN</td>\n",
       "      <td>NaN</td>\n",
       "      <td>NaN</td>\n",
       "      <td>117.0</td>\n",
       "      <td>214.0</td>\n",
       "      <td>289.0</td>\n",
       "      <td>206.0</td>\n",
       "      <td>...</td>\n",
       "      <td>NaN</td>\n",
       "      <td>NaN</td>\n",
       "      <td>NaN</td>\n",
       "      <td>550.0</td>\n",
       "      <td>1150.0</td>\n",
       "      <td>1550.0</td>\n",
       "      <td>950.0</td>\n",
       "      <td>550.0</td>\n",
       "      <td>1350.0</td>\n",
       "      <td>1150.0</td>\n",
       "    </tr>\n",
       "    <tr>\n",
       "      <th>3</th>\n",
       "      <td>1003</td>\n",
       "      <td>NaN</td>\n",
       "      <td>NaN</td>\n",
       "      <td>NaN</td>\n",
       "      <td>NaN</td>\n",
       "      <td>NaN</td>\n",
       "      <td>NaN</td>\n",
       "      <td>NaN</td>\n",
       "      <td>380.0</td>\n",
       "      <td>961.0</td>\n",
       "      <td>...</td>\n",
       "      <td>NaN</td>\n",
       "      <td>NaN</td>\n",
       "      <td>NaN</td>\n",
       "      <td>NaN</td>\n",
       "      <td>NaN</td>\n",
       "      <td>1950.0</td>\n",
       "      <td>1950.0</td>\n",
       "      <td>1950.0</td>\n",
       "      <td>1950.0</td>\n",
       "      <td>1950.0</td>\n",
       "    </tr>\n",
       "    <tr>\n",
       "      <th>4</th>\n",
       "      <td>1004</td>\n",
       "      <td>NaN</td>\n",
       "      <td>NaN</td>\n",
       "      <td>NaN</td>\n",
       "      <td>NaN</td>\n",
       "      <td>35.0</td>\n",
       "      <td>171.0</td>\n",
       "      <td>135.0</td>\n",
       "      <td>137.0</td>\n",
       "      <td>117.0</td>\n",
       "      <td>...</td>\n",
       "      <td>NaN</td>\n",
       "      <td>NaN</td>\n",
       "      <td>1950.0</td>\n",
       "      <td>1950.0</td>\n",
       "      <td>1950.0</td>\n",
       "      <td>1950.0</td>\n",
       "      <td>1950.0</td>\n",
       "      <td>1950.0</td>\n",
       "      <td>1950.0</td>\n",
       "      <td>1950.0</td>\n",
       "    </tr>\n",
       "  </tbody>\n",
       "</table>\n",
       "<p>5 rows × 50 columns</p>\n",
       "</div>"
      ],
      "text/plain": [
       "   user_id  1_call_duration  2_call_duration  3_call_duration  \\\n",
       "0     1000              NaN              NaN              NaN   \n",
       "1     1001              NaN              NaN              NaN   \n",
       "2     1002              NaN              NaN              NaN   \n",
       "3     1003              NaN              NaN              NaN   \n",
       "4     1004              NaN              NaN              NaN   \n",
       "\n",
       "   4_call_duration  5_call_duration  6_call_duration  7_call_duration  \\\n",
       "0              NaN            159.0            172.0            340.0   \n",
       "1              NaN              NaN              NaN              NaN   \n",
       "2              NaN              NaN            117.0            214.0   \n",
       "3              NaN              NaN              NaN              NaN   \n",
       "4              NaN             35.0            171.0            135.0   \n",
       "\n",
       "   8_call_duration  9_call_duration  ...  3_revenue  4_revenue  5_revenue  \\\n",
       "0            408.0            466.0  ...        NaN        NaN     1950.0   \n",
       "1              NaN              NaN  ...        NaN        NaN        NaN   \n",
       "2            289.0            206.0  ...        NaN        NaN        NaN   \n",
       "3            380.0            961.0  ...        NaN        NaN        NaN   \n",
       "4            137.0            117.0  ...        NaN        NaN     1950.0   \n",
       "\n",
       "   6_revenue  7_revenue  8_revenue  9_revenue  10_revenue  11_revenue  \\\n",
       "0     1950.0     1950.0     1950.0     1950.0      1950.0      1950.0   \n",
       "1        NaN        NaN        NaN        NaN         NaN      1150.0   \n",
       "2      550.0     1150.0     1550.0      950.0       550.0      1350.0   \n",
       "3        NaN        NaN     1950.0     1950.0      1950.0      1950.0   \n",
       "4     1950.0     1950.0     1950.0     1950.0      1950.0      1950.0   \n",
       "\n",
       "   12_revenue  \n",
       "0      1950.0  \n",
       "1       550.0  \n",
       "2      1150.0  \n",
       "3      1950.0  \n",
       "4      1950.0  \n",
       "\n",
       "[5 rows x 50 columns]"
      ]
     },
     "execution_count": 49,
     "metadata": {},
     "output_type": "execute_result"
    }
   ],
   "source": [
    "user_info.head()"
   ]
  },
  {
   "cell_type": "markdown",
   "id": "d38984b8",
   "metadata": {},
   "source": [
    "## Анализ данных в разрезе каждого пользователя за каждый месяц"
   ]
  },
  {
   "cell_type": "markdown",
   "id": "f6f96712",
   "metadata": {},
   "source": [
    "В этом пункте исследования для каждой категории услуг (звонки, сообщения, интернет) найдем и проанализируем основные статистики в разрезе тарифов: среднее, стандартное отклонение и гистограмму частот."
   ]
  },
  {
   "cell_type": "markdown",
   "id": "0a37d785",
   "metadata": {},
   "source": [
    "### Анализ статистик  звонков"
   ]
  },
  {
   "cell_type": "code",
   "execution_count": 50,
   "id": "cfd84aaa",
   "metadata": {
    "scrolled": false
   },
   "outputs": [
    {
     "data": {
      "text/plain": [
       "1_call_duration     203.852941\n",
       "2_call_duration     298.689655\n",
       "3_call_duration     390.051948\n",
       "4_call_duration     367.133929\n",
       "5_call_duration     387.361702\n",
       "6_call_duration     398.067485\n",
       "7_call_duration     408.353234\n",
       "8_call_duration     423.269231\n",
       "9_call_duration     430.266409\n",
       "10_call_duration    427.590444\n",
       "11_call_duration    436.647619\n",
       "12_call_duration    479.985119\n",
       "dtype: float64"
      ]
     },
     "execution_count": 50,
     "metadata": {},
     "output_type": "execute_result"
    }
   ],
   "source": [
    "# Расчет средней длительности звонков для тарифа Smart\n",
    "user_info[user_info['tariff'] == 'smart'][['1_call_duration',\n",
    "                                           '2_call_duration',\n",
    "                                           '3_call_duration',\n",
    "                                           '4_call_duration',\n",
    "                                           '5_call_duration',\n",
    "                                           '6_call_duration',\n",
    "                                           '7_call_duration',\n",
    "                                           '8_call_duration',\n",
    "                                           '9_call_duration',\n",
    "                                           '10_call_duration',\n",
    "                                           '11_call_duration',\n",
    "                                           '12_call_duration']].mean()"
   ]
  },
  {
   "cell_type": "code",
   "execution_count": 51,
   "id": "e5235ce7",
   "metadata": {
    "scrolled": true
   },
   "outputs": [
    {
     "data": {
      "text/plain": [
       "1_call_duration     428.111111\n",
       "2_call_duration     297.125000\n",
       "3_call_duration     489.648649\n",
       "4_call_duration     475.301887\n",
       "5_call_duration     534.250000\n",
       "6_call_duration     497.469136\n",
       "7_call_duration     564.397727\n",
       "8_call_duration     530.611650\n",
       "9_call_duration     558.882883\n",
       "10_call_duration    581.728814\n",
       "11_call_duration    562.364341\n",
       "12_call_duration    614.925373\n",
       "dtype: float64"
      ]
     },
     "execution_count": 51,
     "metadata": {},
     "output_type": "execute_result"
    }
   ],
   "source": [
    "# Расчет средней длительности звонков для тарифа Ultra\n",
    "user_info[user_info['tariff'] == 'ultra'][['1_call_duration',\n",
    "                                           '2_call_duration',\n",
    "                                           '3_call_duration',\n",
    "                                           '4_call_duration',\n",
    "                                           '5_call_duration',\n",
    "                                           '6_call_duration',\n",
    "                                           '7_call_duration',\n",
    "                                           '8_call_duration',\n",
    "                                           '9_call_duration',\n",
    "                                           '10_call_duration',\n",
    "                                           '11_call_duration',\n",
    "                                           '12_call_duration']].mean()"
   ]
  },
  {
   "cell_type": "markdown",
   "id": "612a59b2",
   "metadata": {},
   "source": [
    "Для удобства анализа построим графики, отображающие изменения среднего значения длительности звонков от месяца к месяцу.\n",
    "\n",
    "С помощью метода `add_subplot()` сделаем так, чтобы эти графики располагались рядом."
   ]
  },
  {
   "cell_type": "code",
   "execution_count": 52,
   "id": "19fc3c33",
   "metadata": {
    "scrolled": false
   },
   "outputs": [
    {
     "name": "stderr",
     "output_type": "stream",
     "text": [
      "<ipython-input-52-4fbd41bb5388>:23: UserWarning: FixedFormatter should only be used together with FixedLocator\n",
      "  ax1.set_xticklabels([1, 2, 3, 4, 5, 6, 7, 8, 9, 10, 11, 12])\n",
      "<ipython-input-52-4fbd41bb5388>:42: UserWarning: FixedFormatter should only be used together with FixedLocator\n",
      "  ax2.set_xticklabels([1, 2, 3, 4, 5, 6, 7, 8, 9, 10, 11, 12])\n"
     ]
    },
    {
     "data": {
      "image/png": "[encoded data removed]",
      "text/plain": [
       "<Figure size 1440x720 with 2 Axes>"
      ]
     },
     "metadata": {
      "needs_background": "light"
     },
     "output_type": "display_data"
    }
   ],
   "source": [
    "# Построение графиков средней длительности звонков разных тарифов по месяцам\n",
    "\n",
    "# Создание фигуры для рисования\n",
    "fig = plt.figure(figsize=(20, 10))\n",
    "ax2 = fig.add_subplot(1, 2, 2)\n",
    "ax1 = fig.add_subplot(1, 2, 1, sharey = ax2) # Шарим ось Y графика Ultra для графика Smart для удобства анализа\n",
    "\n",
    "# Построение графика средней длительности звонков по месяцам для тарифа Smart\n",
    "ax1.plot(user_info[user_info['tariff'] == 'smart'][['1_call_duration',\n",
    "                                                    '2_call_duration',\n",
    "                                                    '3_call_duration',\n",
    "                                                    '4_call_duration',\n",
    "                                                    '5_call_duration',\n",
    "                                                    '6_call_duration',\n",
    "                                                    '7_call_duration',\n",
    "                                                    '8_call_duration',\n",
    "                                                    '9_call_duration',\n",
    "                                                    '10_call_duration',\n",
    "                                                    '11_call_duration',\n",
    "                                                    '12_call_duration']].mean())\n",
    "\n",
    "# Обозначения на оси X\n",
    "ax1.set_xticklabels([1, 2, 3, 4, 5, 6, 7, 8, 9, 10, 11, 12])\n",
    "\n",
    "# Обозначение заголовка\n",
    "ax1.set_title('Средняя длительность звонков по месяцам для тарифа Smart')\n",
    "\n",
    "# Построение графика средней длительности звонков по месяцам для тарифа Ultra\n",
    "ax2.plot(user_info[user_info['tariff'] == 'ultra'][['1_call_duration',\n",
    "                                                    '2_call_duration',\n",
    "                                                    '3_call_duration',\n",
    "                                                    '4_call_duration',\n",
    "                                                    '5_call_duration',\n",
    "                                                    '6_call_duration',\n",
    "                                                    '7_call_duration',\n",
    "                                                    '8_call_duration',\n",
    "                                                    '9_call_duration',\n",
    "                                                    '10_call_duration',\n",
    "                                                    '11_call_duration',\n",
    "                                                    '12_call_duration']].mean())\n",
    "# Обозначения на оси X\n",
    "ax2.set_xticklabels([1, 2, 3, 4, 5, 6, 7, 8, 9, 10, 11, 12])\n",
    "\n",
    "# Обозначение заголовка\n",
    "ax2.set_title('Средняя длительность звонков по месяцам для тарифа Ultra')\n",
    "\n",
    "plt.show()"
   ]
  },
  {
   "cell_type": "markdown",
   "id": "2c022822",
   "metadata": {},
   "source": [
    "График средней длительности звонков для тарифа Smart выглядит более ровным. График для тарифа Ultra - более ломанный, но общий тренд длительности звонков у этого тарифа возрастает.\n",
    "\n",
    "У тарифа Smart произошло небольшое падение показателя средней длительности звонков в апреле. В свою очередь, у тарифа Ultra наблюдается резкий спад в феврале, но уже в марте резкий подъем.\n",
    "\n",
    "Логично, что значения показателей у тарифа Ultra значительно выше, чем у тарифа Smart. Но, возможно, такие высокие значения достигаются за счет нескольких пользователей, а все остальные тратят относительно мало минут. Проверим данное утверждение, рассчитав стандартное отклонение и построив гистограмму длительности звонков."
   ]
  },
  {
   "cell_type": "code",
   "execution_count": 53,
   "id": "16c89f45",
   "metadata": {},
   "outputs": [
    {
     "data": {
      "text/plain": [
       "387.60580961751907"
      ]
     },
     "execution_count": 53,
     "metadata": {},
     "output_type": "execute_result"
    }
   ],
   "source": [
    "# Выборочное среднее длительности звонков по месяцам для тарифа Smart\n",
    "user_info[user_info['tariff'] == 'smart'][['1_call_duration',\n",
    "                                           '2_call_duration',\n",
    "                                           '3_call_duration',\n",
    "                                           '4_call_duration',\n",
    "                                           '5_call_duration',\n",
    "                                           '6_call_duration',\n",
    "                                           '7_call_duration',\n",
    "                                           '8_call_duration',\n",
    "                                           '9_call_duration',\n",
    "                                           '10_call_duration',\n",
    "                                           '11_call_duration',\n",
    "                                           '12_call_duration']].mean().mean()"
   ]
  },
  {
   "cell_type": "code",
   "execution_count": 54,
   "id": "bc1178a8",
   "metadata": {},
   "outputs": [
    {
     "data": {
      "text/plain": [
       "511.23471423122083"
      ]
     },
     "execution_count": 54,
     "metadata": {},
     "output_type": "execute_result"
    }
   ],
   "source": [
    "# Выборочное среднее длительности звонков по месяцам для тарифа Ultra\n",
    "user_info[user_info['tariff'] == 'ultra'][['1_call_duration',\n",
    "                                           '2_call_duration',\n",
    "                                           '3_call_duration',\n",
    "                                           '4_call_duration',\n",
    "                                           '5_call_duration',\n",
    "                                           '6_call_duration',\n",
    "                                           '7_call_duration',\n",
    "                                           '8_call_duration',\n",
    "                                           '9_call_duration',\n",
    "                                           '10_call_duration',\n",
    "                                           '11_call_duration',\n",
    "                                           '12_call_duration']].mean().mean()"
   ]
  },
  {
   "cell_type": "markdown",
   "id": "e1cb581f",
   "metadata": {},
   "source": [
    "Как и говорилось ранее, выборочное среднее длительности звонков по месяцам у тарифа Ultra выше, чем у тарифа Smart. Проверим стандартное отклонение.\n",
    "\n",
    "В методе `std()` укажем параметр `ddof=0`. Этот параметр учитывает поправку Бесселя. Она нужна, так как мы работаем с выборкой за 2018 год, а не со всей генеральной совокупностью данных."
   ]
  },
  {
   "cell_type": "code",
   "execution_count": 55,
   "id": "1703f92a",
   "metadata": {
    "scrolled": false
   },
   "outputs": [
    {
     "data": {
      "text/plain": [
       "1_call_duration     151.946417\n",
       "2_call_duration     189.167888\n",
       "3_call_duration     190.643469\n",
       "4_call_duration     185.654753\n",
       "5_call_duration     185.938458\n",
       "6_call_duration     172.559304\n",
       "7_call_duration     179.136318\n",
       "8_call_duration     184.475510\n",
       "9_call_duration     181.172038\n",
       "10_call_duration    186.468371\n",
       "11_call_duration    176.073505\n",
       "12_call_duration    197.522112\n",
       "dtype: float64"
      ]
     },
     "execution_count": 55,
     "metadata": {},
     "output_type": "execute_result"
    }
   ],
   "source": [
    "# Вычисление стандартного отклонения каждого месяца для тарифа Smart\n",
    "user_info[user_info['tariff'] == 'smart'][['1_call_duration',\n",
    "                                           '2_call_duration',\n",
    "                                           '3_call_duration',\n",
    "                                           '4_call_duration',\n",
    "                                           '5_call_duration',\n",
    "                                           '6_call_duration',\n",
    "                                           '7_call_duration',\n",
    "                                           '8_call_duration',\n",
    "                                           '9_call_duration',\n",
    "                                           '10_call_duration',\n",
    "                                           '11_call_duration',\n",
    "                                           '12_call_duration']].std(ddof=0)"
   ]
  },
  {
   "cell_type": "code",
   "execution_count": 56,
   "id": "c8433895",
   "metadata": {},
   "outputs": [
    {
     "data": {
      "text/plain": [
       "181.72984535231765"
      ]
     },
     "execution_count": 56,
     "metadata": {},
     "output_type": "execute_result"
    }
   ],
   "source": [
    "# Вычисление среднего стандартного отклонения для тарифа Smart\n",
    "user_info[user_info['tariff'] == 'smart'][['1_call_duration',\n",
    "                                           '2_call_duration',\n",
    "                                           '3_call_duration',\n",
    "                                           '4_call_duration',\n",
    "                                           '5_call_duration',\n",
    "                                           '6_call_duration',\n",
    "                                           '7_call_duration',\n",
    "                                           '8_call_duration',\n",
    "                                           '9_call_duration',\n",
    "                                           '10_call_duration',\n",
    "                                           '11_call_duration',\n",
    "                                           '12_call_duration']].std(ddof=0).mean()"
   ]
  },
  {
   "cell_type": "code",
   "execution_count": 57,
   "id": "ad101d72",
   "metadata": {
    "scrolled": false
   },
   "outputs": [
    {
     "data": {
      "text/plain": [
       "1_call_duration     254.330251\n",
       "2_call_duration     290.269460\n",
       "3_call_duration     329.202822\n",
       "4_call_duration     254.540473\n",
       "5_call_duration     271.497698\n",
       "6_call_duration     291.475009\n",
       "7_call_duration     293.197015\n",
       "8_call_duration     300.473647\n",
       "9_call_duration     312.585404\n",
       "10_call_duration    310.349985\n",
       "11_call_duration    296.249841\n",
       "12_call_duration    327.376241\n",
       "dtype: float64"
      ]
     },
     "execution_count": 57,
     "metadata": {},
     "output_type": "execute_result"
    }
   ],
   "source": [
    "# Вычисление стандартного отклонения каждого месяца для тарифа Ultra\n",
    "user_info[user_info['tariff'] == 'ultra'][['1_call_duration',\n",
    "                                            '2_call_duration',\n",
    "                                            '3_call_duration',\n",
    "                                            '4_call_duration',\n",
    "                                            '5_call_duration',\n",
    "                                            '6_call_duration',\n",
    "                                            '7_call_duration',\n",
    "                                            '8_call_duration',\n",
    "                                            '9_call_duration',\n",
    "                                            '10_call_duration',\n",
    "                                            '11_call_duration',\n",
    "                                            '12_call_duration']].std(ddof=0)"
   ]
  },
  {
   "cell_type": "code",
   "execution_count": 58,
   "id": "471a11f3",
   "metadata": {},
   "outputs": [
    {
     "data": {
      "text/plain": [
       "294.2956537842227"
      ]
     },
     "execution_count": 58,
     "metadata": {},
     "output_type": "execute_result"
    }
   ],
   "source": [
    "# Вычисление среднего стандартного отклонения для тарифа Ultra\n",
    "user_info[user_info['tariff'] == 'ultra'][['1_call_duration',\n",
    "                                           '2_call_duration',\n",
    "                                           '3_call_duration',\n",
    "                                           '4_call_duration',\n",
    "                                           '5_call_duration',\n",
    "                                           '6_call_duration',\n",
    "                                           '7_call_duration',\n",
    "                                           '8_call_duration',\n",
    "                                           '9_call_duration',\n",
    "                                           '10_call_duration',\n",
    "                                           '11_call_duration',\n",
    "                                           '12_call_duration']].std(ddof=0).mean()"
   ]
  },
  {
   "cell_type": "markdown",
   "id": "0609e376",
   "metadata": {},
   "source": [
    "Среднее стандартное отклонение длительности звонков для тарифа Ultra больше, чем для тарифа Smart. \n",
    "\n",
    "Проанализируем гистограмму длительности каждого звонка для двух тарифов.\n",
    "\n",
    "Для построения гистограммы выполним следующие действия:\n",
    "\n",
    "1. Присоединим к исходному датафрейму `calls` тариф каждого пользователя.\n",
    "\n",
    "2. Создадим таблицу `calls_hist`, выполнив группировку по столбцам `user_id`, `tariff` и `call_month`.\n",
    "\n",
    "3. Создадим таблицы `calls_hist_smart` и `calls_hist_ultra`, в которые попадут данные длительности звонков из таблицы `calls_hist` в зависимости от тарифа.\n",
    "\n",
    "4. Построим гистограмму для каждой таблицы с достаточно большим количеством корзин."
   ]
  },
  {
   "cell_type": "code",
   "execution_count": 59,
   "id": "d7f2dc09",
   "metadata": {},
   "outputs": [],
   "source": [
    "# Присоединение тарифа к таблице call\n",
    "calls = calls.merge(users[['user_id', 'tariff']], on = 'user_id', how = 'inner')"
   ]
  },
  {
   "cell_type": "code",
   "execution_count": 60,
   "id": "7b507bd1",
   "metadata": {
    "scrolled": true
   },
   "outputs": [],
   "source": [
    "# Группировка данных по столбцам 'user_id', 'tariff' и 'call_month'\n",
    "calls_hist = (\n",
    "    calls\n",
    "    .groupby(['user_id', 'tariff', 'call_month'])[['duration', 'tariff']]\n",
    "    .agg('sum').reset_index()\n",
    ")"
   ]
  },
  {
   "cell_type": "code",
   "execution_count": 61,
   "id": "e669fd9a",
   "metadata": {},
   "outputs": [],
   "source": [
    "# Создание общей таблицы длительности звонков помесячно для тарифа Smart \n",
    "calls_hist_smart = calls_hist[calls_hist['tariff'] == 'smart']['duration']"
   ]
  },
  {
   "cell_type": "code",
   "execution_count": 62,
   "id": "29b34d68",
   "metadata": {},
   "outputs": [],
   "source": [
    "# Создание общей таблицы длительности звонков помесячно для тарифа Ultra\n",
    "calls_hist_ultra = calls_hist[calls_hist['tariff'] == 'ultra']['duration']"
   ]
  },
  {
   "cell_type": "code",
   "execution_count": 63,
   "id": "105b75bd",
   "metadata": {},
   "outputs": [
    {
     "data": {
      "image/png": "[encoded data removed]",
      "text/plain": [
       "<Figure size 1440x720 with 2 Axes>"
      ]
     },
     "metadata": {
      "needs_background": "light"
     },
     "output_type": "display_data"
    }
   ],
   "source": [
    "# Построение гистограмм длительности звонков по месяцам для разных тарифов\n",
    "\n",
    "# Создание фигур для рисования\n",
    "fig = plt.figure(figsize=(20, 10))\n",
    "ax2 = fig.add_subplot(1,2,2)\n",
    "ax1 = fig.add_subplot(1,2,1, sharey = ax2)\n",
    "\n",
    "# Построение гистограммы для тарифа Smart\n",
    "ax1.hist(calls_hist_smart, bins = list(range(0, 1480, 20)))\n",
    "\n",
    "# Построение гистограммы для тарифа Ultra\n",
    "ax2.hist(calls_hist_ultra, bins = list(range(0, 1700, 20)))\n",
    "\n",
    "# Обозначение заголовков\n",
    "ax1.set_title('Гистограмма длительности звонков для тарифа Smart')\n",
    "ax2.set_title('Гистограмма длительности звонков для тарифа Ultra')\n",
    "\n",
    "plt.show()"
   ]
  },
  {
   "cell_type": "markdown",
   "id": "1bb0c765",
   "metadata": {},
   "source": [
    "Гистограммы для обоих тарифов напоминают нормальное распределение, смещенное вправо.\n",
    "\n",
    "У тарифа Smart максимальная частота длительности звонков приходится на 420 минут и существует достаточно большое количество случаев выхода за пределы бесплатного лимита (500 минут). У тарифа Ultra максимальная частота использования - 520 и относительное малое количество выходов за пределы бесплатного лимита (1000 минут).\n",
    "\n",
    "На гистограммах четко видно, что стандартное отклонение у тарифа Ultra действительно больше, так как \"купол\" графика выглядит шире.\n",
    "\n",
    "Гистограммы показывают, что у тарифа Smart больше пользователей. \n",
    "\n",
    "Вывод, что тариф Smart приносит больше выручки за счет бОльшего количества пользователей и частые выходы за пределы бесплатного лимита делать пока рано. Потому что бОльшая цена на тариф Ultra и при меньшем количестве пользователей может приносить больше выгоды.\n",
    "\n",
    "Теперь рассмотрим количество отправленных сообщений."
   ]
  },
  {
   "cell_type": "markdown",
   "id": "17816fec",
   "metadata": {},
   "source": [
    "### Анализ статистик отправленных сообщений"
   ]
  },
  {
   "cell_type": "code",
   "execution_count": 64,
   "id": "59ed284c",
   "metadata": {
    "scrolled": false
   },
   "outputs": [
    {
     "data": {
      "text/plain": [
       "1_messages_count     20.000000\n",
       "2_messages_count     27.940000\n",
       "3_messages_count     35.550725\n",
       "4_messages_count     35.864583\n",
       "5_messages_count     39.032787\n",
       "6_messages_count     38.577465\n",
       "7_messages_count     38.988506\n",
       "8_messages_count     38.750000\n",
       "9_messages_count     39.219731\n",
       "10_messages_count    39.082677\n",
       "11_messages_count    39.881481\n",
       "12_messages_count    42.264808\n",
       "dtype: float64"
      ]
     },
     "execution_count": 64,
     "metadata": {},
     "output_type": "execute_result"
    }
   ],
   "source": [
    "# Вычисление среднего количества отправленных сообщений для тарифа Smart\n",
    "user_info[user_info['tariff'] == 'smart'][['1_messages_count',\n",
    "                                           '2_messages_count',\n",
    "                                           '3_messages_count',\n",
    "                                           '4_messages_count',\n",
    "                                           '5_messages_count',\n",
    "                                           '6_messages_count',\n",
    "                                           '7_messages_count',\n",
    "                                           '8_messages_count',\n",
    "                                           '9_messages_count',\n",
    "                                           '10_messages_count',\n",
    "                                           '11_messages_count',\n",
    "                                           '12_messages_count']].mean()"
   ]
  },
  {
   "cell_type": "code",
   "execution_count": 65,
   "id": "73b91827",
   "metadata": {
    "scrolled": true
   },
   "outputs": [
    {
     "data": {
      "text/plain": [
       "1_messages_count     43.428571\n",
       "2_messages_count     32.937500\n",
       "3_messages_count     47.800000\n",
       "4_messages_count     44.512821\n",
       "5_messages_count     48.769231\n",
       "6_messages_count     52.313433\n",
       "7_messages_count     62.136986\n",
       "8_messages_count     58.897727\n",
       "9_messages_count     63.294737\n",
       "10_messages_count    69.776699\n",
       "11_messages_count    66.159292\n",
       "12_messages_count    72.008547\n",
       "dtype: float64"
      ]
     },
     "execution_count": 65,
     "metadata": {},
     "output_type": "execute_result"
    }
   ],
   "source": [
    "# Вычисление среднего количества отправленных сообщений для тарифа Ultra\n",
    "user_info[user_info['tariff'] == 'ultra'][['1_messages_count',\n",
    "                                           '2_messages_count',\n",
    "                                           '3_messages_count',\n",
    "                                           '4_messages_count',\n",
    "                                           '5_messages_count',\n",
    "                                           '6_messages_count',\n",
    "                                           '7_messages_count',\n",
    "                                           '8_messages_count',\n",
    "                                           '9_messages_count',\n",
    "                                           '10_messages_count',\n",
    "                                           '11_messages_count',\n",
    "                                           '12_messages_count']].mean()"
   ]
  },
  {
   "cell_type": "code",
   "execution_count": 66,
   "id": "3f37fbc1",
   "metadata": {
    "scrolled": false
   },
   "outputs": [
    {
     "name": "stderr",
     "output_type": "stream",
     "text": [
      "<ipython-input-66-3d6b18634331>:20: UserWarning: FixedFormatter should only be used together with FixedLocator\n",
      "  ax1.set_xticklabels([1, 2, 3, 4, 5, 6, 7, 8, 9, 10, 11, 12])\n",
      "<ipython-input-66-3d6b18634331>:36: UserWarning: FixedFormatter should only be used together with FixedLocator\n",
      "  ax2.set_xticklabels([1, 2, 3, 4, 5, 6, 7, 8, 9, 10, 11, 12])\n"
     ]
    },
    {
     "data": {
      "image/png": "[encoded data removed]",
      "text/plain": [
       "<Figure size 1440x720 with 2 Axes>"
      ]
     },
     "metadata": {
      "needs_background": "light"
     },
     "output_type": "display_data"
    }
   ],
   "source": [
    "# Построение графиков среднего количества отправленных сообщений для разных тарифов по месяцам\n",
    "\n",
    "fig = plt.figure(figsize=(20, 10))\n",
    "ax2 = fig.add_subplot(1, 2, 2)\n",
    "ax1 = fig.add_subplot(1, 2, 1, sharey = ax2)\n",
    "\n",
    "# Построение графика среднего количества отправленных сообщений по месяцам для тарифа Smart\n",
    "ax1.plot(user_info[user_info['tariff'] == 'smart'][['1_messages_count',\n",
    "                                                    '2_messages_count',\n",
    "                                                    '3_messages_count',\n",
    "                                                    '4_messages_count',\n",
    "                                                    '5_messages_count',\n",
    "                                                    '6_messages_count',\n",
    "                                                    '7_messages_count',\n",
    "                                                    '8_messages_count',\n",
    "                                                    '9_messages_count',\n",
    "                                                    '10_messages_count',\n",
    "                                                    '11_messages_count',\n",
    "                                                    '12_messages_count']].mean())\n",
    "ax1.set_xticklabels([1, 2, 3, 4, 5, 6, 7, 8, 9, 10, 11, 12])\n",
    "ax1.set_title('Среднее количество отправленных сообщений по месяцам для тарифа Smart')\n",
    "\n",
    "# Построение графика среднего количества отправленных сообщений по месяцам для тарифа Ultra\n",
    "ax2.plot(user_info[user_info['tariff'] == 'ultra'][['1_messages_count',\n",
    "                                                    '2_messages_count',\n",
    "                                                    '3_messages_count',\n",
    "                                                    '4_messages_count',\n",
    "                                                    '5_messages_count',\n",
    "                                                    '6_messages_count',\n",
    "                                                    '7_messages_count',\n",
    "                                                    '8_messages_count',\n",
    "                                                    '9_messages_count',\n",
    "                                                    '10_messages_count',\n",
    "                                                    '11_messages_count',\n",
    "                                                    '12_messages_count']].mean())\n",
    "ax2.set_xticklabels([1, 2, 3, 4, 5, 6, 7, 8, 9, 10, 11, 12])\n",
    "ax2.set_title('Среднее количество отправленных сообщений по месяцам для тарифа Ultra')\n",
    "\n",
    "plt.show()"
   ]
  },
  {
   "cell_type": "markdown",
   "id": "9f5e27b3",
   "metadata": {},
   "source": [
    "Графики напоминают ту же форму, что и в предыдущем пункте. График для тарифа Smart более ровный с плавным ростом на протяжении всего периода наблюдения. График для тарифа Ultra более ломанный, но общий тренд у него также идет на увеличение.\n",
    "\n",
    "У тарифа Smart, так же как и в предыдущем пункте, есть небольшой провал в апреле, а у тарифа Ultra - в феврале.\n",
    "\n",
    "На всем периоде наблюдения среднее количество отправленных сообщений у тарифа Smart значительно меньше, чем у тарифа Ultra.\n",
    "\n",
    "Рассмотрим значения выборочного среднего количества отправленных сообщений, а также стандартное отклонение для обоих тарифов."
   ]
  },
  {
   "cell_type": "code",
   "execution_count": 67,
   "id": "14f3fa18",
   "metadata": {},
   "outputs": [
    {
     "data": {
      "text/plain": [
       "36.2627302785857"
      ]
     },
     "execution_count": 67,
     "metadata": {},
     "output_type": "execute_result"
    }
   ],
   "source": [
    "# Вычисление выборочного среднего количества отправленных сообщений для тарифа Smart\n",
    "user_info[user_info['tariff'] == 'smart'][['1_messages_count',\n",
    "                                           '2_messages_count',\n",
    "                                           '3_messages_count',\n",
    "                                           '4_messages_count',\n",
    "                                           '5_messages_count',\n",
    "                                           '6_messages_count',\n",
    "                                           '7_messages_count',\n",
    "                                           '8_messages_count',\n",
    "                                           '9_messages_count',\n",
    "                                           '10_messages_count',\n",
    "                                           '11_messages_count',\n",
    "                                           '12_messages_count']].mean().mean()"
   ]
  },
  {
   "cell_type": "code",
   "execution_count": 68,
   "id": "a30cad23",
   "metadata": {},
   "outputs": [
    {
     "data": {
      "text/plain": [
       "55.169628669643124"
      ]
     },
     "execution_count": 68,
     "metadata": {},
     "output_type": "execute_result"
    }
   ],
   "source": [
    "# Вычисление выборочного среднего количества отправленных сообщений для тарифа Ultra\n",
    "user_info[user_info['tariff'] == 'ultra'][['1_messages_count',\n",
    "                                           '2_messages_count',\n",
    "                                           '3_messages_count',\n",
    "                                           '4_messages_count',\n",
    "                                           '5_messages_count',\n",
    "                                           '6_messages_count',\n",
    "                                           '7_messages_count',\n",
    "                                           '8_messages_count',\n",
    "                                           '9_messages_count',\n",
    "                                           '10_messages_count',\n",
    "                                           '11_messages_count',\n",
    "                                           '12_messages_count']].mean().mean()"
   ]
  },
  {
   "cell_type": "markdown",
   "id": "783a78ed",
   "metadata": {},
   "source": [
    "Как и ожидалось, в тарифе Ultra пользователи отправляют в 1,5 раза больше сообщений, чем в тарифе Smart."
   ]
  },
  {
   "cell_type": "code",
   "execution_count": 69,
   "id": "cd2a2f4f",
   "metadata": {
    "scrolled": true
   },
   "outputs": [
    {
     "data": {
      "text/plain": [
       "1_messages_count     15.620499\n",
       "2_messages_count     20.776342\n",
       "3_messages_count     25.691896\n",
       "4_messages_count     22.637828\n",
       "5_messages_count     25.170219\n",
       "6_messages_count     26.953357\n",
       "7_messages_count     26.743565\n",
       "8_messages_count     27.630639\n",
       "9_messages_count     26.445327\n",
       "10_messages_count    27.085114\n",
       "11_messages_count    26.621921\n",
       "12_messages_count    28.801851\n",
       "dtype: float64"
      ]
     },
     "execution_count": 69,
     "metadata": {},
     "output_type": "execute_result"
    }
   ],
   "source": [
    "# Вычисление стандартного отклонения количества отправленных СМС для тарифа Smart\n",
    "user_info[user_info['tariff'] == 'smart'][['1_messages_count',\n",
    "                                           '2_messages_count',\n",
    "                                           '3_messages_count',\n",
    "                                           '4_messages_count',\n",
    "                                           '5_messages_count',\n",
    "                                           '6_messages_count',\n",
    "                                           '7_messages_count',\n",
    "                                           '8_messages_count',\n",
    "                                           '9_messages_count',\n",
    "                                           '10_messages_count',\n",
    "                                           '11_messages_count',\n",
    "                                           '12_messages_count']].std(ddof=0)"
   ]
  },
  {
   "cell_type": "code",
   "execution_count": 70,
   "id": "e23d35bf",
   "metadata": {},
   "outputs": [
    {
     "data": {
      "text/plain": [
       "25.01487975563734"
      ]
     },
     "execution_count": 70,
     "metadata": {},
     "output_type": "execute_result"
    }
   ],
   "source": [
    "# Вычисление среднего стандартного отклонения количества отправленных сообщений для тарифа Smart\n",
    "user_info[user_info['tariff'] == 'smart'][['1_messages_count',\n",
    "                                           '2_messages_count',\n",
    "                                           '3_messages_count',\n",
    "                                           '4_messages_count',\n",
    "                                           '5_messages_count',\n",
    "                                           '6_messages_count',\n",
    "                                           '7_messages_count',\n",
    "                                           '8_messages_count',\n",
    "                                           '9_messages_count',\n",
    "                                           '10_messages_count',\n",
    "                                           '11_messages_count',\n",
    "                                           '12_messages_count']].std(ddof=0).mean()"
   ]
  },
  {
   "cell_type": "code",
   "execution_count": 71,
   "id": "51f73589",
   "metadata": {
    "scrolled": false
   },
   "outputs": [
    {
     "data": {
      "text/plain": [
       "1_messages_count     25.611700\n",
       "2_messages_count     25.861334\n",
       "3_messages_count     41.876007\n",
       "4_messages_count     37.042506\n",
       "5_messages_count     39.109617\n",
       "6_messages_count     43.666719\n",
       "7_messages_count     46.483556\n",
       "8_messages_count     44.721116\n",
       "9_messages_count     43.436069\n",
       "10_messages_count    49.020886\n",
       "11_messages_count    47.216423\n",
       "12_messages_count    48.401189\n",
       "dtype: float64"
      ]
     },
     "execution_count": 71,
     "metadata": {},
     "output_type": "execute_result"
    }
   ],
   "source": [
    "# Вычисление стандартного отклонения количества отправленных сообщений для тарифа Ultra\n",
    "user_info[user_info['tariff'] == 'ultra'][['1_messages_count',\n",
    "                                           '2_messages_count',\n",
    "                                           '3_messages_count',\n",
    "                                           '4_messages_count',\n",
    "                                           '5_messages_count',\n",
    "                                           '6_messages_count',\n",
    "                                           '7_messages_count',\n",
    "                                           '8_messages_count',\n",
    "                                           '9_messages_count',\n",
    "                                           '10_messages_count',\n",
    "                                           '11_messages_count',\n",
    "                                           '12_messages_count']].std(ddof=0)"
   ]
  },
  {
   "cell_type": "code",
   "execution_count": 72,
   "id": "4f1f0723",
   "metadata": {},
   "outputs": [
    {
     "data": {
      "text/plain": [
       "41.03726012897372"
      ]
     },
     "execution_count": 72,
     "metadata": {},
     "output_type": "execute_result"
    }
   ],
   "source": [
    "# Вычисление среднего стандартного отклонения количества отправленных сообщений для тарифа Ultra\n",
    "user_info[user_info['tariff'] == 'ultra'][['1_messages_count',\n",
    "                                           '2_messages_count',\n",
    "                                           '3_messages_count',\n",
    "                                           '4_messages_count',\n",
    "                                           '5_messages_count',\n",
    "                                           '6_messages_count',\n",
    "                                           '7_messages_count',\n",
    "                                           '8_messages_count',\n",
    "                                           '9_messages_count',\n",
    "                                           '10_messages_count',\n",
    "                                           '11_messages_count',\n",
    "                                           '12_messages_count']].std(ddof=0).mean()"
   ]
  },
  {
   "cell_type": "markdown",
   "id": "0741c071",
   "metadata": {},
   "source": [
    "При бОльших количествах отправленных сообщений стандартное отклонение у тарифа Ultra выше, чем у тарифа Smart.\n",
    "\n",
    "Общее возрастание стандартного отклонения для обоих тарифов связано с ростом количества пользователей от месяца к месяцу. Следовательно, подключаются новые пользователи, которые отправляют отличное от среднего число сообщений.\n",
    "\n",
    "Теперь проанализируем гистограмму отправленных сообщений. Гистограмму будем строить по такому же алгоритму, что и в предыдущем пункте."
   ]
  },
  {
   "cell_type": "code",
   "execution_count": 73,
   "id": "7a9e7756",
   "metadata": {},
   "outputs": [],
   "source": [
    "# Присоединение тарифа к таблице messages\n",
    "messages = messages.merge(users[['user_id', 'tariff']], on = 'user_id', how = 'inner')"
   ]
  },
  {
   "cell_type": "code",
   "execution_count": 74,
   "id": "bfd8e740",
   "metadata": {},
   "outputs": [],
   "source": [
    "# Группировка данных по столбцам 'user_id', 'tariff' и 'message_month'\n",
    "messages_hist = (\n",
    "    messages\n",
    "    .groupby(['user_id', 'tariff', 'message_month'])['id']\n",
    "    .agg('count').reset_index()\n",
    ")"
   ]
  },
  {
   "cell_type": "code",
   "execution_count": 75,
   "id": "1aa819aa",
   "metadata": {},
   "outputs": [
    {
     "data": {
      "text/html": [
       "<div>\n",
       "<style scoped>\n",
       "    .dataframe tbody tr th:only-of-type {\n",
       "        vertical-align: middle;\n",
       "    }\n",
       "\n",
       "    .dataframe tbody tr th {\n",
       "        vertical-align: top;\n",
       "    }\n",
       "\n",
       "    .dataframe thead th {\n",
       "        text-align: right;\n",
       "    }\n",
       "</style>\n",
       "<table border=\"1\" class=\"dataframe\">\n",
       "  <thead>\n",
       "    <tr style=\"text-align: right;\">\n",
       "      <th></th>\n",
       "      <th>user_id</th>\n",
       "      <th>tariff</th>\n",
       "      <th>message_month</th>\n",
       "      <th>id</th>\n",
       "    </tr>\n",
       "  </thead>\n",
       "  <tbody>\n",
       "    <tr>\n",
       "      <th>0</th>\n",
       "      <td>1000</td>\n",
       "      <td>ultra</td>\n",
       "      <td>5</td>\n",
       "      <td>22</td>\n",
       "    </tr>\n",
       "    <tr>\n",
       "      <th>1</th>\n",
       "      <td>1000</td>\n",
       "      <td>ultra</td>\n",
       "      <td>6</td>\n",
       "      <td>60</td>\n",
       "    </tr>\n",
       "    <tr>\n",
       "      <th>2</th>\n",
       "      <td>1000</td>\n",
       "      <td>ultra</td>\n",
       "      <td>7</td>\n",
       "      <td>75</td>\n",
       "    </tr>\n",
       "    <tr>\n",
       "      <th>3</th>\n",
       "      <td>1000</td>\n",
       "      <td>ultra</td>\n",
       "      <td>8</td>\n",
       "      <td>81</td>\n",
       "    </tr>\n",
       "    <tr>\n",
       "      <th>4</th>\n",
       "      <td>1000</td>\n",
       "      <td>ultra</td>\n",
       "      <td>9</td>\n",
       "      <td>57</td>\n",
       "    </tr>\n",
       "    <tr>\n",
       "      <th>5</th>\n",
       "      <td>1000</td>\n",
       "      <td>ultra</td>\n",
       "      <td>10</td>\n",
       "      <td>73</td>\n",
       "    </tr>\n",
       "    <tr>\n",
       "      <th>6</th>\n",
       "      <td>1000</td>\n",
       "      <td>ultra</td>\n",
       "      <td>11</td>\n",
       "      <td>58</td>\n",
       "    </tr>\n",
       "    <tr>\n",
       "      <th>7</th>\n",
       "      <td>1000</td>\n",
       "      <td>ultra</td>\n",
       "      <td>12</td>\n",
       "      <td>70</td>\n",
       "    </tr>\n",
       "    <tr>\n",
       "      <th>8</th>\n",
       "      <td>1002</td>\n",
       "      <td>smart</td>\n",
       "      <td>6</td>\n",
       "      <td>4</td>\n",
       "    </tr>\n",
       "    <tr>\n",
       "      <th>9</th>\n",
       "      <td>1002</td>\n",
       "      <td>smart</td>\n",
       "      <td>7</td>\n",
       "      <td>11</td>\n",
       "    </tr>\n",
       "  </tbody>\n",
       "</table>\n",
       "</div>"
      ],
      "text/plain": [
       "   user_id tariff  message_month  id\n",
       "0     1000  ultra              5  22\n",
       "1     1000  ultra              6  60\n",
       "2     1000  ultra              7  75\n",
       "3     1000  ultra              8  81\n",
       "4     1000  ultra              9  57\n",
       "5     1000  ultra             10  73\n",
       "6     1000  ultra             11  58\n",
       "7     1000  ultra             12  70\n",
       "8     1002  smart              6   4\n",
       "9     1002  smart              7  11"
      ]
     },
     "execution_count": 75,
     "metadata": {},
     "output_type": "execute_result"
    }
   ],
   "source": [
    "messages_hist.head(10)"
   ]
  },
  {
   "cell_type": "code",
   "execution_count": 76,
   "id": "08f898b4",
   "metadata": {},
   "outputs": [],
   "source": [
    "# Создание общей таблицы количества отправленных СМС для тарифа Smart \n",
    "messages_hist_smart = messages_hist[messages_hist['tariff'] == 'smart']['id']"
   ]
  },
  {
   "cell_type": "code",
   "execution_count": 77,
   "id": "febf6037",
   "metadata": {},
   "outputs": [],
   "source": [
    "# Создание общей таблицы количества отправленных СМС для тарифа Ultra \n",
    "messages_hist_ultra = messages_hist[messages_hist['tariff'] == 'ultra']['id']"
   ]
  },
  {
   "cell_type": "code",
   "execution_count": 78,
   "id": "8a17afdd",
   "metadata": {
    "scrolled": false
   },
   "outputs": [
    {
     "data": {
      "image/png": "[encoded data removed]",
      "text/plain": [
       "<Figure size 1440x720 with 2 Axes>"
      ]
     },
     "metadata": {
      "needs_background": "light"
     },
     "output_type": "display_data"
    }
   ],
   "source": [
    "# Построение гистограмм количества отправленных СМС по месяцам для разных тарифов\n",
    "\n",
    "# Создание фигур для рисования\n",
    "fig = plt.figure(figsize=(20, 10))\n",
    "ax2 = fig.add_subplot(1,2,2)\n",
    "ax1 = fig.add_subplot(1,2,1, sharey = ax2)\n",
    "\n",
    "# Построение гистограммы для тарифа Smart\n",
    "ax1.hist(messages_hist_smart, bins = list(range(0, 200, 10)))\n",
    "\n",
    "# Построение гистограммы для тарифа Ultra\n",
    "ax2.hist(messages_hist_ultra, bins = list(range(0, 250, 10)))\n",
    "\n",
    "\n",
    "ax1.set_title('Гистограмма количества отправленных СМС для тарифа Smart')\n",
    "ax2.set_title('Гистограмма количества отправленных СМС для тарифа Ultra')\n",
    "\n",
    "plt.show()"
   ]
  },
  {
   "cell_type": "markdown",
   "id": "42bc7e62",
   "metadata": {},
   "source": [
    "Эти гистограммы уже меньше похожи на нормальное распределение. Они скорее напоминают распределение Пуассона. По определению это распределение представляет собой число событий, произошедших за фиксированное время, при условии, что данные события происходят с некоторой фиксированной средней интенсивностью и независимо друг от друга. Наш случай подходит под это определение. Мы действительно имеем случайное количество сообщений, отправляемых в пределах одного месяца.\n",
    "\n",
    "По гистограммам видно, что стандартное отклонение у тарифа Ultra выше, чем у тарифа Smart.\n",
    "\n",
    "Максимальная частота у тарифа Smart соответствует диапазону 10 - 30 сообщений. У тарифа Ultra - 30 сообщений.\n",
    "\n",
    "Как и в предыдущем случае, у тарифа Smart достаточно много выходов за бесплатный лимит (50 сообщений). У тарифа Ultra вообще нет выходов за пределы бесплатного лимита (1000 сообщений). Следовательно, тариф Smart может получать дополнительную выручку (3 рубля за сообщение). В тарифе Ultra с большой долей вероятности это исключено."
   ]
  },
  {
   "cell_type": "markdown",
   "id": "f78a4f25",
   "metadata": {},
   "source": [
    "### Анализ статистик потраченного интернет-трафика"
   ]
  },
  {
   "cell_type": "code",
   "execution_count": 79,
   "id": "e4b568c1",
   "metadata": {},
   "outputs": [
    {
     "data": {
      "text/plain": [
       "1_mb_sum      8513.717647\n",
       "2_mb_sum     11597.054310\n",
       "3_mb_sum     15104.159091\n",
       "4_mb_sum     13462.180625\n",
       "5_mb_sum     15805.184326\n",
       "6_mb_sum     15794.647988\n",
       "7_mb_sum     15743.150348\n",
       "8_mb_sum     16681.706068\n",
       "9_mb_sum     16303.578808\n",
       "10_mb_sum    16757.122891\n",
       "11_mb_sum    16895.696646\n",
       "12_mb_sum    18113.662047\n",
       "dtype: float64"
      ]
     },
     "execution_count": 79,
     "metadata": {},
     "output_type": "execute_result"
    }
   ],
   "source": [
    "# Вычисление среднего количества потраченного интернет-трафика для тарифа Smart\n",
    "user_info[user_info['tariff'] == 'smart'][['1_mb_sum',\n",
    "                                           '2_mb_sum',\n",
    "                                           '3_mb_sum',\n",
    "                                           '4_mb_sum',\n",
    "                                           '5_mb_sum',\n",
    "                                           '6_mb_sum',\n",
    "                                           '7_mb_sum',\n",
    "                                           '8_mb_sum',\n",
    "                                           '9_mb_sum',\n",
    "                                           '10_mb_sum',\n",
    "                                           '11_mb_sum',\n",
    "                                           '12_mb_sum']].mean()"
   ]
  },
  {
   "cell_type": "code",
   "execution_count": 80,
   "id": "453d8f7e",
   "metadata": {},
   "outputs": [
    {
     "data": {
      "text/plain": [
       "1_mb_sum     13140.681111\n",
       "2_mb_sum     12846.477273\n",
       "3_mb_sum     17535.550270\n",
       "4_mb_sum     16828.134364\n",
       "5_mb_sum     19656.534091\n",
       "6_mb_sum     19152.950602\n",
       "7_mb_sum     20723.394778\n",
       "8_mb_sum     19760.734434\n",
       "9_mb_sum     19372.735702\n",
       "10_mb_sum    20209.643361\n",
       "11_mb_sum    19935.585489\n",
       "12_mb_sum    21951.094130\n",
       "dtype: float64"
      ]
     },
     "execution_count": 80,
     "metadata": {},
     "output_type": "execute_result"
    }
   ],
   "source": [
    "# Вычисление среднего количества потраченного интернет-трафика для тарифа Ultra\n",
    "user_info[user_info['tariff'] == 'ultra'][['1_mb_sum',\n",
    "                                           '2_mb_sum',\n",
    "                                           '3_mb_sum',\n",
    "                                           '4_mb_sum',\n",
    "                                           '5_mb_sum',\n",
    "                                           '6_mb_sum',\n",
    "                                           '7_mb_sum',\n",
    "                                           '8_mb_sum',\n",
    "                                           '9_mb_sum',\n",
    "                                           '10_mb_sum',\n",
    "                                           '11_mb_sum',\n",
    "                                           '12_mb_sum']].mean()"
   ]
  },
  {
   "cell_type": "code",
   "execution_count": 81,
   "id": "9558a0e8",
   "metadata": {
    "scrolled": false
   },
   "outputs": [
    {
     "name": "stderr",
     "output_type": "stream",
     "text": [
      "<ipython-input-81-82adaa4c06bc>:20: UserWarning: FixedFormatter should only be used together with FixedLocator\n",
      "  ax1.set_xticklabels([1, 2, 3, 4, 5, 6, 7, 8, 9, 10, 11, 12])\n",
      "<ipython-input-81-82adaa4c06bc>:36: UserWarning: FixedFormatter should only be used together with FixedLocator\n",
      "  ax2.set_xticklabels([1, 2, 3, 4, 5, 6, 7, 8, 9, 10, 11, 12])\n"
     ]
    },
    {
     "data": {
      "image/png": "[encoded data removed]",
      "text/plain": [
       "<Figure size 1440x720 with 2 Axes>"
      ]
     },
     "metadata": {
      "needs_background": "light"
     },
     "output_type": "display_data"
    }
   ],
   "source": [
    "# Построение графиков среднего количества потраченного интернет-трафика для разных тарифов по месяцам\n",
    "\n",
    "fig = plt.figure(figsize=(20, 10))\n",
    "ax2 = fig.add_subplot(1, 2, 2)\n",
    "ax1 = fig.add_subplot(1, 2, 1, sharey = ax2)\n",
    "\n",
    "# Построение графика среднего количества потраченного интернет-трафика по месяцам для тарифа Smart\n",
    "ax1.plot(user_info[user_info['tariff'] == 'smart'][['1_mb_sum',\n",
    "                                                    '2_mb_sum',\n",
    "                                                    '3_mb_sum',\n",
    "                                                    '4_mb_sum',\n",
    "                                                    '5_mb_sum',\n",
    "                                                    '6_mb_sum',\n",
    "                                                    '7_mb_sum',\n",
    "                                                    '8_mb_sum',\n",
    "                                                    '9_mb_sum',\n",
    "                                                    '10_mb_sum',\n",
    "                                                    '11_mb_sum',\n",
    "                                                    '12_mb_sum']].mean())\n",
    "ax1.set_xticklabels([1, 2, 3, 4, 5, 6, 7, 8, 9, 10, 11, 12])\n",
    "ax1.set_title('Количество потраченного интернет трафика по месяцам для тарифа Smart')\n",
    "\n",
    "# Построение графика среднего количества потраченного интернет-трафика по месяцам для тарифа Ultra\n",
    "ax2.plot(user_info[user_info['tariff'] == 'ultra'][['1_mb_sum',\n",
    "                                                    '2_mb_sum',\n",
    "                                                    '3_mb_sum',\n",
    "                                                    '4_mb_sum',\n",
    "                                                    '5_mb_sum',\n",
    "                                                    '6_mb_sum',\n",
    "                                                    '7_mb_sum',\n",
    "                                                    '8_mb_sum',\n",
    "                                                    '9_mb_sum',\n",
    "                                                    '10_mb_sum',\n",
    "                                                    '11_mb_sum',\n",
    "                                                    '12_mb_sum']].mean())\n",
    "ax2.set_xticklabels([1, 2, 3, 4, 5, 6, 7, 8, 9, 10, 11, 12])\n",
    "ax2.set_title('Количество потраченного интернет трафика по месяцам для тарифа Ultra')\n",
    "\n",
    "plt.show()"
   ]
  },
  {
   "cell_type": "markdown",
   "id": "fc0b8fda",
   "metadata": {},
   "source": [
    "Ситуация схожая с предыдущим пунктом: средний объем интернет-трафика у тарифа Smart возрастает более плавно с провалом в апреле, у тарифа Ultra - более криво с провалом в феврале.\n",
    "\n",
    "Начиная с марта, средний расход интернет-трафика у тарифа Smart превышает бесплатный лимит (15360 Мб). Возможно, у этого тарифа большое стандартное отклонение. Тогда высокое среднее достигается не всеми пользователями, а лишь несколькими, сильно выходящими за бесплатный лимит. Проверим это предположение, посчитав среднее отклонение и построив гистограммы."
   ]
  },
  {
   "cell_type": "code",
   "execution_count": 82,
   "id": "f41903b6",
   "metadata": {},
   "outputs": [
    {
     "data": {
      "text/plain": [
       "15064.321732990802"
      ]
     },
     "execution_count": 82,
     "metadata": {},
     "output_type": "execute_result"
    }
   ],
   "source": [
    "# Вычисление среднего количества потраченного интернет-трафика для тарифа Smart\n",
    "user_info[user_info['tariff'] == 'smart'][['1_mb_sum',\n",
    "                                           '2_mb_sum',\n",
    "                                           '3_mb_sum',\n",
    "                                           '4_mb_sum',\n",
    "                                           '5_mb_sum',\n",
    "                                           '6_mb_sum',\n",
    "                                           '7_mb_sum',\n",
    "                                           '8_mb_sum',\n",
    "                                           '9_mb_sum',\n",
    "                                           '10_mb_sum',\n",
    "                                           '11_mb_sum',\n",
    "                                           '12_mb_sum']].mean().mean()"
   ]
  },
  {
   "cell_type": "code",
   "execution_count": 83,
   "id": "5c2d2b17",
   "metadata": {},
   "outputs": [
    {
     "data": {
      "text/plain": [
       "18426.12630036421"
      ]
     },
     "execution_count": 83,
     "metadata": {},
     "output_type": "execute_result"
    }
   ],
   "source": [
    "# Вычисление выборочного среднего количества потраченного интернет-трафика для тарифа Ultra\n",
    "user_info[user_info['tariff'] == 'ultra'][['1_mb_sum',\n",
    "                                           '2_mb_sum',\n",
    "                                           '3_mb_sum',\n",
    "                                           '4_mb_sum',\n",
    "                                           '5_mb_sum',\n",
    "                                           '6_mb_sum',\n",
    "                                           '7_mb_sum',\n",
    "                                           '8_mb_sum',\n",
    "                                           '9_mb_sum',\n",
    "                                           '10_mb_sum',\n",
    "                                           '11_mb_sum',\n",
    "                                           '12_mb_sum']].mean().mean()"
   ]
  },
  {
   "cell_type": "markdown",
   "id": "5debd548",
   "metadata": {},
   "source": [
    "Выборочное среднее тарифа Smart показывает, что множество пользователей тратят больше, чем отведено в бесплатном лимите. Значит, компания получает с интернет-трафика тарифа Smart дополнительную выручку. У тарифа Ultra небольшое количество пользователей, которые выходят за пределы бесплатного лимита (30720 Мб)."
   ]
  },
  {
   "cell_type": "code",
   "execution_count": 84,
   "id": "ac16e164",
   "metadata": {
    "scrolled": true
   },
   "outputs": [
    {
     "data": {
      "text/plain": [
       "1_mb_sum     6349.198980\n",
       "2_mb_sum     6193.263172\n",
       "3_mb_sum     5790.268159\n",
       "4_mb_sum     5672.753443\n",
       "5_mb_sum     5956.994600\n",
       "6_mb_sum     5773.472627\n",
       "7_mb_sum     5882.466616\n",
       "8_mb_sum     5486.626034\n",
       "9_mb_sum     5186.113592\n",
       "10_mb_sum    5849.411064\n",
       "11_mb_sum    5331.816920\n",
       "12_mb_sum    5565.406971\n",
       "dtype: float64"
      ]
     },
     "execution_count": 84,
     "metadata": {},
     "output_type": "execute_result"
    }
   ],
   "source": [
    "# Вычисление среднего количества потраченного интернет-трафика для тарифа Smart\n",
    "user_info[user_info['tariff'] == 'smart'][['1_mb_sum',\n",
    "                                           '2_mb_sum',\n",
    "                                           '3_mb_sum',\n",
    "                                           '4_mb_sum',\n",
    "                                           '5_mb_sum',\n",
    "                                           '6_mb_sum',\n",
    "                                           '7_mb_sum',\n",
    "                                           '8_mb_sum',\n",
    "                                           '9_mb_sum',\n",
    "                                           '10_mb_sum',\n",
    "                                           '11_mb_sum',\n",
    "                                           '12_mb_sum']].std(ddof=0)"
   ]
  },
  {
   "cell_type": "code",
   "execution_count": 85,
   "id": "2192ea0d",
   "metadata": {},
   "outputs": [
    {
     "data": {
      "text/plain": [
       "5753.149348121032"
      ]
     },
     "execution_count": 85,
     "metadata": {},
     "output_type": "execute_result"
    }
   ],
   "source": [
    "# Вычисление среднего количества потраченного интернет-трафика для тарифа Smart\n",
    "user_info[user_info['tariff'] == 'smart'][['1_mb_sum',\n",
    "                                           '2_mb_sum',\n",
    "                                           '3_mb_sum',\n",
    "                                           '4_mb_sum',\n",
    "                                           '5_mb_sum',\n",
    "                                           '6_mb_sum',\n",
    "                                           '7_mb_sum',\n",
    "                                           '8_mb_sum',\n",
    "                                           '9_mb_sum',\n",
    "                                           '10_mb_sum',\n",
    "                                           '11_mb_sum',\n",
    "                                           '12_mb_sum']].std(ddof=0).mean()"
   ]
  },
  {
   "cell_type": "code",
   "execution_count": 86,
   "id": "80d7a241",
   "metadata": {
    "scrolled": false
   },
   "outputs": [
    {
     "data": {
      "text/plain": [
       "1_mb_sum      6472.711108\n",
       "2_mb_sum     10232.602941\n",
       "3_mb_sum     10802.775052\n",
       "4_mb_sum      9629.893193\n",
       "5_mb_sum      9754.869282\n",
       "6_mb_sum      9054.859615\n",
       "7_mb_sum      9827.963236\n",
       "8_mb_sum     10300.913868\n",
       "9_mb_sum      9312.484498\n",
       "10_mb_sum     9632.260031\n",
       "11_mb_sum     9756.693104\n",
       "12_mb_sum    10210.012572\n",
       "dtype: float64"
      ]
     },
     "execution_count": 86,
     "metadata": {},
     "output_type": "execute_result"
    }
   ],
   "source": [
    "# Вычисление среднего количества потраченного интернет-трафика для тарифа Ultra\n",
    "user_info[user_info['tariff'] == 'ultra'][['1_mb_sum',\n",
    "                                           '2_mb_sum',\n",
    "                                           '3_mb_sum',\n",
    "                                           '4_mb_sum',\n",
    "                                           '5_mb_sum',\n",
    "                                           '6_mb_sum',\n",
    "                                           '7_mb_sum',\n",
    "                                           '8_mb_sum',\n",
    "                                           '9_mb_sum',\n",
    "                                           '10_mb_sum',\n",
    "                                           '11_mb_sum',\n",
    "                                           '12_mb_sum']].std(ddof=0)"
   ]
  },
  {
   "cell_type": "code",
   "execution_count": 87,
   "id": "05ae5bcd",
   "metadata": {},
   "outputs": [
    {
     "data": {
      "text/plain": [
       "9582.336541685674"
      ]
     },
     "execution_count": 87,
     "metadata": {},
     "output_type": "execute_result"
    }
   ],
   "source": [
    "# Вычисление среднего количества потраченного интернет-трафика для тарифа Smart\n",
    "user_info[user_info['tariff'] == 'ultra'][['1_mb_sum',\n",
    "                                           '2_mb_sum',\n",
    "                                           '3_mb_sum',\n",
    "                                           '4_mb_sum',\n",
    "                                           '5_mb_sum',\n",
    "                                           '6_mb_sum',\n",
    "                                           '7_mb_sum',\n",
    "                                           '8_mb_sum',\n",
    "                                           '9_mb_sum',\n",
    "                                           '10_mb_sum',\n",
    "                                           '11_mb_sum',\n",
    "                                           '12_mb_sum']].std(ddof=0).mean()"
   ]
  },
  {
   "cell_type": "markdown",
   "id": "9dcfeb5a",
   "metadata": {},
   "source": [
    "Достаточно малое стандартное отклонение тарифа Smart показывает, что действительно существует большое число пользователей, которые выходят за бесплатный лимит в течение месяца. Для полной уверенности проанализируем гистограмму частот потраченного интернет-трафика. Для более лаконичных результатов построим гистограмму для потраченных гигабайт, а не мегабайт, как в предыдущем случае."
   ]
  },
  {
   "cell_type": "code",
   "execution_count": 88,
   "id": "f706979e",
   "metadata": {},
   "outputs": [],
   "source": [
    "# Присоединение тарифа к таблице internet\n",
    "internet = internet.merge(users[['user_id', 'tariff']], on = 'user_id', how = 'inner')"
   ]
  },
  {
   "cell_type": "code",
   "execution_count": 89,
   "id": "32ee35ec",
   "metadata": {
    "scrolled": true
   },
   "outputs": [],
   "source": [
    "# Группировка данных по столбцам 'user_id', 'tariff' и 'session_month'\n",
    "internet_hist = (\n",
    "    internet\n",
    "    .groupby(['user_id', 'tariff', 'session_month'])['mb_used']\n",
    "    .agg('sum')\n",
    "    .reset_index()\n",
    ")"
   ]
  },
  {
   "cell_type": "code",
   "execution_count": 90,
   "id": "60117345",
   "metadata": {},
   "outputs": [],
   "source": [
    "# Округление потраченного интернет-трафика за месяц до Гб\n",
    "internet_hist['gb_used'] = np.ceil(internet_hist['mb_used'] / 1024)"
   ]
  },
  {
   "cell_type": "code",
   "execution_count": 91,
   "id": "89d40299",
   "metadata": {},
   "outputs": [],
   "source": [
    "# Создание общей таблицы потраченного интернет-трафика помесячно для тарифа Smart \n",
    "internet_hist_smart = internet_hist[internet_hist['tariff'] == 'smart']['gb_used']"
   ]
  },
  {
   "cell_type": "code",
   "execution_count": 92,
   "id": "d7ae35bd",
   "metadata": {},
   "outputs": [],
   "source": [
    "# Создание общей таблицы потраченного интернет-трафика помесячно для тарифа Ultra \n",
    "internet_hist_ultra = internet_hist[internet_hist['tariff'] == 'ultra']['gb_used']"
   ]
  },
  {
   "cell_type": "code",
   "execution_count": 93,
   "id": "496fc954",
   "metadata": {
    "scrolled": false
   },
   "outputs": [
    {
     "data": {
      "image/png": "[encoded data removed]",
      "text/plain": [
       "<Figure size 1440x720 with 2 Axes>"
      ]
     },
     "metadata": {
      "needs_background": "light"
     },
     "output_type": "display_data"
    }
   ],
   "source": [
    "# Построение гистограмм потраченного интернет-трафика по месяцам для разных тарифов\n",
    "\n",
    "# Создание фигур для рисования\n",
    "fig = plt.figure(figsize=(20, 10))\n",
    "ax2 = fig.add_subplot(1,2,2)\n",
    "ax1 = fig.add_subplot(1,2,1, sharey = ax2)\n",
    "\n",
    "# Построение гистограммы для тарифа Smart\n",
    "ax1.hist(internet_hist_smart, bins = list(range(0, 38)))\n",
    "\n",
    "# Построение гистограммы для тарифа Ultra\n",
    "ax2.hist(internet_hist_ultra, bins = list(range(0, 49)))\n",
    "\n",
    "\n",
    "ax1.set_title('Гистограмма длительности звонков для тарифа Smart')\n",
    "ax2.set_title('Гистограмма длительности звонков для тарифа Ultra')\n",
    "\n",
    "plt.show()"
   ]
  },
  {
   "cell_type": "markdown",
   "id": "e45fc30b",
   "metadata": {},
   "source": [
    "Гистограммы частот снова напоминают нормальное распределение.\n",
    "\n",
    "У тарифа Smart максимальная частота выпадает на значение 17 Гб, что уже превышает отведенный лимит. При этом, достаточно много пользователей, которые используют больше 17 Гб интернет-трифика. Следовательно, можем сделать вывод, что тариф Smart приносит большую дополнительную выручку (200 рублей за дополнительный Гб).\n",
    "\n",
    "У тарифа Ultra максимальная частота выпадает на 19 Гб. Также существует небольшое число пользователей, которые выходят за пределы отведенного тарифа (30 Гб).\n",
    "\n",
    "По гистограммам также видно, что у тарифа Smart меньше стандартное отклонение потраченного интернет-трафика.\n",
    "\n",
    "Теперь перейдем к анализу выручки в разрезе обоих тарифов."
   ]
  },
  {
   "cell_type": "markdown",
   "id": "58d45c23",
   "metadata": {},
   "source": [
    "### Анализ статистик полученной выручки"
   ]
  },
  {
   "cell_type": "markdown",
   "id": "b95644b0",
   "metadata": {},
   "source": [
    "Подведем итог анализа всех предыдущих пунктов, отталкиваясь от выручки.\n",
    "\n",
    "Нам удалось выяснить, что тариф Smart рассчитан на большое количество пользователей за счет меньшей абоненткой платы за тариф. А также он рассчитан на получение дополнительной выручки, так как пользователи часто выходят за отведенные лимиты.\n",
    "\n",
    "Тариф Ultra имеет стоимость почти в 4 раза превышающую стоимость тарифа Smart (1950 рублей и 550 рублей соответственно). Его использует меньшее количество пользователей и за пределы отведенных лимитов пользователи выходят редко. В стоимость этого тарифа уже заложено, что пользователи будут редко приносить дополнительную выручку.\n",
    "\n",
    "Самый главный вопрос этого исследования: какой тариф приносит больше выручки?\n",
    "\n",
    "На этот вопрос мы постараемся ответить в этом пункте."
   ]
  },
  {
   "cell_type": "code",
   "execution_count": 94,
   "id": "0326649f",
   "metadata": {
    "scrolled": true
   },
   "outputs": [
    {
     "data": {
      "text/plain": [
       "1_revenue      721.323529\n",
       "2_revenue      827.603448\n",
       "3_revenue     1164.623377\n",
       "4_revenue      963.089286\n",
       "5_revenue     1197.510638\n",
       "6_revenue     1204.018293\n",
       "7_revenue     1223.950249\n",
       "8_revenue     1320.595745\n",
       "9_revenue     1249.946154\n",
       "10_revenue    1364.853741\n",
       "11_revenue    1343.047468\n",
       "12_revenue    1578.531157\n",
       "dtype: float64"
      ]
     },
     "execution_count": 94,
     "metadata": {},
     "output_type": "execute_result"
    }
   ],
   "source": [
    "# Вычисление средней выручки по месяцам для тарифа Smart\n",
    "user_info[user_info['tariff'] == 'smart'][['1_revenue',\n",
    "                                           '2_revenue',\n",
    "                                           '3_revenue',\n",
    "                                           '4_revenue',\n",
    "                                           '5_revenue',\n",
    "                                           '6_revenue',\n",
    "                                           '7_revenue',\n",
    "                                           '8_revenue',\n",
    "                                           '9_revenue',\n",
    "                                           '10_revenue',\n",
    "                                           '11_revenue',\n",
    "                                           '12_revenue']].mean()"
   ]
  },
  {
   "cell_type": "code",
   "execution_count": 95,
   "id": "4c6ef4d6",
   "metadata": {
    "scrolled": true
   },
   "outputs": [
    {
     "data": {
      "text/plain": [
       "1_revenue     1950.000000\n",
       "2_revenue     1975.000000\n",
       "3_revenue     2014.864865\n",
       "4_revenue     2001.818182\n",
       "5_revenue     2059.701493\n",
       "6_revenue     2039.285714\n",
       "7_revenue     2118.131868\n",
       "8_revenue     2083.177570\n",
       "9_revenue     2024.347826\n",
       "10_revenue    2065.853659\n",
       "11_revenue    2092.164179\n",
       "12_revenue    2138.848921\n",
       "dtype: float64"
      ]
     },
     "execution_count": 95,
     "metadata": {},
     "output_type": "execute_result"
    }
   ],
   "source": [
    "# Вычисление средней выручки по месяцам для тарифа Ultra\n",
    "user_info[user_info['tariff'] == 'ultra'][['1_revenue',\n",
    "                                           '2_revenue',\n",
    "                                           '3_revenue',\n",
    "                                           '4_revenue',\n",
    "                                           '5_revenue',\n",
    "                                           '6_revenue',\n",
    "                                           '7_revenue',\n",
    "                                           '8_revenue',\n",
    "                                           '9_revenue',\n",
    "                                           '10_revenue',\n",
    "                                           '11_revenue',\n",
    "                                           '12_revenue']].mean()"
   ]
  },
  {
   "cell_type": "code",
   "execution_count": 96,
   "id": "dd442514",
   "metadata": {
    "scrolled": false
   },
   "outputs": [
    {
     "name": "stderr",
     "output_type": "stream",
     "text": [
      "<ipython-input-96-c938fe3cfa71>:36: UserWarning: FixedFormatter should only be used together with FixedLocator\n",
      "  ax1.set_xticklabels([1, 2, 3, 4, 5, 6, 7, 8, 9, 10, 11, 12])\n",
      "<ipython-input-96-c938fe3cfa71>:37: UserWarning: FixedFormatter should only be used together with FixedLocator\n",
      "  ax2.set_xticklabels([1, 2, 3, 4, 5, 6, 7, 8, 9, 10, 11, 12])\n"
     ]
    },
    {
     "data": {
      "image/png": "[encoded data removed]",
      "text/plain": [
       "<Figure size 1440x720 with 2 Axes>"
      ]
     },
     "metadata": {
      "needs_background": "light"
     },
     "output_type": "display_data"
    }
   ],
   "source": [
    "# Построение графиков средней выручки для разных тарифов по месяцам\n",
    "\n",
    "fig = plt.figure(figsize=(20, 10))\n",
    "ax2 = fig.add_subplot(1, 2, 2)\n",
    "ax1 = fig.add_subplot(1, 2, 1, sharey = ax2)\n",
    "\n",
    "# Построение графика средней выручки по месяцам для тарифа Smart\n",
    "ax1.plot(user_info[(user_info['tariff'] == 'smart')][['1_revenue',\n",
    "                                                      '2_revenue',\n",
    "                                                      '3_revenue',\n",
    "                                                      '4_revenue',\n",
    "                                                      '5_revenue',\n",
    "                                                      '6_revenue',\n",
    "                                                      '7_revenue',\n",
    "                                                      '8_revenue',\n",
    "                                                      '9_revenue',\n",
    "                                                      '10_revenue',\n",
    "                                                      '11_revenue',\n",
    "                                                      '12_revenue']].mean())\n",
    "\n",
    "# Построение графика средней выручки по месяцам для тарифа Ultra\n",
    "ax2.plot(user_info[user_info['tariff'] == 'ultra'][['1_revenue',\n",
    "                                                    '2_revenue',\n",
    "                                                    '3_revenue',\n",
    "                                                    '4_revenue',\n",
    "                                                    '5_revenue',\n",
    "                                                    '6_revenue',\n",
    "                                                    '7_revenue',\n",
    "                                                    '8_revenue',\n",
    "                                                    '9_revenue',\n",
    "                                                    '10_revenue',\n",
    "                                                    '11_revenue',\n",
    "                                                    '12_revenue']].mean())\n",
    "\n",
    "\n",
    "ax1.set_xticklabels([1, 2, 3, 4, 5, 6, 7, 8, 9, 10, 11, 12])\n",
    "ax2.set_xticklabels([1, 2, 3, 4, 5, 6, 7, 8, 9, 10, 11, 12])\n",
    "\n",
    "ax1.set_title('Средняя выручка по месяцам для тарифа Smart')\n",
    "ax2.set_title('Средняя выручка по месяцам для тарифа Ultra')\n",
    "\n",
    "\n",
    "plt.show()"
   ]
  },
  {
   "cell_type": "markdown",
   "id": "8936273c",
   "metadata": {},
   "source": [
    "Средняя выручка тарифа Smart значительно меньше, чем выручка тарифа Ultra.\n",
    "\n",
    "У тарифа Smart есть провал по выручке в апреле и, возможно, в рамках другого исследования этот момент стоит проанализировать более детально.\n",
    "\n",
    "У тарифа Ultra наоборот, начиная с апреля происходит увеличение выручки, так как пользователей выходящих за отведенный лимит становится все больше. В предыдущих пунктах исследования у тарифа Ultra наблюдалось падение всех показателей в феврале, но на выручке это никак не сказалось.\n",
    "\n",
    "Проанализируем все остальные статистики и построим гистограмму частот выручки."
   ]
  },
  {
   "cell_type": "code",
   "execution_count": 97,
   "id": "a4f03013",
   "metadata": {},
   "outputs": [
    {
     "data": {
      "text/plain": [
       "1179.9244237841976"
      ]
     },
     "execution_count": 97,
     "metadata": {},
     "output_type": "execute_result"
    }
   ],
   "source": [
    "# Вычисление выборочного среднего выручек для тарифа Smart\n",
    "user_info[user_info['tariff'] == 'smart'][['1_revenue',\n",
    "                                           '2_revenue',\n",
    "                                           '3_revenue',\n",
    "                                           '4_revenue',\n",
    "                                           '5_revenue',\n",
    "                                           '6_revenue',\n",
    "                                           '7_revenue',\n",
    "                                           '8_revenue',\n",
    "                                           '9_revenue',\n",
    "                                           '10_revenue',\n",
    "                                           '11_revenue',\n",
    "                                           '12_revenue']].mean().mean()"
   ]
  },
  {
   "cell_type": "code",
   "execution_count": 98,
   "id": "2a93796c",
   "metadata": {},
   "outputs": [
    {
     "data": {
      "text/plain": [
       "2046.9328563602276"
      ]
     },
     "execution_count": 98,
     "metadata": {},
     "output_type": "execute_result"
    }
   ],
   "source": [
    "# Вычисление выборочного среднего выручек для тарифа Ultra\n",
    "user_info[user_info['tariff'] == 'ultra'][['1_revenue',\n",
    "                                           '2_revenue',\n",
    "                                           '3_revenue',\n",
    "                                           '4_revenue',\n",
    "                                           '5_revenue',\n",
    "                                           '6_revenue',\n",
    "                                           '7_revenue',\n",
    "                                           '8_revenue',\n",
    "                                           '9_revenue',\n",
    "                                           '10_revenue',\n",
    "                                           '11_revenue',\n",
    "                                           '12_revenue']].mean().mean()"
   ]
  },
  {
   "cell_type": "markdown",
   "id": "d3ca5eab",
   "metadata": {},
   "source": [
    "Выборочное среднее нам демонстрирует, что выручка от тарифа Ultra почти в 2 раза больше, чем выручка от тарифа Smart."
   ]
  },
  {
   "cell_type": "code",
   "execution_count": 99,
   "id": "1da9beb1",
   "metadata": {
    "scrolled": true
   },
   "outputs": [
    {
     "data": {
      "text/plain": [
       "1_revenue      432.266035\n",
       "2_revenue      536.020520\n",
       "3_revenue      693.477648\n",
       "4_revenue      559.549700\n",
       "5_revenue      720.404857\n",
       "6_revenue      743.460937\n",
       "7_revenue      736.630927\n",
       "8_revenue      790.536937\n",
       "9_revenue      731.180077\n",
       "10_revenue     841.338528\n",
       "11_revenue     794.469663\n",
       "12_revenue    1033.199594\n",
       "dtype: float64"
      ]
     },
     "execution_count": 99,
     "metadata": {},
     "output_type": "execute_result"
    }
   ],
   "source": [
    "# Вычисление стандартного отклонения выручек для тарифа Smart\n",
    "user_info[user_info['tariff'] == 'smart'][['1_revenue',\n",
    "                                           '2_revenue',\n",
    "                                           '3_revenue',\n",
    "                                           '4_revenue',\n",
    "                                           '5_revenue',\n",
    "                                           '6_revenue',\n",
    "                                           '7_revenue',\n",
    "                                           '8_revenue',\n",
    "                                           '9_revenue',\n",
    "                                           '10_revenue',\n",
    "                                           '11_revenue',\n",
    "                                           '12_revenue']].std(ddof=0)"
   ]
  },
  {
   "cell_type": "code",
   "execution_count": 100,
   "id": "9e837851",
   "metadata": {},
   "outputs": [
    {
     "data": {
      "text/plain": [
       "717.7112851448829"
      ]
     },
     "execution_count": 100,
     "metadata": {},
     "output_type": "execute_result"
    }
   ],
   "source": [
    "# Вычисление среднего стандартного отклонения для тарифа Smart\n",
    "user_info[user_info['tariff'] == 'smart'][['1_revenue',\n",
    "                                           '2_revenue',\n",
    "                                           '3_revenue',\n",
    "                                           '4_revenue',\n",
    "                                           '5_revenue',\n",
    "                                           '6_revenue',\n",
    "                                           '7_revenue',\n",
    "                                           '8_revenue',\n",
    "                                           '9_revenue',\n",
    "                                           '10_revenue',\n",
    "                                           '11_revenue',\n",
    "                                           '12_revenue']].std(ddof=0).mean()"
   ]
  },
  {
   "cell_type": "code",
   "execution_count": 101,
   "id": "5f78c13d",
   "metadata": {
    "scrolled": true
   },
   "outputs": [
    {
     "data": {
      "text/plain": [
       "1_revenue       0.000000\n",
       "2_revenue      82.915620\n",
       "3_revenue     204.960400\n",
       "4_revenue     194.460474\n",
       "5_revenue     400.302013\n",
       "6_revenue     314.062421\n",
       "7_revenue     443.544445\n",
       "8_revenue     397.829621\n",
       "9_revenue     245.778728\n",
       "10_revenue    385.315681\n",
       "11_revenue    407.845380\n",
       "12_revenue    480.558846\n",
       "dtype: float64"
      ]
     },
     "execution_count": 101,
     "metadata": {},
     "output_type": "execute_result"
    }
   ],
   "source": [
    "# Вычисление стандартного отклонения выручек для тарифа Ultra\n",
    "user_info[user_info['tariff'] == 'ultra'][['1_revenue',\n",
    "                                           '2_revenue',\n",
    "                                           '3_revenue',\n",
    "                                           '4_revenue',\n",
    "                                           '5_revenue',\n",
    "                                           '6_revenue',\n",
    "                                           '7_revenue',\n",
    "                                           '8_revenue',\n",
    "                                           '9_revenue',\n",
    "                                           '10_revenue',\n",
    "                                           '11_revenue',\n",
    "                                           '12_revenue']].std(ddof=0)"
   ]
  },
  {
   "cell_type": "code",
   "execution_count": 102,
   "id": "dedcda59",
   "metadata": {},
   "outputs": [
    {
     "data": {
      "text/plain": [
       "296.46446911269925"
      ]
     },
     "execution_count": 102,
     "metadata": {},
     "output_type": "execute_result"
    }
   ],
   "source": [
    "# Вычисление среднего стандартного отклонения выручек для тарифа Ultra\n",
    "user_info[user_info['tariff'] == 'ultra'][['1_revenue',\n",
    "                                           '2_revenue',\n",
    "                                           '3_revenue',\n",
    "                                           '4_revenue',\n",
    "                                           '5_revenue',\n",
    "                                           '6_revenue',\n",
    "                                           '7_revenue',\n",
    "                                           '8_revenue',\n",
    "                                           '9_revenue',\n",
    "                                           '10_revenue',\n",
    "                                           '11_revenue',\n",
    "                                           '12_revenue']].std(ddof=0).mean()"
   ]
  },
  {
   "cell_type": "markdown",
   "id": "c9c3fe14",
   "metadata": {},
   "source": [
    "Среднее стандартное отклонение у тарифа Smart больше, чем у тарифа Ultra. Это свидетельствует о неравномерном выходе за отведенные лимиты пользователями, следовательно, и об неравномерной выручке тарифа Smart. У тарифа Ultra пользователи очень редко выходят за пределы лимитов, поэтому выручка с пользователя почти всегда равна 1950 рублей.\n",
    "\n",
    "Теперь построим гистограммы частот выручки в разрезе тарифов. Для построения гистограммы выполним конкатенацию 12-и столбцов выручки в один столбец датафрейма `revenue_list`.\n",
    "\n",
    "Для того чтобы корректно передать столбцы выручки методу `concat` их необходимо выделить в отдельные датафреймы. Для разбивки по тарифам, в эти датафреймы также необходимо записать столбец `tarrif` из таблицы `user_info`. Для корректного соединения строк, получившиеся столбцы в датафреме необходимо переименовать одинаковыми названиями."
   ]
  },
  {
   "cell_type": "code",
   "execution_count": 103,
   "id": "86920739",
   "metadata": {},
   "outputs": [],
   "source": [
    "# Подготовка датафреймов, состоящих их столбцов выручки за определенный месяц и соответствующего тарифа\n",
    "\n",
    "revenue_list_1 = user_info[['1_revenue', 'tariff']]\n",
    "revenue_list_1 = revenue_list_1.rename(columns = {'1_revenue':'revenue'})\n",
    "                                       \n",
    "revenue_list_2 = user_info[['2_revenue', 'tariff']]\n",
    "revenue_list_2 = revenue_list_2.rename(columns = {'2_revenue':'revenue'})\n",
    "                                       \n",
    "revenue_list_3 = user_info[['3_revenue', 'tariff']]\n",
    "revenue_list_3 = revenue_list_3.rename(columns = {'3_revenue':'revenue'})\n",
    "\n",
    "revenue_list_4 = user_info[['4_revenue', 'tariff']]\n",
    "revenue_list_4 = revenue_list_4.rename(columns = {'4_revenue':'revenue'})\n",
    "\n",
    "revenue_list_5 = user_info[['5_revenue', 'tariff']]\n",
    "revenue_list_5 = revenue_list_5.rename(columns = {'5_revenue':'revenue'})\n",
    "\n",
    "revenue_list_6 = user_info[['6_revenue', 'tariff']]\n",
    "revenue_list_6 = revenue_list_6.rename(columns = {'6_revenue':'revenue'})\n",
    "\n",
    "revenue_list_7 = user_info[['7_revenue', 'tariff']]\n",
    "revenue_list_7 = revenue_list_7.rename(columns = {'7_revenue':'revenue'})\n",
    "\n",
    "revenue_list_8 = user_info[['8_revenue', 'tariff']]\n",
    "revenue_list_8 = revenue_list_8.rename(columns = {'8_revenue':'revenue'})\n",
    "\n",
    "revenue_list_9 = user_info[['9_revenue', 'tariff']]\n",
    "revenue_list_9 = revenue_list_9.rename(columns = {'9_revenue':'revenue'})\n",
    "\n",
    "revenue_list_10 = user_info[['10_revenue', 'tariff']]\n",
    "revenue_list_10 = revenue_list_10.rename(columns = {'10_revenue':'revenue'})\n",
    "\n",
    "revenue_list_11 = user_info[['11_revenue', 'tariff']]\n",
    "revenue_list_11 = revenue_list_11.rename(columns = {'11_revenue':'revenue'})\n",
    "\n",
    "revenue_list_12 = user_info[['12_revenue', 'tariff']]\n",
    "revenue_list_12 = revenue_list_12.rename(columns = {'12_revenue':'revenue'})\n",
    "\n",
    "# Так как concat принимает максимум 10 датафреймов, а нам надо 12, запишем эти датафреймы в список \n",
    "frames = [revenue_list_1,\n",
    "          revenue_list_2,\n",
    "          revenue_list_3,\n",
    "          revenue_list_4,\n",
    "          revenue_list_5,\n",
    "          revenue_list_6,\n",
    "          revenue_list_7,\n",
    "          revenue_list_8,\n",
    "          revenue_list_9,\n",
    "          revenue_list_10,\n",
    "          revenue_list_11,\n",
    "          revenue_list_12]\n",
    "\n",
    "# Выполнение конкатенации столбцов выручки в один столбец\n",
    "revenue_list = pd.concat(frames, axis=0, ignore_index=True)"
   ]
  },
  {
   "cell_type": "markdown",
   "id": "b8c4e4f4",
   "metadata": {},
   "source": [
    "Все готово для построения гистограмм."
   ]
  },
  {
   "cell_type": "code",
   "execution_count": 104,
   "id": "12488c34",
   "metadata": {},
   "outputs": [
    {
     "data": {
      "image/png": "[encoded data removed]",
      "text/plain": [
       "<Figure size 1440x720 with 2 Axes>"
      ]
     },
     "metadata": {
      "needs_background": "light"
     },
     "output_type": "display_data"
    }
   ],
   "source": [
    "# Созадние фигуры и сабплотов на ней\n",
    "fig = plt.figure(figsize=(20, 10))\n",
    "ax2 = fig.add_subplot(1, 2, 2)\n",
    "ax1 = fig.add_subplot(1, 2, 1, sharey = ax2)\n",
    "\n",
    "# Построение гистограммы выручки для тарифа Smart\n",
    "ax1.hist(revenue_list[revenue_list['tariff'] == 'smart']['revenue'], bins = list(range(600, 7000, 100)))\n",
    "\n",
    "# Построение гистограммы выручки для тарифа Smart\n",
    "ax2.hist(revenue_list[revenue_list['tariff'] == 'ultra']['revenue'], bins = list(range(1800, 5000, 100)))\n",
    "\n",
    "# Присвоение заголовков\n",
    "ax1.set_title('Гистограмма выручки тарифа Smart')\n",
    "ax2.set_title('Гистограмма выручки тарифа Ultra')\n",
    "\n",
    "plt.show()"
   ]
  },
  {
   "cell_type": "markdown",
   "id": "399de6fd",
   "metadata": {},
   "source": [
    "Гистограммы снова наминают распределение Пуассона.\n",
    "\n",
    "У тарифа Ultra больше пользователей, которые платят строго определенную цену за услуги, чем у тарифа Smart (более 800 раз пользователи заплатили 1950 рублей). Как мы уже ранее говорили, это связано с тем, что пользователи тарифа Ultra редко выходят за отведенные лимиты, следовательно, они редко переплачивают установленную стоимость тарифа.\n",
    "\n",
    "У тарифа Smart плата за услуги сильно ранжируется, однако существует множество пользователей, которые тратят более 2000 рублей. Однако среднее показывает, что этого недостаточно, чтобы сравниться по выручке с тарифом Ultra.\n",
    "\n",
    "Гистограммы доказывают, что стандартное отклонение у тарифа Smart больше, чем у тарифа Ultra.\n",
    "\n",
    "Гистограммы также доказывают предыдущие вычисления: в исходных выборках средняя выручка у тарифа Ultra больше, чем  у тарифа Smart."
   ]
  },
  {
   "cell_type": "markdown",
   "id": "746a184b",
   "metadata": {},
   "source": [
    "## Проверка гипотез"
   ]
  },
  {
   "cell_type": "markdown",
   "id": "18123993",
   "metadata": {},
   "source": [
    "### Проверка гипотезы о равенстве средних выручек тарифов Smart и Ultra"
   ]
  },
  {
   "cell_type": "markdown",
   "id": "65ffec9d",
   "metadata": {},
   "source": [
    "В прошлом пункте исследования мы сделали вывод о выручке, исходя из выборки. Однако, вдруг в генеральной совокупности выручка пользоватлей из обоих тарифов равны друг другу. Проверим эту гипотезу с помощью математической статистически.\n",
    "\n",
    "Выдвинем нулевую гипотезу: средняя выручка пользователей тарифов Ultra и Smart равны.\n",
    "\n",
    "Тогда альтернативная гипотеза будет звучать так: средняя выручка пользователей тарифов Ultra и Smart не равны.\n",
    "\n",
    "Выполним проверку гипотезы с помощью метода `ttest_ind()` библиотеки `scipy`. Этот метод позволяет определить вероятность равенства средних двух выборок при условии того, что гипотеза верна. Пороговый уровень значимости будем считать за 1%, так как ранее на выборках мы уже определяли, что выборочное среднее двух тарифов отличается друг от друга практически в 2 раза. По такому результату можно считать успехом, если рассчитанная вероятность будет больше 1%.\n",
    "\n",
    "Чтобы корректно передать выручку 2-х тарифов, преобразуем их в списки `revenue_smart` и `revenue_ultra`.\n",
    "\n",
    "Ранее мы обнаружили, что стандартные отклонения выборок 2-х тарифов сильно отличаются. Поэтому в методе `ttest_ind()` выставим параметр `equal_var` равный False. Это позволит оценить дисперсию 2-x выборок отдельно друг от друга."
   ]
  },
  {
   "cell_type": "code",
   "execution_count": 105,
   "id": "61f524a1",
   "metadata": {},
   "outputs": [],
   "source": [
    "# Запись выручки тарифа Smart в отдельный список\n",
    "revenue_smart = list(revenue_list[(revenue_list['tariff'] == 'smart') &\n",
    "                                  ~(revenue_list['revenue'].isna())]['revenue'])"
   ]
  },
  {
   "cell_type": "code",
   "execution_count": 106,
   "id": "f4ec5448",
   "metadata": {},
   "outputs": [],
   "source": [
    "# Запись выручки тарифа Ultra в отдельный список\n",
    "revenue_ultra = list(revenue_list[(revenue_list['tariff'] == 'ultra') &\n",
    "                                  ~(revenue_list['revenue'].isna())]['revenue'])"
   ]
  },
  {
   "cell_type": "code",
   "execution_count": 107,
   "id": "6ce1e21d",
   "metadata": {},
   "outputs": [
    {
     "data": {
      "text/plain": [
       "1289.9735307312696"
      ]
     },
     "execution_count": 107,
     "metadata": {},
     "output_type": "execute_result"
    }
   ],
   "source": [
    "# Среднее значение в списке revenue_smart\n",
    "sum(revenue_smart) / len(revenue_smart)"
   ]
  },
  {
   "cell_type": "code",
   "execution_count": 108,
   "id": "8bcac6bc",
   "metadata": {},
   "outputs": [
    {
     "data": {
      "text/plain": [
       "2070.1522842639592"
      ]
     },
     "execution_count": 108,
     "metadata": {},
     "output_type": "execute_result"
    }
   ],
   "source": [
    "# Среднее значение в списке revenue_ultra\n",
    "sum(revenue_ultra) / len(revenue_ultra)"
   ]
  },
  {
   "cell_type": "code",
   "execution_count": 109,
   "id": "57ec06ae",
   "metadata": {},
   "outputs": [
    {
     "data": {
      "text/plain": [
       "780.1787535326896"
      ]
     },
     "execution_count": 109,
     "metadata": {},
     "output_type": "execute_result"
    }
   ],
   "source": [
    "# Разница между средними\n",
    "sum(revenue_ultra) / len(revenue_ultra) - sum(revenue_smart) / len(revenue_smart)"
   ]
  },
  {
   "cell_type": "code",
   "execution_count": 110,
   "id": "44f5e9bf",
   "metadata": {},
   "outputs": [
    {
     "name": "stdout",
     "output_type": "stream",
     "text": [
      "p-значение: 4.2606313931076085e-250\n",
      "Отвергаем гипотезу\n"
     ]
    }
   ],
   "source": [
    "# Определение вероятности равенства средних тарифов Smart и Ultra\n",
    "result = st.ttest_ind(revenue_smart, revenue_ultra, equal_var = False)\n",
    "print('p-значение:', result.pvalue)\n",
    "if (result.pvalue < 0.01):\n",
    "    print('Отвергаем гипотезу')\n",
    "else:\n",
    "    print('Не отвергаем гипотезу')"
   ]
  },
  {
   "cell_type": "markdown",
   "id": "eb5c7ac1",
   "metadata": {},
   "source": [
    "Вероятность получить такое или еще большее различие между средней выручкой тарифа Smart и средней выручкой тарифа Ultra сильно меньше 1%. Поэтому есть основания отклонить нулевую гипотезу и принять альтернативную."
   ]
  },
  {
   "cell_type": "markdown",
   "id": "64179b44",
   "metadata": {},
   "source": [
    "### Проверка гипотезы о равенстве средней выручки пользователей из Москвы и других регионов"
   ]
  },
  {
   "cell_type": "markdown",
   "id": "a2c2e307",
   "metadata": {},
   "source": [
    "В этом пункте проверим гипотезу о равенстве средней выручки пользователей из Москвы и других регионов.\n",
    "\n",
    "Нулевая гипотеза будет звучать так: Средняя выручка пользователей из Москвы равна средней выручке пользователей из других регионов.\n",
    "\n",
    "Альтернативная гипотеза: Средняя выручка пользователей из Москвы не равна средней выручке пользователей из других регионов.\n",
    "\n",
    "Для формирования необходимых списков выручки в зависимости от региона присоединим к таблице `user_info` столбец `city` из датафрейма `users`. После этого сделаем те же действия, что и в пункте 1.4.4, то есть создадим 12 датафреймов для метода `concat`. Далее объединим эти датафреймы в один и получим список в формате выручка - город. Далее сформируем списки `revenue_moscow` и `revenue_other_regions`, в которых будет перечислена выручка из Москвы и других регионов соответственно."
   ]
  },
  {
   "cell_type": "code",
   "execution_count": 111,
   "id": "f947716f",
   "metadata": {
    "scrolled": true
   },
   "outputs": [],
   "source": [
    "# Присоединение столбца city к датафрейму user_info\n",
    "user_info = user_info.merge(users[['user_id', 'city']], on = 'user_id', how = 'left')"
   ]
  },
  {
   "cell_type": "code",
   "execution_count": 112,
   "id": "92b75135",
   "metadata": {},
   "outputs": [],
   "source": [
    "# Подготовка датафреймов, состоящих их столбцов выручки за определенный месяц и соответствующего города\n",
    "revenue_list_1 = user_info[['1_revenue', 'city']]\n",
    "revenue_list_1 = revenue_list_1.rename(columns = {'1_revenue':'revenue'})\n",
    "                                       \n",
    "revenue_list_2 = user_info[['2_revenue', 'city']]\n",
    "revenue_list_2 = revenue_list_2.rename(columns = {'2_revenue':'revenue'})\n",
    "                                       \n",
    "revenue_list_3 = user_info[['3_revenue', 'city']]\n",
    "revenue_list_3 = revenue_list_3.rename(columns = {'3_revenue':'revenue'})\n",
    "\n",
    "revenue_list_4 = user_info[['4_revenue', 'city']]\n",
    "revenue_list_4 = revenue_list_4.rename(columns = {'4_revenue':'revenue'})\n",
    "\n",
    "revenue_list_5 = user_info[['5_revenue', 'city']]\n",
    "revenue_list_5 = revenue_list_5.rename(columns = {'5_revenue':'revenue'})\n",
    "\n",
    "revenue_list_6 = user_info[['6_revenue', 'city']]\n",
    "revenue_list_6 = revenue_list_6.rename(columns = {'6_revenue':'revenue'})\n",
    "\n",
    "revenue_list_7 = user_info[['7_revenue', 'city']]\n",
    "revenue_list_7 = revenue_list_7.rename(columns = {'7_revenue':'revenue'})\n",
    "\n",
    "revenue_list_8 = user_info[['8_revenue', 'city']]\n",
    "revenue_list_8 = revenue_list_8.rename(columns = {'8_revenue':'revenue'})\n",
    "\n",
    "revenue_list_9 = user_info[['9_revenue', 'city']]\n",
    "revenue_list_9 = revenue_list_9.rename(columns = {'9_revenue':'revenue'})\n",
    "\n",
    "revenue_list_10 = user_info[['10_revenue', 'city']]\n",
    "revenue_list_10 = revenue_list_10.rename(columns = {'10_revenue':'revenue'})\n",
    "\n",
    "revenue_list_11 = user_info[['11_revenue', 'city']]\n",
    "revenue_list_11 = revenue_list_11.rename(columns = {'11_revenue':'revenue'})\n",
    "\n",
    "revenue_list_12 = user_info[['12_revenue', 'city']]\n",
    "revenue_list_12 = revenue_list_12.rename(columns = {'12_revenue':'revenue'})\n",
    "\n",
    "# Так как concat принимает максимум 10 датафреймов, а нам надо 12, запишем эти датафреймы в список \n",
    "frames = [revenue_list_1,\n",
    "          revenue_list_2,\n",
    "          revenue_list_3,\n",
    "          revenue_list_4,\n",
    "          revenue_list_5,\n",
    "          revenue_list_6,\n",
    "          revenue_list_7,\n",
    "          revenue_list_8,\n",
    "          revenue_list_9,\n",
    "          revenue_list_10,\n",
    "          revenue_list_11,\n",
    "          revenue_list_12]\n",
    "\n",
    "# Выполнение конкатенации столбцов выручки в один столбец\n",
    "revenue_list = pd.concat(frames, axis=0, ignore_index=True)"
   ]
  },
  {
   "cell_type": "code",
   "execution_count": 113,
   "id": "89f9c8c9",
   "metadata": {},
   "outputs": [
    {
     "data": {
      "text/html": [
       "<div>\n",
       "<style scoped>\n",
       "    .dataframe tbody tr th:only-of-type {\n",
       "        vertical-align: middle;\n",
       "    }\n",
       "\n",
       "    .dataframe tbody tr th {\n",
       "        vertical-align: top;\n",
       "    }\n",
       "\n",
       "    .dataframe thead th {\n",
       "        text-align: right;\n",
       "    }\n",
       "</style>\n",
       "<table border=\"1\" class=\"dataframe\">\n",
       "  <thead>\n",
       "    <tr style=\"text-align: right;\">\n",
       "      <th></th>\n",
       "      <th>revenue</th>\n",
       "      <th>city</th>\n",
       "    </tr>\n",
       "  </thead>\n",
       "  <tbody>\n",
       "    <tr>\n",
       "      <th>0</th>\n",
       "      <td>NaN</td>\n",
       "      <td>Краснодар</td>\n",
       "    </tr>\n",
       "    <tr>\n",
       "      <th>1</th>\n",
       "      <td>NaN</td>\n",
       "      <td>Москва</td>\n",
       "    </tr>\n",
       "    <tr>\n",
       "      <th>2</th>\n",
       "      <td>NaN</td>\n",
       "      <td>Стерлитамак</td>\n",
       "    </tr>\n",
       "    <tr>\n",
       "      <th>3</th>\n",
       "      <td>NaN</td>\n",
       "      <td>Москва</td>\n",
       "    </tr>\n",
       "    <tr>\n",
       "      <th>4</th>\n",
       "      <td>NaN</td>\n",
       "      <td>Новокузнецк</td>\n",
       "    </tr>\n",
       "    <tr>\n",
       "      <th>...</th>\n",
       "      <td>...</td>\n",
       "      <td>...</td>\n",
       "    </tr>\n",
       "    <tr>\n",
       "      <th>5971</th>\n",
       "      <td>1950.0</td>\n",
       "      <td>Калуга</td>\n",
       "    </tr>\n",
       "    <tr>\n",
       "      <th>5972</th>\n",
       "      <td>2250.0</td>\n",
       "      <td>Чебоксары</td>\n",
       "    </tr>\n",
       "    <tr>\n",
       "      <th>5973</th>\n",
       "      <td>3300.0</td>\n",
       "      <td>Мурманск</td>\n",
       "    </tr>\n",
       "    <tr>\n",
       "      <th>5974</th>\n",
       "      <td>1950.0</td>\n",
       "      <td>Красноярск</td>\n",
       "    </tr>\n",
       "    <tr>\n",
       "      <th>5975</th>\n",
       "      <td>950.0</td>\n",
       "      <td>Санкт-Петербург</td>\n",
       "    </tr>\n",
       "  </tbody>\n",
       "</table>\n",
       "<p>5976 rows × 2 columns</p>\n",
       "</div>"
      ],
      "text/plain": [
       "      revenue             city\n",
       "0         NaN        Краснодар\n",
       "1         NaN           Москва\n",
       "2         NaN      Стерлитамак\n",
       "3         NaN           Москва\n",
       "4         NaN      Новокузнецк\n",
       "...       ...              ...\n",
       "5971   1950.0           Калуга\n",
       "5972   2250.0        Чебоксары\n",
       "5973   3300.0         Мурманск\n",
       "5974   1950.0       Красноярск\n",
       "5975    950.0  Санкт-Петербург\n",
       "\n",
       "[5976 rows x 2 columns]"
      ]
     },
     "execution_count": 113,
     "metadata": {},
     "output_type": "execute_result"
    }
   ],
   "source": [
    "revenue_list"
   ]
  },
  {
   "cell_type": "code",
   "execution_count": 114,
   "id": "834f4127",
   "metadata": {},
   "outputs": [],
   "source": [
    "# Запись выручки пользователей из Москвы в отдельный список\n",
    "revenue_moscow = list(revenue_list[(revenue_list['city'] == 'Москва') &\n",
    "                                  ~(revenue_list['revenue'].isna())]['revenue'])"
   ]
  },
  {
   "cell_type": "code",
   "execution_count": 115,
   "id": "2ed6a052",
   "metadata": {},
   "outputs": [],
   "source": [
    "# Запись выручки пользователей из других регионов в отдельный список\n",
    "revenue_other_regions = list(revenue_list[(revenue_list['city'] != 'Москва') &\n",
    "                                  ~(revenue_list['revenue'].isna())]['revenue'])"
   ]
  },
  {
   "cell_type": "markdown",
   "id": "d80562ed",
   "metadata": {},
   "source": [
    "Списки готовы! Теперь можем перейти к методу `ttest_ind`, который помимо списков принимает параметр `equal_var`. Для корректности заполнения этого параметра посчитаем дисперсию двух выборок и посмотрим, соответствуют ли они друг другу."
   ]
  },
  {
   "cell_type": "code",
   "execution_count": 116,
   "id": "50e3581f",
   "metadata": {
    "scrolled": true
   },
   "outputs": [
    {
     "data": {
      "text/plain": [
       "564710.7117467273"
      ]
     },
     "execution_count": 116,
     "metadata": {},
     "output_type": "execute_result"
    }
   ],
   "source": [
    "# Подсчет дисперсии выборки revenue_moscow\n",
    "np.var(revenue_moscow)"
   ]
  },
  {
   "cell_type": "code",
   "execution_count": 117,
   "id": "02d4171a",
   "metadata": {},
   "outputs": [
    {
     "data": {
      "text/plain": [
       "653886.3270894174"
      ]
     },
     "execution_count": 117,
     "metadata": {},
     "output_type": "execute_result"
    }
   ],
   "source": [
    "# Подсчет дисперсии выборки revenue_other_regions\n",
    "np.var(revenue_other_regions)"
   ]
  },
  {
   "cell_type": "code",
   "execution_count": 118,
   "id": "839730b2",
   "metadata": {},
   "outputs": [
    {
     "data": {
      "text/plain": [
       "1546.7135842880523"
      ]
     },
     "execution_count": 118,
     "metadata": {},
     "output_type": "execute_result"
    }
   ],
   "source": [
    "# Среднее значение в списке revenue_moscow\n",
    "sum(revenue_moscow) / len(revenue_moscow)"
   ]
  },
  {
   "cell_type": "code",
   "execution_count": 119,
   "id": "019a80dc",
   "metadata": {},
   "outputs": [
    {
     "data": {
      "text/plain": [
       "1524.9362274298885"
      ]
     },
     "execution_count": 119,
     "metadata": {},
     "output_type": "execute_result"
    }
   ],
   "source": [
    "# Среднее значение в списке revenue_other_regions\n",
    "sum(revenue_other_regions) / len(revenue_other_regions)"
   ]
  },
  {
   "cell_type": "code",
   "execution_count": 120,
   "id": "318df511",
   "metadata": {},
   "outputs": [
    {
     "data": {
      "text/plain": [
       "21.777356858163785"
      ]
     },
     "execution_count": 120,
     "metadata": {},
     "output_type": "execute_result"
    }
   ],
   "source": [
    "# Разница между средними значениями\n",
    "sum(revenue_moscow) / len(revenue_moscow) - sum(revenue_other_regions) / len(revenue_other_regions)"
   ]
  },
  {
   "cell_type": "markdown",
   "id": "017934e0",
   "metadata": {},
   "source": [
    "В этом случае возьмем критерий значимости равный 5%. "
   ]
  },
  {
   "cell_type": "code",
   "execution_count": 121,
   "id": "333b746d",
   "metadata": {},
   "outputs": [
    {
     "name": "stdout",
     "output_type": "stream",
     "text": [
      "p-значение: 0.5257376663729298\n",
      "Не отвергаем гипотезу\n"
     ]
    }
   ],
   "source": [
    "# Определение вероятности равенства средних выручек из Москвы и других регионов\n",
    "result = st.ttest_ind(revenue_moscow, revenue_other_regions, equal_var = False)\n",
    "print('p-значение:', result.pvalue)\n",
    "if (result.pvalue < 0.05):\n",
    "    print('Отвергаем гипотезу')\n",
    "else:\n",
    "    print('Не отвергаем гипотезу')"
   ]
  },
  {
   "cell_type": "markdown",
   "id": "328643a3",
   "metadata": {},
   "source": [
    "Вероятность получить такое или еще большее различие между средней выручкой от пользователей из Москвы и выручкой от пользователей из других регионов намного выше, чем уровень статистической значимости (5%). Нет оснований отвергать нулевую гипотезу."
   ]
  },
  {
   "cell_type": "markdown",
   "id": "874d64a7",
   "metadata": {},
   "source": [
    "## Вывод"
   ]
  },
  {
   "cell_type": "markdown",
   "id": "5e003114",
   "metadata": {},
   "source": [
    "В рамках этого исследования были сделаны следующие выводы:\n",
    "\n",
    "1. Тарифом Smart пользуется бОльшее количество пользователей за счет более дешевой абонентской платы. Также этот тариф приносит высокую дополнительную выручку за счет регулярных выходов за отведенные лимиты.\n",
    "\n",
    "2. Лимиты у тарифа Ultra устроены так, что за них выходит небольшой процент пользователей. За счет его высокой стоимости им пользуются меньше пользователей, чем тарифом Smart, но при этом он приносит больше средней выручки.\n",
    "\n",
    "3. Вероятность получить 780 или еще большее различие между средней выручкой тарифа Smart (1290) и средней выручкой тарифа Ultra (2070) сильно меньше 1%. Поэтому есть основания отклонить нулевую гипотезу и принять альтернативную о том, что средняя выручка тарифа Smart и средняя выручка тарифа Ultra не равны.\n",
    "\n",
    "4. Вероятность получить 21 или еще большее различие между средней выручкой от пользователей из Москвы (1546.71) и выручкой от пользователей из других регионов (1524.93) намного выше, чем уровень статистической значимости (5%). Поэтому нет оснований отвергать нулевую гипотезу о том, средняя выручка пользователей из Москвы равна средней выручке пользователей из других регионов."
   ]
  }
 ],
 "metadata": {
  "ExecuteTimeLog": [
   {
    "duration": 1145,
    "start_time": "2022-07-30T17:21:53.659Z"
   },
   {
    "duration": 161,
    "start_time": "2022-07-30T17:21:54.806Z"
   },
   {
    "duration": 0,
    "start_time": "2022-07-30T17:21:54.972Z"
   },
   {
    "duration": 0,
    "start_time": "2022-07-30T17:21:54.972Z"
   },
   {
    "duration": 0,
    "start_time": "2022-07-30T17:21:54.973Z"
   },
   {
    "duration": 0,
    "start_time": "2022-07-30T17:21:54.974Z"
   },
   {
    "duration": 0,
    "start_time": "2022-07-30T17:21:54.975Z"
   },
   {
    "duration": 0,
    "start_time": "2022-07-30T17:21:54.976Z"
   },
   {
    "duration": 0,
    "start_time": "2022-07-30T17:21:54.977Z"
   },
   {
    "duration": 0,
    "start_time": "2022-07-30T17:21:54.978Z"
   },
   {
    "duration": 0,
    "start_time": "2022-07-30T17:21:54.979Z"
   },
   {
    "duration": 0,
    "start_time": "2022-07-30T17:21:54.980Z"
   },
   {
    "duration": 0,
    "start_time": "2022-07-30T17:21:54.981Z"
   },
   {
    "duration": 0,
    "start_time": "2022-07-30T17:21:54.981Z"
   },
   {
    "duration": 0,
    "start_time": "2022-07-30T17:21:54.982Z"
   },
   {
    "duration": 0,
    "start_time": "2022-07-30T17:21:54.983Z"
   },
   {
    "duration": 0,
    "start_time": "2022-07-30T17:21:54.984Z"
   },
   {
    "duration": 0,
    "start_time": "2022-07-30T17:21:55.000Z"
   },
   {
    "duration": 0,
    "start_time": "2022-07-30T17:21:55.001Z"
   },
   {
    "duration": 0,
    "start_time": "2022-07-30T17:21:55.001Z"
   },
   {
    "duration": 0,
    "start_time": "2022-07-30T17:21:55.002Z"
   },
   {
    "duration": 0,
    "start_time": "2022-07-30T17:21:55.002Z"
   },
   {
    "duration": 0,
    "start_time": "2022-07-30T17:21:55.003Z"
   },
   {
    "duration": 0,
    "start_time": "2022-07-30T17:21:55.003Z"
   },
   {
    "duration": 0,
    "start_time": "2022-07-30T17:21:55.004Z"
   },
   {
    "duration": 0,
    "start_time": "2022-07-30T17:21:55.004Z"
   },
   {
    "duration": 0,
    "start_time": "2022-07-30T17:21:55.005Z"
   },
   {
    "duration": 0,
    "start_time": "2022-07-30T17:21:55.005Z"
   },
   {
    "duration": 0,
    "start_time": "2022-07-30T17:21:55.006Z"
   },
   {
    "duration": 0,
    "start_time": "2022-07-30T17:21:55.006Z"
   },
   {
    "duration": 1,
    "start_time": "2022-07-30T17:21:55.006Z"
   },
   {
    "duration": 0,
    "start_time": "2022-07-30T17:21:55.007Z"
   },
   {
    "duration": 0,
    "start_time": "2022-07-30T17:21:55.008Z"
   },
   {
    "duration": 0,
    "start_time": "2022-07-30T17:21:55.008Z"
   },
   {
    "duration": 0,
    "start_time": "2022-07-30T17:21:55.010Z"
   },
   {
    "duration": 0,
    "start_time": "2022-07-30T17:21:55.011Z"
   },
   {
    "duration": 0,
    "start_time": "2022-07-30T17:21:55.018Z"
   },
   {
    "duration": 0,
    "start_time": "2022-07-30T17:21:55.019Z"
   },
   {
    "duration": 0,
    "start_time": "2022-07-30T17:21:55.020Z"
   },
   {
    "duration": 0,
    "start_time": "2022-07-30T17:21:55.022Z"
   },
   {
    "duration": 0,
    "start_time": "2022-07-30T17:21:55.022Z"
   },
   {
    "duration": 0,
    "start_time": "2022-07-30T17:21:55.024Z"
   },
   {
    "duration": 0,
    "start_time": "2022-07-30T17:21:55.025Z"
   },
   {
    "duration": 0,
    "start_time": "2022-07-30T17:21:55.027Z"
   },
   {
    "duration": 0,
    "start_time": "2022-07-30T17:21:55.028Z"
   },
   {
    "duration": 0,
    "start_time": "2022-07-30T17:21:55.030Z"
   },
   {
    "duration": 0,
    "start_time": "2022-07-30T17:21:55.031Z"
   },
   {
    "duration": 0,
    "start_time": "2022-07-30T17:21:55.032Z"
   },
   {
    "duration": 0,
    "start_time": "2022-07-30T17:21:55.033Z"
   },
   {
    "duration": 0,
    "start_time": "2022-07-30T17:21:55.035Z"
   },
   {
    "duration": 0,
    "start_time": "2022-07-30T17:21:55.036Z"
   },
   {
    "duration": 0,
    "start_time": "2022-07-30T17:21:55.037Z"
   },
   {
    "duration": 0,
    "start_time": "2022-07-30T17:21:55.039Z"
   },
   {
    "duration": 0,
    "start_time": "2022-07-30T17:21:55.104Z"
   },
   {
    "duration": 0,
    "start_time": "2022-07-30T17:21:55.109Z"
   },
   {
    "duration": 0,
    "start_time": "2022-07-30T17:21:55.110Z"
   },
   {
    "duration": 0,
    "start_time": "2022-07-30T17:21:55.111Z"
   },
   {
    "duration": 0,
    "start_time": "2022-07-30T17:21:55.112Z"
   },
   {
    "duration": 0,
    "start_time": "2022-07-30T17:21:55.113Z"
   },
   {
    "duration": 0,
    "start_time": "2022-07-30T17:21:55.114Z"
   },
   {
    "duration": 0,
    "start_time": "2022-07-30T17:21:55.116Z"
   },
   {
    "duration": 0,
    "start_time": "2022-07-30T17:21:55.118Z"
   },
   {
    "duration": 0,
    "start_time": "2022-07-30T17:21:55.119Z"
   },
   {
    "duration": 0,
    "start_time": "2022-07-30T17:21:55.120Z"
   },
   {
    "duration": 0,
    "start_time": "2022-07-30T17:21:55.121Z"
   },
   {
    "duration": 0,
    "start_time": "2022-07-30T17:21:55.122Z"
   },
   {
    "duration": 0,
    "start_time": "2022-07-30T17:21:55.124Z"
   },
   {
    "duration": 0,
    "start_time": "2022-07-30T17:21:55.125Z"
   },
   {
    "duration": 0,
    "start_time": "2022-07-30T17:21:55.126Z"
   },
   {
    "duration": 0,
    "start_time": "2022-07-30T17:21:55.127Z"
   },
   {
    "duration": 0,
    "start_time": "2022-07-30T17:21:55.128Z"
   },
   {
    "duration": 0,
    "start_time": "2022-07-30T17:21:55.129Z"
   },
   {
    "duration": 0,
    "start_time": "2022-07-30T17:21:55.130Z"
   },
   {
    "duration": 0,
    "start_time": "2022-07-30T17:21:55.131Z"
   },
   {
    "duration": 0,
    "start_time": "2022-07-30T17:21:55.132Z"
   },
   {
    "duration": 0,
    "start_time": "2022-07-30T17:21:55.133Z"
   },
   {
    "duration": 0,
    "start_time": "2022-07-30T17:21:55.134Z"
   },
   {
    "duration": 0,
    "start_time": "2022-07-30T17:21:55.135Z"
   },
   {
    "duration": 0,
    "start_time": "2022-07-30T17:21:55.136Z"
   },
   {
    "duration": 0,
    "start_time": "2022-07-30T17:21:55.137Z"
   },
   {
    "duration": 0,
    "start_time": "2022-07-30T17:21:55.138Z"
   },
   {
    "duration": 0,
    "start_time": "2022-07-30T17:21:55.138Z"
   },
   {
    "duration": 0,
    "start_time": "2022-07-30T17:21:55.139Z"
   },
   {
    "duration": 0,
    "start_time": "2022-07-30T17:21:55.141Z"
   },
   {
    "duration": 0,
    "start_time": "2022-07-30T17:21:55.142Z"
   },
   {
    "duration": 0,
    "start_time": "2022-07-30T17:21:55.143Z"
   },
   {
    "duration": 0,
    "start_time": "2022-07-30T17:21:55.200Z"
   },
   {
    "duration": 0,
    "start_time": "2022-07-30T17:21:55.201Z"
   },
   {
    "duration": 0,
    "start_time": "2022-07-30T17:21:55.202Z"
   },
   {
    "duration": 0,
    "start_time": "2022-07-30T17:21:55.202Z"
   },
   {
    "duration": 0,
    "start_time": "2022-07-30T17:21:55.203Z"
   },
   {
    "duration": 0,
    "start_time": "2022-07-30T17:21:55.204Z"
   },
   {
    "duration": 0,
    "start_time": "2022-07-30T17:21:55.216Z"
   },
   {
    "duration": 0,
    "start_time": "2022-07-30T17:21:55.219Z"
   },
   {
    "duration": 0,
    "start_time": "2022-07-30T17:21:55.220Z"
   },
   {
    "duration": 0,
    "start_time": "2022-07-30T17:21:55.221Z"
   },
   {
    "duration": 0,
    "start_time": "2022-07-30T17:21:55.223Z"
   },
   {
    "duration": 0,
    "start_time": "2022-07-30T17:21:55.224Z"
   },
   {
    "duration": 0,
    "start_time": "2022-07-30T17:21:55.225Z"
   },
   {
    "duration": 0,
    "start_time": "2022-07-30T17:21:55.226Z"
   },
   {
    "duration": 0,
    "start_time": "2022-07-30T17:21:55.227Z"
   },
   {
    "duration": 0,
    "start_time": "2022-07-30T17:21:55.229Z"
   },
   {
    "duration": 0,
    "start_time": "2022-07-30T17:21:55.231Z"
   },
   {
    "duration": 0,
    "start_time": "2022-07-30T17:21:55.232Z"
   },
   {
    "duration": 0,
    "start_time": "2022-07-30T17:21:55.233Z"
   },
   {
    "duration": 0,
    "start_time": "2022-07-30T17:21:55.235Z"
   },
   {
    "duration": 0,
    "start_time": "2022-07-30T17:21:55.236Z"
   },
   {
    "duration": 0,
    "start_time": "2022-07-30T17:21:55.237Z"
   },
   {
    "duration": 0,
    "start_time": "2022-07-30T17:21:55.238Z"
   },
   {
    "duration": 0,
    "start_time": "2022-07-30T17:21:55.240Z"
   },
   {
    "duration": 0,
    "start_time": "2022-07-30T17:21:55.241Z"
   },
   {
    "duration": 0,
    "start_time": "2022-07-30T17:21:55.242Z"
   },
   {
    "duration": 0,
    "start_time": "2022-07-30T17:21:55.244Z"
   },
   {
    "duration": 0,
    "start_time": "2022-07-30T17:21:55.300Z"
   },
   {
    "duration": 0,
    "start_time": "2022-07-30T17:21:55.301Z"
   },
   {
    "duration": 47,
    "start_time": "2022-07-30T17:28:39.483Z"
   },
   {
    "duration": 1229,
    "start_time": "2022-07-30T17:28:43.749Z"
   },
   {
    "duration": 83,
    "start_time": "2022-07-30T17:28:47.312Z"
   },
   {
    "duration": 886,
    "start_time": "2022-07-30T17:30:35.731Z"
   },
   {
    "duration": 465,
    "start_time": "2022-07-30T17:33:00.162Z"
   },
   {
    "duration": 13,
    "start_time": "2022-07-30T17:33:04.820Z"
   },
   {
    "duration": 414,
    "start_time": "2022-07-30T17:56:52.483Z"
   },
   {
    "duration": 1216,
    "start_time": "2022-08-01T08:36:01.565Z"
   },
   {
    "duration": 1125,
    "start_time": "2022-08-01T08:36:02.783Z"
   },
   {
    "duration": 11,
    "start_time": "2022-08-01T08:36:03.909Z"
   },
   {
    "duration": 81,
    "start_time": "2022-08-01T08:36:03.923Z"
   },
   {
    "duration": 22,
    "start_time": "2022-08-01T08:36:04.005Z"
   },
   {
    "duration": 41,
    "start_time": "2022-08-01T08:36:04.028Z"
   },
   {
    "duration": 94,
    "start_time": "2022-08-01T08:36:04.071Z"
   },
   {
    "duration": 8,
    "start_time": "2022-08-01T08:36:04.167Z"
   },
   {
    "duration": 21,
    "start_time": "2022-08-01T08:36:04.177Z"
   },
   {
    "duration": 21,
    "start_time": "2022-08-01T08:36:04.200Z"
   },
   {
    "duration": 36,
    "start_time": "2022-08-01T08:36:04.223Z"
   },
   {
    "duration": 36,
    "start_time": "2022-08-01T08:36:04.261Z"
   },
   {
    "duration": 50,
    "start_time": "2022-08-01T08:36:04.299Z"
   },
   {
    "duration": 7,
    "start_time": "2022-08-01T08:36:04.351Z"
   },
   {
    "duration": 45,
    "start_time": "2022-08-01T08:36:04.360Z"
   },
   {
    "duration": 26,
    "start_time": "2022-08-01T08:36:04.407Z"
   },
   {
    "duration": 66,
    "start_time": "2022-08-01T08:36:04.435Z"
   },
   {
    "duration": 8,
    "start_time": "2022-08-01T08:36:04.503Z"
   },
   {
    "duration": 32,
    "start_time": "2022-08-01T08:36:04.513Z"
   },
   {
    "duration": 31,
    "start_time": "2022-08-01T08:36:04.547Z"
   },
   {
    "duration": 32,
    "start_time": "2022-08-01T08:36:04.580Z"
   },
   {
    "duration": 24,
    "start_time": "2022-08-01T08:36:04.613Z"
   },
   {
    "duration": 39,
    "start_time": "2022-08-01T08:36:04.638Z"
   },
   {
    "duration": 48,
    "start_time": "2022-08-01T08:36:04.678Z"
   },
   {
    "duration": 15,
    "start_time": "2022-08-01T08:36:04.727Z"
   },
   {
    "duration": 57,
    "start_time": "2022-08-01T08:36:04.744Z"
   },
   {
    "duration": 20,
    "start_time": "2022-08-01T08:36:04.802Z"
   },
   {
    "duration": 15,
    "start_time": "2022-08-01T08:36:04.826Z"
   },
   {
    "duration": 29,
    "start_time": "2022-08-01T08:36:04.842Z"
   },
   {
    "duration": 16,
    "start_time": "2022-08-01T08:36:04.873Z"
   },
   {
    "duration": 44,
    "start_time": "2022-08-01T08:36:04.890Z"
   },
   {
    "duration": 35,
    "start_time": "2022-08-01T08:36:04.936Z"
   },
   {
    "duration": 45,
    "start_time": "2022-08-01T08:36:04.973Z"
   },
   {
    "duration": 24,
    "start_time": "2022-08-01T08:36:05.020Z"
   },
   {
    "duration": 37,
    "start_time": "2022-08-01T08:36:05.045Z"
   },
   {
    "duration": 59,
    "start_time": "2022-08-01T08:36:05.084Z"
   },
   {
    "duration": 23,
    "start_time": "2022-08-01T08:36:05.145Z"
   },
   {
    "duration": 36,
    "start_time": "2022-08-01T08:36:05.170Z"
   },
   {
    "duration": 18,
    "start_time": "2022-08-01T08:36:05.207Z"
   },
   {
    "duration": 31,
    "start_time": "2022-08-01T08:36:05.226Z"
   },
   {
    "duration": 41,
    "start_time": "2022-08-01T08:36:05.258Z"
   },
   {
    "duration": 27,
    "start_time": "2022-08-01T08:36:05.301Z"
   },
   {
    "duration": 39,
    "start_time": "2022-08-01T08:36:05.330Z"
   },
   {
    "duration": 48,
    "start_time": "2022-08-01T08:36:05.371Z"
   },
   {
    "duration": 35,
    "start_time": "2022-08-01T08:36:05.420Z"
   },
   {
    "duration": 41,
    "start_time": "2022-08-01T08:36:05.457Z"
   },
   {
    "duration": 13,
    "start_time": "2022-08-01T08:36:05.500Z"
   },
   {
    "duration": 115,
    "start_time": "2022-08-01T08:36:05.515Z"
   },
   {
    "duration": 20,
    "start_time": "2022-08-01T08:36:05.632Z"
   },
   {
    "duration": 19,
    "start_time": "2022-08-01T08:36:05.653Z"
   },
   {
    "duration": 30,
    "start_time": "2022-08-01T08:36:05.673Z"
   },
   {
    "duration": 269,
    "start_time": "2022-08-01T08:36:05.705Z"
   },
   {
    "duration": 7,
    "start_time": "2022-08-01T08:36:05.976Z"
   },
   {
    "duration": 22,
    "start_time": "2022-08-01T08:36:05.984Z"
   },
   {
    "duration": 32,
    "start_time": "2022-08-01T08:36:06.008Z"
   },
   {
    "duration": 11,
    "start_time": "2022-08-01T08:36:06.042Z"
   },
   {
    "duration": 37,
    "start_time": "2022-08-01T08:36:06.054Z"
   },
   {
    "duration": 13,
    "start_time": "2022-08-01T08:36:06.092Z"
   },
   {
    "duration": 42,
    "start_time": "2022-08-01T08:36:06.106Z"
   },
   {
    "duration": 43,
    "start_time": "2022-08-01T08:36:06.149Z"
   },
   {
    "duration": 4,
    "start_time": "2022-08-01T08:36:06.194Z"
   },
   {
    "duration": 11,
    "start_time": "2022-08-01T08:36:06.200Z"
   },
   {
    "duration": 412,
    "start_time": "2022-08-01T08:36:06.213Z"
   },
   {
    "duration": 8,
    "start_time": "2022-08-01T08:36:06.627Z"
   },
   {
    "duration": 31,
    "start_time": "2022-08-01T08:36:06.636Z"
   },
   {
    "duration": 256,
    "start_time": "2022-08-01T08:36:06.669Z"
   },
   {
    "duration": 6,
    "start_time": "2022-08-01T08:36:06.927Z"
   },
   {
    "duration": 29,
    "start_time": "2022-08-01T08:36:06.935Z"
   },
   {
    "duration": 23,
    "start_time": "2022-08-01T08:36:06.965Z"
   },
   {
    "duration": 9,
    "start_time": "2022-08-01T08:36:06.990Z"
   },
   {
    "duration": 21,
    "start_time": "2022-08-01T08:36:07.001Z"
   },
   {
    "duration": 25,
    "start_time": "2022-08-01T08:36:07.023Z"
   },
   {
    "duration": 23,
    "start_time": "2022-08-01T08:36:07.049Z"
   },
   {
    "duration": 24,
    "start_time": "2022-08-01T08:36:07.074Z"
   },
   {
    "duration": 7,
    "start_time": "2022-08-01T08:36:07.099Z"
   },
   {
    "duration": 12,
    "start_time": "2022-08-01T08:36:07.107Z"
   },
   {
    "duration": 18,
    "start_time": "2022-08-01T08:36:07.120Z"
   },
   {
    "duration": 279,
    "start_time": "2022-08-01T08:36:07.139Z"
   },
   {
    "duration": 7,
    "start_time": "2022-08-01T08:36:07.419Z"
   },
   {
    "duration": 9,
    "start_time": "2022-08-01T08:36:07.428Z"
   },
   {
    "duration": 277,
    "start_time": "2022-08-01T08:36:07.439Z"
   },
   {
    "duration": 7,
    "start_time": "2022-08-01T08:36:07.721Z"
   },
   {
    "duration": 12,
    "start_time": "2022-08-01T08:36:07.730Z"
   },
   {
    "duration": 6,
    "start_time": "2022-08-01T08:36:07.752Z"
   },
   {
    "duration": 7,
    "start_time": "2022-08-01T08:36:07.760Z"
   },
   {
    "duration": 9,
    "start_time": "2022-08-01T08:36:07.768Z"
   },
   {
    "duration": 9,
    "start_time": "2022-08-01T08:36:07.778Z"
   },
   {
    "duration": 20,
    "start_time": "2022-08-01T08:36:07.789Z"
   },
   {
    "duration": 42,
    "start_time": "2022-08-01T08:36:07.811Z"
   },
   {
    "duration": 5,
    "start_time": "2022-08-01T08:36:07.855Z"
   },
   {
    "duration": 8,
    "start_time": "2022-08-01T08:36:07.862Z"
   },
   {
    "duration": 8,
    "start_time": "2022-08-01T08:36:07.872Z"
   },
   {
    "duration": 400,
    "start_time": "2022-08-01T08:36:07.881Z"
   },
   {
    "duration": 8,
    "start_time": "2022-08-01T08:36:08.282Z"
   },
   {
    "duration": 10,
    "start_time": "2022-08-01T08:36:08.292Z"
   },
   {
    "duration": 272,
    "start_time": "2022-08-01T08:36:08.304Z"
   },
   {
    "duration": 13,
    "start_time": "2022-08-01T08:36:08.577Z"
   },
   {
    "duration": 8,
    "start_time": "2022-08-01T08:36:08.592Z"
   },
   {
    "duration": 8,
    "start_time": "2022-08-01T08:36:08.602Z"
   },
   {
    "duration": 6,
    "start_time": "2022-08-01T08:36:08.612Z"
   },
   {
    "duration": 7,
    "start_time": "2022-08-01T08:36:08.619Z"
   },
   {
    "duration": 6,
    "start_time": "2022-08-01T08:36:08.652Z"
   },
   {
    "duration": 19,
    "start_time": "2022-08-01T08:36:08.660Z"
   },
   {
    "duration": 312,
    "start_time": "2022-08-01T08:36:08.681Z"
   },
   {
    "duration": 5,
    "start_time": "2022-08-01T08:36:08.995Z"
   },
   {
    "duration": 6,
    "start_time": "2022-08-01T08:36:09.001Z"
   },
   {
    "duration": 6,
    "start_time": "2022-08-01T08:36:09.008Z"
   },
   {
    "duration": 8,
    "start_time": "2022-08-01T08:36:09.015Z"
   },
   {
    "duration": 38,
    "start_time": "2022-08-01T08:36:09.025Z"
   },
   {
    "duration": 9,
    "start_time": "2022-08-01T08:36:09.064Z"
   },
   {
    "duration": 5,
    "start_time": "2022-08-01T08:36:09.075Z"
   },
   {
    "duration": 6,
    "start_time": "2022-08-01T08:36:09.081Z"
   },
   {
    "duration": 5,
    "start_time": "2022-08-01T08:36:09.088Z"
   },
   {
    "duration": 6,
    "start_time": "2022-08-01T08:36:09.094Z"
   },
   {
    "duration": 5,
    "start_time": "2022-08-01T08:36:09.101Z"
   },
   {
    "duration": 1078,
    "start_time": "2022-08-01T08:37:08.190Z"
   },
   {
    "duration": 415,
    "start_time": "2022-08-01T08:37:09.269Z"
   },
   {
    "duration": 11,
    "start_time": "2022-08-01T08:37:09.685Z"
   },
   {
    "duration": 71,
    "start_time": "2022-08-01T08:37:09.697Z"
   },
   {
    "duration": 21,
    "start_time": "2022-08-01T08:37:09.770Z"
   },
   {
    "duration": 33,
    "start_time": "2022-08-01T08:37:09.792Z"
   },
   {
    "duration": 98,
    "start_time": "2022-08-01T08:37:09.826Z"
   },
   {
    "duration": 8,
    "start_time": "2022-08-01T08:37:09.925Z"
   },
   {
    "duration": 18,
    "start_time": "2022-08-01T08:37:09.934Z"
   },
   {
    "duration": 20,
    "start_time": "2022-08-01T08:37:09.955Z"
   },
   {
    "duration": 26,
    "start_time": "2022-08-01T08:37:09.977Z"
   },
   {
    "duration": 21,
    "start_time": "2022-08-01T08:37:10.004Z"
   },
   {
    "duration": 41,
    "start_time": "2022-08-01T08:37:10.027Z"
   },
   {
    "duration": 6,
    "start_time": "2022-08-01T08:37:10.070Z"
   },
   {
    "duration": 19,
    "start_time": "2022-08-01T08:37:10.077Z"
   },
   {
    "duration": 16,
    "start_time": "2022-08-01T08:37:10.098Z"
   },
   {
    "duration": 54,
    "start_time": "2022-08-01T08:37:10.116Z"
   },
   {
    "duration": 8,
    "start_time": "2022-08-01T08:37:10.171Z"
   },
   {
    "duration": 12,
    "start_time": "2022-08-01T08:37:10.181Z"
   },
   {
    "duration": 12,
    "start_time": "2022-08-01T08:37:10.194Z"
   },
   {
    "duration": 10,
    "start_time": "2022-08-01T08:37:10.207Z"
   },
   {
    "duration": 4,
    "start_time": "2022-08-01T08:37:10.218Z"
   },
   {
    "duration": 33,
    "start_time": "2022-08-01T08:37:10.223Z"
   },
   {
    "duration": 20,
    "start_time": "2022-08-01T08:37:10.258Z"
   },
   {
    "duration": 7,
    "start_time": "2022-08-01T08:37:10.280Z"
   },
   {
    "duration": 34,
    "start_time": "2022-08-01T08:37:10.289Z"
   },
   {
    "duration": 38,
    "start_time": "2022-08-01T08:37:10.325Z"
   },
   {
    "duration": 4,
    "start_time": "2022-08-01T08:37:10.366Z"
   },
   {
    "duration": 18,
    "start_time": "2022-08-01T08:37:10.371Z"
   },
   {
    "duration": 8,
    "start_time": "2022-08-01T08:37:10.390Z"
   },
   {
    "duration": 20,
    "start_time": "2022-08-01T08:37:10.399Z"
   },
   {
    "duration": 13,
    "start_time": "2022-08-01T08:37:10.421Z"
   },
   {
    "duration": 27,
    "start_time": "2022-08-01T08:37:10.452Z"
   },
   {
    "duration": 18,
    "start_time": "2022-08-01T08:37:10.481Z"
   },
   {
    "duration": 5,
    "start_time": "2022-08-01T08:37:10.500Z"
   },
   {
    "duration": 22,
    "start_time": "2022-08-01T08:37:10.506Z"
   },
   {
    "duration": 34,
    "start_time": "2022-08-01T08:37:10.530Z"
   },
   {
    "duration": 23,
    "start_time": "2022-08-01T08:37:10.565Z"
   },
   {
    "duration": 17,
    "start_time": "2022-08-01T08:37:10.590Z"
   },
   {
    "duration": 7,
    "start_time": "2022-08-01T08:37:10.608Z"
   },
   {
    "duration": 20,
    "start_time": "2022-08-01T08:37:10.616Z"
   },
   {
    "duration": 7,
    "start_time": "2022-08-01T08:37:10.652Z"
   },
   {
    "duration": 9,
    "start_time": "2022-08-01T08:37:10.661Z"
   },
   {
    "duration": 12,
    "start_time": "2022-08-01T08:37:10.671Z"
   },
   {
    "duration": 6,
    "start_time": "2022-08-01T08:37:10.684Z"
   },
   {
    "duration": 14,
    "start_time": "2022-08-01T08:37:10.691Z"
   },
   {
    "duration": 6,
    "start_time": "2022-08-01T08:37:10.706Z"
   },
   {
    "duration": 111,
    "start_time": "2022-08-01T08:37:10.713Z"
   },
   {
    "duration": 20,
    "start_time": "2022-08-01T08:37:10.826Z"
   },
   {
    "duration": 6,
    "start_time": "2022-08-01T08:37:10.854Z"
   },
   {
    "duration": 7,
    "start_time": "2022-08-01T08:37:10.862Z"
   },
   {
    "duration": 277,
    "start_time": "2022-08-01T08:37:10.870Z"
   },
   {
    "duration": 7,
    "start_time": "2022-08-01T08:37:11.152Z"
   },
   {
    "duration": 8,
    "start_time": "2022-08-01T08:37:11.160Z"
   },
   {
    "duration": 10,
    "start_time": "2022-08-01T08:37:11.170Z"
   },
   {
    "duration": 6,
    "start_time": "2022-08-01T08:37:11.182Z"
   },
   {
    "duration": 9,
    "start_time": "2022-08-01T08:37:11.190Z"
   },
   {
    "duration": 7,
    "start_time": "2022-08-01T08:37:11.200Z"
   },
   {
    "duration": 49,
    "start_time": "2022-08-01T08:37:11.209Z"
   },
   {
    "duration": 43,
    "start_time": "2022-08-01T08:37:11.260Z"
   },
   {
    "duration": 4,
    "start_time": "2022-08-01T08:37:11.304Z"
   },
   {
    "duration": 10,
    "start_time": "2022-08-01T08:37:11.309Z"
   },
   {
    "duration": 408,
    "start_time": "2022-08-01T08:37:11.320Z"
   },
   {
    "duration": 7,
    "start_time": "2022-08-01T08:37:11.730Z"
   },
   {
    "duration": 16,
    "start_time": "2022-08-01T08:37:11.738Z"
   },
   {
    "duration": 263,
    "start_time": "2022-08-01T08:37:11.755Z"
   },
   {
    "duration": 6,
    "start_time": "2022-08-01T08:37:12.020Z"
   },
   {
    "duration": 9,
    "start_time": "2022-08-01T08:37:12.028Z"
   },
   {
    "duration": 23,
    "start_time": "2022-08-01T08:37:12.038Z"
   },
   {
    "duration": 12,
    "start_time": "2022-08-01T08:37:12.063Z"
   },
   {
    "duration": 12,
    "start_time": "2022-08-01T08:37:12.077Z"
   },
   {
    "duration": 7,
    "start_time": "2022-08-01T08:37:12.090Z"
   },
   {
    "duration": 18,
    "start_time": "2022-08-01T08:37:12.098Z"
   },
   {
    "duration": 17,
    "start_time": "2022-08-01T08:37:12.118Z"
   },
   {
    "duration": 20,
    "start_time": "2022-08-01T08:37:12.137Z"
   },
   {
    "duration": 19,
    "start_time": "2022-08-01T08:37:12.158Z"
   },
   {
    "duration": 10,
    "start_time": "2022-08-01T08:37:12.178Z"
   },
   {
    "duration": 271,
    "start_time": "2022-08-01T08:37:12.189Z"
   },
   {
    "duration": 8,
    "start_time": "2022-08-01T08:37:12.462Z"
   },
   {
    "duration": 11,
    "start_time": "2022-08-01T08:37:12.471Z"
   },
   {
    "duration": 287,
    "start_time": "2022-08-01T08:37:12.483Z"
   },
   {
    "duration": 7,
    "start_time": "2022-08-01T08:37:12.775Z"
   },
   {
    "duration": 11,
    "start_time": "2022-08-01T08:37:12.784Z"
   },
   {
    "duration": 7,
    "start_time": "2022-08-01T08:37:12.797Z"
   },
   {
    "duration": 9,
    "start_time": "2022-08-01T08:37:12.805Z"
   },
   {
    "duration": 8,
    "start_time": "2022-08-01T08:37:12.815Z"
   },
   {
    "duration": 29,
    "start_time": "2022-08-01T08:37:12.824Z"
   },
   {
    "duration": 19,
    "start_time": "2022-08-01T08:37:12.854Z"
   },
   {
    "duration": 20,
    "start_time": "2022-08-01T08:37:12.875Z"
   },
   {
    "duration": 4,
    "start_time": "2022-08-01T08:37:12.897Z"
   },
   {
    "duration": 6,
    "start_time": "2022-08-01T08:37:12.903Z"
   },
   {
    "duration": 5,
    "start_time": "2022-08-01T08:37:12.910Z"
   },
   {
    "duration": 407,
    "start_time": "2022-08-01T08:37:12.916Z"
   },
   {
    "duration": 7,
    "start_time": "2022-08-01T08:37:13.325Z"
   },
   {
    "duration": 20,
    "start_time": "2022-08-01T08:37:13.333Z"
   },
   {
    "duration": 265,
    "start_time": "2022-08-01T08:37:13.354Z"
   },
   {
    "duration": 7,
    "start_time": "2022-08-01T08:37:13.620Z"
   },
   {
    "duration": 7,
    "start_time": "2022-08-01T08:37:13.629Z"
   },
   {
    "duration": 20,
    "start_time": "2022-08-01T08:37:13.637Z"
   },
   {
    "duration": 7,
    "start_time": "2022-08-01T08:37:13.659Z"
   },
   {
    "duration": 11,
    "start_time": "2022-08-01T08:37:13.668Z"
   },
   {
    "duration": 7,
    "start_time": "2022-08-01T08:37:13.681Z"
   },
   {
    "duration": 23,
    "start_time": "2022-08-01T08:37:13.689Z"
   },
   {
    "duration": 315,
    "start_time": "2022-08-01T08:37:13.714Z"
   },
   {
    "duration": 6,
    "start_time": "2022-08-01T08:37:14.030Z"
   },
   {
    "duration": 15,
    "start_time": "2022-08-01T08:37:14.037Z"
   },
   {
    "duration": 5,
    "start_time": "2022-08-01T08:37:14.053Z"
   },
   {
    "duration": 9,
    "start_time": "2022-08-01T08:37:14.059Z"
   },
   {
    "duration": 21,
    "start_time": "2022-08-01T08:37:14.070Z"
   },
   {
    "duration": 16,
    "start_time": "2022-08-01T08:37:14.093Z"
   },
   {
    "duration": 6,
    "start_time": "2022-08-01T08:37:14.110Z"
   },
   {
    "duration": 5,
    "start_time": "2022-08-01T08:37:14.117Z"
   },
   {
    "duration": 6,
    "start_time": "2022-08-01T08:37:14.123Z"
   },
   {
    "duration": 5,
    "start_time": "2022-08-01T08:37:14.152Z"
   },
   {
    "duration": 6,
    "start_time": "2022-08-01T08:37:14.158Z"
   },
   {
    "duration": 1015,
    "start_time": "2022-08-01T08:46:40.278Z"
   },
   {
    "duration": 444,
    "start_time": "2022-08-01T08:46:41.295Z"
   },
   {
    "duration": 11,
    "start_time": "2022-08-01T08:46:41.740Z"
   },
   {
    "duration": 80,
    "start_time": "2022-08-01T08:46:41.753Z"
   },
   {
    "duration": 22,
    "start_time": "2022-08-01T08:46:41.834Z"
   },
   {
    "duration": 47,
    "start_time": "2022-08-01T08:46:41.857Z"
   },
   {
    "duration": 96,
    "start_time": "2022-08-01T08:46:41.906Z"
   },
   {
    "duration": 9,
    "start_time": "2022-08-01T08:46:42.003Z"
   },
   {
    "duration": 20,
    "start_time": "2022-08-01T08:46:42.013Z"
   },
   {
    "duration": 19,
    "start_time": "2022-08-01T08:46:42.035Z"
   },
   {
    "duration": 39,
    "start_time": "2022-08-01T08:46:42.055Z"
   },
   {
    "duration": 33,
    "start_time": "2022-08-01T08:46:42.095Z"
   },
   {
    "duration": 47,
    "start_time": "2022-08-01T08:46:42.130Z"
   },
   {
    "duration": 7,
    "start_time": "2022-08-01T08:46:42.178Z"
   },
   {
    "duration": 37,
    "start_time": "2022-08-01T08:46:42.187Z"
   },
   {
    "duration": 21,
    "start_time": "2022-08-01T08:46:42.226Z"
   },
   {
    "duration": 50,
    "start_time": "2022-08-01T08:46:42.249Z"
   },
   {
    "duration": 7,
    "start_time": "2022-08-01T08:46:42.301Z"
   },
   {
    "duration": 23,
    "start_time": "2022-08-01T08:46:42.309Z"
   },
   {
    "duration": 26,
    "start_time": "2022-08-01T08:46:42.334Z"
   },
   {
    "duration": 22,
    "start_time": "2022-08-01T08:46:42.362Z"
   },
   {
    "duration": 18,
    "start_time": "2022-08-01T08:46:42.386Z"
   },
   {
    "duration": 23,
    "start_time": "2022-08-01T08:46:42.405Z"
   },
   {
    "duration": 28,
    "start_time": "2022-08-01T08:46:42.430Z"
   },
   {
    "duration": 10,
    "start_time": "2022-08-01T08:46:42.459Z"
   },
   {
    "duration": 52,
    "start_time": "2022-08-01T08:46:42.471Z"
   },
   {
    "duration": 20,
    "start_time": "2022-08-01T08:46:42.525Z"
   },
   {
    "duration": 14,
    "start_time": "2022-08-01T08:46:42.551Z"
   },
   {
    "duration": 33,
    "start_time": "2022-08-01T08:46:42.566Z"
   },
   {
    "duration": 14,
    "start_time": "2022-08-01T08:46:42.601Z"
   },
   {
    "duration": 38,
    "start_time": "2022-08-01T08:46:42.617Z"
   },
   {
    "duration": 26,
    "start_time": "2022-08-01T08:46:42.657Z"
   },
   {
    "duration": 40,
    "start_time": "2022-08-01T08:46:42.684Z"
   },
   {
    "duration": 22,
    "start_time": "2022-08-01T08:46:42.725Z"
   },
   {
    "duration": 16,
    "start_time": "2022-08-01T08:46:42.748Z"
   },
   {
    "duration": 41,
    "start_time": "2022-08-01T08:46:42.766Z"
   },
   {
    "duration": 22,
    "start_time": "2022-08-01T08:46:42.809Z"
   },
   {
    "duration": 31,
    "start_time": "2022-08-01T08:46:42.832Z"
   },
   {
    "duration": 19,
    "start_time": "2022-08-01T08:46:42.865Z"
   },
   {
    "duration": 10,
    "start_time": "2022-08-01T08:46:42.886Z"
   },
   {
    "duration": 34,
    "start_time": "2022-08-01T08:46:42.897Z"
   },
   {
    "duration": 14,
    "start_time": "2022-08-01T08:46:42.933Z"
   },
   {
    "duration": 18,
    "start_time": "2022-08-01T08:46:42.949Z"
   },
   {
    "duration": 25,
    "start_time": "2022-08-01T08:46:42.969Z"
   },
   {
    "duration": 14,
    "start_time": "2022-08-01T08:46:42.995Z"
   },
   {
    "duration": 29,
    "start_time": "2022-08-01T08:46:43.010Z"
   },
   {
    "duration": 13,
    "start_time": "2022-08-01T08:46:43.041Z"
   },
   {
    "duration": 115,
    "start_time": "2022-08-01T08:46:43.055Z"
   },
   {
    "duration": 20,
    "start_time": "2022-08-01T08:46:43.171Z"
   },
   {
    "duration": 24,
    "start_time": "2022-08-01T08:46:43.192Z"
   },
   {
    "duration": 19,
    "start_time": "2022-08-01T08:46:43.218Z"
   },
   {
    "duration": 270,
    "start_time": "2022-08-01T08:46:43.238Z"
   },
   {
    "duration": 6,
    "start_time": "2022-08-01T08:46:43.510Z"
   },
   {
    "duration": 23,
    "start_time": "2022-08-01T08:46:43.518Z"
   },
   {
    "duration": 21,
    "start_time": "2022-08-01T08:46:43.542Z"
   },
   {
    "duration": 18,
    "start_time": "2022-08-01T08:46:43.564Z"
   },
   {
    "duration": 36,
    "start_time": "2022-08-01T08:46:43.583Z"
   },
   {
    "duration": 20,
    "start_time": "2022-08-01T08:46:43.620Z"
   },
   {
    "duration": 42,
    "start_time": "2022-08-01T08:46:43.641Z"
   },
   {
    "duration": 43,
    "start_time": "2022-08-01T08:46:43.685Z"
   },
   {
    "duration": 4,
    "start_time": "2022-08-01T08:46:43.729Z"
   },
   {
    "duration": 16,
    "start_time": "2022-08-01T08:46:43.734Z"
   },
   {
    "duration": 416,
    "start_time": "2022-08-01T08:46:43.751Z"
   },
   {
    "duration": 9,
    "start_time": "2022-08-01T08:46:44.168Z"
   },
   {
    "duration": 22,
    "start_time": "2022-08-01T08:46:44.178Z"
   },
   {
    "duration": 289,
    "start_time": "2022-08-01T08:46:44.202Z"
   },
   {
    "duration": 7,
    "start_time": "2022-08-01T08:46:44.492Z"
   },
   {
    "duration": 10,
    "start_time": "2022-08-01T08:46:44.501Z"
   },
   {
    "duration": 20,
    "start_time": "2022-08-01T08:46:44.512Z"
   },
   {
    "duration": 20,
    "start_time": "2022-08-01T08:46:44.533Z"
   },
   {
    "duration": 20,
    "start_time": "2022-08-01T08:46:44.554Z"
   },
   {
    "duration": 16,
    "start_time": "2022-08-01T08:46:44.576Z"
   },
   {
    "duration": 42,
    "start_time": "2022-08-01T08:46:44.594Z"
   },
   {
    "duration": 19,
    "start_time": "2022-08-01T08:46:44.638Z"
   },
   {
    "duration": 11,
    "start_time": "2022-08-01T08:46:44.659Z"
   },
   {
    "duration": 17,
    "start_time": "2022-08-01T08:46:44.671Z"
   },
   {
    "duration": 18,
    "start_time": "2022-08-01T08:46:44.689Z"
   },
   {
    "duration": 276,
    "start_time": "2022-08-01T08:46:44.708Z"
   },
   {
    "duration": 8,
    "start_time": "2022-08-01T08:46:44.986Z"
   },
   {
    "duration": 23,
    "start_time": "2022-08-01T08:46:44.995Z"
   },
   {
    "duration": 297,
    "start_time": "2022-08-01T08:46:45.019Z"
   },
   {
    "duration": 7,
    "start_time": "2022-08-01T08:46:45.322Z"
   },
   {
    "duration": 22,
    "start_time": "2022-08-01T08:46:45.331Z"
   },
   {
    "duration": 8,
    "start_time": "2022-08-01T08:46:45.354Z"
   },
   {
    "duration": 7,
    "start_time": "2022-08-01T08:46:45.364Z"
   },
   {
    "duration": 9,
    "start_time": "2022-08-01T08:46:45.372Z"
   },
   {
    "duration": 10,
    "start_time": "2022-08-01T08:46:45.383Z"
   },
   {
    "duration": 24,
    "start_time": "2022-08-01T08:46:45.394Z"
   },
   {
    "duration": 48,
    "start_time": "2022-08-01T08:46:45.420Z"
   },
   {
    "duration": 5,
    "start_time": "2022-08-01T08:46:45.470Z"
   },
   {
    "duration": 6,
    "start_time": "2022-08-01T08:46:45.476Z"
   },
   {
    "duration": 5,
    "start_time": "2022-08-01T08:46:45.483Z"
   },
   {
    "duration": 417,
    "start_time": "2022-08-01T08:46:45.489Z"
   },
   {
    "duration": 7,
    "start_time": "2022-08-01T08:46:45.908Z"
   },
   {
    "duration": 23,
    "start_time": "2022-08-01T08:46:45.917Z"
   },
   {
    "duration": 318,
    "start_time": "2022-08-01T08:46:45.941Z"
   },
   {
    "duration": 8,
    "start_time": "2022-08-01T08:46:46.261Z"
   },
   {
    "duration": 9,
    "start_time": "2022-08-01T08:46:46.270Z"
   },
   {
    "duration": 14,
    "start_time": "2022-08-01T08:46:46.281Z"
   },
   {
    "duration": 7,
    "start_time": "2022-08-01T08:46:46.297Z"
   },
   {
    "duration": 8,
    "start_time": "2022-08-01T08:46:46.305Z"
   },
   {
    "duration": 6,
    "start_time": "2022-08-01T08:46:46.314Z"
   },
   {
    "duration": 62,
    "start_time": "2022-08-01T08:46:46.322Z"
   },
   {
    "duration": 356,
    "start_time": "2022-08-01T08:46:46.385Z"
   },
   {
    "duration": 9,
    "start_time": "2022-08-01T08:46:46.743Z"
   },
   {
    "duration": 15,
    "start_time": "2022-08-01T08:46:46.754Z"
   },
   {
    "duration": 16,
    "start_time": "2022-08-01T08:46:46.771Z"
   },
   {
    "duration": 16,
    "start_time": "2022-08-01T08:46:46.788Z"
   },
   {
    "duration": 39,
    "start_time": "2022-08-01T08:46:46.806Z"
   },
   {
    "duration": 34,
    "start_time": "2022-08-01T08:46:46.846Z"
   },
   {
    "duration": 24,
    "start_time": "2022-08-01T08:46:46.882Z"
   },
   {
    "duration": 31,
    "start_time": "2022-08-01T08:46:46.908Z"
   },
   {
    "duration": 35,
    "start_time": "2022-08-01T08:46:46.941Z"
   },
   {
    "duration": 15,
    "start_time": "2022-08-01T08:46:46.978Z"
   },
   {
    "duration": 19,
    "start_time": "2022-08-01T08:46:46.995Z"
   },
   {
    "duration": 1335,
    "start_time": "2022-08-01T16:11:17.048Z"
   },
   {
    "duration": 957,
    "start_time": "2022-08-01T16:11:18.386Z"
   },
   {
    "duration": 11,
    "start_time": "2022-08-01T16:11:19.345Z"
   },
   {
    "duration": 3,
    "start_time": "2022-08-01T16:11:19.358Z"
   },
   {
    "duration": 27,
    "start_time": "2022-08-01T16:11:19.363Z"
   },
   {
    "duration": 32,
    "start_time": "2022-08-01T16:11:19.392Z"
   },
   {
    "duration": 82,
    "start_time": "2022-08-01T16:11:19.433Z"
   },
   {
    "duration": 18,
    "start_time": "2022-08-01T16:11:19.517Z"
   },
   {
    "duration": 11,
    "start_time": "2022-08-01T16:11:19.536Z"
   },
   {
    "duration": 15,
    "start_time": "2022-08-01T16:11:19.548Z"
   },
   {
    "duration": 22,
    "start_time": "2022-08-01T16:11:19.565Z"
   },
   {
    "duration": 25,
    "start_time": "2022-08-01T16:11:19.588Z"
   },
   {
    "duration": 62,
    "start_time": "2022-08-01T16:11:19.614Z"
   },
   {
    "duration": 10,
    "start_time": "2022-08-01T16:11:19.679Z"
   },
   {
    "duration": 29,
    "start_time": "2022-08-01T16:11:19.691Z"
   },
   {
    "duration": 21,
    "start_time": "2022-08-01T16:11:19.734Z"
   },
   {
    "duration": 44,
    "start_time": "2022-08-01T16:11:19.757Z"
   },
   {
    "duration": 8,
    "start_time": "2022-08-01T16:11:19.803Z"
   },
   {
    "duration": 10,
    "start_time": "2022-08-01T16:11:19.833Z"
   },
   {
    "duration": 10,
    "start_time": "2022-08-01T16:11:19.845Z"
   },
   {
    "duration": 11,
    "start_time": "2022-08-01T16:11:19.856Z"
   },
   {
    "duration": 7,
    "start_time": "2022-08-01T16:11:19.869Z"
   },
   {
    "duration": 9,
    "start_time": "2022-08-01T16:11:19.877Z"
   },
   {
    "duration": 15,
    "start_time": "2022-08-01T16:11:19.888Z"
   },
   {
    "duration": 35,
    "start_time": "2022-08-01T16:11:19.905Z"
   },
   {
    "duration": 35,
    "start_time": "2022-08-01T16:11:19.941Z"
   },
   {
    "duration": 22,
    "start_time": "2022-08-01T16:11:19.978Z"
   },
   {
    "duration": 9,
    "start_time": "2022-08-01T16:11:20.001Z"
   },
   {
    "duration": 36,
    "start_time": "2022-08-01T16:11:20.011Z"
   },
   {
    "duration": 15,
    "start_time": "2022-08-01T16:11:20.048Z"
   },
   {
    "duration": 29,
    "start_time": "2022-08-01T16:11:20.065Z"
   },
   {
    "duration": 25,
    "start_time": "2022-08-01T16:11:20.095Z"
   },
   {
    "duration": 28,
    "start_time": "2022-08-01T16:11:20.122Z"
   },
   {
    "duration": 20,
    "start_time": "2022-08-01T16:11:20.152Z"
   },
   {
    "duration": 11,
    "start_time": "2022-08-01T16:11:20.175Z"
   },
   {
    "duration": 28,
    "start_time": "2022-08-01T16:11:20.188Z"
   },
   {
    "duration": 15,
    "start_time": "2022-08-01T16:11:20.218Z"
   },
   {
    "duration": 22,
    "start_time": "2022-08-01T16:11:20.235Z"
   },
   {
    "duration": 17,
    "start_time": "2022-08-01T16:11:20.258Z"
   },
   {
    "duration": 3,
    "start_time": "2022-08-01T16:11:20.277Z"
   },
   {
    "duration": 27,
    "start_time": "2022-08-01T16:11:20.285Z"
   },
   {
    "duration": 9,
    "start_time": "2022-08-01T16:11:20.334Z"
   },
   {
    "duration": 15,
    "start_time": "2022-08-01T16:11:20.345Z"
   },
   {
    "duration": 16,
    "start_time": "2022-08-01T16:11:20.362Z"
   },
   {
    "duration": 6,
    "start_time": "2022-08-01T16:11:20.380Z"
   },
   {
    "duration": 16,
    "start_time": "2022-08-01T16:11:20.388Z"
   },
   {
    "duration": 7,
    "start_time": "2022-08-01T16:11:20.406Z"
   },
   {
    "duration": 128,
    "start_time": "2022-08-01T16:11:20.414Z"
   },
   {
    "duration": 24,
    "start_time": "2022-08-01T16:11:20.544Z"
   },
   {
    "duration": 8,
    "start_time": "2022-08-01T16:11:20.570Z"
   },
   {
    "duration": 14,
    "start_time": "2022-08-01T16:11:20.580Z"
   },
   {
    "duration": 293,
    "start_time": "2022-08-01T16:11:20.596Z"
   },
   {
    "duration": 7,
    "start_time": "2022-08-01T16:11:20.890Z"
   },
   {
    "duration": 12,
    "start_time": "2022-08-01T16:11:20.898Z"
   },
   {
    "duration": 24,
    "start_time": "2022-08-01T16:11:20.911Z"
   },
   {
    "duration": 7,
    "start_time": "2022-08-01T16:11:20.937Z"
   },
   {
    "duration": 25,
    "start_time": "2022-08-01T16:11:20.945Z"
   },
   {
    "duration": 9,
    "start_time": "2022-08-01T16:11:20.971Z"
   },
   {
    "duration": 48,
    "start_time": "2022-08-01T16:11:20.981Z"
   },
   {
    "duration": 41,
    "start_time": "2022-08-01T16:11:21.032Z"
   },
   {
    "duration": 4,
    "start_time": "2022-08-01T16:11:21.076Z"
   },
   {
    "duration": 14,
    "start_time": "2022-08-01T16:11:21.081Z"
   },
   {
    "duration": 438,
    "start_time": "2022-08-01T16:11:21.097Z"
   },
   {
    "duration": 9,
    "start_time": "2022-08-01T16:11:21.536Z"
   },
   {
    "duration": 16,
    "start_time": "2022-08-01T16:11:21.546Z"
   },
   {
    "duration": 285,
    "start_time": "2022-08-01T16:11:21.564Z"
   },
   {
    "duration": 7,
    "start_time": "2022-08-01T16:11:21.851Z"
   },
   {
    "duration": 12,
    "start_time": "2022-08-01T16:11:21.859Z"
   },
   {
    "duration": 20,
    "start_time": "2022-08-01T16:11:21.872Z"
   },
   {
    "duration": 9,
    "start_time": "2022-08-01T16:11:21.894Z"
   },
   {
    "duration": 13,
    "start_time": "2022-08-01T16:11:21.904Z"
   },
   {
    "duration": 19,
    "start_time": "2022-08-01T16:11:21.918Z"
   },
   {
    "duration": 24,
    "start_time": "2022-08-01T16:11:21.939Z"
   },
   {
    "duration": 22,
    "start_time": "2022-08-01T16:11:21.965Z"
   },
   {
    "duration": 7,
    "start_time": "2022-08-01T16:11:21.989Z"
   },
   {
    "duration": 6,
    "start_time": "2022-08-01T16:11:21.998Z"
   },
   {
    "duration": 29,
    "start_time": "2022-08-01T16:11:22.006Z"
   },
   {
    "duration": 303,
    "start_time": "2022-08-01T16:11:22.037Z"
   },
   {
    "duration": 8,
    "start_time": "2022-08-01T16:11:22.341Z"
   },
   {
    "duration": 10,
    "start_time": "2022-08-01T16:11:22.351Z"
   },
   {
    "duration": 343,
    "start_time": "2022-08-01T16:11:22.362Z"
   },
   {
    "duration": 9,
    "start_time": "2022-08-01T16:11:22.706Z"
   },
   {
    "duration": 28,
    "start_time": "2022-08-01T16:11:22.717Z"
   },
   {
    "duration": 13,
    "start_time": "2022-08-01T16:11:22.747Z"
   },
   {
    "duration": 14,
    "start_time": "2022-08-01T16:11:22.762Z"
   },
   {
    "duration": 13,
    "start_time": "2022-08-01T16:11:22.778Z"
   },
   {
    "duration": 12,
    "start_time": "2022-08-01T16:11:22.793Z"
   },
   {
    "duration": 41,
    "start_time": "2022-08-01T16:11:22.806Z"
   },
   {
    "duration": 22,
    "start_time": "2022-08-01T16:11:22.849Z"
   },
   {
    "duration": 7,
    "start_time": "2022-08-01T16:11:22.874Z"
   },
   {
    "duration": 8,
    "start_time": "2022-08-01T16:11:22.882Z"
   },
   {
    "duration": 9,
    "start_time": "2022-08-01T16:11:22.892Z"
   },
   {
    "duration": 467,
    "start_time": "2022-08-01T16:11:22.903Z"
   },
   {
    "duration": 9,
    "start_time": "2022-08-01T16:11:23.372Z"
   },
   {
    "duration": 20,
    "start_time": "2022-08-01T16:11:23.383Z"
   },
   {
    "duration": 298,
    "start_time": "2022-08-01T16:11:23.405Z"
   },
   {
    "duration": 7,
    "start_time": "2022-08-01T16:11:23.705Z"
   },
   {
    "duration": 23,
    "start_time": "2022-08-01T16:11:23.713Z"
   },
   {
    "duration": 8,
    "start_time": "2022-08-01T16:11:23.738Z"
   },
   {
    "duration": 13,
    "start_time": "2022-08-01T16:11:23.747Z"
   },
   {
    "duration": 26,
    "start_time": "2022-08-01T16:11:23.762Z"
   },
   {
    "duration": 28,
    "start_time": "2022-08-01T16:11:23.790Z"
   },
   {
    "duration": 33,
    "start_time": "2022-08-01T16:11:23.819Z"
   },
   {
    "duration": 326,
    "start_time": "2022-08-01T16:11:23.854Z"
   },
   {
    "duration": 5,
    "start_time": "2022-08-01T16:11:24.182Z"
   },
   {
    "duration": 23,
    "start_time": "2022-08-01T16:11:24.188Z"
   },
   {
    "duration": 17,
    "start_time": "2022-08-01T16:11:24.213Z"
   },
   {
    "duration": 16,
    "start_time": "2022-08-01T16:11:24.231Z"
   },
   {
    "duration": 42,
    "start_time": "2022-08-01T16:11:24.248Z"
   },
   {
    "duration": 37,
    "start_time": "2022-08-01T16:11:24.292Z"
   },
   {
    "duration": 14,
    "start_time": "2022-08-01T16:11:24.331Z"
   },
   {
    "duration": 10,
    "start_time": "2022-08-01T16:11:24.346Z"
   },
   {
    "duration": 14,
    "start_time": "2022-08-01T16:11:24.358Z"
   },
   {
    "duration": 5,
    "start_time": "2022-08-01T16:11:24.373Z"
   },
   {
    "duration": 19,
    "start_time": "2022-08-01T16:11:24.380Z"
   },
   {
    "duration": 4,
    "start_time": "2022-08-01T16:18:25.485Z"
   },
   {
    "duration": 350,
    "start_time": "2022-08-01T16:26:29.542Z"
   },
   {
    "duration": 329,
    "start_time": "2022-08-01T16:27:08.386Z"
   },
   {
    "duration": 479,
    "start_time": "2022-08-01T16:29:11.807Z"
   },
   {
    "duration": 387,
    "start_time": "2022-08-01T16:29:40.458Z"
   },
   {
    "duration": 307,
    "start_time": "2022-08-01T16:33:07.872Z"
   },
   {
    "duration": 1138,
    "start_time": "2022-08-01T16:34:30.682Z"
   },
   {
    "duration": 3,
    "start_time": "2022-08-01T16:35:13.429Z"
   },
   {
    "duration": 480,
    "start_time": "2022-08-01T16:35:13.434Z"
   },
   {
    "duration": 8,
    "start_time": "2022-08-01T16:35:13.916Z"
   },
   {
    "duration": 6,
    "start_time": "2022-08-01T16:35:13.925Z"
   },
   {
    "duration": 24,
    "start_time": "2022-08-01T16:35:13.933Z"
   },
   {
    "duration": 30,
    "start_time": "2022-08-01T16:35:13.959Z"
   },
   {
    "duration": 102,
    "start_time": "2022-08-01T16:35:13.990Z"
   },
   {
    "duration": 8,
    "start_time": "2022-08-01T16:35:14.094Z"
   },
   {
    "duration": 11,
    "start_time": "2022-08-01T16:35:14.103Z"
   },
   {
    "duration": 10,
    "start_time": "2022-08-01T16:35:14.133Z"
   },
   {
    "duration": 27,
    "start_time": "2022-08-01T16:35:14.145Z"
   },
   {
    "duration": 24,
    "start_time": "2022-08-01T16:35:14.174Z"
   },
   {
    "duration": 64,
    "start_time": "2022-08-01T16:35:14.200Z"
   },
   {
    "duration": 8,
    "start_time": "2022-08-01T16:35:14.266Z"
   },
   {
    "duration": 27,
    "start_time": "2022-08-01T16:35:14.275Z"
   },
   {
    "duration": 35,
    "start_time": "2022-08-01T16:35:14.303Z"
   },
   {
    "duration": 40,
    "start_time": "2022-08-01T16:35:14.339Z"
   },
   {
    "duration": 8,
    "start_time": "2022-08-01T16:35:14.381Z"
   },
   {
    "duration": 28,
    "start_time": "2022-08-01T16:35:14.390Z"
   },
   {
    "duration": 20,
    "start_time": "2022-08-01T16:35:14.420Z"
   },
   {
    "duration": 24,
    "start_time": "2022-08-01T16:35:14.442Z"
   },
   {
    "duration": 13,
    "start_time": "2022-08-01T16:35:14.468Z"
   },
   {
    "duration": 12,
    "start_time": "2022-08-01T16:35:14.482Z"
   },
   {
    "duration": 19,
    "start_time": "2022-08-01T16:35:14.496Z"
   },
   {
    "duration": 19,
    "start_time": "2022-08-01T16:35:14.517Z"
   },
   {
    "duration": 50,
    "start_time": "2022-08-01T16:35:14.539Z"
   },
   {
    "duration": 19,
    "start_time": "2022-08-01T16:35:14.591Z"
   },
   {
    "duration": 36,
    "start_time": "2022-08-01T16:35:14.612Z"
   },
   {
    "duration": 63,
    "start_time": "2022-08-01T16:35:14.653Z"
   },
   {
    "duration": 23,
    "start_time": "2022-08-01T16:35:14.717Z"
   },
   {
    "duration": 62,
    "start_time": "2022-08-01T16:35:14.741Z"
   },
   {
    "duration": 41,
    "start_time": "2022-08-01T16:35:14.805Z"
   },
   {
    "duration": 49,
    "start_time": "2022-08-01T16:35:14.847Z"
   },
   {
    "duration": 26,
    "start_time": "2022-08-01T16:35:14.898Z"
   },
   {
    "duration": 4,
    "start_time": "2022-08-01T16:35:14.926Z"
   },
   {
    "duration": 55,
    "start_time": "2022-08-01T16:35:14.933Z"
   },
   {
    "duration": 21,
    "start_time": "2022-08-01T16:35:14.990Z"
   },
   {
    "duration": 35,
    "start_time": "2022-08-01T16:35:15.013Z"
   },
   {
    "duration": 26,
    "start_time": "2022-08-01T16:35:15.050Z"
   },
   {
    "duration": 21,
    "start_time": "2022-08-01T16:35:15.078Z"
   },
   {
    "duration": 36,
    "start_time": "2022-08-01T16:35:15.101Z"
   },
   {
    "duration": 18,
    "start_time": "2022-08-01T16:35:15.139Z"
   },
   {
    "duration": 44,
    "start_time": "2022-08-01T16:35:15.159Z"
   },
   {
    "duration": 35,
    "start_time": "2022-08-01T16:35:15.205Z"
   },
   {
    "duration": 30,
    "start_time": "2022-08-01T16:35:15.242Z"
   },
   {
    "duration": 23,
    "start_time": "2022-08-01T16:35:15.274Z"
   },
   {
    "duration": 7,
    "start_time": "2022-08-01T16:35:15.299Z"
   },
   {
    "duration": 189,
    "start_time": "2022-08-01T16:35:15.308Z"
   },
   {
    "duration": 22,
    "start_time": "2022-08-01T16:35:15.499Z"
   },
   {
    "duration": 30,
    "start_time": "2022-08-01T16:35:15.523Z"
   },
   {
    "duration": 29,
    "start_time": "2022-08-01T16:35:15.554Z"
   },
   {
    "duration": 299,
    "start_time": "2022-08-01T16:35:15.585Z"
   },
   {
    "duration": 7,
    "start_time": "2022-08-01T16:35:15.886Z"
   },
   {
    "duration": 25,
    "start_time": "2022-08-01T16:35:15.895Z"
   },
   {
    "duration": 26,
    "start_time": "2022-08-01T16:35:15.921Z"
   },
   {
    "duration": 17,
    "start_time": "2022-08-01T16:35:15.948Z"
   },
   {
    "duration": 52,
    "start_time": "2022-08-01T16:35:15.966Z"
   },
   {
    "duration": 12,
    "start_time": "2022-08-01T16:35:16.020Z"
   },
   {
    "duration": 46,
    "start_time": "2022-08-01T16:35:16.034Z"
   },
   {
    "duration": 46,
    "start_time": "2022-08-01T16:35:16.082Z"
   },
   {
    "duration": 6,
    "start_time": "2022-08-01T16:35:16.130Z"
   },
   {
    "duration": 24,
    "start_time": "2022-08-01T16:35:16.138Z"
   },
   {
    "duration": 506,
    "start_time": "2022-08-01T16:35:16.164Z"
   },
   {
    "duration": 9,
    "start_time": "2022-08-01T16:35:16.672Z"
   },
   {
    "duration": 11,
    "start_time": "2022-08-01T16:35:16.682Z"
   },
   {
    "duration": 324,
    "start_time": "2022-08-01T16:35:16.695Z"
   },
   {
    "duration": 18,
    "start_time": "2022-08-01T16:35:17.021Z"
   },
   {
    "duration": 30,
    "start_time": "2022-08-01T16:35:17.041Z"
   },
   {
    "duration": 23,
    "start_time": "2022-08-01T16:35:17.073Z"
   },
   {
    "duration": 28,
    "start_time": "2022-08-01T16:35:17.098Z"
   },
   {
    "duration": 22,
    "start_time": "2022-08-01T16:35:17.127Z"
   },
   {
    "duration": 28,
    "start_time": "2022-08-01T16:35:17.151Z"
   },
   {
    "duration": 36,
    "start_time": "2022-08-01T16:35:17.180Z"
   },
   {
    "duration": 36,
    "start_time": "2022-08-01T16:35:17.218Z"
   },
   {
    "duration": 9,
    "start_time": "2022-08-01T16:35:17.256Z"
   },
   {
    "duration": 31,
    "start_time": "2022-08-01T16:35:17.267Z"
   },
   {
    "duration": 34,
    "start_time": "2022-08-01T16:35:17.300Z"
   },
   {
    "duration": 316,
    "start_time": "2022-08-01T16:35:17.336Z"
   },
   {
    "duration": 10,
    "start_time": "2022-08-01T16:35:17.654Z"
   },
   {
    "duration": 25,
    "start_time": "2022-08-01T16:35:17.666Z"
   },
   {
    "duration": 354,
    "start_time": "2022-08-01T16:35:17.693Z"
   },
   {
    "duration": 9,
    "start_time": "2022-08-01T16:35:18.050Z"
   },
   {
    "duration": 10,
    "start_time": "2022-08-01T16:35:18.065Z"
   },
   {
    "duration": 13,
    "start_time": "2022-08-01T16:35:18.077Z"
   },
   {
    "duration": 9,
    "start_time": "2022-08-01T16:35:18.092Z"
   },
   {
    "duration": 38,
    "start_time": "2022-08-01T16:35:18.103Z"
   },
   {
    "duration": 9,
    "start_time": "2022-08-01T16:35:18.143Z"
   },
   {
    "duration": 31,
    "start_time": "2022-08-01T16:35:18.154Z"
   },
   {
    "duration": 24,
    "start_time": "2022-08-01T16:35:18.186Z"
   },
   {
    "duration": 4,
    "start_time": "2022-08-01T16:35:18.233Z"
   },
   {
    "duration": 14,
    "start_time": "2022-08-01T16:35:18.240Z"
   },
   {
    "duration": 10,
    "start_time": "2022-08-01T16:35:18.256Z"
   },
   {
    "duration": 348,
    "start_time": "2022-08-01T16:35:18.267Z"
   },
   {
    "duration": 8,
    "start_time": "2022-08-01T16:35:18.617Z"
   },
   {
    "duration": 8,
    "start_time": "2022-08-01T16:35:18.634Z"
   },
   {
    "duration": 312,
    "start_time": "2022-08-01T16:35:18.644Z"
   },
   {
    "duration": 8,
    "start_time": "2022-08-01T16:35:18.958Z"
   },
   {
    "duration": 12,
    "start_time": "2022-08-01T16:35:18.968Z"
   },
   {
    "duration": 15,
    "start_time": "2022-08-01T16:35:18.982Z"
   },
   {
    "duration": 11,
    "start_time": "2022-08-01T16:35:18.999Z"
   },
   {
    "duration": 29,
    "start_time": "2022-08-01T16:35:19.012Z"
   },
   {
    "duration": 24,
    "start_time": "2022-08-01T16:35:19.042Z"
   },
   {
    "duration": 26,
    "start_time": "2022-08-01T16:35:19.068Z"
   },
   {
    "duration": 446,
    "start_time": "2022-08-01T16:35:19.096Z"
   },
   {
    "duration": 5,
    "start_time": "2022-08-01T16:35:19.543Z"
   },
   {
    "duration": 8,
    "start_time": "2022-08-01T16:35:19.550Z"
   },
   {
    "duration": 6,
    "start_time": "2022-08-01T16:35:19.560Z"
   },
   {
    "duration": 12,
    "start_time": "2022-08-01T16:35:19.567Z"
   },
   {
    "duration": 21,
    "start_time": "2022-08-01T16:35:19.581Z"
   },
   {
    "duration": 33,
    "start_time": "2022-08-01T16:35:19.604Z"
   },
   {
    "duration": 8,
    "start_time": "2022-08-01T16:35:19.639Z"
   },
   {
    "duration": 8,
    "start_time": "2022-08-01T16:35:19.648Z"
   },
   {
    "duration": 9,
    "start_time": "2022-08-01T16:35:19.658Z"
   },
   {
    "duration": 9,
    "start_time": "2022-08-01T16:35:19.669Z"
   },
   {
    "duration": 7,
    "start_time": "2022-08-01T16:35:19.680Z"
   },
   {
    "duration": 1239,
    "start_time": "2022-08-02T08:08:44.778Z"
   },
   {
    "duration": 1215,
    "start_time": "2022-08-02T08:08:46.019Z"
   },
   {
    "duration": 15,
    "start_time": "2022-08-02T08:08:47.236Z"
   },
   {
    "duration": 4,
    "start_time": "2022-08-02T08:08:47.254Z"
   },
   {
    "duration": 36,
    "start_time": "2022-08-02T08:08:47.260Z"
   },
   {
    "duration": 31,
    "start_time": "2022-08-02T08:08:47.298Z"
   },
   {
    "duration": 123,
    "start_time": "2022-08-02T08:08:47.331Z"
   },
   {
    "duration": 11,
    "start_time": "2022-08-02T08:08:47.456Z"
   },
   {
    "duration": 23,
    "start_time": "2022-08-02T08:08:47.469Z"
   },
   {
    "duration": 20,
    "start_time": "2022-08-02T08:08:47.495Z"
   },
   {
    "duration": 48,
    "start_time": "2022-08-02T08:08:47.517Z"
   },
   {
    "duration": 36,
    "start_time": "2022-08-02T08:08:47.567Z"
   },
   {
    "duration": 71,
    "start_time": "2022-08-02T08:08:47.606Z"
   },
   {
    "duration": 13,
    "start_time": "2022-08-02T08:08:47.680Z"
   },
   {
    "duration": 44,
    "start_time": "2022-08-02T08:08:47.695Z"
   },
   {
    "duration": 27,
    "start_time": "2022-08-02T08:08:47.742Z"
   },
   {
    "duration": 52,
    "start_time": "2022-08-02T08:08:47.771Z"
   },
   {
    "duration": 7,
    "start_time": "2022-08-02T08:08:47.825Z"
   },
   {
    "duration": 16,
    "start_time": "2022-08-02T08:08:47.834Z"
   },
   {
    "duration": 18,
    "start_time": "2022-08-02T08:08:47.852Z"
   },
   {
    "duration": 17,
    "start_time": "2022-08-02T08:08:47.872Z"
   },
   {
    "duration": 9,
    "start_time": "2022-08-02T08:08:47.901Z"
   },
   {
    "duration": 11,
    "start_time": "2022-08-02T08:08:47.912Z"
   },
   {
    "duration": 27,
    "start_time": "2022-08-02T08:08:47.924Z"
   },
   {
    "duration": 10,
    "start_time": "2022-08-02T08:08:47.953Z"
   },
   {
    "duration": 50,
    "start_time": "2022-08-02T08:08:47.964Z"
   },
   {
    "duration": 21,
    "start_time": "2022-08-02T08:08:48.016Z"
   },
   {
    "duration": 4,
    "start_time": "2022-08-02T08:08:48.042Z"
   },
   {
    "duration": 25,
    "start_time": "2022-08-02T08:08:48.048Z"
   },
   {
    "duration": 7,
    "start_time": "2022-08-02T08:08:48.075Z"
   },
   {
    "duration": 40,
    "start_time": "2022-08-02T08:08:48.084Z"
   },
   {
    "duration": 18,
    "start_time": "2022-08-02T08:08:48.126Z"
   },
   {
    "duration": 31,
    "start_time": "2022-08-02T08:08:48.146Z"
   },
   {
    "duration": 29,
    "start_time": "2022-08-02T08:08:48.178Z"
   },
   {
    "duration": 4,
    "start_time": "2022-08-02T08:08:48.209Z"
   },
   {
    "duration": 29,
    "start_time": "2022-08-02T08:08:48.214Z"
   },
   {
    "duration": 19,
    "start_time": "2022-08-02T08:08:48.244Z"
   },
   {
    "duration": 43,
    "start_time": "2022-08-02T08:08:48.264Z"
   },
   {
    "duration": 21,
    "start_time": "2022-08-02T08:08:48.309Z"
   },
   {
    "duration": 8,
    "start_time": "2022-08-02T08:08:48.331Z"
   },
   {
    "duration": 33,
    "start_time": "2022-08-02T08:08:48.341Z"
   },
   {
    "duration": 25,
    "start_time": "2022-08-02T08:08:48.376Z"
   },
   {
    "duration": 17,
    "start_time": "2022-08-02T08:08:48.402Z"
   },
   {
    "duration": 24,
    "start_time": "2022-08-02T08:08:48.421Z"
   },
   {
    "duration": 19,
    "start_time": "2022-08-02T08:08:48.446Z"
   },
   {
    "duration": 17,
    "start_time": "2022-08-02T08:08:48.467Z"
   },
   {
    "duration": 26,
    "start_time": "2022-08-02T08:08:48.486Z"
   },
   {
    "duration": 148,
    "start_time": "2022-08-02T08:08:48.516Z"
   },
   {
    "duration": 28,
    "start_time": "2022-08-02T08:08:48.666Z"
   },
   {
    "duration": 21,
    "start_time": "2022-08-02T08:08:48.696Z"
   },
   {
    "duration": 18,
    "start_time": "2022-08-02T08:08:48.719Z"
   },
   {
    "duration": 396,
    "start_time": "2022-08-02T08:08:48.740Z"
   },
   {
    "duration": 11,
    "start_time": "2022-08-02T08:08:49.137Z"
   },
   {
    "duration": 33,
    "start_time": "2022-08-02T08:08:49.149Z"
   },
   {
    "duration": 10,
    "start_time": "2022-08-02T08:08:49.185Z"
   },
   {
    "duration": 28,
    "start_time": "2022-08-02T08:08:49.199Z"
   },
   {
    "duration": 27,
    "start_time": "2022-08-02T08:08:49.229Z"
   },
   {
    "duration": 23,
    "start_time": "2022-08-02T08:08:49.258Z"
   },
   {
    "duration": 62,
    "start_time": "2022-08-02T08:08:49.283Z"
   },
   {
    "duration": 65,
    "start_time": "2022-08-02T08:08:49.347Z"
   },
   {
    "duration": 4,
    "start_time": "2022-08-02T08:08:49.414Z"
   },
   {
    "duration": 20,
    "start_time": "2022-08-02T08:08:49.419Z"
   },
   {
    "duration": 635,
    "start_time": "2022-08-02T08:08:49.441Z"
   },
   {
    "duration": 10,
    "start_time": "2022-08-02T08:08:50.078Z"
   },
   {
    "duration": 17,
    "start_time": "2022-08-02T08:08:50.089Z"
   },
   {
    "duration": 365,
    "start_time": "2022-08-02T08:08:50.111Z"
   },
   {
    "duration": 10,
    "start_time": "2022-08-02T08:08:50.478Z"
   },
   {
    "duration": 23,
    "start_time": "2022-08-02T08:08:50.489Z"
   },
   {
    "duration": 11,
    "start_time": "2022-08-02T08:08:50.514Z"
   },
   {
    "duration": 12,
    "start_time": "2022-08-02T08:08:50.527Z"
   },
   {
    "duration": 10,
    "start_time": "2022-08-02T08:08:50.541Z"
   },
   {
    "duration": 41,
    "start_time": "2022-08-02T08:08:50.553Z"
   },
   {
    "duration": 19,
    "start_time": "2022-08-02T08:08:50.596Z"
   },
   {
    "duration": 25,
    "start_time": "2022-08-02T08:08:50.616Z"
   },
   {
    "duration": 9,
    "start_time": "2022-08-02T08:08:50.643Z"
   },
   {
    "duration": 6,
    "start_time": "2022-08-02T08:08:50.654Z"
   },
   {
    "duration": 6,
    "start_time": "2022-08-02T08:08:50.663Z"
   },
   {
    "duration": 462,
    "start_time": "2022-08-02T08:08:50.671Z"
   },
   {
    "duration": 11,
    "start_time": "2022-08-02T08:08:51.135Z"
   },
   {
    "duration": 28,
    "start_time": "2022-08-02T08:08:51.148Z"
   },
   {
    "duration": 351,
    "start_time": "2022-08-02T08:08:51.180Z"
   },
   {
    "duration": 8,
    "start_time": "2022-08-02T08:08:51.537Z"
   },
   {
    "duration": 16,
    "start_time": "2022-08-02T08:08:51.546Z"
   },
   {
    "duration": 15,
    "start_time": "2022-08-02T08:08:51.564Z"
   },
   {
    "duration": 25,
    "start_time": "2022-08-02T08:08:51.582Z"
   },
   {
    "duration": 13,
    "start_time": "2022-08-02T08:08:51.609Z"
   },
   {
    "duration": 12,
    "start_time": "2022-08-02T08:08:51.624Z"
   },
   {
    "duration": 35,
    "start_time": "2022-08-02T08:08:51.638Z"
   },
   {
    "duration": 51,
    "start_time": "2022-08-02T08:08:51.676Z"
   },
   {
    "duration": 4,
    "start_time": "2022-08-02T08:08:51.730Z"
   },
   {
    "duration": 11,
    "start_time": "2022-08-02T08:08:51.735Z"
   },
   {
    "duration": 19,
    "start_time": "2022-08-02T08:08:51.747Z"
   },
   {
    "duration": 637,
    "start_time": "2022-08-02T08:08:51.767Z"
   },
   {
    "duration": 10,
    "start_time": "2022-08-02T08:08:52.406Z"
   },
   {
    "duration": 17,
    "start_time": "2022-08-02T08:08:52.417Z"
   },
   {
    "duration": 283,
    "start_time": "2022-08-02T08:08:52.436Z"
   },
   {
    "duration": 7,
    "start_time": "2022-08-02T08:08:52.720Z"
   },
   {
    "duration": 10,
    "start_time": "2022-08-02T08:08:52.729Z"
   },
   {
    "duration": 11,
    "start_time": "2022-08-02T08:08:52.741Z"
   },
   {
    "duration": 9,
    "start_time": "2022-08-02T08:08:52.754Z"
   },
   {
    "duration": 10,
    "start_time": "2022-08-02T08:08:52.764Z"
   },
   {
    "duration": 32,
    "start_time": "2022-08-02T08:08:52.776Z"
   },
   {
    "duration": 35,
    "start_time": "2022-08-02T08:08:52.810Z"
   },
   {
    "duration": 389,
    "start_time": "2022-08-02T08:08:52.847Z"
   },
   {
    "duration": 10,
    "start_time": "2022-08-02T08:08:53.238Z"
   },
   {
    "duration": 21,
    "start_time": "2022-08-02T08:08:53.250Z"
   },
   {
    "duration": 12,
    "start_time": "2022-08-02T08:08:53.272Z"
   },
   {
    "duration": 12,
    "start_time": "2022-08-02T08:08:53.287Z"
   },
   {
    "duration": 34,
    "start_time": "2022-08-02T08:08:53.308Z"
   },
   {
    "duration": 13,
    "start_time": "2022-08-02T08:08:53.344Z"
   },
   {
    "duration": 9,
    "start_time": "2022-08-02T08:08:53.359Z"
   },
   {
    "duration": 8,
    "start_time": "2022-08-02T08:08:53.370Z"
   },
   {
    "duration": 24,
    "start_time": "2022-08-02T08:08:53.379Z"
   },
   {
    "duration": 5,
    "start_time": "2022-08-02T08:08:53.405Z"
   },
   {
    "duration": 8,
    "start_time": "2022-08-02T08:08:53.412Z"
   },
   {
    "duration": 1266,
    "start_time": "2022-08-02T08:10:08.983Z"
   },
   {
    "duration": 511,
    "start_time": "2022-08-02T08:10:10.251Z"
   },
   {
    "duration": 16,
    "start_time": "2022-08-02T08:10:10.764Z"
   },
   {
    "duration": 5,
    "start_time": "2022-08-02T08:10:10.781Z"
   },
   {
    "duration": 43,
    "start_time": "2022-08-02T08:10:10.788Z"
   },
   {
    "duration": 44,
    "start_time": "2022-08-02T08:10:10.833Z"
   },
   {
    "duration": 136,
    "start_time": "2022-08-02T08:10:10.880Z"
   },
   {
    "duration": 12,
    "start_time": "2022-08-02T08:10:11.019Z"
   },
   {
    "duration": 13,
    "start_time": "2022-08-02T08:10:11.033Z"
   },
   {
    "duration": 14,
    "start_time": "2022-08-02T08:10:11.049Z"
   },
   {
    "duration": 55,
    "start_time": "2022-08-02T08:10:11.065Z"
   },
   {
    "duration": 34,
    "start_time": "2022-08-02T08:10:11.123Z"
   },
   {
    "duration": 87,
    "start_time": "2022-08-02T08:10:11.160Z"
   },
   {
    "duration": 9,
    "start_time": "2022-08-02T08:10:11.250Z"
   },
   {
    "duration": 41,
    "start_time": "2022-08-02T08:10:11.261Z"
   },
   {
    "duration": 29,
    "start_time": "2022-08-02T08:10:11.304Z"
   },
   {
    "duration": 73,
    "start_time": "2022-08-02T08:10:11.335Z"
   },
   {
    "duration": 9,
    "start_time": "2022-08-02T08:10:11.410Z"
   },
   {
    "duration": 43,
    "start_time": "2022-08-02T08:10:11.420Z"
   },
   {
    "duration": 15,
    "start_time": "2022-08-02T08:10:11.465Z"
   },
   {
    "duration": 18,
    "start_time": "2022-08-02T08:10:11.482Z"
   },
   {
    "duration": 18,
    "start_time": "2022-08-02T08:10:11.501Z"
   },
   {
    "duration": 12,
    "start_time": "2022-08-02T08:10:11.521Z"
   },
   {
    "duration": 25,
    "start_time": "2022-08-02T08:10:11.535Z"
   },
   {
    "duration": 9,
    "start_time": "2022-08-02T08:10:11.562Z"
   },
   {
    "duration": 46,
    "start_time": "2022-08-02T08:10:11.573Z"
   },
   {
    "duration": 23,
    "start_time": "2022-08-02T08:10:11.621Z"
   },
   {
    "duration": 7,
    "start_time": "2022-08-02T08:10:11.647Z"
   },
   {
    "duration": 28,
    "start_time": "2022-08-02T08:10:11.656Z"
   },
   {
    "duration": 17,
    "start_time": "2022-08-02T08:10:11.686Z"
   },
   {
    "duration": 23,
    "start_time": "2022-08-02T08:10:11.705Z"
   },
   {
    "duration": 18,
    "start_time": "2022-08-02T08:10:11.730Z"
   },
   {
    "duration": 28,
    "start_time": "2022-08-02T08:10:11.749Z"
   },
   {
    "duration": 43,
    "start_time": "2022-08-02T08:10:11.778Z"
   },
   {
    "duration": 9,
    "start_time": "2022-08-02T08:10:11.822Z"
   },
   {
    "duration": 33,
    "start_time": "2022-08-02T08:10:11.833Z"
   },
   {
    "duration": 38,
    "start_time": "2022-08-02T08:10:11.868Z"
   },
   {
    "duration": 30,
    "start_time": "2022-08-02T08:10:11.908Z"
   },
   {
    "duration": 29,
    "start_time": "2022-08-02T08:10:11.940Z"
   },
   {
    "duration": 5,
    "start_time": "2022-08-02T08:10:11.971Z"
   },
   {
    "duration": 20,
    "start_time": "2022-08-02T08:10:12.004Z"
   },
   {
    "duration": 12,
    "start_time": "2022-08-02T08:10:12.026Z"
   },
   {
    "duration": 12,
    "start_time": "2022-08-02T08:10:12.043Z"
   },
   {
    "duration": 10,
    "start_time": "2022-08-02T08:10:12.057Z"
   },
   {
    "duration": 32,
    "start_time": "2022-08-02T08:10:12.070Z"
   },
   {
    "duration": 15,
    "start_time": "2022-08-02T08:10:12.104Z"
   },
   {
    "duration": 10,
    "start_time": "2022-08-02T08:10:12.121Z"
   },
   {
    "duration": 185,
    "start_time": "2022-08-02T08:10:12.133Z"
   },
   {
    "duration": 36,
    "start_time": "2022-08-02T08:10:12.323Z"
   },
   {
    "duration": 11,
    "start_time": "2022-08-02T08:10:12.361Z"
   },
   {
    "duration": 29,
    "start_time": "2022-08-02T08:10:12.374Z"
   },
   {
    "duration": 286,
    "start_time": "2022-08-02T08:10:12.405Z"
   },
   {
    "duration": 11,
    "start_time": "2022-08-02T08:10:12.693Z"
   },
   {
    "duration": 10,
    "start_time": "2022-08-02T08:10:12.706Z"
   },
   {
    "duration": 26,
    "start_time": "2022-08-02T08:10:12.718Z"
   },
   {
    "duration": 10,
    "start_time": "2022-08-02T08:10:12.746Z"
   },
   {
    "duration": 23,
    "start_time": "2022-08-02T08:10:12.758Z"
   },
   {
    "duration": 20,
    "start_time": "2022-08-02T08:10:12.783Z"
   },
   {
    "duration": 33,
    "start_time": "2022-08-02T08:10:12.805Z"
   },
   {
    "duration": 38,
    "start_time": "2022-08-02T08:10:12.839Z"
   },
   {
    "duration": 4,
    "start_time": "2022-08-02T08:10:12.879Z"
   },
   {
    "duration": 4,
    "start_time": "2022-08-02T08:10:12.903Z"
   },
   {
    "duration": 417,
    "start_time": "2022-08-02T08:10:12.909Z"
   },
   {
    "duration": 11,
    "start_time": "2022-08-02T08:10:13.328Z"
   },
   {
    "duration": 25,
    "start_time": "2022-08-02T08:10:13.340Z"
   },
   {
    "duration": 350,
    "start_time": "2022-08-02T08:10:13.368Z"
   },
   {
    "duration": 8,
    "start_time": "2022-08-02T08:10:13.720Z"
   },
   {
    "duration": 38,
    "start_time": "2022-08-02T08:10:13.729Z"
   },
   {
    "duration": 13,
    "start_time": "2022-08-02T08:10:13.768Z"
   },
   {
    "duration": 28,
    "start_time": "2022-08-02T08:10:13.783Z"
   },
   {
    "duration": 26,
    "start_time": "2022-08-02T08:10:13.813Z"
   },
   {
    "duration": 27,
    "start_time": "2022-08-02T08:10:13.841Z"
   },
   {
    "duration": 39,
    "start_time": "2022-08-02T08:10:13.870Z"
   },
   {
    "duration": 38,
    "start_time": "2022-08-02T08:10:13.911Z"
   },
   {
    "duration": 7,
    "start_time": "2022-08-02T08:10:13.951Z"
   },
   {
    "duration": 23,
    "start_time": "2022-08-02T08:10:13.959Z"
   },
   {
    "duration": 20,
    "start_time": "2022-08-02T08:10:13.985Z"
   },
   {
    "duration": 369,
    "start_time": "2022-08-02T08:10:14.007Z"
   },
   {
    "duration": 12,
    "start_time": "2022-08-02T08:10:14.379Z"
   },
   {
    "duration": 28,
    "start_time": "2022-08-02T08:10:14.403Z"
   },
   {
    "duration": 349,
    "start_time": "2022-08-02T08:10:14.433Z"
   },
   {
    "duration": 19,
    "start_time": "2022-08-02T08:10:14.784Z"
   },
   {
    "duration": 12,
    "start_time": "2022-08-02T08:10:14.806Z"
   },
   {
    "duration": 18,
    "start_time": "2022-08-02T08:10:14.820Z"
   },
   {
    "duration": 9,
    "start_time": "2022-08-02T08:10:14.840Z"
   },
   {
    "duration": 14,
    "start_time": "2022-08-02T08:10:14.851Z"
   },
   {
    "duration": 15,
    "start_time": "2022-08-02T08:10:14.867Z"
   },
   {
    "duration": 43,
    "start_time": "2022-08-02T08:10:14.883Z"
   },
   {
    "duration": 20,
    "start_time": "2022-08-02T08:10:14.928Z"
   },
   {
    "duration": 5,
    "start_time": "2022-08-02T08:10:14.950Z"
   },
   {
    "duration": 6,
    "start_time": "2022-08-02T08:10:14.957Z"
   },
   {
    "duration": 5,
    "start_time": "2022-08-02T08:10:14.965Z"
   },
   {
    "duration": 464,
    "start_time": "2022-08-02T08:10:15.001Z"
   },
   {
    "duration": 10,
    "start_time": "2022-08-02T08:10:15.467Z"
   },
   {
    "duration": 24,
    "start_time": "2022-08-02T08:10:15.479Z"
   },
   {
    "duration": 364,
    "start_time": "2022-08-02T08:10:15.504Z"
   },
   {
    "duration": 9,
    "start_time": "2022-08-02T08:10:15.870Z"
   },
   {
    "duration": 24,
    "start_time": "2022-08-02T08:10:15.881Z"
   },
   {
    "duration": 14,
    "start_time": "2022-08-02T08:10:15.908Z"
   },
   {
    "duration": 11,
    "start_time": "2022-08-02T08:10:15.923Z"
   },
   {
    "duration": 17,
    "start_time": "2022-08-02T08:10:15.937Z"
   },
   {
    "duration": 12,
    "start_time": "2022-08-02T08:10:15.956Z"
   },
   {
    "duration": 69,
    "start_time": "2022-08-02T08:10:15.970Z"
   },
   {
    "duration": 390,
    "start_time": "2022-08-02T08:10:16.041Z"
   },
   {
    "duration": 6,
    "start_time": "2022-08-02T08:10:16.433Z"
   },
   {
    "duration": 16,
    "start_time": "2022-08-02T08:10:16.441Z"
   },
   {
    "duration": 11,
    "start_time": "2022-08-02T08:10:16.459Z"
   },
   {
    "duration": 12,
    "start_time": "2022-08-02T08:10:16.472Z"
   },
   {
    "duration": 44,
    "start_time": "2022-08-02T08:10:16.486Z"
   },
   {
    "duration": 11,
    "start_time": "2022-08-02T08:10:16.532Z"
   },
   {
    "duration": 6,
    "start_time": "2022-08-02T08:10:16.545Z"
   },
   {
    "duration": 9,
    "start_time": "2022-08-02T08:10:16.552Z"
   },
   {
    "duration": 6,
    "start_time": "2022-08-02T08:10:16.563Z"
   },
   {
    "duration": 9,
    "start_time": "2022-08-02T08:10:16.571Z"
   },
   {
    "duration": 7,
    "start_time": "2022-08-02T08:10:16.603Z"
   }
  ],
  "kernelspec": {
   "display_name": "Python 3",
   "language": "python",
   "name": "python3"
  },
  "language_info": {
   "codemirror_mode": {
    "name": "ipython",
    "version": 3
   },
   "file_extension": ".py",
   "mimetype": "text/x-python",
   "name": "python",
   "nbconvert_exporter": "python",
   "pygments_lexer": "ipython3",
   "version": "3.8.8"
  },
  "toc": {
   "base_numbering": 1,
   "nav_menu": {},
   "number_sections": true,
   "sideBar": true,
   "skip_h1_title": false,
   "title_cell": "Table of Contents",
   "title_sidebar": "Contents",
   "toc_cell": false,
   "toc_position": {
    "height": "calc(100% - 180px)",
    "left": "10px",
    "top": "150px",
    "width": "374px"
   },
   "toc_section_display": true,
   "toc_window_display": true
  }
 },
 "nbformat": 4,
 "nbformat_minor": 5
}
